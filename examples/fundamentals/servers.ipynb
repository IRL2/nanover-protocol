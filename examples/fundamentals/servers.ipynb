{
 "cells": [
  {
   "cell_type": "markdown",
   "metadata": {},
   "source": [
    "# Narupa Servers"
   ]
  },
  {
   "cell_type": "markdown",
   "metadata": {},
   "source": [
    "In this notebook, we explore what goes into a Narupa server, and how to choose a flavour for a given application.\n",
    "\n",
    "This gets into some of the nuts and bolts of how Narupa works under the hood, including some GRPC details. While understanding GRPC is not necessary, it [will help](grpc.io)."
   ]
  },
  {
   "cell_type": "markdown",
   "metadata": {},
   "source": [
    "## The Server Stack"
   ]
  },
  {
   "cell_type": "markdown",
   "metadata": {},
   "source": [
    "The Narupa libraries have a lot of servers lying around:"
   ]
  },
  {
   "cell_type": "code",
   "execution_count": 1,
   "metadata": {},
   "outputs": [],
   "source": [
    "from narupa.app import NarupaApplicationServer, NarupaFrameApplication, NarupaImdApplication\n",
    "from narupa.core import NarupaServer, GrpcServer\n",
    "from narupa.trajectory import FrameServer\n",
    "from narupa.imd import ImdServer\n",
    "from narupa.multiplayer import MultiplayerServer"
   ]
  },
  {
   "cell_type": "markdown",
   "metadata": {},
   "source": [
    "What do these all do? What should we be using?\n",
    "\n",
    "Let's work our way from the bottom of the stack to the top"
   ]
  },
  {
   "cell_type": "markdown",
   "metadata": {},
   "source": [
    "### GRPC Server"
   ]
  },
  {
   "cell_type": "markdown",
   "metadata": {},
   "source": [
    "It all starts with the Grpc Server, which forms the base of all other servers."
   ]
  },
  {
   "cell_type": "code",
   "execution_count": 2,
   "metadata": {},
   "outputs": [],
   "source": [
    "grpc_server = GrpcServer(address='localhost', port=0)"
   ]
  },
  {
   "cell_type": "markdown",
   "metadata": {},
   "source": [
    "By itself, this server doesn't do much other than set up the underlying [gRPC server](grpc.io) with a few little helpers:"
   ]
  },
  {
   "cell_type": "code",
   "execution_count": 3,
   "metadata": {},
   "outputs": [
    {
     "name": "stdout",
     "output_type": "stream",
     "text": [
      "\n",
      "    A base class for running GRPC servers that handles the starting and closing\n",
      "    of the underlying server.\n",
      "\n",
      "    :param address: The IP address at which to run the server.\n",
      "    :param port: The port on which to run the server.\n",
      "    \n"
     ]
    }
   ],
   "source": [
    "print(grpc_server.__doc__)"
   ]
  },
  {
   "cell_type": "code",
   "execution_count": 4,
   "metadata": {},
   "outputs": [
    {
     "data": {
      "text/plain": [
       "['add_service',\n",
       " 'address',\n",
       " 'address_and_port',\n",
       " 'close',\n",
       " 'logger',\n",
       " 'port',\n",
       " 'server',\n",
       " 'setup_services']"
      ]
     },
     "execution_count": 4,
     "metadata": {},
     "output_type": "execute_result"
    }
   ],
   "source": [
    "[x for x in dir(grpc_server) if not x.startswith('_')]"
   ]
  },
  {
   "cell_type": "markdown",
   "metadata": {},
   "source": [
    "Mainly, it provides a method to gracefully `close`, access to the address and port the server is running on, and the ability to set up new gRPC servers. "
   ]
  },
  {
   "cell_type": "markdown",
   "metadata": {},
   "source": [
    "If you just want to run a GRPC server with a couple of little helpers, this is the one for you."
   ]
  },
  {
   "cell_type": "markdown",
   "metadata": {},
   "source": [
    "In practice, Narupa servers always want commands and state synchronisation, so let's add those. "
   ]
  },
  {
   "cell_type": "code",
   "execution_count": 5,
   "metadata": {},
   "outputs": [],
   "source": [
    "from narupa.command import CommandService\n",
    "from narupa.state.state_service import StateService\n",
    "\n",
    "command_service = CommandService()\n",
    "state_service = StateService()"
   ]
  },
  {
   "cell_type": "markdown",
   "metadata": {},
   "source": [
    "These are the python implementations of the Command and State service. If we add them to the server, it will gain the ability to run commands and synchronise state (see the [commands and state](./commands_and_state.ipynb) notebook)."
   ]
  },
  {
   "cell_type": "code",
   "execution_count": 6,
   "metadata": {},
   "outputs": [],
   "source": [
    "grpc_server.add_service(command_service)\n",
    "grpc_server.add_service(state_service)"
   ]
  },
  {
   "cell_type": "code",
   "execution_count": 7,
   "metadata": {},
   "outputs": [],
   "source": [
    "def hello():\n",
    "    print('hi!')\n",
    "\n",
    "command_service.register_command('hello', hello)"
   ]
  },
  {
   "cell_type": "markdown",
   "metadata": {},
   "source": [
    "Let's check that worked"
   ]
  },
  {
   "cell_type": "code",
   "execution_count": 8,
   "metadata": {},
   "outputs": [
    {
     "name": "stdout",
     "output_type": "stream",
     "text": [
      "hi!\n"
     ]
    }
   ],
   "source": [
    "from narupa.core import NarupaClient\n",
    "\n",
    "with NarupaClient.insecure_channel(address=grpc_server.address, port=grpc_server.port) as client:\n",
    "    client.run_command('hello')"
   ]
  },
  {
   "cell_type": "markdown",
   "metadata": {},
   "source": [
    "Cool! We've just created a functioning Narupa server! If you wanted to write your own GRPC services, you could add them with the same methodology. "
   ]
  },
  {
   "cell_type": "markdown",
   "metadata": {},
   "source": [
    "### Narupa Server"
   ]
  },
  {
   "cell_type": "markdown",
   "metadata": {},
   "source": [
    "Since we almost always want commands and state synchronisation, we've created the Narupa Server object that does exactly that. "
   ]
  },
  {
   "cell_type": "code",
   "execution_count": 9,
   "metadata": {},
   "outputs": [],
   "source": [
    "narupa_server = NarupaServer(address='localhost', port=0)"
   ]
  },
  {
   "cell_type": "code",
   "execution_count": 13,
   "metadata": {},
   "outputs": [
    {
     "name": "stdout",
     "output_type": "stream",
     "text": [
      "\n",
      "    A base for Narupa gRPC servers. Sets up a gRPC server, and automatically\n",
      "    attaches a :class:`CommandService`, enabling the running of arbitrary commands.\n",
      "    \n"
     ]
    }
   ],
   "source": [
    "print(narupa_server.__doc__)"
   ]
  },
  {
   "cell_type": "code",
   "execution_count": 10,
   "metadata": {},
   "outputs": [],
   "source": [
    "narupa_server.register_command('narupa_hello', hello)"
   ]
  },
  {
   "cell_type": "code",
   "execution_count": 11,
   "metadata": {},
   "outputs": [
    {
     "name": "stdout",
     "output_type": "stream",
     "text": [
      "hi!\n"
     ]
    }
   ],
   "source": [
    "with NarupaClient.insecure_channel(address=narupa_server.address, port=narupa_server.port) as client:\n",
    "    client.run_command('narupa_hello')"
   ]
  },
  {
   "cell_type": "markdown",
   "metadata": {},
   "source": [
    "That's the Narupa server, it's just a GRPC server with the command and state service added. "
   ]
  },
  {
   "cell_type": "code",
   "execution_count": null,
   "metadata": {},
   "outputs": [],
   "source": []
  }
 ],
 "metadata": {
  "kernelspec": {
   "display_name": "Python 3",
   "language": "python",
   "name": "python3"
  },
  "language_info": {
   "codemirror_mode": {
    "name": "ipython",
    "version": 3
   },
   "file_extension": ".py",
   "mimetype": "text/x-python",
   "name": "python",
   "nbconvert_exporter": "python",
   "pygments_lexer": "ipython3",
   "version": "3.7.5"
  }
 },
 "nbformat": 4,
 "nbformat_minor": 2
}
