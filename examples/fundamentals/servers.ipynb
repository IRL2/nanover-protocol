{
 "cells": [
  {
   "cell_type": "markdown",
   "metadata": {},
   "source": [
    "# Narupa Servers"
   ]
  },
  {
   "cell_type": "markdown",
   "metadata": {},
   "source": [
    "In this notebook, we explore what goes into a Narupa server, and how to choose a flavour for a given application.\n",
    "\n",
    "This gets into some of the nuts and bolts of how Narupa works under the hood, including some GRPC details. While understanding GRPC is not necessary, it [will help](grpc.io)."
   ]
  },
  {
   "cell_type": "markdown",
   "metadata": {},
   "source": [
    "## The Narupa Server Architecture"
   ]
  },
  {
   "cell_type": "markdown",
   "metadata": {},
   "source": [
    "Narupa uses a client-server model. This means we have some stuff running on a server, and some stuff running on a client, and they talk to eachother. It's exactly how most apps you run on your phone work, and websites:\n",
    "\n",
    "![Narupa Client Server](./images/narupa_client_server.png)\n",
    "\n",
    "In Narupa, the server is in change of setting up, managing and running simulations and models. This could be trajectory serving, interactive molecular dynamics, or minimizing structures produced in the builder. \n",
    "\n",
    "The client is any application that connects to the server. We generally have two types of client, a VR client for viewing and manipulating simulations in VR, and python clients for experimentation and testing. However, our framework is flexible enough that we could have other types of clients, such as web apps."
   ]
  },
  {
   "cell_type": "markdown",
   "metadata": {},
   "source": [
    "### GRPC"
   ]
  },
  {
   "cell_type": "markdown",
   "metadata": {},
   "source": [
    "The clients and the server talk to eachother using [GRPC](grpc.io). GRPC is an application level communication protocol based on the idea of Remote Procedure Call. A client calls *procedures* (methods) on servers *remotely*, and then the server returns the result at some point in the future. GRPC handles all of the details of sending packets over the network for us, letting us focus on building the application. \n",
    "\n",
    "GRPC has a number of features that are good for us: \n",
    "\n",
    "* High performance. \n",
    "* Ability to do streaming (send lots of data from the server) and bidrectional streaming (send lots of data in both directions between client and server). \n",
    "* Works in many languages, including python and C#."
   ]
  },
  {
   "cell_type": "markdown",
   "metadata": {},
   "source": [
    "### GRPC Services"
   ]
  },
  {
   "cell_type": "markdown",
   "metadata": {},
   "source": [
    "In GRPC, we create services that lay out a definition of what a server can do. Combining these services produces an application, for example, the Narupa IMD server uses a TrajectoryService, an IMDService, a MultiplayerService, (and a CommandService and a StateService): \n",
    "\n",
    "![Narupa IMD Application](./images/narupa_imd_server.png)\n",
    "\n",
    "In the above image, we left out the Command service and State service as implicit. \n",
    " \n",
    "Let's look at the Command Service (see [commands notebook](./commands_and_state.ipynb)), which is used in Narupa to run arbitrary commands. The definition is written in a protobuf file.\n",
    "\n",
    "```proto\n",
    "package narupa.protocol.command;\n",
    "\n",
    "service Command {\n",
    "\n",
    "    /* Get a list of all the commands available on this service */\n",
    "    rpc GetCommands (GetCommandsRequest) returns (GetCommandsReply) {}\n",
    "\n",
    "    /* Runs a command on the service */\n",
    "    rpc RunCommand (CommandMessage) returns (CommandReply) {}\n",
    "}\n",
    "\n",
    "message GetCommandsRequest {\n",
    "\n",
    "}\n",
    "\n",
    "message GetCommandsReply{\n",
    "    repeated CommandMessage commands = 1;\n",
    "}\n",
    "\n",
    "message CommandReply {\n",
    "    google.protobuf.Struct result = 1;\n",
    "}\n",
    "\n",
    "message CommandMessage {\n",
    "    string name = 1;\n",
    "    google.protobuf.Struct arguments = 2;\n",
    "}\n",
    "```\n"
   ]
  },
  {
   "cell_type": "markdown",
   "metadata": {},
   "source": [
    "So we've defined a service called `Command`, which has two methods: \n",
    "\n",
    "* `RunCommand` - takes a `CommandMessage`, consisting of a `name` and a dictionary-like Struct of `arguments`, and returns a `CommandReply`, which is contains a dictionary of results. \n",
    "* `GetCommands` - takes a `GetCommandsRequest`, which is an empty message, and returns as `GetCommandsReply` which is a list (`repeated`) of `CommandMessages`. The `CommandMessage`, in turn, consists of a `name`, which tells us the name of the command, and a Struct (a JSON-style dictionary) of default `arguments`. \n"
   ]
  },
  {
   "cell_type": "markdown",
   "metadata": {},
   "source": [
    "To build a server, we take these service definitions and write the code that actually does what this specification says it should do. Then for clients, we just *call* these functions, knowing that they will produce the results we need. "
   ]
  },
  {
   "cell_type": "markdown",
   "metadata": {},
   "source": [
    "## The Server Stack"
   ]
  },
  {
   "cell_type": "markdown",
   "metadata": {},
   "source": [
    "Narupa servers are just a collection of these GRPC services, with some bells and whistles attached."
   ]
  },
  {
   "cell_type": "markdown",
   "metadata": {},
   "source": [
    "The Narupa libraries have a lot of servers lying around:"
   ]
  },
  {
   "cell_type": "code",
   "execution_count": 3,
   "metadata": {},
   "outputs": [],
   "source": [
    "from narupa.app import NarupaApplicationServer, NarupaFrameApplication, NarupaImdApplication\n",
    "from narupa.core import NarupaServer, GrpcServer\n",
    "from narupa.trajectory import FrameServer\n",
    "from narupa.imd import ImdServer\n",
    "from narupa.multiplayer import MultiplayerServer"
   ]
  },
  {
   "cell_type": "markdown",
   "metadata": {},
   "source": [
    "What do these all do? What should we be using?\n",
    "\n",
    "In what follows, we'll work our way up to those high-level application servers, starting from the bottom of the stack and working our way up."
   ]
  },
  {
   "cell_type": "markdown",
   "metadata": {},
   "source": [
    "# TLDR"
   ]
  },
  {
   "cell_type": "markdown",
   "metadata": {},
   "source": [
    "If you want to send Narupa Frames, e.g. trajectory viewing, you probably want the [NarupaFrameApplication](https://narupa.readthedocs.io/en/latest/python/narupa.app.frame_app.html).\n",
    "\n",
    "If you want to set up an interactive molecular dynamics simulation, you probably want the [NarupaImdApplication](https://narupa.readthedocs.io/en/latest/python/narupa.app.imd_app.html)."
   ]
  },
  {
   "cell_type": "markdown",
   "metadata": {},
   "source": [
    "### GRPC Server"
   ]
  },
  {
   "cell_type": "markdown",
   "metadata": {},
   "source": [
    "It all starts with the Grpc Server, which forms the base of all other servers."
   ]
  },
  {
   "cell_type": "code",
   "execution_count": 4,
   "metadata": {},
   "outputs": [],
   "source": [
    "grpc_server = GrpcServer(address='localhost', port=0)"
   ]
  },
  {
   "cell_type": "markdown",
   "metadata": {},
   "source": [
    "By itself, this server doesn't do much other than set up the underlying [gRPC server](grpc.io) with a few little helpers:"
   ]
  },
  {
   "cell_type": "code",
   "execution_count": 5,
   "metadata": {},
   "outputs": [
    {
     "name": "stdout",
     "output_type": "stream",
     "text": [
      "\n",
      "    A base class for running GRPC servers that handles the starting and closing\n",
      "    of the underlying server.\n",
      "\n",
      "    :param address: The IP address at which to run the server.\n",
      "    :param port: The port on which to run the server.\n",
      "    \n"
     ]
    }
   ],
   "source": [
    "print(grpc_server.__doc__)"
   ]
  },
  {
   "cell_type": "code",
   "execution_count": 6,
   "metadata": {},
   "outputs": [
    {
     "data": {
      "text/plain": [
       "['add_service',\n",
       " 'address',\n",
       " 'address_and_port',\n",
       " 'close',\n",
       " 'logger',\n",
       " 'port',\n",
       " 'server',\n",
       " 'setup_services']"
      ]
     },
     "execution_count": 6,
     "metadata": {},
     "output_type": "execute_result"
    }
   ],
   "source": [
    "[x for x in dir(grpc_server) if not x.startswith('_')]"
   ]
  },
  {
   "cell_type": "markdown",
   "metadata": {},
   "source": [
    "Mainly, it provides a method to gracefully close, access to the address and port the server is running on, and the ability to set up new gRPC servers. "
   ]
  },
  {
   "cell_type": "markdown",
   "metadata": {},
   "source": [
    "If you just want to run a GRPC server with a couple of little helpers, this is the one for you."
   ]
  },
  {
   "cell_type": "markdown",
   "metadata": {},
   "source": [
    "In practice, Narupa servers always want commands and state synchronisation, so let's add those. "
   ]
  },
  {
   "cell_type": "code",
   "execution_count": 7,
   "metadata": {},
   "outputs": [],
   "source": [
    "from narupa.command import CommandService\n",
    "from narupa.state.state_service import StateService\n",
    "\n",
    "command_service = CommandService()\n",
    "state_service = StateService()"
   ]
  },
  {
   "cell_type": "markdown",
   "metadata": {},
   "source": [
    "These are the python implementations of the Command and State service. If we add them to the server, it will gain the ability to run commands and synchronise state (see the [commands and state](./commands_and_state.ipynb) notebook)."
   ]
  },
  {
   "cell_type": "code",
   "execution_count": 8,
   "metadata": {},
   "outputs": [],
   "source": [
    "grpc_server.add_service(command_service)\n",
    "grpc_server.add_service(state_service)"
   ]
  },
  {
   "cell_type": "code",
   "execution_count": 9,
   "metadata": {},
   "outputs": [],
   "source": [
    "def hello():\n",
    "    print('hi!')\n",
    "\n",
    "command_service.register_command('hello', hello)"
   ]
  },
  {
   "cell_type": "markdown",
   "metadata": {},
   "source": [
    "Let's check that worked"
   ]
  },
  {
   "cell_type": "code",
   "execution_count": 27,
   "metadata": {},
   "outputs": [
    {
     "ename": "_Rendezvous",
     "evalue": "<_Rendezvous of RPC that terminated with:\n\tstatus = StatusCode.UNAVAILABLE\n\tdetails = \"failed to connect to all addresses\"\n\tdebug_error_string = \"{\"created\":\"@1581610373.629000000\",\"description\":\"Failed to pick subchannel\",\"file\":\"src/core/ext/filters/client_channel/client_channel.cc\",\"file_line\":3934,\"referenced_errors\":[{\"created\":\"@1581610373.629000000\",\"description\":\"failed to connect to all addresses\",\"file\":\"src/core/ext/filters/client_channel/lb_policy/pick_first/pick_first.cc\",\"file_line\":393,\"grpc_status\":14}]}\"\n>",
     "output_type": "error",
     "traceback": [
      "\u001b[1;31m---------------------------------------------------------------------------\u001b[0m",
      "\u001b[1;31m_Rendezvous\u001b[0m                               Traceback (most recent call last)",
      "\u001b[1;32m<ipython-input-27-2c7343185b81>\u001b[0m in \u001b[0;36m<module>\u001b[1;34m\u001b[0m\n\u001b[0;32m      2\u001b[0m \u001b[1;33m\u001b[0m\u001b[0m\n\u001b[0;32m      3\u001b[0m \u001b[1;32mwith\u001b[0m \u001b[0mNarupaClient\u001b[0m\u001b[1;33m.\u001b[0m\u001b[0minsecure_channel\u001b[0m\u001b[1;33m(\u001b[0m\u001b[0maddress\u001b[0m\u001b[1;33m=\u001b[0m\u001b[0mgrpc_server\u001b[0m\u001b[1;33m.\u001b[0m\u001b[0maddress\u001b[0m\u001b[1;33m,\u001b[0m \u001b[0mport\u001b[0m\u001b[1;33m=\u001b[0m\u001b[0mgrpc_server\u001b[0m\u001b[1;33m.\u001b[0m\u001b[0mport\u001b[0m\u001b[1;33m)\u001b[0m \u001b[1;32mas\u001b[0m \u001b[0mclient\u001b[0m\u001b[1;33m:\u001b[0m\u001b[1;33m\u001b[0m\u001b[1;33m\u001b[0m\u001b[0m\n\u001b[1;32m----> 4\u001b[1;33m     \u001b[0mclient\u001b[0m\u001b[1;33m.\u001b[0m\u001b[0mrun_command\u001b[0m\u001b[1;33m(\u001b[0m\u001b[1;34m'hello'\u001b[0m\u001b[1;33m)\u001b[0m\u001b[1;33m\u001b[0m\u001b[1;33m\u001b[0m\u001b[0m\n\u001b[0m",
      "\u001b[1;32mc:\\users\\mike\\code\\narupa\\narupa-protocol\\python-libraries\\narupa-core\\src\\narupa\\core\\narupa_client.py\u001b[0m in \u001b[0;36mrun_command\u001b[1;34m(self, name, **arguments)\u001b[0m\n\u001b[0;32m     71\u001b[0m \u001b[1;33m\u001b[0m\u001b[0m\n\u001b[0;32m     72\u001b[0m         \u001b[0mmessage\u001b[0m \u001b[1;33m=\u001b[0m \u001b[0mCommandMessage\u001b[0m\u001b[1;33m(\u001b[0m\u001b[0mname\u001b[0m\u001b[1;33m=\u001b[0m\u001b[0mname\u001b[0m\u001b[1;33m,\u001b[0m \u001b[0marguments\u001b[0m\u001b[1;33m=\u001b[0m\u001b[0marguments_struct\u001b[0m\u001b[1;33m)\u001b[0m\u001b[1;33m\u001b[0m\u001b[1;33m\u001b[0m\u001b[0m\n\u001b[1;32m---> 73\u001b[1;33m         \u001b[0mresult_message\u001b[0m \u001b[1;33m=\u001b[0m \u001b[0mself\u001b[0m\u001b[1;33m.\u001b[0m\u001b[0m_command_stub\u001b[0m\u001b[1;33m.\u001b[0m\u001b[0mRunCommand\u001b[0m\u001b[1;33m(\u001b[0m\u001b[0mmessage\u001b[0m\u001b[1;33m)\u001b[0m\u001b[1;33m\u001b[0m\u001b[1;33m\u001b[0m\u001b[0m\n\u001b[0m\u001b[0;32m     74\u001b[0m         \u001b[1;32mreturn\u001b[0m \u001b[0mstruct_to_dict\u001b[0m\u001b[1;33m(\u001b[0m\u001b[0mresult_message\u001b[0m\u001b[1;33m.\u001b[0m\u001b[0mresult\u001b[0m\u001b[1;33m)\u001b[0m\u001b[1;33m\u001b[0m\u001b[1;33m\u001b[0m\u001b[0m\n\u001b[0;32m     75\u001b[0m \u001b[1;33m\u001b[0m\u001b[0m\n",
      "\u001b[1;32m~\\Anaconda3\\envs\\grpc\\lib\\site-packages\\grpc\\_channel.py\u001b[0m in \u001b[0;36m__call__\u001b[1;34m(self, request, timeout, metadata, credentials, wait_for_ready, compression)\u001b[0m\n\u001b[0;32m    688\u001b[0m         state, call, = self._blocking(request, timeout, metadata, credentials,\n\u001b[0;32m    689\u001b[0m                                       wait_for_ready, compression)\n\u001b[1;32m--> 690\u001b[1;33m         \u001b[1;32mreturn\u001b[0m \u001b[0m_end_unary_response_blocking\u001b[0m\u001b[1;33m(\u001b[0m\u001b[0mstate\u001b[0m\u001b[1;33m,\u001b[0m \u001b[0mcall\u001b[0m\u001b[1;33m,\u001b[0m \u001b[1;32mFalse\u001b[0m\u001b[1;33m,\u001b[0m \u001b[1;32mNone\u001b[0m\u001b[1;33m)\u001b[0m\u001b[1;33m\u001b[0m\u001b[1;33m\u001b[0m\u001b[0m\n\u001b[0m\u001b[0;32m    691\u001b[0m \u001b[1;33m\u001b[0m\u001b[0m\n\u001b[0;32m    692\u001b[0m     def with_call(self,\n",
      "\u001b[1;32m~\\Anaconda3\\envs\\grpc\\lib\\site-packages\\grpc\\_channel.py\u001b[0m in \u001b[0;36m_end_unary_response_blocking\u001b[1;34m(state, call, with_call, deadline)\u001b[0m\n\u001b[0;32m    590\u001b[0m             \u001b[1;32mreturn\u001b[0m \u001b[0mstate\u001b[0m\u001b[1;33m.\u001b[0m\u001b[0mresponse\u001b[0m\u001b[1;33m\u001b[0m\u001b[1;33m\u001b[0m\u001b[0m\n\u001b[0;32m    591\u001b[0m     \u001b[1;32melse\u001b[0m\u001b[1;33m:\u001b[0m\u001b[1;33m\u001b[0m\u001b[1;33m\u001b[0m\u001b[0m\n\u001b[1;32m--> 592\u001b[1;33m         \u001b[1;32mraise\u001b[0m \u001b[0m_Rendezvous\u001b[0m\u001b[1;33m(\u001b[0m\u001b[0mstate\u001b[0m\u001b[1;33m,\u001b[0m \u001b[1;32mNone\u001b[0m\u001b[1;33m,\u001b[0m \u001b[1;32mNone\u001b[0m\u001b[1;33m,\u001b[0m \u001b[0mdeadline\u001b[0m\u001b[1;33m)\u001b[0m\u001b[1;33m\u001b[0m\u001b[1;33m\u001b[0m\u001b[0m\n\u001b[0m\u001b[0;32m    593\u001b[0m \u001b[1;33m\u001b[0m\u001b[0m\n\u001b[0;32m    594\u001b[0m \u001b[1;33m\u001b[0m\u001b[0m\n",
      "\u001b[1;31m_Rendezvous\u001b[0m: <_Rendezvous of RPC that terminated with:\n\tstatus = StatusCode.UNAVAILABLE\n\tdetails = \"failed to connect to all addresses\"\n\tdebug_error_string = \"{\"created\":\"@1581610373.629000000\",\"description\":\"Failed to pick subchannel\",\"file\":\"src/core/ext/filters/client_channel/client_channel.cc\",\"file_line\":3934,\"referenced_errors\":[{\"created\":\"@1581610373.629000000\",\"description\":\"failed to connect to all addresses\",\"file\":\"src/core/ext/filters/client_channel/lb_policy/pick_first/pick_first.cc\",\"file_line\":393,\"grpc_status\":14}]}\"\n>"
     ]
    }
   ],
   "source": [
    "from narupa.core import NarupaClient\n",
    "\n",
    "with NarupaClient.insecure_channel(address=grpc_server.address, port=grpc_server.port) as client:\n",
    "    client.run_command('hello')"
   ]
  },
  {
   "cell_type": "markdown",
   "metadata": {},
   "source": [
    "Cool! We've just created a functioning Narupa server! If you wanted to write your own GRPC services, you could add them with the same methodology. "
   ]
  },
  {
   "cell_type": "code",
   "execution_count": 10,
   "metadata": {},
   "outputs": [],
   "source": [
    "grpc_server.close()"
   ]
  },
  {
   "cell_type": "markdown",
   "metadata": {},
   "source": [
    "### Narupa Server"
   ]
  },
  {
   "cell_type": "markdown",
   "metadata": {},
   "source": [
    "Since we almost always want commands and state synchronisation, we've created the Narupa Server object that does exactly that. "
   ]
  },
  {
   "cell_type": "code",
   "execution_count": 63,
   "metadata": {},
   "outputs": [],
   "source": [
    "narupa_server = NarupaServer(address='localhost', port=0)"
   ]
  },
  {
   "cell_type": "code",
   "execution_count": 64,
   "metadata": {},
   "outputs": [
    {
     "name": "stdout",
     "output_type": "stream",
     "text": [
      "\n",
      "    A base for Narupa gRPC servers. Sets up a gRPC server, and automatically\n",
      "    attaches a :class:`CommandService` and  :class:`StateService` enabling the running of arbitrary commands\n",
      "    and synchronisation of state.\n",
      "    \n"
     ]
    }
   ],
   "source": [
    "print(narupa_server.__doc__)"
   ]
  },
  {
   "cell_type": "code",
   "execution_count": 65,
   "metadata": {},
   "outputs": [],
   "source": [
    "narupa_server.register_command('narupa_hello', hello)"
   ]
  },
  {
   "cell_type": "code",
   "execution_count": 66,
   "metadata": {},
   "outputs": [
    {
     "name": "stdout",
     "output_type": "stream",
     "text": [
      "hi!\n"
     ]
    }
   ],
   "source": [
    "with NarupaClient.insecure_channel(address=narupa_server.address, port=narupa_server.port) as client:\n",
    "    client.run_command('narupa_hello')"
   ]
  },
  {
   "cell_type": "markdown",
   "metadata": {},
   "source": [
    "That's the Narupa server, it's just a GRPC server with the command and state service added. "
   ]
  },
  {
   "cell_type": "markdown",
   "metadata": {},
   "source": [
    "### Frame Server"
   ]
  },
  {
   "cell_type": "markdown",
   "metadata": {},
   "source": [
    "Most Narupa applications want to transmit some sort of simulation data, i.e. Frames, to clients. For that, we need the frame publishing service. Let's add that to our server:"
   ]
  },
  {
   "cell_type": "code",
   "execution_count": 67,
   "metadata": {},
   "outputs": [],
   "source": [
    "from narupa.trajectory import FramePublisher\n",
    "from narupa.trajectory import FrameData"
   ]
  },
  {
   "cell_type": "code",
   "execution_count": 68,
   "metadata": {},
   "outputs": [],
   "source": [
    "frame_publisher = FramePublisher()"
   ]
  },
  {
   "cell_type": "code",
   "execution_count": 69,
   "metadata": {},
   "outputs": [],
   "source": [
    "narupa_server.add_service(frame_publisher)"
   ]
  },
  {
   "cell_type": "code",
   "execution_count": 70,
   "metadata": {},
   "outputs": [],
   "source": [
    "frame = FrameData()\n",
    "frame.values['hello'] = 'hello'\n",
    "frame_publisher.send_frame(0, frame)"
   ]
  },
  {
   "cell_type": "markdown",
   "metadata": {},
   "source": [
    "Let's check that we can connect and receive frames. The `NarupaImdClient` class is a python client that knows how to receive frames."
   ]
  },
  {
   "cell_type": "code",
   "execution_count": 73,
   "metadata": {},
   "outputs": [
    {
     "name": "stdout",
     "output_type": "stream",
     "text": [
      "values {\n",
      "  key: \"hello\"\n",
      "  value {\n",
      "    string_value: \"hello\"\n",
      "  }\n",
      "}\n",
      "\n"
     ]
    }
   ],
   "source": [
    "from narupa.app import NarupaImdClient\n",
    "import time \n",
    "\n",
    "with NarupaImdClient.connect_to_single_server(address=narupa_server.address, port=narupa_server.port) as client:\n",
    "    client.wait_until_first_frame()\n",
    "    print(client.first_frame)"
   ]
  },
  {
   "cell_type": "code",
   "execution_count": 62,
   "metadata": {},
   "outputs": [],
   "source": [
    "narupa_server.close()"
   ]
  },
  {
   "cell_type": "markdown",
   "metadata": {},
   "source": [
    "This is now a functioning frame server! If we wanted, we could connect to this from VR (if we sent something that looked like a molecule). "
   ]
  },
  {
   "cell_type": "markdown",
   "metadata": {},
   "source": [
    "Since this is common functionality, we wrap this in the `FrameServer`. Similarly, we do the same for multiplayer and IMD with the `MultiplayerServer` and `ImdServer`:"
   ]
  },
  {
   "cell_type": "code",
   "execution_count": 74,
   "metadata": {},
   "outputs": [],
   "source": [
    "from narupa.trajectory import FrameServer"
   ]
  },
  {
   "cell_type": "code",
   "execution_count": 75,
   "metadata": {},
   "outputs": [],
   "source": [
    "frame_server = FrameServer(address='localhost', port=0)"
   ]
  },
  {
   "cell_type": "code",
   "execution_count": 76,
   "metadata": {},
   "outputs": [],
   "source": [
    "frame_server.send_frame(0, frame)"
   ]
  },
  {
   "cell_type": "code",
   "execution_count": 77,
   "metadata": {},
   "outputs": [
    {
     "name": "stdout",
     "output_type": "stream",
     "text": [
      "values {\n",
      "  key: \"hello\"\n",
      "  value {\n",
      "    string_value: \"hello\"\n",
      "  }\n",
      "}\n",
      "\n"
     ]
    }
   ],
   "source": [
    "with NarupaImdClient.connect_to_single_server(address=narupa_server.address, port=narupa_server.port) as client:\n",
    "    client.wait_until_first_frame()\n",
    "    print(client.first_frame)"
   ]
  },
  {
   "cell_type": "markdown",
   "metadata": {},
   "source": [
    "### Multiplayer and Discovery"
   ]
  },
  {
   "cell_type": "markdown",
   "metadata": {},
   "source": [
    "This is good, but what about multiplayer? Also, we have to know the address and port to connect to, how do we add discovery? "
   ]
  },
  {
   "cell_type": "markdown",
   "metadata": {},
   "source": [
    "We could add the multiplayer service manually:"
   ]
  },
  {
   "cell_type": "code",
   "execution_count": 80,
   "metadata": {},
   "outputs": [],
   "source": [
    "from narupa.multiplayer.multiplayer_service import MultiplayerService\n",
    "\n",
    "frame_server.add_service(MultiplayerService())"
   ]
  },
  {
   "cell_type": "markdown",
   "metadata": {},
   "source": [
    "Now, a client can successfully join the multiplayer, and set values:"
   ]
  },
  {
   "cell_type": "code",
   "execution_count": 95,
   "metadata": {},
   "outputs": [
    {
     "name": "stdout",
     "output_type": "stream",
     "text": [
      "{'a': 2.0}\n"
     ]
    }
   ],
   "source": [
    "with NarupaImdClient.connect_to_single_server(address=frame_server.address, port=frame_server.port) as client:\n",
    "    client.join_multiplayer('client A')\n",
    "    client.set_shared_value('a', 2)\n",
    "    with NarupaImdClient.connect_to_single_server(address=frame_server.address, port=frame_server.port) as second_client:\n",
    "        second_client.join_multiplayer('client B')\n",
    "        time.sleep(0.05) # Wait for messages to be received.\n",
    "        print(second_client.latest_multiplayer_values)"
   ]
  },
  {
   "cell_type": "markdown",
   "metadata": {},
   "source": [
    "Likewise, we can manually set up a Discovery server, so our server can be found on the local network. "
   ]
  },
  {
   "cell_type": "code",
   "execution_count": 98,
   "metadata": {},
   "outputs": [],
   "source": [
    "from narupa.essd import DiscoveryServer, ServiceHub, DiscoveryClient"
   ]
  },
  {
   "cell_type": "code",
   "execution_count": 97,
   "metadata": {},
   "outputs": [],
   "source": [
    "discovery_server = DiscoveryServer()"
   ]
  },
  {
   "cell_type": "markdown",
   "metadata": {},
   "source": [
    "We define the service hub, specifying what services are available and which port they are running at."
   ]
  },
  {
   "cell_type": "code",
   "execution_count": 101,
   "metadata": {},
   "outputs": [],
   "source": [
    "service_hub = ServiceHub(name=\"My Frame Server\", address=frame_server.address)\n",
    "service_hub.add_service(\"trajectory\", frame_server.port)\n",
    "service_hub.add_service(\"multiplayer\",frame_server.port)"
   ]
  },
  {
   "cell_type": "code",
   "execution_count": 102,
   "metadata": {},
   "outputs": [],
   "source": [
    "discovery_server.register_service(service_hub)"
   ]
  },
  {
   "cell_type": "markdown",
   "metadata": {},
   "source": [
    "The discovery server will now be broadcasting the existence of the server! Let's search for it:"
   ]
  },
  {
   "cell_type": "code",
   "execution_count": 104,
   "metadata": {},
   "outputs": [],
   "source": [
    "discovery_client = DiscoveryClient()"
   ]
  },
  {
   "cell_type": "code",
   "execution_count": 109,
   "metadata": {},
   "outputs": [
    {
     "name": "stdout",
     "output_type": "stream",
     "text": [
      "[ServiceHub(**{'name': 'My Frame Server', 'address': '127.0.0.1', 'id': '373fbf67-207e-492a-9e59-8133e8aa58b9', 'essd_version': '1.0.0', 'services': {'trajectory': 54982, 'multiplayer': 54982}}),\n",
      " ServiceHub(**{'name': 'Narupa Tinder Server', 'address': '172.23.43.33', 'port': 38801, 'id': 'a8481099-fdd1-4fa5-9fd4-434e07debd2c', 'essd_version': '1.0.0', 'services': {'multiplayer': 38801, 'trajectory': 38801}})]\n"
     ]
    }
   ],
   "source": [
    "import pprint\n",
    "pprint.pprint(list(discovery_client.search_for_services(search_time=1.0)))"
   ]
  },
  {
   "cell_type": "markdown",
   "metadata": {},
   "source": [
    "You may find some other servers that are running on the network, but hopefully your server was found!"
   ]
  },
  {
   "cell_type": "markdown",
   "metadata": {},
   "source": [
    "Now we can use the client's autoconnect functionality (note this may not work if you've got multiple servers on the network):"
   ]
  },
  {
   "cell_type": "code",
   "execution_count": 111,
   "metadata": {},
   "outputs": [
    {
     "name": "stdout",
     "output_type": "stream",
     "text": [
      "values {\n",
      "  key: \"hello\"\n",
      "  value {\n",
      "    string_value: \"hello\"\n",
      "  }\n",
      "}\n",
      "\n"
     ]
    }
   ],
   "source": [
    "with NarupaImdClient.autoconnect() as client:\n",
    "    print(client.first_frame)"
   ]
  },
  {
   "cell_type": "code",
   "execution_count": 114,
   "metadata": {},
   "outputs": [],
   "source": [
    "frame_server.close()"
   ]
  },
  {
   "cell_type": "markdown",
   "metadata": {},
   "source": [
    "## The Application Servers"
   ]
  },
  {
   "cell_type": "markdown",
   "metadata": {},
   "source": [
    "Phew, that was quite a lot of work! Luckily, we have a handy wrapper that does all of that for you, the `NarupaApplicationServer`"
   ]
  },
  {
   "cell_type": "code",
   "execution_count": 113,
   "metadata": {},
   "outputs": [
    {
     "name": "stdout",
     "output_type": "stream",
     "text": [
      "\n",
      "    Provides a convenient Narupa server for typical applications, with local\n",
      "    area network discovery provided by ESSD, multiplayer configuration and a\n",
      "    command service.\n",
      "\n",
      "    Use this a base for building specific applications by inheriting from it\n",
      "    and attaching additional services.\n",
      "    \n"
     ]
    }
   ],
   "source": [
    "print(NarupaApplicationServer.__doc__)"
   ]
  },
  {
   "cell_type": "markdown",
   "metadata": {},
   "source": [
    "The `NarupaFrameApplication` and `NarupaImdApplication` classes inherit from the `NarupaApplicationServer`. The former adds frame support, while the latter adds both frame support and IMD support. Let's try it out."
   ]
  },
  {
   "cell_type": "code",
   "execution_count": 124,
   "metadata": {},
   "outputs": [],
   "source": [
    "imd_app = NarupaImdApplication.basic_server(name=\"My First Narupa Imd App\", port=0)"
   ]
  },
  {
   "cell_type": "code",
   "execution_count": 125,
   "metadata": {},
   "outputs": [
    {
     "data": {
      "text/plain": [
       "['DEFAULT_SERVER_NAME',\n",
       " 'add_service',\n",
       " 'address',\n",
       " 'basic_server',\n",
       " 'close',\n",
       " 'discovery',\n",
       " 'frame_publisher',\n",
       " 'imd',\n",
       " 'name',\n",
       " 'port',\n",
       " 'running_discovery',\n",
       " 'server']"
      ]
     },
     "execution_count": 125,
     "metadata": {},
     "output_type": "execute_result"
    }
   ],
   "source": [
    "[x for x in dir(imd_app) if not x.startswith('_')]"
   ]
  },
  {
   "cell_type": "markdown",
   "metadata": {},
   "source": [
    "If you were writing your own interactive molecular dynamics application, you this is all you need. You can send frames, and you'll receive interactions that you can apply to your MD:"
   ]
  },
  {
   "cell_type": "code",
   "execution_count": 129,
   "metadata": {},
   "outputs": [],
   "source": [
    "imd_app.frame_publisher.send_frame(0, frame)"
   ]
  },
  {
   "cell_type": "code",
   "execution_count": 130,
   "metadata": {},
   "outputs": [
    {
     "data": {
      "text/plain": [
       "{}"
      ]
     },
     "execution_count": 130,
     "metadata": {},
     "output_type": "execute_result"
    }
   ],
   "source": [
    "imd_app.imd.active_interactions"
   ]
  },
  {
   "cell_type": "code",
   "execution_count": null,
   "metadata": {},
   "outputs": [],
   "source": [
    "with NarupaImdClient.autoconnect() as client:\n",
    "    client.start_interaction()"
   ]
  }
 ],
 "metadata": {
  "kernelspec": {
   "display_name": "Python 3",
   "language": "python",
   "name": "python3"
  },
  "language_info": {
   "codemirror_mode": {
    "name": "ipython",
    "version": 3
   },
   "file_extension": ".py",
   "mimetype": "text/x-python",
   "name": "python",
   "nbconvert_exporter": "python",
   "pygments_lexer": "ipython3",
   "version": "3.7.5"
  }
 },
 "nbformat": 4,
 "nbformat_minor": 2
}
