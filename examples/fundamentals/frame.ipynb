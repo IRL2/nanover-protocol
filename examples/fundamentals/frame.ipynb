{
 "cells": [
  {
   "cell_type": "markdown",
   "metadata": {
    "collapsed": true,
    "pycharm": {
     "is_executing": false
    }
   },
   "source": [
    "# Narupa Concepts: Frames\n"
   ]
  },
  {
   "cell_type": "markdown",
   "metadata": {},
   "source": [
    "In this notebook, we'll dig into one of the main ideas in Narupa, the **frame**"
   ]
  },
  {
   "cell_type": "code",
   "execution_count": 1,
   "metadata": {},
   "outputs": [],
   "source": [
    "from mpl_toolkits.mplot3d import Axes3D  # noqa: F401 unused import\n",
    "import matplotlib.pyplot as plt"
   ]
  },
  {
   "cell_type": "code",
   "execution_count": 2,
   "metadata": {},
   "outputs": [],
   "source": [
    "%matplotlib notebook"
   ]
  },
  {
   "cell_type": "markdown",
   "metadata": {},
   "source": [
    "## What is a frame?"
   ]
  },
  {
   "cell_type": "markdown",
   "metadata": {},
   "source": [
    "A frame is our way of representing a molecular system or trajectory in a way that is efficient to send over the network to clients, e.g. the VR app. \n",
    "\n",
    "The schematic illustrates this: a Narupa session produces a Frame Data object, which is serialized and transmitted using [GRPC](https://grpc.io) to client applications.\n",
    "\n",
    "![Narupa Frame](images/frame_server.png)"
   ]
  },
  {
   "cell_type": "markdown",
   "metadata": {},
   "source": [
    "A frame is represented as two dictionaries: one of arrays, and one of values. The arrays are used for sending lists of values of the same type, such as particle positions, while the values are used for transmitting single objects, such as numbers or strings.\n",
    "\n",
    "Let's create a frame for a water molecule. We'll do it by hand."
   ]
  },
  {
   "cell_type": "markdown",
   "metadata": {},
   "source": [
    "### A Note on Narupa Units"
   ]
  },
  {
   "cell_type": "markdown",
   "metadata": {},
   "source": [
    "In Narupa, we use the same units as our favourite MD package, [OpenMM](http://openmm.org/). \n",
    "\n",
    "| Quantity    | Unit              |\n",
    "|-------------|-------------------|\n",
    "| Distance    | nm                |\n",
    "| Time        | ps                |\n",
    "| mass        | atomic mass units |\n",
    "| charge      | proton charge     |\n",
    "| temperature | Kelvin            |\n",
    "| angle       | radians           |\n",
    "| energy      | kJ/mol            |\n",
    "\n",
    "Why? Partially because we use OpenMM a lot, but also, to quote from [the OpenMM documentation](http://docs.openmm.org/latest/userguide/theory.html#units): \n",
    "\n",
    "> These units have the important feature that they form an internally consistent set. For example, a force always has the same units (kJ/mol/nm) whether it is calculated as the gradient of an energy or as the product of a mass and an acceleration. This is not true in some other widely used unit systems, such as those that express energy in kcal/mol.\n",
    "\n",
    "So even though we interface with many packages, such as ASE, Sparrow and LAMMPS, which use different units, we always try to convert back to these units when producing frames."
   ]
  },
  {
   "cell_type": "code",
   "execution_count": 3,
   "metadata": {},
   "outputs": [],
   "source": [
    "import numpy as np"
   ]
  },
  {
   "cell_type": "code",
   "execution_count": 4,
   "metadata": {},
   "outputs": [],
   "source": [
    "# arrange the water molecular O H H \n",
    "water_positions = np.array([[0,0,0],[0.075545, 0.047116, 0.00000], [-0.075545, 0.047116, 0.00000 ]])\n",
    "# elements are defined by their atomic numbers\n",
    "water_elements = [8, 1, 1]\n",
    "# Define bonds between the oxygen and the hydrogens.\n",
    "water_bonds = np.array([[0, 1], [0, 2]])"
   ]
  },
  {
   "cell_type": "code",
   "execution_count": 5,
   "metadata": {
    "scrolled": true
   },
   "outputs": [
    {
     "data": {
      "application/javascript": [
       "/* Put everything inside the global mpl namespace */\n",
       "window.mpl = {};\n",
       "\n",
       "\n",
       "mpl.get_websocket_type = function() {\n",
       "    if (typeof(WebSocket) !== 'undefined') {\n",
       "        return WebSocket;\n",
       "    } else if (typeof(MozWebSocket) !== 'undefined') {\n",
       "        return MozWebSocket;\n",
       "    } else {\n",
       "        alert('Your browser does not have WebSocket support. ' +\n",
       "              'Please try Chrome, Safari or Firefox ≥ 6. ' +\n",
       "              'Firefox 4 and 5 are also supported but you ' +\n",
       "              'have to enable WebSockets in about:config.');\n",
       "    };\n",
       "}\n",
       "\n",
       "mpl.figure = function(figure_id, websocket, ondownload, parent_element) {\n",
       "    this.id = figure_id;\n",
       "\n",
       "    this.ws = websocket;\n",
       "\n",
       "    this.supports_binary = (this.ws.binaryType != undefined);\n",
       "\n",
       "    if (!this.supports_binary) {\n",
       "        var warnings = document.getElementById(\"mpl-warnings\");\n",
       "        if (warnings) {\n",
       "            warnings.style.display = 'block';\n",
       "            warnings.textContent = (\n",
       "                \"This browser does not support binary websocket messages. \" +\n",
       "                    \"Performance may be slow.\");\n",
       "        }\n",
       "    }\n",
       "\n",
       "    this.imageObj = new Image();\n",
       "\n",
       "    this.context = undefined;\n",
       "    this.message = undefined;\n",
       "    this.canvas = undefined;\n",
       "    this.rubberband_canvas = undefined;\n",
       "    this.rubberband_context = undefined;\n",
       "    this.format_dropdown = undefined;\n",
       "\n",
       "    this.image_mode = 'full';\n",
       "\n",
       "    this.root = $('<div/>');\n",
       "    this._root_extra_style(this.root)\n",
       "    this.root.attr('style', 'display: inline-block');\n",
       "\n",
       "    $(parent_element).append(this.root);\n",
       "\n",
       "    this._init_header(this);\n",
       "    this._init_canvas(this);\n",
       "    this._init_toolbar(this);\n",
       "\n",
       "    var fig = this;\n",
       "\n",
       "    this.waiting = false;\n",
       "\n",
       "    this.ws.onopen =  function () {\n",
       "            fig.send_message(\"supports_binary\", {value: fig.supports_binary});\n",
       "            fig.send_message(\"send_image_mode\", {});\n",
       "            if (mpl.ratio != 1) {\n",
       "                fig.send_message(\"set_dpi_ratio\", {'dpi_ratio': mpl.ratio});\n",
       "            }\n",
       "            fig.send_message(\"refresh\", {});\n",
       "        }\n",
       "\n",
       "    this.imageObj.onload = function() {\n",
       "            if (fig.image_mode == 'full') {\n",
       "                // Full images could contain transparency (where diff images\n",
       "                // almost always do), so we need to clear the canvas so that\n",
       "                // there is no ghosting.\n",
       "                fig.context.clearRect(0, 0, fig.canvas.width, fig.canvas.height);\n",
       "            }\n",
       "            fig.context.drawImage(fig.imageObj, 0, 0);\n",
       "        };\n",
       "\n",
       "    this.imageObj.onunload = function() {\n",
       "        fig.ws.close();\n",
       "    }\n",
       "\n",
       "    this.ws.onmessage = this._make_on_message_function(this);\n",
       "\n",
       "    this.ondownload = ondownload;\n",
       "}\n",
       "\n",
       "mpl.figure.prototype._init_header = function() {\n",
       "    var titlebar = $(\n",
       "        '<div class=\"ui-dialog-titlebar ui-widget-header ui-corner-all ' +\n",
       "        'ui-helper-clearfix\"/>');\n",
       "    var titletext = $(\n",
       "        '<div class=\"ui-dialog-title\" style=\"width: 100%; ' +\n",
       "        'text-align: center; padding: 3px;\"/>');\n",
       "    titlebar.append(titletext)\n",
       "    this.root.append(titlebar);\n",
       "    this.header = titletext[0];\n",
       "}\n",
       "\n",
       "\n",
       "\n",
       "mpl.figure.prototype._canvas_extra_style = function(canvas_div) {\n",
       "\n",
       "}\n",
       "\n",
       "\n",
       "mpl.figure.prototype._root_extra_style = function(canvas_div) {\n",
       "\n",
       "}\n",
       "\n",
       "mpl.figure.prototype._init_canvas = function() {\n",
       "    var fig = this;\n",
       "\n",
       "    var canvas_div = $('<div/>');\n",
       "\n",
       "    canvas_div.attr('style', 'position: relative; clear: both; outline: 0');\n",
       "\n",
       "    function canvas_keyboard_event(event) {\n",
       "        return fig.key_event(event, event['data']);\n",
       "    }\n",
       "\n",
       "    canvas_div.keydown('key_press', canvas_keyboard_event);\n",
       "    canvas_div.keyup('key_release', canvas_keyboard_event);\n",
       "    this.canvas_div = canvas_div\n",
       "    this._canvas_extra_style(canvas_div)\n",
       "    this.root.append(canvas_div);\n",
       "\n",
       "    var canvas = $('<canvas/>');\n",
       "    canvas.addClass('mpl-canvas');\n",
       "    canvas.attr('style', \"left: 0; top: 0; z-index: 0; outline: 0\")\n",
       "\n",
       "    this.canvas = canvas[0];\n",
       "    this.context = canvas[0].getContext(\"2d\");\n",
       "\n",
       "    var backingStore = this.context.backingStorePixelRatio ||\n",
       "\tthis.context.webkitBackingStorePixelRatio ||\n",
       "\tthis.context.mozBackingStorePixelRatio ||\n",
       "\tthis.context.msBackingStorePixelRatio ||\n",
       "\tthis.context.oBackingStorePixelRatio ||\n",
       "\tthis.context.backingStorePixelRatio || 1;\n",
       "\n",
       "    mpl.ratio = (window.devicePixelRatio || 1) / backingStore;\n",
       "\n",
       "    var rubberband = $('<canvas/>');\n",
       "    rubberband.attr('style', \"position: absolute; left: 0; top: 0; z-index: 1;\")\n",
       "\n",
       "    var pass_mouse_events = true;\n",
       "\n",
       "    canvas_div.resizable({\n",
       "        start: function(event, ui) {\n",
       "            pass_mouse_events = false;\n",
       "        },\n",
       "        resize: function(event, ui) {\n",
       "            fig.request_resize(ui.size.width, ui.size.height);\n",
       "        },\n",
       "        stop: function(event, ui) {\n",
       "            pass_mouse_events = true;\n",
       "            fig.request_resize(ui.size.width, ui.size.height);\n",
       "        },\n",
       "    });\n",
       "\n",
       "    function mouse_event_fn(event) {\n",
       "        if (pass_mouse_events)\n",
       "            return fig.mouse_event(event, event['data']);\n",
       "    }\n",
       "\n",
       "    rubberband.mousedown('button_press', mouse_event_fn);\n",
       "    rubberband.mouseup('button_release', mouse_event_fn);\n",
       "    // Throttle sequential mouse events to 1 every 20ms.\n",
       "    rubberband.mousemove('motion_notify', mouse_event_fn);\n",
       "\n",
       "    rubberband.mouseenter('figure_enter', mouse_event_fn);\n",
       "    rubberband.mouseleave('figure_leave', mouse_event_fn);\n",
       "\n",
       "    canvas_div.on(\"wheel\", function (event) {\n",
       "        event = event.originalEvent;\n",
       "        event['data'] = 'scroll'\n",
       "        if (event.deltaY < 0) {\n",
       "            event.step = 1;\n",
       "        } else {\n",
       "            event.step = -1;\n",
       "        }\n",
       "        mouse_event_fn(event);\n",
       "    });\n",
       "\n",
       "    canvas_div.append(canvas);\n",
       "    canvas_div.append(rubberband);\n",
       "\n",
       "    this.rubberband = rubberband;\n",
       "    this.rubberband_canvas = rubberband[0];\n",
       "    this.rubberband_context = rubberband[0].getContext(\"2d\");\n",
       "    this.rubberband_context.strokeStyle = \"#000000\";\n",
       "\n",
       "    this._resize_canvas = function(width, height) {\n",
       "        // Keep the size of the canvas, canvas container, and rubber band\n",
       "        // canvas in synch.\n",
       "        canvas_div.css('width', width)\n",
       "        canvas_div.css('height', height)\n",
       "\n",
       "        canvas.attr('width', width * mpl.ratio);\n",
       "        canvas.attr('height', height * mpl.ratio);\n",
       "        canvas.attr('style', 'width: ' + width + 'px; height: ' + height + 'px;');\n",
       "\n",
       "        rubberband.attr('width', width);\n",
       "        rubberband.attr('height', height);\n",
       "    }\n",
       "\n",
       "    // Set the figure to an initial 600x600px, this will subsequently be updated\n",
       "    // upon first draw.\n",
       "    this._resize_canvas(600, 600);\n",
       "\n",
       "    // Disable right mouse context menu.\n",
       "    $(this.rubberband_canvas).bind(\"contextmenu\",function(e){\n",
       "        return false;\n",
       "    });\n",
       "\n",
       "    function set_focus () {\n",
       "        canvas.focus();\n",
       "        canvas_div.focus();\n",
       "    }\n",
       "\n",
       "    window.setTimeout(set_focus, 100);\n",
       "}\n",
       "\n",
       "mpl.figure.prototype._init_toolbar = function() {\n",
       "    var fig = this;\n",
       "\n",
       "    var nav_element = $('<div/>');\n",
       "    nav_element.attr('style', 'width: 100%');\n",
       "    this.root.append(nav_element);\n",
       "\n",
       "    // Define a callback function for later on.\n",
       "    function toolbar_event(event) {\n",
       "        return fig.toolbar_button_onclick(event['data']);\n",
       "    }\n",
       "    function toolbar_mouse_event(event) {\n",
       "        return fig.toolbar_button_onmouseover(event['data']);\n",
       "    }\n",
       "\n",
       "    for(var toolbar_ind in mpl.toolbar_items) {\n",
       "        var name = mpl.toolbar_items[toolbar_ind][0];\n",
       "        var tooltip = mpl.toolbar_items[toolbar_ind][1];\n",
       "        var image = mpl.toolbar_items[toolbar_ind][2];\n",
       "        var method_name = mpl.toolbar_items[toolbar_ind][3];\n",
       "\n",
       "        if (!name) {\n",
       "            // put a spacer in here.\n",
       "            continue;\n",
       "        }\n",
       "        var button = $('<button/>');\n",
       "        button.addClass('ui-button ui-widget ui-state-default ui-corner-all ' +\n",
       "                        'ui-button-icon-only');\n",
       "        button.attr('role', 'button');\n",
       "        button.attr('aria-disabled', 'false');\n",
       "        button.click(method_name, toolbar_event);\n",
       "        button.mouseover(tooltip, toolbar_mouse_event);\n",
       "\n",
       "        var icon_img = $('<span/>');\n",
       "        icon_img.addClass('ui-button-icon-primary ui-icon');\n",
       "        icon_img.addClass(image);\n",
       "        icon_img.addClass('ui-corner-all');\n",
       "\n",
       "        var tooltip_span = $('<span/>');\n",
       "        tooltip_span.addClass('ui-button-text');\n",
       "        tooltip_span.html(tooltip);\n",
       "\n",
       "        button.append(icon_img);\n",
       "        button.append(tooltip_span);\n",
       "\n",
       "        nav_element.append(button);\n",
       "    }\n",
       "\n",
       "    var fmt_picker_span = $('<span/>');\n",
       "\n",
       "    var fmt_picker = $('<select/>');\n",
       "    fmt_picker.addClass('mpl-toolbar-option ui-widget ui-widget-content');\n",
       "    fmt_picker_span.append(fmt_picker);\n",
       "    nav_element.append(fmt_picker_span);\n",
       "    this.format_dropdown = fmt_picker[0];\n",
       "\n",
       "    for (var ind in mpl.extensions) {\n",
       "        var fmt = mpl.extensions[ind];\n",
       "        var option = $(\n",
       "            '<option/>', {selected: fmt === mpl.default_extension}).html(fmt);\n",
       "        fmt_picker.append(option);\n",
       "    }\n",
       "\n",
       "    // Add hover states to the ui-buttons\n",
       "    $( \".ui-button\" ).hover(\n",
       "        function() { $(this).addClass(\"ui-state-hover\");},\n",
       "        function() { $(this).removeClass(\"ui-state-hover\");}\n",
       "    );\n",
       "\n",
       "    var status_bar = $('<span class=\"mpl-message\"/>');\n",
       "    nav_element.append(status_bar);\n",
       "    this.message = status_bar[0];\n",
       "}\n",
       "\n",
       "mpl.figure.prototype.request_resize = function(x_pixels, y_pixels) {\n",
       "    // Request matplotlib to resize the figure. Matplotlib will then trigger a resize in the client,\n",
       "    // which will in turn request a refresh of the image.\n",
       "    this.send_message('resize', {'width': x_pixels, 'height': y_pixels});\n",
       "}\n",
       "\n",
       "mpl.figure.prototype.send_message = function(type, properties) {\n",
       "    properties['type'] = type;\n",
       "    properties['figure_id'] = this.id;\n",
       "    this.ws.send(JSON.stringify(properties));\n",
       "}\n",
       "\n",
       "mpl.figure.prototype.send_draw_message = function() {\n",
       "    if (!this.waiting) {\n",
       "        this.waiting = true;\n",
       "        this.ws.send(JSON.stringify({type: \"draw\", figure_id: this.id}));\n",
       "    }\n",
       "}\n",
       "\n",
       "\n",
       "mpl.figure.prototype.handle_save = function(fig, msg) {\n",
       "    var format_dropdown = fig.format_dropdown;\n",
       "    var format = format_dropdown.options[format_dropdown.selectedIndex].value;\n",
       "    fig.ondownload(fig, format);\n",
       "}\n",
       "\n",
       "\n",
       "mpl.figure.prototype.handle_resize = function(fig, msg) {\n",
       "    var size = msg['size'];\n",
       "    if (size[0] != fig.canvas.width || size[1] != fig.canvas.height) {\n",
       "        fig._resize_canvas(size[0], size[1]);\n",
       "        fig.send_message(\"refresh\", {});\n",
       "    };\n",
       "}\n",
       "\n",
       "mpl.figure.prototype.handle_rubberband = function(fig, msg) {\n",
       "    var x0 = msg['x0'] / mpl.ratio;\n",
       "    var y0 = (fig.canvas.height - msg['y0']) / mpl.ratio;\n",
       "    var x1 = msg['x1'] / mpl.ratio;\n",
       "    var y1 = (fig.canvas.height - msg['y1']) / mpl.ratio;\n",
       "    x0 = Math.floor(x0) + 0.5;\n",
       "    y0 = Math.floor(y0) + 0.5;\n",
       "    x1 = Math.floor(x1) + 0.5;\n",
       "    y1 = Math.floor(y1) + 0.5;\n",
       "    var min_x = Math.min(x0, x1);\n",
       "    var min_y = Math.min(y0, y1);\n",
       "    var width = Math.abs(x1 - x0);\n",
       "    var height = Math.abs(y1 - y0);\n",
       "\n",
       "    fig.rubberband_context.clearRect(\n",
       "        0, 0, fig.canvas.width / mpl.ratio, fig.canvas.height / mpl.ratio);\n",
       "\n",
       "    fig.rubberband_context.strokeRect(min_x, min_y, width, height);\n",
       "}\n",
       "\n",
       "mpl.figure.prototype.handle_figure_label = function(fig, msg) {\n",
       "    // Updates the figure title.\n",
       "    fig.header.textContent = msg['label'];\n",
       "}\n",
       "\n",
       "mpl.figure.prototype.handle_cursor = function(fig, msg) {\n",
       "    var cursor = msg['cursor'];\n",
       "    switch(cursor)\n",
       "    {\n",
       "    case 0:\n",
       "        cursor = 'pointer';\n",
       "        break;\n",
       "    case 1:\n",
       "        cursor = 'default';\n",
       "        break;\n",
       "    case 2:\n",
       "        cursor = 'crosshair';\n",
       "        break;\n",
       "    case 3:\n",
       "        cursor = 'move';\n",
       "        break;\n",
       "    }\n",
       "    fig.rubberband_canvas.style.cursor = cursor;\n",
       "}\n",
       "\n",
       "mpl.figure.prototype.handle_message = function(fig, msg) {\n",
       "    fig.message.textContent = msg['message'];\n",
       "}\n",
       "\n",
       "mpl.figure.prototype.handle_draw = function(fig, msg) {\n",
       "    // Request the server to send over a new figure.\n",
       "    fig.send_draw_message();\n",
       "}\n",
       "\n",
       "mpl.figure.prototype.handle_image_mode = function(fig, msg) {\n",
       "    fig.image_mode = msg['mode'];\n",
       "}\n",
       "\n",
       "mpl.figure.prototype.updated_canvas_event = function() {\n",
       "    // Called whenever the canvas gets updated.\n",
       "    this.send_message(\"ack\", {});\n",
       "}\n",
       "\n",
       "// A function to construct a web socket function for onmessage handling.\n",
       "// Called in the figure constructor.\n",
       "mpl.figure.prototype._make_on_message_function = function(fig) {\n",
       "    return function socket_on_message(evt) {\n",
       "        if (evt.data instanceof Blob) {\n",
       "            /* FIXME: We get \"Resource interpreted as Image but\n",
       "             * transferred with MIME type text/plain:\" errors on\n",
       "             * Chrome.  But how to set the MIME type?  It doesn't seem\n",
       "             * to be part of the websocket stream */\n",
       "            evt.data.type = \"image/png\";\n",
       "\n",
       "            /* Free the memory for the previous frames */\n",
       "            if (fig.imageObj.src) {\n",
       "                (window.URL || window.webkitURL).revokeObjectURL(\n",
       "                    fig.imageObj.src);\n",
       "            }\n",
       "\n",
       "            fig.imageObj.src = (window.URL || window.webkitURL).createObjectURL(\n",
       "                evt.data);\n",
       "            fig.updated_canvas_event();\n",
       "            fig.waiting = false;\n",
       "            return;\n",
       "        }\n",
       "        else if (typeof evt.data === 'string' && evt.data.slice(0, 21) == \"data:image/png;base64\") {\n",
       "            fig.imageObj.src = evt.data;\n",
       "            fig.updated_canvas_event();\n",
       "            fig.waiting = false;\n",
       "            return;\n",
       "        }\n",
       "\n",
       "        var msg = JSON.parse(evt.data);\n",
       "        var msg_type = msg['type'];\n",
       "\n",
       "        // Call the  \"handle_{type}\" callback, which takes\n",
       "        // the figure and JSON message as its only arguments.\n",
       "        try {\n",
       "            var callback = fig[\"handle_\" + msg_type];\n",
       "        } catch (e) {\n",
       "            console.log(\"No handler for the '\" + msg_type + \"' message type: \", msg);\n",
       "            return;\n",
       "        }\n",
       "\n",
       "        if (callback) {\n",
       "            try {\n",
       "                // console.log(\"Handling '\" + msg_type + \"' message: \", msg);\n",
       "                callback(fig, msg);\n",
       "            } catch (e) {\n",
       "                console.log(\"Exception inside the 'handler_\" + msg_type + \"' callback:\", e, e.stack, msg);\n",
       "            }\n",
       "        }\n",
       "    };\n",
       "}\n",
       "\n",
       "// from http://stackoverflow.com/questions/1114465/getting-mouse-location-in-canvas\n",
       "mpl.findpos = function(e) {\n",
       "    //this section is from http://www.quirksmode.org/js/events_properties.html\n",
       "    var targ;\n",
       "    if (!e)\n",
       "        e = window.event;\n",
       "    if (e.target)\n",
       "        targ = e.target;\n",
       "    else if (e.srcElement)\n",
       "        targ = e.srcElement;\n",
       "    if (targ.nodeType == 3) // defeat Safari bug\n",
       "        targ = targ.parentNode;\n",
       "\n",
       "    // jQuery normalizes the pageX and pageY\n",
       "    // pageX,Y are the mouse positions relative to the document\n",
       "    // offset() returns the position of the element relative to the document\n",
       "    var x = e.pageX - $(targ).offset().left;\n",
       "    var y = e.pageY - $(targ).offset().top;\n",
       "\n",
       "    return {\"x\": x, \"y\": y};\n",
       "};\n",
       "\n",
       "/*\n",
       " * return a copy of an object with only non-object keys\n",
       " * we need this to avoid circular references\n",
       " * http://stackoverflow.com/a/24161582/3208463\n",
       " */\n",
       "function simpleKeys (original) {\n",
       "  return Object.keys(original).reduce(function (obj, key) {\n",
       "    if (typeof original[key] !== 'object')\n",
       "        obj[key] = original[key]\n",
       "    return obj;\n",
       "  }, {});\n",
       "}\n",
       "\n",
       "mpl.figure.prototype.mouse_event = function(event, name) {\n",
       "    var canvas_pos = mpl.findpos(event)\n",
       "\n",
       "    if (name === 'button_press')\n",
       "    {\n",
       "        this.canvas.focus();\n",
       "        this.canvas_div.focus();\n",
       "    }\n",
       "\n",
       "    var x = canvas_pos.x * mpl.ratio;\n",
       "    var y = canvas_pos.y * mpl.ratio;\n",
       "\n",
       "    this.send_message(name, {x: x, y: y, button: event.button,\n",
       "                             step: event.step,\n",
       "                             guiEvent: simpleKeys(event)});\n",
       "\n",
       "    /* This prevents the web browser from automatically changing to\n",
       "     * the text insertion cursor when the button is pressed.  We want\n",
       "     * to control all of the cursor setting manually through the\n",
       "     * 'cursor' event from matplotlib */\n",
       "    event.preventDefault();\n",
       "    return false;\n",
       "}\n",
       "\n",
       "mpl.figure.prototype._key_event_extra = function(event, name) {\n",
       "    // Handle any extra behaviour associated with a key event\n",
       "}\n",
       "\n",
       "mpl.figure.prototype.key_event = function(event, name) {\n",
       "\n",
       "    // Prevent repeat events\n",
       "    if (name == 'key_press')\n",
       "    {\n",
       "        if (event.which === this._key)\n",
       "            return;\n",
       "        else\n",
       "            this._key = event.which;\n",
       "    }\n",
       "    if (name == 'key_release')\n",
       "        this._key = null;\n",
       "\n",
       "    var value = '';\n",
       "    if (event.ctrlKey && event.which != 17)\n",
       "        value += \"ctrl+\";\n",
       "    if (event.altKey && event.which != 18)\n",
       "        value += \"alt+\";\n",
       "    if (event.shiftKey && event.which != 16)\n",
       "        value += \"shift+\";\n",
       "\n",
       "    value += 'k';\n",
       "    value += event.which.toString();\n",
       "\n",
       "    this._key_event_extra(event, name);\n",
       "\n",
       "    this.send_message(name, {key: value,\n",
       "                             guiEvent: simpleKeys(event)});\n",
       "    return false;\n",
       "}\n",
       "\n",
       "mpl.figure.prototype.toolbar_button_onclick = function(name) {\n",
       "    if (name == 'download') {\n",
       "        this.handle_save(this, null);\n",
       "    } else {\n",
       "        this.send_message(\"toolbar_button\", {name: name});\n",
       "    }\n",
       "};\n",
       "\n",
       "mpl.figure.prototype.toolbar_button_onmouseover = function(tooltip) {\n",
       "    this.message.textContent = tooltip;\n",
       "};\n",
       "mpl.toolbar_items = [[\"Home\", \"Reset original view\", \"fa fa-home icon-home\", \"home\"], [\"Back\", \"Back to previous view\", \"fa fa-arrow-left icon-arrow-left\", \"back\"], [\"Forward\", \"Forward to next view\", \"fa fa-arrow-right icon-arrow-right\", \"forward\"], [\"\", \"\", \"\", \"\"], [\"Pan\", \"Pan axes with left mouse, zoom with right\", \"fa fa-arrows icon-move\", \"pan\"], [\"Zoom\", \"Zoom to rectangle\", \"fa fa-square-o icon-check-empty\", \"zoom\"], [\"\", \"\", \"\", \"\"], [\"Download\", \"Download plot\", \"fa fa-floppy-o icon-save\", \"download\"]];\n",
       "\n",
       "mpl.extensions = [\"eps\", \"pdf\", \"png\", \"ps\", \"raw\", \"svg\"];\n",
       "\n",
       "mpl.default_extension = \"png\";var comm_websocket_adapter = function(comm) {\n",
       "    // Create a \"websocket\"-like object which calls the given IPython comm\n",
       "    // object with the appropriate methods. Currently this is a non binary\n",
       "    // socket, so there is still some room for performance tuning.\n",
       "    var ws = {};\n",
       "\n",
       "    ws.close = function() {\n",
       "        comm.close()\n",
       "    };\n",
       "    ws.send = function(m) {\n",
       "        //console.log('sending', m);\n",
       "        comm.send(m);\n",
       "    };\n",
       "    // Register the callback with on_msg.\n",
       "    comm.on_msg(function(msg) {\n",
       "        //console.log('receiving', msg['content']['data'], msg);\n",
       "        // Pass the mpl event to the overridden (by mpl) onmessage function.\n",
       "        ws.onmessage(msg['content']['data'])\n",
       "    });\n",
       "    return ws;\n",
       "}\n",
       "\n",
       "mpl.mpl_figure_comm = function(comm, msg) {\n",
       "    // This is the function which gets called when the mpl process\n",
       "    // starts-up an IPython Comm through the \"matplotlib\" channel.\n",
       "\n",
       "    var id = msg.content.data.id;\n",
       "    // Get hold of the div created by the display call when the Comm\n",
       "    // socket was opened in Python.\n",
       "    var element = $(\"#\" + id);\n",
       "    var ws_proxy = comm_websocket_adapter(comm)\n",
       "\n",
       "    function ondownload(figure, format) {\n",
       "        window.open(figure.imageObj.src);\n",
       "    }\n",
       "\n",
       "    var fig = new mpl.figure(id, ws_proxy,\n",
       "                           ondownload,\n",
       "                           element.get(0));\n",
       "\n",
       "    // Call onopen now - mpl needs it, as it is assuming we've passed it a real\n",
       "    // web socket which is closed, not our websocket->open comm proxy.\n",
       "    ws_proxy.onopen();\n",
       "\n",
       "    fig.parent_element = element.get(0);\n",
       "    fig.cell_info = mpl.find_output_cell(\"<div id='\" + id + \"'></div>\");\n",
       "    if (!fig.cell_info) {\n",
       "        console.error(\"Failed to find cell for figure\", id, fig);\n",
       "        return;\n",
       "    }\n",
       "\n",
       "    var output_index = fig.cell_info[2]\n",
       "    var cell = fig.cell_info[0];\n",
       "\n",
       "};\n",
       "\n",
       "mpl.figure.prototype.handle_close = function(fig, msg) {\n",
       "    var width = fig.canvas.width/mpl.ratio\n",
       "    fig.root.unbind('remove')\n",
       "\n",
       "    // Update the output cell to use the data from the current canvas.\n",
       "    fig.push_to_output();\n",
       "    var dataURL = fig.canvas.toDataURL();\n",
       "    // Re-enable the keyboard manager in IPython - without this line, in FF,\n",
       "    // the notebook keyboard shortcuts fail.\n",
       "    IPython.keyboard_manager.enable()\n",
       "    $(fig.parent_element).html('<img src=\"' + dataURL + '\" width=\"' + width + '\">');\n",
       "    fig.close_ws(fig, msg);\n",
       "}\n",
       "\n",
       "mpl.figure.prototype.close_ws = function(fig, msg){\n",
       "    fig.send_message('closing', msg);\n",
       "    // fig.ws.close()\n",
       "}\n",
       "\n",
       "mpl.figure.prototype.push_to_output = function(remove_interactive) {\n",
       "    // Turn the data on the canvas into data in the output cell.\n",
       "    var width = this.canvas.width/mpl.ratio\n",
       "    var dataURL = this.canvas.toDataURL();\n",
       "    this.cell_info[1]['text/html'] = '<img src=\"' + dataURL + '\" width=\"' + width + '\">';\n",
       "}\n",
       "\n",
       "mpl.figure.prototype.updated_canvas_event = function() {\n",
       "    // Tell IPython that the notebook contents must change.\n",
       "    IPython.notebook.set_dirty(true);\n",
       "    this.send_message(\"ack\", {});\n",
       "    var fig = this;\n",
       "    // Wait a second, then push the new image to the DOM so\n",
       "    // that it is saved nicely (might be nice to debounce this).\n",
       "    setTimeout(function () { fig.push_to_output() }, 1000);\n",
       "}\n",
       "\n",
       "mpl.figure.prototype._init_toolbar = function() {\n",
       "    var fig = this;\n",
       "\n",
       "    var nav_element = $('<div/>');\n",
       "    nav_element.attr('style', 'width: 100%');\n",
       "    this.root.append(nav_element);\n",
       "\n",
       "    // Define a callback function for later on.\n",
       "    function toolbar_event(event) {\n",
       "        return fig.toolbar_button_onclick(event['data']);\n",
       "    }\n",
       "    function toolbar_mouse_event(event) {\n",
       "        return fig.toolbar_button_onmouseover(event['data']);\n",
       "    }\n",
       "\n",
       "    for(var toolbar_ind in mpl.toolbar_items){\n",
       "        var name = mpl.toolbar_items[toolbar_ind][0];\n",
       "        var tooltip = mpl.toolbar_items[toolbar_ind][1];\n",
       "        var image = mpl.toolbar_items[toolbar_ind][2];\n",
       "        var method_name = mpl.toolbar_items[toolbar_ind][3];\n",
       "\n",
       "        if (!name) { continue; };\n",
       "\n",
       "        var button = $('<button class=\"btn btn-default\" href=\"#\" title=\"' + name + '\"><i class=\"fa ' + image + ' fa-lg\"></i></button>');\n",
       "        button.click(method_name, toolbar_event);\n",
       "        button.mouseover(tooltip, toolbar_mouse_event);\n",
       "        nav_element.append(button);\n",
       "    }\n",
       "\n",
       "    // Add the status bar.\n",
       "    var status_bar = $('<span class=\"mpl-message\" style=\"text-align:right; float: right;\"/>');\n",
       "    nav_element.append(status_bar);\n",
       "    this.message = status_bar[0];\n",
       "\n",
       "    // Add the close button to the window.\n",
       "    var buttongrp = $('<div class=\"btn-group inline pull-right\"></div>');\n",
       "    var button = $('<button class=\"btn btn-mini btn-primary\" href=\"#\" title=\"Stop Interaction\"><i class=\"fa fa-power-off icon-remove icon-large\"></i></button>');\n",
       "    button.click(function (evt) { fig.handle_close(fig, {}); } );\n",
       "    button.mouseover('Stop Interaction', toolbar_mouse_event);\n",
       "    buttongrp.append(button);\n",
       "    var titlebar = this.root.find($('.ui-dialog-titlebar'));\n",
       "    titlebar.prepend(buttongrp);\n",
       "}\n",
       "\n",
       "mpl.figure.prototype._root_extra_style = function(el){\n",
       "    var fig = this\n",
       "    el.on(\"remove\", function(){\n",
       "\tfig.close_ws(fig, {});\n",
       "    });\n",
       "}\n",
       "\n",
       "mpl.figure.prototype._canvas_extra_style = function(el){\n",
       "    // this is important to make the div 'focusable\n",
       "    el.attr('tabindex', 0)\n",
       "    // reach out to IPython and tell the keyboard manager to turn it's self\n",
       "    // off when our div gets focus\n",
       "\n",
       "    // location in version 3\n",
       "    if (IPython.notebook.keyboard_manager) {\n",
       "        IPython.notebook.keyboard_manager.register_events(el);\n",
       "    }\n",
       "    else {\n",
       "        // location in version 2\n",
       "        IPython.keyboard_manager.register_events(el);\n",
       "    }\n",
       "\n",
       "}\n",
       "\n",
       "mpl.figure.prototype._key_event_extra = function(event, name) {\n",
       "    var manager = IPython.notebook.keyboard_manager;\n",
       "    if (!manager)\n",
       "        manager = IPython.keyboard_manager;\n",
       "\n",
       "    // Check for shift+enter\n",
       "    if (event.shiftKey && event.which == 13) {\n",
       "        this.canvas_div.blur();\n",
       "        // select the cell after this one\n",
       "        var index = IPython.notebook.find_cell_index(this.cell_info[0]);\n",
       "        IPython.notebook.select(index + 1);\n",
       "    }\n",
       "}\n",
       "\n",
       "mpl.figure.prototype.handle_save = function(fig, msg) {\n",
       "    fig.ondownload(fig, null);\n",
       "}\n",
       "\n",
       "\n",
       "mpl.find_output_cell = function(html_output) {\n",
       "    // Return the cell and output element which can be found *uniquely* in the notebook.\n",
       "    // Note - this is a bit hacky, but it is done because the \"notebook_saving.Notebook\"\n",
       "    // IPython event is triggered only after the cells have been serialised, which for\n",
       "    // our purposes (turning an active figure into a static one), is too late.\n",
       "    var cells = IPython.notebook.get_cells();\n",
       "    var ncells = cells.length;\n",
       "    for (var i=0; i<ncells; i++) {\n",
       "        var cell = cells[i];\n",
       "        if (cell.cell_type === 'code'){\n",
       "            for (var j=0; j<cell.output_area.outputs.length; j++) {\n",
       "                var data = cell.output_area.outputs[j];\n",
       "                if (data.data) {\n",
       "                    // IPython >= 3 moved mimebundle to data attribute of output\n",
       "                    data = data.data;\n",
       "                }\n",
       "                if (data['text/html'] == html_output) {\n",
       "                    return [cell, data, j];\n",
       "                }\n",
       "            }\n",
       "        }\n",
       "    }\n",
       "}\n",
       "\n",
       "// Register the function which deals with the matplotlib target/channel.\n",
       "// The kernel may be null if the page has been refreshed.\n",
       "if (IPython.notebook.kernel != null) {\n",
       "    IPython.notebook.kernel.comm_manager.register_target('matplotlib', mpl.mpl_figure_comm);\n",
       "}\n"
      ],
      "text/plain": [
       "<IPython.core.display.Javascript object>"
      ]
     },
     "metadata": {},
     "output_type": "display_data"
    },
    {
     "data": {
      "text/html": [
       "<img src=\"data:image/png;base64,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\" width=\"640\">"
      ],
      "text/plain": [
       "<IPython.core.display.HTML object>"
      ]
     },
     "metadata": {},
     "output_type": "display_data"
    },
    {
     "data": {
      "text/plain": [
       "Text(0.5, 0, 'Z')"
      ]
     },
     "execution_count": 5,
     "metadata": {},
     "output_type": "execute_result"
    }
   ],
   "source": [
    "fig = plt.figure()\n",
    "ax = fig.add_subplot(111, projection='3d')\n",
    "\n",
    "ax.scatter(water_positions[:,0], water_positions[:,1], water_positions[:,2], c=['red','gray','gray'], s=[3000, 1100, 1100])\n",
    "ax.grid(b=False)\n",
    "ax.set_xlabel('X')\n",
    "ax.set_ylabel('Y')\n",
    "ax.set_zlabel('Z')\n"
   ]
  },
  {
   "cell_type": "markdown",
   "metadata": {},
   "source": [
    "Now, we create an empty frame and put all of this data in by accessing the appropriate storage (arrays or values) and assigning a key."
   ]
  },
  {
   "cell_type": "code",
   "execution_count": 6,
   "metadata": {},
   "outputs": [],
   "source": [
    "from narupa.trajectory import FrameData"
   ]
  },
  {
   "cell_type": "code",
   "execution_count": 7,
   "metadata": {},
   "outputs": [],
   "source": [
    "frame = FrameData()"
   ]
  },
  {
   "cell_type": "code",
   "execution_count": 8,
   "metadata": {},
   "outputs": [],
   "source": [
    "frame.arrays['particle.positions'] = water_positions.flatten() # We have to store as a flat array.\n",
    "frame.arrays['particle.elements'] = water_elements\n",
    "frame.arrays['bond.pairs'] = water_bonds.flatten()"
   ]
  },
  {
   "cell_type": "code",
   "execution_count": 9,
   "metadata": {},
   "outputs": [],
   "source": [
    "frame.values['particle.count'] = 3"
   ]
  },
  {
   "cell_type": "markdown",
   "metadata": {},
   "source": [
    "Let's print out the frame, how this looks when communicated to clients. It's just two dictionaries, one with values, one with arrays."
   ]
  },
  {
   "cell_type": "code",
   "execution_count": 10,
   "metadata": {},
   "outputs": [
    {
     "data": {
      "text/plain": [
       "values {\n",
       "  key: \"particle.count\"\n",
       "  value {\n",
       "    number_value: 3.0\n",
       "  }\n",
       "}\n",
       "arrays {\n",
       "  key: \"bond.pairs\"\n",
       "  value {\n",
       "    index_values {\n",
       "      values: 0\n",
       "      values: 1\n",
       "      values: 0\n",
       "      values: 2\n",
       "    }\n",
       "  }\n",
       "}\n",
       "arrays {\n",
       "  key: \"particle.elements\"\n",
       "  value {\n",
       "    index_values {\n",
       "      values: 8\n",
       "      values: 1\n",
       "      values: 1\n",
       "    }\n",
       "  }\n",
       "}\n",
       "arrays {\n",
       "  key: \"particle.positions\"\n",
       "  value {\n",
       "    float_values {\n",
       "      values: 0.0\n",
       "      values: 0.0\n",
       "      values: 0.0\n",
       "      values: 0.07554499804973602\n",
       "      values: 0.0471160002052784\n",
       "      values: 0.0\n",
       "      values: -0.07554499804973602\n",
       "      values: 0.0471160002052784\n",
       "      values: 0.0\n",
       "    }\n",
       "  }\n",
       "}"
      ]
     },
     "execution_count": 10,
     "metadata": {},
     "output_type": "execute_result"
    }
   ],
   "source": [
    "frame.raw"
   ]
  },
  {
   "cell_type": "markdown",
   "metadata": {},
   "source": [
    "To make things easier to use, the python wrapper has shortcuts for common molecular properties:"
   ]
  },
  {
   "cell_type": "code",
   "execution_count": 11,
   "metadata": {},
   "outputs": [
    {
     "data": {
      "text/plain": [
       "{'bond_orders',\n",
       " 'bond_pairs',\n",
       " 'box_vectors',\n",
       " 'chain_count',\n",
       " 'chain_names',\n",
       " 'kinetic_energy',\n",
       " 'particle_count',\n",
       " 'particle_elements',\n",
       " 'particle_names',\n",
       " 'particle_positions',\n",
       " 'particle_residues',\n",
       " 'particle_types',\n",
       " 'potential_energy',\n",
       " 'residue_chains',\n",
       " 'residue_count',\n",
       " 'residue_ids',\n",
       " 'residue_names'}"
      ]
     },
     "execution_count": 11,
     "metadata": {},
     "output_type": "execute_result"
    }
   ],
   "source": [
    "frame.shortcuts"
   ]
  },
  {
   "cell_type": "markdown",
   "metadata": {},
   "source": [
    "So we can see what keys have been set: "
   ]
  },
  {
   "cell_type": "code",
   "execution_count": 12,
   "metadata": {},
   "outputs": [
    {
     "data": {
      "text/plain": [
       "{'bond.pairs', 'particle.elements', 'particle.positions'}"
      ]
     },
     "execution_count": 12,
     "metadata": {},
     "output_type": "execute_result"
    }
   ],
   "source": [
    "frame.array_keys"
   ]
  },
  {
   "cell_type": "code",
   "execution_count": 13,
   "metadata": {},
   "outputs": [
    {
     "data": {
      "text/plain": [
       "{'particle.count'}"
      ]
     },
     "execution_count": 13,
     "metadata": {},
     "output_type": "execute_result"
    }
   ],
   "source": [
    "frame.value_keys"
   ]
  },
  {
   "cell_type": "markdown",
   "metadata": {},
   "source": [
    "And we could have used the shortcuts to get and set the fields:"
   ]
  },
  {
   "cell_type": "code",
   "execution_count": 14,
   "metadata": {},
   "outputs": [],
   "source": [
    "frame.particle_count = 3\n",
    "frame.particle_positions = water_positions\n",
    "frame.particle_elements = water_elements\n",
    "frame.bond_pairs = water_bonds"
   ]
  },
  {
   "cell_type": "code",
   "execution_count": 15,
   "metadata": {
    "scrolled": true
   },
   "outputs": [
    {
     "data": {
      "text/plain": [
       "[[0.0, 0.0, 0.0],\n",
       " [0.07554499804973602, 0.0471160002052784, 0.0],\n",
       " [-0.07554499804973602, 0.0471160002052784, 0.0]]"
      ]
     },
     "execution_count": 15,
     "metadata": {},
     "output_type": "execute_result"
    }
   ],
   "source": [
    "frame.particle_positions"
   ]
  },
  {
   "cell_type": "markdown",
   "metadata": {},
   "source": [
    "We can also see what shortcuts are linked to some data in the frame:"
   ]
  },
  {
   "cell_type": "code",
   "execution_count": 16,
   "metadata": {},
   "outputs": [
    {
     "data": {
      "text/plain": [
       "{'bond_pairs', 'particle_count', 'particle_elements', 'particle_positions'}"
      ]
     },
     "execution_count": 16,
     "metadata": {},
     "output_type": "execute_result"
    }
   ],
   "source": [
    "frame.used_shortcuts"
   ]
  },
  {
   "cell_type": "markdown",
   "metadata": {},
   "source": [
    "## Transmit it to VR"
   ]
  },
  {
   "cell_type": "markdown",
   "metadata": {},
   "source": [
    "We've provided enough data to visualize this amazing molecule in VR. So we'll fire up a server and send this frame."
   ]
  },
  {
   "cell_type": "code",
   "execution_count": 17,
   "metadata": {},
   "outputs": [],
   "source": [
    "from narupa.app import NarupaFrameApplication"
   ]
  },
  {
   "cell_type": "code",
   "execution_count": 18,
   "metadata": {},
   "outputs": [],
   "source": [
    "server = NarupaFrameApplication.basic_server(port=0)"
   ]
  },
  {
   "cell_type": "code",
   "execution_count": 19,
   "metadata": {},
   "outputs": [],
   "source": [
    "server.frame_publisher.send_frame(0, frame)"
   ]
  },
  {
   "cell_type": "markdown",
   "metadata": {},
   "source": [
    "Connect from VR, and you'll see something like this:\n",
    "\n",
    "![Narupa H2O](images/h2o.png)"
   ]
  },
  {
   "cell_type": "markdown",
   "metadata": {},
   "source": [
    "## What kind of data can I send?"
   ]
  },
  {
   "cell_type": "markdown",
   "metadata": {},
   "source": [
    "You may have noticed that the particle count was transmitted as a `number_value` in the frame, and that the positions were a `float_value`. What kind of values can you send? What kind of arrays can you send? "
   ]
  },
  {
   "cell_type": "markdown",
   "metadata": {},
   "source": [
    "### Arrays"
   ]
  },
  {
   "cell_type": "markdown",
   "metadata": {},
   "source": [
    "For the arrays, you can send decimal number (floats), positive integers (unsigned int) and strings. The types are restricted so we can send them efficiently."
   ]
  },
  {
   "cell_type": "code",
   "execution_count": 20,
   "metadata": {},
   "outputs": [],
   "source": [
    "frame.arrays['some floats'] = [1.0, 2.5, 3.5]\n",
    "frame.arrays['some numbers'] = [1,2,3]\n",
    "frame.arrays['some strings'] = ['a', 'bc', 'de']"
   ]
  },
  {
   "cell_type": "markdown",
   "metadata": {},
   "source": [
    "Of course, an array could just be an array of bytes (those in the business call these a `blob`)"
   ]
  },
  {
   "cell_type": "code",
   "execution_count": 21,
   "metadata": {},
   "outputs": [],
   "source": [
    "with open('images/example_image.jpg', 'rb') as f:\n",
    "    image_bytes = f.read()"
   ]
  },
  {
   "cell_type": "code",
   "execution_count": 22,
   "metadata": {},
   "outputs": [],
   "source": [
    "frame.arrays['image'] = image_bytes"
   ]
  },
  {
   "cell_type": "code",
   "execution_count": 23,
   "metadata": {},
   "outputs": [],
   "source": [
    "server.frame_publisher.send_frame(0, frame)"
   ]
  },
  {
   "cell_type": "code",
   "execution_count": 24,
   "metadata": {},
   "outputs": [],
   "source": [
    "from narupa.app import NarupaImdClient\n",
    "from IPython.display import Image\n",
    "\n",
    "with NarupaImdClient.connect_to_single_server(port=server.port) as client:\n",
    "    client.wait_until_first_frame()\n",
    "    received_image_bytes = bytes(client.latest_frame.arrays['image'])"
   ]
  },
  {
   "cell_type": "code",
   "execution_count": 25,
   "metadata": {},
   "outputs": [
    {
     "data": {
      "image/jpeg": "[encoded data removed]",
      "text/plain": [
       "<IPython.core.display.Image object>"
      ]
     },
     "execution_count": 25,
     "metadata": {
      "image/jpeg": {
       "width": 200
      }
     },
     "output_type": "execute_result"
    }
   ],
   "source": [
    "Image(data=received_image_bytes, width=200)"
   ]
  },
  {
   "cell_type": "markdown",
   "metadata": {},
   "source": [
    "### Values"
   ]
  },
  {
   "cell_type": "markdown",
   "metadata": {},
   "source": [
    "For setting values, you can send any of a boolean, string or number:"
   ]
  },
  {
   "cell_type": "code",
   "execution_count": 26,
   "metadata": {},
   "outputs": [],
   "source": [
    "frame.values['boolean'] = False\n",
    "frame.values['string'] = 'hello'\n",
    "frame.values['a number'] = 1.0"
   ]
  },
  {
   "cell_type": "markdown",
   "metadata": {},
   "source": [
    "**Note**: The underlying structure will support anything that can be represented with Protobuf's [Value](https://developers.google.com/protocol-buffers/docs/reference/csharp/class/google/protobuf/well-known-types/value) type - this will be fixed in an upcoming release. "
   ]
  },
  {
   "cell_type": "markdown",
   "metadata": {},
   "source": [
    "## More Molecular Data "
   ]
  },
  {
   "cell_type": "markdown",
   "metadata": {},
   "source": [
    "As well as the positions, bonds, and elements, we can set additional fields that are commonly available in topological fields formats. If these are passed, lots of exciting rendering and selection opportunites present themselves.\n",
    "\n",
    "The following assigns the water molecule to the residue HOH, in the chain A."
   ]
  },
  {
   "cell_type": "code",
   "execution_count": 26,
   "metadata": {},
   "outputs": [],
   "source": [
    "frame.residue_ids = ['1', '1', '1']\n",
    "frame.residue_names = ['HOH', 'HOH', 'HOH']\n",
    "frame.residue_count = 1\n",
    "frame.particle_residues = [0,0,0]\n",
    "frame.chain_names = ['A']\n",
    "frame.chain_count = 1\n",
    "frame.residue_chains = [0]"
   ]
  },
  {
   "cell_type": "code",
   "execution_count": 27,
   "metadata": {},
   "outputs": [],
   "source": [
    "server.frame_publisher.send_frame(0, frame)"
   ]
  },
  {
   "cell_type": "markdown",
   "metadata": {},
   "source": [
    "## Updating Data in a Frame"
   ]
  },
  {
   "cell_type": "markdown",
   "metadata": {},
   "source": [
    "When sending data, the iMD-VR client is intelligent enough to reuse data it has received before, so you don't need to send the everything every time. \n",
    "\n",
    "Our convention is to send the topology in the first frame, then just positions after that. The Frame server is smart enough to send the latest version of everything to a client when it first connects.\n",
    "\n",
    "In the following, we just update the positions array to move the water molecule by 1 nanometer in each cardinal direction."
   ]
  },
  {
   "cell_type": "code",
   "execution_count": 28,
   "metadata": {},
   "outputs": [],
   "source": [
    "positions_frame = FrameData()\n",
    "positions_frame.particle_positions = water_positions + 1"
   ]
  },
  {
   "cell_type": "code",
   "execution_count": 29,
   "metadata": {},
   "outputs": [],
   "source": [
    "server.frame_publisher.send_frame(1, positions_frame)"
   ]
  },
  {
   "cell_type": "markdown",
   "metadata": {},
   "source": [
    "# Next Steps"
   ]
  },
  {
   "cell_type": "markdown",
   "metadata": {},
   "source": [
    "* See more practical examples of setting up [simulations](../ase/basic_example.ipynb) and [trajectories](../mdanalysis/mdanalysis_trajectory.ipynb)\n",
    "* Learn how to set up [commands and synchronise state](commands_and_state.ipynb)\n",
    "* Learn about the details of setting up [servers](servers.ipynb)"
   ]
  },
  {
   "cell_type": "code",
   "execution_count": null,
   "metadata": {},
   "outputs": [],
   "source": []
  }
 ],
 "metadata": {
  "kernelspec": {
   "display_name": "Python 3",
   "language": "python",
   "name": "python3"
  },
  "language_info": {
   "codemirror_mode": {
    "name": "ipython",
    "version": 3
   },
   "file_extension": ".py",
   "mimetype": "text/x-python",
   "name": "python",
   "nbconvert_exporter": "python",
   "pygments_lexer": "ipython3",
   "version": "3.7.6"
  }
 },
 "nbformat": 4,
 "nbformat_minor": 1
}
