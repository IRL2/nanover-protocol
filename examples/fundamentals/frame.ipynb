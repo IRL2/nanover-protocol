{
 "cells": [
  {
   "cell_type": "markdown",
   "metadata": {
    "collapsed": true,
    "pycharm": {
     "is_executing": false
    }
   },
   "source": [
    "# Narupa Concepts: Frames\n"
   ]
  },
  {
   "cell_type": "markdown",
   "metadata": {},
   "source": [
    "In this notebook, we'll dig into one of the main ideas in Narupa, the **frame**"
   ]
  },
  {
   "cell_type": "code",
   "execution_count": 58,
   "metadata": {},
   "outputs": [],
   "source": [
    "from mpl_toolkits.mplot3d import Axes3D  # noqa: F401 unused import\n",
    "import matplotlib.pyplot as plt"
   ]
  },
  {
   "cell_type": "code",
   "execution_count": 59,
   "metadata": {},
   "outputs": [],
   "source": [
    "%matplotlib notebook"
   ]
  },
  {
   "cell_type": "markdown",
   "metadata": {},
   "source": [
    "## What is a frame?"
   ]
  },
  {
   "cell_type": "markdown",
   "metadata": {},
   "source": [
    "A frame is our way of representing a molecular system or trajectory in a way that is efficient to send over the network to clients, e.g. the VR app. \n",
    "\n",
    "The schematic illustrates this: a Narupa session produces a Frame Data object, whch is serialized and transmitted using [GRPC](https://grpc.io) to client applications.\n",
    "\n",
    "![Narupa Frame](images/frame_server.png)"
   ]
  },
  {
   "cell_type": "markdown",
   "metadata": {},
   "source": [
    "A frame is represented as two dictionaries: one of arrays, and one of values. The arrays are used for sending lists of values of the same type, such as particle positions, while the values are used for transmitting single objects, such as numbers, strings or dictionaries.\n",
    "\n",
    "Let's create a frame for a water molecule. We'll do it by hand."
   ]
  },
  {
   "cell_type": "code",
   "execution_count": 15,
   "metadata": {},
   "outputs": [],
   "source": [
    "import numpy as np"
   ]
  },
  {
   "cell_type": "code",
   "execution_count": 95,
   "metadata": {},
   "outputs": [],
   "source": [
    "# arrange the water molecular O H H \n",
    "water_positions = np.array([[0,0,0],[0.075545, 0.047116, 0.00000], [-0.075545, 0.047116, 0.00000 ]])\n",
    "# elements are defined by their atomic numbers\n",
    "water_elements = [8, 1, 1]\n",
    "# Define bonds between the oxygen and the hydrogens.\n",
    "water_bonds = np.array([[0, 1], [0, 2]])"
   ]
  },
  {
   "cell_type": "code",
   "execution_count": 89,
   "metadata": {},
   "outputs": [
    {
     "data": {
      "application/javascript": [
       "/* Put everything inside the global mpl namespace */\n",
       "window.mpl = {};\n",
       "\n",
       "\n",
       "mpl.get_websocket_type = function() {\n",
       "    if (typeof(WebSocket) !== 'undefined') {\n",
       "        return WebSocket;\n",
       "    } else if (typeof(MozWebSocket) !== 'undefined') {\n",
       "        return MozWebSocket;\n",
       "    } else {\n",
       "        alert('Your browser does not have WebSocket support. ' +\n",
       "              'Please try Chrome, Safari or Firefox ≥ 6. ' +\n",
       "              'Firefox 4 and 5 are also supported but you ' +\n",
       "              'have to enable WebSockets in about:config.');\n",
       "    };\n",
       "}\n",
       "\n",
       "mpl.figure = function(figure_id, websocket, ondownload, parent_element) {\n",
       "    this.id = figure_id;\n",
       "\n",
       "    this.ws = websocket;\n",
       "\n",
       "    this.supports_binary = (this.ws.binaryType != undefined);\n",
       "\n",
       "    if (!this.supports_binary) {\n",
       "        var warnings = document.getElementById(\"mpl-warnings\");\n",
       "        if (warnings) {\n",
       "            warnings.style.display = 'block';\n",
       "            warnings.textContent = (\n",
       "                \"This browser does not support binary websocket messages. \" +\n",
       "                    \"Performance may be slow.\");\n",
       "        }\n",
       "    }\n",
       "\n",
       "    this.imageObj = new Image();\n",
       "\n",
       "    this.context = undefined;\n",
       "    this.message = undefined;\n",
       "    this.canvas = undefined;\n",
       "    this.rubberband_canvas = undefined;\n",
       "    this.rubberband_context = undefined;\n",
       "    this.format_dropdown = undefined;\n",
       "\n",
       "    this.image_mode = 'full';\n",
       "\n",
       "    this.root = $('<div/>');\n",
       "    this._root_extra_style(this.root)\n",
       "    this.root.attr('style', 'display: inline-block');\n",
       "\n",
       "    $(parent_element).append(this.root);\n",
       "\n",
       "    this._init_header(this);\n",
       "    this._init_canvas(this);\n",
       "    this._init_toolbar(this);\n",
       "\n",
       "    var fig = this;\n",
       "\n",
       "    this.waiting = false;\n",
       "\n",
       "    this.ws.onopen =  function () {\n",
       "            fig.send_message(\"supports_binary\", {value: fig.supports_binary});\n",
       "            fig.send_message(\"send_image_mode\", {});\n",
       "            if (mpl.ratio != 1) {\n",
       "                fig.send_message(\"set_dpi_ratio\", {'dpi_ratio': mpl.ratio});\n",
       "            }\n",
       "            fig.send_message(\"refresh\", {});\n",
       "        }\n",
       "\n",
       "    this.imageObj.onload = function() {\n",
       "            if (fig.image_mode == 'full') {\n",
       "                // Full images could contain transparency (where diff images\n",
       "                // almost always do), so we need to clear the canvas so that\n",
       "                // there is no ghosting.\n",
       "                fig.context.clearRect(0, 0, fig.canvas.width, fig.canvas.height);\n",
       "            }\n",
       "            fig.context.drawImage(fig.imageObj, 0, 0);\n",
       "        };\n",
       "\n",
       "    this.imageObj.onunload = function() {\n",
       "        fig.ws.close();\n",
       "    }\n",
       "\n",
       "    this.ws.onmessage = this._make_on_message_function(this);\n",
       "\n",
       "    this.ondownload = ondownload;\n",
       "}\n",
       "\n",
       "mpl.figure.prototype._init_header = function() {\n",
       "    var titlebar = $(\n",
       "        '<div class=\"ui-dialog-titlebar ui-widget-header ui-corner-all ' +\n",
       "        'ui-helper-clearfix\"/>');\n",
       "    var titletext = $(\n",
       "        '<div class=\"ui-dialog-title\" style=\"width: 100%; ' +\n",
       "        'text-align: center; padding: 3px;\"/>');\n",
       "    titlebar.append(titletext)\n",
       "    this.root.append(titlebar);\n",
       "    this.header = titletext[0];\n",
       "}\n",
       "\n",
       "\n",
       "\n",
       "mpl.figure.prototype._canvas_extra_style = function(canvas_div) {\n",
       "\n",
       "}\n",
       "\n",
       "\n",
       "mpl.figure.prototype._root_extra_style = function(canvas_div) {\n",
       "\n",
       "}\n",
       "\n",
       "mpl.figure.prototype._init_canvas = function() {\n",
       "    var fig = this;\n",
       "\n",
       "    var canvas_div = $('<div/>');\n",
       "\n",
       "    canvas_div.attr('style', 'position: relative; clear: both; outline: 0');\n",
       "\n",
       "    function canvas_keyboard_event(event) {\n",
       "        return fig.key_event(event, event['data']);\n",
       "    }\n",
       "\n",
       "    canvas_div.keydown('key_press', canvas_keyboard_event);\n",
       "    canvas_div.keyup('key_release', canvas_keyboard_event);\n",
       "    this.canvas_div = canvas_div\n",
       "    this._canvas_extra_style(canvas_div)\n",
       "    this.root.append(canvas_div);\n",
       "\n",
       "    var canvas = $('<canvas/>');\n",
       "    canvas.addClass('mpl-canvas');\n",
       "    canvas.attr('style', \"left: 0; top: 0; z-index: 0; outline: 0\")\n",
       "\n",
       "    this.canvas = canvas[0];\n",
       "    this.context = canvas[0].getContext(\"2d\");\n",
       "\n",
       "    var backingStore = this.context.backingStorePixelRatio ||\n",
       "\tthis.context.webkitBackingStorePixelRatio ||\n",
       "\tthis.context.mozBackingStorePixelRatio ||\n",
       "\tthis.context.msBackingStorePixelRatio ||\n",
       "\tthis.context.oBackingStorePixelRatio ||\n",
       "\tthis.context.backingStorePixelRatio || 1;\n",
       "\n",
       "    mpl.ratio = (window.devicePixelRatio || 1) / backingStore;\n",
       "\n",
       "    var rubberband = $('<canvas/>');\n",
       "    rubberband.attr('style', \"position: absolute; left: 0; top: 0; z-index: 1;\")\n",
       "\n",
       "    var pass_mouse_events = true;\n",
       "\n",
       "    canvas_div.resizable({\n",
       "        start: function(event, ui) {\n",
       "            pass_mouse_events = false;\n",
       "        },\n",
       "        resize: function(event, ui) {\n",
       "            fig.request_resize(ui.size.width, ui.size.height);\n",
       "        },\n",
       "        stop: function(event, ui) {\n",
       "            pass_mouse_events = true;\n",
       "            fig.request_resize(ui.size.width, ui.size.height);\n",
       "        },\n",
       "    });\n",
       "\n",
       "    function mouse_event_fn(event) {\n",
       "        if (pass_mouse_events)\n",
       "            return fig.mouse_event(event, event['data']);\n",
       "    }\n",
       "\n",
       "    rubberband.mousedown('button_press', mouse_event_fn);\n",
       "    rubberband.mouseup('button_release', mouse_event_fn);\n",
       "    // Throttle sequential mouse events to 1 every 20ms.\n",
       "    rubberband.mousemove('motion_notify', mouse_event_fn);\n",
       "\n",
       "    rubberband.mouseenter('figure_enter', mouse_event_fn);\n",
       "    rubberband.mouseleave('figure_leave', mouse_event_fn);\n",
       "\n",
       "    canvas_div.on(\"wheel\", function (event) {\n",
       "        event = event.originalEvent;\n",
       "        event['data'] = 'scroll'\n",
       "        if (event.deltaY < 0) {\n",
       "            event.step = 1;\n",
       "        } else {\n",
       "            event.step = -1;\n",
       "        }\n",
       "        mouse_event_fn(event);\n",
       "    });\n",
       "\n",
       "    canvas_div.append(canvas);\n",
       "    canvas_div.append(rubberband);\n",
       "\n",
       "    this.rubberband = rubberband;\n",
       "    this.rubberband_canvas = rubberband[0];\n",
       "    this.rubberband_context = rubberband[0].getContext(\"2d\");\n",
       "    this.rubberband_context.strokeStyle = \"#000000\";\n",
       "\n",
       "    this._resize_canvas = function(width, height) {\n",
       "        // Keep the size of the canvas, canvas container, and rubber band\n",
       "        // canvas in synch.\n",
       "        canvas_div.css('width', width)\n",
       "        canvas_div.css('height', height)\n",
       "\n",
       "        canvas.attr('width', width * mpl.ratio);\n",
       "        canvas.attr('height', height * mpl.ratio);\n",
       "        canvas.attr('style', 'width: ' + width + 'px; height: ' + height + 'px;');\n",
       "\n",
       "        rubberband.attr('width', width);\n",
       "        rubberband.attr('height', height);\n",
       "    }\n",
       "\n",
       "    // Set the figure to an initial 600x600px, this will subsequently be updated\n",
       "    // upon first draw.\n",
       "    this._resize_canvas(600, 600);\n",
       "\n",
       "    // Disable right mouse context menu.\n",
       "    $(this.rubberband_canvas).bind(\"contextmenu\",function(e){\n",
       "        return false;\n",
       "    });\n",
       "\n",
       "    function set_focus () {\n",
       "        canvas.focus();\n",
       "        canvas_div.focus();\n",
       "    }\n",
       "\n",
       "    window.setTimeout(set_focus, 100);\n",
       "}\n",
       "\n",
       "mpl.figure.prototype._init_toolbar = function() {\n",
       "    var fig = this;\n",
       "\n",
       "    var nav_element = $('<div/>');\n",
       "    nav_element.attr('style', 'width: 100%');\n",
       "    this.root.append(nav_element);\n",
       "\n",
       "    // Define a callback function for later on.\n",
       "    function toolbar_event(event) {\n",
       "        return fig.toolbar_button_onclick(event['data']);\n",
       "    }\n",
       "    function toolbar_mouse_event(event) {\n",
       "        return fig.toolbar_button_onmouseover(event['data']);\n",
       "    }\n",
       "\n",
       "    for(var toolbar_ind in mpl.toolbar_items) {\n",
       "        var name = mpl.toolbar_items[toolbar_ind][0];\n",
       "        var tooltip = mpl.toolbar_items[toolbar_ind][1];\n",
       "        var image = mpl.toolbar_items[toolbar_ind][2];\n",
       "        var method_name = mpl.toolbar_items[toolbar_ind][3];\n",
       "\n",
       "        if (!name) {\n",
       "            // put a spacer in here.\n",
       "            continue;\n",
       "        }\n",
       "        var button = $('<button/>');\n",
       "        button.addClass('ui-button ui-widget ui-state-default ui-corner-all ' +\n",
       "                        'ui-button-icon-only');\n",
       "        button.attr('role', 'button');\n",
       "        button.attr('aria-disabled', 'false');\n",
       "        button.click(method_name, toolbar_event);\n",
       "        button.mouseover(tooltip, toolbar_mouse_event);\n",
       "\n",
       "        var icon_img = $('<span/>');\n",
       "        icon_img.addClass('ui-button-icon-primary ui-icon');\n",
       "        icon_img.addClass(image);\n",
       "        icon_img.addClass('ui-corner-all');\n",
       "\n",
       "        var tooltip_span = $('<span/>');\n",
       "        tooltip_span.addClass('ui-button-text');\n",
       "        tooltip_span.html(tooltip);\n",
       "\n",
       "        button.append(icon_img);\n",
       "        button.append(tooltip_span);\n",
       "\n",
       "        nav_element.append(button);\n",
       "    }\n",
       "\n",
       "    var fmt_picker_span = $('<span/>');\n",
       "\n",
       "    var fmt_picker = $('<select/>');\n",
       "    fmt_picker.addClass('mpl-toolbar-option ui-widget ui-widget-content');\n",
       "    fmt_picker_span.append(fmt_picker);\n",
       "    nav_element.append(fmt_picker_span);\n",
       "    this.format_dropdown = fmt_picker[0];\n",
       "\n",
       "    for (var ind in mpl.extensions) {\n",
       "        var fmt = mpl.extensions[ind];\n",
       "        var option = $(\n",
       "            '<option/>', {selected: fmt === mpl.default_extension}).html(fmt);\n",
       "        fmt_picker.append(option);\n",
       "    }\n",
       "\n",
       "    // Add hover states to the ui-buttons\n",
       "    $( \".ui-button\" ).hover(\n",
       "        function() { $(this).addClass(\"ui-state-hover\");},\n",
       "        function() { $(this).removeClass(\"ui-state-hover\");}\n",
       "    );\n",
       "\n",
       "    var status_bar = $('<span class=\"mpl-message\"/>');\n",
       "    nav_element.append(status_bar);\n",
       "    this.message = status_bar[0];\n",
       "}\n",
       "\n",
       "mpl.figure.prototype.request_resize = function(x_pixels, y_pixels) {\n",
       "    // Request matplotlib to resize the figure. Matplotlib will then trigger a resize in the client,\n",
       "    // which will in turn request a refresh of the image.\n",
       "    this.send_message('resize', {'width': x_pixels, 'height': y_pixels});\n",
       "}\n",
       "\n",
       "mpl.figure.prototype.send_message = function(type, properties) {\n",
       "    properties['type'] = type;\n",
       "    properties['figure_id'] = this.id;\n",
       "    this.ws.send(JSON.stringify(properties));\n",
       "}\n",
       "\n",
       "mpl.figure.prototype.send_draw_message = function() {\n",
       "    if (!this.waiting) {\n",
       "        this.waiting = true;\n",
       "        this.ws.send(JSON.stringify({type: \"draw\", figure_id: this.id}));\n",
       "    }\n",
       "}\n",
       "\n",
       "\n",
       "mpl.figure.prototype.handle_save = function(fig, msg) {\n",
       "    var format_dropdown = fig.format_dropdown;\n",
       "    var format = format_dropdown.options[format_dropdown.selectedIndex].value;\n",
       "    fig.ondownload(fig, format);\n",
       "}\n",
       "\n",
       "\n",
       "mpl.figure.prototype.handle_resize = function(fig, msg) {\n",
       "    var size = msg['size'];\n",
       "    if (size[0] != fig.canvas.width || size[1] != fig.canvas.height) {\n",
       "        fig._resize_canvas(size[0], size[1]);\n",
       "        fig.send_message(\"refresh\", {});\n",
       "    };\n",
       "}\n",
       "\n",
       "mpl.figure.prototype.handle_rubberband = function(fig, msg) {\n",
       "    var x0 = msg['x0'] / mpl.ratio;\n",
       "    var y0 = (fig.canvas.height - msg['y0']) / mpl.ratio;\n",
       "    var x1 = msg['x1'] / mpl.ratio;\n",
       "    var y1 = (fig.canvas.height - msg['y1']) / mpl.ratio;\n",
       "    x0 = Math.floor(x0) + 0.5;\n",
       "    y0 = Math.floor(y0) + 0.5;\n",
       "    x1 = Math.floor(x1) + 0.5;\n",
       "    y1 = Math.floor(y1) + 0.5;\n",
       "    var min_x = Math.min(x0, x1);\n",
       "    var min_y = Math.min(y0, y1);\n",
       "    var width = Math.abs(x1 - x0);\n",
       "    var height = Math.abs(y1 - y0);\n",
       "\n",
       "    fig.rubberband_context.clearRect(\n",
       "        0, 0, fig.canvas.width / mpl.ratio, fig.canvas.height / mpl.ratio);\n",
       "\n",
       "    fig.rubberband_context.strokeRect(min_x, min_y, width, height);\n",
       "}\n",
       "\n",
       "mpl.figure.prototype.handle_figure_label = function(fig, msg) {\n",
       "    // Updates the figure title.\n",
       "    fig.header.textContent = msg['label'];\n",
       "}\n",
       "\n",
       "mpl.figure.prototype.handle_cursor = function(fig, msg) {\n",
       "    var cursor = msg['cursor'];\n",
       "    switch(cursor)\n",
       "    {\n",
       "    case 0:\n",
       "        cursor = 'pointer';\n",
       "        break;\n",
       "    case 1:\n",
       "        cursor = 'default';\n",
       "        break;\n",
       "    case 2:\n",
       "        cursor = 'crosshair';\n",
       "        break;\n",
       "    case 3:\n",
       "        cursor = 'move';\n",
       "        break;\n",
       "    }\n",
       "    fig.rubberband_canvas.style.cursor = cursor;\n",
       "}\n",
       "\n",
       "mpl.figure.prototype.handle_message = function(fig, msg) {\n",
       "    fig.message.textContent = msg['message'];\n",
       "}\n",
       "\n",
       "mpl.figure.prototype.handle_draw = function(fig, msg) {\n",
       "    // Request the server to send over a new figure.\n",
       "    fig.send_draw_message();\n",
       "}\n",
       "\n",
       "mpl.figure.prototype.handle_image_mode = function(fig, msg) {\n",
       "    fig.image_mode = msg['mode'];\n",
       "}\n",
       "\n",
       "mpl.figure.prototype.updated_canvas_event = function() {\n",
       "    // Called whenever the canvas gets updated.\n",
       "    this.send_message(\"ack\", {});\n",
       "}\n",
       "\n",
       "// A function to construct a web socket function for onmessage handling.\n",
       "// Called in the figure constructor.\n",
       "mpl.figure.prototype._make_on_message_function = function(fig) {\n",
       "    return function socket_on_message(evt) {\n",
       "        if (evt.data instanceof Blob) {\n",
       "            /* FIXME: We get \"Resource interpreted as Image but\n",
       "             * transferred with MIME type text/plain:\" errors on\n",
       "             * Chrome.  But how to set the MIME type?  It doesn't seem\n",
       "             * to be part of the websocket stream */\n",
       "            evt.data.type = \"image/png\";\n",
       "\n",
       "            /* Free the memory for the previous frames */\n",
       "            if (fig.imageObj.src) {\n",
       "                (window.URL || window.webkitURL).revokeObjectURL(\n",
       "                    fig.imageObj.src);\n",
       "            }\n",
       "\n",
       "            fig.imageObj.src = (window.URL || window.webkitURL).createObjectURL(\n",
       "                evt.data);\n",
       "            fig.updated_canvas_event();\n",
       "            fig.waiting = false;\n",
       "            return;\n",
       "        }\n",
       "        else if (typeof evt.data === 'string' && evt.data.slice(0, 21) == \"data:image/png;base64\") {\n",
       "            fig.imageObj.src = evt.data;\n",
       "            fig.updated_canvas_event();\n",
       "            fig.waiting = false;\n",
       "            return;\n",
       "        }\n",
       "\n",
       "        var msg = JSON.parse(evt.data);\n",
       "        var msg_type = msg['type'];\n",
       "\n",
       "        // Call the  \"handle_{type}\" callback, which takes\n",
       "        // the figure and JSON message as its only arguments.\n",
       "        try {\n",
       "            var callback = fig[\"handle_\" + msg_type];\n",
       "        } catch (e) {\n",
       "            console.log(\"No handler for the '\" + msg_type + \"' message type: \", msg);\n",
       "            return;\n",
       "        }\n",
       "\n",
       "        if (callback) {\n",
       "            try {\n",
       "                // console.log(\"Handling '\" + msg_type + \"' message: \", msg);\n",
       "                callback(fig, msg);\n",
       "            } catch (e) {\n",
       "                console.log(\"Exception inside the 'handler_\" + msg_type + \"' callback:\", e, e.stack, msg);\n",
       "            }\n",
       "        }\n",
       "    };\n",
       "}\n",
       "\n",
       "// from http://stackoverflow.com/questions/1114465/getting-mouse-location-in-canvas\n",
       "mpl.findpos = function(e) {\n",
       "    //this section is from http://www.quirksmode.org/js/events_properties.html\n",
       "    var targ;\n",
       "    if (!e)\n",
       "        e = window.event;\n",
       "    if (e.target)\n",
       "        targ = e.target;\n",
       "    else if (e.srcElement)\n",
       "        targ = e.srcElement;\n",
       "    if (targ.nodeType == 3) // defeat Safari bug\n",
       "        targ = targ.parentNode;\n",
       "\n",
       "    // jQuery normalizes the pageX and pageY\n",
       "    // pageX,Y are the mouse positions relative to the document\n",
       "    // offset() returns the position of the element relative to the document\n",
       "    var x = e.pageX - $(targ).offset().left;\n",
       "    var y = e.pageY - $(targ).offset().top;\n",
       "\n",
       "    return {\"x\": x, \"y\": y};\n",
       "};\n",
       "\n",
       "/*\n",
       " * return a copy of an object with only non-object keys\n",
       " * we need this to avoid circular references\n",
       " * http://stackoverflow.com/a/24161582/3208463\n",
       " */\n",
       "function simpleKeys (original) {\n",
       "  return Object.keys(original).reduce(function (obj, key) {\n",
       "    if (typeof original[key] !== 'object')\n",
       "        obj[key] = original[key]\n",
       "    return obj;\n",
       "  }, {});\n",
       "}\n",
       "\n",
       "mpl.figure.prototype.mouse_event = function(event, name) {\n",
       "    var canvas_pos = mpl.findpos(event)\n",
       "\n",
       "    if (name === 'button_press')\n",
       "    {\n",
       "        this.canvas.focus();\n",
       "        this.canvas_div.focus();\n",
       "    }\n",
       "\n",
       "    var x = canvas_pos.x * mpl.ratio;\n",
       "    var y = canvas_pos.y * mpl.ratio;\n",
       "\n",
       "    this.send_message(name, {x: x, y: y, button: event.button,\n",
       "                             step: event.step,\n",
       "                             guiEvent: simpleKeys(event)});\n",
       "\n",
       "    /* This prevents the web browser from automatically changing to\n",
       "     * the text insertion cursor when the button is pressed.  We want\n",
       "     * to control all of the cursor setting manually through the\n",
       "     * 'cursor' event from matplotlib */\n",
       "    event.preventDefault();\n",
       "    return false;\n",
       "}\n",
       "\n",
       "mpl.figure.prototype._key_event_extra = function(event, name) {\n",
       "    // Handle any extra behaviour associated with a key event\n",
       "}\n",
       "\n",
       "mpl.figure.prototype.key_event = function(event, name) {\n",
       "\n",
       "    // Prevent repeat events\n",
       "    if (name == 'key_press')\n",
       "    {\n",
       "        if (event.which === this._key)\n",
       "            return;\n",
       "        else\n",
       "            this._key = event.which;\n",
       "    }\n",
       "    if (name == 'key_release')\n",
       "        this._key = null;\n",
       "\n",
       "    var value = '';\n",
       "    if (event.ctrlKey && event.which != 17)\n",
       "        value += \"ctrl+\";\n",
       "    if (event.altKey && event.which != 18)\n",
       "        value += \"alt+\";\n",
       "    if (event.shiftKey && event.which != 16)\n",
       "        value += \"shift+\";\n",
       "\n",
       "    value += 'k';\n",
       "    value += event.which.toString();\n",
       "\n",
       "    this._key_event_extra(event, name);\n",
       "\n",
       "    this.send_message(name, {key: value,\n",
       "                             guiEvent: simpleKeys(event)});\n",
       "    return false;\n",
       "}\n",
       "\n",
       "mpl.figure.prototype.toolbar_button_onclick = function(name) {\n",
       "    if (name == 'download') {\n",
       "        this.handle_save(this, null);\n",
       "    } else {\n",
       "        this.send_message(\"toolbar_button\", {name: name});\n",
       "    }\n",
       "};\n",
       "\n",
       "mpl.figure.prototype.toolbar_button_onmouseover = function(tooltip) {\n",
       "    this.message.textContent = tooltip;\n",
       "};\n",
       "mpl.toolbar_items = [[\"Home\", \"Reset original view\", \"fa fa-home icon-home\", \"home\"], [\"Back\", \"Back to previous view\", \"fa fa-arrow-left icon-arrow-left\", \"back\"], [\"Forward\", \"Forward to next view\", \"fa fa-arrow-right icon-arrow-right\", \"forward\"], [\"\", \"\", \"\", \"\"], [\"Pan\", \"Pan axes with left mouse, zoom with right\", \"fa fa-arrows icon-move\", \"pan\"], [\"Zoom\", \"Zoom to rectangle\", \"fa fa-square-o icon-check-empty\", \"zoom\"], [\"\", \"\", \"\", \"\"], [\"Download\", \"Download plot\", \"fa fa-floppy-o icon-save\", \"download\"]];\n",
       "\n",
       "mpl.extensions = [\"eps\", \"pdf\", \"png\", \"ps\", \"raw\", \"svg\"];\n",
       "\n",
       "mpl.default_extension = \"png\";var comm_websocket_adapter = function(comm) {\n",
       "    // Create a \"websocket\"-like object which calls the given IPython comm\n",
       "    // object with the appropriate methods. Currently this is a non binary\n",
       "    // socket, so there is still some room for performance tuning.\n",
       "    var ws = {};\n",
       "\n",
       "    ws.close = function() {\n",
       "        comm.close()\n",
       "    };\n",
       "    ws.send = function(m) {\n",
       "        //console.log('sending', m);\n",
       "        comm.send(m);\n",
       "    };\n",
       "    // Register the callback with on_msg.\n",
       "    comm.on_msg(function(msg) {\n",
       "        //console.log('receiving', msg['content']['data'], msg);\n",
       "        // Pass the mpl event to the overridden (by mpl) onmessage function.\n",
       "        ws.onmessage(msg['content']['data'])\n",
       "    });\n",
       "    return ws;\n",
       "}\n",
       "\n",
       "mpl.mpl_figure_comm = function(comm, msg) {\n",
       "    // This is the function which gets called when the mpl process\n",
       "    // starts-up an IPython Comm through the \"matplotlib\" channel.\n",
       "\n",
       "    var id = msg.content.data.id;\n",
       "    // Get hold of the div created by the display call when the Comm\n",
       "    // socket was opened in Python.\n",
       "    var element = $(\"#\" + id);\n",
       "    var ws_proxy = comm_websocket_adapter(comm)\n",
       "\n",
       "    function ondownload(figure, format) {\n",
       "        window.open(figure.imageObj.src);\n",
       "    }\n",
       "\n",
       "    var fig = new mpl.figure(id, ws_proxy,\n",
       "                           ondownload,\n",
       "                           element.get(0));\n",
       "\n",
       "    // Call onopen now - mpl needs it, as it is assuming we've passed it a real\n",
       "    // web socket which is closed, not our websocket->open comm proxy.\n",
       "    ws_proxy.onopen();\n",
       "\n",
       "    fig.parent_element = element.get(0);\n",
       "    fig.cell_info = mpl.find_output_cell(\"<div id='\" + id + \"'></div>\");\n",
       "    if (!fig.cell_info) {\n",
       "        console.error(\"Failed to find cell for figure\", id, fig);\n",
       "        return;\n",
       "    }\n",
       "\n",
       "    var output_index = fig.cell_info[2]\n",
       "    var cell = fig.cell_info[0];\n",
       "\n",
       "};\n",
       "\n",
       "mpl.figure.prototype.handle_close = function(fig, msg) {\n",
       "    var width = fig.canvas.width/mpl.ratio\n",
       "    fig.root.unbind('remove')\n",
       "\n",
       "    // Update the output cell to use the data from the current canvas.\n",
       "    fig.push_to_output();\n",
       "    var dataURL = fig.canvas.toDataURL();\n",
       "    // Re-enable the keyboard manager in IPython - without this line, in FF,\n",
       "    // the notebook keyboard shortcuts fail.\n",
       "    IPython.keyboard_manager.enable()\n",
       "    $(fig.parent_element).html('<img src=\"' + dataURL + '\" width=\"' + width + '\">');\n",
       "    fig.close_ws(fig, msg);\n",
       "}\n",
       "\n",
       "mpl.figure.prototype.close_ws = function(fig, msg){\n",
       "    fig.send_message('closing', msg);\n",
       "    // fig.ws.close()\n",
       "}\n",
       "\n",
       "mpl.figure.prototype.push_to_output = function(remove_interactive) {\n",
       "    // Turn the data on the canvas into data in the output cell.\n",
       "    var width = this.canvas.width/mpl.ratio\n",
       "    var dataURL = this.canvas.toDataURL();\n",
       "    this.cell_info[1]['text/html'] = '<img src=\"' + dataURL + '\" width=\"' + width + '\">';\n",
       "}\n",
       "\n",
       "mpl.figure.prototype.updated_canvas_event = function() {\n",
       "    // Tell IPython that the notebook contents must change.\n",
       "    IPython.notebook.set_dirty(true);\n",
       "    this.send_message(\"ack\", {});\n",
       "    var fig = this;\n",
       "    // Wait a second, then push the new image to the DOM so\n",
       "    // that it is saved nicely (might be nice to debounce this).\n",
       "    setTimeout(function () { fig.push_to_output() }, 1000);\n",
       "}\n",
       "\n",
       "mpl.figure.prototype._init_toolbar = function() {\n",
       "    var fig = this;\n",
       "\n",
       "    var nav_element = $('<div/>');\n",
       "    nav_element.attr('style', 'width: 100%');\n",
       "    this.root.append(nav_element);\n",
       "\n",
       "    // Define a callback function for later on.\n",
       "    function toolbar_event(event) {\n",
       "        return fig.toolbar_button_onclick(event['data']);\n",
       "    }\n",
       "    function toolbar_mouse_event(event) {\n",
       "        return fig.toolbar_button_onmouseover(event['data']);\n",
       "    }\n",
       "\n",
       "    for(var toolbar_ind in mpl.toolbar_items){\n",
       "        var name = mpl.toolbar_items[toolbar_ind][0];\n",
       "        var tooltip = mpl.toolbar_items[toolbar_ind][1];\n",
       "        var image = mpl.toolbar_items[toolbar_ind][2];\n",
       "        var method_name = mpl.toolbar_items[toolbar_ind][3];\n",
       "\n",
       "        if (!name) { continue; };\n",
       "\n",
       "        var button = $('<button class=\"btn btn-default\" href=\"#\" title=\"' + name + '\"><i class=\"fa ' + image + ' fa-lg\"></i></button>');\n",
       "        button.click(method_name, toolbar_event);\n",
       "        button.mouseover(tooltip, toolbar_mouse_event);\n",
       "        nav_element.append(button);\n",
       "    }\n",
       "\n",
       "    // Add the status bar.\n",
       "    var status_bar = $('<span class=\"mpl-message\" style=\"text-align:right; float: right;\"/>');\n",
       "    nav_element.append(status_bar);\n",
       "    this.message = status_bar[0];\n",
       "\n",
       "    // Add the close button to the window.\n",
       "    var buttongrp = $('<div class=\"btn-group inline pull-right\"></div>');\n",
       "    var button = $('<button class=\"btn btn-mini btn-primary\" href=\"#\" title=\"Stop Interaction\"><i class=\"fa fa-power-off icon-remove icon-large\"></i></button>');\n",
       "    button.click(function (evt) { fig.handle_close(fig, {}); } );\n",
       "    button.mouseover('Stop Interaction', toolbar_mouse_event);\n",
       "    buttongrp.append(button);\n",
       "    var titlebar = this.root.find($('.ui-dialog-titlebar'));\n",
       "    titlebar.prepend(buttongrp);\n",
       "}\n",
       "\n",
       "mpl.figure.prototype._root_extra_style = function(el){\n",
       "    var fig = this\n",
       "    el.on(\"remove\", function(){\n",
       "\tfig.close_ws(fig, {});\n",
       "    });\n",
       "}\n",
       "\n",
       "mpl.figure.prototype._canvas_extra_style = function(el){\n",
       "    // this is important to make the div 'focusable\n",
       "    el.attr('tabindex', 0)\n",
       "    // reach out to IPython and tell the keyboard manager to turn it's self\n",
       "    // off when our div gets focus\n",
       "\n",
       "    // location in version 3\n",
       "    if (IPython.notebook.keyboard_manager) {\n",
       "        IPython.notebook.keyboard_manager.register_events(el);\n",
       "    }\n",
       "    else {\n",
       "        // location in version 2\n",
       "        IPython.keyboard_manager.register_events(el);\n",
       "    }\n",
       "\n",
       "}\n",
       "\n",
       "mpl.figure.prototype._key_event_extra = function(event, name) {\n",
       "    var manager = IPython.notebook.keyboard_manager;\n",
       "    if (!manager)\n",
       "        manager = IPython.keyboard_manager;\n",
       "\n",
       "    // Check for shift+enter\n",
       "    if (event.shiftKey && event.which == 13) {\n",
       "        this.canvas_div.blur();\n",
       "        event.shiftKey = false;\n",
       "        // Send a \"J\" for go to next cell\n",
       "        event.which = 74;\n",
       "        event.keyCode = 74;\n",
       "        manager.command_mode();\n",
       "        manager.handle_keydown(event);\n",
       "    }\n",
       "}\n",
       "\n",
       "mpl.figure.prototype.handle_save = function(fig, msg) {\n",
       "    fig.ondownload(fig, null);\n",
       "}\n",
       "\n",
       "\n",
       "mpl.find_output_cell = function(html_output) {\n",
       "    // Return the cell and output element which can be found *uniquely* in the notebook.\n",
       "    // Note - this is a bit hacky, but it is done because the \"notebook_saving.Notebook\"\n",
       "    // IPython event is triggered only after the cells have been serialised, which for\n",
       "    // our purposes (turning an active figure into a static one), is too late.\n",
       "    var cells = IPython.notebook.get_cells();\n",
       "    var ncells = cells.length;\n",
       "    for (var i=0; i<ncells; i++) {\n",
       "        var cell = cells[i];\n",
       "        if (cell.cell_type === 'code'){\n",
       "            for (var j=0; j<cell.output_area.outputs.length; j++) {\n",
       "                var data = cell.output_area.outputs[j];\n",
       "                if (data.data) {\n",
       "                    // IPython >= 3 moved mimebundle to data attribute of output\n",
       "                    data = data.data;\n",
       "                }\n",
       "                if (data['text/html'] == html_output) {\n",
       "                    return [cell, data, j];\n",
       "                }\n",
       "            }\n",
       "        }\n",
       "    }\n",
       "}\n",
       "\n",
       "// Register the function which deals with the matplotlib target/channel.\n",
       "// The kernel may be null if the page has been refreshed.\n",
       "if (IPython.notebook.kernel != null) {\n",
       "    IPython.notebook.kernel.comm_manager.register_target('matplotlib', mpl.mpl_figure_comm);\n",
       "}\n"
      ],
      "text/plain": [
       "<IPython.core.display.Javascript object>"
      ]
     },
     "metadata": {},
     "output_type": "display_data"
    },
    {
     "data": {
      "text/html": [
       "<img src=\"data:image/png;base64,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\" width=\"640\">"
      ],
      "text/plain": [
       "<IPython.core.display.HTML object>"
      ]
     },
     "metadata": {},
     "output_type": "display_data"
    },
    {
     "data": {
      "text/plain": [
       "Text(0.5, 0, 'Z')"
      ]
     },
     "execution_count": 89,
     "metadata": {},
     "output_type": "execute_result"
    }
   ],
   "source": [
    "fig = plt.figure()\n",
    "ax = fig.add_subplot(111, projection='3d')\n",
    "\n",
    "ax.scatter(water_positions[:,0], water_positions[:,1], water_positions[:,2], c=['red','gray','gray'], s=1000)\n",
    "ax.grid(b=False)\n",
    "ax.set_xlabel('X')\n",
    "ax.set_ylabel('Y')\n",
    "ax.set_zlabel('Z')\n"
   ]
  },
  {
   "cell_type": "code",
   "execution_count": 90,
   "metadata": {},
   "outputs": [],
   "source": [
    "from narupa.trajectory import FrameData"
   ]
  },
  {
   "cell_type": "code",
   "execution_count": 97,
   "metadata": {},
   "outputs": [],
   "source": [
    "frame = FrameData()"
   ]
  },
  {
   "cell_type": "markdown",
   "metadata": {},
   "source": [
    "Now, we put all of this data in by accessing the appropriate storage (arrays or values) and assigning a key."
   ]
  },
  {
   "cell_type": "code",
   "execution_count": 98,
   "metadata": {},
   "outputs": [],
   "source": [
    "frame.arrays['particle.positions'] = water_positions.flatten() # We have to store as a flat array.\n",
    "frame.arrays['particle.elements'] = water_elements\n",
    "frame.arrays['bond.pairs'] = water_bonds.flatten()"
   ]
  },
  {
   "cell_type": "code",
   "execution_count": 99,
   "metadata": {},
   "outputs": [],
   "source": [
    "frame.values['particle.count'] = 3"
   ]
  },
  {
   "cell_type": "markdown",
   "metadata": {},
   "source": [
    "Let's print out the frame, how this looks when communicated to clients. It's just two dictionaries, one with values, one with arrays."
   ]
  },
  {
   "cell_type": "code",
   "execution_count": 100,
   "metadata": {},
   "outputs": [
    {
     "data": {
      "text/plain": [
       "values {\n",
       "  key: \"particle.count\"\n",
       "  value {\n",
       "    number_value: 3.0\n",
       "  }\n",
       "}\n",
       "arrays {\n",
       "  key: \"bond.pairs\"\n",
       "  value {\n",
       "    index_values {\n",
       "      values: 0\n",
       "      values: 1\n",
       "      values: 0\n",
       "      values: 2\n",
       "    }\n",
       "  }\n",
       "}\n",
       "arrays {\n",
       "  key: \"particle.elements\"\n",
       "  value {\n",
       "    index_values {\n",
       "      values: 8\n",
       "      values: 1\n",
       "      values: 1\n",
       "    }\n",
       "  }\n",
       "}\n",
       "arrays {\n",
       "  key: \"particle.positions\"\n",
       "  value {\n",
       "    float_values {\n",
       "      values: 0.0\n",
       "      values: 0.0\n",
       "      values: 0.0\n",
       "      values: 0.07554499804973602\n",
       "      values: 0.0471160002052784\n",
       "      values: 0.0\n",
       "      values: -0.07554499804973602\n",
       "      values: 0.0471160002052784\n",
       "      values: 0.0\n",
       "    }\n",
       "  }\n",
       "}"
      ]
     },
     "execution_count": 100,
     "metadata": {},
     "output_type": "execute_result"
    }
   ],
   "source": [
    "frame.raw"
   ]
  },
  {
   "cell_type": "markdown",
   "metadata": {},
   "source": [
    "To make things easier to use, the python wrapper has shortcuts for common molecular properties:"
   ]
  },
  {
   "cell_type": "code",
   "execution_count": 82,
   "metadata": {},
   "outputs": [
    {
     "data": {
      "text/plain": [
       "['array_keys',\n",
       " 'arrays',\n",
       " 'bond_orders',\n",
       " 'bond_pairs',\n",
       " 'box_vectors',\n",
       " 'chain_count',\n",
       " 'chain_names',\n",
       " 'kinetic_energy',\n",
       " 'particle_count',\n",
       " 'particle_elements',\n",
       " 'particle_names',\n",
       " 'particle_positions',\n",
       " 'particle_residues',\n",
       " 'particle_types',\n",
       " 'potential_energy',\n",
       " 'raw',\n",
       " 'residue_chains',\n",
       " 'residue_count',\n",
       " 'residue_ids',\n",
       " 'residue_names',\n",
       " 'set_float_array',\n",
       " 'set_index_array',\n",
       " 'set_string_array',\n",
       " 'shortcuts',\n",
       " 'used_shortcuts',\n",
       " 'value_keys',\n",
       " 'values']"
      ]
     },
     "execution_count": 82,
     "metadata": {},
     "output_type": "execute_result"
    }
   ],
   "source": [
    "[attribute for attribute in dir(frame) if not attribute.startswith('_')]"
   ]
  },
  {
   "cell_type": "markdown",
   "metadata": {},
   "source": [
    "So we can see what keys have been set: "
   ]
  },
  {
   "cell_type": "code",
   "execution_count": 83,
   "metadata": {},
   "outputs": [
    {
     "data": {
      "text/plain": [
       "{'bond.pairs', 'particle.elements', 'particle.positions'}"
      ]
     },
     "execution_count": 83,
     "metadata": {},
     "output_type": "execute_result"
    }
   ],
   "source": [
    "frame.array_keys"
   ]
  },
  {
   "cell_type": "code",
   "execution_count": 84,
   "metadata": {},
   "outputs": [
    {
     "data": {
      "text/plain": [
       "{'particle.count'}"
      ]
     },
     "execution_count": 84,
     "metadata": {},
     "output_type": "execute_result"
    }
   ],
   "source": [
    "frame.value_keys"
   ]
  },
  {
   "cell_type": "markdown",
   "metadata": {},
   "source": [
    "And we could have used the shortcuts to get and set the fields:"
   ]
  },
  {
   "cell_type": "code",
   "execution_count": 85,
   "metadata": {},
   "outputs": [],
   "source": [
    "frame.particle_count = 3\n",
    "frame.particle_positions = water_positions\n",
    "frame.particle_elements = water_elements\n",
    "frame.bond_pairs = water_bonds"
   ]
  },
  {
   "cell_type": "code",
   "execution_count": 86,
   "metadata": {
    "scrolled": true
   },
   "outputs": [
    {
     "data": {
      "text/plain": [
       "[[0.0, 0.0, 0.0],\n",
       " [0.0, 0.07554499804973602, -0.0471160002052784],\n",
       " [0.0, -0.07554499804973602, -0.0471160002052784]]"
      ]
     },
     "execution_count": 86,
     "metadata": {},
     "output_type": "execute_result"
    }
   ],
   "source": [
    "frame.particle_positions"
   ]
  },
  {
   "cell_type": "markdown",
   "metadata": {},
   "source": [
    "## Transmit it to VR"
   ]
  },
  {
   "cell_type": "markdown",
   "metadata": {},
   "source": [
    "We've provided enough data to visualize this amazing molecule in VR. So we'll fire up a server and send this frame."
   ]
  },
  {
   "cell_type": "code",
   "execution_count": 73,
   "metadata": {},
   "outputs": [],
   "source": [
    "from narupa.app import NarupaFrameApplication"
   ]
  },
  {
   "cell_type": "code",
   "execution_count": 74,
   "metadata": {},
   "outputs": [],
   "source": [
    "server = NarupaFrameApplication.basic_server(port=0)"
   ]
  },
  {
   "cell_type": "code",
   "execution_count": 101,
   "metadata": {},
   "outputs": [],
   "source": [
    "server.frame_publisher.send_frame(0, frame)"
   ]
  },
  {
   "cell_type": "markdown",
   "metadata": {},
   "source": [
    "Connect from VR, and you'll see something like this:\n",
    "\n",
    "![Narupa H2O](images/h2o.png)"
   ]
  },
  {
   "cell_type": "markdown",
   "metadata": {},
   "source": [
    "## What kind of data can I send?"
   ]
  },
  {
   "cell_type": "markdown",
   "metadata": {},
   "source": [
    "You may have noticed that the particle count was transmitted as a `number_value` in the frame, and that the positions were a `float_value`. What kind of values can you send? What kind of arrays can you send? "
   ]
  },
  {
   "cell_type": "markdown",
   "metadata": {},
   "source": [
    "### Arrays"
   ]
  },
  {
   "cell_type": "markdown",
   "metadata": {},
   "source": [
    "For the arrays, you can send decimal number (floats), positive integers (unsigned int) and strings. The types are restricted so we can send them efficiently."
   ]
  },
  {
   "cell_type": "code",
   "execution_count": 138,
   "metadata": {},
   "outputs": [],
   "source": [
    "frame.arrays['some floats'] = [1.0, 2.5, 3.5]\n",
    "frame.arrays['some numbers'] = [1,2,3]\n",
    "frame.arrays['some strings'] = ['a', 'bc', 'de']"
   ]
  },
  {
   "cell_type": "markdown",
   "metadata": {},
   "source": [
    "Of course, an array could just be an array of bytes (those in the business call these a `blob`)"
   ]
  },
  {
   "cell_type": "code",
   "execution_count": 139,
   "metadata": {},
   "outputs": [],
   "source": [
    "with open('images/example_image.jpg', 'rb') as f:\n",
    "    image_bytes = f.read()"
   ]
  },
  {
   "cell_type": "code",
   "execution_count": 140,
   "metadata": {},
   "outputs": [],
   "source": [
    "frame.arrays['image'] = image_bytes"
   ]
  },
  {
   "cell_type": "code",
   "execution_count": 141,
   "metadata": {},
   "outputs": [],
   "source": [
    "server.frame_publisher.send_frame(0, frame)"
   ]
  },
  {
   "cell_type": "code",
   "execution_count": 147,
   "metadata": {},
   "outputs": [],
   "source": [
    "from narupa.app import NarupaImdClient\n",
    "from IPython.display import Image\n",
    "\n",
    "with NarupaImdClient.connect_to_single_server(port=server.port) as client:\n",
    "    client.wait_until_first_frame()\n",
    "    received_image_bytes = bytes(client.latest_frame.arrays['image'])"
   ]
  },
  {
   "cell_type": "code",
   "execution_count": 148,
   "metadata": {},
   "outputs": [
    {
     "data": {
      "image/jpeg": "[encoded data removed]",
      "text/plain": [
       "<IPython.core.display.Image object>"
      ]
     },
     "execution_count": 148,
     "metadata": {
      "image/jpeg": {
       "width": 200
      }
     },
     "output_type": "execute_result"
    }
   ],
   "source": [
    "Image(data=received_image_bytes, width=200)"
   ]
  },
  {
   "cell_type": "markdown",
   "metadata": {},
   "source": [
    "### Values"
   ]
  },
  {
   "cell_type": "markdown",
   "metadata": {},
   "source": [
    "For the values, you can send anything that can be represented with Protobuf's [Value](https://developers.google.com/protocol-buffers/docs/reference/csharp/class/google/protobuf/well-known-types/value) type. \n",
    "\n",
    "This is a very flexible structure, as it can send numbers, strings, bytes, booleans, and lists and `Structs` of these things. A Protobuf `Struct` is analogous to a JSON object. \n",
    "\n",
    "We provide some utility methods to help convert these things"
   ]
  },
  {
   "cell_type": "code",
   "execution_count": 149,
   "metadata": {},
   "outputs": [],
   "source": [
    "from narupa.utilities.protobuf_utilities import dict_to_struct"
   ]
  },
  {
   "cell_type": "code",
   "execution_count": 189,
   "metadata": {},
   "outputs": [],
   "source": [
    "complicated_object = {\n",
    "    'name' : 'Squirtle',\n",
    "    'number' : 7,\n",
    "    'height' : 0.5,\n",
    "    'weight' : 9.0,\n",
    "    'gender' :['male', 'female'],\n",
    "    'abilities' : ['torrent']\n",
    "}"
   ]
  },
  {
   "cell_type": "markdown",
   "metadata": {},
   "source": [
    "#TODO Needs a fix for [this issue](https://gitlab.com/intangiblerealities/narupa-protocol/issues/159) to assign a struct"
   ]
  },
  {
   "cell_type": "markdown",
   "metadata": {},
   "source": [
    "## More Molecular Data "
   ]
  },
  {
   "cell_type": "markdown",
   "metadata": {},
   "source": [
    "As well as the positions, bonds, and elements, we can set additional fields that are commonly available in topological fields formats. If these are passed, lots of exciting rendering and selection opportunites present themselves\n",
    "\n",
    "The following assigns the water molecule to the residue HOH, in the chain A "
   ]
  },
  {
   "cell_type": "code",
   "execution_count": 193,
   "metadata": {},
   "outputs": [],
   "source": [
    "frame.residue_ids = ['1', '1', '1']\n",
    "frame.residue_names = ['HOH', 'HOH', 'HOH']\n",
    "frame.residue_count = 1\n",
    "frame.particle_residues = [0,0,0]\n",
    "frame.chain_names = ['A']\n",
    "frame.chain_count = 1\n",
    "frame.residue_chains = [0]"
   ]
  },
  {
   "cell_type": "code",
   "execution_count": 192,
   "metadata": {},
   "outputs": [],
   "source": [
    "server.frame_publisher.send_frame(0, frame)"
   ]
  },
  {
   "cell_type": "markdown",
   "metadata": {},
   "source": [
    "## Updating Data in a Frame"
   ]
  },
  {
   "cell_type": "markdown",
   "metadata": {},
   "source": [
    "When sending data, the iMD-VR client is intelligent enough to reuse data it has received before, so you don't need to send the everything every time. \n",
    "\n",
    "Our convention is to send the topology in the first frame, then just positions after that. The Frame server is smart enough to send the latest version of everything to a client when it first connects.\n",
    "\n",
    "In the following, we just update the positions array to move the water molecule by 1 nanometer in each cardinal direction"
   ]
  },
  {
   "cell_type": "code",
   "execution_count": 196,
   "metadata": {},
   "outputs": [],
   "source": [
    "positions_frame = FrameData()\n",
    "positions_frame.particle_positions = water_positions + 1"
   ]
  },
  {
   "cell_type": "code",
   "execution_count": 197,
   "metadata": {},
   "outputs": [],
   "source": [
    "server.frame_publisher.send_frame(1, positions_frame)"
   ]
  },
  {
   "cell_type": "markdown",
   "metadata": {},
   "source": [
    "# Next Steps"
   ]
  },
  {
   "cell_type": "markdown",
   "metadata": {},
   "source": [
    "* Learn how to set up [commands and synchronise state](commands_and_state.ipynb)\n",
    "* Learn about the details of setting up [servers](servers.ipynb)\n"
   ]
  },
  {
   "cell_type": "code",
   "execution_count": null,
   "metadata": {},
   "outputs": [],
   "source": []
  }
 ],
 "metadata": {
  "kernelspec": {
   "display_name": "Python 3",
   "language": "python",
   "name": "python3"
  },
  "language_info": {
   "codemirror_mode": {
    "name": "ipython",
    "version": 3
   },
   "file_extension": ".py",
   "mimetype": "text/x-python",
   "name": "python",
   "nbconvert_exporter": "python",
   "pygments_lexer": "ipython3",
   "version": "3.7.5"
  }
 },
 "nbformat": 4,
 "nbformat_minor": 1
}
