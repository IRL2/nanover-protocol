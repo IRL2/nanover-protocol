{
 "cells": [
  {
   "cell_type": "markdown",
   "metadata": {
    "collapsed": true,
    "pycharm": {
     "is_executing": false
    }
   },
   "source": [
    "# Narupa Concepts: Frames\n"
   ]
  },
  {
   "cell_type": "markdown",
   "metadata": {},
   "source": [
    "In this notebook, we'll dig into one of the main ideas in Narupa, the **frame**"
   ]
  },
  {
   "cell_type": "code",
   "execution_count": 1,
   "metadata": {},
   "outputs": [],
   "source": [
    "from mpl_toolkits.mplot3d import Axes3D  # noqa: F401 unused import\n",
    "import matplotlib.pyplot as plt"
   ]
  },
  {
   "cell_type": "code",
   "execution_count": 2,
   "metadata": {},
   "outputs": [],
   "source": [
    "%matplotlib notebook"
   ]
  },
  {
   "cell_type": "markdown",
   "metadata": {},
   "source": [
    "## What is a frame?"
   ]
  },
  {
   "cell_type": "markdown",
   "metadata": {},
   "source": [
    "A frame is our way of representing a molecular system or trajectory in a way that is efficient to send over the network to clients, e.g. the VR app. \n",
    "\n",
    "The schematic illustrates this: a Narupa session produces a Frame Data object, which is serialized and transmitted using [GRPC](https://grpc.io) to client applications.\n",
    "\n",
    "![Narupa Frame](images/frame_server.png)"
   ]
  },
  {
   "cell_type": "markdown",
   "metadata": {},
   "source": [
    "A frame is represented as two dictionaries: one of arrays, and one of values. The arrays are used for sending lists of values of the same type, such as particle positions, while the values are used for transmitting single objects, such as numbers or strings.\n",
    "\n",
    "Let's create a frame for a water molecule. We'll do it by hand."
   ]
  },
  {
   "cell_type": "markdown",
   "metadata": {},
   "source": [
    "### A Note on Narupa Units"
   ]
  },
  {
   "cell_type": "markdown",
   "metadata": {},
   "source": [
    "In Narupa, we use the same units as our favourite MD package, [OpenMM](http://openmm.org/). \n",
    "\n",
    "| Quantity    | Unit              |\n",
    "|-------------|-------------------|\n",
    "| Distance    | nm                |\n",
    "| Time        | ps                |\n",
    "| mass        | atomic mass units |\n",
    "| charge      | proton charge     |\n",
    "| temperature | Kelvin            |\n",
    "| angle       | radians           |\n",
    "| energy      | kJ/mol            |\n",
    "\n",
    "Why? Partially because we use OpenMM a lot, but also, to quote from [the OpenMM documentation](http://docs.openmm.org/latest/userguide/theory.html#units): \n",
    "\n",
    "> These units have the important feature that they form an internally consistent set. For example, a force always has the same units (kJ/mol/nm) whether it is calculated as the gradient of an energy or as the product of a mass and an acceleration. This is not true in some other widely used unit systems, such as those that express energy in kcal/mol.\n",
    "\n",
    "So even though we interface with many packages, such as ASE, Sparrow and LAMMPS, which use different units, we always try to convert back to these units when producing frames."
   ]
  },
  {
   "cell_type": "code",
   "execution_count": 3,
   "metadata": {},
   "outputs": [],
   "source": [
    "import numpy as np"
   ]
  },
  {
   "cell_type": "code",
   "execution_count": 4,
   "metadata": {},
   "outputs": [],
   "source": [
    "# arrange the water molecular O H H \n",
    "water_positions = np.array([[0,0,0],[0.075545, 0.047116, 0.00000], [-0.075545, 0.047116, 0.00000 ]])\n",
    "# elements are defined by their atomic numbers\n",
    "water_elements = [8, 1, 1]\n",
    "# Define bonds between the oxygen and the hydrogens.\n",
    "water_bonds = np.array([[0, 1], [0, 2]])"
   ]
  },
  {
   "cell_type": "code",
   "execution_count": 5,
   "metadata": {},
   "outputs": [
    {
     "data": {
      "application/javascript": [
       "/* Put everything inside the global mpl namespace */\n",
       "window.mpl = {};\n",
       "\n",
       "\n",
       "mpl.get_websocket_type = function() {\n",
       "    if (typeof(WebSocket) !== 'undefined') {\n",
       "        return WebSocket;\n",
       "    } else if (typeof(MozWebSocket) !== 'undefined') {\n",
       "        return MozWebSocket;\n",
       "    } else {\n",
       "        alert('Your browser does not have WebSocket support. ' +\n",
       "              'Please try Chrome, Safari or Firefox ≥ 6. ' +\n",
       "              'Firefox 4 and 5 are also supported but you ' +\n",
       "              'have to enable WebSockets in about:config.');\n",
       "    };\n",
       "}\n",
       "\n",
       "mpl.figure = function(figure_id, websocket, ondownload, parent_element) {\n",
       "    this.id = figure_id;\n",
       "\n",
       "    this.ws = websocket;\n",
       "\n",
       "    this.supports_binary = (this.ws.binaryType != undefined);\n",
       "\n",
       "    if (!this.supports_binary) {\n",
       "        var warnings = document.getElementById(\"mpl-warnings\");\n",
       "        if (warnings) {\n",
       "            warnings.style.display = 'block';\n",
       "            warnings.textContent = (\n",
       "                \"This browser does not support binary websocket messages. \" +\n",
       "                    \"Performance may be slow.\");\n",
       "        }\n",
       "    }\n",
       "\n",
       "    this.imageObj = new Image();\n",
       "\n",
       "    this.context = undefined;\n",
       "    this.message = undefined;\n",
       "    this.canvas = undefined;\n",
       "    this.rubberband_canvas = undefined;\n",
       "    this.rubberband_context = undefined;\n",
       "    this.format_dropdown = undefined;\n",
       "\n",
       "    this.image_mode = 'full';\n",
       "\n",
       "    this.root = $('<div/>');\n",
       "    this._root_extra_style(this.root)\n",
       "    this.root.attr('style', 'display: inline-block');\n",
       "\n",
       "    $(parent_element).append(this.root);\n",
       "\n",
       "    this._init_header(this);\n",
       "    this._init_canvas(this);\n",
       "    this._init_toolbar(this);\n",
       "\n",
       "    var fig = this;\n",
       "\n",
       "    this.waiting = false;\n",
       "\n",
       "    this.ws.onopen =  function () {\n",
       "            fig.send_message(\"supports_binary\", {value: fig.supports_binary});\n",
       "            fig.send_message(\"send_image_mode\", {});\n",
       "            if (mpl.ratio != 1) {\n",
       "                fig.send_message(\"set_dpi_ratio\", {'dpi_ratio': mpl.ratio});\n",
       "            }\n",
       "            fig.send_message(\"refresh\", {});\n",
       "        }\n",
       "\n",
       "    this.imageObj.onload = function() {\n",
       "            if (fig.image_mode == 'full') {\n",
       "                // Full images could contain transparency (where diff images\n",
       "                // almost always do), so we need to clear the canvas so that\n",
       "                // there is no ghosting.\n",
       "                fig.context.clearRect(0, 0, fig.canvas.width, fig.canvas.height);\n",
       "            }\n",
       "            fig.context.drawImage(fig.imageObj, 0, 0);\n",
       "        };\n",
       "\n",
       "    this.imageObj.onunload = function() {\n",
       "        fig.ws.close();\n",
       "    }\n",
       "\n",
       "    this.ws.onmessage = this._make_on_message_function(this);\n",
       "\n",
       "    this.ondownload = ondownload;\n",
       "}\n",
       "\n",
       "mpl.figure.prototype._init_header = function() {\n",
       "    var titlebar = $(\n",
       "        '<div class=\"ui-dialog-titlebar ui-widget-header ui-corner-all ' +\n",
       "        'ui-helper-clearfix\"/>');\n",
       "    var titletext = $(\n",
       "        '<div class=\"ui-dialog-title\" style=\"width: 100%; ' +\n",
       "        'text-align: center; padding: 3px;\"/>');\n",
       "    titlebar.append(titletext)\n",
       "    this.root.append(titlebar);\n",
       "    this.header = titletext[0];\n",
       "}\n",
       "\n",
       "\n",
       "\n",
       "mpl.figure.prototype._canvas_extra_style = function(canvas_div) {\n",
       "\n",
       "}\n",
       "\n",
       "\n",
       "mpl.figure.prototype._root_extra_style = function(canvas_div) {\n",
       "\n",
       "}\n",
       "\n",
       "mpl.figure.prototype._init_canvas = function() {\n",
       "    var fig = this;\n",
       "\n",
       "    var canvas_div = $('<div/>');\n",
       "\n",
       "    canvas_div.attr('style', 'position: relative; clear: both; outline: 0');\n",
       "\n",
       "    function canvas_keyboard_event(event) {\n",
       "        return fig.key_event(event, event['data']);\n",
       "    }\n",
       "\n",
       "    canvas_div.keydown('key_press', canvas_keyboard_event);\n",
       "    canvas_div.keyup('key_release', canvas_keyboard_event);\n",
       "    this.canvas_div = canvas_div\n",
       "    this._canvas_extra_style(canvas_div)\n",
       "    this.root.append(canvas_div);\n",
       "\n",
       "    var canvas = $('<canvas/>');\n",
       "    canvas.addClass('mpl-canvas');\n",
       "    canvas.attr('style', \"left: 0; top: 0; z-index: 0; outline: 0\")\n",
       "\n",
       "    this.canvas = canvas[0];\n",
       "    this.context = canvas[0].getContext(\"2d\");\n",
       "\n",
       "    var backingStore = this.context.backingStorePixelRatio ||\n",
       "\tthis.context.webkitBackingStorePixelRatio ||\n",
       "\tthis.context.mozBackingStorePixelRatio ||\n",
       "\tthis.context.msBackingStorePixelRatio ||\n",
       "\tthis.context.oBackingStorePixelRatio ||\n",
       "\tthis.context.backingStorePixelRatio || 1;\n",
       "\n",
       "    mpl.ratio = (window.devicePixelRatio || 1) / backingStore;\n",
       "\n",
       "    var rubberband = $('<canvas/>');\n",
       "    rubberband.attr('style', \"position: absolute; left: 0; top: 0; z-index: 1;\")\n",
       "\n",
       "    var pass_mouse_events = true;\n",
       "\n",
       "    canvas_div.resizable({\n",
       "        start: function(event, ui) {\n",
       "            pass_mouse_events = false;\n",
       "        },\n",
       "        resize: function(event, ui) {\n",
       "            fig.request_resize(ui.size.width, ui.size.height);\n",
       "        },\n",
       "        stop: function(event, ui) {\n",
       "            pass_mouse_events = true;\n",
       "            fig.request_resize(ui.size.width, ui.size.height);\n",
       "        },\n",
       "    });\n",
       "\n",
       "    function mouse_event_fn(event) {\n",
       "        if (pass_mouse_events)\n",
       "            return fig.mouse_event(event, event['data']);\n",
       "    }\n",
       "\n",
       "    rubberband.mousedown('button_press', mouse_event_fn);\n",
       "    rubberband.mouseup('button_release', mouse_event_fn);\n",
       "    // Throttle sequential mouse events to 1 every 20ms.\n",
       "    rubberband.mousemove('motion_notify', mouse_event_fn);\n",
       "\n",
       "    rubberband.mouseenter('figure_enter', mouse_event_fn);\n",
       "    rubberband.mouseleave('figure_leave', mouse_event_fn);\n",
       "\n",
       "    canvas_div.on(\"wheel\", function (event) {\n",
       "        event = event.originalEvent;\n",
       "        event['data'] = 'scroll'\n",
       "        if (event.deltaY < 0) {\n",
       "            event.step = 1;\n",
       "        } else {\n",
       "            event.step = -1;\n",
       "        }\n",
       "        mouse_event_fn(event);\n",
       "    });\n",
       "\n",
       "    canvas_div.append(canvas);\n",
       "    canvas_div.append(rubberband);\n",
       "\n",
       "    this.rubberband = rubberband;\n",
       "    this.rubberband_canvas = rubberband[0];\n",
       "    this.rubberband_context = rubberband[0].getContext(\"2d\");\n",
       "    this.rubberband_context.strokeStyle = \"#000000\";\n",
       "\n",
       "    this._resize_canvas = function(width, height) {\n",
       "        // Keep the size of the canvas, canvas container, and rubber band\n",
       "        // canvas in synch.\n",
       "        canvas_div.css('width', width)\n",
       "        canvas_div.css('height', height)\n",
       "\n",
       "        canvas.attr('width', width * mpl.ratio);\n",
       "        canvas.attr('height', height * mpl.ratio);\n",
       "        canvas.attr('style', 'width: ' + width + 'px; height: ' + height + 'px;');\n",
       "\n",
       "        rubberband.attr('width', width);\n",
       "        rubberband.attr('height', height);\n",
       "    }\n",
       "\n",
       "    // Set the figure to an initial 600x600px, this will subsequently be updated\n",
       "    // upon first draw.\n",
       "    this._resize_canvas(600, 600);\n",
       "\n",
       "    // Disable right mouse context menu.\n",
       "    $(this.rubberband_canvas).bind(\"contextmenu\",function(e){\n",
       "        return false;\n",
       "    });\n",
       "\n",
       "    function set_focus () {\n",
       "        canvas.focus();\n",
       "        canvas_div.focus();\n",
       "    }\n",
       "\n",
       "    window.setTimeout(set_focus, 100);\n",
       "}\n",
       "\n",
       "mpl.figure.prototype._init_toolbar = function() {\n",
       "    var fig = this;\n",
       "\n",
       "    var nav_element = $('<div/>');\n",
       "    nav_element.attr('style', 'width: 100%');\n",
       "    this.root.append(nav_element);\n",
       "\n",
       "    // Define a callback function for later on.\n",
       "    function toolbar_event(event) {\n",
       "        return fig.toolbar_button_onclick(event['data']);\n",
       "    }\n",
       "    function toolbar_mouse_event(event) {\n",
       "        return fig.toolbar_button_onmouseover(event['data']);\n",
       "    }\n",
       "\n",
       "    for(var toolbar_ind in mpl.toolbar_items) {\n",
       "        var name = mpl.toolbar_items[toolbar_ind][0];\n",
       "        var tooltip = mpl.toolbar_items[toolbar_ind][1];\n",
       "        var image = mpl.toolbar_items[toolbar_ind][2];\n",
       "        var method_name = mpl.toolbar_items[toolbar_ind][3];\n",
       "\n",
       "        if (!name) {\n",
       "            // put a spacer in here.\n",
       "            continue;\n",
       "        }\n",
       "        var button = $('<button/>');\n",
       "        button.addClass('ui-button ui-widget ui-state-default ui-corner-all ' +\n",
       "                        'ui-button-icon-only');\n",
       "        button.attr('role', 'button');\n",
       "        button.attr('aria-disabled', 'false');\n",
       "        button.click(method_name, toolbar_event);\n",
       "        button.mouseover(tooltip, toolbar_mouse_event);\n",
       "\n",
       "        var icon_img = $('<span/>');\n",
       "        icon_img.addClass('ui-button-icon-primary ui-icon');\n",
       "        icon_img.addClass(image);\n",
       "        icon_img.addClass('ui-corner-all');\n",
       "\n",
       "        var tooltip_span = $('<span/>');\n",
       "        tooltip_span.addClass('ui-button-text');\n",
       "        tooltip_span.html(tooltip);\n",
       "\n",
       "        button.append(icon_img);\n",
       "        button.append(tooltip_span);\n",
       "\n",
       "        nav_element.append(button);\n",
       "    }\n",
       "\n",
       "    var fmt_picker_span = $('<span/>');\n",
       "\n",
       "    var fmt_picker = $('<select/>');\n",
       "    fmt_picker.addClass('mpl-toolbar-option ui-widget ui-widget-content');\n",
       "    fmt_picker_span.append(fmt_picker);\n",
       "    nav_element.append(fmt_picker_span);\n",
       "    this.format_dropdown = fmt_picker[0];\n",
       "\n",
       "    for (var ind in mpl.extensions) {\n",
       "        var fmt = mpl.extensions[ind];\n",
       "        var option = $(\n",
       "            '<option/>', {selected: fmt === mpl.default_extension}).html(fmt);\n",
       "        fmt_picker.append(option);\n",
       "    }\n",
       "\n",
       "    // Add hover states to the ui-buttons\n",
       "    $( \".ui-button\" ).hover(\n",
       "        function() { $(this).addClass(\"ui-state-hover\");},\n",
       "        function() { $(this).removeClass(\"ui-state-hover\");}\n",
       "    );\n",
       "\n",
       "    var status_bar = $('<span class=\"mpl-message\"/>');\n",
       "    nav_element.append(status_bar);\n",
       "    this.message = status_bar[0];\n",
       "}\n",
       "\n",
       "mpl.figure.prototype.request_resize = function(x_pixels, y_pixels) {\n",
       "    // Request matplotlib to resize the figure. Matplotlib will then trigger a resize in the client,\n",
       "    // which will in turn request a refresh of the image.\n",
       "    this.send_message('resize', {'width': x_pixels, 'height': y_pixels});\n",
       "}\n",
       "\n",
       "mpl.figure.prototype.send_message = function(type, properties) {\n",
       "    properties['type'] = type;\n",
       "    properties['figure_id'] = this.id;\n",
       "    this.ws.send(JSON.stringify(properties));\n",
       "}\n",
       "\n",
       "mpl.figure.prototype.send_draw_message = function() {\n",
       "    if (!this.waiting) {\n",
       "        this.waiting = true;\n",
       "        this.ws.send(JSON.stringify({type: \"draw\", figure_id: this.id}));\n",
       "    }\n",
       "}\n",
       "\n",
       "\n",
       "mpl.figure.prototype.handle_save = function(fig, msg) {\n",
       "    var format_dropdown = fig.format_dropdown;\n",
       "    var format = format_dropdown.options[format_dropdown.selectedIndex].value;\n",
       "    fig.ondownload(fig, format);\n",
       "}\n",
       "\n",
       "\n",
       "mpl.figure.prototype.handle_resize = function(fig, msg) {\n",
       "    var size = msg['size'];\n",
       "    if (size[0] != fig.canvas.width || size[1] != fig.canvas.height) {\n",
       "        fig._resize_canvas(size[0], size[1]);\n",
       "        fig.send_message(\"refresh\", {});\n",
       "    };\n",
       "}\n",
       "\n",
       "mpl.figure.prototype.handle_rubberband = function(fig, msg) {\n",
       "    var x0 = msg['x0'] / mpl.ratio;\n",
       "    var y0 = (fig.canvas.height - msg['y0']) / mpl.ratio;\n",
       "    var x1 = msg['x1'] / mpl.ratio;\n",
       "    var y1 = (fig.canvas.height - msg['y1']) / mpl.ratio;\n",
       "    x0 = Math.floor(x0) + 0.5;\n",
       "    y0 = Math.floor(y0) + 0.5;\n",
       "    x1 = Math.floor(x1) + 0.5;\n",
       "    y1 = Math.floor(y1) + 0.5;\n",
       "    var min_x = Math.min(x0, x1);\n",
       "    var min_y = Math.min(y0, y1);\n",
       "    var width = Math.abs(x1 - x0);\n",
       "    var height = Math.abs(y1 - y0);\n",
       "\n",
       "    fig.rubberband_context.clearRect(\n",
       "        0, 0, fig.canvas.width / mpl.ratio, fig.canvas.height / mpl.ratio);\n",
       "\n",
       "    fig.rubberband_context.strokeRect(min_x, min_y, width, height);\n",
       "}\n",
       "\n",
       "mpl.figure.prototype.handle_figure_label = function(fig, msg) {\n",
       "    // Updates the figure title.\n",
       "    fig.header.textContent = msg['label'];\n",
       "}\n",
       "\n",
       "mpl.figure.prototype.handle_cursor = function(fig, msg) {\n",
       "    var cursor = msg['cursor'];\n",
       "    switch(cursor)\n",
       "    {\n",
       "    case 0:\n",
       "        cursor = 'pointer';\n",
       "        break;\n",
       "    case 1:\n",
       "        cursor = 'default';\n",
       "        break;\n",
       "    case 2:\n",
       "        cursor = 'crosshair';\n",
       "        break;\n",
       "    case 3:\n",
       "        cursor = 'move';\n",
       "        break;\n",
       "    }\n",
       "    fig.rubberband_canvas.style.cursor = cursor;\n",
       "}\n",
       "\n",
       "mpl.figure.prototype.handle_message = function(fig, msg) {\n",
       "    fig.message.textContent = msg['message'];\n",
       "}\n",
       "\n",
       "mpl.figure.prototype.handle_draw = function(fig, msg) {\n",
       "    // Request the server to send over a new figure.\n",
       "    fig.send_draw_message();\n",
       "}\n",
       "\n",
       "mpl.figure.prototype.handle_image_mode = function(fig, msg) {\n",
       "    fig.image_mode = msg['mode'];\n",
       "}\n",
       "\n",
       "mpl.figure.prototype.updated_canvas_event = function() {\n",
       "    // Called whenever the canvas gets updated.\n",
       "    this.send_message(\"ack\", {});\n",
       "}\n",
       "\n",
       "// A function to construct a web socket function for onmessage handling.\n",
       "// Called in the figure constructor.\n",
       "mpl.figure.prototype._make_on_message_function = function(fig) {\n",
       "    return function socket_on_message(evt) {\n",
       "        if (evt.data instanceof Blob) {\n",
       "            /* FIXME: We get \"Resource interpreted as Image but\n",
       "             * transferred with MIME type text/plain:\" errors on\n",
       "             * Chrome.  But how to set the MIME type?  It doesn't seem\n",
       "             * to be part of the websocket stream */\n",
       "            evt.data.type = \"image/png\";\n",
       "\n",
       "            /* Free the memory for the previous frames */\n",
       "            if (fig.imageObj.src) {\n",
       "                (window.URL || window.webkitURL).revokeObjectURL(\n",
       "                    fig.imageObj.src);\n",
       "            }\n",
       "\n",
       "            fig.imageObj.src = (window.URL || window.webkitURL).createObjectURL(\n",
       "                evt.data);\n",
       "            fig.updated_canvas_event();\n",
       "            fig.waiting = false;\n",
       "            return;\n",
       "        }\n",
       "        else if (typeof evt.data === 'string' && evt.data.slice(0, 21) == \"data:image/png;base64\") {\n",
       "            fig.imageObj.src = evt.data;\n",
       "            fig.updated_canvas_event();\n",
       "            fig.waiting = false;\n",
       "            return;\n",
       "        }\n",
       "\n",
       "        var msg = JSON.parse(evt.data);\n",
       "        var msg_type = msg['type'];\n",
       "\n",
       "        // Call the  \"handle_{type}\" callback, which takes\n",
       "        // the figure and JSON message as its only arguments.\n",
       "        try {\n",
       "            var callback = fig[\"handle_\" + msg_type];\n",
       "        } catch (e) {\n",
       "            console.log(\"No handler for the '\" + msg_type + \"' message type: \", msg);\n",
       "            return;\n",
       "        }\n",
       "\n",
       "        if (callback) {\n",
       "            try {\n",
       "                // console.log(\"Handling '\" + msg_type + \"' message: \", msg);\n",
       "                callback(fig, msg);\n",
       "            } catch (e) {\n",
       "                console.log(\"Exception inside the 'handler_\" + msg_type + \"' callback:\", e, e.stack, msg);\n",
       "            }\n",
       "        }\n",
       "    };\n",
       "}\n",
       "\n",
       "// from http://stackoverflow.com/questions/1114465/getting-mouse-location-in-canvas\n",
       "mpl.findpos = function(e) {\n",
       "    //this section is from http://www.quirksmode.org/js/events_properties.html\n",
       "    var targ;\n",
       "    if (!e)\n",
       "        e = window.event;\n",
       "    if (e.target)\n",
       "        targ = e.target;\n",
       "    else if (e.srcElement)\n",
       "        targ = e.srcElement;\n",
       "    if (targ.nodeType == 3) // defeat Safari bug\n",
       "        targ = targ.parentNode;\n",
       "\n",
       "    // jQuery normalizes the pageX and pageY\n",
       "    // pageX,Y are the mouse positions relative to the document\n",
       "    // offset() returns the position of the element relative to the document\n",
       "    var x = e.pageX - $(targ).offset().left;\n",
       "    var y = e.pageY - $(targ).offset().top;\n",
       "\n",
       "    return {\"x\": x, \"y\": y};\n",
       "};\n",
       "\n",
       "/*\n",
       " * return a copy of an object with only non-object keys\n",
       " * we need this to avoid circular references\n",
       " * http://stackoverflow.com/a/24161582/3208463\n",
       " */\n",
       "function simpleKeys (original) {\n",
       "  return Object.keys(original).reduce(function (obj, key) {\n",
       "    if (typeof original[key] !== 'object')\n",
       "        obj[key] = original[key]\n",
       "    return obj;\n",
       "  }, {});\n",
       "}\n",
       "\n",
       "mpl.figure.prototype.mouse_event = function(event, name) {\n",
       "    var canvas_pos = mpl.findpos(event)\n",
       "\n",
       "    if (name === 'button_press')\n",
       "    {\n",
       "        this.canvas.focus();\n",
       "        this.canvas_div.focus();\n",
       "    }\n",
       "\n",
       "    var x = canvas_pos.x * mpl.ratio;\n",
       "    var y = canvas_pos.y * mpl.ratio;\n",
       "\n",
       "    this.send_message(name, {x: x, y: y, button: event.button,\n",
       "                             step: event.step,\n",
       "                             guiEvent: simpleKeys(event)});\n",
       "\n",
       "    /* This prevents the web browser from automatically changing to\n",
       "     * the text insertion cursor when the button is pressed.  We want\n",
       "     * to control all of the cursor setting manually through the\n",
       "     * 'cursor' event from matplotlib */\n",
       "    event.preventDefault();\n",
       "    return false;\n",
       "}\n",
       "\n",
       "mpl.figure.prototype._key_event_extra = function(event, name) {\n",
       "    // Handle any extra behaviour associated with a key event\n",
       "}\n",
       "\n",
       "mpl.figure.prototype.key_event = function(event, name) {\n",
       "\n",
       "    // Prevent repeat events\n",
       "    if (name == 'key_press')\n",
       "    {\n",
       "        if (event.which === this._key)\n",
       "            return;\n",
       "        else\n",
       "            this._key = event.which;\n",
       "    }\n",
       "    if (name == 'key_release')\n",
       "        this._key = null;\n",
       "\n",
       "    var value = '';\n",
       "    if (event.ctrlKey && event.which != 17)\n",
       "        value += \"ctrl+\";\n",
       "    if (event.altKey && event.which != 18)\n",
       "        value += \"alt+\";\n",
       "    if (event.shiftKey && event.which != 16)\n",
       "        value += \"shift+\";\n",
       "\n",
       "    value += 'k';\n",
       "    value += event.which.toString();\n",
       "\n",
       "    this._key_event_extra(event, name);\n",
       "\n",
       "    this.send_message(name, {key: value,\n",
       "                             guiEvent: simpleKeys(event)});\n",
       "    return false;\n",
       "}\n",
       "\n",
       "mpl.figure.prototype.toolbar_button_onclick = function(name) {\n",
       "    if (name == 'download') {\n",
       "        this.handle_save(this, null);\n",
       "    } else {\n",
       "        this.send_message(\"toolbar_button\", {name: name});\n",
       "    }\n",
       "};\n",
       "\n",
       "mpl.figure.prototype.toolbar_button_onmouseover = function(tooltip) {\n",
       "    this.message.textContent = tooltip;\n",
       "};\n",
       "mpl.toolbar_items = [[\"Home\", \"Reset original view\", \"fa fa-home icon-home\", \"home\"], [\"Back\", \"Back to previous view\", \"fa fa-arrow-left icon-arrow-left\", \"back\"], [\"Forward\", \"Forward to next view\", \"fa fa-arrow-right icon-arrow-right\", \"forward\"], [\"\", \"\", \"\", \"\"], [\"Pan\", \"Pan axes with left mouse, zoom with right\", \"fa fa-arrows icon-move\", \"pan\"], [\"Zoom\", \"Zoom to rectangle\", \"fa fa-square-o icon-check-empty\", \"zoom\"], [\"\", \"\", \"\", \"\"], [\"Download\", \"Download plot\", \"fa fa-floppy-o icon-save\", \"download\"]];\n",
       "\n",
       "mpl.extensions = [\"eps\", \"pdf\", \"png\", \"ps\", \"raw\", \"svg\"];\n",
       "\n",
       "mpl.default_extension = \"png\";var comm_websocket_adapter = function(comm) {\n",
       "    // Create a \"websocket\"-like object which calls the given IPython comm\n",
       "    // object with the appropriate methods. Currently this is a non binary\n",
       "    // socket, so there is still some room for performance tuning.\n",
       "    var ws = {};\n",
       "\n",
       "    ws.close = function() {\n",
       "        comm.close()\n",
       "    };\n",
       "    ws.send = function(m) {\n",
       "        //console.log('sending', m);\n",
       "        comm.send(m);\n",
       "    };\n",
       "    // Register the callback with on_msg.\n",
       "    comm.on_msg(function(msg) {\n",
       "        //console.log('receiving', msg['content']['data'], msg);\n",
       "        // Pass the mpl event to the overridden (by mpl) onmessage function.\n",
       "        ws.onmessage(msg['content']['data'])\n",
       "    });\n",
       "    return ws;\n",
       "}\n",
       "\n",
       "mpl.mpl_figure_comm = function(comm, msg) {\n",
       "    // This is the function which gets called when the mpl process\n",
       "    // starts-up an IPython Comm through the \"matplotlib\" channel.\n",
       "\n",
       "    var id = msg.content.data.id;\n",
       "    // Get hold of the div created by the display call when the Comm\n",
       "    // socket was opened in Python.\n",
       "    var element = $(\"#\" + id);\n",
       "    var ws_proxy = comm_websocket_adapter(comm)\n",
       "\n",
       "    function ondownload(figure, format) {\n",
       "        window.open(figure.imageObj.src);\n",
       "    }\n",
       "\n",
       "    var fig = new mpl.figure(id, ws_proxy,\n",
       "                           ondownload,\n",
       "                           element.get(0));\n",
       "\n",
       "    // Call onopen now - mpl needs it, as it is assuming we've passed it a real\n",
       "    // web socket which is closed, not our websocket->open comm proxy.\n",
       "    ws_proxy.onopen();\n",
       "\n",
       "    fig.parent_element = element.get(0);\n",
       "    fig.cell_info = mpl.find_output_cell(\"<div id='\" + id + \"'></div>\");\n",
       "    if (!fig.cell_info) {\n",
       "        console.error(\"Failed to find cell for figure\", id, fig);\n",
       "        return;\n",
       "    }\n",
       "\n",
       "    var output_index = fig.cell_info[2]\n",
       "    var cell = fig.cell_info[0];\n",
       "\n",
       "};\n",
       "\n",
       "mpl.figure.prototype.handle_close = function(fig, msg) {\n",
       "    var width = fig.canvas.width/mpl.ratio\n",
       "    fig.root.unbind('remove')\n",
       "\n",
       "    // Update the output cell to use the data from the current canvas.\n",
       "    fig.push_to_output();\n",
       "    var dataURL = fig.canvas.toDataURL();\n",
       "    // Re-enable the keyboard manager in IPython - without this line, in FF,\n",
       "    // the notebook keyboard shortcuts fail.\n",
       "    IPython.keyboard_manager.enable()\n",
       "    $(fig.parent_element).html('<img src=\"' + dataURL + '\" width=\"' + width + '\">');\n",
       "    fig.close_ws(fig, msg);\n",
       "}\n",
       "\n",
       "mpl.figure.prototype.close_ws = function(fig, msg){\n",
       "    fig.send_message('closing', msg);\n",
       "    // fig.ws.close()\n",
       "}\n",
       "\n",
       "mpl.figure.prototype.push_to_output = function(remove_interactive) {\n",
       "    // Turn the data on the canvas into data in the output cell.\n",
       "    var width = this.canvas.width/mpl.ratio\n",
       "    var dataURL = this.canvas.toDataURL();\n",
       "    this.cell_info[1]['text/html'] = '<img src=\"' + dataURL + '\" width=\"' + width + '\">';\n",
       "}\n",
       "\n",
       "mpl.figure.prototype.updated_canvas_event = function() {\n",
       "    // Tell IPython that the notebook contents must change.\n",
       "    IPython.notebook.set_dirty(true);\n",
       "    this.send_message(\"ack\", {});\n",
       "    var fig = this;\n",
       "    // Wait a second, then push the new image to the DOM so\n",
       "    // that it is saved nicely (might be nice to debounce this).\n",
       "    setTimeout(function () { fig.push_to_output() }, 1000);\n",
       "}\n",
       "\n",
       "mpl.figure.prototype._init_toolbar = function() {\n",
       "    var fig = this;\n",
       "\n",
       "    var nav_element = $('<div/>');\n",
       "    nav_element.attr('style', 'width: 100%');\n",
       "    this.root.append(nav_element);\n",
       "\n",
       "    // Define a callback function for later on.\n",
       "    function toolbar_event(event) {\n",
       "        return fig.toolbar_button_onclick(event['data']);\n",
       "    }\n",
       "    function toolbar_mouse_event(event) {\n",
       "        return fig.toolbar_button_onmouseover(event['data']);\n",
       "    }\n",
       "\n",
       "    for(var toolbar_ind in mpl.toolbar_items){\n",
       "        var name = mpl.toolbar_items[toolbar_ind][0];\n",
       "        var tooltip = mpl.toolbar_items[toolbar_ind][1];\n",
       "        var image = mpl.toolbar_items[toolbar_ind][2];\n",
       "        var method_name = mpl.toolbar_items[toolbar_ind][3];\n",
       "\n",
       "        if (!name) { continue; };\n",
       "\n",
       "        var button = $('<button class=\"btn btn-default\" href=\"#\" title=\"' + name + '\"><i class=\"fa ' + image + ' fa-lg\"></i></button>');\n",
       "        button.click(method_name, toolbar_event);\n",
       "        button.mouseover(tooltip, toolbar_mouse_event);\n",
       "        nav_element.append(button);\n",
       "    }\n",
       "\n",
       "    // Add the status bar.\n",
       "    var status_bar = $('<span class=\"mpl-message\" style=\"text-align:right; float: right;\"/>');\n",
       "    nav_element.append(status_bar);\n",
       "    this.message = status_bar[0];\n",
       "\n",
       "    // Add the close button to the window.\n",
       "    var buttongrp = $('<div class=\"btn-group inline pull-right\"></div>');\n",
       "    var button = $('<button class=\"btn btn-mini btn-primary\" href=\"#\" title=\"Stop Interaction\"><i class=\"fa fa-power-off icon-remove icon-large\"></i></button>');\n",
       "    button.click(function (evt) { fig.handle_close(fig, {}); } );\n",
       "    button.mouseover('Stop Interaction', toolbar_mouse_event);\n",
       "    buttongrp.append(button);\n",
       "    var titlebar = this.root.find($('.ui-dialog-titlebar'));\n",
       "    titlebar.prepend(buttongrp);\n",
       "}\n",
       "\n",
       "mpl.figure.prototype._root_extra_style = function(el){\n",
       "    var fig = this\n",
       "    el.on(\"remove\", function(){\n",
       "\tfig.close_ws(fig, {});\n",
       "    });\n",
       "}\n",
       "\n",
       "mpl.figure.prototype._canvas_extra_style = function(el){\n",
       "    // this is important to make the div 'focusable\n",
       "    el.attr('tabindex', 0)\n",
       "    // reach out to IPython and tell the keyboard manager to turn it's self\n",
       "    // off when our div gets focus\n",
       "\n",
       "    // location in version 3\n",
       "    if (IPython.notebook.keyboard_manager) {\n",
       "        IPython.notebook.keyboard_manager.register_events(el);\n",
       "    }\n",
       "    else {\n",
       "        // location in version 2\n",
       "        IPython.keyboard_manager.register_events(el);\n",
       "    }\n",
       "\n",
       "}\n",
       "\n",
       "mpl.figure.prototype._key_event_extra = function(event, name) {\n",
       "    var manager = IPython.notebook.keyboard_manager;\n",
       "    if (!manager)\n",
       "        manager = IPython.keyboard_manager;\n",
       "\n",
       "    // Check for shift+enter\n",
       "    if (event.shiftKey && event.which == 13) {\n",
       "        this.canvas_div.blur();\n",
       "        // select the cell after this one\n",
       "        var index = IPython.notebook.find_cell_index(this.cell_info[0]);\n",
       "        IPython.notebook.select(index + 1);\n",
       "    }\n",
       "}\n",
       "\n",
       "mpl.figure.prototype.handle_save = function(fig, msg) {\n",
       "    fig.ondownload(fig, null);\n",
       "}\n",
       "\n",
       "\n",
       "mpl.find_output_cell = function(html_output) {\n",
       "    // Return the cell and output element which can be found *uniquely* in the notebook.\n",
       "    // Note - this is a bit hacky, but it is done because the \"notebook_saving.Notebook\"\n",
       "    // IPython event is triggered only after the cells have been serialised, which for\n",
       "    // our purposes (turning an active figure into a static one), is too late.\n",
       "    var cells = IPython.notebook.get_cells();\n",
       "    var ncells = cells.length;\n",
       "    for (var i=0; i<ncells; i++) {\n",
       "        var cell = cells[i];\n",
       "        if (cell.cell_type === 'code'){\n",
       "            for (var j=0; j<cell.output_area.outputs.length; j++) {\n",
       "                var data = cell.output_area.outputs[j];\n",
       "                if (data.data) {\n",
       "                    // IPython >= 3 moved mimebundle to data attribute of output\n",
       "                    data = data.data;\n",
       "                }\n",
       "                if (data['text/html'] == html_output) {\n",
       "                    return [cell, data, j];\n",
       "                }\n",
       "            }\n",
       "        }\n",
       "    }\n",
       "}\n",
       "\n",
       "// Register the function which deals with the matplotlib target/channel.\n",
       "// The kernel may be null if the page has been refreshed.\n",
       "if (IPython.notebook.kernel != null) {\n",
       "    IPython.notebook.kernel.comm_manager.register_target('matplotlib', mpl.mpl_figure_comm);\n",
       "}\n"
      ],
      "text/plain": [
       "<IPython.core.display.Javascript object>"
      ]
     },
     "metadata": {},
     "output_type": "display_data"
    },
    {
     "data": {
      "text/html": [
       "<img src=\"data:image/png;base64,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\" width=\"640\">"
      ],
      "text/plain": [
       "<IPython.core.display.HTML object>"
      ]
     },
     "metadata": {},
     "output_type": "display_data"
    },
    {
     "data": {
      "text/plain": [
       "Text(0.5, 0, 'Z')"
      ]
     },
     "execution_count": 5,
     "metadata": {},
     "output_type": "execute_result"
    }
   ],
   "source": [
    "fig = plt.figure()\n",
    "ax = fig.add_subplot(111, projection='3d')\n",
    "\n",
    "ax.scatter(water_positions[:,0], water_positions[:,1], water_positions[:,2], c=['red','gray','gray'], s=1000)\n",
    "ax.grid(b=False)\n",
    "ax.set_xlabel('X')\n",
    "ax.set_ylabel('Y')\n",
    "ax.set_zlabel('Z')\n"
   ]
  },
  {
   "cell_type": "markdown",
   "metadata": {},
   "source": [
    "Now, we create an empty frame and put all of this data in by accessing the appropriate storage (arrays or values) and assigning a key."
   ]
  },
  {
   "cell_type": "code",
   "execution_count": 6,
   "metadata": {},
   "outputs": [],
   "source": [
    "from narupa.trajectory import FrameData"
   ]
  },
  {
   "cell_type": "code",
   "execution_count": 7,
   "metadata": {},
   "outputs": [],
   "source": [
    "frame = FrameData()"
   ]
  },
  {
   "cell_type": "code",
   "execution_count": 8,
   "metadata": {},
   "outputs": [],
   "source": [
    "frame.arrays['particle.positions'] = water_positions.flatten() # We have to store as a flat array.\n",
    "frame.arrays['particle.elements'] = water_elements\n",
    "frame.arrays['bond.pairs'] = water_bonds.flatten()"
   ]
  },
  {
   "cell_type": "code",
   "execution_count": 9,
   "metadata": {},
   "outputs": [],
   "source": [
    "frame.values['particle.count'] = 3"
   ]
  },
  {
   "cell_type": "markdown",
   "metadata": {},
   "source": [
    "Let's print out the frame, how this looks when communicated to clients. It's just two dictionaries, one with values, one with arrays."
   ]
  },
  {
   "cell_type": "code",
   "execution_count": 10,
   "metadata": {},
   "outputs": [
    {
     "data": {
      "text/plain": [
       "values {\n",
       "  key: \"particle.count\"\n",
       "  value {\n",
       "    number_value: 3.0\n",
       "  }\n",
       "}\n",
       "arrays {\n",
       "  key: \"bond.pairs\"\n",
       "  value {\n",
       "    index_values {\n",
       "      values: 0\n",
       "      values: 1\n",
       "      values: 0\n",
       "      values: 2\n",
       "    }\n",
       "  }\n",
       "}\n",
       "arrays {\n",
       "  key: \"particle.elements\"\n",
       "  value {\n",
       "    index_values {\n",
       "      values: 8\n",
       "      values: 1\n",
       "      values: 1\n",
       "    }\n",
       "  }\n",
       "}\n",
       "arrays {\n",
       "  key: \"particle.positions\"\n",
       "  value {\n",
       "    float_values {\n",
       "      values: 0.0\n",
       "      values: 0.0\n",
       "      values: 0.0\n",
       "      values: 0.07554499804973602\n",
       "      values: 0.0471160002052784\n",
       "      values: 0.0\n",
       "      values: -0.07554499804973602\n",
       "      values: 0.0471160002052784\n",
       "      values: 0.0\n",
       "    }\n",
       "  }\n",
       "}"
      ]
     },
     "execution_count": 10,
     "metadata": {},
     "output_type": "execute_result"
    }
   ],
   "source": [
    "frame.raw"
   ]
  },
  {
   "cell_type": "markdown",
   "metadata": {},
   "source": [
    "To make things easier to use, the python wrapper has shortcuts for common molecular properties:"
   ]
  },
  {
   "cell_type": "code",
   "execution_count": 11,
   "metadata": {},
   "outputs": [
    {
     "data": {
      "text/plain": [
       "{'bond_orders',\n",
       " 'bond_pairs',\n",
       " 'box_vectors',\n",
       " 'chain_count',\n",
       " 'chain_names',\n",
       " 'kinetic_energy',\n",
       " 'particle_count',\n",
       " 'particle_elements',\n",
       " 'particle_names',\n",
       " 'particle_positions',\n",
       " 'particle_residues',\n",
       " 'particle_types',\n",
       " 'potential_energy',\n",
       " 'residue_chains',\n",
       " 'residue_count',\n",
       " 'residue_ids',\n",
       " 'residue_names'}"
      ]
     },
     "execution_count": 11,
     "metadata": {},
     "output_type": "execute_result"
    }
   ],
   "source": [
    "frame.shortcuts"
   ]
  },
  {
   "cell_type": "markdown",
   "metadata": {},
   "source": [
    "So we can see what keys have been set: "
   ]
  },
  {
   "cell_type": "code",
   "execution_count": 12,
   "metadata": {},
   "outputs": [
    {
     "data": {
      "text/plain": [
       "{'bond.pairs', 'particle.elements', 'particle.positions'}"
      ]
     },
     "execution_count": 12,
     "metadata": {},
     "output_type": "execute_result"
    }
   ],
   "source": [
    "frame.array_keys"
   ]
  },
  {
   "cell_type": "code",
   "execution_count": 13,
   "metadata": {},
   "outputs": [
    {
     "data": {
      "text/plain": [
       "{'particle.count'}"
      ]
     },
     "execution_count": 13,
     "metadata": {},
     "output_type": "execute_result"
    }
   ],
   "source": [
    "frame.value_keys"
   ]
  },
  {
   "cell_type": "markdown",
   "metadata": {},
   "source": [
    "And we could have used the shortcuts to get and set the fields:"
   ]
  },
  {
   "cell_type": "code",
   "execution_count": 14,
   "metadata": {},
   "outputs": [],
   "source": [
    "frame.particle_count = 3\n",
    "frame.particle_positions = water_positions\n",
    "frame.particle_elements = water_elements\n",
    "frame.bond_pairs = water_bonds"
   ]
  },
  {
   "cell_type": "code",
   "execution_count": 15,
   "metadata": {
    "scrolled": true
   },
   "outputs": [
    {
     "data": {
      "text/plain": [
       "[[0.0, 0.0, 0.0],\n",
       " [0.07554499804973602, 0.0471160002052784, 0.0],\n",
       " [-0.07554499804973602, 0.0471160002052784, 0.0]]"
      ]
     },
     "execution_count": 15,
     "metadata": {},
     "output_type": "execute_result"
    }
   ],
   "source": [
    "frame.particle_positions"
   ]
  },
  {
   "cell_type": "markdown",
   "metadata": {},
   "source": [
    "We can also see what shortcuts are linked to some data in the frame:"
   ]
  },
  {
   "cell_type": "code",
   "execution_count": 16,
   "metadata": {},
   "outputs": [
    {
     "data": {
      "text/plain": [
       "{'bond_pairs', 'particle_count', 'particle_elements', 'particle_positions'}"
      ]
     },
     "execution_count": 16,
     "metadata": {},
     "output_type": "execute_result"
    }
   ],
   "source": [
    "frame.used_shortcuts"
   ]
  },
  {
   "cell_type": "markdown",
   "metadata": {},
   "source": [
    "## Transmit it to VR"
   ]
  },
  {
   "cell_type": "markdown",
   "metadata": {},
   "source": [
    "We've provided enough data to visualize this amazing molecule in VR. So we'll fire up a server and send this frame."
   ]
  },
  {
   "cell_type": "code",
   "execution_count": 17,
   "metadata": {},
   "outputs": [],
   "source": [
    "from narupa.app import NarupaFrameApplication"
   ]
  },
  {
   "cell_type": "code",
   "execution_count": 18,
   "metadata": {},
   "outputs": [],
   "source": [
    "server = NarupaFrameApplication.basic_server(port=0)"
   ]
  },
  {
   "cell_type": "code",
   "execution_count": 19,
   "metadata": {},
   "outputs": [],
   "source": [
    "server.frame_publisher.send_frame(0, frame)"
   ]
  },
  {
   "cell_type": "markdown",
   "metadata": {},
   "source": [
    "Connect from VR, and you'll see something like this:\n",
    "\n",
    "![Narupa H2O](images/h2o.png)"
   ]
  },
  {
   "cell_type": "markdown",
   "metadata": {},
   "source": [
    "## What kind of data can I send?"
   ]
  },
  {
   "cell_type": "markdown",
   "metadata": {},
   "source": [
    "You may have noticed that the particle count was transmitted as a `number_value` in the frame, and that the positions were a `float_value`. What kind of values can you send? What kind of arrays can you send? "
   ]
  },
  {
   "cell_type": "markdown",
   "metadata": {},
   "source": [
    "### Arrays"
   ]
  },
  {
   "cell_type": "markdown",
   "metadata": {},
   "source": [
    "For the arrays, you can send decimal number (floats), positive integers (unsigned int) and strings. The types are restricted so we can send them efficiently."
   ]
  },
  {
   "cell_type": "code",
   "execution_count": 20,
   "metadata": {},
   "outputs": [],
   "source": [
    "frame.arrays['some floats'] = [1.0, 2.5, 3.5]\n",
    "frame.arrays['some numbers'] = [1,2,3]\n",
    "frame.arrays['some strings'] = ['a', 'bc', 'de']"
   ]
  },
  {
   "cell_type": "markdown",
   "metadata": {},
   "source": [
    "Of course, an array could just be an array of bytes (those in the business call these a `blob`)"
   ]
  },
  {
   "cell_type": "code",
   "execution_count": 21,
   "metadata": {},
   "outputs": [],
   "source": [
    "with open('images/example_image.jpg', 'rb') as f:\n",
    "    image_bytes = f.read()"
   ]
  },
  {
   "cell_type": "code",
   "execution_count": 22,
   "metadata": {},
   "outputs": [],
   "source": [
    "frame.arrays['image'] = image_bytes"
   ]
  },
  {
   "cell_type": "code",
   "execution_count": 23,
   "metadata": {},
   "outputs": [],
   "source": [
    "server.frame_publisher.send_frame(0, frame)"
   ]
  },
  {
   "cell_type": "code",
   "execution_count": 24,
   "metadata": {},
   "outputs": [],
   "source": [
    "from narupa.app import NarupaImdClient\n",
    "from IPython.display import Image\n",
    "\n",
    "with NarupaImdClient.connect_to_single_server(port=server.port) as client:\n",
    "    client.wait_until_first_frame()\n",
    "    received_image_bytes = bytes(client.latest_frame.arrays['image'])"
   ]
  },
  {
   "cell_type": "code",
   "execution_count": 25,
   "metadata": {},
   "outputs": [
    {
     "data": {
      "image/jpeg": "[encoded data removed]",
      "text/plain": [
       "<IPython.core.display.Image object>"
      ]
     },
     "execution_count": 25,
     "metadata": {
      "image/jpeg": {
       "width": 200
      }
     },
     "output_type": "execute_result"
    }
   ],
   "source": [
    "Image(data=received_image_bytes, width=200)"
   ]
  },
  {
   "cell_type": "markdown",
   "metadata": {},
   "source": [
    "### Values"
   ]
  },
  {
   "cell_type": "markdown",
   "metadata": {},
   "source": [
    "For the values, you can send anything that can be represented with Protobuf's [Value](https://developers.google.com/protocol-buffers/docs/reference/csharp/class/google/protobuf/well-known-types/value) type. \n",
    "\n",
    "This is a very flexible structure, as it can send numbers, strings, bytes, booleans, and lists and `Structs` of these things. A Protobuf `Struct` is analogous to a JSON object. \n",
    "\n",
    "We provide some utility methods to help convert these things"
   ]
  },
  {
   "cell_type": "code",
   "execution_count": 26,
   "metadata": {},
   "outputs": [],
   "source": [
    "from narupa.utilities.protobuf_utilities import dict_to_struct"
   ]
  },
  {
   "cell_type": "code",
   "execution_count": 27,
   "metadata": {},
   "outputs": [],
   "source": [
    "complicated_object = {\n",
    "    'name' : 'Squirtle',\n",
    "    'number' : 7,\n",
    "    'height' : 0.5,\n",
    "    'weight' : 9.0,\n",
    "    'gender' :['male', 'female'],\n",
    "    'abilities' : ['torrent']\n",
    "}"
   ]
  },
  {
   "cell_type": "markdown",
   "metadata": {},
   "source": [
    "#TODO Needs a fix for [this issue](https://gitlab.com/intangiblerealities/narupa-protocol/issues/159) to assign a struct"
   ]
  },
  {
   "cell_type": "markdown",
   "metadata": {},
   "source": [
    "## More Molecular Data "
   ]
  },
  {
   "cell_type": "markdown",
   "metadata": {},
   "source": [
    "As well as the positions, bonds, and elements, we can set additional fields that are commonly available in topological fields formats. If these are passed, lots of exciting rendering and selection opportunites present themselves.\n",
    "\n",
    "The following assigns the water molecule to the residue HOH, in the chain A."
   ]
  },
  {
   "cell_type": "code",
   "execution_count": 28,
   "metadata": {},
   "outputs": [],
   "source": [
    "frame.residue_ids = ['1', '1', '1']\n",
    "frame.residue_names = ['HOH', 'HOH', 'HOH']\n",
    "frame.residue_count = 1\n",
    "frame.particle_residues = [0,0,0]\n",
    "frame.chain_names = ['A']\n",
    "frame.chain_count = 1\n",
    "frame.residue_chains = [0]"
   ]
  },
  {
   "cell_type": "code",
   "execution_count": 29,
   "metadata": {},
   "outputs": [],
   "source": [
    "server.frame_publisher.send_frame(0, frame)"
   ]
  },
  {
   "cell_type": "markdown",
   "metadata": {},
   "source": [
    "## Updating Data in a Frame"
   ]
  },
  {
   "cell_type": "markdown",
   "metadata": {},
   "source": [
    "When sending data, the iMD-VR client is intelligent enough to reuse data it has received before, so you don't need to send the everything every time. \n",
    "\n",
    "Our convention is to send the topology in the first frame, then just positions after that. The Frame server is smart enough to send the latest version of everything to a client when it first connects.\n",
    "\n",
    "In the following, we just update the positions array to move the water molecule by 1 nanometer in each cardinal direction."
   ]
  },
  {
   "cell_type": "code",
   "execution_count": 30,
   "metadata": {},
   "outputs": [],
   "source": [
    "positions_frame = FrameData()\n",
    "positions_frame.particle_positions = water_positions + 1"
   ]
  },
  {
   "cell_type": "code",
   "execution_count": 31,
   "metadata": {},
   "outputs": [],
   "source": [
    "server.frame_publisher.send_frame(1, positions_frame)"
   ]
  },
  {
   "cell_type": "markdown",
   "metadata": {},
   "source": [
    "# Next Steps"
   ]
  },
  {
   "cell_type": "markdown",
   "metadata": {},
   "source": [
    "* See more practical examples of setting up [simulations](../ase/basic_example.ipynb) and [trajectories](../mdanalysis/mdanalysis_trajectory.ipynb)\n",
    "* Learn how to set up [commands and synchronise state](commands_and_state.ipynb)\n",
    "* Learn about the details of setting up [servers](servers.ipynb)"
   ]
  },
  {
   "cell_type": "code",
   "execution_count": null,
   "metadata": {},
   "outputs": [],
   "source": []
  }
 ],
 "metadata": {
  "kernelspec": {
   "display_name": "Python 3",
   "language": "python",
   "name": "python3"
  },
  "language_info": {
   "codemirror_mode": {
    "name": "ipython",
    "version": 3
   },
   "file_extension": ".py",
   "mimetype": "text/x-python",
   "name": "python",
   "nbconvert_exporter": "python",
   "pygments_lexer": "ipython3",
   "version": "3.7.6"
  }
 },
 "nbformat": 4,
 "nbformat_minor": 1
}
