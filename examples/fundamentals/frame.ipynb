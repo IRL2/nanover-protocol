{
 "cells": [
  {
   "cell_type": "markdown",
   "metadata": {
    "collapsed": true,
    "pycharm": {
     "is_executing": false
    }
   },
   "source": [
    "# Narupa Concepts: Frames\n"
   ]
  },
  {
   "cell_type": "markdown",
   "metadata": {},
   "source": [
    "In this notebook, we'll dig into one of the main ideas in Narupa, the **frame**"
   ]
  },
  {
   "cell_type": "code",
   "execution_count": 1,
   "metadata": {},
   "outputs": [],
   "source": [
    "from mpl_toolkits.mplot3d import Axes3D  # noqa: F401 unused import\n",
    "import matplotlib.pyplot as plt"
   ]
  },
  {
   "cell_type": "code",
   "execution_count": 2,
   "metadata": {},
   "outputs": [],
   "source": [
    "%matplotlib notebook"
   ]
  },
  {
   "cell_type": "markdown",
   "metadata": {},
   "source": [
    "## What is a frame?"
   ]
  },
  {
   "cell_type": "markdown",
   "metadata": {},
   "source": [
    "A frame is our way of representing a molecular system or trajectory in a way that is efficient to send over the network to clients, e.g. the VR app. \n",
    "\n",
    "The schematic illustrates this: a Narupa session produces a Frame Data object, whch is serialized and transmitted using [GRPC](https://grpc.io) to client applications.\n",
    "\n",
    "![Narupa Frame](images/frame_server.png)"
   ]
  },
  {
   "cell_type": "markdown",
   "metadata": {},
   "source": [
    "A frame is represented as two dictionaries: one of arrays, and one of values. The arrays are used for sending lists of values of the same type, such as particle positions, while the values are used for transmitting single objects, such as numbers, strings or dictionaries.\n",
    "\n",
    "Let's create a frame for a water molecule. We'll do it by hand."
   ]
  },
  {
   "cell_type": "markdown",
   "metadata": {},
   "source": [
    "### A Note on Narupa Units"
   ]
  },
  {
   "cell_type": "markdown",
   "metadata": {},
   "source": [
    "In Narupa, we use the same units as our favourite MD package, [OpenMM](http://openmm.org/). \n",
    "\n",
    "| Quantity    | Unit              |\n",
    "|-------------|-------------------|\n",
    "| Distance    | nm                |\n",
    "| Time        | ps                |\n",
    "| mass        | atomic mass units |\n",
    "| charge      | proton charge     |\n",
    "| temperature | Kelvin            |\n",
    "| angle       | radians           |\n",
    "| energy      | kJ/mol            |\n",
    "\n",
    "Why? Partially because we use OpenMM a lot, but also, to quote from [the OpenMM documentation](http://docs.openmm.org/latest/userguide/theory.html#units): \n",
    "\n",
    "> These units have the important feature that they form an internally consistent set. For example, a force always has the same units (kJ/mol/nm) whether it is calculated as the gradient of an energy or as the product of a mass and an acceleration. This is not true in some other widely used unit systems, such as those that express energy in kcal/mol.\n",
    "\n",
    "So even though we interface with many packages, such as ASE, Sparrow and LAMMPS, which use different units, we always try to convert back to these units when produces frames."
   ]
  },
  {
   "cell_type": "code",
   "execution_count": 3,
   "metadata": {},
   "outputs": [],
   "source": [
    "import numpy as np"
   ]
  },
  {
   "cell_type": "code",
   "execution_count": 4,
   "metadata": {},
   "outputs": [],
   "source": [
    "# arrange the water molecular O H H \n",
    "water_positions = np.array([[0,0,0],[0.075545, 0.047116, 0.00000], [-0.075545, 0.047116, 0.00000 ]])\n",
    "# elements are defined by their atomic numbers\n",
    "water_elements = [8, 1, 1]\n",
    "# Define bonds between the oxygen and the hydrogens.\n",
    "water_bonds = np.array([[0, 1], [0, 2]])"
   ]
  },
  {
   "cell_type": "code",
   "execution_count": 5,
   "metadata": {},
   "outputs": [
    {
     "data": {
      "application/javascript": [
       "/* Put everything inside the global mpl namespace */\n",
       "window.mpl = {};\n",
       "\n",
       "\n",
       "mpl.get_websocket_type = function() {\n",
       "    if (typeof(WebSocket) !== 'undefined') {\n",
       "        return WebSocket;\n",
       "    } else if (typeof(MozWebSocket) !== 'undefined') {\n",
       "        return MozWebSocket;\n",
       "    } else {\n",
       "        alert('Your browser does not have WebSocket support. ' +\n",
       "              'Please try Chrome, Safari or Firefox ≥ 6. ' +\n",
       "              'Firefox 4 and 5 are also supported but you ' +\n",
       "              'have to enable WebSockets in about:config.');\n",
       "    };\n",
       "}\n",
       "\n",
       "mpl.figure = function(figure_id, websocket, ondownload, parent_element) {\n",
       "    this.id = figure_id;\n",
       "\n",
       "    this.ws = websocket;\n",
       "\n",
       "    this.supports_binary = (this.ws.binaryType != undefined);\n",
       "\n",
       "    if (!this.supports_binary) {\n",
       "        var warnings = document.getElementById(\"mpl-warnings\");\n",
       "        if (warnings) {\n",
       "            warnings.style.display = 'block';\n",
       "            warnings.textContent = (\n",
       "                \"This browser does not support binary websocket messages. \" +\n",
       "                    \"Performance may be slow.\");\n",
       "        }\n",
       "    }\n",
       "\n",
       "    this.imageObj = new Image();\n",
       "\n",
       "    this.context = undefined;\n",
       "    this.message = undefined;\n",
       "    this.canvas = undefined;\n",
       "    this.rubberband_canvas = undefined;\n",
       "    this.rubberband_context = undefined;\n",
       "    this.format_dropdown = undefined;\n",
       "\n",
       "    this.image_mode = 'full';\n",
       "\n",
       "    this.root = $('<div/>');\n",
       "    this._root_extra_style(this.root)\n",
       "    this.root.attr('style', 'display: inline-block');\n",
       "\n",
       "    $(parent_element).append(this.root);\n",
       "\n",
       "    this._init_header(this);\n",
       "    this._init_canvas(this);\n",
       "    this._init_toolbar(this);\n",
       "\n",
       "    var fig = this;\n",
       "\n",
       "    this.waiting = false;\n",
       "\n",
       "    this.ws.onopen =  function () {\n",
       "            fig.send_message(\"supports_binary\", {value: fig.supports_binary});\n",
       "            fig.send_message(\"send_image_mode\", {});\n",
       "            if (mpl.ratio != 1) {\n",
       "                fig.send_message(\"set_dpi_ratio\", {'dpi_ratio': mpl.ratio});\n",
       "            }\n",
       "            fig.send_message(\"refresh\", {});\n",
       "        }\n",
       "\n",
       "    this.imageObj.onload = function() {\n",
       "            if (fig.image_mode == 'full') {\n",
       "                // Full images could contain transparency (where diff images\n",
       "                // almost always do), so we need to clear the canvas so that\n",
       "                // there is no ghosting.\n",
       "                fig.context.clearRect(0, 0, fig.canvas.width, fig.canvas.height);\n",
       "            }\n",
       "            fig.context.drawImage(fig.imageObj, 0, 0);\n",
       "        };\n",
       "\n",
       "    this.imageObj.onunload = function() {\n",
       "        fig.ws.close();\n",
       "    }\n",
       "\n",
       "    this.ws.onmessage = this._make_on_message_function(this);\n",
       "\n",
       "    this.ondownload = ondownload;\n",
       "}\n",
       "\n",
       "mpl.figure.prototype._init_header = function() {\n",
       "    var titlebar = $(\n",
       "        '<div class=\"ui-dialog-titlebar ui-widget-header ui-corner-all ' +\n",
       "        'ui-helper-clearfix\"/>');\n",
       "    var titletext = $(\n",
       "        '<div class=\"ui-dialog-title\" style=\"width: 100%; ' +\n",
       "        'text-align: center; padding: 3px;\"/>');\n",
       "    titlebar.append(titletext)\n",
       "    this.root.append(titlebar);\n",
       "    this.header = titletext[0];\n",
       "}\n",
       "\n",
       "\n",
       "\n",
       "mpl.figure.prototype._canvas_extra_style = function(canvas_div) {\n",
       "\n",
       "}\n",
       "\n",
       "\n",
       "mpl.figure.prototype._root_extra_style = function(canvas_div) {\n",
       "\n",
       "}\n",
       "\n",
       "mpl.figure.prototype._init_canvas = function() {\n",
       "    var fig = this;\n",
       "\n",
       "    var canvas_div = $('<div/>');\n",
       "\n",
       "    canvas_div.attr('style', 'position: relative; clear: both; outline: 0');\n",
       "\n",
       "    function canvas_keyboard_event(event) {\n",
       "        return fig.key_event(event, event['data']);\n",
       "    }\n",
       "\n",
       "    canvas_div.keydown('key_press', canvas_keyboard_event);\n",
       "    canvas_div.keyup('key_release', canvas_keyboard_event);\n",
       "    this.canvas_div = canvas_div\n",
       "    this._canvas_extra_style(canvas_div)\n",
       "    this.root.append(canvas_div);\n",
       "\n",
       "    var canvas = $('<canvas/>');\n",
       "    canvas.addClass('mpl-canvas');\n",
       "    canvas.attr('style', \"left: 0; top: 0; z-index: 0; outline: 0\")\n",
       "\n",
       "    this.canvas = canvas[0];\n",
       "    this.context = canvas[0].getContext(\"2d\");\n",
       "\n",
       "    var backingStore = this.context.backingStorePixelRatio ||\n",
       "\tthis.context.webkitBackingStorePixelRatio ||\n",
       "\tthis.context.mozBackingStorePixelRatio ||\n",
       "\tthis.context.msBackingStorePixelRatio ||\n",
       "\tthis.context.oBackingStorePixelRatio ||\n",
       "\tthis.context.backingStorePixelRatio || 1;\n",
       "\n",
       "    mpl.ratio = (window.devicePixelRatio || 1) / backingStore;\n",
       "\n",
       "    var rubberband = $('<canvas/>');\n",
       "    rubberband.attr('style', \"position: absolute; left: 0; top: 0; z-index: 1;\")\n",
       "\n",
       "    var pass_mouse_events = true;\n",
       "\n",
       "    canvas_div.resizable({\n",
       "        start: function(event, ui) {\n",
       "            pass_mouse_events = false;\n",
       "        },\n",
       "        resize: function(event, ui) {\n",
       "            fig.request_resize(ui.size.width, ui.size.height);\n",
       "        },\n",
       "        stop: function(event, ui) {\n",
       "            pass_mouse_events = true;\n",
       "            fig.request_resize(ui.size.width, ui.size.height);\n",
       "        },\n",
       "    });\n",
       "\n",
       "    function mouse_event_fn(event) {\n",
       "        if (pass_mouse_events)\n",
       "            return fig.mouse_event(event, event['data']);\n",
       "    }\n",
       "\n",
       "    rubberband.mousedown('button_press', mouse_event_fn);\n",
       "    rubberband.mouseup('button_release', mouse_event_fn);\n",
       "    // Throttle sequential mouse events to 1 every 20ms.\n",
       "    rubberband.mousemove('motion_notify', mouse_event_fn);\n",
       "\n",
       "    rubberband.mouseenter('figure_enter', mouse_event_fn);\n",
       "    rubberband.mouseleave('figure_leave', mouse_event_fn);\n",
       "\n",
       "    canvas_div.on(\"wheel\", function (event) {\n",
       "        event = event.originalEvent;\n",
       "        event['data'] = 'scroll'\n",
       "        if (event.deltaY < 0) {\n",
       "            event.step = 1;\n",
       "        } else {\n",
       "            event.step = -1;\n",
       "        }\n",
       "        mouse_event_fn(event);\n",
       "    });\n",
       "\n",
       "    canvas_div.append(canvas);\n",
       "    canvas_div.append(rubberband);\n",
       "\n",
       "    this.rubberband = rubberband;\n",
       "    this.rubberband_canvas = rubberband[0];\n",
       "    this.rubberband_context = rubberband[0].getContext(\"2d\");\n",
       "    this.rubberband_context.strokeStyle = \"#000000\";\n",
       "\n",
       "    this._resize_canvas = function(width, height) {\n",
       "        // Keep the size of the canvas, canvas container, and rubber band\n",
       "        // canvas in synch.\n",
       "        canvas_div.css('width', width)\n",
       "        canvas_div.css('height', height)\n",
       "\n",
       "        canvas.attr('width', width * mpl.ratio);\n",
       "        canvas.attr('height', height * mpl.ratio);\n",
       "        canvas.attr('style', 'width: ' + width + 'px; height: ' + height + 'px;');\n",
       "\n",
       "        rubberband.attr('width', width);\n",
       "        rubberband.attr('height', height);\n",
       "    }\n",
       "\n",
       "    // Set the figure to an initial 600x600px, this will subsequently be updated\n",
       "    // upon first draw.\n",
       "    this._resize_canvas(600, 600);\n",
       "\n",
       "    // Disable right mouse context menu.\n",
       "    $(this.rubberband_canvas).bind(\"contextmenu\",function(e){\n",
       "        return false;\n",
       "    });\n",
       "\n",
       "    function set_focus () {\n",
       "        canvas.focus();\n",
       "        canvas_div.focus();\n",
       "    }\n",
       "\n",
       "    window.setTimeout(set_focus, 100);\n",
       "}\n",
       "\n",
       "mpl.figure.prototype._init_toolbar = function() {\n",
       "    var fig = this;\n",
       "\n",
       "    var nav_element = $('<div/>');\n",
       "    nav_element.attr('style', 'width: 100%');\n",
       "    this.root.append(nav_element);\n",
       "\n",
       "    // Define a callback function for later on.\n",
       "    function toolbar_event(event) {\n",
       "        return fig.toolbar_button_onclick(event['data']);\n",
       "    }\n",
       "    function toolbar_mouse_event(event) {\n",
       "        return fig.toolbar_button_onmouseover(event['data']);\n",
       "    }\n",
       "\n",
       "    for(var toolbar_ind in mpl.toolbar_items) {\n",
       "        var name = mpl.toolbar_items[toolbar_ind][0];\n",
       "        var tooltip = mpl.toolbar_items[toolbar_ind][1];\n",
       "        var image = mpl.toolbar_items[toolbar_ind][2];\n",
       "        var method_name = mpl.toolbar_items[toolbar_ind][3];\n",
       "\n",
       "        if (!name) {\n",
       "            // put a spacer in here.\n",
       "            continue;\n",
       "        }\n",
       "        var button = $('<button/>');\n",
       "        button.addClass('ui-button ui-widget ui-state-default ui-corner-all ' +\n",
       "                        'ui-button-icon-only');\n",
       "        button.attr('role', 'button');\n",
       "        button.attr('aria-disabled', 'false');\n",
       "        button.click(method_name, toolbar_event);\n",
       "        button.mouseover(tooltip, toolbar_mouse_event);\n",
       "\n",
       "        var icon_img = $('<span/>');\n",
       "        icon_img.addClass('ui-button-icon-primary ui-icon');\n",
       "        icon_img.addClass(image);\n",
       "        icon_img.addClass('ui-corner-all');\n",
       "\n",
       "        var tooltip_span = $('<span/>');\n",
       "        tooltip_span.addClass('ui-button-text');\n",
       "        tooltip_span.html(tooltip);\n",
       "\n",
       "        button.append(icon_img);\n",
       "        button.append(tooltip_span);\n",
       "\n",
       "        nav_element.append(button);\n",
       "    }\n",
       "\n",
       "    var fmt_picker_span = $('<span/>');\n",
       "\n",
       "    var fmt_picker = $('<select/>');\n",
       "    fmt_picker.addClass('mpl-toolbar-option ui-widget ui-widget-content');\n",
       "    fmt_picker_span.append(fmt_picker);\n",
       "    nav_element.append(fmt_picker_span);\n",
       "    this.format_dropdown = fmt_picker[0];\n",
       "\n",
       "    for (var ind in mpl.extensions) {\n",
       "        var fmt = mpl.extensions[ind];\n",
       "        var option = $(\n",
       "            '<option/>', {selected: fmt === mpl.default_extension}).html(fmt);\n",
       "        fmt_picker.append(option);\n",
       "    }\n",
       "\n",
       "    // Add hover states to the ui-buttons\n",
       "    $( \".ui-button\" ).hover(\n",
       "        function() { $(this).addClass(\"ui-state-hover\");},\n",
       "        function() { $(this).removeClass(\"ui-state-hover\");}\n",
       "    );\n",
       "\n",
       "    var status_bar = $('<span class=\"mpl-message\"/>');\n",
       "    nav_element.append(status_bar);\n",
       "    this.message = status_bar[0];\n",
       "}\n",
       "\n",
       "mpl.figure.prototype.request_resize = function(x_pixels, y_pixels) {\n",
       "    // Request matplotlib to resize the figure. Matplotlib will then trigger a resize in the client,\n",
       "    // which will in turn request a refresh of the image.\n",
       "    this.send_message('resize', {'width': x_pixels, 'height': y_pixels});\n",
       "}\n",
       "\n",
       "mpl.figure.prototype.send_message = function(type, properties) {\n",
       "    properties['type'] = type;\n",
       "    properties['figure_id'] = this.id;\n",
       "    this.ws.send(JSON.stringify(properties));\n",
       "}\n",
       "\n",
       "mpl.figure.prototype.send_draw_message = function() {\n",
       "    if (!this.waiting) {\n",
       "        this.waiting = true;\n",
       "        this.ws.send(JSON.stringify({type: \"draw\", figure_id: this.id}));\n",
       "    }\n",
       "}\n",
       "\n",
       "\n",
       "mpl.figure.prototype.handle_save = function(fig, msg) {\n",
       "    var format_dropdown = fig.format_dropdown;\n",
       "    var format = format_dropdown.options[format_dropdown.selectedIndex].value;\n",
       "    fig.ondownload(fig, format);\n",
       "}\n",
       "\n",
       "\n",
       "mpl.figure.prototype.handle_resize = function(fig, msg) {\n",
       "    var size = msg['size'];\n",
       "    if (size[0] != fig.canvas.width || size[1] != fig.canvas.height) {\n",
       "        fig._resize_canvas(size[0], size[1]);\n",
       "        fig.send_message(\"refresh\", {});\n",
       "    };\n",
       "}\n",
       "\n",
       "mpl.figure.prototype.handle_rubberband = function(fig, msg) {\n",
       "    var x0 = msg['x0'] / mpl.ratio;\n",
       "    var y0 = (fig.canvas.height - msg['y0']) / mpl.ratio;\n",
       "    var x1 = msg['x1'] / mpl.ratio;\n",
       "    var y1 = (fig.canvas.height - msg['y1']) / mpl.ratio;\n",
       "    x0 = Math.floor(x0) + 0.5;\n",
       "    y0 = Math.floor(y0) + 0.5;\n",
       "    x1 = Math.floor(x1) + 0.5;\n",
       "    y1 = Math.floor(y1) + 0.5;\n",
       "    var min_x = Math.min(x0, x1);\n",
       "    var min_y = Math.min(y0, y1);\n",
       "    var width = Math.abs(x1 - x0);\n",
       "    var height = Math.abs(y1 - y0);\n",
       "\n",
       "    fig.rubberband_context.clearRect(\n",
       "        0, 0, fig.canvas.width / mpl.ratio, fig.canvas.height / mpl.ratio);\n",
       "\n",
       "    fig.rubberband_context.strokeRect(min_x, min_y, width, height);\n",
       "}\n",
       "\n",
       "mpl.figure.prototype.handle_figure_label = function(fig, msg) {\n",
       "    // Updates the figure title.\n",
       "    fig.header.textContent = msg['label'];\n",
       "}\n",
       "\n",
       "mpl.figure.prototype.handle_cursor = function(fig, msg) {\n",
       "    var cursor = msg['cursor'];\n",
       "    switch(cursor)\n",
       "    {\n",
       "    case 0:\n",
       "        cursor = 'pointer';\n",
       "        break;\n",
       "    case 1:\n",
       "        cursor = 'default';\n",
       "        break;\n",
       "    case 2:\n",
       "        cursor = 'crosshair';\n",
       "        break;\n",
       "    case 3:\n",
       "        cursor = 'move';\n",
       "        break;\n",
       "    }\n",
       "    fig.rubberband_canvas.style.cursor = cursor;\n",
       "}\n",
       "\n",
       "mpl.figure.prototype.handle_message = function(fig, msg) {\n",
       "    fig.message.textContent = msg['message'];\n",
       "}\n",
       "\n",
       "mpl.figure.prototype.handle_draw = function(fig, msg) {\n",
       "    // Request the server to send over a new figure.\n",
       "    fig.send_draw_message();\n",
       "}\n",
       "\n",
       "mpl.figure.prototype.handle_image_mode = function(fig, msg) {\n",
       "    fig.image_mode = msg['mode'];\n",
       "}\n",
       "\n",
       "mpl.figure.prototype.updated_canvas_event = function() {\n",
       "    // Called whenever the canvas gets updated.\n",
       "    this.send_message(\"ack\", {});\n",
       "}\n",
       "\n",
       "// A function to construct a web socket function for onmessage handling.\n",
       "// Called in the figure constructor.\n",
       "mpl.figure.prototype._make_on_message_function = function(fig) {\n",
       "    return function socket_on_message(evt) {\n",
       "        if (evt.data instanceof Blob) {\n",
       "            /* FIXME: We get \"Resource interpreted as Image but\n",
       "             * transferred with MIME type text/plain:\" errors on\n",
       "             * Chrome.  But how to set the MIME type?  It doesn't seem\n",
       "             * to be part of the websocket stream */\n",
       "            evt.data.type = \"image/png\";\n",
       "\n",
       "            /* Free the memory for the previous frames */\n",
       "            if (fig.imageObj.src) {\n",
       "                (window.URL || window.webkitURL).revokeObjectURL(\n",
       "                    fig.imageObj.src);\n",
       "            }\n",
       "\n",
       "            fig.imageObj.src = (window.URL || window.webkitURL).createObjectURL(\n",
       "                evt.data);\n",
       "            fig.updated_canvas_event();\n",
       "            fig.waiting = false;\n",
       "            return;\n",
       "        }\n",
       "        else if (typeof evt.data === 'string' && evt.data.slice(0, 21) == \"data:image/png;base64\") {\n",
       "            fig.imageObj.src = evt.data;\n",
       "            fig.updated_canvas_event();\n",
       "            fig.waiting = false;\n",
       "            return;\n",
       "        }\n",
       "\n",
       "        var msg = JSON.parse(evt.data);\n",
       "        var msg_type = msg['type'];\n",
       "\n",
       "        // Call the  \"handle_{type}\" callback, which takes\n",
       "        // the figure and JSON message as its only arguments.\n",
       "        try {\n",
       "            var callback = fig[\"handle_\" + msg_type];\n",
       "        } catch (e) {\n",
       "            console.log(\"No handler for the '\" + msg_type + \"' message type: \", msg);\n",
       "            return;\n",
       "        }\n",
       "\n",
       "        if (callback) {\n",
       "            try {\n",
       "                // console.log(\"Handling '\" + msg_type + \"' message: \", msg);\n",
       "                callback(fig, msg);\n",
       "            } catch (e) {\n",
       "                console.log(\"Exception inside the 'handler_\" + msg_type + \"' callback:\", e, e.stack, msg);\n",
       "            }\n",
       "        }\n",
       "    };\n",
       "}\n",
       "\n",
       "// from http://stackoverflow.com/questions/1114465/getting-mouse-location-in-canvas\n",
       "mpl.findpos = function(e) {\n",
       "    //this section is from http://www.quirksmode.org/js/events_properties.html\n",
       "    var targ;\n",
       "    if (!e)\n",
       "        e = window.event;\n",
       "    if (e.target)\n",
       "        targ = e.target;\n",
       "    else if (e.srcElement)\n",
       "        targ = e.srcElement;\n",
       "    if (targ.nodeType == 3) // defeat Safari bug\n",
       "        targ = targ.parentNode;\n",
       "\n",
       "    // jQuery normalizes the pageX and pageY\n",
       "    // pageX,Y are the mouse positions relative to the document\n",
       "    // offset() returns the position of the element relative to the document\n",
       "    var x = e.pageX - $(targ).offset().left;\n",
       "    var y = e.pageY - $(targ).offset().top;\n",
       "\n",
       "    return {\"x\": x, \"y\": y};\n",
       "};\n",
       "\n",
       "/*\n",
       " * return a copy of an object with only non-object keys\n",
       " * we need this to avoid circular references\n",
       " * http://stackoverflow.com/a/24161582/3208463\n",
       " */\n",
       "function simpleKeys (original) {\n",
       "  return Object.keys(original).reduce(function (obj, key) {\n",
       "    if (typeof original[key] !== 'object')\n",
       "        obj[key] = original[key]\n",
       "    return obj;\n",
       "  }, {});\n",
       "}\n",
       "\n",
       "mpl.figure.prototype.mouse_event = function(event, name) {\n",
       "    var canvas_pos = mpl.findpos(event)\n",
       "\n",
       "    if (name === 'button_press')\n",
       "    {\n",
       "        this.canvas.focus();\n",
       "        this.canvas_div.focus();\n",
       "    }\n",
       "\n",
       "    var x = canvas_pos.x * mpl.ratio;\n",
       "    var y = canvas_pos.y * mpl.ratio;\n",
       "\n",
       "    this.send_message(name, {x: x, y: y, button: event.button,\n",
       "                             step: event.step,\n",
       "                             guiEvent: simpleKeys(event)});\n",
       "\n",
       "    /* This prevents the web browser from automatically changing to\n",
       "     * the text insertion cursor when the button is pressed.  We want\n",
       "     * to control all of the cursor setting manually through the\n",
       "     * 'cursor' event from matplotlib */\n",
       "    event.preventDefault();\n",
       "    return false;\n",
       "}\n",
       "\n",
       "mpl.figure.prototype._key_event_extra = function(event, name) {\n",
       "    // Handle any extra behaviour associated with a key event\n",
       "}\n",
       "\n",
       "mpl.figure.prototype.key_event = function(event, name) {\n",
       "\n",
       "    // Prevent repeat events\n",
       "    if (name == 'key_press')\n",
       "    {\n",
       "        if (event.which === this._key)\n",
       "            return;\n",
       "        else\n",
       "            this._key = event.which;\n",
       "    }\n",
       "    if (name == 'key_release')\n",
       "        this._key = null;\n",
       "\n",
       "    var value = '';\n",
       "    if (event.ctrlKey && event.which != 17)\n",
       "        value += \"ctrl+\";\n",
       "    if (event.altKey && event.which != 18)\n",
       "        value += \"alt+\";\n",
       "    if (event.shiftKey && event.which != 16)\n",
       "        value += \"shift+\";\n",
       "\n",
       "    value += 'k';\n",
       "    value += event.which.toString();\n",
       "\n",
       "    this._key_event_extra(event, name);\n",
       "\n",
       "    this.send_message(name, {key: value,\n",
       "                             guiEvent: simpleKeys(event)});\n",
       "    return false;\n",
       "}\n",
       "\n",
       "mpl.figure.prototype.toolbar_button_onclick = function(name) {\n",
       "    if (name == 'download') {\n",
       "        this.handle_save(this, null);\n",
       "    } else {\n",
       "        this.send_message(\"toolbar_button\", {name: name});\n",
       "    }\n",
       "};\n",
       "\n",
       "mpl.figure.prototype.toolbar_button_onmouseover = function(tooltip) {\n",
       "    this.message.textContent = tooltip;\n",
       "};\n",
       "mpl.toolbar_items = [[\"Home\", \"Reset original view\", \"fa fa-home icon-home\", \"home\"], [\"Back\", \"Back to previous view\", \"fa fa-arrow-left icon-arrow-left\", \"back\"], [\"Forward\", \"Forward to next view\", \"fa fa-arrow-right icon-arrow-right\", \"forward\"], [\"\", \"\", \"\", \"\"], [\"Pan\", \"Pan axes with left mouse, zoom with right\", \"fa fa-arrows icon-move\", \"pan\"], [\"Zoom\", \"Zoom to rectangle\", \"fa fa-square-o icon-check-empty\", \"zoom\"], [\"\", \"\", \"\", \"\"], [\"Download\", \"Download plot\", \"fa fa-floppy-o icon-save\", \"download\"]];\n",
       "\n",
       "mpl.extensions = [\"eps\", \"pdf\", \"png\", \"ps\", \"raw\", \"svg\"];\n",
       "\n",
       "mpl.default_extension = \"png\";var comm_websocket_adapter = function(comm) {\n",
       "    // Create a \"websocket\"-like object which calls the given IPython comm\n",
       "    // object with the appropriate methods. Currently this is a non binary\n",
       "    // socket, so there is still some room for performance tuning.\n",
       "    var ws = {};\n",
       "\n",
       "    ws.close = function() {\n",
       "        comm.close()\n",
       "    };\n",
       "    ws.send = function(m) {\n",
       "        //console.log('sending', m);\n",
       "        comm.send(m);\n",
       "    };\n",
       "    // Register the callback with on_msg.\n",
       "    comm.on_msg(function(msg) {\n",
       "        //console.log('receiving', msg['content']['data'], msg);\n",
       "        // Pass the mpl event to the overridden (by mpl) onmessage function.\n",
       "        ws.onmessage(msg['content']['data'])\n",
       "    });\n",
       "    return ws;\n",
       "}\n",
       "\n",
       "mpl.mpl_figure_comm = function(comm, msg) {\n",
       "    // This is the function which gets called when the mpl process\n",
       "    // starts-up an IPython Comm through the \"matplotlib\" channel.\n",
       "\n",
       "    var id = msg.content.data.id;\n",
       "    // Get hold of the div created by the display call when the Comm\n",
       "    // socket was opened in Python.\n",
       "    var element = $(\"#\" + id);\n",
       "    var ws_proxy = comm_websocket_adapter(comm)\n",
       "\n",
       "    function ondownload(figure, format) {\n",
       "        window.open(figure.imageObj.src);\n",
       "    }\n",
       "\n",
       "    var fig = new mpl.figure(id, ws_proxy,\n",
       "                           ondownload,\n",
       "                           element.get(0));\n",
       "\n",
       "    // Call onopen now - mpl needs it, as it is assuming we've passed it a real\n",
       "    // web socket which is closed, not our websocket->open comm proxy.\n",
       "    ws_proxy.onopen();\n",
       "\n",
       "    fig.parent_element = element.get(0);\n",
       "    fig.cell_info = mpl.find_output_cell(\"<div id='\" + id + \"'></div>\");\n",
       "    if (!fig.cell_info) {\n",
       "        console.error(\"Failed to find cell for figure\", id, fig);\n",
       "        return;\n",
       "    }\n",
       "\n",
       "    var output_index = fig.cell_info[2]\n",
       "    var cell = fig.cell_info[0];\n",
       "\n",
       "};\n",
       "\n",
       "mpl.figure.prototype.handle_close = function(fig, msg) {\n",
       "    var width = fig.canvas.width/mpl.ratio\n",
       "    fig.root.unbind('remove')\n",
       "\n",
       "    // Update the output cell to use the data from the current canvas.\n",
       "    fig.push_to_output();\n",
       "    var dataURL = fig.canvas.toDataURL();\n",
       "    // Re-enable the keyboard manager in IPython - without this line, in FF,\n",
       "    // the notebook keyboard shortcuts fail.\n",
       "    IPython.keyboard_manager.enable()\n",
       "    $(fig.parent_element).html('<img src=\"' + dataURL + '\" width=\"' + width + '\">');\n",
       "    fig.close_ws(fig, msg);\n",
       "}\n",
       "\n",
       "mpl.figure.prototype.close_ws = function(fig, msg){\n",
       "    fig.send_message('closing', msg);\n",
       "    // fig.ws.close()\n",
       "}\n",
       "\n",
       "mpl.figure.prototype.push_to_output = function(remove_interactive) {\n",
       "    // Turn the data on the canvas into data in the output cell.\n",
       "    var width = this.canvas.width/mpl.ratio\n",
       "    var dataURL = this.canvas.toDataURL();\n",
       "    this.cell_info[1]['text/html'] = '<img src=\"' + dataURL + '\" width=\"' + width + '\">';\n",
       "}\n",
       "\n",
       "mpl.figure.prototype.updated_canvas_event = function() {\n",
       "    // Tell IPython that the notebook contents must change.\n",
       "    IPython.notebook.set_dirty(true);\n",
       "    this.send_message(\"ack\", {});\n",
       "    var fig = this;\n",
       "    // Wait a second, then push the new image to the DOM so\n",
       "    // that it is saved nicely (might be nice to debounce this).\n",
       "    setTimeout(function () { fig.push_to_output() }, 1000);\n",
       "}\n",
       "\n",
       "mpl.figure.prototype._init_toolbar = function() {\n",
       "    var fig = this;\n",
       "\n",
       "    var nav_element = $('<div/>');\n",
       "    nav_element.attr('style', 'width: 100%');\n",
       "    this.root.append(nav_element);\n",
       "\n",
       "    // Define a callback function for later on.\n",
       "    function toolbar_event(event) {\n",
       "        return fig.toolbar_button_onclick(event['data']);\n",
       "    }\n",
       "    function toolbar_mouse_event(event) {\n",
       "        return fig.toolbar_button_onmouseover(event['data']);\n",
       "    }\n",
       "\n",
       "    for(var toolbar_ind in mpl.toolbar_items){\n",
       "        var name = mpl.toolbar_items[toolbar_ind][0];\n",
       "        var tooltip = mpl.toolbar_items[toolbar_ind][1];\n",
       "        var image = mpl.toolbar_items[toolbar_ind][2];\n",
       "        var method_name = mpl.toolbar_items[toolbar_ind][3];\n",
       "\n",
       "        if (!name) { continue; };\n",
       "\n",
       "        var button = $('<button class=\"btn btn-default\" href=\"#\" title=\"' + name + '\"><i class=\"fa ' + image + ' fa-lg\"></i></button>');\n",
       "        button.click(method_name, toolbar_event);\n",
       "        button.mouseover(tooltip, toolbar_mouse_event);\n",
       "        nav_element.append(button);\n",
       "    }\n",
       "\n",
       "    // Add the status bar.\n",
       "    var status_bar = $('<span class=\"mpl-message\" style=\"text-align:right; float: right;\"/>');\n",
       "    nav_element.append(status_bar);\n",
       "    this.message = status_bar[0];\n",
       "\n",
       "    // Add the close button to the window.\n",
       "    var buttongrp = $('<div class=\"btn-group inline pull-right\"></div>');\n",
       "    var button = $('<button class=\"btn btn-mini btn-primary\" href=\"#\" title=\"Stop Interaction\"><i class=\"fa fa-power-off icon-remove icon-large\"></i></button>');\n",
       "    button.click(function (evt) { fig.handle_close(fig, {}); } );\n",
       "    button.mouseover('Stop Interaction', toolbar_mouse_event);\n",
       "    buttongrp.append(button);\n",
       "    var titlebar = this.root.find($('.ui-dialog-titlebar'));\n",
       "    titlebar.prepend(buttongrp);\n",
       "}\n",
       "\n",
       "mpl.figure.prototype._root_extra_style = function(el){\n",
       "    var fig = this\n",
       "    el.on(\"remove\", function(){\n",
       "\tfig.close_ws(fig, {});\n",
       "    });\n",
       "}\n",
       "\n",
       "mpl.figure.prototype._canvas_extra_style = function(el){\n",
       "    // this is important to make the div 'focusable\n",
       "    el.attr('tabindex', 0)\n",
       "    // reach out to IPython and tell the keyboard manager to turn it's self\n",
       "    // off when our div gets focus\n",
       "\n",
       "    // location in version 3\n",
       "    if (IPython.notebook.keyboard_manager) {\n",
       "        IPython.notebook.keyboard_manager.register_events(el);\n",
       "    }\n",
       "    else {\n",
       "        // location in version 2\n",
       "        IPython.keyboard_manager.register_events(el);\n",
       "    }\n",
       "\n",
       "}\n",
       "\n",
       "mpl.figure.prototype._key_event_extra = function(event, name) {\n",
       "    var manager = IPython.notebook.keyboard_manager;\n",
       "    if (!manager)\n",
       "        manager = IPython.keyboard_manager;\n",
       "\n",
       "    // Check for shift+enter\n",
       "    if (event.shiftKey && event.which == 13) {\n",
       "        this.canvas_div.blur();\n",
       "        // select the cell after this one\n",
       "        var index = IPython.notebook.find_cell_index(this.cell_info[0]);\n",
       "        IPython.notebook.select(index + 1);\n",
       "    }\n",
       "}\n",
       "\n",
       "mpl.figure.prototype.handle_save = function(fig, msg) {\n",
       "    fig.ondownload(fig, null);\n",
       "}\n",
       "\n",
       "\n",
       "mpl.find_output_cell = function(html_output) {\n",
       "    // Return the cell and output element which can be found *uniquely* in the notebook.\n",
       "    // Note - this is a bit hacky, but it is done because the \"notebook_saving.Notebook\"\n",
       "    // IPython event is triggered only after the cells have been serialised, which for\n",
       "    // our purposes (turning an active figure into a static one), is too late.\n",
       "    var cells = IPython.notebook.get_cells();\n",
       "    var ncells = cells.length;\n",
       "    for (var i=0; i<ncells; i++) {\n",
       "        var cell = cells[i];\n",
       "        if (cell.cell_type === 'code'){\n",
       "            for (var j=0; j<cell.output_area.outputs.length; j++) {\n",
       "                var data = cell.output_area.outputs[j];\n",
       "                if (data.data) {\n",
       "                    // IPython >= 3 moved mimebundle to data attribute of output\n",
       "                    data = data.data;\n",
       "                }\n",
       "                if (data['text/html'] == html_output) {\n",
       "                    return [cell, data, j];\n",
       "                }\n",
       "            }\n",
       "        }\n",
       "    }\n",
       "}\n",
       "\n",
       "// Register the function which deals with the matplotlib target/channel.\n",
       "// The kernel may be null if the page has been refreshed.\n",
       "if (IPython.notebook.kernel != null) {\n",
       "    IPython.notebook.kernel.comm_manager.register_target('matplotlib', mpl.mpl_figure_comm);\n",
       "}\n"
      ],
      "text/plain": [
       "<IPython.core.display.Javascript object>"
      ]
     },
     "metadata": {},
     "output_type": "display_data"
    },
    {
     "data": {
      "text/html": [
       "<img src=\"data:image/png;base64,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\" width=\"640\">"
      ],
      "text/plain": [
       "<IPython.core.display.HTML object>"
      ]
     },
     "metadata": {},
     "output_type": "display_data"
    },
    {
     "data": {
      "text/plain": [
       "Text(0.5, 0, 'Z')"
      ]
     },
     "execution_count": 5,
     "metadata": {},
     "output_type": "execute_result"
    }
   ],
   "source": [
    "fig = plt.figure()\n",
    "ax = fig.add_subplot(111, projection='3d')\n",
    "\n",
    "ax.scatter(water_positions[:,0], water_positions[:,1], water_positions[:,2], c=['red','gray','gray'], s=1000)\n",
    "ax.grid(b=False)\n",
    "ax.set_xlabel('X')\n",
    "ax.set_ylabel('Y')\n",
    "ax.set_zlabel('Z')\n"
   ]
  },
  {
   "cell_type": "code",
   "execution_count": 6,
   "metadata": {},
   "outputs": [],
   "source": [
    "from narupa.trajectory import FrameData"
   ]
  },
  {
   "cell_type": "code",
   "execution_count": 7,
   "metadata": {},
   "outputs": [],
   "source": [
    "frame = FrameData()"
   ]
  },
  {
   "cell_type": "markdown",
   "metadata": {},
   "source": [
    "Now, we put all of this data in by accessing the appropriate storage (arrays or values) and assigning a key."
   ]
  },
  {
   "cell_type": "code",
   "execution_count": 8,
   "metadata": {},
   "outputs": [],
   "source": [
    "frame.arrays['particle.positions'] = water_positions.flatten() # We have to store as a flat array.\n",
    "frame.arrays['particle.elements'] = water_elements\n",
    "frame.arrays['bond.pairs'] = water_bonds.flatten()"
   ]
  },
  {
   "cell_type": "code",
   "execution_count": 9,
   "metadata": {},
   "outputs": [],
   "source": [
    "frame.values['particle.count'] = 3"
   ]
  },
  {
   "cell_type": "markdown",
   "metadata": {},
   "source": [
    "Let's print out the frame, how this looks when communicated to clients. It's just two dictionaries, one with values, one with arrays."
   ]
  },
  {
   "cell_type": "code",
   "execution_count": 10,
   "metadata": {},
   "outputs": [
    {
     "data": {
      "text/plain": [
       "values {\n",
       "  key: \"particle.count\"\n",
       "  value {\n",
       "    number_value: 3.0\n",
       "  }\n",
       "}\n",
       "arrays {\n",
       "  key: \"bond.pairs\"\n",
       "  value {\n",
       "    index_values {\n",
       "      values: 0\n",
       "      values: 1\n",
       "      values: 0\n",
       "      values: 2\n",
       "    }\n",
       "  }\n",
       "}\n",
       "arrays {\n",
       "  key: \"particle.elements\"\n",
       "  value {\n",
       "    index_values {\n",
       "      values: 8\n",
       "      values: 1\n",
       "      values: 1\n",
       "    }\n",
       "  }\n",
       "}\n",
       "arrays {\n",
       "  key: \"particle.positions\"\n",
       "  value {\n",
       "    float_values {\n",
       "      values: 0.0\n",
       "      values: 0.0\n",
       "      values: 0.0\n",
       "      values: 0.07554499804973602\n",
       "      values: 0.0471160002052784\n",
       "      values: 0.0\n",
       "      values: -0.07554499804973602\n",
       "      values: 0.0471160002052784\n",
       "      values: 0.0\n",
       "    }\n",
       "  }\n",
       "}"
      ]
     },
     "execution_count": 10,
     "metadata": {},
     "output_type": "execute_result"
    }
   ],
   "source": [
    "frame.raw"
   ]
  },
  {
   "cell_type": "markdown",
   "metadata": {},
   "source": [
    "To make things easier to use, the python wrapper has shortcuts for common molecular properties:"
   ]
  },
  {
   "cell_type": "code",
   "execution_count": 11,
   "metadata": {},
   "outputs": [
    {
     "data": {
      "text/plain": [
       "['array_keys',\n",
       " 'arrays',\n",
       " 'bond_orders',\n",
       " 'bond_pairs',\n",
       " 'box_vectors',\n",
       " 'chain_count',\n",
       " 'chain_names',\n",
       " 'kinetic_energy',\n",
       " 'particle_count',\n",
       " 'particle_elements',\n",
       " 'particle_names',\n",
       " 'particle_positions',\n",
       " 'particle_residues',\n",
       " 'particle_types',\n",
       " 'potential_energy',\n",
       " 'raw',\n",
       " 'residue_chains',\n",
       " 'residue_count',\n",
       " 'residue_ids',\n",
       " 'residue_names',\n",
       " 'set_float_array',\n",
       " 'set_index_array',\n",
       " 'set_string_array',\n",
       " 'shortcuts',\n",
       " 'used_shortcuts',\n",
       " 'value_keys',\n",
       " 'values']"
      ]
     },
     "execution_count": 11,
     "metadata": {},
     "output_type": "execute_result"
    }
   ],
   "source": [
    "[attribute for attribute in dir(frame) if not attribute.startswith('_')]"
   ]
  },
  {
   "cell_type": "markdown",
   "metadata": {},
   "source": [
    "So we can see what keys have been set: "
   ]
  },
  {
   "cell_type": "code",
   "execution_count": 12,
   "metadata": {},
   "outputs": [
    {
     "data": {
      "text/plain": [
       "{'bond.pairs', 'particle.elements', 'particle.positions'}"
      ]
     },
     "execution_count": 12,
     "metadata": {},
     "output_type": "execute_result"
    }
   ],
   "source": [
    "frame.array_keys"
   ]
  },
  {
   "cell_type": "code",
   "execution_count": 13,
   "metadata": {},
   "outputs": [
    {
     "data": {
      "text/plain": [
       "{'particle.count'}"
      ]
     },
     "execution_count": 13,
     "metadata": {},
     "output_type": "execute_result"
    }
   ],
   "source": [
    "frame.value_keys"
   ]
  },
  {
   "cell_type": "markdown",
   "metadata": {},
   "source": [
    "And we could have used the shortcuts to get and set the fields:"
   ]
  },
  {
   "cell_type": "code",
   "execution_count": 14,
   "metadata": {},
   "outputs": [],
   "source": [
    "frame.particle_count = 3\n",
    "frame.particle_positions = water_positions\n",
    "frame.particle_elements = water_elements\n",
    "frame.bond_pairs = water_bonds"
   ]
  },
  {
   "cell_type": "code",
   "execution_count": 15,
   "metadata": {
    "scrolled": true
   },
   "outputs": [
    {
     "data": {
      "text/plain": [
       "[[0.0, 0.0, 0.0],\n",
       " [0.07554499804973602, 0.0471160002052784, 0.0],\n",
       " [-0.07554499804973602, 0.0471160002052784, 0.0]]"
      ]
     },
     "execution_count": 15,
     "metadata": {},
     "output_type": "execute_result"
    }
   ],
   "source": [
    "frame.particle_positions"
   ]
  },
  {
   "cell_type": "markdown",
   "metadata": {},
   "source": [
    "## Transmit it to VR"
   ]
  },
  {
   "cell_type": "markdown",
   "metadata": {},
   "source": [
    "We've provided enough data to visualize this amazing molecule in VR. So we'll fire up a server and send this frame."
   ]
  },
  {
   "cell_type": "code",
   "execution_count": 16,
   "metadata": {},
   "outputs": [],
   "source": [
    "from narupa.app import NarupaFrameApplication"
   ]
  },
  {
   "cell_type": "code",
   "execution_count": 17,
   "metadata": {},
   "outputs": [],
   "source": [
    "server = NarupaFrameApplication.basic_server(port=0)"
   ]
  },
  {
   "cell_type": "code",
   "execution_count": 18,
   "metadata": {},
   "outputs": [],
   "source": [
    "server.frame_publisher.send_frame(0, frame)"
   ]
  },
  {
   "cell_type": "markdown",
   "metadata": {},
   "source": [
    "Connect from VR, and you'll see something like this:\n",
    "\n",
    "![Narupa H2O](images/h2o.png)"
   ]
  },
  {
   "cell_type": "markdown",
   "metadata": {},
   "source": [
    "## What kind of data can I send?"
   ]
  },
  {
   "cell_type": "markdown",
   "metadata": {},
   "source": [
    "You may have noticed that the particle count was transmitted as a `number_value` in the frame, and that the positions were a `float_value`. What kind of values can you send? What kind of arrays can you send? "
   ]
  },
  {
   "cell_type": "markdown",
   "metadata": {},
   "source": [
    "### Arrays"
   ]
  },
  {
   "cell_type": "markdown",
   "metadata": {},
   "source": [
    "For the arrays, you can send decimal number (floats), positive integers (unsigned int) and strings. The types are restricted so we can send them efficiently."
   ]
  },
  {
   "cell_type": "code",
   "execution_count": 19,
   "metadata": {},
   "outputs": [],
   "source": [
    "frame.arrays['some floats'] = [1.0, 2.5, 3.5]\n",
    "frame.arrays['some numbers'] = [1,2,3]\n",
    "frame.arrays['some strings'] = ['a', 'bc', 'de']"
   ]
  },
  {
   "cell_type": "markdown",
   "metadata": {},
   "source": [
    "Of course, an array could just be an array of bytes (those in the business call these a `blob`)"
   ]
  },
  {
   "cell_type": "code",
   "execution_count": 20,
   "metadata": {},
   "outputs": [],
   "source": [
    "with open('images/example_image.jpg', 'rb') as f:\n",
    "    image_bytes = f.read()"
   ]
  },
  {
   "cell_type": "code",
   "execution_count": 21,
   "metadata": {},
   "outputs": [],
   "source": [
    "frame.arrays['image'] = image_bytes"
   ]
  },
  {
   "cell_type": "code",
   "execution_count": 22,
   "metadata": {},
   "outputs": [],
   "source": [
    "server.frame_publisher.send_frame(0, frame)"
   ]
  },
  {
   "cell_type": "code",
   "execution_count": 23,
   "metadata": {},
   "outputs": [],
   "source": [
    "from narupa.app import NarupaImdClient\n",
    "from IPython.display import Image\n",
    "\n",
    "with NarupaImdClient.connect_to_single_server(port=server.port) as client:\n",
    "    client.wait_until_first_frame()\n",
    "    received_image_bytes = bytes(client.latest_frame.arrays['image'])"
   ]
  },
  {
   "cell_type": "code",
   "execution_count": 24,
   "metadata": {},
   "outputs": [
    {
     "data": {
      "image/jpeg": "[encoded data removed]",
      "text/plain": [
       "<IPython.core.display.Image object>"
      ]
     },
     "execution_count": 24,
     "metadata": {
      "image/jpeg": {
       "width": 200
      }
     },
     "output_type": "execute_result"
    }
   ],
   "source": [
    "Image(data=received_image_bytes, width=200)"
   ]
  },
  {
   "cell_type": "markdown",
   "metadata": {},
   "source": [
    "### Values"
   ]
  },
  {
   "cell_type": "markdown",
   "metadata": {},
   "source": [
    "For the values, you can send anything that can be represented with Protobuf's [Value](https://developers.google.com/protocol-buffers/docs/reference/csharp/class/google/protobuf/well-known-types/value) type. \n",
    "\n",
    "This is a very flexible structure, as it can send numbers, strings, bytes, booleans, and lists and `Structs` of these things. A Protobuf `Struct` is analogous to a JSON object. \n",
    "\n",
    "We provide some utility methods to help convert these things"
   ]
  },
  {
   "cell_type": "code",
   "execution_count": 25,
   "metadata": {},
   "outputs": [],
   "source": [
    "from narupa.utilities.protobuf_utilities import dict_to_struct"
   ]
  },
  {
   "cell_type": "code",
   "execution_count": 26,
   "metadata": {},
   "outputs": [],
   "source": [
    "complicated_object = {\n",
    "    'name' : 'Squirtle',\n",
    "    'number' : 7,\n",
    "    'height' : 0.5,\n",
    "    'weight' : 9.0,\n",
    "    'gender' :['male', 'female'],\n",
    "    'abilities' : ['torrent']\n",
    "}"
   ]
  },
  {
   "cell_type": "markdown",
   "metadata": {},
   "source": [
    "#TODO Needs a fix for [this issue](https://gitlab.com/intangiblerealities/narupa-protocol/issues/159) to assign a struct"
   ]
  },
  {
   "cell_type": "markdown",
   "metadata": {},
   "source": [
    "## More Molecular Data "
   ]
  },
  {
   "cell_type": "markdown",
   "metadata": {},
   "source": [
    "As well as the positions, bonds, and elements, we can set additional fields that are commonly available in topological fields formats. If these are passed, lots of exciting rendering and selection opportunites present themselves\n",
    "\n",
    "The following assigns the water molecule to the residue HOH, in the chain A "
   ]
  },
  {
   "cell_type": "code",
   "execution_count": 27,
   "metadata": {},
   "outputs": [],
   "source": [
    "frame.residue_ids = ['1', '1', '1']\n",
    "frame.residue_names = ['HOH', 'HOH', 'HOH']\n",
    "frame.residue_count = 1\n",
    "frame.particle_residues = [0,0,0]\n",
    "frame.chain_names = ['A']\n",
    "frame.chain_count = 1\n",
    "frame.residue_chains = [0]"
   ]
  },
  {
   "cell_type": "code",
   "execution_count": 28,
   "metadata": {},
   "outputs": [],
   "source": [
    "server.frame_publisher.send_frame(0, frame)"
   ]
  },
  {
   "cell_type": "markdown",
   "metadata": {},
   "source": [
    "## Updating Data in a Frame"
   ]
  },
  {
   "cell_type": "markdown",
   "metadata": {},
   "source": [
    "When sending data, the iMD-VR client is intelligent enough to reuse data it has received before, so you don't need to send the everything every time. \n",
    "\n",
    "Our convention is to send the topology in the first frame, then just positions after that. The Frame server is smart enough to send the latest version of everything to a client when it first connects.\n",
    "\n",
    "In the following, we just update the positions array to move the water molecule by 1 nanometer in each cardinal direction"
   ]
  },
  {
   "cell_type": "code",
   "execution_count": 29,
   "metadata": {},
   "outputs": [],
   "source": [
    "positions_frame = FrameData()\n",
    "positions_frame.particle_positions = water_positions + 1"
   ]
  },
  {
   "cell_type": "code",
   "execution_count": 30,
   "metadata": {},
   "outputs": [],
   "source": [
    "server.frame_publisher.send_frame(1, positions_frame)"
   ]
  },
  {
   "cell_type": "markdown",
   "metadata": {},
   "source": [
    "# Next Steps"
   ]
  },
  {
   "cell_type": "markdown",
   "metadata": {},
   "source": [
    "* See more practical examples of setting up [simulations](../ase/basic_example.ipynb) and [trajectories](../mdanalysis/mdanalysis_trajectory.ipynb)\n",
    "* Learn how to set up [commands and synchronise state](commands_and_state.ipynb)\n",
    "* Learn about the details of setting up [servers](servers.ipynb)"
   ]
  },
  {
   "cell_type": "code",
   "execution_count": null,
   "metadata": {},
   "outputs": [],
   "source": []
  }
 ],
 "metadata": {
  "kernelspec": {
   "display_name": "Python 3",
   "language": "python",
   "name": "python3"
  },
  "language_info": {
   "codemirror_mode": {
    "name": "ipython",
    "version": 3
   },
   "file_extension": ".py",
   "mimetype": "text/x-python",
   "name": "python",
   "nbconvert_exporter": "python",
   "pygments_lexer": "ipython3",
   "version": "3.7.6"
  }
 },
 "nbformat": 4,
 "nbformat_minor": 1
}
