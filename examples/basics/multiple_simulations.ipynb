{
 "cells": [
  {
   "cell_type": "markdown",
   "id": "47607dd97aa922d1",
   "metadata": {},
   "source": [
    " # Multiple Simulations on a Server"
   ]
  },
  {
   "cell_type": "markdown",
   "id": "e2f7c912265a0ca4",
   "metadata": {},
   "source": [
    "In this notebook we are going to perform multiple simulations sequentially using one NanoVer server.  <br>\n",
    "Once they are loaded, the user can run the first one and then pass to the second, third ... etc., \n",
    "via commands in the Jupyter notebook or the VR interface."
   ]
  },
  {
   "cell_type": "markdown",
   "id": "2a3fb7e1bd99b669",
   "metadata": {},
   "source": [
    "First, let's import the classes that we need from the NanoVer package:"
   ]
  },
  {
   "cell_type": "code",
   "execution_count": 1,
   "id": "62aa87916b233f73",
   "metadata": {
    "ExecuteTime": {
     "end_time": "2024-10-28T11:59:22.520269Z",
     "start_time": "2024-10-28T11:59:20.687950Z"
    }
   },
   "outputs": [],
   "source": [
    "from nanover.omni import OmniRunner\n",
    "from nanover.omni.openmm import OpenMMSimulation\n",
    "from nanover.omni.ase_omm import ASEOpenMMSimulation\n",
    "\n",
    "from examples.basics.visualisations_demos.visuals import clear_selections"
   ]
  },
  {
   "cell_type": "markdown",
   "id": "3d39b840d35707e4",
   "metadata": {},
   "source": [
    "Then let's load the simulation files: we are loading three different protein ligand complexes:\n",
    "1. Neuraminidase and zanamavir\n",
    "2. HIV1 and Amprenavir\n",
    "3. Trypsin and Indole-Amidine \n",
    "\n",
    "All of the are from the published paper [\"Interactive molecular dynamics in virtual  reality for accurate flexible protein-ligand docking\"](https://journals.plos.org/plosone/article?id=10.1371/journal.pone.0228461), further details can be found in the `system_descriptions.md` file in `openmm_files` directory, where the files are stored. <br>\n",
    "\n",
    "As we're going to run the simulations using OpenMM, we need to create an `OpenMMSimulation` for each one."
   ]
  },
  {
   "cell_type": "code",
   "execution_count": 3,
   "id": "19285eb87d52bd3b",
   "metadata": {
    "ExecuteTime": {
     "end_time": "2024-10-28T11:59:22.563583Z",
     "start_time": "2024-10-28T11:59:22.558233Z"
    }
   },
   "outputs": [],
   "source": [
    "neuraminidase_zanamavir = \"openmm_files/6hcx_complex.xml\"\n",
    "first_simulation = OpenMMSimulation.from_xml_path(neuraminidase_zanamavir)"
   ]
  },
  {
   "cell_type": "code",
   "execution_count": 4,
   "id": "606e7d871a17db7f",
   "metadata": {
    "ExecuteTime": {
     "end_time": "2024-10-28T11:59:22.577015Z",
     "start_time": "2024-10-28T11:59:22.571249Z"
    }
   },
   "outputs": [],
   "source": [
    "hiv_amprenavir = \"openmm_files/hiv1_complex.xml\"\n",
    "second_simulation = OpenMMSimulation.from_xml_path(hiv_amprenavir)"
   ]
  },
  {
   "cell_type": "code",
   "execution_count": 5,
   "id": "e6dfd5a261e73a8c",
   "metadata": {
    "ExecuteTime": {
     "end_time": "2024-10-28T11:59:22.974836Z",
     "start_time": "2024-10-28T11:59:22.970181Z"
    }
   },
   "outputs": [],
   "source": [
    "trypsin_indoleamidine = \"openmm_files/2g5n_complex.xml\"\n",
    "third_simulation = OpenMMSimulation.from_xml_path(trypsin_indoleamidine)"
   ]
  },
  {
   "cell_type": "markdown",
   "id": "4c709a27e26b1f91",
   "metadata": {},
   "source": [
    "Now we can create an `OmniRunner` to serve the simulations and load the simulations created above onto it."
   ]
  },
  {
   "cell_type": "code",
   "execution_count": 6,
   "id": "5e0518ce668ea95",
   "metadata": {
    "ExecuteTime": {
     "end_time": "2024-10-28T11:59:23.099393Z",
     "start_time": "2024-10-28T11:59:22.986304Z"
    }
   },
   "outputs": [],
   "source": [
    "imd_runner = OmniRunner.with_basic_server(first_simulation, second_simulation, third_simulation, name=\"my-nanover-server\")"
   ]
  },
  {
   "cell_type": "code",
   "execution_count": 7,
   "id": "b5db666561946996",
   "metadata": {
    "ExecuteTime": {
     "end_time": "2024-10-28T11:59:23.118132Z",
     "start_time": "2024-10-28T11:59:23.113493Z"
    }
   },
   "outputs": [
    {
     "name": "stdout",
     "output_type": "stream",
     "text": [
      "my-nanover-server: serving at [::]:38801\n"
     ]
    }
   ],
   "source": [
    "# Optional: check your server details by printing it's name, address and port\n",
    "print(f'{imd_runner.app_server.name}: serving at {imd_runner.app_server.address}:{imd_runner.app_server.port}')"
   ]
  },
  {
   "cell_type": "markdown",
   "id": "643c0248796ae1ce",
   "metadata": {},
   "source": [
    "All set up! Now run the cell below to start the first simulation."
   ]
  },
  {
   "cell_type": "code",
   "execution_count": 18,
   "id": "881c126ae763bfae",
   "metadata": {
    "ExecuteTime": {
     "end_time": "2024-10-28T12:01:45.433828Z",
     "start_time": "2024-10-28T12:01:45.410131Z"
    }
   },
   "outputs": [],
   "source": [
    "# Start the first simulation\n",
    "imd_runner.load(0)\n",
    "imd_runner.play()"
   ]
  },
  {
   "cell_type": "markdown",
   "id": "349b666e98342a26",
   "metadata": {},
   "source": [
    "## Jupyter notebook interface"
   ]
  },
  {
   "cell_type": "markdown",
   "id": "2b9b9bce8efc67c3",
   "metadata": {},
   "source": [
    "If you have the NanoVer iMD program installed, you can connect to the server to view the first system (a neuraminidase-zanamavir complex) in VR.  <br> The system is rendered using the default \"ball-and-stick\" model, which isn't very useful for such a large system! You will learn how to change the representation of such systems in our [visualisations tutorial](../fundamentals/visualisations.ipynb). <br>\n",
    "For now, just import:\n",
    "\n"
   ]
  },
  {
   "cell_type": "code",
   "execution_count": 9,
   "id": "627346209b7e2f52",
   "metadata": {
    "ExecuteTime": {
     "end_time": "2024-10-28T12:00:00.857910Z",
     "start_time": "2024-10-28T12:00:00.840025Z"
    }
   },
   "outputs": [],
   "source": [
    "from visualisations_demos import visuals"
   ]
  },
  {
   "cell_type": "markdown",
   "id": "590b50c22c9ebd2c",
   "metadata": {},
   "source": [
    "You can change the rendering of the first simulation by running the nezt cell (once you display the ball & stick model inside VR):"
   ]
  },
  {
   "cell_type": "code",
   "execution_count": 10,
   "id": "6df1fc8c5c050dc4",
   "metadata": {
    "ExecuteTime": {
     "end_time": "2024-10-28T12:00:03.912137Z",
     "start_time": "2024-10-28T12:00:02.683144Z"
    }
   },
   "outputs": [
    {
     "name": "stdout",
     "output_type": "stream",
     "text": [
      "Client connected, recieved frame with 6008 atom(s)\n"
     ]
    }
   ],
   "source": [
    "visuals.neuraminidase_zanamavir()"
   ]
  },
  {
   "cell_type": "markdown",
   "id": "8a2cf885c4e75683",
   "metadata": {},
   "source": [
    "Once you have finished with the first simulation, run the cells below to start the second simulation."
   ]
  },
  {
   "cell_type": "code",
   "execution_count": 11,
   "id": "a184f5691d597c16",
   "metadata": {
    "ExecuteTime": {
     "end_time": "2024-10-28T12:00:27.384411Z",
     "start_time": "2024-10-28T12:00:26.729817Z"
    }
   },
   "outputs": [
    {
     "name": "stdout",
     "output_type": "stream",
     "text": [
      "Client connected, recieved frame with 6008 atom(s)\n"
     ]
    }
   ],
   "source": [
    "# Before running the second simulation, clean the selections of first system's protein and ligand (used for their new rendering).\n",
    "visuals.clear_selections() "
   ]
  },
  {
   "cell_type": "code",
   "execution_count": 12,
   "id": "368a2fe237c4ae76",
   "metadata": {
    "ExecuteTime": {
     "end_time": "2024-10-28T12:00:30.340472Z",
     "start_time": "2024-10-28T12:00:30.335307Z"
    }
   },
   "outputs": [],
   "source": [
    "# Switch to the second simulation\n",
    "imd_runner.next()"
   ]
  },
  {
   "cell_type": "markdown",
   "id": "4447a65894fb259e",
   "metadata": {},
   "source": [
    "If you want to change the rendering run:"
   ]
  },
  {
   "cell_type": "code",
   "execution_count": 13,
   "id": "b33a04b2c4fce8b2",
   "metadata": {
    "ExecuteTime": {
     "end_time": "2024-10-28T12:00:41.608067Z",
     "start_time": "2024-10-28T12:00:40.655102Z"
    }
   },
   "outputs": [
    {
     "name": "stdout",
     "output_type": "stream",
     "text": [
      "Client connected, recieved frame with 3199 atom(s)\n",
      "Hiv cartoon, Amprenavir liquorice\n"
     ]
    }
   ],
   "source": [
    "# Change rendering \n",
    "visuals.hiv_amprenavir()"
   ]
  },
  {
   "cell_type": "code",
   "execution_count": 14,
   "id": "a421275cca6231b9",
   "metadata": {
    "ExecuteTime": {
     "end_time": "2024-10-28T12:01:05.274930Z",
     "start_time": "2024-10-28T12:01:04.636682Z"
    }
   },
   "outputs": [
    {
     "name": "stdout",
     "output_type": "stream",
     "text": [
      "Client connected, recieved frame with 3199 atom(s)\n"
     ]
    }
   ],
   "source": [
    "# Clear selection before next simulation\n",
    "visuals.clear_selections()"
   ]
  },
  {
   "cell_type": "markdown",
   "id": "5bc869bc698cabd",
   "metadata": {},
   "source": [
    "Again, once you're finished with this simulation, run the cell below to start the third simulation"
   ]
  },
  {
   "cell_type": "code",
   "execution_count": 15,
   "id": "9b4743f23518d6f4",
   "metadata": {
    "ExecuteTime": {
     "end_time": "2024-10-28T12:01:08.792084Z",
     "start_time": "2024-10-28T12:01:08.783642Z"
    }
   },
   "outputs": [],
   "source": [
    "# Switch to the third simulation\n",
    "imd_runner.next()"
   ]
  },
  {
   "cell_type": "code",
   "execution_count": 16,
   "id": "cfebb0490a8f9b1b",
   "metadata": {
    "ExecuteTime": {
     "end_time": "2024-10-28T12:01:18.223088Z",
     "start_time": "2024-10-28T12:01:17.528029Z"
    }
   },
   "outputs": [
    {
     "name": "stdout",
     "output_type": "stream",
     "text": [
      "Client connected, recieved frame with 3256 atom(s)\n"
     ]
    }
   ],
   "source": [
    "# for changing visuals \n",
    "visuals.trypsin_indoleamidine()"
   ]
  },
  {
   "cell_type": "code",
   "execution_count": 17,
   "id": "5c94bbd9960fc183",
   "metadata": {
    "ExecuteTime": {
     "end_time": "2024-10-28T12:01:31.094030Z",
     "start_time": "2024-10-28T12:01:30.499223Z"
    }
   },
   "outputs": [
    {
     "name": "stdout",
     "output_type": "stream",
     "text": [
      "Client connected, recieved frame with 3256 atom(s)\n"
     ]
    }
   ],
   "source": [
    "visuals.clear_selections()"
   ]
  },
  {
   "cell_type": "markdown",
   "id": "838ec975d49438bb",
   "metadata": {},
   "source": [
    "**N.B.** : using the `.next()` method, one can sequentially pass through the simulations loaded onto the server. <br> However, it is also possible to switch to a specific simulation:"
   ]
  },
  {
   "cell_type": "code",
   "execution_count": null,
   "id": "8b087f58958a928b",
   "metadata": {},
   "outputs": [],
   "source": [
    "imd_runner.load(0) # Select which simulation you want to load (0 , 1 , 2 )\n",
    "imd_runner.play() # play simulation"
   ]
  },
  {
   "cell_type": "markdown",
   "id": "cb79e7ff1a25256",
   "metadata": {},
   "source": [
    "## VR interface "
   ]
  },
  {
   "cell_type": "markdown",
   "id": "f48dad2630f92277",
   "metadata": {},
   "source": [
    "There is the possibility to switch among simulation files directly while in the VR space. <br>\n",
    "You need to access the menu holding the left joystick forward, select menu then sims, which contains all the simulations loaded.\n",
    "Choose the one you prefer and it will be loaded inside Nanover. You can repeat this action how many times you prefer. <br>\n",
    "Here there is a gif illustrating the process:"
   ]
  },
  {
   "cell_type": "markdown",
   "id": "ca4eebeef20befc9",
   "metadata": {},
   "source": [
    "![SegmentLocal](images/MultipleFiles.gif \"segment\")"
   ]
  },
  {
   "cell_type": "markdown",
   "id": "7e6f07c47830378e",
   "metadata": {},
   "source": [
    "## Close the server"
   ]
  },
  {
   "cell_type": "code",
   "execution_count": 13,
   "id": "48705db2575dfb3e",
   "metadata": {
    "ExecuteTime": {
     "end_time": "2024-10-28T11:42:15.557763Z",
     "start_time": "2024-10-28T11:42:15.207215Z"
    }
   },
   "outputs": [],
   "source": [
    "imd_runner.close()"
   ]
  }
 ],
 "metadata": {
  "kernelspec": {
   "display_name": "Python 3 (ipykernel)",
   "language": "python",
   "name": "python3"
  },
  "language_info": {
   "codemirror_mode": {
    "name": "ipython",
    "version": 3
   },
   "file_extension": ".py",
   "mimetype": "text/x-python",
   "name": "python",
   "nbconvert_exporter": "python",
   "pygments_lexer": "ipython3",
   "version": "3.12.5"
  }
 },
 "nbformat": 4,
 "nbformat_minor": 5
}
