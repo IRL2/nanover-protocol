{
 "cells": [
  {
   "cell_type": "markdown",
   "metadata": {},
   "source": [
    "# Setting up an OpenMM iMD simulation"
   ]
  },
  {
   "cell_type": "markdown",
   "metadata": {},
   "source": [
    "This notebook demonstrates how to set up an OpenMM simulation for use with NanoVer from scratch.\n",
    "We take AMBER files for neuraminidase with oseltamivir (AKA tamiflu) bound, create an OpenMM system and \n",
    "set it up with NanoVer, using ASE as the integrator"
   ]
  },
  {
   "cell_type": "markdown",
   "metadata": {
    "extensions": {
     "jupyter_dashboards": {
      "version": 1,
      "views": {
       "grid_default": {
        "col": 0,
        "height": 4,
        "hidden": true,
        "row": 0,
        "width": 4
       },
       "report_default": {
        "hidden": false
       }
      }
     }
    }
   },
   "source": [
    "## Set up the OpenMM Simulation"
   ]
  },
  {
   "cell_type": "markdown",
   "metadata": {},
   "source": [
    "We start by creating an OpenMM simulation from our AMBER files. OpenMM also supports Gromacs and CHARMM files, and can be customized for many other uses. "
   ]
  },
  {
   "cell_type": "code",
   "metadata": {
    "ExecuteTime": {
     "end_time": "2024-10-11T11:02:37.212605Z",
     "start_time": "2024-10-11T11:02:36.898363Z"
    }
   },
   "source": [
    "import openmm as mm\n",
    "import openmm.unit as unit \n",
    "import openmm.app as app"
   ],
   "outputs": [],
   "execution_count": 1
  },
  {
   "cell_type": "code",
   "metadata": {
    "ExecuteTime": {
     "end_time": "2024-10-11T11:02:37.999054Z",
     "start_time": "2024-10-11T11:02:37.749626Z"
    }
   },
   "source": [
    "prmtop = app.AmberPrmtopFile(\"openmm_files/3TI6_ose_wt.top\")\n",
    "amber_coords = app.AmberInpcrdFile(\"openmm_files/3TI6_ose_wt.rst\")"
   ],
   "outputs": [],
   "execution_count": 2
  },
  {
   "cell_type": "markdown",
   "metadata": {
    "ExecuteTime": {
     "end_time": "2019-06-06T16:04:25.397984Z",
     "start_time": "2019-06-06T16:04:25.395015Z"
    },
    "extensions": {
     "jupyter_dashboards": {
      "version": 1,
      "views": {
       "grid_default": {
        "hidden": true
       },
       "report_default": {
        "hidden": true
       }
      }
     }
    },
    "pycharm": {
     "is_executing": false
    }
   },
   "source": [
    "Because we use ASE for integrating, we keep the simulation simple by using implicit solvent and no constraints"
   ]
  },
  {
   "cell_type": "code",
   "metadata": {
    "ExecuteTime": {
     "end_time": "2024-10-11T11:02:39.650723Z",
     "start_time": "2024-10-11T11:02:39.461710Z"
    }
   },
   "source": [
    "system = prmtop.createSystem(nonbondedMethod=app.CutoffPeriodic, \n",
    "                             nonbondedCutoff=2*unit.nanometer, \n",
    "                             implicitSolvent=app.OBC2,\n",
    "                             constraints=None)"
   ],
   "outputs": [
    {
     "name": "stderr",
     "output_type": "stream",
     "text": [
      "C:\\Users\\ragzo\\anaconda3\\envs\\nanover-dev\\Lib\\site-packages\\openmm\\app\\internal\\amber_file_parser.py:1168: UserWarning: Non-optimal GB parameters detected for GB model OBC2\n",
      "  warnings.warn(\n"
     ]
    }
   ],
   "execution_count": 3
  },
  {
   "cell_type": "code",
   "metadata": {
    "pycharm": {
     "is_executing": true
    },
    "ExecuteTime": {
     "end_time": "2024-10-11T11:02:42.514705Z",
     "start_time": "2024-10-11T11:02:42.510481Z"
    }
   },
   "source": [
    "integrator = mm.LangevinIntegrator(300*unit.kelvin, 1/unit.picosecond, 0.001*unit.picoseconds)"
   ],
   "outputs": [],
   "execution_count": 4
  },
  {
   "cell_type": "markdown",
   "metadata": {},
   "source": [
    "Create an OpenMM simulation out of the topology, system and integrator"
   ]
  },
  {
   "cell_type": "code",
   "metadata": {
    "ExecuteTime": {
     "end_time": "2024-10-11T11:02:44.327171Z",
     "start_time": "2024-10-11T11:02:44.225632Z"
    }
   },
   "source": [
    "simulation = app.Simulation(prmtop.topology, system, integrator)"
   ],
   "outputs": [],
   "execution_count": 5
  },
  {
   "cell_type": "code",
   "metadata": {
    "ExecuteTime": {
     "end_time": "2024-10-11T11:02:45.946111Z",
     "start_time": "2024-10-11T11:02:45.929227Z"
    }
   },
   "source": [
    "simulation.context.setPositions(amber_coords.positions)\n",
    "if amber_coords.boxVectors is not None:\n",
    "    simulation.context.setPeriodicBoxVectors(*amber_coords.boxVectors)"
   ],
   "outputs": [],
   "execution_count": 6
  },
  {
   "cell_type": "markdown",
   "metadata": {},
   "source": [
    "Minimize the energy to create a stable conformation"
   ]
  },
  {
   "cell_type": "code",
   "metadata": {
    "ExecuteTime": {
     "end_time": "2024-10-11T11:02:48.726771Z",
     "start_time": "2024-10-11T11:02:47.571332Z"
    }
   },
   "source": [
    "simulation.minimizeEnergy()"
   ],
   "outputs": [],
   "execution_count": 7
  },
  {
   "cell_type": "markdown",
   "metadata": {},
   "source": [
    "Run a few steps to check it's stable"
   ]
  },
  {
   "cell_type": "code",
   "metadata": {
    "ExecuteTime": {
     "end_time": "2024-10-11T11:02:49.802180Z",
     "start_time": "2024-10-11T11:02:49.779330Z"
    }
   },
   "source": [
    "simulation.context.setVelocitiesToTemperature(300 * unit.kelvin)"
   ],
   "outputs": [],
   "execution_count": 8
  },
  {
   "cell_type": "code",
   "metadata": {
    "ExecuteTime": {
     "end_time": "2024-10-11T11:02:51.579581Z",
     "start_time": "2024-10-11T11:02:51.576491Z"
    }
   },
   "source": [
    "import sys"
   ],
   "outputs": [],
   "execution_count": 9
  },
  {
   "cell_type": "code",
   "metadata": {
    "ExecuteTime": {
     "end_time": "2024-10-11T11:02:58.583405Z",
     "start_time": "2024-10-11T11:02:52.972305Z"
    }
   },
   "source": [
    "simulation.reporters.append(app.StateDataReporter(sys.stdout, 100, step=True,\n",
    "        potentialEnergy=True, temperature=True))\n",
    "simulation.step(1000)"
   ],
   "outputs": [
    {
     "name": "stdout",
     "output_type": "stream",
     "text": [
      "#\"Step\",\"Potential Energy (kJ/mole)\",\"Temperature (K)\"\n",
      "100,-39543.773704749576,171.94629506417792\n",
      "200,-37456.68643973493,172.30788716141828\n",
      "300,-36960.350029212466,185.9325771671761\n",
      "400,-36279.01056693219,197.09489585675647\n",
      "500,-35987.88951895856,211.20127489471548\n",
      "600,-35227.428032142154,219.9709517508048\n",
      "700,-34626.85153983258,225.99942530207284\n",
      "800,-34018.469032508365,231.04540015999513\n",
      "900,-33447.22238944196,238.21879439965178\n",
      "1000,-33096.13106558942,244.96548097108987\n"
     ]
    }
   ],
   "execution_count": 10
  },
  {
   "cell_type": "markdown",
   "metadata": {},
   "source": [
    "Looks good! Now, let's set it up for use with NanoVer."
   ]
  },
  {
   "cell_type": "markdown",
   "metadata": {},
   "source": [
    "The following cell outputs the system as an OpenMM XML file + a PDB file with the topology. This let's you take what you've done here and use it straight in NanoVer elsewhere, perfect if you just want to run a simulation quickly: \n",
    "\n",
    "```bash \n",
    "nanover-omm-ase neuraminidase_nanover.xml\n",
    "```"
   ]
  },
  {
   "cell_type": "code",
   "metadata": {
    "ExecuteTime": {
     "end_time": "2024-10-11T11:03:04.176799Z",
     "start_time": "2024-10-11T11:03:01.073873Z"
    }
   },
   "source": [
    "from nanover.openmm.serializer import serialize_simulation\n",
    "\n",
    "with open('neuraminidase_nanover.xml','w') as f:\n",
    "    f.write(serialize_simulation(simulation))"
   ],
   "outputs": [],
   "execution_count": 11
  },
  {
   "cell_type": "markdown",
   "metadata": {},
   "source": [
    "In the following section, we'll set up the simulation by hand, essentially replicating what `nanover-omm-ase` does."
   ]
  },
  {
   "cell_type": "markdown",
   "metadata": {},
   "source": [
    "## Setting up an OpenMM simulation with ASE and NanoVer"
   ]
  },
  {
   "cell_type": "markdown",
   "metadata": {},
   "source": [
    "Now that we've got an OpenMM simulation, let's pair it with ASE so we can do interactive molecular dynamics with NanoVer."
   ]
  },
  {
   "cell_type": "markdown",
   "metadata": {},
   "source": [
    "**Note**: Here we use OpenMM to calculate the forces and ASE as the integrator. The `narupa-openmm` package lets you use OpenMM for the integrator as well. See the `nanover-omm-server` command."
   ]
  },
  {
   "cell_type": "markdown",
   "metadata": {},
   "source": [
    "### Creating the ASE System"
   ]
  },
  {
   "cell_type": "markdown",
   "metadata": {},
   "source": [
    "We use the OpenMMCalculator to take our simulation and produce an ASE Atoms object"
   ]
  },
  {
   "cell_type": "code",
   "metadata": {
    "ExecuteTime": {
     "end_time": "2024-10-11T11:03:08.198123Z",
     "start_time": "2024-10-11T11:03:07.931047Z"
    }
   },
   "source": [
    "from nanover.ase.openmm import OpenMMCalculator"
   ],
   "outputs": [],
   "execution_count": 12
  },
  {
   "cell_type": "code",
   "metadata": {
    "ExecuteTime": {
     "end_time": "2024-10-11T11:03:10.021005Z",
     "start_time": "2024-10-11T11:03:10.017521Z"
    }
   },
   "source": [
    "calculator = OpenMMCalculator(simulation)"
   ],
   "outputs": [],
   "execution_count": 13
  },
  {
   "cell_type": "code",
   "metadata": {
    "ExecuteTime": {
     "end_time": "2024-10-11T11:03:11.841719Z",
     "start_time": "2024-10-11T11:03:11.574654Z"
    }
   },
   "source": [
    "atoms = calculator.generate_atoms()\n",
    "atoms.set_calculator(calculator)\n",
    "len(atoms)"
   ],
   "outputs": [
    {
     "name": "stderr",
     "output_type": "stream",
     "text": [
      "C:\\Users\\ragzo\\AppData\\Local\\Temp\\ipykernel_10760\\2943926735.py:2: DeprecationWarning: Please use atoms.calc = calc\n",
      "  atoms.set_calculator(calculator)\n"
     ]
    },
    {
     "data": {
      "text/plain": [
       "5880"
      ]
     },
     "execution_count": 14,
     "metadata": {},
     "output_type": "execute_result"
    }
   ],
   "execution_count": 14
  },
  {
   "cell_type": "markdown",
   "metadata": {},
   "source": [
    "Now we've got an ASE Atoms object, and a calculator, we can set up NanoVer with ASE as [usual](./ase_basic_example.ipynb). \n",
    "The only difference here is that we swap out the default way of sending frames with a specially made one, `openmm_ase_frame_adaptor`, for OpenMM that knows about OpenMM topology"
   ]
  },
  {
   "cell_type": "code",
   "metadata": {
    "ExecuteTime": {
     "end_time": "2024-10-11T11:03:13.895040Z",
     "start_time": "2024-10-11T11:03:13.889625Z"
    }
   },
   "source": [
    "from ase.md import Langevin\n",
    "import ase.units as ase_units\n",
    "dynamics = Langevin(atoms, timestep=1.0 * ase_units.fs, temperature_K=300 * ase_units.kB, friction=1.0e-03)"
   ],
   "outputs": [],
   "execution_count": 15
  },
  {
   "cell_type": "code",
   "metadata": {
    "ExecuteTime": {
     "end_time": "2024-10-11T11:03:19.899207Z",
     "start_time": "2024-10-11T11:03:19.894562Z"
    }
   },
   "source": [
    "from nanover.ase.openmm.frame_adaptor import openmm_ase_atoms_to_frame_data\n",
    "from nanover.omni import OmniRunner\n",
    "from nanover.omni.ase import ASESimulation"
   ],
   "outputs": [],
   "execution_count": 17
  },
  {
   "cell_type": "code",
   "metadata": {
    "ExecuteTime": {
     "end_time": "2024-10-11T11:03:21.800989Z",
     "start_time": "2024-10-11T11:03:21.762441Z"
    }
   },
   "source": [
    "omni_sim = ASESimulation.from_ase_dynamics(\n",
    "    dynamics, \n",
    "    ase_atoms_to_frame_data=openmm_ase_atoms_to_frame_data,\n",
    ")\n",
    "omni = OmniRunner.with_basic_server(omni_sim)"
   ],
   "outputs": [],
   "execution_count": 18
  },
  {
   "cell_type": "markdown",
   "metadata": {},
   "source": [
    "As always, let's run a few steps to make sure everything looks good"
   ]
  },
  {
   "cell_type": "code",
   "metadata": {
    "ExecuteTime": {
     "end_time": "2024-10-11T11:03:25.543985Z",
     "start_time": "2024-10-11T11:03:24.067230Z"
    }
   },
   "source": [
    "omni_sim.dynamics.run(100)\n",
    "omni_sim.atoms.get_potential_energy()"
   ],
   "outputs": [
    {
     "data": {
      "text/plain": [
       "-432.65624999030933"
      ]
     },
     "execution_count": 19,
     "metadata": {},
     "output_type": "execute_result"
    }
   ],
   "execution_count": 19
  },
  {
   "cell_type": "markdown",
   "metadata": {},
   "source": [
    "All good! Let's leave it running in the background"
   ]
  },
  {
   "cell_type": "code",
   "metadata": {
    "ExecuteTime": {
     "end_time": "2024-10-11T11:03:27.561636Z",
     "start_time": "2024-10-11T11:03:27.550961Z"
    }
   },
   "source": [
    "omni.next()"
   ],
   "outputs": [],
   "execution_count": 20
  },
  {
   "cell_type": "markdown",
   "metadata": {},
   "source": [
    "Connect to it from VR and you'll see something like this:\n",
    "\n",
    "![NanoVer neuraminidase](./images/neuraminidase_ball_and_stick.png)"
   ]
  },
  {
   "cell_type": "markdown",
   "metadata": {},
   "source": [
    "## Let's make it pretty!"
   ]
  },
  {
   "cell_type": "markdown",
   "metadata": {},
   "source": [
    "Ball and stick is so 2001, let's make it look cool. We'll also make it so if you interact with the oseltamivir, it'll be interacted with as a group, which is more stable"
   ]
  },
  {
   "cell_type": "markdown",
   "metadata": {},
   "source": [
    "First, we connect a client so we can modify the shared state"
   ]
  },
  {
   "cell_type": "code",
   "metadata": {
    "ExecuteTime": {
     "end_time": "2024-10-11T11:03:44.647191Z",
     "start_time": "2024-10-11T11:03:44.611045Z"
    }
   },
   "source": [
    "from nanover.app import NanoverImdClient\n",
    "client = NanoverImdClient.connect_to_single_server(port=omni.app_server.port)\n",
    "client.subscribe_to_frames()\n",
    "client.wait_until_first_frame();"
   ],
   "outputs": [],
   "execution_count": 22
  },
  {
   "cell_type": "markdown",
   "metadata": {},
   "source": [
    "We define a couple of handy methods for playing with selections and colour gradients"
   ]
  },
  {
   "cell_type": "code",
   "metadata": {
    "ExecuteTime": {
     "end_time": "2024-10-11T11:03:46.675877Z",
     "start_time": "2024-10-11T11:03:46.488107Z"
    }
   },
   "source": [
    "import matplotlib.cm\n",
    "\n",
    "def get_matplotlib_gradient(name: str):\n",
    "    cmap = matplotlib.colormaps[name]\n",
    "    return list(list(cmap(x/7)) for x in range(0, 8, 1))"
   ],
   "outputs": [],
   "execution_count": 23
  },
  {
   "cell_type": "code",
   "metadata": {
    "ExecuteTime": {
     "end_time": "2024-10-11T11:03:48.580877Z",
     "start_time": "2024-10-11T11:03:48.086332Z"
    }
   },
   "source": [
    "from nanover.mdanalysis import frame_data_to_mdanalysis\n",
    "def generate_mdanalysis_selection(selection: str):\n",
    "    universe = frame_data_to_mdanalysis(client.first_frame)\n",
    "    idx_array = universe.select_atoms(selection).indices\n",
    "    return map(int, idx_array)"
   ],
   "outputs": [],
   "execution_count": 24
  },
  {
   "cell_type": "markdown",
   "metadata": {},
   "source": [
    "Hide the 'root' selection, it's getting in the way of our creativity "
   ]
  },
  {
   "cell_type": "code",
   "metadata": {
    "ExecuteTime": {
     "end_time": "2024-10-11T11:03:50.261018Z",
     "start_time": "2024-10-11T11:03:50.253941Z"
    }
   },
   "source": [
    "root_selection = client.root_selection\n",
    "with root_selection.modify():\n",
    "    root_selection.hide = True\n",
    "    root_selection.interaction_method = 'none'"
   ],
   "outputs": [],
   "execution_count": 25
  },
  {
   "cell_type": "markdown",
   "metadata": {},
   "source": [
    "Let's select the protein"
   ]
  },
  {
   "cell_type": "code",
   "metadata": {
    "ExecuteTime": {
     "end_time": "2024-10-11T11:03:53.226476Z",
     "start_time": "2024-10-11T11:03:53.219531Z"
    }
   },
   "source": [
    "protein = client.create_selection(\"Protein\", [])"
   ],
   "outputs": [],
   "execution_count": 26
  },
  {
   "cell_type": "code",
   "metadata": {
    "ExecuteTime": {
     "end_time": "2024-10-11T11:03:54.671539Z",
     "start_time": "2024-10-11T11:03:54.630624Z"
    }
   },
   "source": [
    "with protein.modify():\n",
    "    protein.set_particles(generate_mdanalysis_selection(\"protein and not type H\"))"
   ],
   "outputs": [],
   "execution_count": 27
  },
  {
   "cell_type": "markdown",
   "metadata": {},
   "source": [
    "We'll colour it and render with a spline, or ribbon, renderer.\n",
    "Some things you can try: \n",
    "* Change the render: `spline`, `geometric spline`. Or comment out the `sequence` line and try `liquorice`,`noodles`, `cycles`, `ball and stick`.\n",
    "* Change the color: set it to be one color, or try some different matplotlib [color maps](https://matplotlib.org/3.1.0/tutorials/colors/colormaps.html), e.g. `rainbow` or `magma`.\n",
    "* Change the scale."
   ]
  },
  {
   "cell_type": "code",
   "metadata": {
    "ExecuteTime": {
     "end_time": "2024-10-11T11:03:56.755224Z",
     "start_time": "2024-10-11T11:03:56.733137Z"
    }
   },
   "source": [
    "with protein.modify():\n",
    "    protein.renderer = {\n",
    "            'sequence': 'polypeptide',\n",
    "            'color': {\n",
    "                'type': 'residue index in entity',\n",
    "                'gradient': get_matplotlib_gradient('rainbow')\n",
    "            },\n",
    "            'render': 'geometric spline',\n",
    "            'scale': 0.2\n",
    "        }\n",
    "    protein.interaction_method = 'single'"
   ],
   "outputs": [],
   "execution_count": 28
  },
  {
   "cell_type": "markdown",
   "metadata": {},
   "source": [
    "Let's reintroduce the ligand, oseltamivir, and make it so we interact with it as a group "
   ]
  },
  {
   "cell_type": "code",
   "metadata": {
    "ExecuteTime": {
     "end_time": "2024-10-11T11:03:58.254043Z",
     "start_time": "2024-10-11T11:03:58.230434Z"
    }
   },
   "source": [
    "# Select ligand\n",
    "ligand = client.create_selection(\"Ligand\", [])\n",
    "with ligand.modify():\n",
    "    ligand.set_particles(generate_mdanalysis_selection(\"resname OSE\"))"
   ],
   "outputs": [],
   "execution_count": 29
  },
  {
   "cell_type": "code",
   "metadata": {
    "ExecuteTime": {
     "end_time": "2024-10-11T11:03:59.744295Z",
     "start_time": "2024-10-11T11:03:59.735321Z"
    }
   },
   "source": [
    "with ligand.modify():\n",
    "    ligand.renderer = {\n",
    "            'color': 'cpk',\n",
    "            'scale': 0.1,\n",
    "            'render': 'liquorice'\n",
    "        }\n",
    "    ligand.velocity_reset = True\n",
    "    ligand.interaction_method = 'group'"
   ],
   "outputs": [],
   "execution_count": 30
  },
  {
   "cell_type": "markdown",
   "metadata": {},
   "source": [
    "If you've done all that, you'll have something that looks like this:\n",
    "\n",
    "![Neuraminidase Geometric](./images/neuraminidase_geometric_spline.png)"
   ]
  },
  {
   "cell_type": "markdown",
   "metadata": {},
   "source": [
    "# Tidying Up After Yourself"
   ]
  },
  {
   "cell_type": "code",
   "metadata": {
    "ExecuteTime": {
     "end_time": "2024-10-11T11:04:14.060954Z",
     "start_time": "2024-10-11T11:04:14.056779Z"
    }
   },
   "source": [
    "client.close()\n",
    "omni.close()"
   ],
   "outputs": [],
   "execution_count": 33
  },
  {
   "cell_type": "markdown",
   "metadata": {},
   "source": "# Next Steps"
  },
  {
   "cell_type": "markdown",
   "metadata": {},
   "source": "* Set up an OpenMM simulation of [graphene](./ase_openmm_graphene.ipynb) with restraints and add UI and custom commands in the notebook "
  },
  {
   "cell_type": "code",
   "execution_count": null,
   "metadata": {},
   "outputs": [],
   "source": []
  }
 ],
 "metadata": {
  "extensions": {
   "jupyter_dashboards": {
    "activeView": "grid_default",
    "version": 1,
    "views": {
     "grid_default": {
      "cellMargin": 10,
      "defaultCellHeight": 20,
      "maxColumns": 12,
      "name": "grid",
      "type": "grid"
     },
     "report_default": {
      "name": "report",
      "type": "report"
     }
    }
   }
  },
  "hide_input": false,
  "kernelspec": {
   "display_name": "Python 3 (ipykernel)",
   "language": "python",
   "name": "python3"
  },
  "language_info": {
   "codemirror_mode": {
    "name": "ipython",
    "version": 3
   },
   "file_extension": ".py",
   "mimetype": "text/x-python",
   "name": "python",
   "nbconvert_exporter": "python",
   "pygments_lexer": "ipython3",
   "version": "3.12.0"
  },
  "pycharm": {
   "stem_cell": {
    "cell_type": "raw",
    "metadata": {
     "collapsed": false
    },
    "source": []
   }
  },
  "toc": {
   "nav_menu": {},
   "number_sections": true,
   "sideBar": true,
   "skip_h1_title": false,
   "toc_cell": false,
   "toc_position": {},
   "toc_section_display": "block",
   "toc_window_display": false
  }
 },
 "nbformat": 4,
 "nbformat_minor": 4
}
