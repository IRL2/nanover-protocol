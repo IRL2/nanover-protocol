{
 "cells": [
  {
   "cell_type": "markdown",
   "metadata": {},
   "source": "# Setting up an OpenMM iMD simulation with ASE and NanoVer"
  },
  {
   "cell_type": "markdown",
   "metadata": {},
   "source": [
    "This notebook demonstrates how to set up an OpenMM simulation for use with NanoVer from scratch.\n",
    "We take AMBER files for neuraminidase with oseltamivir (AKA tamiflu) bound, create an OpenMM system and \n",
    "set it up with NanoVer, using ASE as the integrator for the interactive molecular dynamics (iMD) simulation. "
   ]
  },
  {
   "cell_type": "markdown",
   "metadata": {
    "extensions": {
     "jupyter_dashboards": {
      "version": 1,
      "views": {
       "grid_default": {
        "col": 0,
        "height": 4,
        "hidden": true,
        "row": 0,
        "width": 4
       },
       "report_default": {
        "hidden": false
       }
      }
     }
    }
   },
   "source": [
    "## Set up the OpenMM Simulation"
   ]
  },
  {
   "cell_type": "markdown",
   "metadata": {},
   "source": "We start by creating an OpenMM simulation for the neuraminidase-oseltamivir system using the relevant pre-prepared AMBER files. OpenMM also supports Gromacs and CHARMM files, and can be customized for many other uses. "
  },
  {
   "cell_type": "code",
   "metadata": {
    "ExecuteTime": {
     "end_time": "2024-10-23T09:54:43.257928Z",
     "start_time": "2024-10-23T09:54:43.143406Z"
    }
   },
   "source": [
    "import openmm as mm\n",
    "import openmm.unit as unit \n",
    "import openmm.app as app"
   ],
   "outputs": [],
   "execution_count": 1
  },
  {
   "cell_type": "code",
   "metadata": {
    "ExecuteTime": {
     "end_time": "2024-10-23T09:54:43.421869Z",
     "start_time": "2024-10-23T09:54:43.270217Z"
    }
   },
   "source": [
    "prmtop = app.AmberPrmtopFile(\"openmm_files/3TI6_ose_wt.top\")\n",
    "amber_coords = app.AmberInpcrdFile(\"openmm_files/3TI6_ose_wt.rst\")"
   ],
   "outputs": [],
   "execution_count": 2
  },
  {
   "cell_type": "markdown",
   "metadata": {
    "ExecuteTime": {
     "end_time": "2019-06-06T16:04:25.397984Z",
     "start_time": "2019-06-06T16:04:25.395015Z"
    },
    "extensions": {
     "jupyter_dashboards": {
      "version": 1,
      "views": {
       "grid_default": {
        "hidden": true
       },
       "report_default": {
        "hidden": true
       }
      }
     }
    },
    "pycharm": {
     "is_executing": false
    }
   },
   "source": "Because we are going to use ASE to integrate the equations of motion, we keep the simulation simple by using implicit solvent and no constraints."
  },
  {
   "cell_type": "code",
   "metadata": {
    "ExecuteTime": {
     "end_time": "2024-10-23T09:54:44.004724Z",
     "start_time": "2024-10-23T09:54:43.894049Z"
    }
   },
   "source": [
    "system = prmtop.createSystem(nonbondedMethod=app.CutoffPeriodic, \n",
    "                             nonbondedCutoff=2*unit.nanometer, \n",
    "                             implicitSolvent=app.OBC2,\n",
    "                             constraints=None)"
   ],
   "outputs": [
    {
     "name": "stderr",
     "output_type": "stream",
     "text": [
      "/opt/homebrew/Caskroom/miniforge/base/envs/nanover-dev/lib/python3.12/site-packages/openmm/app/internal/amber_file_parser.py:1168: UserWarning: Non-optimal GB parameters detected for GB model OBC2\n",
      "  warnings.warn(\n"
     ]
    }
   ],
   "execution_count": 3
  },
  {
   "metadata": {},
   "cell_type": "markdown",
   "source": "To construct an input file for an OpenMM simulation in NanoVer, we need to define an integrator. We will also use this integrator to equilibrate the simulation before saving it to an input file. However, *these parameters are not currently passed to ASE* (as the set of integrators offered by OpenMM and ASE differ), so we will need to define the ASE integrator explicitly later on."
  },
  {
   "cell_type": "code",
   "metadata": {
    "pycharm": {
     "is_executing": true
    },
    "ExecuteTime": {
     "end_time": "2024-10-23T09:54:48.453962Z",
     "start_time": "2024-10-23T09:54:48.451349Z"
    }
   },
   "source": "integrator = mm.LangevinIntegrator(300*unit.kelvin, 1/unit.picosecond, 0.001*unit.picoseconds)",
   "outputs": [],
   "execution_count": 4
  },
  {
   "cell_type": "markdown",
   "metadata": {},
   "source": "Now we create an OpenMM simulation from the topology, system and integrator that we have defined, and define the positions using the AMBER input coordinate file."
  },
  {
   "cell_type": "code",
   "metadata": {
    "ExecuteTime": {
     "end_time": "2024-10-23T09:54:49.567317Z",
     "start_time": "2024-10-23T09:54:49.465378Z"
    }
   },
   "source": [
    "simulation = app.Simulation(prmtop.topology, system, integrator)"
   ],
   "outputs": [],
   "execution_count": 5
  },
  {
   "cell_type": "code",
   "metadata": {
    "ExecuteTime": {
     "end_time": "2024-10-23T09:54:50.784486Z",
     "start_time": "2024-10-23T09:54:50.766631Z"
    }
   },
   "source": [
    "simulation.context.setPositions(amber_coords.positions)\n",
    "if amber_coords.boxVectors is not None:\n",
    "    simulation.context.setPeriodicBoxVectors(*amber_coords.boxVectors)"
   ],
   "outputs": [],
   "execution_count": 6
  },
  {
   "cell_type": "markdown",
   "metadata": {},
   "source": "Let's minimize the energy to create a stable conformation that can be used to run dynamics:"
  },
  {
   "cell_type": "code",
   "metadata": {
    "ExecuteTime": {
     "end_time": "2024-10-23T09:54:53.233977Z",
     "start_time": "2024-10-23T09:54:52.510258Z"
    }
   },
   "source": [
    "simulation.minimizeEnergy()"
   ],
   "outputs": [],
   "execution_count": 7
  },
  {
   "cell_type": "markdown",
   "metadata": {},
   "source": "Now let's run a few steps to check it's stable, printing the potential energy and temperature every 500 steps."
  },
  {
   "cell_type": "code",
   "metadata": {
    "ExecuteTime": {
     "end_time": "2024-10-23T09:54:53.662204Z",
     "start_time": "2024-10-23T09:54:53.650239Z"
    }
   },
   "source": [
    "simulation.context.setVelocitiesToTemperature(300 * unit.kelvin)"
   ],
   "outputs": [],
   "execution_count": 8
  },
  {
   "cell_type": "code",
   "metadata": {
    "ExecuteTime": {
     "end_time": "2024-10-23T09:54:55.510355Z",
     "start_time": "2024-10-23T09:54:55.508141Z"
    }
   },
   "source": [
    "import sys"
   ],
   "outputs": [],
   "execution_count": 9
  },
  {
   "cell_type": "code",
   "metadata": {
    "ExecuteTime": {
     "end_time": "2024-10-23T09:55:03.139261Z",
     "start_time": "2024-10-23T09:54:56.690113Z"
    }
   },
   "source": [
    "simulation.reporters.append(app.StateDataReporter(sys.stdout, 500, step=True,\n",
    "        potentialEnergy=True, temperature=True))\n",
    "simulation.step(5000)"
   ],
   "outputs": [
    {
     "name": "stdout",
     "output_type": "stream",
     "text": [
      "#\"Step\",\"Potential Energy (kJ/mole)\",\"Temperature (K)\"\n",
      "500,-35892.80851004743,208.75830794933293\n",
      "1000,-33098.39441702985,243.0947096638716\n",
      "1500,-31567.636558753482,265.3980710461487\n",
      "2000,-30357.08402274274,277.1831587655949\n",
      "2500,-29505.31430838727,283.0251879352551\n",
      "3000,-29421.981117469302,292.1731576697053\n",
      "3500,-29400.87766287946,295.71076744311154\n",
      "4000,-28972.899574500552,292.206369629022\n",
      "4500,-28670.388008338443,297.33164775276924\n",
      "5000,-28895.867256385318,299.738964317865\n"
     ]
    }
   ],
   "execution_count": 10
  },
  {
   "cell_type": "markdown",
   "metadata": {},
   "source": [
    "Looks good! Now, let's set it up for use with NanoVer."
   ]
  },
  {
   "cell_type": "markdown",
   "metadata": {},
   "source": "The following cell outputs the system as an OpenMM XML file + a PDB file with the topology. This let's you save what you've done here to an input file, so you can load the simulation immediately for use in NanoVer without having to reconstruct the simulation."
  },
  {
   "cell_type": "code",
   "metadata": {
    "ExecuteTime": {
     "end_time": "2024-10-23T09:55:04.710058Z",
     "start_time": "2024-10-23T09:55:03.142909Z"
    }
   },
   "source": [
    "from nanover.openmm.serializer import serialize_simulation\n",
    "\n",
    "with open('neuraminidase_nanover.xml','w') as f:\n",
    "    f.write(serialize_simulation(simulation))"
   ],
   "outputs": [],
   "execution_count": 11
  },
  {
   "cell_type": "markdown",
   "metadata": {},
   "source": [
    "In the following section, we'll set up the simulation by hand, essentially replicating what `nanover-omm-ase` does."
   ]
  },
  {
   "cell_type": "markdown",
   "metadata": {},
   "source": [
    "## Setting up an OpenMM simulation with ASE and NanoVer"
   ]
  },
  {
   "cell_type": "markdown",
   "metadata": {},
   "source": [
    "Now that we've got an OpenMM simulation, let's pair it with ASE so we can do interactive molecular dynamics with NanoVer. \n",
    "\n",
    "This setup uses both ASE and OpenMM to perform the iMD simulation:\n",
    "* OpenMM calculates the forces acting on the system (i.e. the \"calculator\" for ASE defined in NanoVer)\n",
    "* ASE performs the integration of the equations of motion"
   ]
  },
  {
   "cell_type": "markdown",
   "metadata": {},
   "source": "**Note**: The `nanover-openmm` package lets you use the inbuilt integrators in OpenMM to perform iMD simulations. These types of are defined using the `OpenMMSimulation` class: for more information on this approach, see the tutorials in the [OpenMM directory](../openmm)."
  },
  {
   "cell_type": "markdown",
   "metadata": {},
   "source": [
    "### Creating the ASE System"
   ]
  },
  {
   "cell_type": "markdown",
   "metadata": {},
   "source": "We use the `OpenMMCalculator` class to take our simulation and produce an ASE Atoms object. We then assign the `OpenMMCalculator` as the calculator for the simulation—this tells ASE that we're using OpenMM to calculate the forces that ASE will use to integrate the equations of motion."
  },
  {
   "cell_type": "code",
   "metadata": {
    "ExecuteTime": {
     "end_time": "2024-10-23T09:55:08.950037Z",
     "start_time": "2024-10-23T09:55:08.816053Z"
    }
   },
   "source": "from nanover.ase.omm_calculator import OpenMMCalculator",
   "outputs": [],
   "execution_count": 12
  },
  {
   "cell_type": "code",
   "metadata": {
    "ExecuteTime": {
     "end_time": "2024-10-23T09:55:09.801767Z",
     "start_time": "2024-10-23T09:55:09.799305Z"
    }
   },
   "source": [
    "# Define the calculator using the OpenMM simulation defined above\n",
    "calculator = OpenMMCalculator(simulation)"
   ],
   "outputs": [],
   "execution_count": 13
  },
  {
   "cell_type": "code",
   "metadata": {
    "ExecuteTime": {
     "end_time": "2024-10-23T09:55:11.040545Z",
     "start_time": "2024-10-23T09:55:10.856862Z"
    }
   },
   "source": [
    "# Define the atoms object and set it's calculator as the OpenMMCalculator\n",
    "atoms = calculator.generate_atoms()\n",
    "atoms.calc = calculator\n",
    "len(atoms)"
   ],
   "outputs": [
    {
     "data": {
      "text/plain": [
       "5880"
      ]
     },
     "execution_count": 14,
     "metadata": {},
     "output_type": "execute_result"
    }
   ],
   "execution_count": 14
  },
  {
   "cell_type": "markdown",
   "metadata": {},
   "source": [
    "Now we've got an ASE Atoms object, and a calculator, we can set up NanoVer with ASE as usual. \n",
    "The key difference between this setup and the [basic ASE tutorial](./ase_basic_example.ipynb) is that we swap out the default way of sending frames with a specially made one, `calculator.make_frame_adaptor()`, that knows about OpenMM topology."
   ]
  },
  {
   "cell_type": "code",
   "metadata": {
    "ExecuteTime": {
     "end_time": "2024-10-23T09:55:13.613918Z",
     "start_time": "2024-10-23T09:55:13.610330Z"
    }
   },
   "source": [
    "from ase.md import Langevin\n",
    "import ase.units as ase_units\n",
    "dynamics = Langevin(atoms, timestep=1.0 * ase_units.fs, temperature_K=300, friction=1.0e-03)"
   ],
   "outputs": [],
   "execution_count": 15
  },
  {
   "cell_type": "code",
   "metadata": {
    "ExecuteTime": {
     "end_time": "2024-10-23T09:55:14.767923Z",
     "start_time": "2024-10-23T09:55:14.761387Z"
    }
   },
   "source": [
    "from nanover.omni import OmniRunner\n",
    "from nanover.omni.ase import ASESimulation"
   ],
   "outputs": [],
   "execution_count": 16
  },
  {
   "cell_type": "code",
   "metadata": {
    "ExecuteTime": {
     "end_time": "2024-10-23T09:55:15.848633Z",
     "start_time": "2024-10-23T09:55:15.838211Z"
    }
   },
   "source": [
    "ase_sim = ASESimulation.from_ase_dynamics(\n",
    "    dynamics, \n",
    "    ase_atoms_to_frame_data=calculator.make_frame_adaptor(),\n",
    ")\n",
    "imd_runner = OmniRunner.with_basic_server(ase_sim)"
   ],
   "outputs": [],
   "execution_count": 17
  },
  {
   "cell_type": "markdown",
   "metadata": {},
   "source": [
    "As always, let's run a few steps to make sure everything looks good"
   ]
  },
  {
   "cell_type": "code",
   "metadata": {
    "ExecuteTime": {
     "end_time": "2024-10-23T09:55:24.067787Z",
     "start_time": "2024-10-23T09:55:23.172441Z"
    }
   },
   "source": [
    "ase_sim.dynamics.run(100)\n",
    "ase_sim.atoms.get_potential_energy()"
   ],
   "outputs": [
    {
     "data": {
      "text/plain": [
       "-410.4492109598051"
      ]
     },
     "execution_count": 18,
     "metadata": {},
     "output_type": "execute_result"
    }
   ],
   "execution_count": 18
  },
  {
   "cell_type": "markdown",
   "metadata": {},
   "source": "All good! Let's leave the simulation running in the background"
  },
  {
   "cell_type": "code",
   "metadata": {
    "ExecuteTime": {
     "end_time": "2024-10-23T09:57:48.531051Z",
     "start_time": "2024-10-23T09:57:48.526457Z"
    }
   },
   "source": "imd_runner.next()",
   "outputs": [],
   "execution_count": 19
  },
  {
   "cell_type": "markdown",
   "metadata": {},
   "source": [
    "Connect to it from VR and you'll see something like this:\n",
    "\n",
    "![NanoVer neuraminidase](./images/neuraminidase_ball_and_stick.png)"
   ]
  },
  {
   "cell_type": "markdown",
   "metadata": {},
   "source": [
    "## Let's make it pretty!"
   ]
  },
  {
   "cell_type": "markdown",
   "metadata": {},
   "source": [
    "Ball and stick is so 2001, let's make it look cool. We'll also make it so if you interact with the oseltamivir, it'll be interacted with as a group, which is more stable"
   ]
  },
  {
   "cell_type": "markdown",
   "metadata": {},
   "source": "First, we connect a client so we can modify the shared state, which contains the information defining how NanoVer should render the system for VR clients connecting to the server."
  },
  {
   "cell_type": "code",
   "metadata": {
    "ExecuteTime": {
     "end_time": "2024-10-23T10:00:49.705665Z",
     "start_time": "2024-10-23T10:00:49.674548Z"
    }
   },
   "source": [
    "from nanover.app import NanoverImdClient\n",
    "client = NanoverImdClient.connect_to_single_server(port=imd_runner.app_server.port)\n",
    "client.subscribe_to_frames()\n",
    "client.wait_until_first_frame();"
   ],
   "outputs": [],
   "execution_count": 20
  },
  {
   "cell_type": "markdown",
   "metadata": {},
   "source": [
    "We define a couple of handy methods for playing with selections and colour gradients"
   ]
  },
  {
   "cell_type": "code",
   "metadata": {
    "ExecuteTime": {
     "end_time": "2024-10-23T10:01:14.987408Z",
     "start_time": "2024-10-23T10:01:14.891855Z"
    }
   },
   "source": [
    "import matplotlib.cm\n",
    "\n",
    "def get_matplotlib_gradient(name: str):\n",
    "    cmap = matplotlib.colormaps[name]\n",
    "    return list(list(cmap(x/7)) for x in range(0, 8, 1))"
   ],
   "outputs": [],
   "execution_count": 21
  },
  {
   "cell_type": "code",
   "metadata": {
    "ExecuteTime": {
     "end_time": "2024-10-23T10:01:20.261416Z",
     "start_time": "2024-10-23T10:01:19.930996Z"
    }
   },
   "source": [
    "from nanover.mdanalysis import frame_data_to_mdanalysis\n",
    "def generate_mdanalysis_selection(selection: str):\n",
    "    universe = frame_data_to_mdanalysis(client.first_frame)\n",
    "    idx_array = universe.select_atoms(selection).indices\n",
    "    return map(int, idx_array)"
   ],
   "outputs": [],
   "execution_count": 22
  },
  {
   "cell_type": "markdown",
   "metadata": {},
   "source": [
    "Hide the 'root' selection, it's getting in the way of our creativity "
   ]
  },
  {
   "cell_type": "code",
   "metadata": {
    "ExecuteTime": {
     "end_time": "2024-10-23T10:01:27.608296Z",
     "start_time": "2024-10-23T10:01:27.604562Z"
    }
   },
   "source": [
    "root_selection = client.root_selection\n",
    "with root_selection.modify():\n",
    "    root_selection.hide = True\n",
    "    root_selection.interaction_method = 'none'"
   ],
   "outputs": [],
   "execution_count": 23
  },
  {
   "cell_type": "markdown",
   "metadata": {},
   "source": [
    "Let's select the protein"
   ]
  },
  {
   "cell_type": "code",
   "metadata": {
    "ExecuteTime": {
     "end_time": "2024-10-23T10:01:30.541878Z",
     "start_time": "2024-10-23T10:01:30.538738Z"
    }
   },
   "source": [
    "protein = client.create_selection(\"Protein\", [])"
   ],
   "outputs": [],
   "execution_count": 24
  },
  {
   "cell_type": "code",
   "metadata": {
    "ExecuteTime": {
     "end_time": "2024-10-23T10:01:34.598043Z",
     "start_time": "2024-10-23T10:01:34.576039Z"
    }
   },
   "source": [
    "with protein.modify():\n",
    "    protein.set_particles(generate_mdanalysis_selection(\"protein and not type H\"))"
   ],
   "outputs": [],
   "execution_count": 25
  },
  {
   "cell_type": "markdown",
   "metadata": {},
   "source": [
    "We'll colour it and render with a spline, or ribbon, renderer.\n",
    "Some things you can try: \n",
    "* Change the render: `spline`, `geometric spline`. Or comment out the `sequence` line and try `liquorice`,`noodles`, `cycles`, `ball and stick`.\n",
    "* Change the color: set it to be one color, or try some different matplotlib [color maps](https://matplotlib.org/3.1.0/tutorials/colors/colormaps.html), e.g. `rainbow` or `magma`.\n",
    "* Change the scale."
   ]
  },
  {
   "cell_type": "code",
   "metadata": {
    "ExecuteTime": {
     "end_time": "2024-10-23T10:01:44.614764Z",
     "start_time": "2024-10-23T10:01:44.601961Z"
    }
   },
   "source": [
    "with protein.modify():\n",
    "    protein.renderer = {\n",
    "            'sequence': 'polypeptide',\n",
    "            'color': {\n",
    "                'type': 'residue index in entity',\n",
    "                'gradient': get_matplotlib_gradient('rainbow')\n",
    "            },\n",
    "            'render': 'geometric spline',\n",
    "            'scale': 0.2\n",
    "        }\n",
    "    protein.interaction_method = 'single'"
   ],
   "outputs": [],
   "execution_count": 26
  },
  {
   "cell_type": "markdown",
   "metadata": {},
   "source": [
    "Let's reintroduce the ligand, oseltamivir, and make it so we interact with it as a group "
   ]
  },
  {
   "cell_type": "code",
   "metadata": {
    "ExecuteTime": {
     "end_time": "2024-10-23T10:01:47.248492Z",
     "start_time": "2024-10-23T10:01:47.236891Z"
    }
   },
   "source": [
    "# Select ligand\n",
    "ligand = client.create_selection(\"Ligand\", [])\n",
    "with ligand.modify():\n",
    "    ligand.set_particles(generate_mdanalysis_selection(\"resname OSE\"))"
   ],
   "outputs": [],
   "execution_count": 27
  },
  {
   "cell_type": "code",
   "metadata": {
    "ExecuteTime": {
     "end_time": "2024-10-23T10:01:48.826311Z",
     "start_time": "2024-10-23T10:01:48.822512Z"
    }
   },
   "source": [
    "with ligand.modify():\n",
    "    ligand.renderer = {\n",
    "            'color': 'cpk',\n",
    "            'scale': 0.1,\n",
    "            'render': 'liquorice'\n",
    "        }\n",
    "    ligand.velocity_reset = True\n",
    "    ligand.interaction_method = 'group'"
   ],
   "outputs": [],
   "execution_count": 28
  },
  {
   "cell_type": "markdown",
   "metadata": {},
   "source": [
    "If you've done all that, you'll have something that looks like this:\n",
    "\n",
    "![Neuraminidase Geometric](./images/neuraminidase_geometric_spline.png)"
   ]
  },
  {
   "cell_type": "markdown",
   "metadata": {},
   "source": [
    "# Tidying Up After Yourself"
   ]
  },
  {
   "metadata": {},
   "cell_type": "markdown",
   "source": "Once you are finished with the iMD simulation, it's good practice to close both the server and the clients that connect to it. You can close the python client and server by calling `.close()` on them:"
  },
  {
   "cell_type": "code",
   "metadata": {
    "ExecuteTime": {
     "end_time": "2024-10-23T10:01:53.963071Z",
     "start_time": "2024-10-23T10:01:53.523912Z"
    }
   },
   "source": [
    "client.close()\n",
    "imd_runner.close()"
   ],
   "outputs": [],
   "execution_count": 29
  },
  {
   "cell_type": "markdown",
   "metadata": {},
   "source": [
    "# Next Steps"
   ]
  },
  {
   "cell_type": "markdown",
   "metadata": {},
   "source": [
    "In this tutorial, we demonstrated how to set up an OpenMM simulation, how to use that file to set up an iMD simulation using ASE (with an OpenMM calculator) to integrate the equations of motion, and how to alter the representation of the system for VR clients. From here, we recommend checking out the following tutorials:\n",
    "* Set up an ASE/OpenMM simulation of [graphene](./ase_openmm_graphene.ipynb) with restraints and add UI and custom commands in the notebook.\n",
    "* Learn how to perform iMD simulations using OpenMM with NanoVer by checking out the [NanoVer OpenMM tutorials](../openmm)."
   ]
  },
  {
   "cell_type": "code",
   "execution_count": null,
   "metadata": {},
   "outputs": [],
   "source": []
  }
 ],
 "metadata": {
  "extensions": {
   "jupyter_dashboards": {
    "activeView": "grid_default",
    "version": 1,
    "views": {
     "grid_default": {
      "cellMargin": 10,
      "defaultCellHeight": 20,
      "maxColumns": 12,
      "name": "grid",
      "type": "grid"
     },
     "report_default": {
      "name": "report",
      "type": "report"
     }
    }
   }
  },
  "hide_input": false,
  "kernelspec": {
   "display_name": "Python 3 (ipykernel)",
   "language": "python",
   "name": "python3"
  },
  "language_info": {
   "codemirror_mode": {
    "name": "ipython",
    "version": 3
   },
   "file_extension": ".py",
   "mimetype": "text/x-python",
   "name": "python",
   "nbconvert_exporter": "python",
   "pygments_lexer": "ipython3",
   "version": "3.12.0"
  },
  "pycharm": {
   "stem_cell": {
    "cell_type": "raw",
    "metadata": {
     "collapsed": false
    },
    "source": []
   }
  },
  "toc": {
   "nav_menu": {},
   "number_sections": true,
   "sideBar": true,
   "skip_h1_title": false,
   "toc_cell": false,
   "toc_position": {},
   "toc_section_display": "block",
   "toc_window_display": false
  }
 },
 "nbformat": 4,
 "nbformat_minor": 4
}
