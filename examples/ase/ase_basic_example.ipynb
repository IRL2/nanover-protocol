{
 "cells": [
  {
   "cell_type": "markdown",
   "metadata": {},
   "source": [
    "# NanoVer ASE Client / Server Example"
   ]
  },
  {
   "cell_type": "markdown",
   "metadata": {},
   "source": [
    "This notebook walks through setting up a simulation with ASE and combining it with NanoVer to make an interactive molecular dynamics simulation. \n",
    "We then connect to the simulation from a client, so we can look at the data being produced and visualize it."
   ]
  },
  {
   "cell_type": "markdown",
   "metadata": {},
   "source": [
    "## Set up an ASE simulation"
   ]
  },
  {
   "cell_type": "markdown",
   "metadata": {},
   "source": [
    "First, we set up an ASE simulation. We're going to do a simple lattice of copper particles under an EMT potential, but you can use [any supported calculator](https://wiki.fysik.dtu.dk/ase/ase/calculators/calculators.html#module-ase.calculators)!"
   ]
  },
  {
   "cell_type": "code",
   "execution_count": 1,
   "metadata": {
    "pycharm": {
     "is_executing": false
    }
   },
   "outputs": [],
   "source": [
    "from ase import units\n",
    "from ase.calculators.emt import EMT\n",
    "from ase.lattice.cubic import FaceCenteredCubic\n",
    "from ase.md import Langevin\n",
    "from ase.md.velocitydistribution import MaxwellBoltzmannDistribution"
   ]
  },
  {
   "cell_type": "code",
   "execution_count": 2,
   "metadata": {
    "pycharm": {
     "is_executing": false
    }
   },
   "outputs": [],
   "source": [
    "size = 2\n",
    "# Set up a crystal\n",
    "atoms = FaceCenteredCubic(directions=[[1, 0, 0], [0, 1, 0], [0, 0, 1]],\n",
    "                          symbol=\"Cu\",\n",
    "                          size=(size, size, size),\n",
    "                          pbc=True)\n",
    "# Describe the interatomic interactions with Effective Medium Theory\n",
    "atoms.set_calculator(EMT())\n",
    "# Set the atomic momenta to 300 Kelvin. \n",
    "MaxwellBoltzmannDistribution(atoms, temperature_K=300 * units.kB)"
   ]
  },
  {
   "cell_type": "markdown",
   "metadata": {},
   "source": [
    "Set up our molecular dynamics simulation, we'll run Langevin dynamics at room temperature"
   ]
  },
  {
   "cell_type": "code",
   "execution_count": 3,
   "metadata": {
    "pycharm": {
     "is_executing": false
    }
   },
   "outputs": [],
   "source": [
    "dyn = Langevin(atoms, timestep=1 * units.fs, temperature_K=300 * units.kB, friction=0.5)"
   ]
  },
  {
   "cell_type": "markdown",
   "metadata": {},
   "source": [
    "Let's check it's working:"
   ]
  },
  {
   "cell_type": "code",
   "execution_count": 4,
   "metadata": {
    "pycharm": {
     "is_executing": false
    }
   },
   "outputs": [
    {
     "data": {
      "text/plain": [
       "1"
      ]
     },
     "execution_count": 4,
     "metadata": {},
     "output_type": "execute_result"
    }
   ],
   "source": [
    "dyn.run(steps = 1)\n",
    "dyn.get_number_of_steps()"
   ]
  },
  {
   "cell_type": "code",
   "execution_count": 5,
   "metadata": {
    "pycharm": {
     "is_executing": false
    }
   },
   "outputs": [
    {
     "data": {
      "text/plain": [
       "-0.18180820374102957"
      ]
     },
     "execution_count": 5,
     "metadata": {},
     "output_type": "execute_result"
    }
   ],
   "source": [
    "dyn.atoms.get_potential_energy()"
   ]
  },
  {
   "cell_type": "markdown",
   "metadata": {},
   "source": [
    "## Set up the NanoVer iMD server"
   ]
  },
  {
   "cell_type": "markdown",
   "metadata": {},
   "source": [
    "We fetch the NanoVer object we need to serve the dynamics. We provide a handy wrapper that understands ASE simulations and will serve the dynamics for you."
   ]
  },
  {
   "cell_type": "code",
   "execution_count": 6,
   "metadata": {
    "pycharm": {
     "is_executing": false
    }
   },
   "outputs": [],
   "source": [
    "from nanover.app import NanoverImdApplication\n",
    "from nanover.ase import NanoverASEDynamics"
   ]
  },
  {
   "cell_type": "markdown",
   "metadata": {},
   "source": [
    "Let's set up an IMD server: we set `port=0` to let the operating system pick a free port for us."
   ]
  },
  {
   "cell_type": "code",
   "execution_count": 7,
   "metadata": {
    "pycharm": {
     "is_executing": false
    }
   },
   "outputs": [],
   "source": [
    "app_server = NanoverImdApplication.basic_server(port=0) #Try using Shift+TAB+TAB to see what you can set up here."
   ]
  },
  {
   "cell_type": "markdown",
   "metadata": {},
   "source": [
    "**Note**: Be careful if you run the above cell multiple times without running `app_server.close()` (see below), as you will start multiple servers, which may be discovered if you use autoconnect. You can guard against this by swapping the cell above with:\n",
    "\n",
    "```python\n",
    "try:\n",
    "    app_server.close()\n",
    "except NameError: # If the server hasn't been defined yet, there will be an error\n",
    "    pass\n",
    "app_server = NanoverImdApplication.basic_server(port=0)\n",
    "```"
   ]
  },
  {
   "cell_type": "markdown",
   "metadata": {},
   "source": [
    "A server is now ready to be discovered, we can see where it's running with the following:"
   ]
  },
  {
   "cell_type": "code",
   "execution_count": 8,
   "metadata": {
    "pycharm": {
     "is_executing": false
    }
   },
   "outputs": [
    {
     "name": "stdout",
     "output_type": "stream",
     "text": [
      "jon: NanoVer iMD Server: Running at [::]:44973\n"
     ]
    }
   ],
   "source": [
    "print(f'{app_server.name}: Running at {app_server.address}:{app_server.port}')"
   ]
  },
  {
   "cell_type": "markdown",
   "metadata": {},
   "source": [
    "The `[::]` means it is running on all available addresses, e.g. your WiFi and cabled access, and it's found an available port"
   ]
  },
  {
   "cell_type": "markdown",
   "metadata": {},
   "source": [
    "Now, let's attach it to the ASE simulation"
   ]
  },
  {
   "cell_type": "code",
   "execution_count": 9,
   "metadata": {
    "pycharm": {
     "is_executing": false
    }
   },
   "outputs": [],
   "source": [
    "nanover_imd = NanoverASEDynamics(app_server, dyn)"
   ]
  },
  {
   "cell_type": "markdown",
   "metadata": {},
   "source": [
    "Let's run a couple of steps to make sure it's working"
   ]
  },
  {
   "cell_type": "code",
   "execution_count": 10,
   "metadata": {
    "pycharm": {
     "is_executing": false
    }
   },
   "outputs": [],
   "source": [
    "nanover_imd.run(10, block=True)"
   ]
  },
  {
   "cell_type": "code",
   "execution_count": 11,
   "metadata": {
    "pycharm": {
     "is_executing": false
    }
   },
   "outputs": [
    {
     "data": {
      "text/plain": [
       "11"
      ]
     },
     "execution_count": 11,
     "metadata": {},
     "output_type": "execute_result"
    }
   ],
   "source": [
    "nanover_imd.dynamics.nsteps"
   ]
  },
  {
   "cell_type": "markdown",
   "metadata": {},
   "source": [
    "Ok, it's working, so let's leave it running dynamics in background thread. This is what happens by default when you call `run`"
   ]
  },
  {
   "cell_type": "code",
   "execution_count": 12,
   "metadata": {
    "pycharm": {
     "is_executing": false
    }
   },
   "outputs": [],
   "source": [
    "nanover_imd.run()"
   ]
  },
  {
   "cell_type": "code",
   "execution_count": 13,
   "metadata": {
    "pycharm": {
     "is_executing": false
    }
   },
   "outputs": [
    {
     "name": "stdout",
     "output_type": "stream",
     "text": [
      "Simulation time: 2.160992853462094, (22 steps)\n"
     ]
    }
   ],
   "source": [
    "# print the time to check dynamics is running\n",
    "print(f'Simulation time: {nanover_imd.dynamics.get_time()}, ({nanover_imd.dynamics.nsteps} steps)')"
   ]
  },
  {
   "cell_type": "markdown",
   "metadata": {},
   "source": [
    "That's it, your simulation is running and interactive! If you connect to it from iMD-VR, you'll see something like:\n",
    "\n",
    "![NanoVer ASE EMT](./images/nanover_ase_emt.png)"
   ]
  },
  {
   "cell_type": "markdown",
   "metadata": {},
   "source": "You can also visualize it live in the notebook, (check out this [example with NGLView](../basics/nanover_nglview.ipynb))."
  },
  {
   "cell_type": "markdown",
   "metadata": {},
   "source": [
    "## Start an IMD client"
   ]
  },
  {
   "cell_type": "markdown",
   "metadata": {},
   "source": [
    "Let's have a look at the data that's being produced here, by connecting a python client"
   ]
  },
  {
   "cell_type": "code",
   "execution_count": 14,
   "metadata": {
    "pycharm": {
     "is_executing": false
    }
   },
   "outputs": [],
   "source": [
    "from nanover.app import NanoverImdClient\n",
    "client = NanoverImdClient.connect_to_single_server(port=app_server.port)"
   ]
  },
  {
   "cell_type": "markdown",
   "metadata": {},
   "source": [
    "Subscribe to the stream of frames. The server will try to send 30 frames per seconds, if it produces more frames, some frames will be skipped to maintain the cadence."
   ]
  },
  {
   "cell_type": "code",
   "execution_count": 15,
   "metadata": {},
   "outputs": [],
   "source": [
    "client.subscribe_to_frames()"
   ]
  },
  {
   "cell_type": "markdown",
   "metadata": {},
   "source": [
    "Let's grab a frame"
   ]
  },
  {
   "cell_type": "code",
   "execution_count": 16,
   "metadata": {
    "pycharm": {
     "is_executing": false
    }
   },
   "outputs": [],
   "source": [
    "client.wait_until_first_frame()\n",
    "frame = client.latest_frame"
   ]
  },
  {
   "cell_type": "code",
   "execution_count": 17,
   "metadata": {
    "pycharm": {
     "is_executing": false
    }
   },
   "outputs": [
    {
     "data": {
      "text/plain": [
       "32"
      ]
     },
     "execution_count": 17,
     "metadata": {},
     "output_type": "execute_result"
    }
   ],
   "source": [
    "frame.particle_count # use TAB to see what's available!"
   ]
  },
  {
   "cell_type": "markdown",
   "metadata": {},
   "source": [
    "We can also print out the raw underlying data that is sent to VR, and see all the simulation data that is being transmitted"
   ]
  },
  {
   "cell_type": "code",
   "execution_count": 18,
   "metadata": {
    "pycharm": {
     "is_executing": false
    },
    "scrolled": true
   },
   "outputs": [
    {
     "data": {
      "text/plain": [
       "values {\n",
       "  key: \"server.timestamp\"\n",
       "  value {\n",
       "    number_value: 61981.883366045\n",
       "  }\n",
       "}\n",
       "values {\n",
       "  key: \"residue.count\"\n",
       "  value {\n",
       "    number_value: 1\n",
       "  }\n",
       "}\n",
       "values {\n",
       "  key: \"particle.count\"\n",
       "  value {\n",
       "    number_value: 32\n",
       "  }\n",
       "}\n",
       "values {\n",
       "  key: \"energy.potential\"\n",
       "  value {\n",
       "    number_value: -17.531668290927588\n",
       "  }\n",
       "}\n",
       "values {\n",
       "  key: \"energy.kinetic\"\n",
       "  value {\n",
       "    number_value: 0.011534119468729485\n",
       "  }\n",
       "}\n",
       "values {\n",
       "  key: \"chain.count\"\n",
       "  value {\n",
       "    number_value: 1\n",
       "  }\n",
       "}\n",
       "arrays {\n",
       "  key: \"system.box.vectors\"\n",
       "  value {\n",
       "    float_values {\n",
       "      values: 0.722\n",
       "      values: 0\n",
       "      values: 0\n",
       "      values: 0\n",
       "      values: 0.722\n",
       "      values: 0\n",
       "      values: 0\n",
       "      values: 0\n",
       "      values: 0.722\n",
       "    }\n",
       "  }\n",
       "}\n",
       "arrays {\n",
       "  key: \"residue.names\"\n",
       "  value {\n",
       "    string_values {\n",
       "      values: \"ASE\"\n",
       "    }\n",
       "  }\n",
       "}\n",
       "arrays {\n",
       "  key: \"residue.ids\"\n",
       "  value {\n",
       "    string_values {\n",
       "      values: \"1\"\n",
       "    }\n",
       "  }\n",
       "}\n",
       "arrays {\n",
       "  key: \"residue.chains\"\n",
       "  value {\n",
       "    index_values {\n",
       "      values: 0\n",
       "    }\n",
       "  }\n",
       "}\n",
       "arrays {\n",
       "  key: \"particle.residues\"\n",
       "  value {\n",
       "    index_values {\n",
       "      values: 0\n",
       "      values: 0\n",
       "      values: 0\n",
       "      values: 0\n",
       "      values: 0\n",
       "      values: 0\n",
       "      values: 0\n",
       "      values: 0\n",
       "      values: 0\n",
       "      values: 0\n",
       "      values: 0\n",
       "      values: 0\n",
       "      values: 0\n",
       "      values: 0\n",
       "      values: 0\n",
       "      values: 0\n",
       "      values: 0\n",
       "      values: 0\n",
       "      values: 0\n",
       "      values: 0\n",
       "      values: 0\n",
       "      values: 0\n",
       "      values: 0\n",
       "      values: 0\n",
       "      values: 0\n",
       "      values: 0\n",
       "      values: 0\n",
       "      values: 0\n",
       "      values: 0\n",
       "      values: 0\n",
       "      values: 0\n",
       "      values: 0\n",
       "    }\n",
       "  }\n",
       "}\n",
       "arrays {\n",
       "  key: \"particle.positions\"\n",
       "  value {\n",
       "    float_values {\n",
       "      values: 3.28507781e-06\n",
       "      values: 6.92371e-05\n",
       "      values: -0.00012874922\n",
       "      values: 0.180514857\n",
       "      values: 0.180455193\n",
       "      values: -3.49673828e-05\n",
       "      values: 0.180406049\n",
       "      values: -0.000121892743\n",
       "      values: 0.180585355\n",
       "      values: 2.79924843e-05\n",
       "      values: 0.180529684\n",
       "      values: 0.180502385\n",
       "      values: 0.360968471\n",
       "      values: 9.5160317e-07\n",
       "      values: 2.07705089e-05\n",
       "      values: 0.541499794\n",
       "      values: 0.180510744\n",
       "      values: 3.17802869e-06\n",
       "      values: 0.541474462\n",
       "      values: 8.61464214e-05\n",
       "      values: 0.180452779\n",
       "      values: 0.360933602\n",
       "      values: 0.180488572\n",
       "      values: 0.18048881\n",
       "      values: -2.77618365e-05\n",
       "      values: 0.36098966\n",
       "      values: -0.000100682053\n",
       "      values: 0.180616692\n",
       "      values: 0.54154253\n",
       "      values: -4.45125916e-05\n",
       "      values: 0.180510551\n",
       "      values: 0.361002862\n",
       "      values: 0.180459201\n",
       "      values: 1.96660858e-05\n",
       "      values: 0.541504443\n",
       "      values: 0.180473059\n",
       "      values: 0.360932827\n",
       "      values: 0.360937506\n",
       "      values: -1.70527153e-06\n",
       "      values: 0.541591585\n",
       "      values: 0.541560948\n",
       "      values: 5.38147942e-05\n",
       "      values: 0.541621745\n",
       "      values: 0.360923469\n",
       "      values: 0.180553615\n",
       "      values: 0.361063689\n",
       "      values: 0.54145807\n",
       "      values: 0.180471554\n",
       "      values: -0.000130070563\n",
       "      values: 6.13400189e-05\n",
       "      values: 0.361090571\n",
       "      values: 0.180384412\n",
       "      values: 0.180465981\n",
       "      values: 0.361024141\n",
       "      values: 0.180568308\n",
       "      values: 6.71299858e-05\n",
       "      values: 0.541510165\n",
       "      values: -9.05262568e-05\n",
       "      values: 0.180540755\n",
       "      values: 0.541512489\n",
       "      values: 0.361037076\n",
       "      values: -0.000111934241\n",
       "      values: 0.361083776\n",
       "      values: 0.541487396\n",
       "      values: 0.180450678\n",
       "      values: 0.360990524\n",
       "      values: 0.541398406\n",
       "      values: -3.65134474e-05\n",
       "      values: 0.541491389\n",
       "      values: 0.361062944\n",
       "      values: 0.180633172\n",
       "      values: 0.541459858\n",
       "      values: 3.68724932e-06\n",
       "      values: 0.361044049\n",
       "      values: 0.361014456\n",
       "      values: 0.180656612\n",
       "      values: 0.541588902\n",
       "      values: 0.36102587\n",
       "      values: 0.18043974\n",
       "      values: 0.360911578\n",
       "      values: 0.541519\n",
       "      values: 7.53806526e-05\n",
       "      values: 0.541534\n",
       "      values: 0.541450381\n",
       "      values: 0.360926658\n",
       "      values: 0.361004591\n",
       "      values: 0.361001849\n",
       "      values: 0.541527331\n",
       "      values: 0.541467249\n",
       "      values: 0.360999465\n",
       "      values: 0.541394055\n",
       "      values: 0.361007959\n",
       "      values: 0.541488886\n",
       "      values: 0.361046\n",
       "      values: 0.541450739\n",
       "      values: 0.541552186\n",
       "    }\n",
       "  }\n",
       "}\n",
       "arrays {\n",
       "  key: \"particle.names\"\n",
       "  value {\n",
       "    string_values {\n",
       "      values: \"0\"\n",
       "      values: \"1\"\n",
       "      values: \"2\"\n",
       "      values: \"3\"\n",
       "      values: \"4\"\n",
       "      values: \"5\"\n",
       "      values: \"6\"\n",
       "      values: \"7\"\n",
       "      values: \"8\"\n",
       "      values: \"9\"\n",
       "      values: \"10\"\n",
       "      values: \"11\"\n",
       "      values: \"12\"\n",
       "      values: \"13\"\n",
       "      values: \"14\"\n",
       "      values: \"15\"\n",
       "      values: \"16\"\n",
       "      values: \"17\"\n",
       "      values: \"18\"\n",
       "      values: \"19\"\n",
       "      values: \"20\"\n",
       "      values: \"21\"\n",
       "      values: \"22\"\n",
       "      values: \"23\"\n",
       "      values: \"24\"\n",
       "      values: \"25\"\n",
       "      values: \"26\"\n",
       "      values: \"27\"\n",
       "      values: \"28\"\n",
       "      values: \"29\"\n",
       "      values: \"30\"\n",
       "      values: \"31\"\n",
       "    }\n",
       "  }\n",
       "}\n",
       "arrays {\n",
       "  key: \"particle.elements\"\n",
       "  value {\n",
       "    index_values {\n",
       "      values: 29\n",
       "      values: 29\n",
       "      values: 29\n",
       "      values: 29\n",
       "      values: 29\n",
       "      values: 29\n",
       "      values: 29\n",
       "      values: 29\n",
       "      values: 29\n",
       "      values: 29\n",
       "      values: 29\n",
       "      values: 29\n",
       "      values: 29\n",
       "      values: 29\n",
       "      values: 29\n",
       "      values: 29\n",
       "      values: 29\n",
       "      values: 29\n",
       "      values: 29\n",
       "      values: 29\n",
       "      values: 29\n",
       "      values: 29\n",
       "      values: 29\n",
       "      values: 29\n",
       "      values: 29\n",
       "      values: 29\n",
       "      values: 29\n",
       "      values: 29\n",
       "      values: 29\n",
       "      values: 29\n",
       "      values: 29\n",
       "      values: 29\n",
       "    }\n",
       "  }\n",
       "}\n",
       "arrays {\n",
       "  key: \"chain.names\"\n",
       "  value {\n",
       "    string_values {\n",
       "      values: \"A\"\n",
       "    }\n",
       "  }\n",
       "}\n",
       "arrays {\n",
       "  key: \"bond.pairs\"\n",
       "  value {\n",
       "    index_values {\n",
       "    }\n",
       "  }\n",
       "}"
      ]
     },
     "execution_count": 18,
     "metadata": {},
     "output_type": "execute_result"
    }
   ],
   "source": [
    "# view the latest frame\n",
    "client.latest_frame.raw"
   ]
  },
  {
   "cell_type": "markdown",
   "metadata": {},
   "source": [
    "Now, let's visualize the frame directly with ASE. First we convert the frame back into ASE atoms, and view it. The first frame received by a client always has the topology information"
   ]
  },
  {
   "cell_type": "code",
   "execution_count": 19,
   "metadata": {
    "pycharm": {
     "is_executing": false
    }
   },
   "outputs": [],
   "source": [
    "from nanover.ase.converter import frame_data_to_ase\n",
    "atoms = frame_data_to_ase(client.first_frame, topology=True, positions=False)"
   ]
  },
  {
   "cell_type": "markdown",
   "metadata": {},
   "source": [
    "We can run this to update the latest positions from the frame (note that NanoVer uses **nanometers** for positions. [Why??](http://docs.openmm.org/6.2.0/userguide/theory.html#units))"
   ]
  },
  {
   "cell_type": "code",
   "execution_count": 20,
   "metadata": {
    "pycharm": {
     "is_executing": false
    }
   },
   "outputs": [],
   "source": [
    "import numpy as np\n",
    "# set the positions to match the latest frame data\n",
    "atoms.set_positions(np.array(client.latest_frame.particle_positions) * 10)"
   ]
  },
  {
   "cell_type": "markdown",
   "metadata": {},
   "source": [
    "ASE has a cool little 2D visualizer"
   ]
  },
  {
   "cell_type": "code",
   "execution_count": 21,
   "metadata": {
    "pycharm": {
     "is_executing": false
    }
   },
   "outputs": [
    {
     "data": {
      "text/plain": [
       "<Popen: returncode: None args: ['/home/jon/.mambaforge/envs/nanover/bin/pyth...>"
      ]
     },
     "execution_count": 21,
     "metadata": {},
     "output_type": "execute_result"
    }
   ],
   "source": [
    "from ase.visualize import view\n",
    "view(atoms)"
   ]
  },
  {
   "cell_type": "markdown",
   "metadata": {},
   "source": [
    "And a 3D visualizer! (Check your browser)"
   ]
  },
  {
   "cell_type": "code",
   "execution_count": 22,
   "metadata": {
    "pycharm": {
     "is_executing": false
    }
   },
   "outputs": [
    {
     "data": {
      "text/html": [
       "<html>\n",
       "\n",
       " <head>\n",
       "\n",
       "  <title>ASE atomic visualization</title>\n",
       "\n",
       "  <link rel=\"stylesheet\" type=\"text/css\"\n",
       "\n",
       "   href=\"https://www.x3dom.org/x3dom/release/x3dom.css\">\n",
       "\n",
       "  </link>\n",
       "\n",
       "  <script type=\"text/javascript\"\n",
       "\n",
       "   src=\"https://www.x3dom.org/x3dom/release/x3dom.js\">\n",
       "\n",
       "  </script>\n",
       "\n",
       " </head>\n",
       "\n",
       " <body>\n",
       "\n",
       "  <X3D>\n",
       "\n",
       "   <Scene>\n",
       "\n",
       "    <Transform translation=\"0.00 -0.00 -0.00\">\n",
       "\n",
       "     <Shape>\n",
       "\n",
       "      <Appearance>\n",
       "\n",
       "       <Material diffuseColor=\"0.784 0.502 0.200\" specularColor=\"0.5 0.5 0.5\">\n",
       "\n",
       "       </Material>\n",
       "\n",
       "      </Appearance>\n",
       "\n",
       "      <Sphere radius=\"1.32\">\n",
       "\n",
       "      </Sphere>\n",
       "\n",
       "     </Shape>\n",
       "\n",
       "    </Transform>\n",
       "\n",
       "    <Transform translation=\"1.81 1.80 0.00\">\n",
       "\n",
       "     <Shape>\n",
       "\n",
       "      <Appearance>\n",
       "\n",
       "       <Material diffuseColor=\"0.784 0.502 0.200\" specularColor=\"0.5 0.5 0.5\">\n",
       "\n",
       "       </Material>\n",
       "\n",
       "      </Appearance>\n",
       "\n",
       "      <Sphere radius=\"1.32\">\n",
       "\n",
       "      </Sphere>\n",
       "\n",
       "     </Shape>\n",
       "\n",
       "    </Transform>\n",
       "\n",
       "    <Transform translation=\"1.81 -0.00 1.81\">\n",
       "\n",
       "     <Shape>\n",
       "\n",
       "      <Appearance>\n",
       "\n",
       "       <Material diffuseColor=\"0.784 0.502 0.200\" specularColor=\"0.5 0.5 0.5\">\n",
       "\n",
       "       </Material>\n",
       "\n",
       "      </Appearance>\n",
       "\n",
       "      <Sphere radius=\"1.32\">\n",
       "\n",
       "      </Sphere>\n",
       "\n",
       "     </Shape>\n",
       "\n",
       "    </Transform>\n",
       "\n",
       "    <Transform translation=\"-0.00 1.80 1.80\">\n",
       "\n",
       "     <Shape>\n",
       "\n",
       "      <Appearance>\n",
       "\n",
       "       <Material diffuseColor=\"0.784 0.502 0.200\" specularColor=\"0.5 0.5 0.5\">\n",
       "\n",
       "       </Material>\n",
       "\n",
       "      </Appearance>\n",
       "\n",
       "      <Sphere radius=\"1.32\">\n",
       "\n",
       "      </Sphere>\n",
       "\n",
       "     </Shape>\n",
       "\n",
       "    </Transform>\n",
       "\n",
       "    <Transform translation=\"3.61 -0.00 -0.00\">\n",
       "\n",
       "     <Shape>\n",
       "\n",
       "      <Appearance>\n",
       "\n",
       "       <Material diffuseColor=\"0.784 0.502 0.200\" specularColor=\"0.5 0.5 0.5\">\n",
       "\n",
       "       </Material>\n",
       "\n",
       "      </Appearance>\n",
       "\n",
       "      <Sphere radius=\"1.32\">\n",
       "\n",
       "      </Sphere>\n",
       "\n",
       "     </Shape>\n",
       "\n",
       "    </Transform>\n",
       "\n",
       "    <Transform translation=\"5.42 1.80 0.00\">\n",
       "\n",
       "     <Shape>\n",
       "\n",
       "      <Appearance>\n",
       "\n",
       "       <Material diffuseColor=\"0.784 0.502 0.200\" specularColor=\"0.5 0.5 0.5\">\n",
       "\n",
       "       </Material>\n",
       "\n",
       "      </Appearance>\n",
       "\n",
       "      <Sphere radius=\"1.32\">\n",
       "\n",
       "      </Sphere>\n",
       "\n",
       "     </Shape>\n",
       "\n",
       "    </Transform>\n",
       "\n",
       "    <Transform translation=\"5.41 0.00 1.80\">\n",
       "\n",
       "     <Shape>\n",
       "\n",
       "      <Appearance>\n",
       "\n",
       "       <Material diffuseColor=\"0.784 0.502 0.200\" specularColor=\"0.5 0.5 0.5\">\n",
       "\n",
       "       </Material>\n",
       "\n",
       "      </Appearance>\n",
       "\n",
       "      <Sphere radius=\"1.32\">\n",
       "\n",
       "      </Sphere>\n",
       "\n",
       "     </Shape>\n",
       "\n",
       "    </Transform>\n",
       "\n",
       "    <Transform translation=\"3.61 1.80 1.81\">\n",
       "\n",
       "     <Shape>\n",
       "\n",
       "      <Appearance>\n",
       "\n",
       "       <Material diffuseColor=\"0.784 0.502 0.200\" specularColor=\"0.5 0.5 0.5\">\n",
       "\n",
       "       </Material>\n",
       "\n",
       "      </Appearance>\n",
       "\n",
       "      <Sphere radius=\"1.32\">\n",
       "\n",
       "      </Sphere>\n",
       "\n",
       "     </Shape>\n",
       "\n",
       "    </Transform>\n",
       "\n",
       "    <Transform translation=\"0.00 3.61 -0.00\">\n",
       "\n",
       "     <Shape>\n",
       "\n",
       "      <Appearance>\n",
       "\n",
       "       <Material diffuseColor=\"0.784 0.502 0.200\" specularColor=\"0.5 0.5 0.5\">\n",
       "\n",
       "       </Material>\n",
       "\n",
       "      </Appearance>\n",
       "\n",
       "      <Sphere radius=\"1.32\">\n",
       "\n",
       "      </Sphere>\n",
       "\n",
       "     </Shape>\n",
       "\n",
       "    </Transform>\n",
       "\n",
       "    <Transform translation=\"1.81 5.42 -0.00\">\n",
       "\n",
       "     <Shape>\n",
       "\n",
       "      <Appearance>\n",
       "\n",
       "       <Material diffuseColor=\"0.784 0.502 0.200\" specularColor=\"0.5 0.5 0.5\">\n",
       "\n",
       "       </Material>\n",
       "\n",
       "      </Appearance>\n",
       "\n",
       "      <Sphere radius=\"1.32\">\n",
       "\n",
       "      </Sphere>\n",
       "\n",
       "     </Shape>\n",
       "\n",
       "    </Transform>\n",
       "\n",
       "    <Transform translation=\"1.80 3.61 1.80\">\n",
       "\n",
       "     <Shape>\n",
       "\n",
       "      <Appearance>\n",
       "\n",
       "       <Material diffuseColor=\"0.784 0.502 0.200\" specularColor=\"0.5 0.5 0.5\">\n",
       "\n",
       "       </Material>\n",
       "\n",
       "      </Appearance>\n",
       "\n",
       "      <Sphere radius=\"1.32\">\n",
       "\n",
       "      </Sphere>\n",
       "\n",
       "     </Shape>\n",
       "\n",
       "    </Transform>\n",
       "\n",
       "    <Transform translation=\"0.00 5.42 1.81\">\n",
       "\n",
       "     <Shape>\n",
       "\n",
       "      <Appearance>\n",
       "\n",
       "       <Material diffuseColor=\"0.784 0.502 0.200\" specularColor=\"0.5 0.5 0.5\">\n",
       "\n",
       "       </Material>\n",
       "\n",
       "      </Appearance>\n",
       "\n",
       "      <Sphere radius=\"1.32\">\n",
       "\n",
       "      </Sphere>\n",
       "\n",
       "     </Shape>\n",
       "\n",
       "    </Transform>\n",
       "\n",
       "    <Transform translation=\"3.61 3.61 0.00\">\n",
       "\n",
       "     <Shape>\n",
       "\n",
       "      <Appearance>\n",
       "\n",
       "       <Material diffuseColor=\"0.784 0.502 0.200\" specularColor=\"0.5 0.5 0.5\">\n",
       "\n",
       "       </Material>\n",
       "\n",
       "      </Appearance>\n",
       "\n",
       "      <Sphere radius=\"1.32\">\n",
       "\n",
       "      </Sphere>\n",
       "\n",
       "     </Shape>\n",
       "\n",
       "    </Transform>\n",
       "\n",
       "    <Transform translation=\"5.41 5.42 0.00\">\n",
       "\n",
       "     <Shape>\n",
       "\n",
       "      <Appearance>\n",
       "\n",
       "       <Material diffuseColor=\"0.784 0.502 0.200\" specularColor=\"0.5 0.5 0.5\">\n",
       "\n",
       "       </Material>\n",
       "\n",
       "      </Appearance>\n",
       "\n",
       "      <Sphere radius=\"1.32\">\n",
       "\n",
       "      </Sphere>\n",
       "\n",
       "     </Shape>\n",
       "\n",
       "    </Transform>\n",
       "\n",
       "    <Transform translation=\"5.42 3.61 1.81\">\n",
       "\n",
       "     <Shape>\n",
       "\n",
       "      <Appearance>\n",
       "\n",
       "       <Material diffuseColor=\"0.784 0.502 0.200\" specularColor=\"0.5 0.5 0.5\">\n",
       "\n",
       "       </Material>\n",
       "\n",
       "      </Appearance>\n",
       "\n",
       "      <Sphere radius=\"1.32\">\n",
       "\n",
       "      </Sphere>\n",
       "\n",
       "     </Shape>\n",
       "\n",
       "    </Transform>\n",
       "\n",
       "    <Transform translation=\"3.61 5.42 1.81\">\n",
       "\n",
       "     <Shape>\n",
       "\n",
       "      <Appearance>\n",
       "\n",
       "       <Material diffuseColor=\"0.784 0.502 0.200\" specularColor=\"0.5 0.5 0.5\">\n",
       "\n",
       "       </Material>\n",
       "\n",
       "      </Appearance>\n",
       "\n",
       "      <Sphere radius=\"1.32\">\n",
       "\n",
       "      </Sphere>\n",
       "\n",
       "     </Shape>\n",
       "\n",
       "    </Transform>\n",
       "\n",
       "    <Transform translation=\"0.00 0.00 3.61\">\n",
       "\n",
       "     <Shape>\n",
       "\n",
       "      <Appearance>\n",
       "\n",
       "       <Material diffuseColor=\"0.784 0.502 0.200\" specularColor=\"0.5 0.5 0.5\">\n",
       "\n",
       "       </Material>\n",
       "\n",
       "      </Appearance>\n",
       "\n",
       "      <Sphere radius=\"1.32\">\n",
       "\n",
       "      </Sphere>\n",
       "\n",
       "     </Shape>\n",
       "\n",
       "    </Transform>\n",
       "\n",
       "    <Transform translation=\"1.80 1.80 3.61\">\n",
       "\n",
       "     <Shape>\n",
       "\n",
       "      <Appearance>\n",
       "\n",
       "       <Material diffuseColor=\"0.784 0.502 0.200\" specularColor=\"0.5 0.5 0.5\">\n",
       "\n",
       "       </Material>\n",
       "\n",
       "      </Appearance>\n",
       "\n",
       "      <Sphere radius=\"1.32\">\n",
       "\n",
       "      </Sphere>\n",
       "\n",
       "     </Shape>\n",
       "\n",
       "    </Transform>\n",
       "\n",
       "    <Transform translation=\"1.81 0.00 5.41\">\n",
       "\n",
       "     <Shape>\n",
       "\n",
       "      <Appearance>\n",
       "\n",
       "       <Material diffuseColor=\"0.784 0.502 0.200\" specularColor=\"0.5 0.5 0.5\">\n",
       "\n",
       "       </Material>\n",
       "\n",
       "      </Appearance>\n",
       "\n",
       "      <Sphere radius=\"1.32\">\n",
       "\n",
       "      </Sphere>\n",
       "\n",
       "     </Shape>\n",
       "\n",
       "    </Transform>\n",
       "\n",
       "    <Transform translation=\"-0.00 1.81 5.41\">\n",
       "\n",
       "     <Shape>\n",
       "\n",
       "      <Appearance>\n",
       "\n",
       "       <Material diffuseColor=\"0.784 0.502 0.200\" specularColor=\"0.5 0.5 0.5\">\n",
       "\n",
       "       </Material>\n",
       "\n",
       "      </Appearance>\n",
       "\n",
       "      <Sphere radius=\"1.32\">\n",
       "\n",
       "      </Sphere>\n",
       "\n",
       "     </Shape>\n",
       "\n",
       "    </Transform>\n",
       "\n",
       "    <Transform translation=\"3.61 0.00 3.61\">\n",
       "\n",
       "     <Shape>\n",
       "\n",
       "      <Appearance>\n",
       "\n",
       "       <Material diffuseColor=\"0.784 0.502 0.200\" specularColor=\"0.5 0.5 0.5\">\n",
       "\n",
       "       </Material>\n",
       "\n",
       "      </Appearance>\n",
       "\n",
       "      <Sphere radius=\"1.32\">\n",
       "\n",
       "      </Sphere>\n",
       "\n",
       "     </Shape>\n",
       "\n",
       "    </Transform>\n",
       "\n",
       "    <Transform translation=\"5.42 1.80 3.61\">\n",
       "\n",
       "     <Shape>\n",
       "\n",
       "      <Appearance>\n",
       "\n",
       "       <Material diffuseColor=\"0.784 0.502 0.200\" specularColor=\"0.5 0.5 0.5\">\n",
       "\n",
       "       </Material>\n",
       "\n",
       "      </Appearance>\n",
       "\n",
       "      <Sphere radius=\"1.32\">\n",
       "\n",
       "      </Sphere>\n",
       "\n",
       "     </Shape>\n",
       "\n",
       "    </Transform>\n",
       "\n",
       "    <Transform translation=\"5.41 -0.00 5.42\">\n",
       "\n",
       "     <Shape>\n",
       "\n",
       "      <Appearance>\n",
       "\n",
       "       <Material diffuseColor=\"0.784 0.502 0.200\" specularColor=\"0.5 0.5 0.5\">\n",
       "\n",
       "       </Material>\n",
       "\n",
       "      </Appearance>\n",
       "\n",
       "      <Sphere radius=\"1.32\">\n",
       "\n",
       "      </Sphere>\n",
       "\n",
       "     </Shape>\n",
       "\n",
       "    </Transform>\n",
       "\n",
       "    <Transform translation=\"3.61 1.81 5.41\">\n",
       "\n",
       "     <Shape>\n",
       "\n",
       "      <Appearance>\n",
       "\n",
       "       <Material diffuseColor=\"0.784 0.502 0.200\" specularColor=\"0.5 0.5 0.5\">\n",
       "\n",
       "       </Material>\n",
       "\n",
       "      </Appearance>\n",
       "\n",
       "      <Sphere radius=\"1.32\">\n",
       "\n",
       "      </Sphere>\n",
       "\n",
       "     </Shape>\n",
       "\n",
       "    </Transform>\n",
       "\n",
       "    <Transform translation=\"-0.00 3.61 3.61\">\n",
       "\n",
       "     <Shape>\n",
       "\n",
       "      <Appearance>\n",
       "\n",
       "       <Material diffuseColor=\"0.784 0.502 0.200\" specularColor=\"0.5 0.5 0.5\">\n",
       "\n",
       "       </Material>\n",
       "\n",
       "      </Appearance>\n",
       "\n",
       "      <Sphere radius=\"1.32\">\n",
       "\n",
       "      </Sphere>\n",
       "\n",
       "     </Shape>\n",
       "\n",
       "    </Transform>\n",
       "\n",
       "    <Transform translation=\"1.81 5.42 3.61\">\n",
       "\n",
       "     <Shape>\n",
       "\n",
       "      <Appearance>\n",
       "\n",
       "       <Material diffuseColor=\"0.784 0.502 0.200\" specularColor=\"0.5 0.5 0.5\">\n",
       "\n",
       "       </Material>\n",
       "\n",
       "      </Appearance>\n",
       "\n",
       "      <Sphere radius=\"1.32\">\n",
       "\n",
       "      </Sphere>\n",
       "\n",
       "     </Shape>\n",
       "\n",
       "    </Transform>\n",
       "\n",
       "    <Transform translation=\"1.80 3.61 5.41\">\n",
       "\n",
       "     <Shape>\n",
       "\n",
       "      <Appearance>\n",
       "\n",
       "       <Material diffuseColor=\"0.784 0.502 0.200\" specularColor=\"0.5 0.5 0.5\">\n",
       "\n",
       "       </Material>\n",
       "\n",
       "      </Appearance>\n",
       "\n",
       "      <Sphere radius=\"1.32\">\n",
       "\n",
       "      </Sphere>\n",
       "\n",
       "     </Shape>\n",
       "\n",
       "    </Transform>\n",
       "\n",
       "    <Transform translation=\"0.00 5.41 5.41\">\n",
       "\n",
       "     <Shape>\n",
       "\n",
       "      <Appearance>\n",
       "\n",
       "       <Material diffuseColor=\"0.784 0.502 0.200\" specularColor=\"0.5 0.5 0.5\">\n",
       "\n",
       "       </Material>\n",
       "\n",
       "      </Appearance>\n",
       "\n",
       "      <Sphere radius=\"1.32\">\n",
       "\n",
       "      </Sphere>\n",
       "\n",
       "     </Shape>\n",
       "\n",
       "    </Transform>\n",
       "\n",
       "    <Transform translation=\"3.61 3.61 3.61\">\n",
       "\n",
       "     <Shape>\n",
       "\n",
       "      <Appearance>\n",
       "\n",
       "       <Material diffuseColor=\"0.784 0.502 0.200\" specularColor=\"0.5 0.5 0.5\">\n",
       "\n",
       "       </Material>\n",
       "\n",
       "      </Appearance>\n",
       "\n",
       "      <Sphere radius=\"1.32\">\n",
       "\n",
       "      </Sphere>\n",
       "\n",
       "     </Shape>\n",
       "\n",
       "    </Transform>\n",
       "\n",
       "    <Transform translation=\"5.42 5.42 3.61\">\n",
       "\n",
       "     <Shape>\n",
       "\n",
       "      <Appearance>\n",
       "\n",
       "       <Material diffuseColor=\"0.784 0.502 0.200\" specularColor=\"0.5 0.5 0.5\">\n",
       "\n",
       "       </Material>\n",
       "\n",
       "      </Appearance>\n",
       "\n",
       "      <Sphere radius=\"1.32\">\n",
       "\n",
       "      </Sphere>\n",
       "\n",
       "     </Shape>\n",
       "\n",
       "    </Transform>\n",
       "\n",
       "    <Transform translation=\"5.41 3.61 5.41\">\n",
       "\n",
       "     <Shape>\n",
       "\n",
       "      <Appearance>\n",
       "\n",
       "       <Material diffuseColor=\"0.784 0.502 0.200\" specularColor=\"0.5 0.5 0.5\">\n",
       "\n",
       "       </Material>\n",
       "\n",
       "      </Appearance>\n",
       "\n",
       "      <Sphere radius=\"1.32\">\n",
       "\n",
       "      </Sphere>\n",
       "\n",
       "     </Shape>\n",
       "\n",
       "    </Transform>\n",
       "\n",
       "    <Transform translation=\"3.61 5.42 5.41\">\n",
       "\n",
       "     <Shape>\n",
       "\n",
       "      <Appearance>\n",
       "\n",
       "       <Material diffuseColor=\"0.784 0.502 0.200\" specularColor=\"0.5 0.5 0.5\">\n",
       "\n",
       "       </Material>\n",
       "\n",
       "      </Appearance>\n",
       "\n",
       "      <Sphere radius=\"1.32\">\n",
       "\n",
       "      </Sphere>\n",
       "\n",
       "     </Shape>\n",
       "\n",
       "    </Transform>\n",
       "\n",
       "   </Scene>\n",
       "\n",
       "  </X3D>\n",
       "\n",
       " </body>\n",
       "\n",
       "</html>\n",
       "\n"
      ],
      "text/plain": [
       "<IPython.core.display.HTML object>"
      ]
     },
     "execution_count": 22,
     "metadata": {},
     "output_type": "execute_result"
    }
   ],
   "source": [
    "view(atoms, viewer='x3d')"
   ]
  },
  {
   "cell_type": "markdown",
   "metadata": {},
   "source": [
    "# Gracefully terminate!!"
   ]
  },
  {
   "cell_type": "markdown",
   "metadata": {},
   "source": [
    "It is very important to close your servers, otherwise they'll get in the way by blocking ports, and your clients may autoconnect to the wrong server!"
   ]
  },
  {
   "cell_type": "code",
   "execution_count": 23,
   "metadata": {
    "pycharm": {
     "is_executing": false
    }
   },
   "outputs": [],
   "source": [
    "nanover_imd.close()\n",
    "app_server.close()"
   ]
  },
  {
   "cell_type": "markdown",
   "metadata": {
    "pycharm": {
     "is_executing": false
    }
   },
   "source": [
    "Note that outside of a notebook, you can use `with` statements to let NanoVer clean up after itself:"
   ]
  },
  {
   "cell_type": "code",
   "execution_count": 24,
   "metadata": {
    "pycharm": {
     "is_executing": false
    }
   },
   "outputs": [],
   "source": [
    "with NanoverASEDynamics.basic_imd(dyn) as app:\n",
    "    app.run(20)"
   ]
  },
  {
   "cell_type": "markdown",
   "metadata": {
    "pycharm": {
     "is_executing": false
    }
   },
   "source": [
    "# Next Steps\n",
    "\n",
    "This notebook showed a toy example with ASE. \n",
    "\n",
    "* Run bigger molecular mechanics simulations with OpenMM. The [nanotube](./ase_openmm_nanotube.ipynb) and [neuraminidase](./ase_openmm_neuraminidase.ipynb) examples show how to set up simulations with OpenMM.\n",
    "* To understand what's going on under the hood, consider starting with the [NanoVer frame explained](../fundamentals/frame.ipynb) example. "
   ]
  },
  {
   "cell_type": "code",
   "execution_count": null,
   "metadata": {},
   "outputs": [],
   "source": []
  }
 ],
 "metadata": {
  "kernelspec": {
   "display_name": "Python (nanover)",
   "language": "python",
   "name": "nanover"
  },
  "language_info": {
   "codemirror_mode": {
    "name": "ipython",
    "version": 3
   },
   "file_extension": ".py",
   "mimetype": "text/x-python",
   "name": "python",
   "nbconvert_exporter": "python",
   "pygments_lexer": "ipython3",
   "version": "3.10.12"
  },
  "pycharm": {
   "stem_cell": {
    "cell_type": "raw",
    "metadata": {
     "collapsed": false
    },
    "source": []
   }
  }
 },
 "nbformat": 4,
 "nbformat_minor": 2
}
