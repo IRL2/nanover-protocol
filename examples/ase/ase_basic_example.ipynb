{
 "cells": [
  {
   "cell_type": "markdown",
   "metadata": {},
   "source": [
    "# NanoVer ASE Client / Server Example"
   ]
  },
  {
   "cell_type": "markdown",
   "metadata": {},
   "source": [
    "This notebook walks through setting up a simulation with ASE and combining it with NanoVer to make an interactive molecular dynamics simulation. \n",
    "We then connect to the simulation from a client, so we can look at the data being produced and visualize it."
   ]
  },
  {
   "cell_type": "markdown",
   "metadata": {},
   "source": [
    "## Set up an ASE simulation"
   ]
  },
  {
   "cell_type": "markdown",
   "metadata": {},
   "source": [
    "First, we set up an ASE simulation. We're going to do a simple lattice of copper particles under an EMT potential, but you can use [any supported calculator](https://wiki.fysik.dtu.dk/ase/ase/calculators/calculators.html#module-ase.calculators)!"
   ]
  },
  {
   "cell_type": "code",
   "execution_count": 1,
   "metadata": {
    "pycharm": {
     "is_executing": false
    }
   },
   "outputs": [],
   "source": [
    "from ase import units\n",
    "from ase.calculators.emt import EMT\n",
    "from ase.lattice.cubic import FaceCenteredCubic\n",
    "from ase.md import Langevin\n",
    "from ase.md.velocitydistribution import MaxwellBoltzmannDistribution"
   ]
  },
  {
   "cell_type": "code",
   "execution_count": 2,
   "metadata": {
    "pycharm": {
     "is_executing": false
    }
   },
   "outputs": [],
   "source": [
    "size = 2\n",
    "# Set up a crystal\n",
    "atoms = FaceCenteredCubic(directions=[[1, 0, 0], [0, 1, 0], [0, 0, 1]],\n",
    "                          symbol=\"Cu\",\n",
    "                          size=(size, size, size),\n",
    "                          pbc=True)\n",
    "# Describe the interatomic interactions with Effective Medium Theory\n",
    "atoms.calc = EMT()\n",
    "# Set the atomic momenta to 300 Kelvin. \n",
    "MaxwellBoltzmannDistribution(atoms, temperature_K=300 * units.kB)"
   ]
  },
  {
   "cell_type": "markdown",
   "metadata": {},
   "source": [
    "Set up our molecular dynamics simulation, we'll run Langevin dynamics at room temperature"
   ]
  },
  {
   "cell_type": "code",
   "execution_count": 3,
   "metadata": {
    "pycharm": {
     "is_executing": false
    }
   },
   "outputs": [],
   "source": [
    "dyn = Langevin(atoms, timestep=1 * units.fs, temperature_K=300 * units.kB, friction=0.5)"
   ]
  },
  {
   "cell_type": "markdown",
   "metadata": {},
   "source": [
    "Let's check it's working:"
   ]
  },
  {
   "cell_type": "code",
   "execution_count": 4,
   "metadata": {
    "pycharm": {
     "is_executing": false
    }
   },
   "outputs": [
    {
     "data": {
      "text/plain": [
       "1"
      ]
     },
     "execution_count": 4,
     "metadata": {},
     "output_type": "execute_result"
    }
   ],
   "source": [
    "dyn.run(steps = 1)\n",
    "dyn.get_number_of_steps()"
   ]
  },
  {
   "cell_type": "code",
   "execution_count": 5,
   "metadata": {
    "pycharm": {
     "is_executing": false
    }
   },
   "outputs": [
    {
     "data": {
      "text/plain": [
       "-0.18180819310664376"
      ]
     },
     "execution_count": 5,
     "metadata": {},
     "output_type": "execute_result"
    }
   ],
   "source": [
    "dyn.atoms.get_potential_energy()"
   ]
  },
  {
   "cell_type": "code",
   "execution_count": 9,
   "metadata": {},
   "outputs": [],
   "source": [
    "from nanover.omni.ase import ASESimulation\n",
    "\n",
    "nanover_imd = ASESimulation.from_dynamics(dyn)"
   ]
  },
  {
   "cell_type": "markdown",
   "metadata": {},
   "source": [
    "Let's run a couple of steps to make sure it's working"
   ]
  },
  {
   "cell_type": "code",
   "execution_count": 11,
   "metadata": {
    "pycharm": {
     "is_executing": false
    }
   },
   "outputs": [
    {
     "data": {
      "text/plain": [
       "11"
      ]
     },
     "execution_count": 11,
     "metadata": {},
     "output_type": "execute_result"
    }
   ],
   "source": [
    "nanover_imd.advance_to_next_report()\n",
    "nanover_imd.dynamics.nsteps"
   ]
  },
  {
   "cell_type": "markdown",
   "metadata": {},
   "source": [
    "## Set up the NanoVer iMD server"
   ]
  },
  {
   "cell_type": "markdown",
   "metadata": {},
   "source": [
    "We fetch the NanoVer object we need to serve the dynamics. We provide a handy wrapper that understands ASE simulations and will serve the dynamics for you."
   ]
  },
  {
   "cell_type": "code",
   "execution_count": 12,
   "metadata": {
    "pycharm": {
     "is_executing": false
    }
   },
   "outputs": [],
   "source": [
    "from nanover.omni import OmniRunner"
   ]
  },
  {
   "cell_type": "markdown",
   "metadata": {},
   "source": [
    "Let's set up an IMD server: we set `port=0` to let the operating system pick a free port for us."
   ]
  },
  {
   "cell_type": "code",
   "execution_count": 13,
   "metadata": {
    "pycharm": {
     "is_executing": false
    }
   },
   "outputs": [],
   "source": [
    "runner = OmniRunner.with_basic_server(nanover_imd, port=0) #Try using Shift+TAB+TAB to see what you can set up here."
   ]
  },
  {
   "cell_type": "markdown",
   "metadata": {},
   "source": [
    "**Note**: Be careful if you run the above cell multiple times without running `app_server.close()` (see below), as you will start multiple servers, which may be discovered if you use autoconnect. You can guard against this by swapping the cell above with:\n",
    "\n",
    "```python\n",
    "try:\n",
    "    runner.close()\n",
    "except NameError: # If the server hasn't been defined yet, there will be an error\n",
    "    pass\n",
    "runner = OmniRunner.with_basic_server(port=0)\n",
    "```"
   ]
  },
  {
   "cell_type": "markdown",
   "metadata": {},
   "source": [
    "A server is now ready to be discovered, we can see where it's running with the following:"
   ]
  },
  {
   "cell_type": "code",
   "execution_count": 14,
   "metadata": {
    "pycharm": {
     "is_executing": false
    }
   },
   "outputs": [
    {
     "name": "stdout",
     "output_type": "stream",
     "text": [
      "ragzo: NanoVer iMD Server: Running at [::]:55943\n"
     ]
    }
   ],
   "source": [
    "print(f'{runner.app_server.name}: Running at {runner.app_server.address}:{runner.app_server.port}')"
   ]
  },
  {
   "cell_type": "markdown",
   "metadata": {},
   "source": [
    "The `[::]` means it is running on all available addresses, e.g. your WiFi and cabled access, and it's found an available port"
   ]
  },
  {
   "cell_type": "markdown",
   "metadata": {},
   "source": [
    "Now, let's start the ASE simulation"
   ]
  },
  {
   "cell_type": "code",
   "execution_count": 15,
   "metadata": {},
   "outputs": [],
   "source": [
    "runner.next()"
   ]
  },
  {
   "cell_type": "code",
   "execution_count": 17,
   "metadata": {
    "pycharm": {
     "is_executing": false
    }
   },
   "outputs": [
    {
     "name": "stdout",
     "output_type": "stream",
     "text": [
      "Simulation time: 18.859573993851, (192 steps)\n"
     ]
    }
   ],
   "source": [
    "# print the time to check dynamics is running\n",
    "print(f'Simulation time: {nanover_imd.dynamics.get_time()}, ({nanover_imd.dynamics.nsteps} steps)')"
   ]
  },
  {
   "cell_type": "markdown",
   "metadata": {},
   "source": [
    "Ok, it's working, so let's leave it running dynamics in background thread. This is what happens by default when you call `run`"
   ]
  },
  {
   "cell_type": "markdown",
   "metadata": {},
   "source": [
    "That's it, your simulation is running and interactive! If you connect to it from iMD-VR, you'll see something like:\n",
    "\n",
    "![NanoVer ASE EMT](./images/nanover_ase_emt.png)"
   ]
  },
  {
   "cell_type": "markdown",
   "metadata": {},
   "source": [
    "You can also visualize it live in the notebook, (check out this [example with NGLView](../basics/nanover_nglview.ipynb))."
   ]
  },
  {
   "cell_type": "markdown",
   "metadata": {},
   "source": [
    "## Start an IMD client"
   ]
  },
  {
   "cell_type": "markdown",
   "metadata": {},
   "source": [
    "Let's have a look at the data that's being produced here, by connecting a python client"
   ]
  },
  {
   "cell_type": "code",
   "execution_count": 19,
   "metadata": {
    "pycharm": {
     "is_executing": false
    }
   },
   "outputs": [],
   "source": [
    "from nanover.app import NanoverImdClient\n",
    "client = NanoverImdClient.connect_to_single_server(port=runner.app_server.port)"
   ]
  },
  {
   "cell_type": "markdown",
   "metadata": {},
   "source": [
    "Subscribe to the stream of frames. The server will try to send 30 frames per seconds, if it produces more frames, some frames will be skipped to maintain the cadence."
   ]
  },
  {
   "cell_type": "code",
   "execution_count": 20,
   "metadata": {},
   "outputs": [],
   "source": [
    "client.subscribe_to_frames()"
   ]
  },
  {
   "cell_type": "markdown",
   "metadata": {},
   "source": [
    "Let's grab a frame"
   ]
  },
  {
   "cell_type": "code",
   "execution_count": 21,
   "metadata": {
    "pycharm": {
     "is_executing": false
    }
   },
   "outputs": [],
   "source": [
    "client.wait_until_first_frame()\n",
    "frame = client.latest_frame"
   ]
  },
  {
   "cell_type": "code",
   "execution_count": 22,
   "metadata": {
    "pycharm": {
     "is_executing": false
    }
   },
   "outputs": [
    {
     "data": {
      "text/plain": [
       "32"
      ]
     },
     "execution_count": 22,
     "metadata": {},
     "output_type": "execute_result"
    }
   ],
   "source": [
    "frame.particle_count # use TAB to see what's available!"
   ]
  },
  {
   "cell_type": "markdown",
   "metadata": {},
   "source": [
    "We can also print out the raw underlying data that is sent to VR, and see all the simulation data that is being transmitted"
   ]
  },
  {
   "cell_type": "code",
   "execution_count": 23,
   "metadata": {
    "pycharm": {
     "is_executing": false
    },
    "scrolled": true
   },
   "outputs": [
    {
     "data": {
      "text/plain": [
       "values {\n",
       "  key: \"server.timestamp\"\n",
       "  value {\n",
       "    number_value: 91197.171\n",
       "  }\n",
       "}\n",
       "values {\n",
       "  key: \"residue.count\"\n",
       "  value {\n",
       "    number_value: 1\n",
       "  }\n",
       "}\n",
       "values {\n",
       "  key: \"particle.count\"\n",
       "  value {\n",
       "    number_value: 32\n",
       "  }\n",
       "}\n",
       "values {\n",
       "  key: \"energy.potential\"\n",
       "  value {\n",
       "    number_value: -17.531048553386476\n",
       "  }\n",
       "}\n",
       "values {\n",
       "  key: \"energy.kinetic\"\n",
       "  value {\n",
       "    number_value: 0.0095670517563931166\n",
       "  }\n",
       "}\n",
       "values {\n",
       "  key: \"chain.count\"\n",
       "  value {\n",
       "    number_value: 1\n",
       "  }\n",
       "}\n",
       "arrays {\n",
       "  key: \"system.box.vectors\"\n",
       "  value {\n",
       "    float_values {\n",
       "      values: 0.722\n",
       "      values: 0\n",
       "      values: 0\n",
       "      values: 0\n",
       "      values: 0.722\n",
       "      values: 0\n",
       "      values: 0\n",
       "      values: 0\n",
       "      values: 0.722\n",
       "    }\n",
       "  }\n",
       "}\n",
       "arrays {\n",
       "  key: \"residue.names\"\n",
       "  value {\n",
       "    string_values {\n",
       "      values: \"ASE\"\n",
       "    }\n",
       "  }\n",
       "}\n",
       "arrays {\n",
       "  key: \"residue.ids\"\n",
       "  value {\n",
       "    string_values {\n",
       "      values: \"1\"\n",
       "    }\n",
       "  }\n",
       "}\n",
       "arrays {\n",
       "  key: \"residue.chains\"\n",
       "  value {\n",
       "    index_values {\n",
       "      values: 0\n",
       "    }\n",
       "  }\n",
       "}\n",
       "arrays {\n",
       "  key: \"particle.residues\"\n",
       "  value {\n",
       "    index_values {\n",
       "      values: 0\n",
       "      values: 0\n",
       "      values: 0\n",
       "      values: 0\n",
       "      values: 0\n",
       "      values: 0\n",
       "      values: 0\n",
       "      values: 0\n",
       "      values: 0\n",
       "      values: 0\n",
       "      values: 0\n",
       "      values: 0\n",
       "      values: 0\n",
       "      values: 0\n",
       "      values: 0\n",
       "      values: 0\n",
       "      values: 0\n",
       "      values: 0\n",
       "      values: 0\n",
       "      values: 0\n",
       "      values: 0\n",
       "      values: 0\n",
       "      values: 0\n",
       "      values: 0\n",
       "      values: 0\n",
       "      values: 0\n",
       "      values: 0\n",
       "      values: 0\n",
       "      values: 0\n",
       "      values: 0\n",
       "      values: 0\n",
       "      values: 0\n",
       "    }\n",
       "  }\n",
       "}\n",
       "arrays {\n",
       "  key: \"particle.positions\"\n",
       "  value {\n",
       "    float_values {\n",
       "      values: -2.57891206e-005\n",
       "      values: -2.0524134e-005\n",
       "      values: 8.89585863e-005\n",
       "      values: 0.180520535\n",
       "      values: 0.180497617\n",
       "      values: 4.96765351e-005\n",
       "      values: 0.180475205\n",
       "      values: 6.78303841e-005\n",
       "      values: 0.180522472\n",
       "      values: -2.4701294e-005\n",
       "      values: 0.180553824\n",
       "      values: 0.180488899\n",
       "      values: 0.361087948\n",
       "      values: -2.28799872e-005\n",
       "      values: -0.000158874725\n",
       "      values: 0.541501164\n",
       "      values: 0.180490583\n",
       "      values: 9.44005587e-005\n",
       "      values: 0.541436672\n",
       "      values: -8.53484235e-005\n",
       "      values: 0.180487275\n",
       "      values: 0.360923886\n",
       "      values: 0.180420578\n",
       "      values: 0.180435285\n",
       "      values: 1.48455629e-005\n",
       "      values: 0.360919446\n",
       "      values: 5.25337236e-005\n",
       "      values: 0.180496529\n",
       "      values: 0.541544259\n",
       "      values: 7.89733385e-005\n",
       "      values: 0.180510089\n",
       "      values: 0.3609716\n",
       "      values: 0.180563897\n",
       "      values: -7.14274393e-006\n",
       "      values: 0.541649461\n",
       "      values: 0.180537418\n",
       "      values: 0.360967368\n",
       "      values: 0.361063093\n",
       "      values: 3.95568441e-006\n",
       "      values: 0.541555643\n",
       "      values: 0.541472316\n",
       "      values: -6.97793439e-005\n",
       "      values: 0.541533411\n",
       "      values: 0.361041844\n",
       "      values: 0.180529654\n",
       "      values: 0.360885143\n",
       "      values: 0.541497111\n",
       "      values: 0.180487618\n",
       "      values: 1.28358652e-005\n",
       "      values: -5.65789305e-005\n",
       "      values: 0.360953867\n",
       "      values: 0.180560574\n",
       "      values: 0.180615798\n",
       "      values: 0.361081362\n",
       "      values: 0.18040663\n",
       "      values: -2.62168014e-005\n",
       "      values: 0.541526735\n",
       "      values: -5.80319902e-005\n",
       "      values: 0.180435121\n",
       "      values: 0.541554093\n",
       "      values: 0.360913038\n",
       "      values: 5.63940157e-005\n",
       "      values: 0.360977978\n",
       "      values: 0.54145503\n",
       "      values: 0.180398583\n",
       "      values: 0.360798508\n",
       "      values: 0.541579366\n",
       "      values: -1.15873063e-005\n",
       "      values: 0.541453958\n",
       "      values: 0.360971063\n",
       "      values: 0.180490524\n",
       "      values: 0.541446686\n",
       "      values: 1.85172412e-005\n",
       "      values: 0.360958368\n",
       "      values: 0.360977501\n",
       "      values: 0.180577591\n",
       "      values: 0.541521072\n",
       "      values: 0.361136883\n",
       "      values: 0.180443242\n",
       "      values: 0.360989183\n",
       "      values: 0.541458547\n",
       "      values: 0.000127856576\n",
       "      values: 0.54152447\n",
       "      values: 0.541487\n",
       "      values: 0.361068428\n",
       "      values: 0.361038029\n",
       "      values: 0.360974282\n",
       "      values: 0.541438937\n",
       "      values: 0.541541874\n",
       "      values: 0.361018956\n",
       "      values: 0.54158926\n",
       "      values: 0.36091733\n",
       "      values: 0.541396856\n",
       "      values: 0.361016721\n",
       "      values: 0.541506529\n",
       "      values: 0.541540623\n",
       "    }\n",
       "  }\n",
       "}\n",
       "arrays {\n",
       "  key: \"particle.names\"\n",
       "  value {\n",
       "    string_values {\n",
       "      values: \"0\"\n",
       "      values: \"1\"\n",
       "      values: \"2\"\n",
       "      values: \"3\"\n",
       "      values: \"4\"\n",
       "      values: \"5\"\n",
       "      values: \"6\"\n",
       "      values: \"7\"\n",
       "      values: \"8\"\n",
       "      values: \"9\"\n",
       "      values: \"10\"\n",
       "      values: \"11\"\n",
       "      values: \"12\"\n",
       "      values: \"13\"\n",
       "      values: \"14\"\n",
       "      values: \"15\"\n",
       "      values: \"16\"\n",
       "      values: \"17\"\n",
       "      values: \"18\"\n",
       "      values: \"19\"\n",
       "      values: \"20\"\n",
       "      values: \"21\"\n",
       "      values: \"22\"\n",
       "      values: \"23\"\n",
       "      values: \"24\"\n",
       "      values: \"25\"\n",
       "      values: \"26\"\n",
       "      values: \"27\"\n",
       "      values: \"28\"\n",
       "      values: \"29\"\n",
       "      values: \"30\"\n",
       "      values: \"31\"\n",
       "    }\n",
       "  }\n",
       "}\n",
       "arrays {\n",
       "  key: \"particle.elements\"\n",
       "  value {\n",
       "    index_values {\n",
       "      values: 29\n",
       "      values: 29\n",
       "      values: 29\n",
       "      values: 29\n",
       "      values: 29\n",
       "      values: 29\n",
       "      values: 29\n",
       "      values: 29\n",
       "      values: 29\n",
       "      values: 29\n",
       "      values: 29\n",
       "      values: 29\n",
       "      values: 29\n",
       "      values: 29\n",
       "      values: 29\n",
       "      values: 29\n",
       "      values: 29\n",
       "      values: 29\n",
       "      values: 29\n",
       "      values: 29\n",
       "      values: 29\n",
       "      values: 29\n",
       "      values: 29\n",
       "      values: 29\n",
       "      values: 29\n",
       "      values: 29\n",
       "      values: 29\n",
       "      values: 29\n",
       "      values: 29\n",
       "      values: 29\n",
       "      values: 29\n",
       "      values: 29\n",
       "    }\n",
       "  }\n",
       "}\n",
       "arrays {\n",
       "  key: \"chain.names\"\n",
       "  value {\n",
       "    string_values {\n",
       "      values: \"A\"\n",
       "    }\n",
       "  }\n",
       "}\n",
       "arrays {\n",
       "  key: \"bond.pairs\"\n",
       "  value {\n",
       "    index_values {\n",
       "    }\n",
       "  }\n",
       "}"
      ]
     },
     "execution_count": 23,
     "metadata": {},
     "output_type": "execute_result"
    }
   ],
   "source": [
    "# view the latest frame\n",
    "client.latest_frame.raw"
   ]
  },
  {
   "cell_type": "markdown",
   "metadata": {},
   "source": [
    "Now, let's visualize the frame directly with ASE. First we convert the frame back into ASE atoms, and view it. The first frame received by a client always has the topology information"
   ]
  },
  {
   "cell_type": "code",
   "execution_count": 24,
   "metadata": {
    "pycharm": {
     "is_executing": false
    }
   },
   "outputs": [],
   "source": [
    "from nanover.ase.converter import frame_data_to_ase\n",
    "atoms = frame_data_to_ase(client.first_frame, topology=True, positions=False)"
   ]
  },
  {
   "cell_type": "markdown",
   "metadata": {},
   "source": [
    "We can run this to update the latest positions from the frame (note that NanoVer uses **nanometers** for positions. [Why??](http://docs.openmm.org/6.2.0/userguide/theory.html#units))"
   ]
  },
  {
   "cell_type": "code",
   "execution_count": 25,
   "metadata": {
    "pycharm": {
     "is_executing": false
    }
   },
   "outputs": [],
   "source": [
    "import numpy as np\n",
    "# set the positions to match the latest frame data\n",
    "atoms.set_positions(np.array(client.latest_frame.particle_positions) * 10)"
   ]
  },
  {
   "cell_type": "markdown",
   "metadata": {},
   "source": [
    "ASE has a cool little 2D visualizer"
   ]
  },
  {
   "cell_type": "code",
   "execution_count": 26,
   "metadata": {
    "pycharm": {
     "is_executing": false
    }
   },
   "outputs": [
    {
     "data": {
      "text/plain": [
       "<Popen: returncode: None args: ['C:\\\\Users\\\\ragzo\\\\anaconda3\\\\envs\\\\nanover-...>"
      ]
     },
     "execution_count": 26,
     "metadata": {},
     "output_type": "execute_result"
    }
   ],
   "source": [
    "from ase.visualize import view\n",
    "view(atoms)"
   ]
  },
  {
   "cell_type": "markdown",
   "metadata": {},
   "source": [
    "And a 3D visualizer! (Check your browser)"
   ]
  },
  {
   "cell_type": "code",
   "execution_count": 27,
   "metadata": {
    "pycharm": {
     "is_executing": false
    }
   },
   "outputs": [
    {
     "data": {
      "text/html": [
       "<html>\n",
       "    <head>\n",
       "        <title>ASE atomic visualization</title>\n",
       "        <link rel=\"stylesheet\" type=\"text/css\"             href=\"https://www.x3dom.org/release/x3dom.css\"></link>\n",
       "        <script type=\"text/javascript\"             src=\"https://www.x3dom.org/release/x3dom.js\"></script>\n",
       "    </head>\n",
       "    <body>\n",
       "        <X3D width=\"400px\"; height=\"300px\";>\n",
       "\n",
       "<!--Inserting Generated X3D Scene-->\n",
       "<scene>\n",
       "  <viewpoint position=\"0 0 10.833045064646285\">\n",
       "    <group/>\n",
       "  </viewpoint>\n",
       "  <transform translation=\"-0.0 -0.0 -0.0\">\n",
       "    <group>\n",
       "      <group>\n",
       "        <transform translation=\"0 0 0\">\n",
       "          <shape>\n",
       "            <appearance>\n",
       "              <material diffuseColor=\"0 0 0\"/>\n",
       "            </appearance>\n",
       "            <lineset vertexCount=\"5\">\n",
       "              <coordinate point=\"0 0 0 0.0 0.0 0.0 0.0 0.0 0.0 0.0 0.0 0.0 0 0 0\"/>\n",
       "            </lineset>\n",
       "          </shape>\n",
       "        </transform>\n",
       "        <transform translation=\"0.0 0.0 0.0\">\n",
       "          <shape>\n",
       "            <appearance>\n",
       "              <material diffuseColor=\"0 0 0\"/>\n",
       "            </appearance>\n",
       "            <lineset vertexCount=\"5\">\n",
       "              <coordinate point=\"0 0 0 0.0 0.0 0.0 0.0 0.0 0.0 0.0 0.0 0.0 0 0 0\"/>\n",
       "            </lineset>\n",
       "          </shape>\n",
       "        </transform>\n",
       "        <transform translation=\"0 0 0\">\n",
       "          <shape>\n",
       "            <appearance>\n",
       "              <material diffuseColor=\"0 0 0\"/>\n",
       "            </appearance>\n",
       "            <lineset vertexCount=\"5\">\n",
       "              <coordinate point=\"0 0 0 0.0 0.0 0.0 0.0 0.0 0.0 0.0 0.0 0.0 0 0 0\"/>\n",
       "            </lineset>\n",
       "          </shape>\n",
       "        </transform>\n",
       "        <transform translation=\"0.0 0.0 0.0\">\n",
       "          <shape>\n",
       "            <appearance>\n",
       "              <material diffuseColor=\"0 0 0\"/>\n",
       "            </appearance>\n",
       "            <lineset vertexCount=\"5\">\n",
       "              <coordinate point=\"0 0 0 0.0 0.0 0.0 0.0 0.0 0.0 0.0 0.0 0.0 0 0 0\"/>\n",
       "            </lineset>\n",
       "          </shape>\n",
       "        </transform>\n",
       "      </group>\n",
       "      <group>\n",
       "        <transform translation=\"0.00020377679902594537 -0.0010394152195658535 0.00027753470931202173\">\n",
       "          <shape>\n",
       "            <appearance>\n",
       "              <material diffuseColor=\"0.784 0.502 0.2\"/>\n",
       "            </appearance>\n",
       "            <sphere radius=\"1.32\"/>\n",
       "          </shape>\n",
       "        </transform>\n",
       "        <transform translation=\"1.8053951859474182 1.8044064939022064 -0.0004313778117648326\">\n",
       "          <shape>\n",
       "            <appearance>\n",
       "              <material diffuseColor=\"0.784 0.502 0.2\"/>\n",
       "            </appearance>\n",
       "            <sphere radius=\"1.32\"/>\n",
       "          </shape>\n",
       "        </transform>\n",
       "        <transform translation=\"1.8051910400390625 0.0009328301530331373 1.8050232529640198\">\n",
       "          <shape>\n",
       "            <appearance>\n",
       "              <material diffuseColor=\"0.784 0.502 0.2\"/>\n",
       "            </appearance>\n",
       "            <sphere radius=\"1.32\"/>\n",
       "          </shape>\n",
       "        </transform>\n",
       "        <transform translation=\"-7.539299986092374e-05 1.8043559789657593 1.8048670887947083\">\n",
       "          <shape>\n",
       "            <appearance>\n",
       "              <material diffuseColor=\"0.784 0.502 0.2\"/>\n",
       "            </appearance>\n",
       "            <sphere radius=\"1.32\"/>\n",
       "          </shape>\n",
       "        </transform>\n",
       "        <transform translation=\"3.6088618636131287 0.00027728761779144406 0.0007903429650468752\">\n",
       "          <shape>\n",
       "            <appearance>\n",
       "              <material diffuseColor=\"0.784 0.502 0.2\"/>\n",
       "            </appearance>\n",
       "            <sphere radius=\"1.32\"/>\n",
       "          </shape>\n",
       "        </transform>\n",
       "        <transform translation=\"5.414518713951111 1.8049892783164978 -0.00028589656722033396\">\n",
       "          <shape>\n",
       "            <appearance>\n",
       "              <material diffuseColor=\"0.784 0.502 0.2\"/>\n",
       "            </appearance>\n",
       "            <sphere radius=\"1.32\"/>\n",
       "          </shape>\n",
       "        </transform>\n",
       "        <transform translation=\"5.414688587188721 0.00036300083593232557 1.8051299452781677\">\n",
       "          <shape>\n",
       "            <appearance>\n",
       "              <material diffuseColor=\"0.784 0.502 0.2\"/>\n",
       "            </appearance>\n",
       "            <sphere radius=\"1.32\"/>\n",
       "          </shape>\n",
       "        </transform>\n",
       "        <transform translation=\"3.6108356714248657 1.804242879152298 1.8049082159996033\">\n",
       "          <shape>\n",
       "            <appearance>\n",
       "              <material diffuseColor=\"0.784 0.502 0.2\"/>\n",
       "            </appearance>\n",
       "            <sphere radius=\"1.32\"/>\n",
       "          </shape>\n",
       "        </transform>\n",
       "        <transform translation=\"-0.0007029356493148953 3.609340190887451 -0.0006761805707355961\">\n",
       "          <shape>\n",
       "            <appearance>\n",
       "              <material diffuseColor=\"0.784 0.502 0.2\"/>\n",
       "            </appearance>\n",
       "            <sphere radius=\"1.32\"/>\n",
       "          </shape>\n",
       "        </transform>\n",
       "        <transform translation=\"1.8045927584171295 5.414950251579285 -0.0005633430555462837\">\n",
       "          <shape>\n",
       "            <appearance>\n",
       "              <material diffuseColor=\"0.784 0.502 0.2\"/>\n",
       "            </appearance>\n",
       "            <sphere radius=\"1.32\"/>\n",
       "          </shape>\n",
       "        </transform>\n",
       "        <transform translation=\"1.8061274290084839 3.6096224188804626 1.804252713918686\">\n",
       "          <shape>\n",
       "            <appearance>\n",
       "              <material diffuseColor=\"0.784 0.502 0.2\"/>\n",
       "            </appearance>\n",
       "            <sphere radius=\"1.32\"/>\n",
       "          </shape>\n",
       "        </transform>\n",
       "        <transform translation=\"0.00030052591682760976 5.414289832115173 1.8050439655780792\">\n",
       "          <shape>\n",
       "            <appearance>\n",
       "              <material diffuseColor=\"0.784 0.502 0.2\"/>\n",
       "            </appearance>\n",
       "            <sphere radius=\"1.32\"/>\n",
       "          </shape>\n",
       "        </transform>\n",
       "        <transform translation=\"3.6099112033843994 3.6101317405700684 -0.00042851093894569203\">\n",
       "          <shape>\n",
       "            <appearance>\n",
       "              <material diffuseColor=\"0.784 0.502 0.2\"/>\n",
       "            </appearance>\n",
       "            <sphere radius=\"1.32\"/>\n",
       "          </shape>\n",
       "        </transform>\n",
       "        <transform translation=\"5.414885878562927 5.414305925369263 0.0005703108399757184\">\n",
       "          <shape>\n",
       "            <appearance>\n",
       "              <material diffuseColor=\"0.784 0.502 0.2\"/>\n",
       "            </appearance>\n",
       "            <sphere radius=\"1.32\"/>\n",
       "          </shape>\n",
       "        </transform>\n",
       "        <transform translation=\"5.414223670959473 3.609420955181122 1.8048050999641418\">\n",
       "          <shape>\n",
       "            <appearance>\n",
       "              <material diffuseColor=\"0.784 0.502 0.2\"/>\n",
       "            </appearance>\n",
       "            <sphere radius=\"1.32\"/>\n",
       "          </shape>\n",
       "        </transform>\n",
       "        <transform translation=\"3.6094725131988525 5.41429877281189 1.8054114282131195\">\n",
       "          <shape>\n",
       "            <appearance>\n",
       "              <material diffuseColor=\"0.784 0.502 0.2\"/>\n",
       "            </appearance>\n",
       "            <sphere radius=\"1.32\"/>\n",
       "          </shape>\n",
       "        </transform>\n",
       "        <transform translation=\"-2.9134398573660292e-05 0.0009438022243557498 3.610520660877228\">\n",
       "          <shape>\n",
       "            <appearance>\n",
       "              <material diffuseColor=\"0.784 0.502 0.2\"/>\n",
       "            </appearance>\n",
       "            <sphere radius=\"1.32\"/>\n",
       "          </shape>\n",
       "        </transform>\n",
       "        <transform translation=\"1.805751621723175 1.8060244619846344 3.6099067330360413\">\n",
       "          <shape>\n",
       "            <appearance>\n",
       "              <material diffuseColor=\"0.784 0.502 0.2\"/>\n",
       "            </appearance>\n",
       "            <sphere radius=\"1.32\"/>\n",
       "          </shape>\n",
       "        </transform>\n",
       "        <transform translation=\"1.8035756051540375 0.001037086985888891 5.415383577346802\">\n",
       "          <shape>\n",
       "            <appearance>\n",
       "              <material diffuseColor=\"0.784 0.502 0.2\"/>\n",
       "            </appearance>\n",
       "            <sphere radius=\"1.32\"/>\n",
       "          </shape>\n",
       "        </transform>\n",
       "        <transform translation=\"-4.765435733133927e-05 1.8052630126476288 5.415253639221191\">\n",
       "          <shape>\n",
       "            <appearance>\n",
       "              <material diffuseColor=\"0.784 0.502 0.2\"/>\n",
       "            </appearance>\n",
       "            <sphere radius=\"1.32\"/>\n",
       "          </shape>\n",
       "        </transform>\n",
       "        <transform translation=\"3.6095571517944336 0.0002499628135410603 3.6093953251838684\">\n",
       "          <shape>\n",
       "            <appearance>\n",
       "              <material diffuseColor=\"0.784 0.502 0.2\"/>\n",
       "            </appearance>\n",
       "            <sphere radius=\"1.32\"/>\n",
       "          </shape>\n",
       "        </transform>\n",
       "        <transform translation=\"5.415580868721008 1.8047213554382324 3.6101344227790833\">\n",
       "          <shape>\n",
       "            <appearance>\n",
       "              <material diffuseColor=\"0.784 0.502 0.2\"/>\n",
       "            </appearance>\n",
       "            <sphere radius=\"1.32\"/>\n",
       "          </shape>\n",
       "        </transform>\n",
       "        <transform translation=\"5.413870811462402 -0.0004642517160391435 5.4153478145599365\">\n",
       "          <shape>\n",
       "            <appearance>\n",
       "              <material diffuseColor=\"0.784 0.502 0.2\"/>\n",
       "            </appearance>\n",
       "            <sphere radius=\"1.32\"/>\n",
       "          </shape>\n",
       "        </transform>\n",
       "        <transform translation=\"3.610529899597168 1.8049056828022003 5.414828658103943\">\n",
       "          <shape>\n",
       "            <appearance>\n",
       "              <material diffuseColor=\"0.784 0.502 0.2\"/>\n",
       "            </appearance>\n",
       "            <sphere radius=\"1.32\"/>\n",
       "          </shape>\n",
       "        </transform>\n",
       "        <transform translation=\"0.0004972111855749972 3.6097225546836853 3.610210120677948\">\n",
       "          <shape>\n",
       "            <appearance>\n",
       "              <material diffuseColor=\"0.784 0.502 0.2\"/>\n",
       "            </appearance>\n",
       "            <sphere radius=\"1.32\"/>\n",
       "          </shape>\n",
       "        </transform>\n",
       "        <transform translation=\"1.8052391707897186 5.415483117103577 3.609595000743866\">\n",
       "          <shape>\n",
       "            <appearance>\n",
       "              <material diffuseColor=\"0.784 0.502 0.2\"/>\n",
       "            </appearance>\n",
       "            <sphere radius=\"1.32\"/>\n",
       "          </shape>\n",
       "        </transform>\n",
       "        <transform translation=\"1.8051962554454803 3.610122501850128 5.415703058242798\">\n",
       "          <shape>\n",
       "            <appearance>\n",
       "              <material diffuseColor=\"0.784 0.502 0.2\"/>\n",
       "            </appearance>\n",
       "            <sphere radius=\"1.32\"/>\n",
       "          </shape>\n",
       "        </transform>\n",
       "        <transform translation=\"0.0005371398947318085 5.414834022521973 5.414416193962097\">\n",
       "          <shape>\n",
       "            <appearance>\n",
       "              <material diffuseColor=\"0.784 0.502 0.2\"/>\n",
       "            </appearance>\n",
       "            <sphere radius=\"1.32\"/>\n",
       "          </shape>\n",
       "        </transform>\n",
       "        <transform translation=\"3.6107566952705383 3.6101266741752625 3.610577881336212\">\n",
       "          <shape>\n",
       "            <appearance>\n",
       "              <material diffuseColor=\"0.784 0.502 0.2\"/>\n",
       "            </appearance>\n",
       "            <sphere radius=\"1.32\"/>\n",
       "          </shape>\n",
       "        </transform>\n",
       "        <transform translation=\"5.415417551994324 5.415234565734863 3.6100023984909058\">\n",
       "          <shape>\n",
       "            <appearance>\n",
       "              <material diffuseColor=\"0.784 0.502 0.2\"/>\n",
       "            </appearance>\n",
       "            <sphere radius=\"1.32\"/>\n",
       "          </shape>\n",
       "        </transform>\n",
       "        <transform translation=\"5.414747595787048 3.6111679673194885 5.414146184921265\">\n",
       "          <shape>\n",
       "            <appearance>\n",
       "              <material diffuseColor=\"0.784 0.502 0.2\"/>\n",
       "            </appearance>\n",
       "            <sphere radius=\"1.32\"/>\n",
       "          </shape>\n",
       "        </transform>\n",
       "        <transform translation=\"3.6101076006889343 5.4153358936309814 5.415645241737366\">\n",
       "          <shape>\n",
       "            <appearance>\n",
       "              <material diffuseColor=\"0.784 0.502 0.2\"/>\n",
       "            </appearance>\n",
       "            <sphere radius=\"1.32\"/>\n",
       "          </shape>\n",
       "        </transform>\n",
       "      </group>\n",
       "    </group>\n",
       "  </transform>\n",
       "</scene>\n",
       "<!--End of Inserted Scene-->\n",
       "\n",
       "        </X3D>\n",
       "    </body>\n",
       "</html>\n",
       "\n"
      ],
      "text/plain": [
       "<IPython.core.display.HTML object>"
      ]
     },
     "execution_count": 27,
     "metadata": {},
     "output_type": "execute_result"
    }
   ],
   "source": [
    "view(atoms, viewer='x3d')"
   ]
  },
  {
   "cell_type": "markdown",
   "metadata": {},
   "source": [
    "# Gracefully terminate!!"
   ]
  },
  {
   "cell_type": "markdown",
   "metadata": {},
   "source": [
    "It is very important to close your servers, otherwise they'll get in the way by blocking ports, and your clients may autoconnect to the wrong server!"
   ]
  },
  {
   "cell_type": "code",
   "execution_count": 28,
   "metadata": {
    "pycharm": {
     "is_executing": false
    }
   },
   "outputs": [],
   "source": [
    "runner.close()"
   ]
  },
  {
   "cell_type": "markdown",
   "metadata": {
    "pycharm": {
     "is_executing": false
    }
   },
   "source": [
    "Note that outside of a notebook, you can use `with` statements to let NanoVer clean up after itself:"
   ]
  },
  {
   "cell_type": "code",
   "execution_count": 30,
   "metadata": {
    "pycharm": {
     "is_executing": false
    }
   },
   "outputs": [],
   "source": [
    "with OmniRunner.with_basic_server(ASESimulation.from_dynamics(dyn), port=0) as runner:\n",
    "    runner.next()"
   ]
  },
  {
   "cell_type": "markdown",
   "metadata": {
    "pycharm": {
     "is_executing": false
    }
   },
   "source": [
    "# Next Steps\n",
    "\n",
    "This notebook showed a toy example with ASE. \n",
    "\n",
    "* Run bigger molecular mechanics simulations with OpenMM. The [nanotube](./ase_openmm_nanotube.ipynb) and [neuraminidase](./ase_openmm_neuraminidase.ipynb) examples show how to set up simulations with OpenMM.\n",
    "* To understand what's going on under the hood, consider starting with the [NanoVer frame explained](../fundamentals/frame.ipynb) example. "
   ]
  }
 ],
 "metadata": {
  "kernelspec": {
   "display_name": "Python 3 (ipykernel)",
   "language": "python",
   "name": "python3"
  },
  "language_info": {
   "codemirror_mode": {
    "name": "ipython",
    "version": 3
   },
   "file_extension": ".py",
   "mimetype": "text/x-python",
   "name": "python",
   "nbconvert_exporter": "python",
   "pygments_lexer": "ipython3",
   "version": "3.12.0"
  },
  "pycharm": {
   "stem_cell": {
    "cell_type": "raw",
    "metadata": {
     "collapsed": false
    },
    "source": []
   }
  }
 },
 "nbformat": 4,
 "nbformat_minor": 4
}
