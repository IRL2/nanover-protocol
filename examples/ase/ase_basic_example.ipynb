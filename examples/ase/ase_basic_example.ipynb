{
 "cells": [
  {
   "cell_type": "markdown",
   "metadata": {},
   "source": [
    "# NanoVer ASE Client / Server Example"
   ]
  },
  {
   "cell_type": "markdown",
   "metadata": {},
   "source": [
    "This notebook demonstrates how to set up a molecular simulation with ASE and combine it with NanoVer to run an interactive molecular dynamics (iMD) simulation. \n",
    "We then connect to the simulation from a client, so we can look at the data being produced and visualize it.\n",
    "\n",
    "\n",
    "**Note**: This example demonstrates running iMD simulations using ASE via NanoVer. For tutorials that demonstrate the different ways to interface ASE with OpenMM via NanoVer, check out the tutorials in this directory prefixed with `ase_openmm`."
   ]
  },
  {
   "cell_type": "markdown",
   "metadata": {},
   "source": [
    "## Set up an ASE simulation"
   ]
  },
  {
   "cell_type": "markdown",
   "metadata": {},
   "source": [
    "First, we set up an ASE simulation. We're going to do a simple lattice of copper particles under an EMT potential, but you can use [any supported calculator](https://wiki.fysik.dtu.dk/ase/ase/calculators/calculators.html#module-ase.calculators)!"
   ]
  },
  {
   "cell_type": "code",
   "metadata": {
    "pycharm": {
     "is_executing": false
    },
    "ExecuteTime": {
     "end_time": "2024-10-22T14:18:07.749267Z",
     "start_time": "2024-10-22T14:18:07.638160Z"
    }
   },
   "source": [
    "from ase import units\n",
    "from ase.calculators.emt import EMT\n",
    "from ase.lattice.cubic import FaceCenteredCubic\n",
    "from ase.md import Langevin\n",
    "from ase.md.velocitydistribution import MaxwellBoltzmannDistribution"
   ],
   "outputs": [],
   "execution_count": 1
  },
  {
   "cell_type": "code",
   "metadata": {
    "pycharm": {
     "is_executing": false
    },
    "ExecuteTime": {
     "end_time": "2024-10-22T14:18:07.754630Z",
     "start_time": "2024-10-22T14:18:07.751558Z"
    }
   },
   "source": [
    "size = 2\n",
    "# Set up a crystal\n",
    "atoms = FaceCenteredCubic(directions=[[1, 0, 0], [0, 1, 0], [0, 0, 1]],\n",
    "                          symbol=\"Cu\",\n",
    "                          size=(size, size, size),\n",
    "                          pbc=True)\n",
    "# Describe the interatomic interactions with Effective Medium Theory\n",
    "atoms.calc = EMT()\n",
    "# Set the atomic momenta to 300 Kelvin. \n",
    "MaxwellBoltzmannDistribution(atoms, temperature_K=300)"
   ],
   "outputs": [],
   "execution_count": 2
  },
  {
   "cell_type": "markdown",
   "metadata": {},
   "source": "Next we need to define the component of the molecular dynamics simulation that performs the numerical integration of the equations of motion. We're going to run Langevin dynamics at room temperature:"
  },
  {
   "cell_type": "code",
   "metadata": {
    "pycharm": {
     "is_executing": false
    },
    "ExecuteTime": {
     "end_time": "2024-10-22T14:18:09.633559Z",
     "start_time": "2024-10-22T14:18:09.630717Z"
    }
   },
   "source": "dyn = Langevin(atoms, timestep=1 * units.fs, temperature_K=300, friction=0.5)",
   "outputs": [],
   "execution_count": 3
  },
  {
   "cell_type": "markdown",
   "metadata": {},
   "source": [
    "Let's check the dynamics are working by running one simulation step and checking the potential energy.\n",
    "\n",
    "**WARNING**: when accessing data via the `dyn` object, the values we retrieve are in the *units used internally by ASE*. *These units **differ** from those of NanoVer*, so bear this in mind when examining data this way!"
   ]
  },
  {
   "cell_type": "code",
   "metadata": {
    "pycharm": {
     "is_executing": false
    },
    "ExecuteTime": {
     "end_time": "2024-10-22T14:18:11.188884Z",
     "start_time": "2024-10-22T14:18:11.136433Z"
    }
   },
   "source": [
    "dyn.run(steps = 1)\n",
    "dyn.get_number_of_steps()"
   ],
   "outputs": [
    {
     "data": {
      "text/plain": [
       "1"
      ]
     },
     "execution_count": 4,
     "metadata": {},
     "output_type": "execute_result"
    }
   ],
   "execution_count": 4
  },
  {
   "cell_type": "code",
   "metadata": {
    "pycharm": {
     "is_executing": false
    },
    "ExecuteTime": {
     "end_time": "2024-10-22T14:18:12.642111Z",
     "start_time": "2024-10-22T14:18:12.638275Z"
    }
   },
   "source": [
    "# Note that this is the energy in eV, not kJ mol-1 (the standard units of ASE are different to those of OpenMM and NanoVer)\n",
    "dyn.atoms.get_potential_energy()"
   ],
   "outputs": [
    {
     "data": {
      "text/plain": [
       "0.02585199101165164"
      ]
     },
     "execution_count": 5,
     "metadata": {},
     "output_type": "execute_result"
    }
   ],
   "execution_count": 5
  },
  {
   "metadata": {},
   "cell_type": "markdown",
   "source": "Now let's import the `ASESimulation` class: this allows us to pass our ASE molecular dynamics simulation to NanoVer to run an iMD simulation. We can define our `ASESimulation` from the dynamics object we created above, as follows:"
  },
  {
   "cell_type": "code",
   "metadata": {
    "ExecuteTime": {
     "end_time": "2024-10-22T14:18:17.564561Z",
     "start_time": "2024-10-22T14:18:17.483100Z"
    }
   },
   "source": [
    "from nanover.omni.ase import ASESimulation\n",
    "\n",
    "ase_sim = ASESimulation.from_ase_dynamics(dyn)"
   ],
   "outputs": [],
   "execution_count": 6
  },
  {
   "cell_type": "markdown",
   "metadata": {},
   "source": [
    "Let's run a couple of steps to check that everything is still working. \n",
    "\n",
    "**NOTE**: the commands below still run the ASE MD simulation directly, (i.e. *NOT* using NanoVer and thus not running an iMD simulation), and the data is still being accessed via the dynamics object defined previously (i.e. `ase_sim.dynamics = dyn`, see above). "
   ]
  },
  {
   "cell_type": "code",
   "metadata": {
    "pycharm": {
     "is_executing": false
    },
    "ExecuteTime": {
     "end_time": "2024-10-22T14:18:20.395932Z",
     "start_time": "2024-10-22T14:18:20.226273Z"
    }
   },
   "source": [
    "ase_sim.dynamics.run(10)\n",
    "ase_sim.dynamics.nsteps"
   ],
   "outputs": [
    {
     "data": {
      "text/plain": [
       "11"
      ]
     },
     "execution_count": 7,
     "metadata": {},
     "output_type": "execute_result"
    }
   ],
   "execution_count": 7
  },
  {
   "cell_type": "code",
   "metadata": {
    "ExecuteTime": {
     "end_time": "2024-10-22T14:18:21.498100Z",
     "start_time": "2024-10-22T14:18:21.494489Z"
    }
   },
   "source": "ase_sim.dynamics.atoms.get_potential_energy()",
   "outputs": [
    {
     "data": {
      "text/plain": [
       "-0.038808466184859114"
      ]
     },
     "execution_count": 8,
     "metadata": {},
     "output_type": "execute_result"
    }
   ],
   "execution_count": 8
  },
  {
   "metadata": {},
   "cell_type": "markdown",
   "source": "Great! Everything's working with the `ASESimulation`. Let's turn our attention to setting up the server and running an iMD simulation."
  },
  {
   "cell_type": "markdown",
   "metadata": {},
   "source": [
    "## Set up the NanoVer iMD server"
   ]
  },
  {
   "cell_type": "markdown",
   "metadata": {},
   "source": "In NanoVer we use the `OmniRunner` class to serve iMD simulations."
  },
  {
   "cell_type": "code",
   "metadata": {
    "pycharm": {
     "is_executing": false
    },
    "ExecuteTime": {
     "end_time": "2024-10-22T14:18:23.776446Z",
     "start_time": "2024-10-22T14:18:23.774064Z"
    }
   },
   "source": [
    "from nanover.omni import OmniRunner"
   ],
   "outputs": [],
   "execution_count": 9
  },
  {
   "cell_type": "markdown",
   "metadata": {},
   "source": "We set up an iMD simulation by passing the `ASESimulation` defined above to an `OmniRunner`: we set `port=0` to let the operating system pick a free port for us."
  },
  {
   "cell_type": "code",
   "metadata": {
    "pycharm": {
     "is_executing": false
    },
    "ExecuteTime": {
     "end_time": "2024-10-22T14:18:48.401896Z",
     "start_time": "2024-10-22T14:18:48.388448Z"
    }
   },
   "source": "imd_runner = OmniRunner.with_basic_server(ase_sim, port=0, name=\"ase_nanover_server\") #Try using Shift+TAB+TAB to see what you can set up here.",
   "outputs": [],
   "execution_count": 10
  },
  {
   "cell_type": "markdown",
   "metadata": {},
   "source": [
    "**Note**: Be careful if you run the above cell multiple times without running `imd_runner.close()` (see below), as you will start multiple servers, which may be discovered if you use autoconnect. You can guard against this by swapping the cell above with:\n",
    "\n",
    "```python\n",
    "try:\n",
    "    imd_runner.close()\n",
    "except NameError: # If the server hasn't been defined yet, there will be an error\n",
    "    pass\n",
    "imd_runner = OmniRunner.with_basic_server(ase_sim, port=0)\n",
    "```"
   ]
  },
  {
   "cell_type": "markdown",
   "metadata": {},
   "source": "Our server is now running and discoverable! We can see where it's running by running the following cell:"
  },
  {
   "cell_type": "code",
   "metadata": {
    "pycharm": {
     "is_executing": false
    },
    "ExecuteTime": {
     "end_time": "2024-10-22T14:18:50.333783Z",
     "start_time": "2024-10-22T14:18:50.330949Z"
    }
   },
   "source": "print(f'{imd_runner.app_server.name}: Running at {imd_runner.app_server.address}:{imd_runner.app_server.port}')",
   "outputs": [
    {
     "name": "stdout",
     "output_type": "stream",
     "text": [
      "ase_nanover_server: Running at [::]:55508\n"
     ]
    }
   ],
   "execution_count": 11
  },
  {
   "cell_type": "markdown",
   "metadata": {},
   "source": [
    "The `[::]` means it is running on all available addresses, e.g. your WiFi and cabled access, and it's found an available port"
   ]
  },
  {
   "cell_type": "markdown",
   "metadata": {},
   "source": [
    "Now, let's start the ASE simulation"
   ]
  },
  {
   "cell_type": "code",
   "metadata": {
    "ExecuteTime": {
     "end_time": "2024-10-22T14:18:51.914283Z",
     "start_time": "2024-10-22T14:18:51.900741Z"
    }
   },
   "source": "imd_runner.next()",
   "outputs": [],
   "execution_count": 12
  },
  {
   "cell_type": "code",
   "metadata": {
    "pycharm": {
     "is_executing": false
    },
    "ExecuteTime": {
     "end_time": "2024-10-22T14:18:53.443405Z",
     "start_time": "2024-10-22T14:18:53.440292Z"
    }
   },
   "source": [
    "# print the time to check dynamics is running\n",
    "print(f'Simulation time: {ase_sim.dynamics.get_time()}, ({ase_sim.dynamics.nsteps} steps)')"
   ],
   "outputs": [
    {
     "name": "stdout",
     "output_type": "stream",
     "text": [
      "Simulation time: 4.61666655057811, (47 steps)\n"
     ]
    }
   ],
   "execution_count": 13
  },
  {
   "cell_type": "markdown",
   "metadata": {},
   "source": "Ok, it's working, so let's leave it running dynamics in a background thread. This is what happens by default when you call `.next()`"
  },
  {
   "cell_type": "markdown",
   "metadata": {},
   "source": [
    "That's it, your simulation is running and interactive! If you connect to it from iMD-VR, you'll see something like:\n",
    "\n",
    "![NanoVer ASE EMT](./images/nanover_ase_emt.png)"
   ]
  },
  {
   "cell_type": "markdown",
   "metadata": {},
   "source": "You can also visualize it live from within a Jupyter notebook, (check out this [example with NGLView](../basics/nanover_nglview.ipynb))."
  },
  {
   "cell_type": "markdown",
   "metadata": {},
   "source": [
    "## Start an IMD client"
   ]
  },
  {
   "cell_type": "markdown",
   "metadata": {},
   "source": "Let's have a look at the data that's being produced here, by connecting a python client to the server running the simulation."
  },
  {
   "cell_type": "code",
   "metadata": {
    "pycharm": {
     "is_executing": false
    },
    "ExecuteTime": {
     "end_time": "2024-10-22T14:18:57.005418Z",
     "start_time": "2024-10-22T14:18:56.943096Z"
    }
   },
   "source": [
    "from nanover.app import NanoverImdClient\n",
    "client = NanoverImdClient.connect_to_single_server(port=imd_runner.app_server.port)"
   ],
   "outputs": [],
   "execution_count": 14
  },
  {
   "cell_type": "markdown",
   "metadata": {},
   "source": "Subscribe to the stream of frames. By default the server will try to send 30 frames per seconds—if it produces more frames, some frames will be skipped to maintain the cadence."
  },
  {
   "cell_type": "code",
   "metadata": {
    "ExecuteTime": {
     "end_time": "2024-10-22T14:18:59.055698Z",
     "start_time": "2024-10-22T14:18:59.030294Z"
    }
   },
   "source": [
    "client.subscribe_to_frames()"
   ],
   "outputs": [],
   "execution_count": 15
  },
  {
   "cell_type": "markdown",
   "metadata": {},
   "source": "Let's grab one of the frames and examine some of its values"
  },
  {
   "cell_type": "code",
   "metadata": {
    "pycharm": {
     "is_executing": false
    },
    "ExecuteTime": {
     "end_time": "2024-10-22T14:19:01.004068Z",
     "start_time": "2024-10-22T14:19:00.996126Z"
    }
   },
   "source": [
    "client.wait_until_first_frame()\n",
    "frame = client.current_frame"
   ],
   "outputs": [],
   "execution_count": 16
  },
  {
   "cell_type": "code",
   "metadata": {
    "ExecuteTime": {
     "end_time": "2024-10-22T14:19:02.021105Z",
     "start_time": "2024-10-22T14:19:02.011673Z"
    }
   },
   "source": [
    "frame.particle_count"
   ],
   "outputs": [
    {
     "data": {
      "text/plain": [
       "32"
      ]
     },
     "execution_count": 17,
     "metadata": {},
     "output_type": "execute_result"
    }
   ],
   "execution_count": 17
  },
  {
   "cell_type": "code",
   "metadata": {
    "pycharm": {
     "is_executing": false
    },
    "ExecuteTime": {
     "end_time": "2024-10-22T14:19:03.694727Z",
     "start_time": "2024-10-22T14:19:03.689968Z"
    }
   },
   "source": [
    "# Print the potential energy, here in kJ mol-1 as we are accessing it via NanoVer\n",
    "frame.potential_energy # use TAB to see what's available!"
   ],
   "outputs": [
    {
     "data": {
      "text/plain": [
       "119.54828003152164"
      ]
     },
     "execution_count": 18,
     "metadata": {},
     "output_type": "execute_result"
    }
   ],
   "execution_count": 18
  },
  {
   "cell_type": "markdown",
   "metadata": {},
   "source": [
    "See here that as we have accessed the potential energy via the frame output by NanoVer, so it is given in NanoVer's standard unit of energy, kJ/mol.\n",
    "\n",
    "We can also print out the raw underlying data that is sent from the server to a client, and see all the simulation data that is being transmitted:"
   ]
  },
  {
   "cell_type": "code",
   "metadata": {
    "pycharm": {
     "is_executing": false
    },
    "scrolled": true,
    "ExecuteTime": {
     "end_time": "2024-10-22T14:19:05.100928Z",
     "start_time": "2024-10-22T14:19:05.079493Z"
    }
   },
   "source": [
    "# view the latest frame\n",
    "client.current_frame.raw"
   ],
   "outputs": [
    {
     "data": {
      "text/plain": [
       "values {\n",
       "  key: \"system.simulation.counter\"\n",
       "  value {\n",
       "    number_value: 0\n",
       "  }\n",
       "}\n",
       "values {\n",
       "  key: \"server.timestamp\"\n",
       "  value {\n",
       "    number_value: 142445.64141025\n",
       "  }\n",
       "}\n",
       "values {\n",
       "  key: \"residue.count\"\n",
       "  value {\n",
       "    number_value: 1\n",
       "  }\n",
       "}\n",
       "values {\n",
       "  key: \"particle.count\"\n",
       "  value {\n",
       "    number_value: 32\n",
       "  }\n",
       "}\n",
       "values {\n",
       "  key: \"energy.potential\"\n",
       "  value {\n",
       "    number_value: 135.45548898665891\n",
       "  }\n",
       "}\n",
       "values {\n",
       "  key: \"energy.kinetic\"\n",
       "  value {\n",
       "    number_value: 105.77865715380986\n",
       "  }\n",
       "}\n",
       "values {\n",
       "  key: \"chain.count\"\n",
       "  value {\n",
       "    number_value: 1\n",
       "  }\n",
       "}\n",
       "arrays {\n",
       "  key: \"system.box.vectors\"\n",
       "  value {\n",
       "    float_values {\n",
       "      values: 0.722\n",
       "      values: 0\n",
       "      values: 0\n",
       "      values: 0\n",
       "      values: 0.722\n",
       "      values: 0\n",
       "      values: 0\n",
       "      values: 0\n",
       "      values: 0.722\n",
       "    }\n",
       "  }\n",
       "}\n",
       "arrays {\n",
       "  key: \"residue.names\"\n",
       "  value {\n",
       "    string_values {\n",
       "      values: \"ASE\"\n",
       "    }\n",
       "  }\n",
       "}\n",
       "arrays {\n",
       "  key: \"residue.ids\"\n",
       "  value {\n",
       "    string_values {\n",
       "      values: \"1\"\n",
       "    }\n",
       "  }\n",
       "}\n",
       "arrays {\n",
       "  key: \"residue.chains\"\n",
       "  value {\n",
       "    index_values {\n",
       "      values: 0\n",
       "    }\n",
       "  }\n",
       "}\n",
       "arrays {\n",
       "  key: \"particle.residues\"\n",
       "  value {\n",
       "    index_values {\n",
       "      values: 0\n",
       "      values: 0\n",
       "      values: 0\n",
       "      values: 0\n",
       "      values: 0\n",
       "      values: 0\n",
       "      values: 0\n",
       "      values: 0\n",
       "      values: 0\n",
       "      values: 0\n",
       "      values: 0\n",
       "      values: 0\n",
       "      values: 0\n",
       "      values: 0\n",
       "      values: 0\n",
       "      values: 0\n",
       "      values: 0\n",
       "      values: 0\n",
       "      values: 0\n",
       "      values: 0\n",
       "      values: 0\n",
       "      values: 0\n",
       "      values: 0\n",
       "      values: 0\n",
       "      values: 0\n",
       "      values: 0\n",
       "      values: 0\n",
       "      values: 0\n",
       "      values: 0\n",
       "      values: 0\n",
       "      values: 0\n",
       "      values: 0\n",
       "    }\n",
       "  }\n",
       "}\n",
       "arrays {\n",
       "  key: \"particle.positions\"\n",
       "  value {\n",
       "    float_values {\n",
       "      values: -0.0133140981\n",
       "      values: -0.00766365137\n",
       "      values: -0.0104424926\n",
       "      values: 0.179153115\n",
       "      values: 0.176403657\n",
       "      values: -0.0134923551\n",
       "      values: 0.171155185\n",
       "      values: -0.00858240668\n",
       "      values: 0.178848684\n",
       "      values: 0.00273266225\n",
       "      values: 0.181012541\n",
       "      values: 0.17874825\n",
       "      values: 0.366316348\n",
       "      values: 0.00643992331\n",
       "      values: -0.00141748867\n",
       "      values: 0.54726094\n",
       "      values: 0.184739783\n",
       "      values: -0.00710130297\n",
       "      values: 0.545588255\n",
       "      values: 0.0141852619\n",
       "      values: 0.176963776\n",
       "      values: 0.341915965\n",
       "      values: 0.175071254\n",
       "      values: 0.179079801\n",
       "      values: -0.00350318127\n",
       "      values: 0.369710326\n",
       "      values: 0.00202661636\n",
       "      values: 0.181517228\n",
       "      values: 0.548425376\n",
       "      values: 0.00900510792\n",
       "      values: 0.190544471\n",
       "      values: 0.366914839\n",
       "      values: 0.178774521\n",
       "      values: 0.00440142024\n",
       "      values: 0.553927302\n",
       "      values: 0.171775684\n",
       "      values: 0.364547968\n",
       "      values: 0.361045539\n",
       "      values: 0.00118278409\n",
       "      values: 0.535368\n",
       "      values: 0.536587179\n",
       "      values: 0.0107315313\n",
       "      values: 0.531056702\n",
       "      values: 0.354211539\n",
       "      values: 0.176612183\n",
       "      values: 0.361485124\n",
       "      values: 0.548688293\n",
       "      values: 0.196089834\n",
       "      values: 0.0107216118\n",
       "      values: -0.0105181905\n",
       "      values: 0.364526421\n",
       "      values: 0.182667702\n",
       "      values: 0.181639344\n",
       "      values: 0.347895473\n",
       "      values: 0.174884602\n",
       "      values: 0.00093098561\n",
       "      values: 0.542361081\n",
       "      values: 0.0105485553\n",
       "      values: 0.1714347\n",
       "      values: 0.538261652\n",
       "      values: 0.360256135\n",
       "      values: 0.0134647423\n",
       "      values: 0.360356927\n",
       "      values: 0.549165249\n",
       "      values: 0.169022441\n",
       "      values: 0.371956766\n",
       "      values: 0.534279048\n",
       "      values: -0.00378586934\n",
       "      values: 0.551949143\n",
       "      values: 0.362706631\n",
       "      values: 0.193328977\n",
       "      values: 0.538634181\n",
       "      values: -0.00305899535\n",
       "      values: 0.36215505\n",
       "      values: 0.353945\n",
       "      values: 0.17903614\n",
       "      values: 0.536572695\n",
       "      values: 0.363334745\n",
       "      values: 0.164779693\n",
       "      values: 0.364519358\n",
       "      values: 0.54593271\n",
       "      values: -0.00599109242\n",
       "      values: 0.532963336\n",
       "      values: 0.541601\n",
       "      values: 0.368180722\n",
       "      values: 0.346316367\n",
       "      values: 0.35605374\n",
       "      values: 0.54341352\n",
       "      values: 0.551780164\n",
       "      values: 0.373202085\n",
       "      values: 0.551153481\n",
       "      values: 0.361339658\n",
       "      values: 0.544141471\n",
       "      values: 0.364913553\n",
       "      values: 0.537256181\n",
       "      values: 0.535757899\n",
       "    }\n",
       "  }\n",
       "}\n",
       "arrays {\n",
       "  key: \"particle.names\"\n",
       "  value {\n",
       "    string_values {\n",
       "      values: \"0\"\n",
       "      values: \"1\"\n",
       "      values: \"2\"\n",
       "      values: \"3\"\n",
       "      values: \"4\"\n",
       "      values: \"5\"\n",
       "      values: \"6\"\n",
       "      values: \"7\"\n",
       "      values: \"8\"\n",
       "      values: \"9\"\n",
       "      values: \"10\"\n",
       "      values: \"11\"\n",
       "      values: \"12\"\n",
       "      values: \"13\"\n",
       "      values: \"14\"\n",
       "      values: \"15\"\n",
       "      values: \"16\"\n",
       "      values: \"17\"\n",
       "      values: \"18\"\n",
       "      values: \"19\"\n",
       "      values: \"20\"\n",
       "      values: \"21\"\n",
       "      values: \"22\"\n",
       "      values: \"23\"\n",
       "      values: \"24\"\n",
       "      values: \"25\"\n",
       "      values: \"26\"\n",
       "      values: \"27\"\n",
       "      values: \"28\"\n",
       "      values: \"29\"\n",
       "      values: \"30\"\n",
       "      values: \"31\"\n",
       "    }\n",
       "  }\n",
       "}\n",
       "arrays {\n",
       "  key: \"particle.elements\"\n",
       "  value {\n",
       "    index_values {\n",
       "      values: 29\n",
       "      values: 29\n",
       "      values: 29\n",
       "      values: 29\n",
       "      values: 29\n",
       "      values: 29\n",
       "      values: 29\n",
       "      values: 29\n",
       "      values: 29\n",
       "      values: 29\n",
       "      values: 29\n",
       "      values: 29\n",
       "      values: 29\n",
       "      values: 29\n",
       "      values: 29\n",
       "      values: 29\n",
       "      values: 29\n",
       "      values: 29\n",
       "      values: 29\n",
       "      values: 29\n",
       "      values: 29\n",
       "      values: 29\n",
       "      values: 29\n",
       "      values: 29\n",
       "      values: 29\n",
       "      values: 29\n",
       "      values: 29\n",
       "      values: 29\n",
       "      values: 29\n",
       "      values: 29\n",
       "      values: 29\n",
       "      values: 29\n",
       "    }\n",
       "  }\n",
       "}\n",
       "arrays {\n",
       "  key: \"chain.names\"\n",
       "  value {\n",
       "    string_values {\n",
       "      values: \"A\"\n",
       "    }\n",
       "  }\n",
       "}\n",
       "arrays {\n",
       "  key: \"bond.pairs\"\n",
       "  value {\n",
       "    index_values {\n",
       "    }\n",
       "  }\n",
       "}"
      ]
     },
     "execution_count": 19,
     "metadata": {},
     "output_type": "execute_result"
    }
   ],
   "execution_count": 19
  },
  {
   "cell_type": "markdown",
   "metadata": {},
   "source": [
    "Now, let's visualize the frame directly with ASE. First we convert the frame back into ASE atoms, and view it. The first frame received by a client always has the topology information"
   ]
  },
  {
   "cell_type": "code",
   "metadata": {
    "pycharm": {
     "is_executing": false
    },
    "ExecuteTime": {
     "end_time": "2024-10-22T14:19:07.633832Z",
     "start_time": "2024-10-22T14:19:07.615895Z"
    }
   },
   "source": [
    "from nanover.ase.converter import frame_data_to_ase\n",
    "atoms = frame_data_to_ase(client.first_frame, topology=True, positions=False)"
   ],
   "outputs": [],
   "execution_count": 20
  },
  {
   "cell_type": "markdown",
   "metadata": {},
   "source": "We can run this to update the latest positions from the frame (note that NanoVer uses **nanometers** for positions ([the same as OpenMM](http://docs.openmm.org/6.2.0/userguide/theory.html#units)), so we need to convert back to Angstrom to visualise the system using ASE.)"
  },
  {
   "cell_type": "code",
   "metadata": {
    "pycharm": {
     "is_executing": false
    },
    "ExecuteTime": {
     "end_time": "2024-10-22T14:19:09.050569Z",
     "start_time": "2024-10-22T14:19:09.036881Z"
    }
   },
   "source": [
    "import numpy as np\n",
    "# set the positions to match the latest frame data\n",
    "atoms.set_positions(np.array(client.latest_frame.particle_positions) * 10)"
   ],
   "outputs": [],
   "execution_count": 21
  },
  {
   "cell_type": "markdown",
   "metadata": {},
   "source": [
    "ASE has a cool little 2D visualizer"
   ]
  },
  {
   "cell_type": "code",
   "metadata": {
    "pycharm": {
     "is_executing": false
    },
    "ExecuteTime": {
     "end_time": "2024-10-22T14:19:10.300274Z",
     "start_time": "2024-10-22T14:19:10.268108Z"
    }
   },
   "source": [
    "from ase.visualize import view\n",
    "view(atoms)"
   ],
   "outputs": [
    {
     "data": {
      "text/plain": [
       "<Popen: returncode: None args: ['/opt/homebrew/Caskroom/miniforge/base/envs/...>"
      ]
     },
     "execution_count": 22,
     "metadata": {},
     "output_type": "execute_result"
    }
   ],
   "execution_count": 22
  },
  {
   "cell_type": "markdown",
   "metadata": {},
   "source": [
    "And a 3D visualizer! (Check your browser)"
   ]
  },
  {
   "cell_type": "code",
   "metadata": {
    "pycharm": {
     "is_executing": false
    },
    "ExecuteTime": {
     "end_time": "2024-10-22T14:19:14.876880Z",
     "start_time": "2024-10-22T14:19:14.819077Z"
    }
   },
   "source": [
    "view(atoms, viewer='x3d')"
   ],
   "outputs": [
    {
     "data": {
      "text/plain": [
       "<IPython.core.display.HTML object>"
      ],
      "text/html": [
       "<html>\n",
       "\n",
       " <head>\n",
       "\n",
       "  <title>ASE atomic visualization</title>\n",
       "\n",
       "  <link rel=\"stylesheet\" type=\"text/css\"\n",
       "\n",
       "   href=\"https://www.x3dom.org/x3dom/release/x3dom.css\">\n",
       "\n",
       "  </link>\n",
       "\n",
       "  <script type=\"text/javascript\"\n",
       "\n",
       "   src=\"https://www.x3dom.org/x3dom/release/x3dom.js\">\n",
       "\n",
       "  </script>\n",
       "\n",
       " </head>\n",
       "\n",
       " <body>\n",
       "\n",
       "  <X3D>\n",
       "\n",
       "   <Scene>\n",
       "\n",
       "    <Transform translation=\"-0.07 -0.06 -0.00\">\n",
       "\n",
       "     <Shape>\n",
       "\n",
       "      <Appearance>\n",
       "\n",
       "       <Material diffuseColor=\"0.784 0.502 0.200\" specularColor=\"0.5 0.5 0.5\">\n",
       "\n",
       "       </Material>\n",
       "\n",
       "      </Appearance>\n",
       "\n",
       "      <Sphere radius=\"1.32\">\n",
       "\n",
       "      </Sphere>\n",
       "\n",
       "     </Shape>\n",
       "\n",
       "    </Transform>\n",
       "\n",
       "    <Transform translation=\"1.76 1.78 0.01\">\n",
       "\n",
       "     <Shape>\n",
       "\n",
       "      <Appearance>\n",
       "\n",
       "       <Material diffuseColor=\"0.784 0.502 0.200\" specularColor=\"0.5 0.5 0.5\">\n",
       "\n",
       "       </Material>\n",
       "\n",
       "      </Appearance>\n",
       "\n",
       "      <Sphere radius=\"1.32\">\n",
       "\n",
       "      </Sphere>\n",
       "\n",
       "     </Shape>\n",
       "\n",
       "    </Transform>\n",
       "\n",
       "    <Transform translation=\"1.83 -0.04 1.86\">\n",
       "\n",
       "     <Shape>\n",
       "\n",
       "      <Appearance>\n",
       "\n",
       "       <Material diffuseColor=\"0.784 0.502 0.200\" specularColor=\"0.5 0.5 0.5\">\n",
       "\n",
       "       </Material>\n",
       "\n",
       "      </Appearance>\n",
       "\n",
       "      <Sphere radius=\"1.32\">\n",
       "\n",
       "      </Sphere>\n",
       "\n",
       "     </Shape>\n",
       "\n",
       "    </Transform>\n",
       "\n",
       "    <Transform translation=\"0.02 1.86 1.70\">\n",
       "\n",
       "     <Shape>\n",
       "\n",
       "      <Appearance>\n",
       "\n",
       "       <Material diffuseColor=\"0.784 0.502 0.200\" specularColor=\"0.5 0.5 0.5\">\n",
       "\n",
       "       </Material>\n",
       "\n",
       "      </Appearance>\n",
       "\n",
       "      <Sphere radius=\"1.32\">\n",
       "\n",
       "      </Sphere>\n",
       "\n",
       "     </Shape>\n",
       "\n",
       "    </Transform>\n",
       "\n",
       "    <Transform translation=\"3.56 0.10 0.02\">\n",
       "\n",
       "     <Shape>\n",
       "\n",
       "      <Appearance>\n",
       "\n",
       "       <Material diffuseColor=\"0.784 0.502 0.200\" specularColor=\"0.5 0.5 0.5\">\n",
       "\n",
       "       </Material>\n",
       "\n",
       "      </Appearance>\n",
       "\n",
       "      <Sphere radius=\"1.32\">\n",
       "\n",
       "      </Sphere>\n",
       "\n",
       "     </Shape>\n",
       "\n",
       "    </Transform>\n",
       "\n",
       "    <Transform translation=\"5.39 1.83 -0.12\">\n",
       "\n",
       "     <Shape>\n",
       "\n",
       "      <Appearance>\n",
       "\n",
       "       <Material diffuseColor=\"0.784 0.502 0.200\" specularColor=\"0.5 0.5 0.5\">\n",
       "\n",
       "       </Material>\n",
       "\n",
       "      </Appearance>\n",
       "\n",
       "      <Sphere radius=\"1.32\">\n",
       "\n",
       "      </Sphere>\n",
       "\n",
       "     </Shape>\n",
       "\n",
       "    </Transform>\n",
       "\n",
       "    <Transform translation=\"5.34 0.16 1.91\">\n",
       "\n",
       "     <Shape>\n",
       "\n",
       "      <Appearance>\n",
       "\n",
       "       <Material diffuseColor=\"0.784 0.502 0.200\" specularColor=\"0.5 0.5 0.5\">\n",
       "\n",
       "       </Material>\n",
       "\n",
       "      </Appearance>\n",
       "\n",
       "      <Sphere radius=\"1.32\">\n",
       "\n",
       "      </Sphere>\n",
       "\n",
       "     </Shape>\n",
       "\n",
       "    </Transform>\n",
       "\n",
       "    <Transform translation=\"3.51 1.85 1.81\">\n",
       "\n",
       "     <Shape>\n",
       "\n",
       "      <Appearance>\n",
       "\n",
       "       <Material diffuseColor=\"0.784 0.502 0.200\" specularColor=\"0.5 0.5 0.5\">\n",
       "\n",
       "       </Material>\n",
       "\n",
       "      </Appearance>\n",
       "\n",
       "      <Sphere radius=\"1.32\">\n",
       "\n",
       "      </Sphere>\n",
       "\n",
       "     </Shape>\n",
       "\n",
       "    </Transform>\n",
       "\n",
       "    <Transform translation=\"-0.05 3.66 -0.01\">\n",
       "\n",
       "     <Shape>\n",
       "\n",
       "      <Appearance>\n",
       "\n",
       "       <Material diffuseColor=\"0.784 0.502 0.200\" specularColor=\"0.5 0.5 0.5\">\n",
       "\n",
       "       </Material>\n",
       "\n",
       "      </Appearance>\n",
       "\n",
       "      <Sphere radius=\"1.32\">\n",
       "\n",
       "      </Sphere>\n",
       "\n",
       "     </Shape>\n",
       "\n",
       "    </Transform>\n",
       "\n",
       "    <Transform translation=\"1.93 5.43 0.00\">\n",
       "\n",
       "     <Shape>\n",
       "\n",
       "      <Appearance>\n",
       "\n",
       "       <Material diffuseColor=\"0.784 0.502 0.200\" specularColor=\"0.5 0.5 0.5\">\n",
       "\n",
       "       </Material>\n",
       "\n",
       "      </Appearance>\n",
       "\n",
       "      <Sphere radius=\"1.32\">\n",
       "\n",
       "      </Sphere>\n",
       "\n",
       "     </Shape>\n",
       "\n",
       "    </Transform>\n",
       "\n",
       "    <Transform translation=\"1.84 3.75 1.69\">\n",
       "\n",
       "     <Shape>\n",
       "\n",
       "      <Appearance>\n",
       "\n",
       "       <Material diffuseColor=\"0.784 0.502 0.200\" specularColor=\"0.5 0.5 0.5\">\n",
       "\n",
       "       </Material>\n",
       "\n",
       "      </Appearance>\n",
       "\n",
       "      <Sphere radius=\"1.32\">\n",
       "\n",
       "      </Sphere>\n",
       "\n",
       "     </Shape>\n",
       "\n",
       "    </Transform>\n",
       "\n",
       "    <Transform translation=\"-0.01 5.46 1.64\">\n",
       "\n",
       "     <Shape>\n",
       "\n",
       "      <Appearance>\n",
       "\n",
       "       <Material diffuseColor=\"0.784 0.502 0.200\" specularColor=\"0.5 0.5 0.5\">\n",
       "\n",
       "       </Material>\n",
       "\n",
       "      </Appearance>\n",
       "\n",
       "      <Sphere radius=\"1.32\">\n",
       "\n",
       "      </Sphere>\n",
       "\n",
       "     </Shape>\n",
       "\n",
       "    </Transform>\n",
       "\n",
       "    <Transform translation=\"3.63 3.62 -0.08\">\n",
       "\n",
       "     <Shape>\n",
       "\n",
       "      <Appearance>\n",
       "\n",
       "       <Material diffuseColor=\"0.784 0.502 0.200\" specularColor=\"0.5 0.5 0.5\">\n",
       "\n",
       "       </Material>\n",
       "\n",
       "      </Appearance>\n",
       "\n",
       "      <Sphere radius=\"1.32\">\n",
       "\n",
       "      </Sphere>\n",
       "\n",
       "     </Shape>\n",
       "\n",
       "    </Transform>\n",
       "\n",
       "    <Transform translation=\"5.28 5.38 0.00\">\n",
       "\n",
       "     <Shape>\n",
       "\n",
       "      <Appearance>\n",
       "\n",
       "       <Material diffuseColor=\"0.784 0.502 0.200\" specularColor=\"0.5 0.5 0.5\">\n",
       "\n",
       "       </Material>\n",
       "\n",
       "      </Appearance>\n",
       "\n",
       "      <Sphere radius=\"1.32\">\n",
       "\n",
       "      </Sphere>\n",
       "\n",
       "     </Shape>\n",
       "\n",
       "    </Transform>\n",
       "\n",
       "    <Transform translation=\"5.39 3.48 1.74\">\n",
       "\n",
       "     <Shape>\n",
       "\n",
       "      <Appearance>\n",
       "\n",
       "       <Material diffuseColor=\"0.784 0.502 0.200\" specularColor=\"0.5 0.5 0.5\">\n",
       "\n",
       "       </Material>\n",
       "\n",
       "      </Appearance>\n",
       "\n",
       "      <Sphere radius=\"1.32\">\n",
       "\n",
       "      </Sphere>\n",
       "\n",
       "     </Shape>\n",
       "\n",
       "    </Transform>\n",
       "\n",
       "    <Transform translation=\"3.65 5.51 1.92\">\n",
       "\n",
       "     <Shape>\n",
       "\n",
       "      <Appearance>\n",
       "\n",
       "       <Material diffuseColor=\"0.784 0.502 0.200\" specularColor=\"0.5 0.5 0.5\">\n",
       "\n",
       "       </Material>\n",
       "\n",
       "      </Appearance>\n",
       "\n",
       "      <Sphere radius=\"1.32\">\n",
       "\n",
       "      </Sphere>\n",
       "\n",
       "     </Shape>\n",
       "\n",
       "    </Transform>\n",
       "\n",
       "    <Transform translation=\"0.01 -0.01 3.64\">\n",
       "\n",
       "     <Shape>\n",
       "\n",
       "      <Appearance>\n",
       "\n",
       "       <Material diffuseColor=\"0.784 0.502 0.200\" specularColor=\"0.5 0.5 0.5\">\n",
       "\n",
       "       </Material>\n",
       "\n",
       "      </Appearance>\n",
       "\n",
       "      <Sphere radius=\"1.32\">\n",
       "\n",
       "      </Sphere>\n",
       "\n",
       "     </Shape>\n",
       "\n",
       "    </Transform>\n",
       "\n",
       "    <Transform translation=\"1.76 1.93 3.62\">\n",
       "\n",
       "     <Shape>\n",
       "\n",
       "      <Appearance>\n",
       "\n",
       "       <Material diffuseColor=\"0.784 0.502 0.200\" specularColor=\"0.5 0.5 0.5\">\n",
       "\n",
       "       </Material>\n",
       "\n",
       "      </Appearance>\n",
       "\n",
       "      <Sphere radius=\"1.32\">\n",
       "\n",
       "      </Sphere>\n",
       "\n",
       "     </Shape>\n",
       "\n",
       "    </Transform>\n",
       "\n",
       "    <Transform translation=\"1.81 -0.08 5.42\">\n",
       "\n",
       "     <Shape>\n",
       "\n",
       "      <Appearance>\n",
       "\n",
       "       <Material diffuseColor=\"0.784 0.502 0.200\" specularColor=\"0.5 0.5 0.5\">\n",
       "\n",
       "       </Material>\n",
       "\n",
       "      </Appearance>\n",
       "\n",
       "      <Sphere radius=\"1.32\">\n",
       "\n",
       "      </Sphere>\n",
       "\n",
       "     </Shape>\n",
       "\n",
       "    </Transform>\n",
       "\n",
       "    <Transform translation=\"0.07 1.73 5.46\">\n",
       "\n",
       "     <Shape>\n",
       "\n",
       "      <Appearance>\n",
       "\n",
       "       <Material diffuseColor=\"0.784 0.502 0.200\" specularColor=\"0.5 0.5 0.5\">\n",
       "\n",
       "       </Material>\n",
       "\n",
       "      </Appearance>\n",
       "\n",
       "      <Sphere radius=\"1.32\">\n",
       "\n",
       "      </Sphere>\n",
       "\n",
       "     </Shape>\n",
       "\n",
       "    </Transform>\n",
       "\n",
       "    <Transform translation=\"3.63 0.09 3.70\">\n",
       "\n",
       "     <Shape>\n",
       "\n",
       "      <Appearance>\n",
       "\n",
       "       <Material diffuseColor=\"0.784 0.502 0.200\" specularColor=\"0.5 0.5 0.5\">\n",
       "\n",
       "       </Material>\n",
       "\n",
       "      </Appearance>\n",
       "\n",
       "      <Sphere radius=\"1.32\">\n",
       "\n",
       "      </Sphere>\n",
       "\n",
       "     </Shape>\n",
       "\n",
       "    </Transform>\n",
       "\n",
       "    <Transform translation=\"5.54 1.79 3.69\">\n",
       "\n",
       "     <Shape>\n",
       "\n",
       "      <Appearance>\n",
       "\n",
       "       <Material diffuseColor=\"0.784 0.502 0.200\" specularColor=\"0.5 0.5 0.5\">\n",
       "\n",
       "       </Material>\n",
       "\n",
       "      </Appearance>\n",
       "\n",
       "      <Sphere radius=\"1.32\">\n",
       "\n",
       "      </Sphere>\n",
       "\n",
       "     </Shape>\n",
       "\n",
       "    </Transform>\n",
       "\n",
       "    <Transform translation=\"5.35 0.00 5.38\">\n",
       "\n",
       "     <Shape>\n",
       "\n",
       "      <Appearance>\n",
       "\n",
       "       <Material diffuseColor=\"0.784 0.502 0.200\" specularColor=\"0.5 0.5 0.5\">\n",
       "\n",
       "       </Material>\n",
       "\n",
       "      </Appearance>\n",
       "\n",
       "      <Sphere radius=\"1.32\">\n",
       "\n",
       "      </Sphere>\n",
       "\n",
       "     </Shape>\n",
       "\n",
       "    </Transform>\n",
       "\n",
       "    <Transform translation=\"3.66 1.72 5.35\">\n",
       "\n",
       "     <Shape>\n",
       "\n",
       "      <Appearance>\n",
       "\n",
       "       <Material diffuseColor=\"0.784 0.502 0.200\" specularColor=\"0.5 0.5 0.5\">\n",
       "\n",
       "       </Material>\n",
       "\n",
       "      </Appearance>\n",
       "\n",
       "      <Sphere radius=\"1.32\">\n",
       "\n",
       "      </Sphere>\n",
       "\n",
       "     </Shape>\n",
       "\n",
       "    </Transform>\n",
       "\n",
       "    <Transform translation=\"-0.02 3.51 3.58\">\n",
       "\n",
       "     <Shape>\n",
       "\n",
       "      <Appearance>\n",
       "\n",
       "       <Material diffuseColor=\"0.784 0.502 0.200\" specularColor=\"0.5 0.5 0.5\">\n",
       "\n",
       "       </Material>\n",
       "\n",
       "      </Appearance>\n",
       "\n",
       "      <Sphere radius=\"1.32\">\n",
       "\n",
       "      </Sphere>\n",
       "\n",
       "     </Shape>\n",
       "\n",
       "    </Transform>\n",
       "\n",
       "    <Transform translation=\"1.76 5.40 3.53\">\n",
       "\n",
       "     <Shape>\n",
       "\n",
       "      <Appearance>\n",
       "\n",
       "       <Material diffuseColor=\"0.784 0.502 0.200\" specularColor=\"0.5 0.5 0.5\">\n",
       "\n",
       "       </Material>\n",
       "\n",
       "      </Appearance>\n",
       "\n",
       "      <Sphere radius=\"1.32\">\n",
       "\n",
       "      </Sphere>\n",
       "\n",
       "     </Shape>\n",
       "\n",
       "    </Transform>\n",
       "\n",
       "    <Transform translation=\"1.75 3.57 5.49\">\n",
       "\n",
       "     <Shape>\n",
       "\n",
       "      <Appearance>\n",
       "\n",
       "       <Material diffuseColor=\"0.784 0.502 0.200\" specularColor=\"0.5 0.5 0.5\">\n",
       "\n",
       "       </Material>\n",
       "\n",
       "      </Appearance>\n",
       "\n",
       "      <Sphere radius=\"1.32\">\n",
       "\n",
       "      </Sphere>\n",
       "\n",
       "     </Shape>\n",
       "\n",
       "    </Transform>\n",
       "\n",
       "    <Transform translation=\"0.04 5.34 5.48\">\n",
       "\n",
       "     <Shape>\n",
       "\n",
       "      <Appearance>\n",
       "\n",
       "       <Material diffuseColor=\"0.784 0.502 0.200\" specularColor=\"0.5 0.5 0.5\">\n",
       "\n",
       "       </Material>\n",
       "\n",
       "      </Appearance>\n",
       "\n",
       "      <Sphere radius=\"1.32\">\n",
       "\n",
       "      </Sphere>\n",
       "\n",
       "     </Shape>\n",
       "\n",
       "    </Transform>\n",
       "\n",
       "    <Transform translation=\"3.73 3.58 3.59\">\n",
       "\n",
       "     <Shape>\n",
       "\n",
       "      <Appearance>\n",
       "\n",
       "       <Material diffuseColor=\"0.784 0.502 0.200\" specularColor=\"0.5 0.5 0.5\">\n",
       "\n",
       "       </Material>\n",
       "\n",
       "      </Appearance>\n",
       "\n",
       "      <Sphere radius=\"1.32\">\n",
       "\n",
       "      </Sphere>\n",
       "\n",
       "     </Shape>\n",
       "\n",
       "    </Transform>\n",
       "\n",
       "    <Transform translation=\"5.41 5.37 3.74\">\n",
       "\n",
       "     <Shape>\n",
       "\n",
       "      <Appearance>\n",
       "\n",
       "       <Material diffuseColor=\"0.784 0.502 0.200\" specularColor=\"0.5 0.5 0.5\">\n",
       "\n",
       "       </Material>\n",
       "\n",
       "      </Appearance>\n",
       "\n",
       "      <Sphere radius=\"1.32\">\n",
       "\n",
       "      </Sphere>\n",
       "\n",
       "     </Shape>\n",
       "\n",
       "    </Transform>\n",
       "\n",
       "    <Transform translation=\"5.46 3.58 5.40\">\n",
       "\n",
       "     <Shape>\n",
       "\n",
       "      <Appearance>\n",
       "\n",
       "       <Material diffuseColor=\"0.784 0.502 0.200\" specularColor=\"0.5 0.5 0.5\">\n",
       "\n",
       "       </Material>\n",
       "\n",
       "      </Appearance>\n",
       "\n",
       "      <Sphere radius=\"1.32\">\n",
       "\n",
       "      </Sphere>\n",
       "\n",
       "     </Shape>\n",
       "\n",
       "    </Transform>\n",
       "\n",
       "    <Transform translation=\"3.57 5.35 5.38\">\n",
       "\n",
       "     <Shape>\n",
       "\n",
       "      <Appearance>\n",
       "\n",
       "       <Material diffuseColor=\"0.784 0.502 0.200\" specularColor=\"0.5 0.5 0.5\">\n",
       "\n",
       "       </Material>\n",
       "\n",
       "      </Appearance>\n",
       "\n",
       "      <Sphere radius=\"1.32\">\n",
       "\n",
       "      </Sphere>\n",
       "\n",
       "     </Shape>\n",
       "\n",
       "    </Transform>\n",
       "\n",
       "   </Scene>\n",
       "\n",
       "  </X3D>\n",
       "\n",
       " </body>\n",
       "\n",
       "</html>\n",
       "\n"
      ]
     },
     "execution_count": 23,
     "metadata": {},
     "output_type": "execute_result"
    }
   ],
   "execution_count": 23
  },
  {
   "cell_type": "markdown",
   "metadata": {},
   "source": [
    "# Gracefully terminate!!"
   ]
  },
  {
   "cell_type": "markdown",
   "metadata": {},
   "source": "It is very important to close your servers, otherwise they'll get in the way by blocking ports, and your clients may autoconnect to the wrong server! We close the server calling `.close()`"
  },
  {
   "cell_type": "code",
   "metadata": {
    "pycharm": {
     "is_executing": false
    },
    "ExecuteTime": {
     "end_time": "2024-10-22T14:19:18.469941Z",
     "start_time": "2024-10-22T14:19:18.228251Z"
    }
   },
   "source": "imd_runner.close()",
   "outputs": [],
   "execution_count": 24
  },
  {
   "cell_type": "markdown",
   "metadata": {
    "pycharm": {
     "is_executing": false
    }
   },
   "source": [
    "Note that outside of a notebook, you can use `with` statements to let NanoVer clean up after itself:"
   ]
  },
  {
   "cell_type": "code",
   "metadata": {
    "pycharm": {
     "is_executing": false
    },
    "ExecuteTime": {
     "end_time": "2024-10-22T14:19:20.571930Z",
     "start_time": "2024-10-22T14:19:19.923423Z"
    }
   },
   "source": [
    "with OmniRunner.with_basic_server(ASESimulation.from_ase_dynamics(dyn), port=0) as imd_runner:\n",
    "    imd_runner.next()"
   ],
   "outputs": [],
   "execution_count": 25
  },
  {
   "cell_type": "markdown",
   "metadata": {
    "pycharm": {
     "is_executing": false
    }
   },
   "source": [
    "# Next Steps\n",
    "\n",
    "This notebook demonstrated how to use NanoVer to run iMD simulations using ASE for a toy system. There's plenty more that can be done!\n",
    "\n",
    "* Run bigger molecular mechanics simulations using OpenMM. The [nanotube](./ase_openmm_nanotube.ipynb) and [neuraminidase](./ase_openmm_neuraminidase.ipynb) examples show how to set up simulations that combine OpenMM with ASE.\n",
    "* Use the functionality of ASE change the parameters of an OpenMM simulation on the fly. See the [graphene](./ase_openmm_graphene.ipynb) example.\n",
    "* To understand what's going on under the hood, check out the [NanoVer frame explained](../fundamentals/frame.ipynb) example. "
   ]
  }
 ],
 "metadata": {
  "kernelspec": {
   "display_name": "Python 3 (ipykernel)",
   "language": "python",
   "name": "python3"
  },
  "language_info": {
   "codemirror_mode": {
    "name": "ipython",
    "version": 3
   },
   "file_extension": ".py",
   "mimetype": "text/x-python",
   "name": "python",
   "nbconvert_exporter": "python",
   "pygments_lexer": "ipython3",
   "version": "3.12.0"
  },
  "pycharm": {
   "stem_cell": {
    "cell_type": "raw",
    "metadata": {
     "collapsed": false
    },
    "source": []
   }
  }
 },
 "nbformat": 4,
 "nbformat_minor": 4
}
