{
 "cells": [
  {
   "cell_type": "markdown",
   "metadata": {},
   "source": [
    "# Setting up an OpenMM iMD simulation"
   ]
  },
  {
   "cell_type": "markdown",
   "metadata": {},
   "source": [
    "This notebook demonstrates how to set up an OpenMM simulation for use with NanoVer from scratch.\n",
    "We take AMBER files for neuraminidase with oseltamivir (AKA tamiflu) bound, create an OpenMM system and \n",
    "set it up with NanoVer, using ASE as the integrator"
   ]
  },
  {
   "cell_type": "markdown",
   "metadata": {
    "extensions": {
     "jupyter_dashboards": {
      "version": 1,
      "views": {
       "grid_default": {
        "col": 0,
        "height": 4,
        "hidden": true,
        "row": 0,
        "width": 4
       },
       "report_default": {
        "hidden": false
       }
      }
     }
    }
   },
   "source": [
    "## Set up the OpenMM Simulation"
   ]
  },
  {
   "cell_type": "markdown",
   "metadata": {},
   "source": [
    "We start by creating an OpenMM simulation from our AMBER files. OpenMM also supports Gromacs and CHARMM files, and can be customized for many other uses. "
   ]
  },
  {
   "cell_type": "code",
   "execution_count": 10,
   "metadata": {},
   "outputs": [],
   "source": [
    "import openmm as mm\n",
    "import openmm.unit as unit \n",
    "import openmm.app as app"
   ]
  },
  {
   "cell_type": "code",
   "execution_count": 11,
   "metadata": {},
   "outputs": [],
   "source": [
    "prmtop = app.AmberPrmtopFile(\"openmm_files/3TI6_ose_wt.top\")\n",
    "amber_coords = app.AmberInpcrdFile(\"openmm_files/3TI6_ose_wt.rst\")"
   ]
  },
  {
   "cell_type": "markdown",
   "metadata": {
    "ExecuteTime": {
     "end_time": "2019-06-06T16:04:25.397984Z",
     "start_time": "2019-06-06T16:04:25.395015Z"
    },
    "extensions": {
     "jupyter_dashboards": {
      "version": 1,
      "views": {
       "grid_default": {
        "hidden": true
       },
       "report_default": {
        "hidden": true
       }
      }
     }
    },
    "pycharm": {
     "is_executing": false
    }
   },
   "source": [
    "Because we use ASE for integrating, we keep the simulation simple by using implicit solvent and no constraints"
   ]
  },
  {
   "cell_type": "code",
   "execution_count": 12,
   "metadata": {},
   "outputs": [
    {
     "name": "stderr",
     "output_type": "stream",
     "text": [
      "C:\\Users\\ragzo\\anaconda3\\envs\\nanover-dev\\Lib\\site-packages\\openmm\\app\\internal\\amber_file_parser.py:1168: UserWarning: Non-optimal GB parameters detected for GB model OBC2\n",
      "  warnings.warn(\n"
     ]
    }
   ],
   "source": [
    "system = prmtop.createSystem(nonbondedMethod=app.CutoffPeriodic, \n",
    "                             nonbondedCutoff=2*unit.nanometer, \n",
    "                             implicitSolvent=app.OBC2,\n",
    "                             constraints=None)"
   ]
  },
  {
   "cell_type": "code",
   "execution_count": 13,
   "metadata": {
    "pycharm": {
     "is_executing": true
    }
   },
   "outputs": [],
   "source": [
    "integrator = mm.LangevinIntegrator(300*unit.kelvin, 1/unit.picosecond, 0.001*unit.picoseconds)"
   ]
  },
  {
   "cell_type": "markdown",
   "metadata": {},
   "source": [
    "Create an OpenMM simulation out of the topology, system and integrator"
   ]
  },
  {
   "cell_type": "code",
   "execution_count": 14,
   "metadata": {},
   "outputs": [],
   "source": [
    "simulation = app.Simulation(prmtop.topology, system, integrator)"
   ]
  },
  {
   "cell_type": "code",
   "execution_count": 15,
   "metadata": {},
   "outputs": [],
   "source": [
    "simulation.context.setPositions(amber_coords.positions)\n",
    "if amber_coords.boxVectors is not None:\n",
    "    simulation.context.setPeriodicBoxVectors(*amber_coords.boxVectors)"
   ]
  },
  {
   "cell_type": "markdown",
   "metadata": {},
   "source": [
    "Minimize the energy to create a stable conformation"
   ]
  },
  {
   "cell_type": "code",
   "execution_count": 16,
   "metadata": {},
   "outputs": [],
   "source": [
    "simulation.minimizeEnergy()"
   ]
  },
  {
   "cell_type": "markdown",
   "metadata": {},
   "source": [
    "Run a few steps to check it's stable"
   ]
  },
  {
   "cell_type": "code",
   "execution_count": 17,
   "metadata": {},
   "outputs": [],
   "source": [
    "simulation.context.setVelocitiesToTemperature(300 * unit.kelvin)"
   ]
  },
  {
   "cell_type": "code",
   "execution_count": 18,
   "metadata": {},
   "outputs": [],
   "source": [
    "import sys"
   ]
  },
  {
   "cell_type": "code",
   "execution_count": 19,
   "metadata": {},
   "outputs": [
    {
     "name": "stdout",
     "output_type": "stream",
     "text": [
      "#\"Step\",\"Potential Energy (kJ/mole)\",\"Temperature (K)\"\n",
      "100,-39322.728645545474,172.8978401967851\n",
      "200,-37794.347786170474,178.36680131402554\n",
      "300,-36947.80033133649,191.42981846756774\n",
      "400,-36300.61284659528,202.61229973698843\n",
      "500,-35362.4622881236,209.92177439617308\n",
      "600,-34806.25983451032,219.47886351217505\n",
      "700,-34212.024864417544,226.02847374554963\n",
      "800,-33687.36612723493,235.26808978386075\n",
      "900,-33257.65744803571,242.45830788867468\n",
      "1000,-32679.138481360904,246.52136866948084\n"
     ]
    }
   ],
   "source": [
    "simulation.reporters.append(app.StateDataReporter(sys.stdout, 100, step=True,\n",
    "        potentialEnergy=True, temperature=True))\n",
    "simulation.step(1000)"
   ]
  },
  {
   "cell_type": "markdown",
   "metadata": {},
   "source": [
    "Looks good! Now, let's set it up for use with NanoVer."
   ]
  },
  {
   "cell_type": "markdown",
   "metadata": {},
   "source": [
    "The following cell outputs the system as an OpenMM XML file + a PDB file with the topology. This let's you take what you've done here and use it straight in NanoVer elsewhere, perfect if you just want to run a simulation quickly: \n",
    "\n",
    "```bash \n",
    "nanover-omm-ase neuraminidase_nanover.xml\n",
    "```"
   ]
  },
  {
   "cell_type": "code",
   "execution_count": 20,
   "metadata": {},
   "outputs": [],
   "source": [
    "from nanover.openmm.serializer import serialize_simulation\n",
    "\n",
    "with open('neuraminidase_nanover.xml','w') as f:\n",
    "    f.write(serialize_simulation(simulation))"
   ]
  },
  {
   "cell_type": "markdown",
   "metadata": {},
   "source": [
    "In the following section, we'll set up the simulation by hand, essentially replicating what `nanover-omm-ase` does."
   ]
  },
  {
   "cell_type": "markdown",
   "metadata": {},
   "source": [
    "## Setting up an OpenMM simulation with ASE and NanoVer"
   ]
  },
  {
   "cell_type": "markdown",
   "metadata": {},
   "source": [
    "Now that we've got an OpenMM simulation, let's pair it with ASE so we can do interactive molecular dynamics with NanoVer."
   ]
  },
  {
   "cell_type": "markdown",
   "metadata": {},
   "source": [
    "**Note**: Here we use OpenMM to calculate the forces and ASE as the integrator. The `narupa-openmm` package lets you use OpenMM for the integrator as well. See the `nanover-omm-server` command."
   ]
  },
  {
   "cell_type": "markdown",
   "metadata": {},
   "source": [
    "### Creating the ASE System"
   ]
  },
  {
   "cell_type": "markdown",
   "metadata": {},
   "source": [
    "We use the OpenMMCalculator to take our simulation and produce an ASE Atoms object"
   ]
  },
  {
   "cell_type": "code",
   "execution_count": 21,
   "metadata": {},
   "outputs": [],
   "source": [
    "from nanover.ase.openmm import OpenMMCalculator"
   ]
  },
  {
   "cell_type": "code",
   "execution_count": 22,
   "metadata": {},
   "outputs": [],
   "source": [
    "calculator = OpenMMCalculator(simulation)"
   ]
  },
  {
   "cell_type": "code",
   "execution_count": 23,
   "metadata": {},
   "outputs": [
    {
     "name": "stderr",
     "output_type": "stream",
     "text": [
      "C:\\Users\\ragzo\\AppData\\Local\\Temp\\ipykernel_21988\\3079109835.py:2: DeprecationWarning: Please use atoms.calc = calc\n",
      "  atoms.set_calculator(calculator)\n"
     ]
    },
    {
     "data": {
      "text/plain": [
       "5880"
      ]
     },
     "execution_count": 23,
     "metadata": {},
     "output_type": "execute_result"
    }
   ],
   "source": [
    "atoms = calculator.generate_atoms()\n",
    "atoms.set_calculator(calculator)\n",
    "len(atoms)"
   ]
  },
  {
   "cell_type": "markdown",
   "metadata": {},
   "source": [
    "Now we've got an ASE Atoms object, and a calculator, we can set up NanoVer with ASE as [usual](./basic_example.ipynb). \n",
    "The only difference here is that we swap out the default way of sending frames with a specially made one, `openmm_ase_frame_adaptor`, for OpenMM that knows about OpenMM topology"
   ]
  },
  {
   "cell_type": "code",
   "execution_count": 24,
   "metadata": {},
   "outputs": [],
   "source": [
    "from ase.md import Langevin\n",
    "import ase.units as ase_units\n",
    "dynamics = Langevin(atoms, timestep=1.0 * ase_units.fs, temperature_K=300 * ase_units.kB, friction=1.0e-03)"
   ]
  },
  {
   "cell_type": "code",
   "execution_count": 27,
   "metadata": {},
   "outputs": [],
   "source": [
    "from nanover.app import NanoverImdApplication\n",
    "from nanover.ase.openmm.frame_adaptor import openmm_ase_atoms_to_frame_data\n",
    "from nanover.omni import OmniRunner\n",
    "from nanover.omni.ase import ASESimulation"
   ]
  },
  {
   "cell_type": "code",
   "execution_count": 28,
   "metadata": {},
   "outputs": [],
   "source": [
    "omni_sim = ASESimulation.from_ase_dynamics(\n",
    "    dynamics, \n",
    "    ase_atoms_to_frame_data=openmm_ase_atoms_to_frame_data,\n",
    ")\n",
    "omni = OmniRunner.with_basic_server(omni_sim)"
   ]
  },
  {
   "cell_type": "markdown",
   "metadata": {},
   "source": [
    "As always, let's run a few steps to make sure everything looks good"
   ]
  },
  {
   "cell_type": "code",
   "execution_count": 38,
   "metadata": {},
   "outputs": [
    {
     "data": {
      "text/plain": [
       "-431.67088595016065"
      ]
     },
     "execution_count": 38,
     "metadata": {},
     "output_type": "execute_result"
    }
   ],
   "source": [
    "omni_sim.dynamics.run(100)\n",
    "omni_sim.atoms.get_potential_energy()"
   ]
  },
  {
   "cell_type": "markdown",
   "metadata": {},
   "source": [
    "All good! Let's leave it running in the background"
   ]
  },
  {
   "cell_type": "code",
   "execution_count": 39,
   "metadata": {},
   "outputs": [],
   "source": [
    "omni.next()"
   ]
  },
  {
   "cell_type": "markdown",
   "metadata": {},
   "source": [
    "Connect to it from VR and you'll see something like this:\n",
    "\n",
    "![NanoVer neuraminidase](./images/neuraminidase_ball_and_stick.png)"
   ]
  },
  {
   "cell_type": "markdown",
   "metadata": {},
   "source": [
    "## Let's make it pretty!"
   ]
  },
  {
   "cell_type": "markdown",
   "metadata": {},
   "source": [
    "Ball and stick is so 2001, let's make it look cool. We'll also make it so if you interact with the oseltamivir, it'll be interacted with as a group, which is more stable"
   ]
  },
  {
   "cell_type": "markdown",
   "metadata": {},
   "source": [
    "First, we connect a client so we can modify the shared state"
   ]
  },
  {
   "cell_type": "code",
   "execution_count": 41,
   "metadata": {},
   "outputs": [
    {
     "ename": "Exception",
     "evalue": "Timed out waiting for first frame.",
     "output_type": "error",
     "traceback": [
      "\u001b[1;31m---------------------------------------------------------------------------\u001b[0m",
      "\u001b[1;31mException\u001b[0m                                 Traceback (most recent call last)",
      "Cell \u001b[1;32mIn[41], line 4\u001b[0m\n\u001b[0;32m      2\u001b[0m client \u001b[38;5;241m=\u001b[39m NanoverImdClient\u001b[38;5;241m.\u001b[39mconnect_to_single_server(port\u001b[38;5;241m=\u001b[39mnanover_server\u001b[38;5;241m.\u001b[39mport)\n\u001b[0;32m      3\u001b[0m client\u001b[38;5;241m.\u001b[39msubscribe_to_frames()\n\u001b[1;32m----> 4\u001b[0m client\u001b[38;5;241m.\u001b[39mwait_until_first_frame()\n",
      "File \u001b[1;32mc:\\users\\ragzo\\documents\\work\\nanover-protocol\\python-libraries\\nanover-core\\src\\nanover\\app\\client.py:64\u001b[0m, in \u001b[0;36m_need_attribute.<locals>.wrapper\u001b[1;34m(self, *args, **kwargs)\u001b[0m\n\u001b[0;32m     62\u001b[0m \u001b[38;5;28;01mif\u001b[39;00m \u001b[38;5;28mgetattr\u001b[39m(\u001b[38;5;28mself\u001b[39m, attr) \u001b[38;5;129;01mis\u001b[39;00m \u001b[38;5;28;01mNone\u001b[39;00m:\n\u001b[0;32m     63\u001b[0m     \u001b[38;5;28;01mraise\u001b[39;00m \u001b[38;5;167;01mRuntimeError\u001b[39;00m(\u001b[38;5;124mf\u001b[39m\u001b[38;5;124m\"\u001b[39m\u001b[38;5;124mNot connected to \u001b[39m\u001b[38;5;132;01m{\u001b[39;00mname\u001b[38;5;132;01m}\u001b[39;00m\u001b[38;5;124m service\u001b[39m\u001b[38;5;124m\"\u001b[39m)\n\u001b[1;32m---> 64\u001b[0m \u001b[38;5;28;01mreturn\u001b[39;00m func(\u001b[38;5;28mself\u001b[39m, \u001b[38;5;241m*\u001b[39margs, \u001b[38;5;241m*\u001b[39m\u001b[38;5;241m*\u001b[39mkwargs)\n",
      "File \u001b[1;32mc:\\users\\ragzo\\documents\\work\\nanover-protocol\\python-libraries\\nanover-core\\src\\nanover\\app\\client.py:77\u001b[0m, in \u001b[0;36mneed_trajectory_joined.<locals>.wrapper\u001b[1;34m(self, *args, **kwargs)\u001b[0m\n\u001b[0;32m     72\u001b[0m \u001b[38;5;28;01mif\u001b[39;00m \u001b[38;5;129;01mnot\u001b[39;00m \u001b[38;5;28mself\u001b[39m\u001b[38;5;241m.\u001b[39m_are_framed_subscribed:\n\u001b[0;32m     73\u001b[0m     \u001b[38;5;28;01mraise\u001b[39;00m \u001b[38;5;167;01mRuntimeError\u001b[39;00m(\n\u001b[0;32m     74\u001b[0m         \u001b[38;5;124m\"\u001b[39m\u001b[38;5;124mYou need to first subscribe to the frame using the \u001b[39m\u001b[38;5;124m\"\u001b[39m\n\u001b[0;32m     75\u001b[0m         \u001b[38;5;124m\"\u001b[39m\u001b[38;5;124msubscribe_to_frames or the subscribe_to_all_frames methods.\u001b[39m\u001b[38;5;124m\"\u001b[39m\n\u001b[0;32m     76\u001b[0m     )\n\u001b[1;32m---> 77\u001b[0m \u001b[38;5;28;01mreturn\u001b[39;00m func(\u001b[38;5;28mself\u001b[39m, \u001b[38;5;241m*\u001b[39margs, \u001b[38;5;241m*\u001b[39m\u001b[38;5;241m*\u001b[39mkwargs)\n",
      "File \u001b[1;32mc:\\users\\ragzo\\documents\\work\\nanover-protocol\\python-libraries\\nanover-core\\src\\nanover\\app\\client.py:387\u001b[0m, in \u001b[0;36mNanoverImdClient.wait_until_first_frame\u001b[1;34m(self, check_interval, timeout)\u001b[0m\n\u001b[0;32m    385\u001b[0m \u001b[38;5;28;01mwhile\u001b[39;00m \u001b[38;5;28mself\u001b[39m\u001b[38;5;241m.\u001b[39mfirst_frame \u001b[38;5;129;01mis\u001b[39;00m \u001b[38;5;28;01mNone\u001b[39;00m:\n\u001b[0;32m    386\u001b[0m     \u001b[38;5;28;01mif\u001b[39;00m \u001b[38;5;241m0\u001b[39m \u001b[38;5;241m<\u001b[39m endtime \u001b[38;5;241m<\u001b[39m time\u001b[38;5;241m.\u001b[39mmonotonic():\n\u001b[1;32m--> 387\u001b[0m         \u001b[38;5;28;01mraise\u001b[39;00m \u001b[38;5;167;01mException\u001b[39;00m(\u001b[38;5;124m\"\u001b[39m\u001b[38;5;124mTimed out waiting for first frame.\u001b[39m\u001b[38;5;124m\"\u001b[39m)\n\u001b[0;32m    388\u001b[0m     time\u001b[38;5;241m.\u001b[39msleep(check_interval)\n\u001b[0;32m    390\u001b[0m \u001b[38;5;28;01mreturn\u001b[39;00m \u001b[38;5;28mself\u001b[39m\u001b[38;5;241m.\u001b[39mfirst_frame\n",
      "\u001b[1;31mException\u001b[0m: Timed out waiting for first frame."
     ]
    }
   ],
   "source": [
    "from nanover.app import NanoverImdClient\n",
    "client = NanoverImdClient.connect_to_single_server(port=nanover_server.port)\n",
    "client.subscribe_to_frames()\n",
    "client.wait_until_first_frame();"
   ]
  },
  {
   "cell_type": "markdown",
   "metadata": {},
   "source": [
    "We define a couple of handy methods for playing with selections and colour gradients"
   ]
  },
  {
   "cell_type": "code",
   "execution_count": null,
   "metadata": {},
   "outputs": [],
   "source": [
    "import matplotlib.cm\n",
    "\n",
    "def get_matplotlib_gradient(name: str):\n",
    "    cmap = matplotlib.colormaps[name]\n",
    "    return list(list(cmap(x/7)) for x in range(0, 8, 1))"
   ]
  },
  {
   "cell_type": "code",
   "execution_count": 24,
   "metadata": {},
   "outputs": [],
   "source": [
    "from nanover.mdanalysis import frame_data_to_mdanalysis\n",
    "def generate_mdanalysis_selection(selection: str):\n",
    "    universe = frame_data_to_mdanalysis(client.first_frame)\n",
    "    idx_array = universe.select_atoms(selection).indices\n",
    "    return map(int, idx_array)"
   ]
  },
  {
   "cell_type": "markdown",
   "metadata": {},
   "source": [
    "Hide the 'root' selection, it's getting in the way of our creativity "
   ]
  },
  {
   "cell_type": "code",
   "execution_count": 25,
   "metadata": {},
   "outputs": [],
   "source": [
    "root_selection = client.root_selection\n",
    "with root_selection.modify():\n",
    "    root_selection.hide = True\n",
    "    root_selection.interaction_method = 'none'"
   ]
  },
  {
   "cell_type": "markdown",
   "metadata": {},
   "source": [
    "Let's select the protein"
   ]
  },
  {
   "cell_type": "code",
   "execution_count": 26,
   "metadata": {},
   "outputs": [],
   "source": [
    "protein = client.create_selection(\"Protein\", [])"
   ]
  },
  {
   "cell_type": "code",
   "execution_count": 27,
   "metadata": {},
   "outputs": [],
   "source": [
    "with protein.modify():\n",
    "    protein.set_particles(generate_mdanalysis_selection(\"protein and not type H\"))"
   ]
  },
  {
   "cell_type": "markdown",
   "metadata": {},
   "source": [
    "We'll colour it and render with a spline, or ribbon, renderer.\n",
    "Some things you can try: \n",
    "* Change the render: `spline`, `geometric spline`. Or comment out the `sequence` line and try `liquorice`,`noodles`, `cycles`, `ball and stick`.\n",
    "* Change the color: set it to be one color, or try some different matplotlib [color maps](https://matplotlib.org/3.1.0/tutorials/colors/colormaps.html), e.g. `rainbow` or `magma`.\n",
    "* Change the scale."
   ]
  },
  {
   "cell_type": "code",
   "execution_count": 28,
   "metadata": {},
   "outputs": [],
   "source": [
    "with protein.modify():\n",
    "    protein.renderer = {\n",
    "            'sequence': 'polypeptide',\n",
    "            'color': {\n",
    "                'type': 'residue index in entity',\n",
    "                'gradient': get_matplotlib_gradient('rainbow')\n",
    "            },\n",
    "            'render': 'geometric spline',\n",
    "            'scale': 0.2\n",
    "        }\n",
    "    protein.interaction_method = 'single'"
   ]
  },
  {
   "cell_type": "markdown",
   "metadata": {},
   "source": [
    "Let's reintroduce the ligand, oseltamivir, and make it so we interact with it as a group "
   ]
  },
  {
   "cell_type": "code",
   "execution_count": 29,
   "metadata": {},
   "outputs": [],
   "source": [
    "# Select ligand\n",
    "ligand = client.create_selection(\"Ligand\", [])\n",
    "with ligand.modify():\n",
    "    ligand.set_particles(generate_mdanalysis_selection(\"resname OSE\"))"
   ]
  },
  {
   "cell_type": "code",
   "execution_count": 30,
   "metadata": {},
   "outputs": [],
   "source": [
    "with ligand.modify():\n",
    "    ligand.renderer = {\n",
    "            'color': 'cpk',\n",
    "            'scale': 0.1,\n",
    "            'render': 'liquorice'\n",
    "        }\n",
    "    ligand.velocity_reset = True\n",
    "    ligand.interaction_method = 'group'"
   ]
  },
  {
   "cell_type": "markdown",
   "metadata": {},
   "source": [
    "If you've done all that, you'll have something that looks like this:\n",
    "\n",
    "![Neuraminidase Geometric](./images/neuraminidase_geometric_spline.png)"
   ]
  },
  {
   "cell_type": "markdown",
   "metadata": {},
   "source": [
    "# Tidying Up After Yourself"
   ]
  },
  {
   "cell_type": "code",
   "execution_count": 31,
   "metadata": {},
   "outputs": [],
   "source": [
    "client.close()"
   ]
  },
  {
   "cell_type": "code",
   "execution_count": 32,
   "metadata": {},
   "outputs": [],
   "source": [
    "imd.close()\n",
    "nanover_server.close()"
   ]
  },
  {
   "cell_type": "markdown",
   "metadata": {},
   "source": [
    "# Next Steps"
   ]
  },
  {
   "cell_type": "markdown",
   "metadata": {},
   "source": [
    "* Set up an OpenMM simulation of [graphene](./openmm_graphene.ipynb) with restraints and add UI and custom commands in the notebook "
   ]
  },
  {
   "cell_type": "code",
   "execution_count": null,
   "metadata": {},
   "outputs": [],
   "source": []
  }
 ],
 "metadata": {
  "extensions": {
   "jupyter_dashboards": {
    "activeView": "grid_default",
    "version": 1,
    "views": {
     "grid_default": {
      "cellMargin": 10,
      "defaultCellHeight": 20,
      "maxColumns": 12,
      "name": "grid",
      "type": "grid"
     },
     "report_default": {
      "name": "report",
      "type": "report"
     }
    }
   }
  },
  "hide_input": false,
  "kernelspec": {
   "display_name": "Python 3 (ipykernel)",
   "language": "python",
   "name": "python3"
  },
  "language_info": {
   "codemirror_mode": {
    "name": "ipython",
    "version": 3
   },
   "file_extension": ".py",
   "mimetype": "text/x-python",
   "name": "python",
   "nbconvert_exporter": "python",
   "pygments_lexer": "ipython3",
   "version": "3.12.0"
  },
  "pycharm": {
   "stem_cell": {
    "cell_type": "raw",
    "metadata": {
     "collapsed": false
    },
    "source": []
   }
  },
  "toc": {
   "nav_menu": {},
   "number_sections": true,
   "sideBar": true,
   "skip_h1_title": false,
   "toc_cell": false,
   "toc_position": {},
   "toc_section_display": "block",
   "toc_window_display": false
  }
 },
 "nbformat": 4,
 "nbformat_minor": 4
}
