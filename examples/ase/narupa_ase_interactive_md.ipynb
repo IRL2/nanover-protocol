{
 "cells": [
  {
   "cell_type": "markdown",
   "metadata": {},
   "source": [
    "# Narupa ASE with Interactive Molecular Dynamics"
   ]
  },
  {
   "cell_type": "markdown",
   "metadata": {},
   "source": [
    "This notebook runs an OpenMM simulation of a nanotube with ASE, then uses the client to apply a force to it and NGLViewer to visualise it"
   ]
  },
  {
   "cell_type": "code",
   "execution_count": 1,
   "metadata": {
    "ExecuteTime": {
     "end_time": "2019-06-06T16:04:25.392952Z",
     "start_time": "2019-06-06T16:04:24.453212Z"
    },
    "extensions": {
     "jupyter_dashboards": {
      "version": 1,
      "views": {
       "grid_default": {
        "hidden": true
       },
       "report_default": {
        "hidden": true
       }
      }
     }
    }
   },
   "outputs": [
    {
     "data": {
      "application/vnd.jupyter.widget-view+json": {
       "model_id": "2bb42c0ff2b244b3abbe64962856082c",
       "version_major": 2,
       "version_minor": 0
      },
      "text/plain": [
       "_ColormakerRegistry()"
      ]
     },
     "metadata": {},
     "output_type": "display_data"
    }
   ],
   "source": [
    "from narupa.app.client import NarupaImdClient\n",
    "from narupa.ase.openmm import OpenMMIMDRunner\n",
    "from narupa.ase.converter import frame_data_to_ase\n",
    "from narupa.imd.particle_interaction import ParticleInteraction\n",
    "from nglclient import NGLClient\n",
    "import numpy as np\n",
    "import nglview\n",
    "import MDAnalysis as mda\n",
    "import matplotlib.pyplot as plt\n",
    "from queue import Queue"
   ]
  },
  {
   "cell_type": "markdown",
   "metadata": {
    "extensions": {
     "jupyter_dashboards": {
      "version": 1,
      "views": {
       "grid_default": {
        "col": 0,
        "height": 4,
        "hidden": true,
        "row": 0,
        "width": 4
       },
       "report_default": {
        "hidden": false
       }
      }
     }
    }
   },
   "source": [
    "## Run the server"
   ]
  },
  {
   "cell_type": "markdown",
   "metadata": {
    "extensions": {
     "jupyter_dashboards": {
      "version": 1,
      "views": {
       "grid_default": {
        "col": 4,
        "height": 4,
        "hidden": true,
        "row": 0,
        "width": 4
       },
       "report_default": {
        "hidden": false
       }
      }
     }
    }
   },
   "source": [
    "Run the server. Here, we're using ASE, but it could be LAMMPS or OpenMM or anything else. "
   ]
  },
  {
   "cell_type": "code",
   "execution_count": 2,
   "metadata": {
    "ExecuteTime": {
     "end_time": "2019-06-06T16:04:25.397984Z",
     "start_time": "2019-06-06T16:04:25.395015Z"
    },
    "extensions": {
     "jupyter_dashboards": {
      "version": 1,
      "views": {
       "grid_default": {
        "hidden": true
       },
       "report_default": {
        "hidden": true
       }
      }
     }
    }
   },
   "outputs": [],
   "source": [
    "# set up an openmm simulation, or read from file. \n",
    "input_xml = \"nanotube.xml\"\n"
   ]
  },
  {
   "cell_type": "code",
   "execution_count": 3,
   "metadata": {
    "ExecuteTime": {
     "end_time": "2019-06-06T16:04:25.493146Z",
     "start_time": "2019-06-06T16:04:25.400442Z"
    },
    "extensions": {
     "jupyter_dashboards": {
      "version": 1,
      "views": {
       "grid_default": {
        "col": 8,
        "height": 12,
        "hidden": true,
        "row": 0,
        "width": 4
       },
       "report_default": {
        "hidden": false
       }
      }
     }
    },
    "scrolled": true
   },
   "outputs": [
    {
     "name": "stderr",
     "output_type": "stream",
     "text": [
      "C:\\Users\\Mark\\Anaconda3\\envs\\narupa-dev\\lib\\site-packages\\simtk\\openmm\\app\\internal\\pdbstructure.py:536: UserWarning: WARNING: duplicate atom (HETATM    2 mm3_ mm3 A   1      30.047  35.164  32.988  1.00  0.00           C  , HETATM    1 mm3_ mm3 A   1      29.729  34.950  34.124  1.00  0.00           C  )\n",
      "  warnings.warn(\"WARNING: duplicate atom (%s, %s)\" % (atom, old_atom._pdb_string(old_atom.serial_number, atom.alternate_location_indicator)))\n",
      "C:\\Users\\Mark\\Anaconda3\\envs\\narupa-dev\\lib\\site-packages\\simtk\\openmm\\app\\internal\\pdbstructure.py:536: UserWarning: WARNING: duplicate atom (HETATM    3 mm3_ mm3 A   1      31.361  35.154  32.407  1.00  0.00           C  , HETATM    2 mm3_ mm3 A   1      30.047  35.164  32.988  1.00  0.00           C  )\n",
      "  warnings.warn(\"WARNING: duplicate atom (%s, %s)\" % (atom, old_atom._pdb_string(old_atom.serial_number, atom.alternate_location_indicator)))\n",
      "C:\\Users\\Mark\\Anaconda3\\envs\\narupa-dev\\lib\\site-packages\\simtk\\openmm\\app\\internal\\pdbstructure.py:536: UserWarning: WARNING: duplicate atom (HETATM    4 mm3_ mm3 A   1      31.990  36.464  32.037  1.00  0.00           C  , HETATM    3 mm3_ mm3 A   1      31.361  35.154  32.407  1.00  0.00           C  )\n",
      "  warnings.warn(\"WARNING: duplicate atom (%s, %s)\" % (atom, old_atom._pdb_string(old_atom.serial_number, atom.alternate_location_indicator)))\n",
      "C:\\Users\\Mark\\Anaconda3\\envs\\narupa-dev\\lib\\site-packages\\simtk\\openmm\\app\\internal\\pdbstructure.py:536: UserWarning: WARNING: duplicate atom (HETATM    5 mm3_ mm3 A   1      31.251  37.673  32.280  1.00  0.00           C  , HETATM    4 mm3_ mm3 A   1      31.990  36.464  32.037  1.00  0.00           C  )\n",
      "  warnings.warn(\"WARNING: duplicate atom (%s, %s)\" % (atom, old_atom._pdb_string(old_atom.serial_number, atom.alternate_location_indicator)))\n",
      "C:\\Users\\Mark\\Anaconda3\\envs\\narupa-dev\\lib\\site-packages\\simtk\\openmm\\app\\internal\\pdbstructure.py:536: UserWarning: WARNING: duplicate atom (HETATM    6 mm3_ mm3 A   1      31.438  38.508  33.119  1.00  0.00           C  , HETATM    5 mm3_ mm3 A   1      31.251  37.673  32.280  1.00  0.00           C  )\n",
      "  warnings.warn(\"WARNING: duplicate atom (%s, %s)\" % (atom, old_atom._pdb_string(old_atom.serial_number, atom.alternate_location_indicator)))\n",
      "C:\\Users\\Mark\\Anaconda3\\envs\\narupa-dev\\lib\\site-packages\\simtk\\openmm\\app\\internal\\pdbstructure.py:536: UserWarning: WARNING: duplicate atom (HETATM    7 mm3_ mm3 A   1      32.460  38.555  34.126  1.00  0.00           C  , HETATM    6 mm3_ mm3 A   1      31.438  38.508  33.119  1.00  0.00           C  )\n",
      "  warnings.warn(\"WARNING: duplicate atom (%s, %s)\" % (atom, old_atom._pdb_string(old_atom.serial_number, atom.alternate_location_indicator)))\n",
      "C:\\Users\\Mark\\Anaconda3\\envs\\narupa-dev\\lib\\site-packages\\simtk\\openmm\\app\\internal\\pdbstructure.py:536: UserWarning: WARNING: duplicate atom (HETATM    8 mm3_ mm3 A   1      32.081  38.316  35.554  1.00  0.00           C  , HETATM    7 mm3_ mm3 A   1      32.460  38.555  34.126  1.00  0.00           C  )\n",
      "  warnings.warn(\"WARNING: duplicate atom (%s, %s)\" % (atom, old_atom._pdb_string(old_atom.serial_number, atom.alternate_location_indicator)))\n",
      "C:\\Users\\Mark\\Anaconda3\\envs\\narupa-dev\\lib\\site-packages\\simtk\\openmm\\app\\internal\\pdbstructure.py:536: UserWarning: WARNING: duplicate atom (HETATM    9 mm3_ mm3 A   1      30.700  38.168  35.890  1.00  0.00           C  , HETATM    8 mm3_ mm3 A   1      32.081  38.316  35.554  1.00  0.00           C  )\n",
      "  warnings.warn(\"WARNING: duplicate atom (%s, %s)\" % (atom, old_atom._pdb_string(old_atom.serial_number, atom.alternate_location_indicator)))\n",
      "C:\\Users\\Mark\\Anaconda3\\envs\\narupa-dev\\lib\\site-packages\\simtk\\openmm\\app\\internal\\pdbstructure.py:536: UserWarning: WARNING: duplicate atom (HETATM   10 mm3_ mm3 A   1      30.053  36.855  36.271  1.00  0.00           C  , HETATM    9 mm3_ mm3 A   1      30.700  38.168  35.890  1.00  0.00           C  )\n",
      "  warnings.warn(\"WARNING: duplicate atom (%s, %s)\" % (atom, old_atom._pdb_string(old_atom.serial_number, atom.alternate_location_indicator)))\n",
      "C:\\Users\\Mark\\Anaconda3\\envs\\narupa-dev\\lib\\site-packages\\simtk\\openmm\\app\\internal\\pdbstructure.py:536: UserWarning: WARNING: duplicate atom (HETATM   11 mm3_ mm3 A   1      30.789  35.629  36.314  1.00  0.00           C  , HETATM   10 mm3_ mm3 A   1      30.053  36.855  36.271  1.00  0.00           C  )\n",
      "  warnings.warn(\"WARNING: duplicate atom (%s, %s)\" % (atom, old_atom._pdb_string(old_atom.serial_number, atom.alternate_location_indicator)))\n",
      "C:\\Users\\Mark\\Anaconda3\\envs\\narupa-dev\\lib\\site-packages\\simtk\\openmm\\app\\internal\\pdbstructure.py:536: UserWarning: WARNING: duplicate atom (HETATM   12 mm3_ mm3 A   1      30.565  34.610  35.241  1.00  0.00           C  , HETATM   11 mm3_ mm3 A   1      30.789  35.629  36.314  1.00  0.00           C  )\n",
      "  warnings.warn(\"WARNING: duplicate atom (%s, %s)\" % (atom, old_atom._pdb_string(old_atom.serial_number, atom.alternate_location_indicator)))\n",
      "C:\\Users\\Mark\\Anaconda3\\envs\\narupa-dev\\lib\\site-packages\\simtk\\openmm\\app\\internal\\pdbstructure.py:536: UserWarning: WARNING: duplicate atom (HETATM   13 mm3_ mm3 A   1      31.823  33.918  34.703  1.00  0.00           C  , HETATM   12 mm3_ mm3 A   1      30.565  34.610  35.241  1.00  0.00           C  )\n",
      "  warnings.warn(\"WARNING: duplicate atom (%s, %s)\" % (atom, old_atom._pdb_string(old_atom.serial_number, atom.alternate_location_indicator)))\n",
      "C:\\Users\\Mark\\Anaconda3\\envs\\narupa-dev\\lib\\site-packages\\simtk\\openmm\\app\\internal\\pdbstructure.py:536: UserWarning: WARNING: duplicate atom (HETATM   14 mm3_ mm3 A   1      32.238  34.199  33.228  1.00  0.00           C  , HETATM   13 mm3_ mm3 A   1      31.823  33.918  34.703  1.00  0.00           C  )\n",
      "  warnings.warn(\"WARNING: duplicate atom (%s, %s)\" % (atom, old_atom._pdb_string(old_atom.serial_number, atom.alternate_location_indicator)))\n",
      "C:\\Users\\Mark\\Anaconda3\\envs\\narupa-dev\\lib\\site-packages\\simtk\\openmm\\app\\internal\\pdbstructure.py:536: UserWarning: WARNING: duplicate atom (HETATM   15 mm3_ mm3 A   1      33.710  34.171  32.947  1.00  0.00           C  , HETATM   14 mm3_ mm3 A   1      32.238  34.199  33.228  1.00  0.00           C  )\n",
      "  warnings.warn(\"WARNING: duplicate atom (%s, %s)\" % (atom, old_atom._pdb_string(old_atom.serial_number, atom.alternate_location_indicator)))\n",
      "C:\\Users\\Mark\\Anaconda3\\envs\\narupa-dev\\lib\\site-packages\\simtk\\openmm\\app\\internal\\pdbstructure.py:536: UserWarning: WARNING: duplicate atom (HETATM   16 mm3_ mm3 A   1      34.345  35.492  32.573  1.00  0.00           C  , HETATM   15 mm3_ mm3 A   1      33.710  34.171  32.947  1.00  0.00           C  )\n",
      "  warnings.warn(\"WARNING: duplicate atom (%s, %s)\" % (atom, old_atom._pdb_string(old_atom.serial_number, atom.alternate_location_indicator)))\n",
      "C:\\Users\\Mark\\Anaconda3\\envs\\narupa-dev\\lib\\site-packages\\simtk\\openmm\\app\\internal\\pdbstructure.py:536: UserWarning: WARNING: duplicate atom (HETATM   17 mm3_ mm3 A   1      33.429  36.677  32.527  1.00  0.00           C  , HETATM   16 mm3_ mm3 A   1      34.345  35.492  32.573  1.00  0.00           C  )\n",
      "  warnings.warn(\"WARNING: duplicate atom (%s, %s)\" % (atom, old_atom._pdb_string(old_atom.serial_number, atom.alternate_location_indicator)))\n",
      "C:\\Users\\Mark\\Anaconda3\\envs\\narupa-dev\\lib\\site-packages\\simtk\\openmm\\app\\internal\\pdbstructure.py:536: UserWarning: WARNING: duplicate atom (HETATM   18 mm3_ mm3 A   1      33.672  37.765  33.615  1.00  0.00           C  , HETATM   17 mm3_ mm3 A   1      33.429  36.677  32.527  1.00  0.00           C  )\n",
      "  warnings.warn(\"WARNING: duplicate atom (%s, %s)\" % (atom, old_atom._pdb_string(old_atom.serial_number, atom.alternate_location_indicator)))\n",
      "C:\\Users\\Mark\\Anaconda3\\envs\\narupa-dev\\lib\\site-packages\\simtk\\openmm\\app\\internal\\pdbstructure.py:536: UserWarning: WARNING: duplicate atom (HETATM   19 mm3_ mm3 A   1      34.784  37.487  34.578  1.00  0.00           C  , HETATM   18 mm3_ mm3 A   1      33.672  37.765  33.615  1.00  0.00           C  )\n",
      "  warnings.warn(\"WARNING: duplicate atom (%s, %s)\" % (atom, old_atom._pdb_string(old_atom.serial_number, atom.alternate_location_indicator)))\n",
      "C:\\Users\\Mark\\Anaconda3\\envs\\narupa-dev\\lib\\site-packages\\simtk\\openmm\\app\\internal\\pdbstructure.py:536: UserWarning: WARNING: duplicate atom (HETATM   20 mm3_ mm3 A   1      34.374  37.216  36.009  1.00  0.00           C  , HETATM   19 mm3_ mm3 A   1      34.784  37.487  34.578  1.00  0.00           C  )\n",
      "  warnings.warn(\"WARNING: duplicate atom (%s, %s)\" % (atom, old_atom._pdb_string(old_atom.serial_number, atom.alternate_location_indicator)))\n",
      "C:\\Users\\Mark\\Anaconda3\\envs\\narupa-dev\\lib\\site-packages\\simtk\\openmm\\app\\internal\\pdbstructure.py:536: UserWarning: WARNING: duplicate atom (HETATM   21 mm3_ mm3 A   1      32.900  37.261  36.294  1.00  0.00           C  , HETATM   20 mm3_ mm3 A   1      34.374  37.216  36.009  1.00  0.00           C  )\n",
      "  warnings.warn(\"WARNING: duplicate atom (%s, %s)\" % (atom, old_atom._pdb_string(old_atom.serial_number, atom.alternate_location_indicator)))\n",
      "C:\\Users\\Mark\\Anaconda3\\envs\\narupa-dev\\lib\\site-packages\\simtk\\openmm\\app\\internal\\pdbstructure.py:536: UserWarning: WARNING: duplicate atom (HETATM   22 mm3_ mm3 A   1      32.247  35.904  36.679  1.00  0.00           C  , HETATM   21 mm3_ mm3 A   1      32.900  37.261  36.294  1.00  0.00           C  )\n",
      "  warnings.warn(\"WARNING: duplicate atom (%s, %s)\" % (atom, old_atom._pdb_string(old_atom.serial_number, atom.alternate_location_indicator)))\n",
      "C:\\Users\\Mark\\Anaconda3\\envs\\narupa-dev\\lib\\site-packages\\simtk\\openmm\\app\\internal\\pdbstructure.py:536: UserWarning: WARNING: duplicate atom (HETATM   23 mm3_ mm3 A   1      33.176  34.723  36.714  1.00  0.00           C  , HETATM   22 mm3_ mm3 A   1      32.247  35.904  36.679  1.00  0.00           C  )\n",
      "  warnings.warn(\"WARNING: duplicate atom (%s, %s)\" % (atom, old_atom._pdb_string(old_atom.serial_number, atom.alternate_location_indicator)))\n",
      "C:\\Users\\Mark\\Anaconda3\\envs\\narupa-dev\\lib\\site-packages\\simtk\\openmm\\app\\internal\\pdbstructure.py:536: UserWarning: WARNING: duplicate atom (HETATM   24 mm3_ mm3 A   1      32.947  33.664  35.659  1.00  0.00           C  , HETATM   23 mm3_ mm3 A   1      33.176  34.723  36.714  1.00  0.00           C  )\n",
      "  warnings.warn(\"WARNING: duplicate atom (%s, %s)\" % (atom, old_atom._pdb_string(old_atom.serial_number, atom.alternate_location_indicator)))\n",
      "C:\\Users\\Mark\\Anaconda3\\envs\\narupa-dev\\lib\\site-packages\\simtk\\openmm\\app\\internal\\pdbstructure.py:536: UserWarning: WARNING: duplicate atom (HETATM   25 mm3_ mm3 A   1      34.162  32.946  35.158  1.00  0.00           C  , HETATM   24 mm3_ mm3 A   1      32.947  33.664  35.659  1.00  0.00           C  )\n",
      "  warnings.warn(\"WARNING: duplicate atom (%s, %s)\" % (atom, old_atom._pdb_string(old_atom.serial_number, atom.alternate_location_indicator)))\n",
      "C:\\Users\\Mark\\Anaconda3\\envs\\narupa-dev\\lib\\site-packages\\simtk\\openmm\\app\\internal\\pdbstructure.py:536: UserWarning: WARNING: duplicate atom (HETATM   26 mm3_ mm3 A   1      34.567  33.213  33.721  1.00  0.00           C  , HETATM   25 mm3_ mm3 A   1      34.162  32.946  35.158  1.00  0.00           C  )\n",
      "  warnings.warn(\"WARNING: duplicate atom (%s, %s)\" % (atom, old_atom._pdb_string(old_atom.serial_number, atom.alternate_location_indicator)))\n",
      "C:\\Users\\Mark\\Anaconda3\\envs\\narupa-dev\\lib\\site-packages\\simtk\\openmm\\app\\internal\\pdbstructure.py:536: UserWarning: WARNING: duplicate atom (HETATM   27 mm3_ mm3 A   1      36.040  33.186  33.429  1.00  0.00           C  , HETATM   26 mm3_ mm3 A   1      34.567  33.213  33.721  1.00  0.00           C  )\n",
      "  warnings.warn(\"WARNING: duplicate atom (%s, %s)\" % (atom, old_atom._pdb_string(old_atom.serial_number, atom.alternate_location_indicator)))\n",
      "C:\\Users\\Mark\\Anaconda3\\envs\\narupa-dev\\lib\\site-packages\\simtk\\openmm\\app\\internal\\pdbstructure.py:536: UserWarning: WARNING: duplicate atom (HETATM   28 mm3_ mm3 A   1      36.676  34.508  33.055  1.00  0.00           C  , HETATM   27 mm3_ mm3 A   1      36.040  33.186  33.429  1.00  0.00           C  )\n",
      "  warnings.warn(\"WARNING: duplicate atom (%s, %s)\" % (atom, old_atom._pdb_string(old_atom.serial_number, atom.alternate_location_indicator)))\n",
      "C:\\Users\\Mark\\Anaconda3\\envs\\narupa-dev\\lib\\site-packages\\simtk\\openmm\\app\\internal\\pdbstructure.py:536: UserWarning: WARNING: duplicate atom (HETATM   29 mm3_ mm3 A   1      35.763  35.700  33.018  1.00  0.00           C  , HETATM   28 mm3_ mm3 A   1      36.676  34.508  33.055  1.00  0.00           C  )\n",
      "  warnings.warn(\"WARNING: duplicate atom (%s, %s)\" % (atom, old_atom._pdb_string(old_atom.serial_number, atom.alternate_location_indicator)))\n",
      "C:\\Users\\Mark\\Anaconda3\\envs\\narupa-dev\\lib\\site-packages\\simtk\\openmm\\app\\internal\\pdbstructure.py:536: UserWarning: WARNING: duplicate atom (HETATM   30 mm3_ mm3 A   1      35.994  36.757  34.080  1.00  0.00           C  , HETATM   29 mm3_ mm3 A   1      35.763  35.700  33.018  1.00  0.00           C  )\n",
      "  warnings.warn(\"WARNING: duplicate atom (%s, %s)\" % (atom, old_atom._pdb_string(old_atom.serial_number, atom.alternate_location_indicator)))\n",
      "C:\\Users\\Mark\\Anaconda3\\envs\\narupa-dev\\lib\\site-packages\\simtk\\openmm\\app\\internal\\pdbstructure.py:536: UserWarning: WARNING: duplicate atom (HETATM   31 mm3_ mm3 A   1      37.108  36.496  35.050  1.00  0.00           C  , HETATM   30 mm3_ mm3 A   1      35.994  36.757  34.080  1.00  0.00           C  )\n",
      "  warnings.warn(\"WARNING: duplicate atom (%s, %s)\" % (atom, old_atom._pdb_string(old_atom.serial_number, atom.alternate_location_indicator)))\n",
      "C:\\Users\\Mark\\Anaconda3\\envs\\narupa-dev\\lib\\site-packages\\simtk\\openmm\\app\\internal\\pdbstructure.py:536: UserWarning: WARNING: duplicate atom (HETATM   32 mm3_ mm3 A   1      36.702  36.228  36.486  1.00  0.00           C  , HETATM   31 mm3_ mm3 A   1      37.108  36.496  35.050  1.00  0.00           C  )\n",
      "  warnings.warn(\"WARNING: duplicate atom (%s, %s)\" % (atom, old_atom._pdb_string(old_atom.serial_number, atom.alternate_location_indicator)))\n",
      "C:\\Users\\Mark\\Anaconda3\\envs\\narupa-dev\\lib\\site-packages\\simtk\\openmm\\app\\internal\\pdbstructure.py:536: UserWarning: WARNING: duplicate atom (HETATM   33 mm3_ mm3 A   1      35.229  36.255  36.778  1.00  0.00           C  , HETATM   32 mm3_ mm3 A   1      36.702  36.228  36.486  1.00  0.00           C  )\n",
      "  warnings.warn(\"WARNING: duplicate atom (%s, %s)\" % (atom, old_atom._pdb_string(old_atom.serial_number, atom.alternate_location_indicator)))\n",
      "C:\\Users\\Mark\\Anaconda3\\envs\\narupa-dev\\lib\\site-packages\\simtk\\openmm\\app\\internal\\pdbstructure.py:536: UserWarning: WARNING: duplicate atom (HETATM   34 mm3_ mm3 A   1      34.593  34.933  37.153  1.00  0.00           C  , HETATM   33 mm3_ mm3 A   1      35.229  36.255  36.778  1.00  0.00           C  )\n",
      "  warnings.warn(\"WARNING: duplicate atom (%s, %s)\" % (atom, old_atom._pdb_string(old_atom.serial_number, atom.alternate_location_indicator)))\n",
      "C:\\Users\\Mark\\Anaconda3\\envs\\narupa-dev\\lib\\site-packages\\simtk\\openmm\\app\\internal\\pdbstructure.py:536: UserWarning: WARNING: duplicate atom (HETATM   35 mm3_ mm3 A   1      35.506  33.741  37.190  1.00  0.00           C  , HETATM   34 mm3_ mm3 A   1      34.593  34.933  37.153  1.00  0.00           C  )\n",
      "  warnings.warn(\"WARNING: duplicate atom (%s, %s)\" % (atom, old_atom._pdb_string(old_atom.serial_number, atom.alternate_location_indicator)))\n",
      "C:\\Users\\Mark\\Anaconda3\\envs\\narupa-dev\\lib\\site-packages\\simtk\\openmm\\app\\internal\\pdbstructure.py:536: UserWarning: WARNING: duplicate atom (HETATM   36 mm3_ mm3 A   1      35.275  32.684  36.128  1.00  0.00           C  , HETATM   35 mm3_ mm3 A   1      35.506  33.741  37.190  1.00  0.00           C  )\n",
      "  warnings.warn(\"WARNING: duplicate atom (%s, %s)\" % (atom, old_atom._pdb_string(old_atom.serial_number, atom.alternate_location_indicator)))\n",
      "C:\\Users\\Mark\\Anaconda3\\envs\\narupa-dev\\lib\\site-packages\\simtk\\openmm\\app\\internal\\pdbstructure.py:536: UserWarning: WARNING: duplicate atom (HETATM   37 mm3_ mm3 A   1      36.485  31.955  35.629  1.00  0.00           C  , HETATM   36 mm3_ mm3 A   1      35.275  32.684  36.128  1.00  0.00           C  )\n",
      "  warnings.warn(\"WARNING: duplicate atom (%s, %s)\" % (atom, old_atom._pdb_string(old_atom.serial_number, atom.alternate_location_indicator)))\n",
      "C:\\Users\\Mark\\Anaconda3\\envs\\narupa-dev\\lib\\site-packages\\simtk\\openmm\\app\\internal\\pdbstructure.py:536: UserWarning: WARNING: duplicate atom (HETATM   38 mm3_ mm3 A   1      36.895  32.226  34.199  1.00  0.00           C  , HETATM   37 mm3_ mm3 A   1      36.485  31.955  35.629  1.00  0.00           C  )\n",
      "  warnings.warn(\"WARNING: duplicate atom (%s, %s)\" % (atom, old_atom._pdb_string(old_atom.serial_number, atom.alternate_location_indicator)))\n",
      "C:\\Users\\Mark\\Anaconda3\\envs\\narupa-dev\\lib\\site-packages\\simtk\\openmm\\app\\internal\\pdbstructure.py:536: UserWarning: WARNING: duplicate atom (HETATM   39 mm3_ mm3 A   1      38.369  32.180  33.914  1.00  0.00           C  , HETATM   38 mm3_ mm3 A   1      36.895  32.226  34.199  1.00  0.00           C  )\n",
      "  warnings.warn(\"WARNING: duplicate atom (%s, %s)\" % (atom, old_atom._pdb_string(old_atom.serial_number, atom.alternate_location_indicator)))\n",
      "C:\\Users\\Mark\\Anaconda3\\envs\\narupa-dev\\lib\\site-packages\\simtk\\openmm\\app\\internal\\pdbstructure.py:536: UserWarning: WARNING: duplicate atom (HETATM   40 mm3_ mm3 A   1      39.023  33.538  33.529  1.00  0.00           C  , HETATM   39 mm3_ mm3 A   1      38.369  32.180  33.914  1.00  0.00           C  )\n",
      "  warnings.warn(\"WARNING: duplicate atom (%s, %s)\" % (atom, old_atom._pdb_string(old_atom.serial_number, atom.alternate_location_indicator)))\n",
      "C:\\Users\\Mark\\Anaconda3\\envs\\narupa-dev\\lib\\site-packages\\simtk\\openmm\\app\\internal\\pdbstructure.py:536: UserWarning: WARNING: duplicate atom (HETATM   41 mm3_ mm3 A   1      38.094  34.718  33.493  1.00  0.00           C  , HETATM   40 mm3_ mm3 A   1      39.023  33.538  33.529  1.00  0.00           C  )\n",
      "  warnings.warn(\"WARNING: duplicate atom (%s, %s)\" % (atom, old_atom._pdb_string(old_atom.serial_number, atom.alternate_location_indicator)))\n",
      "C:\\Users\\Mark\\Anaconda3\\envs\\narupa-dev\\lib\\site-packages\\simtk\\openmm\\app\\internal\\pdbstructure.py:536: UserWarning: WARNING: duplicate atom (HETATM   42 mm3_ mm3 A   1      38.323  35.778  34.548  1.00  0.00           C  , HETATM   41 mm3_ mm3 A   1      38.094  34.718  33.493  1.00  0.00           C  )\n",
      "  warnings.warn(\"WARNING: duplicate atom (%s, %s)\" % (atom, old_atom._pdb_string(old_atom.serial_number, atom.alternate_location_indicator)))\n",
      "C:\\Users\\Mark\\Anaconda3\\envs\\narupa-dev\\lib\\site-packages\\simtk\\openmm\\app\\internal\\pdbstructure.py:536: UserWarning: WARNING: duplicate atom (HETATM   43 mm3_ mm3 A   1      39.446  35.524  35.505  1.00  0.00           C  , HETATM   42 mm3_ mm3 A   1      38.323  35.778  34.548  1.00  0.00           C  )\n",
      "  warnings.warn(\"WARNING: duplicate atom (%s, %s)\" % (atom, old_atom._pdb_string(old_atom.serial_number, atom.alternate_location_indicator)))\n",
      "C:\\Users\\Mark\\Anaconda3\\envs\\narupa-dev\\lib\\site-packages\\simtk\\openmm\\app\\internal\\pdbstructure.py:536: UserWarning: WARNING: duplicate atom (HETATM   44 mm3_ mm3 A   1      39.031  35.243  36.980  1.00  0.00           C  , HETATM   43 mm3_ mm3 A   1      39.446  35.524  35.505  1.00  0.00           C  )\n",
      "  warnings.warn(\"WARNING: duplicate atom (%s, %s)\" % (atom, old_atom._pdb_string(old_atom.serial_number, atom.alternate_location_indicator)))\n",
      "C:\\Users\\Mark\\Anaconda3\\envs\\narupa-dev\\lib\\site-packages\\simtk\\openmm\\app\\internal\\pdbstructure.py:536: UserWarning: WARNING: duplicate atom (HETATM   45 mm3_ mm3 A   1      37.559  35.271  37.260  1.00  0.00           C  , HETATM   44 mm3_ mm3 A   1      39.031  35.243  36.980  1.00  0.00           C  )\n",
      "  warnings.warn(\"WARNING: duplicate atom (%s, %s)\" % (atom, old_atom._pdb_string(old_atom.serial_number, atom.alternate_location_indicator)))\n",
      "C:\\Users\\Mark\\Anaconda3\\envs\\narupa-dev\\lib\\site-packages\\simtk\\openmm\\app\\internal\\pdbstructure.py:536: UserWarning: WARNING: duplicate atom (HETATM   46 mm3_ mm3 A   1      36.924  33.950  37.634  1.00  0.00           C  , HETATM   45 mm3_ mm3 A   1      37.559  35.271  37.260  1.00  0.00           C  )\n",
      "  warnings.warn(\"WARNING: duplicate atom (%s, %s)\" % (atom, old_atom._pdb_string(old_atom.serial_number, atom.alternate_location_indicator)))\n",
      "C:\\Users\\Mark\\Anaconda3\\envs\\narupa-dev\\lib\\site-packages\\simtk\\openmm\\app\\internal\\pdbstructure.py:536: UserWarning: WARNING: duplicate atom (HETATM   47 mm3_ mm3 A   1      37.840  32.764  37.681  1.00  0.00           C  , HETATM   46 mm3_ mm3 A   1      36.924  33.950  37.634  1.00  0.00           C  )\n",
      "  warnings.warn(\"WARNING: duplicate atom (%s, %s)\" % (atom, old_atom._pdb_string(old_atom.serial_number, atom.alternate_location_indicator)))\n",
      "C:\\Users\\Mark\\Anaconda3\\envs\\narupa-dev\\lib\\site-packages\\simtk\\openmm\\app\\internal\\pdbstructure.py:536: UserWarning: WARNING: duplicate atom (HETATM   48 mm3_ mm3 A   1      37.597  31.676  36.593  1.00  0.00           C  , HETATM   47 mm3_ mm3 A   1      37.840  32.764  37.681  1.00  0.00           C  )\n",
      "  warnings.warn(\"WARNING: duplicate atom (%s, %s)\" % (atom, old_atom._pdb_string(old_atom.serial_number, atom.alternate_location_indicator)))\n",
      "C:\\Users\\Mark\\Anaconda3\\envs\\narupa-dev\\lib\\site-packages\\simtk\\openmm\\app\\internal\\pdbstructure.py:536: UserWarning: WARNING: duplicate atom (HETATM   49 mm3_ mm3 A   1      38.809  30.886  36.082  1.00  0.00           C  , HETATM   48 mm3_ mm3 A   1      37.597  31.676  36.593  1.00  0.00           C  )\n",
      "  warnings.warn(\"WARNING: duplicate atom (%s, %s)\" % (atom, old_atom._pdb_string(old_atom.serial_number, atom.alternate_location_indicator)))\n",
      "C:\\Users\\Mark\\Anaconda3\\envs\\narupa-dev\\lib\\site-packages\\simtk\\openmm\\app\\internal\\pdbstructure.py:536: UserWarning: WARNING: duplicate atom (HETATM   50 mm3_ mm3 A   1      39.188  31.126  34.654  1.00  0.00           C  , HETATM   49 mm3_ mm3 A   1      38.809  30.886  36.082  1.00  0.00           C  )\n",
      "  warnings.warn(\"WARNING: duplicate atom (%s, %s)\" % (atom, old_atom._pdb_string(old_atom.serial_number, atom.alternate_location_indicator)))\n",
      "C:\\Users\\Mark\\Anaconda3\\envs\\narupa-dev\\lib\\site-packages\\simtk\\openmm\\app\\internal\\pdbstructure.py:536: UserWarning: WARNING: duplicate atom (HETATM   51 mm3_ mm3 A   1      40.570  31.274  34.320  1.00  0.00           C  , HETATM   50 mm3_ mm3 A   1      39.188  31.126  34.654  1.00  0.00           C  )\n",
      "  warnings.warn(\"WARNING: duplicate atom (%s, %s)\" % (atom, old_atom._pdb_string(old_atom.serial_number, atom.alternate_location_indicator)))\n",
      "C:\\Users\\Mark\\Anaconda3\\envs\\narupa-dev\\lib\\site-packages\\simtk\\openmm\\app\\internal\\pdbstructure.py:536: UserWarning: WARNING: duplicate atom (HETATM   52 mm3_ mm3 A   1      41.217  32.586  33.939  1.00  0.00           C  , HETATM   51 mm3_ mm3 A   1      40.570  31.274  34.320  1.00  0.00           C  )\n",
      "  warnings.warn(\"WARNING: duplicate atom (%s, %s)\" % (atom, old_atom._pdb_string(old_atom.serial_number, atom.alternate_location_indicator)))\n",
      "C:\\Users\\Mark\\Anaconda3\\envs\\narupa-dev\\lib\\site-packages\\simtk\\openmm\\app\\internal\\pdbstructure.py:536: UserWarning: WARNING: duplicate atom (HETATM   53 mm3_ mm3 A   1      40.481  33.812  33.894  1.00  0.00           C  , HETATM   52 mm3_ mm3 A   1      41.217  32.586  33.939  1.00  0.00           C  )\n",
      "  warnings.warn(\"WARNING: duplicate atom (%s, %s)\" % (atom, old_atom._pdb_string(old_atom.serial_number, atom.alternate_location_indicator)))\n",
      "C:\\Users\\Mark\\Anaconda3\\envs\\narupa-dev\\lib\\site-packages\\simtk\\openmm\\app\\internal\\pdbstructure.py:536: UserWarning: WARNING: duplicate atom (HETATM   54 mm3_ mm3 A   1      40.705  34.831  34.967  1.00  0.00           C  , HETATM   53 mm3_ mm3 A   1      40.481  33.812  33.894  1.00  0.00           C  )\n",
      "  warnings.warn(\"WARNING: duplicate atom (%s, %s)\" % (atom, old_atom._pdb_string(old_atom.serial_number, atom.alternate_location_indicator)))\n",
      "C:\\Users\\Mark\\Anaconda3\\envs\\narupa-dev\\lib\\site-packages\\simtk\\openmm\\app\\internal\\pdbstructure.py:536: UserWarning: WARNING: duplicate atom (HETATM   55 mm3_ mm3 A   1      41.541  34.490  36.084  1.00  0.00           C  , HETATM   54 mm3_ mm3 A   1      40.705  34.831  34.967  1.00  0.00           C  )\n",
      "  warnings.warn(\"WARNING: duplicate atom (%s, %s)\" % (atom, old_atom._pdb_string(old_atom.serial_number, atom.alternate_location_indicator)))\n",
      "C:\\Users\\Mark\\Anaconda3\\envs\\narupa-dev\\lib\\site-packages\\simtk\\openmm\\app\\internal\\pdbstructure.py:536: UserWarning: WARNING: duplicate atom (HETATM   56 mm3_ mm3 A   1      41.222  34.277  37.220  1.00  0.00           C  , HETATM   55 mm3_ mm3 A   1      41.541  34.490  36.084  1.00  0.00           C  )\n",
      "  warnings.warn(\"WARNING: duplicate atom (%s, %s)\" % (atom, old_atom._pdb_string(old_atom.serial_number, atom.alternate_location_indicator)))\n",
      "C:\\Users\\Mark\\Anaconda3\\envs\\narupa-dev\\lib\\site-packages\\simtk\\openmm\\app\\internal\\pdbstructure.py:536: UserWarning: WARNING: duplicate atom (HETATM   57 mm3_ mm3 A   1      39.908  34.287  37.801  1.00  0.00           C  , HETATM   56 mm3_ mm3 A   1      41.222  34.277  37.220  1.00  0.00           C  )\n",
      "  warnings.warn(\"WARNING: duplicate atom (%s, %s)\" % (atom, old_atom._pdb_string(old_atom.serial_number, atom.alternate_location_indicator)))\n",
      "C:\\Users\\Mark\\Anaconda3\\envs\\narupa-dev\\lib\\site-packages\\simtk\\openmm\\app\\internal\\pdbstructure.py:536: UserWarning: WARNING: duplicate atom (HETATM   58 mm3_ mm3 A   1      39.279  32.978  38.172  1.00  0.00           C  , HETATM   57 mm3_ mm3 A   1      39.908  34.287  37.801  1.00  0.00           C  )\n",
      "  warnings.warn(\"WARNING: duplicate atom (%s, %s)\" % (atom, old_atom._pdb_string(old_atom.serial_number, atom.alternate_location_indicator)))\n",
      "C:\\Users\\Mark\\Anaconda3\\envs\\narupa-dev\\lib\\site-packages\\simtk\\openmm\\app\\internal\\pdbstructure.py:536: UserWarning: WARNING: duplicate atom (HETATM   59 mm3_ mm3 A   1      40.017  31.769  37.928  1.00  0.00           C  , HETATM   58 mm3_ mm3 A   1      39.279  32.978  38.172  1.00  0.00           C  )\n",
      "  warnings.warn(\"WARNING: duplicate atom (%s, %s)\" % (atom, old_atom._pdb_string(old_atom.serial_number, atom.alternate_location_indicator)))\n",
      "C:\\Users\\Mark\\Anaconda3\\envs\\narupa-dev\\lib\\site-packages\\simtk\\openmm\\app\\internal\\pdbstructure.py:536: UserWarning: WARNING: duplicate atom (HETATM   60 mm3_ mm3 A   1      39.831  30.934  37.089  1.00  0.00           C  , HETATM   59 mm3_ mm3 A   1      40.017  31.769  37.928  1.00  0.00           C  )\n",
      "  warnings.warn(\"WARNING: duplicate atom (%s, %s)\" % (atom, old_atom._pdb_string(old_atom.serial_number, atom.alternate_location_indicator)))\n",
      "C:\\Users\\Mark\\Anaconda3\\envs\\narupa-dev\\lib\\site-packages\\simtk\\openmm\\app\\internal\\pdbstructure.py:536: UserWarning: WARNING: duplicate atom (HETATM   61 mm3_ mm3 A   1      27.387  38.353  33.755  1.00  0.00           C  , HETATM   60 mm3_ mm3 A   1      39.831  30.934  37.089  1.00  0.00           C  )\n",
      "  warnings.warn(\"WARNING: duplicate atom (%s, %s)\" % (atom, old_atom._pdb_string(old_atom.serial_number, atom.alternate_location_indicator)))\n",
      "C:\\Users\\Mark\\Anaconda3\\envs\\narupa-dev\\lib\\site-packages\\simtk\\openmm\\app\\internal\\pdbstructure.py:536: UserWarning: WARNING: duplicate atom (HETATM   62 mm3_ mm3 A   1      26.655  38.791  34.437  1.00  0.00           H  , HETATM   61 mm3_ mm3 A   1      27.387  38.353  33.755  1.00  0.00           C  )\n",
      "  warnings.warn(\"WARNING: duplicate atom (%s, %s)\" % (atom, old_atom._pdb_string(old_atom.serial_number, atom.alternate_location_indicator)))\n",
      "C:\\Users\\Mark\\Anaconda3\\envs\\narupa-dev\\lib\\site-packages\\simtk\\openmm\\app\\internal\\pdbstructure.py:536: UserWarning: WARNING: duplicate atom (HETATM   63 mm3_ mm3 A   1      28.292  38.964  33.754  1.00  0.00           H  , HETATM   62 mm3_ mm3 A   1      26.655  38.791  34.437  1.00  0.00           H  )\n",
      "  warnings.warn(\"WARNING: duplicate atom (%s, %s)\" % (atom, old_atom._pdb_string(old_atom.serial_number, atom.alternate_location_indicator)))\n",
      "C:\\Users\\Mark\\Anaconda3\\envs\\narupa-dev\\lib\\site-packages\\simtk\\openmm\\app\\internal\\pdbstructure.py:536: UserWarning: WARNING: duplicate atom (HETATM   64 mm3_ mm3 A   1      27.629  37.341  34.085  1.00  0.00           H  , HETATM   63 mm3_ mm3 A   1      28.292  38.964  33.754  1.00  0.00           H  )\n",
      "  warnings.warn(\"WARNING: duplicate atom (%s, %s)\" % (atom, old_atom._pdb_string(old_atom.serial_number, atom.alternate_location_indicator)))\n",
      "C:\\Users\\Mark\\Anaconda3\\envs\\narupa-dev\\lib\\site-packages\\simtk\\openmm\\app\\internal\\pdbstructure.py:536: UserWarning: WARNING: duplicate atom (HETATM   65 mm3_ mm3 A   1      26.971  38.317  32.746  1.00  0.00           H  , HETATM   64 mm3_ mm3 A   1      27.629  37.341  34.085  1.00  0.00           H  )\n",
      "  warnings.warn(\"WARNING: duplicate atom (%s, %s)\" % (atom, old_atom._pdb_string(old_atom.serial_number, atom.alternate_location_indicator)))\n"
     ]
    }
   ],
   "source": [
    "runner = OpenMMIMDRunner.from_xml(input_xml)"
   ]
  },
  {
   "cell_type": "markdown",
   "metadata": {
    "extensions": {
     "jupyter_dashboards": {
      "version": 1,
      "views": {
       "grid_default": {
        "col": 0,
        "height": 4,
        "hidden": true,
        "row": 4,
        "width": 4
       },
       "report_default": {
        "hidden": false
       }
      }
     }
    }
   },
   "source": [
    "Run dynamics in background thread"
   ]
  },
  {
   "cell_type": "code",
   "execution_count": 4,
   "metadata": {
    "ExecuteTime": {
     "end_time": "2019-06-06T16:04:25.725110Z",
     "start_time": "2019-06-06T16:04:25.701637Z"
    },
    "extensions": {
     "jupyter_dashboards": {
      "version": 1,
      "views": {
       "grid_default": {
        "hidden": true
       },
       "report_default": {
        "hidden": true
       }
      }
     }
    }
   },
   "outputs": [],
   "source": [
    "runner.run()"
   ]
  },
  {
   "cell_type": "code",
   "execution_count": 5,
   "metadata": {
    "ExecuteTime": {
     "end_time": "2019-06-06T16:04:25.876184Z",
     "start_time": "2019-06-06T16:04:25.800104Z"
    },
    "extensions": {
     "jupyter_dashboards": {
      "version": 1,
      "views": {
       "grid_default": {
        "col": 4,
        "height": 4,
        "hidden": true,
        "row": 0,
        "width": 4
       },
       "report_default": {
        "hidden": false
       }
      }
     }
    }
   },
   "outputs": [
    {
     "data": {
      "text/plain": [
       "0.7858155830771251"
      ]
     },
     "execution_count": 5,
     "metadata": {},
     "output_type": "execute_result"
    }
   ],
   "source": [
    "# print the time to check dynamics is running\n",
    "runner.dynamics.get_time()"
   ]
  },
  {
   "cell_type": "markdown",
   "metadata": {
    "extensions": {
     "jupyter_dashboards": {
      "version": 1,
      "views": {
       "grid_default": {
        "col": 0,
        "height": 4,
        "hidden": true,
        "row": 4,
        "width": 4
       },
       "report_default": {
        "hidden": false
       }
      }
     }
    }
   },
   "source": [
    "## Start an IMD client"
   ]
  },
  {
   "cell_type": "code",
   "execution_count": 6,
   "metadata": {
    "ExecuteTime": {
     "end_time": "2019-06-06T16:04:26.572274Z",
     "start_time": "2019-06-06T16:04:26.482553Z"
    },
    "extensions": {
     "jupyter_dashboards": {
      "version": 1,
      "views": {
       "grid_default": {
        "col": 0,
        "height": 19,
        "hidden": false,
        "row": 11,
        "width": 7
       },
       "report_default": {
        "hidden": false
       }
      }
     }
    }
   },
   "outputs": [],
   "source": [
    "client = NGLClient.autoconnect()"
   ]
  },
  {
   "cell_type": "code",
   "execution_count": 7,
   "metadata": {
    "ExecuteTime": {
     "end_time": "2019-06-06T16:04:26.674930Z",
     "start_time": "2019-06-06T16:04:26.619824Z"
    }
   },
   "outputs": [],
   "source": [
    "positions = np.array(client.latest_frame.particle_positions) * 10\n",
    "start_point = positions[60, :]\n",
    "first_nanotube_anchor = positions[0, :]\n",
    "last_nanotube_anchor = positions[59, :]"
   ]
  },
  {
   "cell_type": "code",
   "execution_count": 8,
   "metadata": {
    "ExecuteTime": {
     "end_time": "2019-06-06T16:04:26.778540Z",
     "start_time": "2019-06-06T16:04:26.721845Z"
    }
   },
   "outputs": [],
   "source": [
    "anchor1 = ParticleInteraction(position=first_nanotube_anchor, scale=5000, particles=(0,), interaction_type='gaussian')\n",
    "anchor2 = ParticleInteraction(position=last_nanotube_anchor, scale=5000, particles=(59,), interaction_type='gaussian')\n",
    "\n",
    "anchor1_id = client.start_interaction()\n",
    "client.update_interaction(anchor1_id, anchor1)\n",
    "anchor2_id = client.start_interaction()\n",
    "client.update_interaction(anchor2_id, anchor2)"
   ]
  },
  {
   "cell_type": "code",
   "execution_count": 9,
   "metadata": {
    "ExecuteTime": {
     "end_time": "2019-06-06T16:04:26.884708Z",
     "start_time": "2019-06-06T16:04:26.827325Z"
    }
   },
   "outputs": [],
   "source": [
    "interaction = ParticleInteraction(position=start_point, scale=10000, particles=(60,), interaction_type='spring')\n",
    "interaction_id = client.start_interaction()\n",
    "client.update_interaction(interaction_id, interaction)"
   ]
  },
  {
   "cell_type": "code",
   "execution_count": 10,
   "metadata": {
    "ExecuteTime": {
     "end_time": "2019-06-06T16:04:27.291228Z",
     "start_time": "2019-06-06T16:04:26.945620Z"
    },
    "extensions": {
     "jupyter_dashboards": {
      "version": 1,
      "views": {
       "grid_default": {
        "col": 0,
        "height": 11,
        "hidden": false,
        "row": 0,
        "width": 12
       },
       "report_default": {
        "hidden": false
       }
      }
     }
    }
   },
   "outputs": [
    {
     "data": {
      "application/vnd.jupyter.widget-view+json": {
       "model_id": "17a12b08750a4d50baf807cf6ac9c744",
       "version_major": 2,
       "version_minor": 0
      },
      "text/plain": [
       "NGLWidget()"
      ]
     },
     "metadata": {},
     "output_type": "display_data"
    }
   ],
   "source": [
    "client.view"
   ]
  },
  {
   "cell_type": "code",
   "execution_count": 11,
   "metadata": {
    "ExecuteTime": {
     "end_time": "2019-06-06T16:04:27.384256Z",
     "start_time": "2019-06-06T16:04:27.347583Z"
    }
   },
   "outputs": [],
   "source": [
    "client.view.shape.add_sphere(list(start_point), [1, 0, 0], 0.5)\n",
    "client.view.shape.add_sphere(list(first_nanotube_anchor), [1, 0, 1], 0.5)\n",
    "client.view.shape.add_sphere(list(last_nanotube_anchor), [1, 1, 0], 0.5)"
   ]
  },
  {
   "cell_type": "code",
   "execution_count": 12,
   "metadata": {},
   "outputs": [
    {
     "data": {
      "text/plain": [
       "values {\n",
       "  key: \"chain.count\"\n",
       "  value {\n",
       "    number_value: 1.0\n",
       "  }\n",
       "}\n",
       "values {\n",
       "  key: \"energy.kinetic\"\n",
       "  value {\n",
       "    number_value: 1758.4819164624796\n",
       "  }\n",
       "}\n",
       "values {\n",
       "  key: \"energy.potential\"\n",
       "  value {\n",
       "    number_value: 2587.294189453125\n",
       "  }\n",
       "}\n",
       "values {\n",
       "  key: \"particle.count\"\n",
       "  value {\n",
       "    number_value: 65.0\n",
       "  }\n",
       "}\n",
       "values {\n",
       "  key: \"residue.count\"\n",
       "  value {\n",
       "    number_value: 1.0\n",
       "  }\n",
       "}\n",
       "arrays {\n",
       "  key: \"bond.pairs\"\n",
       "  value {\n",
       "    index_values {\n",
       "      values: 0\n",
       "      values: 1\n",
       "      values: 0\n",
       "      values: 11\n",
       "      values: 1\n",
       "      values: 2\n",
       "      values: 2\n",
       "      values: 3\n",
       "      values: 2\n",
       "      values: 13\n",
       "      values: 3\n",
       "      values: 4\n",
       "      values: 3\n",
       "      values: 16\n",
       "      values: 4\n",
       "      values: 5\n",
       "      values: 5\n",
       "      values: 6\n",
       "      values: 6\n",
       "      values: 7\n",
       "      values: 6\n",
       "      values: 17\n",
       "      values: 7\n",
       "      values: 8\n",
       "      values: 7\n",
       "      values: 20\n",
       "      values: 8\n",
       "      values: 9\n",
       "      values: 9\n",
       "      values: 10\n",
       "      values: 10\n",
       "      values: 11\n",
       "      values: 10\n",
       "      values: 21\n",
       "      values: 11\n",
       "      values: 12\n",
       "      values: 12\n",
       "      values: 13\n",
       "      values: 12\n",
       "      values: 23\n",
       "      values: 13\n",
       "      values: 14\n",
       "      values: 14\n",
       "      values: 15\n",
       "      values: 14\n",
       "      values: 25\n",
       "      values: 15\n",
       "      values: 16\n",
       "      values: 15\n",
       "      values: 28\n",
       "      values: 16\n",
       "      values: 17\n",
       "      values: 17\n",
       "      values: 18\n",
       "      values: 18\n",
       "      values: 19\n",
       "      values: 18\n",
       "      values: 29\n",
       "      values: 19\n",
       "      values: 20\n",
       "      values: 19\n",
       "      values: 32\n",
       "      values: 20\n",
       "      values: 21\n",
       "      values: 21\n",
       "      values: 22\n",
       "      values: 22\n",
       "      values: 23\n",
       "      values: 22\n",
       "      values: 33\n",
       "      values: 23\n",
       "      values: 24\n",
       "      values: 24\n",
       "      values: 25\n",
       "      values: 24\n",
       "      values: 35\n",
       "      values: 25\n",
       "      values: 26\n",
       "      values: 26\n",
       "      values: 27\n",
       "      values: 26\n",
       "      values: 37\n",
       "      values: 27\n",
       "      values: 28\n",
       "      values: 27\n",
       "      values: 40\n",
       "      values: 28\n",
       "      values: 29\n",
       "      values: 29\n",
       "      values: 30\n",
       "      values: 30\n",
       "      values: 31\n",
       "      values: 30\n",
       "      values: 41\n",
       "      values: 31\n",
       "      values: 32\n",
       "      values: 31\n",
       "      values: 44\n",
       "      values: 32\n",
       "      values: 33\n",
       "      values: 33\n",
       "      values: 34\n",
       "      values: 34\n",
       "      values: 35\n",
       "      values: 34\n",
       "      values: 45\n",
       "      values: 35\n",
       "      values: 36\n",
       "      values: 36\n",
       "      values: 37\n",
       "      values: 36\n",
       "      values: 47\n",
       "      values: 37\n",
       "      values: 38\n",
       "      values: 38\n",
       "      values: 39\n",
       "      values: 38\n",
       "      values: 49\n",
       "      values: 39\n",
       "      values: 40\n",
       "      values: 39\n",
       "      values: 52\n",
       "      values: 40\n",
       "      values: 41\n",
       "      values: 41\n",
       "      values: 42\n",
       "      values: 42\n",
       "      values: 43\n",
       "      values: 42\n",
       "      values: 53\n",
       "      values: 43\n",
       "      values: 44\n",
       "      values: 43\n",
       "      values: 56\n",
       "      values: 44\n",
       "      values: 45\n",
       "      values: 45\n",
       "      values: 46\n",
       "      values: 46\n",
       "      values: 47\n",
       "      values: 46\n",
       "      values: 57\n",
       "      values: 47\n",
       "      values: 48\n",
       "      values: 48\n",
       "      values: 49\n",
       "      values: 48\n",
       "      values: 59\n",
       "      values: 49\n",
       "      values: 50\n",
       "      values: 50\n",
       "      values: 51\n",
       "      values: 51\n",
       "      values: 52\n",
       "      values: 52\n",
       "      values: 53\n",
       "      values: 53\n",
       "      values: 54\n",
       "      values: 54\n",
       "      values: 55\n",
       "      values: 55\n",
       "      values: 56\n",
       "      values: 56\n",
       "      values: 57\n",
       "      values: 57\n",
       "      values: 58\n",
       "      values: 58\n",
       "      values: 59\n",
       "      values: 60\n",
       "      values: 61\n",
       "      values: 60\n",
       "      values: 62\n",
       "      values: 60\n",
       "      values: 63\n",
       "      values: 60\n",
       "      values: 64\n",
       "    }\n",
       "  }\n",
       "}\n",
       "arrays {\n",
       "  key: \"chain.names\"\n",
       "  value {\n",
       "    string_values {\n",
       "      values: \"A\"\n",
       "    }\n",
       "  }\n",
       "}\n",
       "arrays {\n",
       "  key: \"particle.elements\"\n",
       "  value {\n",
       "    index_values {\n",
       "      values: 6\n",
       "      values: 6\n",
       "      values: 6\n",
       "      values: 6\n",
       "      values: 6\n",
       "      values: 6\n",
       "      values: 6\n",
       "      values: 6\n",
       "      values: 6\n",
       "      values: 6\n",
       "      values: 6\n",
       "      values: 6\n",
       "      values: 6\n",
       "      values: 6\n",
       "      values: 6\n",
       "      values: 6\n",
       "      values: 6\n",
       "      values: 6\n",
       "      values: 6\n",
       "      values: 6\n",
       "      values: 6\n",
       "      values: 6\n",
       "      values: 6\n",
       "      values: 6\n",
       "      values: 6\n",
       "      values: 6\n",
       "      values: 6\n",
       "      values: 6\n",
       "      values: 6\n",
       "      values: 6\n",
       "      values: 6\n",
       "      values: 6\n",
       "      values: 6\n",
       "      values: 6\n",
       "      values: 6\n",
       "      values: 6\n",
       "      values: 6\n",
       "      values: 6\n",
       "      values: 6\n",
       "      values: 6\n",
       "      values: 6\n",
       "      values: 6\n",
       "      values: 6\n",
       "      values: 6\n",
       "      values: 6\n",
       "      values: 6\n",
       "      values: 6\n",
       "      values: 6\n",
       "      values: 6\n",
       "      values: 6\n",
       "      values: 6\n",
       "      values: 6\n",
       "      values: 6\n",
       "      values: 6\n",
       "      values: 6\n",
       "      values: 6\n",
       "      values: 6\n",
       "      values: 6\n",
       "      values: 6\n",
       "      values: 6\n",
       "      values: 6\n",
       "      values: 1\n",
       "      values: 1\n",
       "      values: 1\n",
       "      values: 1\n",
       "    }\n",
       "  }\n",
       "}\n",
       "arrays {\n",
       "  key: \"particle.names\"\n",
       "  value {\n",
       "    string_values {\n",
       "      values: \"mm3_\"\n",
       "      values: \"mm3_\"\n",
       "      values: \"mm3_\"\n",
       "      values: \"mm3_\"\n",
       "      values: \"mm3_\"\n",
       "      values: \"mm3_\"\n",
       "      values: \"mm3_\"\n",
       "      values: \"mm3_\"\n",
       "      values: \"mm3_\"\n",
       "      values: \"mm3_\"\n",
       "      values: \"mm3_\"\n",
       "      values: \"mm3_\"\n",
       "      values: \"mm3_\"\n",
       "      values: \"mm3_\"\n",
       "      values: \"mm3_\"\n",
       "      values: \"mm3_\"\n",
       "      values: \"mm3_\"\n",
       "      values: \"mm3_\"\n",
       "      values: \"mm3_\"\n",
       "      values: \"mm3_\"\n",
       "      values: \"mm3_\"\n",
       "      values: \"mm3_\"\n",
       "      values: \"mm3_\"\n",
       "      values: \"mm3_\"\n",
       "      values: \"mm3_\"\n",
       "      values: \"mm3_\"\n",
       "      values: \"mm3_\"\n",
       "      values: \"mm3_\"\n",
       "      values: \"mm3_\"\n",
       "      values: \"mm3_\"\n",
       "      values: \"mm3_\"\n",
       "      values: \"mm3_\"\n",
       "      values: \"mm3_\"\n",
       "      values: \"mm3_\"\n",
       "      values: \"mm3_\"\n",
       "      values: \"mm3_\"\n",
       "      values: \"mm3_\"\n",
       "      values: \"mm3_\"\n",
       "      values: \"mm3_\"\n",
       "      values: \"mm3_\"\n",
       "      values: \"mm3_\"\n",
       "      values: \"mm3_\"\n",
       "      values: \"mm3_\"\n",
       "      values: \"mm3_\"\n",
       "      values: \"mm3_\"\n",
       "      values: \"mm3_\"\n",
       "      values: \"mm3_\"\n",
       "      values: \"mm3_\"\n",
       "      values: \"mm3_\"\n",
       "      values: \"mm3_\"\n",
       "      values: \"mm3_\"\n",
       "      values: \"mm3_\"\n",
       "      values: \"mm3_\"\n",
       "      values: \"mm3_\"\n",
       "      values: \"mm3_\"\n",
       "      values: \"mm3_\"\n",
       "      values: \"mm3_\"\n",
       "      values: \"mm3_\"\n",
       "      values: \"mm3_\"\n",
       "      values: \"mm3_\"\n",
       "      values: \"mm3_\"\n",
       "      values: \"mm3_\"\n",
       "      values: \"mm3_\"\n",
       "      values: \"mm3_\"\n",
       "      values: \"mm3_\"\n",
       "    }\n",
       "  }\n",
       "}\n",
       "arrays {\n",
       "  key: \"particle.positions\"\n",
       "  value {\n",
       "    float_values {\n",
       "      values: 3.0121259689331055\n",
       "      values: 3.5022385120391846\n",
       "      values: 3.424820899963379\n",
       "      values: 3.0535728931427\n",
       "      values: 3.5229451656341553\n",
       "      values: 3.29699444770813\n",
       "      values: 3.176835060119629\n",
       "      values: 3.534588575363159\n",
       "      values: 3.2959752082824707\n",
       "      values: 3.224443197250366\n",
       "      values: 3.6484267711639404\n",
       "      values: 3.2625198364257812\n",
       "      values: 3.1533753871917725\n",
       "      values: 3.7482001781463623\n",
       "      values: 3.2392914295196533\n",
       "      values: 3.180067777633667\n",
       "      values: 3.8403217792510986\n",
       "      values: 3.334822416305542\n",
       "      values: 3.2613525390625\n",
       "      values: 3.7928311824798584\n",
       "      values: 3.4148995876312256\n",
       "      values: 3.2228896617889404\n",
       "      values: 3.757718801498413\n",
       "      values: 3.5288712978363037\n",
       "      values: 3.0982882976531982\n",
       "      values: 3.7865118980407715\n",
       "      values: 3.5660531520843506\n",
       "      values: 3.053922414779663\n",
       "      values: 3.677079916000366\n",
       "      values: 3.6108691692352295\n",
       "      values: 3.1385529041290283\n",
       "      values: 3.582759380340576\n",
       "      values: 3.580559730529785\n",
       "      values: 3.1146674156188965\n",
       "      values: 3.4959516525268555\n",
       "      values: 3.492661237716675\n",
       "      values: 3.2214088439941406\n",
       "      values: 3.4313504695892334\n",
       "      values: 3.477088212966919\n",
       "      values: 3.2592520713806152\n",
       "      values: 3.452934503555298\n",
       "      values: 3.3604211807250977\n",
       "      values: 3.3878190517425537\n",
       "      values: 3.443246841430664\n",
       "      values: 3.3488643169403076\n",
       "      values: 3.4426136016845703\n",
       "      values: 3.5456905364990234\n",
       "      values: 3.311117649078369\n",
       "      values: 3.355539083480835\n",
       "      values: 3.6489102840423584\n",
       "      values: 3.297161817550659\n",
       "      values: 3.3680033683776855\n",
       "      values: 3.726139783859253\n",
       "      values: 3.3941822052001953\n",
       "      values: 3.472886323928833\n",
       "      values: 3.69736647605896\n",
       "      values: 3.460618734359741\n",
       "      values: 3.43906307220459\n",
       "      values: 3.6744909286499023\n",
       "      values: 3.5767884254455566\n",
       "      values: 3.315547227859497\n",
       "      values: 3.6980066299438477\n",
       "      values: 3.600480318069458\n",
       "      values: 3.2637481689453125\n",
       "      values: 3.583322525024414\n",
       "      values: 3.625387191772461\n",
       "      values: 3.3490149974823\n",
       "      values: 3.489241361618042\n",
       "      values: 3.627330780029297\n",
       "      values: 3.325561761856079\n",
       "      values: 3.40145206451416\n",
       "      values: 3.547363758087158\n",
       "      values: 3.434325933456421\n",
       "      values: 3.3341126441955566\n",
       "      values: 3.517817974090576\n",
       "      values: 3.4703643321990967\n",
       "      values: 3.362964630126953\n",
       "      values: 3.402099609375\n",
       "      values: 3.600238800048828\n",
       "      values: 3.3466269969940186\n",
       "      values: 3.3927969932556152\n",
       "      values: 3.6540863513946533\n",
       "      values: 3.452437162399292\n",
       "      values: 3.358762264251709\n",
       "      values: 3.5618271827697754\n",
       "      values: 3.5438244342803955\n",
       "      values: 3.3450238704681396\n",
       "      values: 3.5746562480926514\n",
       "      values: 3.6305148601531982\n",
       "      values: 3.43015718460083\n",
       "      values: 3.6795706748962402\n",
       "      values: 3.599874258041382\n",
       "      values: 3.5006299018859863\n",
       "      values: 3.649778127670288\n",
       "      values: 3.5849132537841797\n",
       "      values: 3.620159149169922\n",
       "      values: 3.5224578380584717\n",
       "      values: 3.6024651527404785\n",
       "      values: 3.6331214904785156\n",
       "      values: 3.470179796218872\n",
       "      values: 3.4942166805267334\n",
       "      values: 3.6604034900665283\n",
       "      values: 3.5596582889556885\n",
       "      values: 3.4001286029815674\n",
       "      values: 3.6707277297973633\n",
       "      values: 3.5438835620880127\n",
       "      values: 3.3060810565948486\n",
       "      values: 3.590287446975708\n",
       "      values: 3.6503782272338867\n",
       "      values: 3.2432525157928467\n",
       "      values: 3.5588488578796387\n",
       "      values: 3.683159351348877\n",
       "      values: 3.267685890197754\n",
       "      values: 3.44476318359375\n",
       "      values: 3.8074285984039307\n",
       "      values: 3.253596782684326\n",
       "      values: 3.4255869388580322\n",
       "      values: 3.8587772846221924\n",
       "      values: 3.3651769161224365\n",
       "      values: 3.3863847255706787\n",
       "      values: 3.772411823272705\n",
       "      values: 3.456573486328125\n",
       "      values: 3.3889975547790527\n",
       "      values: 3.7902655601501465\n",
       "      values: 3.5396039485931396\n",
       "      values: 3.4769904613494873\n",
       "      values: 3.897831916809082\n",
       "      values: 3.5138819217681885\n",
       "      values: 3.5443150997161865\n",
       "      values: 3.8646414279937744\n",
       "      values: 3.4942851066589355\n",
       "      values: 3.662775993347168\n",
       "      values: 3.735549211502075\n",
       "      values: 3.5090527534484863\n",
       "      values: 3.6716763973236084\n",
       "      values: 3.6845622062683105\n",
       "      values: 3.4023869037628174\n",
       "      values: 3.704845905303955\n",
       "      values: 3.7734241485595703\n",
       "      values: 3.300269842147827\n",
       "      values: 3.713888168334961\n",
       "      values: 3.7541630268096924\n",
       "      values: 3.2115848064422607\n",
       "      values: 3.6276631355285645\n",
       "      values: 3.863497495651245\n",
       "      values: 3.151766061782837\n",
       "      values: 3.6057357788085938\n",
       "      values: 3.8978805541992188\n",
       "      values: 3.184006690979004\n",
       "      values: 3.4887077808380127\n",
       "      values: 4.021923542022705\n",
       "      values: 3.163057327270508\n",
       "      values: 3.4495391845703125\n",
       "      values: 4.074630260467529\n",
       "      values: 3.2760815620422363\n",
       "      values: 3.4139013290405273\n",
       "      values: 3.9814796447753906\n",
       "      values: 3.366626262664795\n",
       "      values: 3.4315273761749268\n",
       "      values: 4.009771347045898\n",
       "      values: 3.4532458782196045\n",
       "      values: 3.518678903579712\n",
       "      values: 4.112354278564453\n",
       "      values: 3.4579086303710938\n",
       "      values: 3.5869216918945312\n",
       "      values: 4.073332786560059\n",
       "      values: 3.433018445968628\n",
       "      values: 3.717827320098877\n",
       "      values: 3.951683759689331\n",
       "      values: 3.416461229324341\n",
       "      values: 3.7210850715637207\n",
       "      values: 3.8979787826538086\n",
       "      values: 3.302781820297241\n",
       "      values: 3.754506826400757\n",
       "      values: 3.959080219268799\n",
       "      values: 3.201991319656372\n",
       "      values: 3.783658742904663\n",
       "      values: 3.9354398250579834\n",
       "      values: 3.1056768894195557\n",
       "      values: 3.6932291984558105\n",
       "      values: 2.7316031455993652\n",
       "      values: 3.8394691944122314\n",
       "      values: 3.3905274868011475\n",
       "      values: 2.6927359104156494\n",
       "      values: 3.8730902671813965\n",
       "      values: 3.49233341217041\n",
       "      values: 2.8273799419403076\n",
       "      values: 3.8958632946014404\n",
       "      values: 3.3743317127227783\n",
       "      values: 2.7490148544311523\n",
       "      values: 3.728858709335327\n",
       "      values: 3.392293930053711\n",
       "      values: 2.6535990238189697\n",
       "      values: 3.8694257736206055\n",
       "      values: 3.3147284984588623\n",
       "    }\n",
       "  }\n",
       "}\n",
       "arrays {\n",
       "  key: \"particle.residues\"\n",
       "  value {\n",
       "    index_values {\n",
       "      values: 0\n",
       "      values: 0\n",
       "      values: 0\n",
       "      values: 0\n",
       "      values: 0\n",
       "      values: 0\n",
       "      values: 0\n",
       "      values: 0\n",
       "      values: 0\n",
       "      values: 0\n",
       "      values: 0\n",
       "      values: 0\n",
       "      values: 0\n",
       "      values: 0\n",
       "      values: 0\n",
       "      values: 0\n",
       "      values: 0\n",
       "      values: 0\n",
       "      values: 0\n",
       "      values: 0\n",
       "      values: 0\n",
       "      values: 0\n",
       "      values: 0\n",
       "      values: 0\n",
       "      values: 0\n",
       "      values: 0\n",
       "      values: 0\n",
       "      values: 0\n",
       "      values: 0\n",
       "      values: 0\n",
       "      values: 0\n",
       "      values: 0\n",
       "      values: 0\n",
       "      values: 0\n",
       "      values: 0\n",
       "      values: 0\n",
       "      values: 0\n",
       "      values: 0\n",
       "      values: 0\n",
       "      values: 0\n",
       "      values: 0\n",
       "      values: 0\n",
       "      values: 0\n",
       "      values: 0\n",
       "      values: 0\n",
       "      values: 0\n",
       "      values: 0\n",
       "      values: 0\n",
       "      values: 0\n",
       "      values: 0\n",
       "      values: 0\n",
       "      values: 0\n",
       "      values: 0\n",
       "      values: 0\n",
       "      values: 0\n",
       "      values: 0\n",
       "      values: 0\n",
       "      values: 0\n",
       "      values: 0\n",
       "      values: 0\n",
       "      values: 0\n",
       "      values: 0\n",
       "      values: 0\n",
       "      values: 0\n",
       "      values: 0\n",
       "    }\n",
       "  }\n",
       "}\n",
       "arrays {\n",
       "  key: \"residue.chains\"\n",
       "  value {\n",
       "    index_values {\n",
       "      values: 0\n",
       "    }\n",
       "  }\n",
       "}\n",
       "arrays {\n",
       "  key: \"residue.ids\"\n",
       "  value {\n",
       "    string_values {\n",
       "      values: \"1\"\n",
       "    }\n",
       "  }\n",
       "}\n",
       "arrays {\n",
       "  key: \"residue.names\"\n",
       "  value {\n",
       "    string_values {\n",
       "      values: \"mm3\"\n",
       "    }\n",
       "  }\n",
       "}\n",
       "arrays {\n",
       "  key: \"system.box.vectors\"\n",
       "  value {\n",
       "    float_values {\n",
       "      values: 7.0\n",
       "      values: 0.0\n",
       "      values: 0.0\n",
       "      values: 0.0\n",
       "      values: 7.0\n",
       "      values: 0.0\n",
       "      values: 0.0\n",
       "      values: 0.0\n",
       "      values: 7.0\n",
       "    }\n",
       "  }\n",
       "}"
      ]
     },
     "execution_count": 12,
     "metadata": {},
     "output_type": "execute_result"
    }
   ],
   "source": [
    "client.first_frame.raw"
   ]
  },
  {
   "cell_type": "code",
   "execution_count": null,
   "metadata": {},
   "outputs": [],
   "source": []
  }
 ],
 "metadata": {
  "extensions": {
   "jupyter_dashboards": {
    "activeView": "grid_default",
    "version": 1,
    "views": {
     "grid_default": {
      "cellMargin": 10,
      "defaultCellHeight": 20,
      "maxColumns": 12,
      "name": "grid",
      "type": "grid"
     },
     "report_default": {
      "name": "report",
      "type": "report"
     }
    }
   }
  },
  "hide_input": false,
  "kernelspec": {
   "display_name": "Python 3",
   "language": "python",
   "name": "python3"
  },
  "language_info": {
   "codemirror_mode": {
    "name": "ipython",
    "version": 3
   },
   "file_extension": ".py",
   "mimetype": "text/x-python",
   "name": "python",
   "nbconvert_exporter": "python",
   "pygments_lexer": "ipython3",
   "version": "3.7.3"
  },
  "toc": {
   "nav_menu": {},
   "number_sections": true,
   "sideBar": true,
   "skip_h1_title": false,
   "toc_cell": false,
   "toc_position": {},
   "toc_section_display": "block",
   "toc_window_display": false
  }
 },
 "nbformat": 4,
 "nbformat_minor": 2
}
