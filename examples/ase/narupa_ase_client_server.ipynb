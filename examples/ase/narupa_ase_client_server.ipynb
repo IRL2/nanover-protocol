{
 "cells": [
  {
   "cell_type": "markdown",
   "metadata": {},
   "source": [
    "# Narupa ASE Client / Server Example"
   ]
  },
  {
   "cell_type": "markdown",
   "metadata": {},
   "source": [
    "This notebook demonstrates an example of running an interactive molecular dynamics Narupa server with ASE, connecting to it from a client, looking at the data being produced and visualising it."
   ]
  },
  {
   "cell_type": "code",
   "execution_count": 12,
   "metadata": {
    "pycharm": {
     "is_executing": false
    }
   },
   "outputs": [],
   "source": [
    "from narupa.app.client import NarupaImdClient\n",
    "from narupa.ase.openmm import OpenMMIMDRunner\n",
    "from narupa.ase.converter import frame_data_to_ase\n",
    "import numpy as np\n",
    "from ase.visualize import view"
   ]
  },
  {
   "cell_type": "markdown",
   "metadata": {},
   "source": [
    "## Set up the server"
   ]
  },
  {
   "cell_type": "markdown",
   "metadata": {},
   "source": [
    "Run the server. Here, we're using ASE, but it could be LAMMPS or OpenMM or anything else. "
   ]
  },
  {
   "cell_type": "code",
   "execution_count": 2,
   "metadata": {
    "pycharm": {
     "is_executing": false
    }
   },
   "outputs": [],
   "source": [
    "# set up an openmm simulation, or read from file. \n",
    "input_xml = \"openmm_files/helicene.xml\""
   ]
  },
  {
   "cell_type": "code",
   "execution_count": 3,
   "metadata": {
    "pycharm": {
     "is_executing": false
    }
   },
   "outputs": [
    {
     "name": "stderr",
     "text": [
      "C:\\Users\\mike\\Anaconda3\\envs\\grpc\\lib\\site-packages\\simtk\\openmm\\app\\internal\\pdbstructure.py:537: UserWarning: WARNING: duplicate atom (HETATM    2 mm3_ mm3 A   1       0.218  25.915   6.142  1.00  0.00           C  , HETATM    1 mm3_ mm3 A   1      -1.126  26.909   8.152  1.00  0.00           C  )\n  warnings.warn(\"WARNING: duplicate atom (%s, %s)\" % (atom, old_atom._pdb_string(old_atom.serial_number, atom.alternate_location_indicator)))\nC:\\Users\\mike\\Anaconda3\\envs\\grpc\\lib\\site-packages\\simtk\\openmm\\app\\internal\\pdbstructure.py:537: UserWarning: WARNING: duplicate atom (HETATM    3 mm3_ mm3 A   1      -1.674  26.029   7.325  1.00  0.00           C  , HETATM    2 mm3_ mm3 A   1       0.218  25.915   6.142  1.00  0.00           C  )\n  warnings.warn(\"WARNING: duplicate atom (%s, %s)\" % (atom, old_atom._pdb_string(old_atom.serial_number, atom.alternate_location_indicator)))\nC:\\Users\\mike\\Anaconda3\\envs\\grpc\\lib\\site-packages\\simtk\\openmm\\app\\internal\\pdbstructure.py:537: UserWarning: WARNING: duplicate atom (HETATM    4 mm3_ mm3 A   1      -0.024  27.624   7.599  1.00  0.00           C  , HETATM    3 mm3_ mm3 A   1      -1.674  26.029   7.325  1.00  0.00           C  )\n  warnings.warn(\"WARNING: duplicate atom (%s, %s)\" % (atom, old_atom._pdb_string(old_atom.serial_number, atom.alternate_location_indicator)))\nC:\\Users\\mike\\Anaconda3\\envs\\grpc\\lib\\site-packages\\simtk\\openmm\\app\\internal\\pdbstructure.py:537: UserWarning: WARNING: duplicate atom (HETATM    5 mm3_ mm3 A   1       0.716  27.013   6.683  1.00  0.00           C  , HETATM    4 mm3_ mm3 A   1      -0.024  27.624   7.599  1.00  0.00           C  )\n  warnings.warn(\"WARNING: duplicate atom (%s, %s)\" % (atom, old_atom._pdb_string(old_atom.serial_number, atom.alternate_location_indicator)))\nC:\\Users\\mike\\Anaconda3\\envs\\grpc\\lib\\site-packages\\simtk\\openmm\\app\\internal\\pdbstructure.py:537: UserWarning: WARNING: duplicate atom (HETATM    6 mm3_ mm3 A   1      -1.013  25.478   6.332  1.00  0.00           C  , HETATM    5 mm3_ mm3 A   1       0.716  27.013   6.683  1.00  0.00           C  )\n  warnings.warn(\"WARNING: duplicate atom (%s, %s)\" % (atom, old_atom._pdb_string(old_atom.serial_number, atom.alternate_location_indicator)))\nC:\\Users\\mike\\Anaconda3\\envs\\grpc\\lib\\site-packages\\simtk\\openmm\\app\\internal\\pdbstructure.py:537: UserWarning: WARNING: duplicate atom (HETATM    7 mm3_ mm3 A   1      -1.681  27.023   9.432  1.00  0.00           C  , HETATM    6 mm3_ mm3 A   1      -1.013  25.478   6.332  1.00  0.00           C  )\n  warnings.warn(\"WARNING: duplicate atom (%s, %s)\" % (atom, old_atom._pdb_string(old_atom.serial_number, atom.alternate_location_indicator)))\nC:\\Users\\mike\\Anaconda3\\envs\\grpc\\lib\\site-packages\\simtk\\openmm\\app\\internal\\pdbstructure.py:537: UserWarning: WARNING: duplicate atom (HETATM    8 mm3_ mm3 A   1      -3.020  28.034  11.533  1.00  0.00           C  , HETATM    7 mm3_ mm3 A   1      -1.681  27.023   9.432  1.00  0.00           C  )\n  warnings.warn(\"WARNING: duplicate atom (%s, %s)\" % (atom, old_atom._pdb_string(old_atom.serial_number, atom.alternate_location_indicator)))\nC:\\Users\\mike\\Anaconda3\\envs\\grpc\\lib\\site-packages\\simtk\\openmm\\app\\internal\\pdbstructure.py:537: UserWarning: WARNING: duplicate atom (HETATM    9 mm3_ mm3 A   1      -0.985  27.447  10.572  1.00  0.00           C  , HETATM    8 mm3_ mm3 A   1      -3.020  28.034  11.533  1.00  0.00           C  )\n  warnings.warn(\"WARNING: duplicate atom (%s, %s)\" % (atom, old_atom._pdb_string(old_atom.serial_number, atom.alternate_location_indicator)))\nC:\\Users\\mike\\Anaconda3\\envs\\grpc\\lib\\site-packages\\simtk\\openmm\\app\\internal\\pdbstructure.py:537: UserWarning: WARNING: duplicate atom (HETATM   10 mm3_ mm3 A   1      -2.964  26.739   9.619  1.00  0.00           C  , HETATM    9 mm3_ mm3 A   1      -0.985  27.447  10.572  1.00  0.00           C  )\n  warnings.warn(\"WARNING: duplicate atom (%s, %s)\" % (atom, old_atom._pdb_string(old_atom.serial_number, atom.alternate_location_indicator)))\nC:\\Users\\mike\\Anaconda3\\envs\\grpc\\lib\\site-packages\\simtk\\openmm\\app\\internal\\pdbstructure.py:537: UserWarning: WARNING: duplicate atom (HETATM   11 mm3_ mm3 A   1      -3.627  27.329  10.616  1.00  0.00           C  , HETATM   10 mm3_ mm3 A   1      -2.964  26.739   9.619  1.00  0.00           C  )\n  warnings.warn(\"WARNING: duplicate atom (%s, %s)\" % (atom, old_atom._pdb_string(old_atom.serial_number, atom.alternate_location_indicator)))\nC:\\Users\\mike\\Anaconda3\\envs\\grpc\\lib\\site-packages\\simtk\\openmm\\app\\internal\\pdbstructure.py:537: UserWarning: WARNING: duplicate atom (HETATM   12 mm3_ mm3 A   1      -1.699  28.147  11.460  1.00  0.00           C  , HETATM   11 mm3_ mm3 A   1      -3.627  27.329  10.616  1.00  0.00           C  )\n  warnings.warn(\"WARNING: duplicate atom (%s, %s)\" % (atom, old_atom._pdb_string(old_atom.serial_number, atom.alternate_location_indicator)))\nC:\\Users\\mike\\Anaconda3\\envs\\grpc\\lib\\site-packages\\simtk\\openmm\\app\\internal\\pdbstructure.py:537: UserWarning: WARNING: duplicate atom (HETATM   13 mm3_ mm3 A   1      -3.556  26.079   8.641  1.00  0.00           C  , HETATM   12 mm3_ mm3 A   1      -1.699  28.147  11.460  1.00  0.00           C  )\n  warnings.warn(\"WARNING: duplicate atom (%s, %s)\" % (atom, old_atom._pdb_string(old_atom.serial_number, atom.alternate_location_indicator)))\nC:\\Users\\mike\\Anaconda3\\envs\\grpc\\lib\\site-packages\\simtk\\openmm\\app\\internal\\pdbstructure.py:537: UserWarning: WARNING: duplicate atom (HETATM   14 mm3_ mm3 A   1      -2.918  25.600   7.617  1.00  0.00           C  , HETATM   13 mm3_ mm3 A   1      -3.556  26.079   8.641  1.00  0.00           C  )\n  warnings.warn(\"WARNING: duplicate atom (%s, %s)\" % (atom, old_atom._pdb_string(old_atom.serial_number, atom.alternate_location_indicator)))\nC:\\Users\\mike\\Anaconda3\\envs\\grpc\\lib\\site-packages\\simtk\\openmm\\app\\internal\\pdbstructure.py:537: UserWarning: WARNING: duplicate atom (HETATM   15 mm3_ mm3 A   1       0.361  27.375  10.817  1.00  0.00           C  , HETATM   14 mm3_ mm3 A   1      -2.918  25.600   7.617  1.00  0.00           C  )\n  warnings.warn(\"WARNING: duplicate atom (%s, %s)\" % (atom, old_atom._pdb_string(old_atom.serial_number, atom.alternate_location_indicator)))\nC:\\Users\\mike\\Anaconda3\\envs\\grpc\\lib\\site-packages\\simtk\\openmm\\app\\internal\\pdbstructure.py:537: UserWarning: WARNING: duplicate atom (HETATM   16 mm3_ mm3 A   1       3.011  27.691  10.835  1.00  0.00           C  , HETATM   15 mm3_ mm3 A   1       0.361  27.375  10.817  1.00  0.00           C  )\n  warnings.warn(\"WARNING: duplicate atom (%s, %s)\" % (atom, old_atom._pdb_string(old_atom.serial_number, atom.alternate_location_indicator)))\nC:\\Users\\mike\\Anaconda3\\envs\\grpc\\lib\\site-packages\\simtk\\openmm\\app\\internal\\pdbstructure.py:537: UserWarning: WARNING: duplicate atom (HETATM   17 mm3_ mm3 A   1       1.213  26.362  10.327  1.00  0.00           C  , HETATM   16 mm3_ mm3 A   1       3.011  27.691  10.835  1.00  0.00           C  )\n  warnings.warn(\"WARNING: duplicate atom (%s, %s)\" % (atom, old_atom._pdb_string(old_atom.serial_number, atom.alternate_location_indicator)))\nC:\\Users\\mike\\Anaconda3\\envs\\grpc\\lib\\site-packages\\simtk\\openmm\\app\\internal\\pdbstructure.py:537: UserWarning: WARNING: duplicate atom (HETATM   18 mm3_ mm3 A   1       0.921  28.363  11.498  1.00  0.00           C  , HETATM   17 mm3_ mm3 A   1       1.213  26.362  10.327  1.00  0.00           C  )\n  warnings.warn(\"WARNING: duplicate atom (%s, %s)\" % (atom, old_atom._pdb_string(old_atom.serial_number, atom.alternate_location_indicator)))\nC:\\Users\\mike\\Anaconda3\\envs\\grpc\\lib\\site-packages\\simtk\\openmm\\app\\internal\\pdbstructure.py:537: UserWarning: WARNING: duplicate atom (HETATM   19 mm3_ mm3 A   1       2.237  28.411  11.572  1.00  0.00           C  , HETATM   18 mm3_ mm3 A   1       0.921  28.363  11.498  1.00  0.00           C  )\n  warnings.warn(\"WARNING: duplicate atom (%s, %s)\" % (atom, old_atom._pdb_string(old_atom.serial_number, atom.alternate_location_indicator)))\nC:\\Users\\mike\\Anaconda3\\envs\\grpc\\lib\\site-packages\\simtk\\openmm\\app\\internal\\pdbstructure.py:537: UserWarning: WARNING: duplicate atom (HETATM   20 mm3_ mm3 A   1       2.495  26.622  10.265  1.00  0.00           C  , HETATM   19 mm3_ mm3 A   1       2.237  28.411  11.572  1.00  0.00           C  )\n  warnings.warn(\"WARNING: duplicate atom (%s, %s)\" % (atom, old_atom._pdb_string(old_atom.serial_number, atom.alternate_location_indicator)))\nC:\\Users\\mike\\Anaconda3\\envs\\grpc\\lib\\site-packages\\simtk\\openmm\\app\\internal\\pdbstructure.py:537: UserWarning: WARNING: duplicate atom (HETATM   21 mm3_ mm3 A   1       0.175  29.084  12.322  1.00  0.00           C  , HETATM   20 mm3_ mm3 A   1       2.495  26.622  10.265  1.00  0.00           C  )\n  warnings.warn(\"WARNING: duplicate atom (%s, %s)\" % (atom, old_atom._pdb_string(old_atom.serial_number, atom.alternate_location_indicator)))\nC:\\Users\\mike\\Anaconda3\\envs\\grpc\\lib\\site-packages\\simtk\\openmm\\app\\internal\\pdbstructure.py:537: UserWarning: WARNING: duplicate atom (HETATM   22 mm3_ mm3 A   1      -1.106  28.916  12.367  1.00  0.00           C  , HETATM   21 mm3_ mm3 A   1       0.175  29.084  12.322  1.00  0.00           C  )\n  warnings.warn(\"WARNING: duplicate atom (%s, %s)\" % (atom, old_atom._pdb_string(old_atom.serial_number, atom.alternate_location_indicator)))\nC:\\Users\\mike\\Anaconda3\\envs\\grpc\\lib\\site-packages\\simtk\\openmm\\app\\internal\\pdbstructure.py:537: UserWarning: WARNING: duplicate atom (HETATM   23 mm3_ mm3 A   1       0.369  28.944   7.928  1.00  0.00           C  , HETATM   22 mm3_ mm3 A   1      -1.106  28.916  12.367  1.00  0.00           C  )\n  warnings.warn(\"WARNING: duplicate atom (%s, %s)\" % (atom, old_atom._pdb_string(old_atom.serial_number, atom.alternate_location_indicator)))\nC:\\Users\\mike\\Anaconda3\\envs\\grpc\\lib\\site-packages\\simtk\\openmm\\app\\internal\\pdbstructure.py:537: UserWarning: WARNING: duplicate atom (HETATM   24 mm3_ mm3 A   1       1.265  31.208   8.996  1.00  0.00           C  , HETATM   23 mm3_ mm3 A   1       0.369  28.944   7.928  1.00  0.00           C  )\n  warnings.warn(\"WARNING: duplicate atom (%s, %s)\" % (atom, old_atom._pdb_string(old_atom.serial_number, atom.alternate_location_indicator)))\nC:\\Users\\mike\\Anaconda3\\envs\\grpc\\lib\\site-packages\\simtk\\openmm\\app\\internal\\pdbstructure.py:537: UserWarning: WARNING: duplicate atom (HETATM   25 mm3_ mm3 A   1       1.656  29.278   7.831  1.00  0.00           C  , HETATM   24 mm3_ mm3 A   1       1.265  31.208   8.996  1.00  0.00           C  )\n  warnings.warn(\"WARNING: duplicate atom (%s, %s)\" % (atom, old_atom._pdb_string(old_atom.serial_number, atom.alternate_location_indicator)))\nC:\\Users\\mike\\Anaconda3\\envs\\grpc\\lib\\site-packages\\simtk\\openmm\\app\\internal\\pdbstructure.py:537: UserWarning: WARNING: duplicate atom (HETATM   26 mm3_ mm3 A   1      -0.552  29.920   8.340  1.00  0.00           C  , HETATM   25 mm3_ mm3 A   1       1.656  29.278   7.831  1.00  0.00           C  )\n  warnings.warn(\"WARNING: duplicate atom (%s, %s)\" % (atom, old_atom._pdb_string(old_atom.serial_number, atom.alternate_location_indicator)))\nC:\\Users\\mike\\Anaconda3\\envs\\grpc\\lib\\site-packages\\simtk\\openmm\\app\\internal\\pdbstructure.py:537: UserWarning: WARNING: duplicate atom (HETATM   27 mm3_ mm3 A   1      -0.035  30.884   9.054  1.00  0.00           C  , HETATM   26 mm3_ mm3 A   1      -0.552  29.920   8.340  1.00  0.00           C  )\n  warnings.warn(\"WARNING: duplicate atom (%s, %s)\" % (atom, old_atom._pdb_string(old_atom.serial_number, atom.alternate_location_indicator)))\nC:\\Users\\mike\\Anaconda3\\envs\\grpc\\lib\\site-packages\\simtk\\openmm\\app\\internal\\pdbstructure.py:537: UserWarning: WARNING: duplicate atom (HETATM   28 mm3_ mm3 A   1       2.076  30.434   8.326  1.00  0.00           C  , HETATM   27 mm3_ mm3 A   1      -0.035  30.884   9.054  1.00  0.00           C  )\n  warnings.warn(\"WARNING: duplicate atom (%s, %s)\" % (atom, old_atom._pdb_string(old_atom.serial_number, atom.alternate_location_indicator)))\nC:\\Users\\mike\\Anaconda3\\envs\\grpc\\lib\\site-packages\\simtk\\openmm\\app\\internal\\pdbstructure.py:537: UserWarning: WARNING: duplicate atom (HETATM   29 mm3_ mm3 A   1       0.865  25.106   9.938  1.00  0.00           C  , HETATM   28 mm3_ mm3 A   1       2.076  30.434   8.326  1.00  0.00           C  )\n  warnings.warn(\"WARNING: duplicate atom (%s, %s)\" % (atom, old_atom._pdb_string(old_atom.serial_number, atom.alternate_location_indicator)))\nC:\\Users\\mike\\Anaconda3\\envs\\grpc\\lib\\site-packages\\simtk\\openmm\\app\\internal\\pdbstructure.py:537: UserWarning: WARNING: duplicate atom (HETATM   30 mm3_ mm3 A   1       0.140  22.592   9.193  1.00  0.00           C  , HETATM   29 mm3_ mm3 A   1       0.865  25.106   9.938  1.00  0.00           C  )\n  warnings.warn(\"WARNING: duplicate atom (%s, %s)\" % (atom, old_atom._pdb_string(old_atom.serial_number, atom.alternate_location_indicator)))\nC:\\Users\\mike\\Anaconda3\\envs\\grpc\\lib\\site-packages\\simtk\\openmm\\app\\internal\\pdbstructure.py:537: UserWarning: WARNING: duplicate atom (HETATM   31 mm3_ mm3 A   1      -0.255  24.521  10.309  1.00  0.00           C  , HETATM   30 mm3_ mm3 A   1       0.140  22.592   9.193  1.00  0.00           C  )\n  warnings.warn(\"WARNING: duplicate atom (%s, %s)\" % (atom, old_atom._pdb_string(old_atom.serial_number, atom.alternate_location_indicator)))\nC:\\Users\\mike\\Anaconda3\\envs\\grpc\\lib\\site-packages\\simtk\\openmm\\app\\internal\\pdbstructure.py:537: UserWarning: WARNING: duplicate atom (HETATM   32 mm3_ mm3 A   1       1.638  24.309   9.308  1.00  0.00           C  , HETATM   31 mm3_ mm3 A   1      -0.255  24.521  10.309  1.00  0.00           C  )\n  warnings.warn(\"WARNING: duplicate atom (%s, %s)\" % (atom, old_atom._pdb_string(old_atom.serial_number, atom.alternate_location_indicator)))\nC:\\Users\\mike\\Anaconda3\\envs\\grpc\\lib\\site-packages\\simtk\\openmm\\app\\internal\\pdbstructure.py:537: UserWarning: WARNING: duplicate atom (HETATM   33 mm3_ mm3 A   1       1.269  23.139   8.873  1.00  0.00           C  , HETATM   32 mm3_ mm3 A   1       1.638  24.309   9.308  1.00  0.00           C  )\n  warnings.warn(\"WARNING: duplicate atom (%s, %s)\" % (atom, old_atom._pdb_string(old_atom.serial_number, atom.alternate_location_indicator)))\nC:\\Users\\mike\\Anaconda3\\envs\\grpc\\lib\\site-packages\\simtk\\openmm\\app\\internal\\pdbstructure.py:537: UserWarning: WARNING: duplicate atom (HETATM   34 mm3_ mm3 A   1      -0.647  23.300   9.968  1.00  0.00           C  , HETATM   33 mm3_ mm3 A   1       1.269  23.139   8.873  1.00  0.00           C  )\n  warnings.warn(\"WARNING: duplicate atom (%s, %s)\" % (atom, old_atom._pdb_string(old_atom.serial_number, atom.alternate_location_indicator)))\nC:\\Users\\mike\\Anaconda3\\envs\\grpc\\lib\\site-packages\\simtk\\openmm\\app\\internal\\pdbstructure.py:537: UserWarning: WARNING: duplicate atom (HETATM   35 mm3_ mm3 A   1       2.408  28.598   6.970  1.00  0.00           C  , HETATM   34 mm3_ mm3 A   1      -0.647  23.300   9.968  1.00  0.00           C  )\n  warnings.warn(\"WARNING: duplicate atom (%s, %s)\" % (atom, old_atom._pdb_string(old_atom.serial_number, atom.alternate_location_indicator)))\nC:\\Users\\mike\\Anaconda3\\envs\\grpc\\lib\\site-packages\\simtk\\openmm\\app\\internal\\pdbstructure.py:537: UserWarning: WARNING: duplicate atom (HETATM   36 mm3_ mm3 A   1       1.945  27.467   6.477  1.00  0.00           C  , HETATM   35 mm3_ mm3 A   1       2.408  28.598   6.970  1.00  0.00           C  )\n  warnings.warn(\"WARNING: duplicate atom (%s, %s)\" % (atom, old_atom._pdb_string(old_atom.serial_number, atom.alternate_location_indicator)))\nC:\\Users\\mike\\Anaconda3\\envs\\grpc\\lib\\site-packages\\simtk\\openmm\\app\\internal\\pdbstructure.py:537: UserWarning: WARNING: duplicate atom (HETATM   37 mm3_ mm3 A   1       3.319  25.804   9.587  1.00  0.00           C  , HETATM   36 mm3_ mm3 A   1       1.945  27.467   6.477  1.00  0.00           C  )\n  warnings.warn(\"WARNING: duplicate atom (%s, %s)\" % (atom, old_atom._pdb_string(old_atom.serial_number, atom.alternate_location_indicator)))\nC:\\Users\\mike\\Anaconda3\\envs\\grpc\\lib\\site-packages\\simtk\\openmm\\app\\internal\\pdbstructure.py:537: UserWarning: WARNING: duplicate atom (HETATM   38 mm3_ mm3 A   1       2.868  24.669   9.186  1.00  0.00           C  , HETATM   37 mm3_ mm3 A   1       3.319  25.804   9.587  1.00  0.00           C  )\n  warnings.warn(\"WARNING: duplicate atom (%s, %s)\" % (atom, old_atom._pdb_string(old_atom.serial_number, atom.alternate_location_indicator)))\nC:\\Users\\mike\\Anaconda3\\envs\\grpc\\lib\\site-packages\\simtk\\openmm\\app\\internal\\pdbstructure.py:537: UserWarning: WARNING: duplicate atom (HETATM   39 mm3_ mm3 A   1      -0.839  31.701   9.768  1.00  0.00           C  , HETATM   38 mm3_ mm3 A   1       2.868  24.669   9.186  1.00  0.00           C  )\n  warnings.warn(\"WARNING: duplicate atom (%s, %s)\" % (atom, old_atom._pdb_string(old_atom.serial_number, atom.alternate_location_indicator)))\nC:\\Users\\mike\\Anaconda3\\envs\\grpc\\lib\\site-packages\\simtk\\openmm\\app\\internal\\pdbstructure.py:537: UserWarning: WARNING: duplicate atom (HETATM   40 mm3_ mm3 A   1      -2.123  31.507   9.789  1.00  0.00           C  , HETATM   39 mm3_ mm3 A   1      -0.839  31.701   9.768  1.00  0.00           C  )\n  warnings.warn(\"WARNING: duplicate atom (%s, %s)\" % (atom, old_atom._pdb_string(old_atom.serial_number, atom.alternate_location_indicator)))\nC:\\Users\\mike\\Anaconda3\\envs\\grpc\\lib\\site-packages\\simtk\\openmm\\app\\internal\\pdbstructure.py:537: UserWarning: WARNING: duplicate atom (HETATM   41 mm3_ mm3 A   1      -1.953  30.003   8.121  1.00  0.00           C  , HETATM   40 mm3_ mm3 A   1      -2.123  31.507   9.789  1.00  0.00           C  )\n  warnings.warn(\"WARNING: duplicate atom (%s, %s)\" % (atom, old_atom._pdb_string(old_atom.serial_number, atom.alternate_location_indicator)))\nC:\\Users\\mike\\Anaconda3\\envs\\grpc\\lib\\site-packages\\simtk\\openmm\\app\\internal\\pdbstructure.py:537: UserWarning: WARNING: duplicate atom (HETATM   42 mm3_ mm3 A   1      -2.718  30.690   8.933  1.00  0.00           C  , HETATM   41 mm3_ mm3 A   1      -1.953  30.003   8.121  1.00  0.00           C  )\n  warnings.warn(\"WARNING: duplicate atom (%s, %s)\" % (atom, old_atom._pdb_string(old_atom.serial_number, atom.alternate_location_indicator)))\nC:\\Users\\mike\\Anaconda3\\envs\\grpc\\lib\\site-packages\\simtk\\openmm\\app\\internal\\pdbstructure.py:537: UserWarning: WARNING: duplicate atom (HETATM   43 mm3_ mm3 A   1      -4.041  30.657   8.847  1.00  0.00           C  , HETATM   42 mm3_ mm3 A   1      -2.718  30.690   8.933  1.00  0.00           C  )\n  warnings.warn(\"WARNING: duplicate atom (%s, %s)\" % (atom, old_atom._pdb_string(old_atom.serial_number, atom.alternate_location_indicator)))\nC:\\Users\\mike\\Anaconda3\\envs\\grpc\\lib\\site-packages\\simtk\\openmm\\app\\internal\\pdbstructure.py:537: UserWarning: WARNING: duplicate atom (HETATM   44 mm3_ mm3 A   1      -4.602  29.972   7.900  1.00  0.00           C  , HETATM   43 mm3_ mm3 A   1      -4.041  30.657   8.847  1.00  0.00           C  )\n  warnings.warn(\"WARNING: duplicate atom (%s, %s)\" % (atom, old_atom._pdb_string(old_atom.serial_number, atom.alternate_location_indicator)))\nC:\\Users\\mike\\Anaconda3\\envs\\grpc\\lib\\site-packages\\simtk\\openmm\\app\\internal\\pdbstructure.py:537: UserWarning: WARNING: duplicate atom (HETATM   45 mm3_ mm3 A   1      -3.906  29.492   6.887  1.00  0.00           C  , HETATM   44 mm3_ mm3 A   1      -4.602  29.972   7.900  1.00  0.00           C  )\n  warnings.warn(\"WARNING: duplicate atom (%s, %s)\" % (atom, old_atom._pdb_string(old_atom.serial_number, atom.alternate_location_indicator)))\nC:\\Users\\mike\\Anaconda3\\envs\\grpc\\lib\\site-packages\\simtk\\openmm\\app\\internal\\pdbstructure.py:537: UserWarning: WARNING: duplicate atom (HETATM   46 mm3_ mm3 A   1      -2.625  29.521   7.005  1.00  0.00           C  , HETATM   45 mm3_ mm3 A   1      -3.906  29.492   6.887  1.00  0.00           C  )\n  warnings.warn(\"WARNING: duplicate atom (%s, %s)\" % (atom, old_atom._pdb_string(old_atom.serial_number, atom.alternate_location_indicator)))\nC:\\Users\\mike\\Anaconda3\\envs\\grpc\\lib\\site-packages\\simtk\\openmm\\app\\internal\\pdbstructure.py:537: UserWarning: WARNING: duplicate atom (HETATM   47 mm3_ mm3 A   1      -4.519  28.938   5.872  1.00  0.00           C  , HETATM   46 mm3_ mm3 A   1      -2.625  29.521   7.005  1.00  0.00           C  )\n  warnings.warn(\"WARNING: duplicate atom (%s, %s)\" % (atom, old_atom._pdb_string(old_atom.serial_number, atom.alternate_location_indicator)))\nC:\\Users\\mike\\Anaconda3\\envs\\grpc\\lib\\site-packages\\simtk\\openmm\\app\\internal\\pdbstructure.py:537: UserWarning: WARNING: duplicate atom (HETATM   48 mm3_ mm3 A   1      -3.879  28.577   4.776  1.00  0.00           C  , HETATM   47 mm3_ mm3 A   1      -4.519  28.938   5.872  1.00  0.00           C  )\n  warnings.warn(\"WARNING: duplicate atom (%s, %s)\" % (atom, old_atom._pdb_string(old_atom.serial_number, atom.alternate_location_indicator)))\nC:\\Users\\mike\\Anaconda3\\envs\\grpc\\lib\\site-packages\\simtk\\openmm\\app\\internal\\pdbstructure.py:537: UserWarning: WARNING: duplicate atom (HETATM   49 mm3_ mm3 A   1      -2.016  29.047   5.943  1.00  0.00           C  , HETATM   48 mm3_ mm3 A   1      -3.879  28.577   4.776  1.00  0.00           C  )\n  warnings.warn(\"WARNING: duplicate atom (%s, %s)\" % (atom, old_atom._pdb_string(old_atom.serial_number, atom.alternate_location_indicator)))\nC:\\Users\\mike\\Anaconda3\\envs\\grpc\\lib\\site-packages\\simtk\\openmm\\app\\internal\\pdbstructure.py:537: UserWarning: WARNING: duplicate atom (HETATM   50 mm3_ mm3 A   1      -2.575  28.713   4.830  1.00  0.00           C  , HETATM   49 mm3_ mm3 A   1      -2.016  29.047   5.943  1.00  0.00           C  )\n  warnings.warn(\"WARNING: duplicate atom (%s, %s)\" % (atom, old_atom._pdb_string(old_atom.serial_number, atom.alternate_location_indicator)))\nC:\\Users\\mike\\Anaconda3\\envs\\grpc\\lib\\site-packages\\simtk\\openmm\\app\\internal\\pdbstructure.py:537: UserWarning: WARNING: duplicate atom (HETATM   51 mm3_ mm3 A   1      -1.291  24.481   6.082  1.00  0.00           H  , HETATM   50 mm3_ mm3 A   1      -2.575  28.713   4.830  1.00  0.00           C  )\n  warnings.warn(\"WARNING: duplicate atom (%s, %s)\" % (atom, old_atom._pdb_string(old_atom.serial_number, atom.alternate_location_indicator)))\nC:\\Users\\mike\\Anaconda3\\envs\\grpc\\lib\\site-packages\\simtk\\openmm\\app\\internal\\pdbstructure.py:537: UserWarning: WARNING: duplicate atom (HETATM   52 mm3_ mm3 A   1       0.778  25.507   5.310  1.00  0.00           H  , HETATM   51 mm3_ mm3 A   1      -1.291  24.481   6.082  1.00  0.00           H  )\n  warnings.warn(\"WARNING: duplicate atom (%s, %s)\" % (atom, old_atom._pdb_string(old_atom.serial_number, atom.alternate_location_indicator)))\nC:\\Users\\mike\\Anaconda3\\envs\\grpc\\lib\\site-packages\\simtk\\openmm\\app\\internal\\pdbstructure.py:537: UserWarning: WARNING: duplicate atom (HETATM   53 mm3_ mm3 A   1      -4.645  27.082  10.868  1.00  0.00           H  , HETATM   52 mm3_ mm3 A   1       0.778  25.507   5.310  1.00  0.00           H  )\n  warnings.warn(\"WARNING: duplicate atom (%s, %s)\" % (atom, old_atom._pdb_string(old_atom.serial_number, atom.alternate_location_indicator)))\nC:\\Users\\mike\\Anaconda3\\envs\\grpc\\lib\\site-packages\\simtk\\openmm\\app\\internal\\pdbstructure.py:537: UserWarning: WARNING: duplicate atom (HETATM   54 mm3_ mm3 A   1      -3.563  28.369  12.406  1.00  0.00           H  , HETATM   53 mm3_ mm3 A   1      -4.645  27.082  10.868  1.00  0.00           H  )\n  warnings.warn(\"WARNING: duplicate atom (%s, %s)\" % (atom, old_atom._pdb_string(old_atom.serial_number, atom.alternate_location_indicator)))\nC:\\Users\\mike\\Anaconda3\\envs\\grpc\\lib\\site-packages\\simtk\\openmm\\app\\internal\\pdbstructure.py:537: UserWarning: WARNING: duplicate atom (HETATM   55 mm3_ mm3 A   1      -4.552  25.686   8.829  1.00  0.00           H  , HETATM   54 mm3_ mm3 A   1      -3.563  28.369  12.406  1.00  0.00           H  )\n  warnings.warn(\"WARNING: duplicate atom (%s, %s)\" % (atom, old_atom._pdb_string(old_atom.serial_number, atom.alternate_location_indicator)))\nC:\\Users\\mike\\Anaconda3\\envs\\grpc\\lib\\site-packages\\simtk\\openmm\\app\\internal\\pdbstructure.py:537: UserWarning: WARNING: duplicate atom (HETATM   56 mm3_ mm3 A   1      -3.511  24.967   6.967  1.00  0.00           H  , HETATM   55 mm3_ mm3 A   1      -4.552  25.686   8.829  1.00  0.00           H  )\n  warnings.warn(\"WARNING: duplicate atom (%s, %s)\" % (atom, old_atom._pdb_string(old_atom.serial_number, atom.alternate_location_indicator)))\nC:\\Users\\mike\\Anaconda3\\envs\\grpc\\lib\\site-packages\\simtk\\openmm\\app\\internal\\pdbstructure.py:537: UserWarning: WARNING: duplicate atom (HETATM   57 mm3_ mm3 A   1       2.694  29.209  12.129  1.00  0.00           H  , HETATM   56 mm3_ mm3 A   1      -3.511  24.967   6.967  1.00  0.00           H  )\n  warnings.warn(\"WARNING: duplicate atom (%s, %s)\" % (atom, old_atom._pdb_string(old_atom.serial_number, atom.alternate_location_indicator)))\nC:\\Users\\mike\\Anaconda3\\envs\\grpc\\lib\\site-packages\\simtk\\openmm\\app\\internal\\pdbstructure.py:537: UserWarning: WARNING: duplicate atom (HETATM   58 mm3_ mm3 A   1       4.038  27.605  11.104  1.00  0.00           H  , HETATM   57 mm3_ mm3 A   1       2.694  29.209  12.129  1.00  0.00           H  )\n  warnings.warn(\"WARNING: duplicate atom (%s, %s)\" % (atom, old_atom._pdb_string(old_atom.serial_number, atom.alternate_location_indicator)))\nC:\\Users\\mike\\Anaconda3\\envs\\grpc\\lib\\site-packages\\simtk\\openmm\\app\\internal\\pdbstructure.py:537: UserWarning: WARNING: duplicate atom (HETATM   59 mm3_ mm3 A   1       0.666  29.694  13.087  1.00  0.00           H  , HETATM   58 mm3_ mm3 A   1       4.038  27.605  11.104  1.00  0.00           H  )\n  warnings.warn(\"WARNING: duplicate atom (%s, %s)\" % (atom, old_atom._pdb_string(old_atom.serial_number, atom.alternate_location_indicator)))\nC:\\Users\\mike\\Anaconda3\\envs\\grpc\\lib\\site-packages\\simtk\\openmm\\app\\internal\\pdbstructure.py:537: UserWarning: WARNING: duplicate atom (HETATM   60 mm3_ mm3 A   1      -1.742  29.331  13.143  1.00  0.00           H  , HETATM   59 mm3_ mm3 A   1       0.666  29.694  13.087  1.00  0.00           H  )\n  warnings.warn(\"WARNING: duplicate atom (%s, %s)\" % (atom, old_atom._pdb_string(old_atom.serial_number, atom.alternate_location_indicator)))\nC:\\Users\\mike\\Anaconda3\\envs\\grpc\\lib\\site-packages\\simtk\\openmm\\app\\internal\\pdbstructure.py:537: UserWarning: WARNING: duplicate atom (HETATM   61 mm3_ mm3 A   1       3.125  30.622   8.345  1.00  0.00           H  , HETATM   60 mm3_ mm3 A   1      -1.742  29.331  13.143  1.00  0.00           H  )\n  warnings.warn(\"WARNING: duplicate atom (%s, %s)\" % (atom, old_atom._pdb_string(old_atom.serial_number, atom.alternate_location_indicator)))\nC:\\Users\\mike\\Anaconda3\\envs\\grpc\\lib\\site-packages\\simtk\\openmm\\app\\internal\\pdbstructure.py:537: UserWarning: WARNING: duplicate atom (HETATM   62 mm3_ mm3 A   1       1.685  32.015   9.620  1.00  0.00           H  , HETATM   61 mm3_ mm3 A   1       3.125  30.622   8.345  1.00  0.00           H  )\n  warnings.warn(\"WARNING: duplicate atom (%s, %s)\" % (atom, old_atom._pdb_string(old_atom.serial_number, atom.alternate_location_indicator)))\nC:\\Users\\mike\\Anaconda3\\envs\\grpc\\lib\\site-packages\\simtk\\openmm\\app\\internal\\pdbstructure.py:537: UserWarning: WARNING: duplicate atom (HETATM   63 mm3_ mm3 A   1      -0.787  24.955  11.128  1.00  0.00           H  , HETATM   62 mm3_ mm3 A   1       1.685  32.015   9.620  1.00  0.00           H  )\n  warnings.warn(\"WARNING: duplicate atom (%s, %s)\" % (atom, old_atom._pdb_string(old_atom.serial_number, atom.alternate_location_indicator)))\nC:\\Users\\mike\\Anaconda3\\envs\\grpc\\lib\\site-packages\\simtk\\openmm\\app\\internal\\pdbstructure.py:537: UserWarning: WARNING: duplicate atom (HETATM   64 mm3_ mm3 A   1       2.054  22.387   8.861  1.00  0.00           H  , HETATM   63 mm3_ mm3 A   1      -0.787  24.955  11.128  1.00  0.00           H  )\n  warnings.warn(\"WARNING: duplicate atom (%s, %s)\" % (atom, old_atom._pdb_string(old_atom.serial_number, atom.alternate_location_indicator)))\nC:\\Users\\mike\\Anaconda3\\envs\\grpc\\lib\\site-packages\\simtk\\openmm\\app\\internal\\pdbstructure.py:537: UserWarning: WARNING: duplicate atom (HETATM   65 mm3_ mm3 A   1      -1.480  22.798  10.442  1.00  0.00           H  , HETATM   64 mm3_ mm3 A   1       2.054  22.387   8.861  1.00  0.00           H  )\n  warnings.warn(\"WARNING: duplicate atom (%s, %s)\" % (atom, old_atom._pdb_string(old_atom.serial_number, atom.alternate_location_indicator)))\nC:\\Users\\mike\\Anaconda3\\envs\\grpc\\lib\\site-packages\\simtk\\openmm\\app\\internal\\pdbstructure.py:537: UserWarning: WARNING: duplicate atom (HETATM   66 mm3_ mm3 A   1      -0.173  21.567   8.833  1.00  0.00           H  , HETATM   65 mm3_ mm3 A   1      -1.480  22.798  10.442  1.00  0.00           H  )\n  warnings.warn(\"WARNING: duplicate atom (%s, %s)\" % (atom, old_atom._pdb_string(old_atom.serial_number, atom.alternate_location_indicator)))\nC:\\Users\\mike\\Anaconda3\\envs\\grpc\\lib\\site-packages\\simtk\\openmm\\app\\internal\\pdbstructure.py:537: UserWarning: WARNING: duplicate atom (HETATM   67 mm3_ mm3 A   1       3.443  28.919   6.763  1.00  0.00           H  , HETATM   66 mm3_ mm3 A   1      -0.173  21.567   8.833  1.00  0.00           H  )\n  warnings.warn(\"WARNING: duplicate atom (%s, %s)\" % (atom, old_atom._pdb_string(old_atom.serial_number, atom.alternate_location_indicator)))\nC:\\Users\\mike\\Anaconda3\\envs\\grpc\\lib\\site-packages\\simtk\\openmm\\app\\internal\\pdbstructure.py:537: UserWarning: WARNING: duplicate atom (HETATM   68 mm3_ mm3 A   1       2.396  27.159   5.504  1.00  0.00           H  , HETATM   67 mm3_ mm3 A   1       3.443  28.919   6.763  1.00  0.00           H  )\n  warnings.warn(\"WARNING: duplicate atom (%s, %s)\" % (atom, old_atom._pdb_string(old_atom.serial_number, atom.alternate_location_indicator)))\nC:\\Users\\mike\\Anaconda3\\envs\\grpc\\lib\\site-packages\\simtk\\openmm\\app\\internal\\pdbstructure.py:537: UserWarning: WARNING: duplicate atom (HETATM   69 mm3_ mm3 A   1       4.388  25.954   9.506  1.00  0.00           H  , HETATM   68 mm3_ mm3 A   1       2.396  27.159   5.504  1.00  0.00           H  )\n  warnings.warn(\"WARNING: duplicate atom (%s, %s)\" % (atom, old_atom._pdb_string(old_atom.serial_number, atom.alternate_location_indicator)))\nC:\\Users\\mike\\Anaconda3\\envs\\grpc\\lib\\site-packages\\simtk\\openmm\\app\\internal\\pdbstructure.py:537: UserWarning: WARNING: duplicate atom (HETATM   70 mm3_ mm3 A   1       3.535  23.927   8.736  1.00  0.00           H  , HETATM   69 mm3_ mm3 A   1       4.388  25.954   9.506  1.00  0.00           H  )\n  warnings.warn(\"WARNING: duplicate atom (%s, %s)\" % (atom, old_atom._pdb_string(old_atom.serial_number, atom.alternate_location_indicator)))\nC:\\Users\\mike\\Anaconda3\\envs\\grpc\\lib\\site-packages\\simtk\\openmm\\app\\internal\\pdbstructure.py:537: UserWarning: WARNING: duplicate atom (HETATM   71 mm3_ mm3 A   1      -0.474  32.522  10.296  1.00  0.00           H  , HETATM   70 mm3_ mm3 A   1       3.535  23.927   8.736  1.00  0.00           H  )\n  warnings.warn(\"WARNING: duplicate atom (%s, %s)\" % (atom, old_atom._pdb_string(old_atom.serial_number, atom.alternate_location_indicator)))\nC:\\Users\\mike\\Anaconda3\\envs\\grpc\\lib\\site-packages\\simtk\\openmm\\app\\internal\\pdbstructure.py:537: UserWarning: WARNING: duplicate atom (HETATM   72 mm3_ mm3 A   1      -4.549  31.355   9.473  1.00  0.00           H  , HETATM   71 mm3_ mm3 A   1      -0.474  32.522  10.296  1.00  0.00           H  )\n  warnings.warn(\"WARNING: duplicate atom (%s, %s)\" % (atom, old_atom._pdb_string(old_atom.serial_number, atom.alternate_location_indicator)))\nC:\\Users\\mike\\Anaconda3\\envs\\grpc\\lib\\site-packages\\simtk\\openmm\\app\\internal\\pdbstructure.py:537: UserWarning: WARNING: duplicate atom (HETATM   73 mm3_ mm3 A   1      -5.680  29.939   7.937  1.00  0.00           H  , HETATM   72 mm3_ mm3 A   1      -4.549  31.355   9.473  1.00  0.00           H  )\n  warnings.warn(\"WARNING: duplicate atom (%s, %s)\" % (atom, old_atom._pdb_string(old_atom.serial_number, atom.alternate_location_indicator)))\nC:\\Users\\mike\\Anaconda3\\envs\\grpc\\lib\\site-packages\\simtk\\openmm\\app\\internal\\pdbstructure.py:537: UserWarning: WARNING: duplicate atom (HETATM   74 mm3_ mm3 A   1      -2.766  31.953  10.544  1.00  0.00           H  , HETATM   73 mm3_ mm3 A   1      -5.680  29.939   7.937  1.00  0.00           H  )\n  warnings.warn(\"WARNING: duplicate atom (%s, %s)\" % (atom, old_atom._pdb_string(old_atom.serial_number, atom.alternate_location_indicator)))\nC:\\Users\\mike\\Anaconda3\\envs\\grpc\\lib\\site-packages\\simtk\\openmm\\app\\internal\\pdbstructure.py:537: UserWarning: WARNING: duplicate atom (HETATM   75 mm3_ mm3 A   1      -5.629  28.929   5.786  1.00  0.00           H  , HETATM   74 mm3_ mm3 A   1      -2.766  31.953  10.544  1.00  0.00           H  )\n  warnings.warn(\"WARNING: duplicate atom (%s, %s)\" % (atom, old_atom._pdb_string(old_atom.serial_number, atom.alternate_location_indicator)))\nC:\\Users\\mike\\Anaconda3\\envs\\grpc\\lib\\site-packages\\simtk\\openmm\\app\\internal\\pdbstructure.py:537: UserWarning: WARNING: duplicate atom (HETATM   76 mm3_ mm3 A   1      -4.287  28.233   3.835  1.00  0.00           H  , HETATM   75 mm3_ mm3 A   1      -5.629  28.929   5.786  1.00  0.00           H  )\n  warnings.warn(\"WARNING: duplicate atom (%s, %s)\" % (atom, old_atom._pdb_string(old_atom.serial_number, atom.alternate_location_indicator)))\nC:\\Users\\mike\\Anaconda3\\envs\\grpc\\lib\\site-packages\\simtk\\openmm\\app\\internal\\pdbstructure.py:537: UserWarning: WARNING: duplicate atom (HETATM   77 mm3_ mm3 A   1      -0.954  28.947   5.960  1.00  0.00           H  , HETATM   76 mm3_ mm3 A   1      -4.287  28.233   3.835  1.00  0.00           H  )\n  warnings.warn(\"WARNING: duplicate atom (%s, %s)\" % (atom, old_atom._pdb_string(old_atom.serial_number, atom.alternate_location_indicator)))\nC:\\Users\\mike\\Anaconda3\\envs\\grpc\\lib\\site-packages\\simtk\\openmm\\app\\internal\\pdbstructure.py:537: UserWarning: WARNING: duplicate atom (HETATM   78 mm3_ mm3 A   1      -2.008  28.843   3.876  1.00  0.00           H  , HETATM   77 mm3_ mm3 A   1      -0.954  28.947   5.960  1.00  0.00           H  )\n  warnings.warn(\"WARNING: duplicate atom (%s, %s)\" % (atom, old_atom._pdb_string(old_atom.serial_number, atom.alternate_location_indicator)))\n"
     ],
     "output_type": "stream"
    }
   ],
   "source": [
    "imd = OpenMMIMDRunner.from_xml(input_xml)"
   ]
  },
  {
   "cell_type": "markdown",
   "metadata": {},
   "source": [
    "Run dynamics in background thread"
   ]
  },
  {
   "cell_type": "code",
   "execution_count": 4,
   "metadata": {
    "pycharm": {
     "is_executing": false
    }
   },
   "outputs": [],
   "source": [
    "imd.run()"
   ]
  },
  {
   "cell_type": "code",
   "execution_count": 5,
   "metadata": {
    "pycharm": {
     "is_executing": false
    }
   },
   "outputs": [
    {
     "data": {
      "text/plain": "0.7858155830771251"
     },
     "metadata": {},
     "output_type": "execute_result",
     "execution_count": 5
    }
   ],
   "source": [
    "# print the time to check dynamics is running\n",
    "imd.dynamics.get_time()"
   ]
  },
  {
   "cell_type": "markdown",
   "metadata": {},
   "source": [
    "## Start an IMD client"
   ]
  },
  {
   "cell_type": "code",
   "execution_count": 6,
   "metadata": {
    "pycharm": {
     "is_executing": false
    }
   },
   "outputs": [],
   "source": [
    "client = NarupaImdClient.autoconnect()"
   ]
  },
  {
   "cell_type": "markdown",
   "metadata": {},
   "source": [
    "Now we look at some of the frames being produced by Narupa, convert from back to ASE atoms, and visualise them. See the interactive_client notebook for more advanced visualisation."
   ]
  },
  {
   "cell_type": "code",
   "execution_count": 7,
   "metadata": {
    "scrolled": true,
    "pycharm": {
     "is_executing": false
    }
   },
   "outputs": [
    {
     "data": {
      "text/plain": "values {\n  key: \"energy.kinetic\"\n  value {\n    number_value: 338.5210835810856\n  }\n}\nvalues {\n  key: \"energy.potential\"\n  value {\n    number_value: 312.5333251953125\n  }\n}\narrays {\n  key: \"particle.positions\"\n  value {\n    float_values {\n      values: -0.144120454788208\n      values: 2.7096688747406006\n      values: 0.8768105506896973\n      values: 0.0021148358937352896\n      values: 2.5927975177764893\n      values: 0.6702060699462891\n      values: -0.18195754289627075\n      values: 2.597850799560547\n      values: 0.8176649212837219\n      values: -0.04084804654121399\n      values: 2.774341344833374\n      values: 0.8127037882804871\n      values: 0.04009855538606644\n      values: 2.713046073913574\n      values: 0.7241566181182861\n      values: -0.11090628802776337\n      values: 2.539407968521118\n      values: 0.7146530747413635\n      values: -0.20749369263648987\n      values: 2.7634997367858887\n      values: 0.9763068556785583\n      values: -0.2780298888683319\n      values: 2.7591922283172607\n      values: 1.2271639108657837\n      values: -0.13740091025829315\n      values: 2.840460777282715\n      values: 1.0606307983398438\n      values: -0.32089963555336\n      values: 2.7118570804595947\n      values: 1.0164272785186768\n      values: -0.36860254406929016\n      values: 2.720318078994751\n      values: 1.1415756940841675\n      values: -0.1877439022064209\n      values: 2.8475725650787354\n      values: 1.184541940689087\n      values: -0.3852890729904175\n      values: 2.6393206119537354\n      values: 0.9285606145858765\n      values: -0.31161388754844666\n      values: 2.560075283050537\n      values: 0.8444615602493286\n      values: -0.0018396151717752218\n      values: 2.836587429046631\n      values: 1.0445642471313477\n      values: 0.25909632444381714\n      values: 2.8215584754943848\n      values: 1.0167148113250732\n      values: 0.05288085713982582\n      values: 2.7267532348632812\n      values: 0.9980102777481079\n      values: 0.07307147979736328\n      values: 2.8989782333374023\n      values: 1.1340926885604858\n      values: 0.20300759375095367\n      values: 2.901710033416748\n      values: 1.109736680984497\n      values: 0.17902375757694244\n      values: 2.721733808517456\n      values: 0.9737018942832947\n      values: 0.030228471383452415\n      values: 2.9160256385803223\n      values: 1.2587651014328003\n      values: -0.10544591397047043\n      values: 2.907644510269165\n      values: 1.278132438659668\n      values: -0.01108667440712452\n      values: 2.9011521339416504\n      values: 0.8395386934280396\n      values: 0.0626121237874031\n      values: 3.103442907333374\n      values: 0.9777860045433044\n      values: 0.11887948215007782\n      values: 2.936279535293579\n      values: 0.8375773429870605\n      values: -0.10158604383468628\n      values: 2.971348285675049\n      values: 0.8997251987457275\n      values: -0.06706003099679947\n      values: 3.0687036514282227\n      values: 0.9800264239311218\n      values: 0.1473204642534256\n      values: 3.054507255554199\n      values: 0.8915407061576843\n      values: -0.012306486256420612\n      values: 2.6088783740997314\n      values: 0.9942432045936584\n      values: -0.1766846477985382\n      values: 2.3972623348236084\n      values: 0.9287669658660889\n      values: -0.13466903567314148\n      values: 2.592153310775757\n      values: 1.0551791191101074\n      values: 0.032790835946798325\n      values: 2.5054731369018555\n      values: 0.9336602687835693\n      values: -0.04805983230471611\n      values: 2.4103095531463623\n      values: 0.8936585187911987\n      values: -0.22395597398281097\n      values: 2.498886823654175\n      values: 1.0017725229263306\n      values: 0.19889868795871735\n      values: 2.8827147483825684\n      values: 0.7452398538589478\n      values: 0.16245406866073608\n      values: 2.765732526779175\n      values: 0.6931618452072144\n      values: 0.23331919312477112\n      values: 2.6102848052978516\n      values: 0.9226818680763245\n      values: 0.15901905298233032\n      values: 2.497591495513916\n      values: 0.9190399646759033\n      values: -0.15894559025764465\n      values: 3.1403942108154297\n      values: 1.0542917251586914\n      values: -0.28669577836990356\n      values: 3.1013987064361572\n      values: 1.0392895936965942\n      values: -0.22826819121837616\n      values: 2.9635932445526123\n      values: 0.8712202310562134\n      values: -0.31733351945877075\n      values: 3.0087504386901855\n      values: 0.9492734670639038\n      values: -0.44489213824272156\n      values: 2.967794895172119\n      values: 0.9314308762550354\n      values: -0.4762682616710663\n      values: 2.88942289352417\n      values: 0.8300390243530273\n      values: -0.38503971695899963\n      values: 2.8663365840911865\n      values: 0.7426033020019531\n      values: -0.2614138126373291\n      values: 2.9012694358825684\n      values: 0.7630365490913391\n      values: -0.4123860001564026\n      values: 2.7935128211975098\n      values: 0.6328780651092529\n      values: -0.31329697370529175\n      values: 2.737724542617798\n      values: 0.5688288807868958\n      values: -0.1675342619419098\n      values: 2.8837056159973145\n      values: 0.672877848148346\n      values: -0.19001370668411255\n      values: 2.7850546836853027\n      values: 0.5837118029594421\n      values: -0.14612679183483124\n      values: 2.4316680431365967\n      values: 0.6829133033752441\n      values: 0.03553605079650879\n      values: 2.5576157569885254\n      values: 0.5666744112968445\n      values: -0.48037850856781006\n      values: 2.722959518432617\n      values: 1.1440788507461548\n      values: -0.25081560015678406\n      values: 2.709641456604004\n      values: 1.3225722312927246\n      values: -0.480545312166214\n      values: 2.6824934482574463\n      values: 0.8978962898254395\n      values: -0.35925155878067017\n      values: 2.501230239868164\n      values: 0.7574330568313599\n      values: 0.2707550525665283\n      values: 2.897376775741577\n      values: 1.1984549760818481\n      values: 0.36108601093292236\n      values: 2.8319976329803467\n      values: 0.9955043792724609\n      values: 0.10208853334188461\n      values: 2.975440740585327\n      values: 1.3187769651412964\n      values: -0.14483532309532166\n      values: 2.962399959564209\n      values: 1.3698148727416992\n      values: 0.20604366064071655\n      values: 3.1219635009765625\n      values: 0.8228732943534851\n      values: 0.09884416311979294\n      values: 3.161120891571045\n      values: 1.0620112419128418\n      values: -0.16762705147266388\n      values: 2.6574466228485107\n      values: 1.1351450681686401\n      values: -0.007741698529571295\n      values: 2.318329095840454\n      values: 0.8417699337005615\n      values: -0.3335854113101959\n      values: 2.5207841396331787\n      values: 1.0127426385879517\n      values: -0.21820028126239777\n      values: 2.29807710647583\n      values: 0.9479062557220459\n      values: 0.29189974069595337\n      values: 2.9314329624176025\n      values: 0.6901131868362427\n      values: 0.2368100881576538\n      values: 2.6916768550872803\n      values: 0.656730055809021\n      values: 0.2990357577800751\n      values: 2.6104588508605957\n      values: 0.8327347040176392\n      values: 0.21271632611751556\n      values: 2.397660493850708\n      values: 0.9249767065048218\n      values: -0.1320231556892395\n      values: 3.207988977432251\n      values: 1.1382733583450317\n      values: -0.5311904549598694\n      values: 3.022475004196167\n      values: 0.9714086055755615\n      values: -0.5694899559020996\n      values: 2.8234658241271973\n      values: 0.8213839530944824\n      values: -0.3696260154247284\n      values: 3.1498382091522217\n      values: 1.0933070182800293\n      values: -0.514677107334137\n      values: 2.742936849594116\n      values: 0.6178205609321594\n      values: -0.33979111909866333\n      values: 2.653594493865967\n      values: 0.5055571794509888\n      values: -0.07470041513442993\n      values: 2.943317174911499\n      values: 0.6860229969024658\n      values: -0.10851503908634186\n      values: 2.7531096935272217\n      values: 0.5148436427116394\n    }\n  }\n}\narrays {\n  key: \"system.box.vectors\"\n  value {\n    float_values {\n      values: 2.0\n      values: 0.0\n      values: 0.0\n      values: 0.0\n      values: 2.0\n      values: 0.0\n      values: 0.0\n      values: 0.0\n      values: 2.0\n    }\n  }\n}"
     },
     "metadata": {},
     "output_type": "execute_result",
     "execution_count": 7
    }
   ],
   "source": [
    "# view the latest frame (may take a while!)\n",
    "client.latest_frame.raw"
   ]
  },
  {
   "cell_type": "code",
   "execution_count": 8,
   "metadata": {
    "pycharm": {
     "is_executing": false
    }
   },
   "outputs": [],
   "source": [
    "# convert the frame data to ASE\n",
    "atoms = frame_data_to_ase(client.first_frame, topology=True, positions=False)"
   ]
  },
  {
   "cell_type": "code",
   "execution_count": 9,
   "metadata": {
    "pycharm": {
     "is_executing": false
    }
   },
   "outputs": [],
   "source": [
    "# set the positions to match the frame data\n",
    "atoms.set_positions(np.array(client.latest_frame.particle_positions) * 10)"
   ]
  },
  {
   "cell_type": "code",
   "execution_count": 10,
   "metadata": {
    "pycharm": {
     "is_executing": false
    }
   },
   "outputs": [],
   "source": [
    "\n",
    "view(atoms)"
   ]
  },
  {
   "cell_type": "code",
   "execution_count": 11,
   "metadata": {
    "pycharm": {
     "is_executing": false
    }
   },
   "outputs": [],
   "source": [
    "imd.close()"
   ]
  },
  {
   "cell_type": "code",
   "execution_count": 11,
   "metadata": {
    "pycharm": {
     "is_executing": false
    }
   },
   "outputs": [],
   "source": []
  }
 ],
 "metadata": {
  "kernelspec": {
   "display_name": "Python 3",
   "language": "python",
   "name": "python3"
  },
  "language_info": {
   "codemirror_mode": {
    "name": "ipython",
    "version": 3
   },
   "file_extension": ".py",
   "mimetype": "text/x-python",
   "name": "python",
   "nbconvert_exporter": "python",
   "pygments_lexer": "ipython3",
   "version": "3.7.5"
  },
  "pycharm": {
   "stem_cell": {
    "cell_type": "raw",
    "source": [],
    "metadata": {
     "collapsed": false
    }
   }
  }
 },
 "nbformat": 4,
 "nbformat_minor": 2
}