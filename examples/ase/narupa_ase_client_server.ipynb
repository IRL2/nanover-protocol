{
 "cells": [
  {
   "cell_type": "markdown",
   "metadata": {},
   "source": [
    "# Narupa ASE Client / Server Example"
   ]
  },
  {
   "cell_type": "markdown",
   "metadata": {},
   "source": [
    "This notebook demonstrates an example of running an interactive molecular dynamics Narupa server with ASE, connecting to it from a client, looking at the data being produced and visualising it."
   ]
  },
  {
   "cell_type": "code",
   "execution_count": 12,
   "metadata": {
    "pycharm": {
     "is_executing": false
    }
   },
   "outputs": [],
   "source": [
    "from narupa.app.client import NarupaImdClient\n",
    "from narupa.ase.openmm import OpenMMIMDRunner\n",
    "from narupa.ase.converter import frame_data_to_ase\n",
    "import numpy as np\n",
    "from ase.visualize import view"
   ]
  },
  {
   "cell_type": "markdown",
   "metadata": {},
   "source": [
    "## Set up the server"
   ]
  },
  {
   "cell_type": "markdown",
   "metadata": {},
   "source": [
    "Run the server. Here, we're using ASE, but it could be LAMMPS or OpenMM or anything else. "
   ]
  },
  {
   "cell_type": "code",
   "execution_count": 25,
   "metadata": {
    "pycharm": {
     "is_executing": false
    }
   },
   "outputs": [],
   "source": [
    "# set up an openmm simulation, or read from file. \n",
    "input_xml = \"openmm_files/helicene.xml\""
   ]
  },
  {
   "cell_type": "code",
   "execution_count": 28,
   "metadata": {
    "pycharm": {
     "is_executing": false
    }
   },
   "outputs": [],
   "source": [
    "imd = OpenMMIMDRunner.from_xml(input_xml)"
   ]
  },
  {
   "cell_type": "markdown",
   "metadata": {},
   "source": [
    "Run dynamics in background thread"
   ]
  },
  {
   "cell_type": "code",
   "execution_count": 23,
   "metadata": {
    "pycharm": {
     "is_executing": false
    }
   },
   "outputs": [],
   "source": [
    "imd.run()"
   ]
  },
  {
   "cell_type": "code",
   "execution_count": 5,
   "metadata": {
    "pycharm": {
     "is_executing": false
    }
   },
   "outputs": [
    {
     "data": {
      "text/plain": [
       "0.7858155830771251"
      ]
     },
     "execution_count": 5,
     "metadata": {},
     "output_type": "execute_result"
    }
   ],
   "source": [
    "# print the time to check dynamics is running\n",
    "imd.dynamics.get_time()"
   ]
  },
  {
   "cell_type": "markdown",
   "metadata": {},
   "source": [
    "## Start an IMD client"
   ]
  },
  {
   "cell_type": "code",
   "execution_count": 6,
   "metadata": {
    "pycharm": {
     "is_executing": false
    }
   },
   "outputs": [],
   "source": [
    "client = NarupaImdClient.autoconnect()"
   ]
  },
  {
   "cell_type": "markdown",
   "metadata": {},
   "source": [
    "Now we look at some of the frames being produced by Narupa, convert from back to ASE atoms, and visualise them. See the interactive_client notebook for more advanced visualisation."
   ]
  },
  {
   "cell_type": "code",
   "execution_count": 7,
   "metadata": {
    "pycharm": {
     "is_executing": false
    },
    "scrolled": true
   },
   "outputs": [
    {
     "data": {
      "text/plain": [
       "values {\n",
       "  key: \"energy.kinetic\"\n",
       "  value {\n",
       "    number_value: 330.195929776503\n",
       "  }\n",
       "}\n",
       "values {\n",
       "  key: \"energy.potential\"\n",
       "  value {\n",
       "    number_value: 255.25369262695312\n",
       "  }\n",
       "}\n",
       "arrays {\n",
       "  key: \"particle.positions\"\n",
       "  value {\n",
       "    float_values {\n",
       "      values: -0.09634682536125183\n",
       "      values: 2.7463135719299316\n",
       "      values: 0.8331093192100525\n",
       "      values: 0.036539528518915176\n",
       "      values: 2.593200445175171\n",
       "      values: 0.6621869802474976\n",
       "      values: -0.1474342942237854\n",
       "      values: 2.6346330642700195\n",
       "      values: 0.7902963161468506\n",
       "      values: 0.03422541171312332\n",
       "      values: 2.7731857299804688\n",
       "      values: 0.7959556579589844\n",
       "      values: 0.10857958346605301\n",
       "      values: 2.6838698387145996\n",
       "      values: 0.721307635307312\n",
       "      values: -0.08960079401731491\n",
       "      values: 2.5679445266723633\n",
       "      values: 0.6972883343696594\n",
       "      values: -0.14977620542049408\n",
       "      values: 2.7921335697174072\n",
       "      values: 0.9481964707374573\n",
       "      values: -0.2572896480560303\n",
       "      values: 2.903005838394165\n",
       "      values: 1.1565982103347778\n",
       "      values: -0.07355468720197678\n",
       "      values: 2.840540885925293\n",
       "      values: 1.0442224740982056\n",
       "      values: -0.28249654173851013\n",
       "      values: 2.7868881225585938\n",
       "      values: 0.9583981037139893\n",
       "      values: -0.33486342430114746\n",
       "      values: 2.8349058628082275\n",
       "      values: 1.0725499391555786\n",
       "      values: -0.125942662358284\n",
       "      values: 2.917006492614746\n",
       "      values: 1.1348578929901123\n",
       "      values: -0.3427901864051819\n",
       "      values: 2.6934566497802734\n",
       "      values: 0.8830568790435791\n",
       "      values: -0.27197155356407166\n",
       "      values: 2.6047396659851074\n",
       "      values: 0.8180785179138184\n",
       "      values: 0.05733023211359978\n",
       "      values: 2.805013418197632\n",
       "      values: 1.0422261953353882\n",
       "      values: 0.3064658045768738\n",
       "      values: 2.7290823459625244\n",
       "      values: 1.038384199142456\n",
       "      values: 0.09629188477993011\n",
       "      values: 2.692178726196289\n",
       "      values: 0.9757442474365234\n",
       "      values: 0.1436629593372345\n",
       "      values: 2.8732991218566895\n",
       "      values: 1.1142892837524414\n",
       "      values: 0.2709403932094574\n",
       "      values: 2.8473434448242188\n",
       "      values: 1.0925006866455078\n",
       "      values: 0.22505728900432587\n",
       "      values: 2.6742546558380127\n",
       "      values: 0.9511072039604187\n",
       "      values: 0.091230109333992\n",
       "      values: 2.9575858116149902\n",
       "      values: 1.2035386562347412\n",
       "      values: -0.03838440775871277\n",
       "      values: 2.9885189533233643\n",
       "      values: 1.208274006843567\n",
       "      values: 0.0818844586610794\n",
       "      values: 2.896605968475342\n",
       "      values: 0.8155800104141235\n",
       "      values: 0.18496593832969666\n",
       "      values: 3.1227855682373047\n",
       "      values: 0.8992052674293518\n",
       "      values: 0.1959817111492157\n",
       "      values: 2.934253692626953\n",
       "      values: 0.773419201374054\n",
       "      values: 0.0012757524382323027\n",
       "      values: 2.984537363052368\n",
       "      values: 0.86812824010849\n",
       "      values: 0.051528796553611755\n",
       "      values: 3.097447395324707\n",
       "      values: 0.9248347878456116\n",
       "      values: 0.25985071063041687\n",
       "      values: 3.03849720954895\n",
       "      values: 0.8290101289749146\n",
       "      values: 0.016124656423926353\n",
       "      values: 2.5864500999450684\n",
       "      values: 0.979203462600708\n",
       "      values: -0.08918705582618713\n",
       "      values: 2.362117052078247\n",
       "      values: 1.080627202987671\n",
       "      values: -0.08732245862483978\n",
       "      values: 2.596144676208496\n",
       "      values: 1.0640727281570435\n",
       "      values: 0.06403125822544098\n",
       "      values: 2.4667108058929443\n",
       "      values: 0.9523615837097168\n",
       "      values: 0.0318380706012249\n",
       "      values: 2.3600106239318848\n",
       "      values: 1.018261194229126\n",
       "      values: -0.1429249346256256\n",
       "      values: 2.4801394939422607\n",
       "      values: 1.111926555633545\n",
       "      values: 0.26506534218788147\n",
       "      values: 2.8498785495758057\n",
       "      values: 0.692123293876648\n",
       "      values: 0.23020336031913757\n",
       "      values: 2.724975824356079\n",
       "      values: 0.6812436580657959\n",
       "      values: 0.2569426894187927\n",
       "      values: 2.5657668113708496\n",
       "      values: 0.8807904720306396\n",
       "      values: 0.1734216958284378\n",
       "      values: 2.4590132236480713\n",
       "      values: 0.8736616969108582\n",
       "      values: -0.021709972992539406\n",
       "      values: 3.1672487258911133\n",
       "      values: 1.012912631034851\n",
       "      values: -0.14551474153995514\n",
       "      values: 3.124539852142334\n",
       "      values: 1.0353777408599854\n",
       "      values: -0.1289420872926712\n",
       "      values: 2.9572911262512207\n",
       "      values: 0.8709494471549988\n",
       "      values: -0.20094957947731018\n",
       "      values: 3.028427839279175\n",
       "      values: 0.9509884715080261\n",
       "      values: -0.33240100741386414\n",
       "      values: 3.0037500858306885\n",
       "      values: 0.955658495426178\n",
       "      values: -0.3852441906929016\n",
       "      values: 2.9319252967834473\n",
       "      values: 0.8580923676490784\n",
       "      values: -0.3102419674396515\n",
       "      values: 2.9185566902160645\n",
       "      values: 0.7463651299476624\n",
       "      values: -0.18230842053890228\n",
       "      values: 2.8996338844299316\n",
       "      values: 0.7628381252288818\n",
       "      values: -0.3672184646129608\n",
       "      values: 2.9474616050720215\n",
       "      values: 0.6226356625556946\n",
       "      values: -0.2944544553756714\n",
       "      values: 2.9253499507904053\n",
       "      values: 0.5121866464614868\n",
       "      values: -0.10670283436775208\n",
       "      values: 2.9102842807769775\n",
       "      values: 0.6493284106254578\n",
       "      values: -0.164880633354187\n",
       "      values: 2.903447151184082\n",
       "      values: 0.5279867053031921\n",
       "      values: -0.09364426136016846\n",
       "      values: 2.4588193893432617\n",
       "      values: 0.7040285468101501\n",
       "      values: 0.0692974328994751\n",
       "      values: 2.5612709522247314\n",
       "      values: 0.5576223731040955\n",
       "      values: -0.44578924775123596\n",
       "      values: 2.8529233932495117\n",
       "      values: 1.0853101015090942\n",
       "      values: -0.31002381443977356\n",
       "      values: 2.9711246490478516\n",
       "      values: 1.2299809455871582\n",
       "      values: -0.45504385232925415\n",
       "      values: 2.6875035762786865\n",
       "      values: 0.8860581517219543\n",
       "      values: -0.3108518421649933\n",
       "      values: 2.499706506729126\n",
       "      values: 0.8196491599082947\n",
       "      values: 0.33884066343307495\n",
       "      values: 2.9342730045318604\n",
       "      values: 1.0873311758041382\n",
       "      values: 0.389821320772171\n",
       "      values: 2.6704044342041016\n",
       "      values: 1.0805708169937134\n",
       "      values: 0.1531538963317871\n",
       "      values: 3.0252959728240967\n",
       "      values: 1.262797474861145\n",
       "      values: -0.0573214516043663\n",
       "      values: 3.0935566425323486\n",
       "      values: 1.2335478067398071\n",
       "      values: 0.36017948389053345\n",
       "      values: 3.013965606689453\n",
       "      values: 0.8660202622413635\n",
       "      values: 0.22266623377799988\n",
       "      values: 3.2242958545684814\n",
       "      values: 0.8759986162185669\n",
       "      values: -0.10029686987400055\n",
       "      values: 2.6970763206481934\n",
       "      values: 1.1145459413528442\n",
       "      values: 0.11178161948919296\n",
       "      values: 2.2974183559417725\n",
       "      values: 1.0529743432998657\n",
       "      values: -0.2236255556344986\n",
       "      values: 2.4761178493499756\n",
       "      values: 1.1947689056396484\n",
       "      values: -0.15201565623283386\n",
       "      values: 2.271319627761841\n",
       "      values: 1.0795698165893555\n",
       "      values: 0.327284574508667\n",
       "      values: 2.8894259929656982\n",
       "      values: 0.6109066605567932\n",
       "      values: 0.2849743962287903\n",
       "      values: 2.6647112369537354\n",
       "      values: 0.6062484979629517\n",
       "      values: 0.3490935266017914\n",
       "      values: 2.5786218643188477\n",
       "      values: 0.8128966093063354\n",
       "      values: 0.2227662205696106\n",
       "      values: 2.371161937713623\n",
       "      values: 0.826035737991333\n",
       "      values: 0.014105673879384995\n",
       "      values: 3.2641830444335938\n",
       "      values: 1.0448925495147705\n",
       "      values: -0.39244574308395386\n",
       "      values: 3.085787773132324\n",
       "      values: 0.9956533312797546\n",
       "      values: -0.45495617389678955\n",
       "      values: 2.849818706512451\n",
       "      values: 0.8818750381469727\n",
       "      values: -0.2107321321964264\n",
       "      values: 3.1987051963806152\n",
       "      values: 1.083021640777588\n",
       "      values: -0.48197197914123535\n",
       "      values: 2.9538044929504395\n",
       "      values: 0.6122993230819702\n",
       "      values: -0.3427966237068176\n",
       "      values: 2.8751144409179688\n",
       "      values: 0.4329643249511719\n",
       "      values: 0.0021073543466627598\n",
       "      values: 2.884822368621826\n",
       "      values: 0.6536279320716858\n",
       "      values: -0.08747120201587677\n",
       "      values: 2.9062986373901367\n",
       "      values: 0.44724705815315247\n",
       "    }\n",
       "  }\n",
       "}\n",
       "arrays {\n",
       "  key: \"system.box.vectors\"\n",
       "  value {\n",
       "    float_values {\n",
       "      values: 2.0\n",
       "      values: 0.0\n",
       "      values: 0.0\n",
       "      values: 0.0\n",
       "      values: 2.0\n",
       "      values: 0.0\n",
       "      values: 0.0\n",
       "      values: 0.0\n",
       "      values: 2.0\n",
       "    }\n",
       "  }\n",
       "}"
      ]
     },
     "execution_count": 7,
     "metadata": {},
     "output_type": "execute_result"
    }
   ],
   "source": [
    "# view the latest frame (may take a while!)\n",
    "client.latest_frame.raw"
   ]
  },
  {
   "cell_type": "code",
   "execution_count": 8,
   "metadata": {
    "pycharm": {
     "is_executing": false
    }
   },
   "outputs": [],
   "source": [
    "# convert the frame data to ASE\n",
    "atoms = frame_data_to_ase(client.first_frame, topology=True, positions=False)"
   ]
  },
  {
   "cell_type": "code",
   "execution_count": 9,
   "metadata": {
    "pycharm": {
     "is_executing": false
    }
   },
   "outputs": [],
   "source": [
    "# set the positions to match the frame data\n",
    "atoms.set_positions(np.array(client.latest_frame.particle_positions) * 10)"
   ]
  },
  {
   "cell_type": "code",
   "execution_count": 10,
   "metadata": {
    "pycharm": {
     "is_executing": false
    }
   },
   "outputs": [],
   "source": [
    "\n",
    "view(atoms)"
   ]
  },
  {
   "cell_type": "code",
   "execution_count": 27,
   "metadata": {
    "pycharm": {
     "is_executing": false
    }
   },
   "outputs": [],
   "source": [
    "imd.close()"
   ]
  },
  {
   "cell_type": "code",
   "execution_count": 11,
   "metadata": {
    "pycharm": {
     "is_executing": false
    }
   },
   "outputs": [],
   "source": []
  }
 ],
 "metadata": {
  "kernelspec": {
   "display_name": "Python 3",
   "language": "python",
   "name": "python3"
  },
  "language_info": {
   "codemirror_mode": {
    "name": "ipython",
    "version": 3
   },
   "file_extension": ".py",
   "mimetype": "text/x-python",
   "name": "python",
   "nbconvert_exporter": "python",
   "pygments_lexer": "ipython3",
   "version": "3.7.5"
  },
  "pycharm": {
   "stem_cell": {
    "cell_type": "raw",
    "metadata": {
     "collapsed": false
    },
    "source": []
   }
  }
 },
 "nbformat": 4,
 "nbformat_minor": 2
}
