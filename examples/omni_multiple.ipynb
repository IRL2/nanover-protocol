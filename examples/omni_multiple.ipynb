{
 "cells": [
  {
   "cell_type": "markdown",
   "metadata": {},
   "source": [
    "# Setting default visualisations for simulations in NanoVer's OmniRunner"
   ]
  },
  {
   "cell_type": "code",
   "execution_count": 9,
   "metadata": {
    "ExecuteTime": {
     "end_time": "2019-06-06T16:04:25.392952Z",
     "start_time": "2019-06-06T16:04:24.453212Z"
    },
    "extensions": {
     "jupyter_dashboards": {
      "version": 1,
      "views": {
       "grid_default": {
        "hidden": true
       },
       "report_default": {
        "hidden": true
       }
      }
     }
    }
   },
   "outputs": [],
   "source": [
    "from nanover.omni import OmniRunner\n",
    "from nanover.omni.openmm import OpenMMSimulation\n",
    "from nanover.app import RenderingSelection\n",
    "from nanover.app.client import SELECTION_ROOT_ID\n",
    "from nanover.mdanalysis import frame_data_to_mdanalysis"
   ]
  },
  {
   "cell_type": "code",
   "execution_count": 7,
   "metadata": {},
   "outputs": [],
   "source": [
    "def get_selection_indices(frame, query):\n",
    "    # use frame's topology to construct an mdanalysis universe\n",
    "    universe = frame_data_to_mdanalysis(frame)\n",
    "    # query mdanalysis universe for desired atoms\n",
    "    atoms = universe.select_atoms(query)\n",
    "    # convert to integer atom indices\n",
    "    indices = map(int, atoms.indices)\n",
    "    return indices"
   ]
  },
  {
   "cell_type": "code",
   "execution_count": 8,
   "metadata": {},
   "outputs": [],
   "source": [
    "def make_solvent_hiding_selection(omni_omm_simulation):\n",
    "    omni_omm_simulation.load()\n",
    "    frame = omni_omm_simulation.dump_frame()\n",
    "    solvent_indices = get_selection_indices(frame, \"resname HOH\")\n",
    "    \n",
    "    selection = RenderingSelection(\"solvent\", \"Solvent\")\n",
    "    selection.set_particles(solvent_indices)\n",
    "    selection.hide = True\n",
    "    selection.interaction_method = \"none\""
   ]
  },
  {
   "cell_type": "code",
   "execution_count": 10,
   "metadata": {
    "ExecuteTime": {
     "end_time": "2019-06-06T16:04:25.397984Z",
     "start_time": "2019-06-06T16:04:25.395015Z"
    },
    "extensions": {
     "jupyter_dashboards": {
      "version": 1,
      "views": {
       "grid_default": {
        "hidden": true
       },
       "report_default": {
        "hidden": true
       }
      }
     }
    }
   },
   "outputs": [],
   "source": [
    "nanotube_xml = \"openmm_files/nanotube.xml\"\n",
    "alanine_xml = \"openmm_files/17-ala.xml\"\n",
    "\n",
    "omni_nanotube = OpenMMSimulation.from_xml_path(nanotube_xml)\n",
    "omni_alanine = OpenMMSimulation.from_xml_path(alanine_xml)\n",
    "\n",
    "nanotube_selection = RenderingSelection(SELECTION_ROOT_ID)\n",
    "nanotube_selection.renderer = {\n",
    "    'render': 'ball and stick',\n",
    "    'color': {'type': 'particle index', 'gradient': [\"Orange\", \"Blue\"]}\n",
    "}\n",
    "\n",
    "alanine_selection = RenderingSelection(SELECTION_ROOT_ID)\n",
    "alanine_selection.renderer = {\n",
    "    'color': 'Gold',\n",
    "    'scale': 0.1,\n",
    "    'render': 'liquorice'\n",
    "}"
   ]
  },
  {
   "cell_type": "code",
   "execution_count": 11,
   "metadata": {
    "ExecuteTime": {
     "end_time": "2019-06-06T16:04:25.493146Z",
     "start_time": "2019-06-06T16:04:25.400442Z"
    },
    "extensions": {
     "jupyter_dashboards": {
      "version": 1,
      "views": {
       "grid_default": {
        "col": 8,
        "height": 12,
        "hidden": true,
        "row": 0,
        "width": 4
       },
       "report_default": {
        "hidden": false
       }
      }
     }
    }
   },
   "outputs": [
    {
     "ename": "AttributeError",
     "evalue": "'RenderingSelection' object has no attribute 'load'",
     "output_type": "error",
     "traceback": [
      "\u001b[1;31m---------------------------------------------------------------------------\u001b[0m",
      "\u001b[1;31mAttributeError\u001b[0m                            Traceback (most recent call last)",
      "Cell \u001b[1;32mIn[11], line 9\u001b[0m\n\u001b[0;32m      6\u001b[0m omni_runner \u001b[38;5;241m=\u001b[39m OmniRunner\u001b[38;5;241m.\u001b[39mwith_basic_server(port\u001b[38;5;241m=\u001b[39m\u001b[38;5;241m0\u001b[39m)\n\u001b[0;32m      8\u001b[0m omni_runner\u001b[38;5;241m.\u001b[39madd_simulation(omni_nanotube)\n\u001b[1;32m----> 9\u001b[0m omni_runner\u001b[38;5;241m.\u001b[39mset_simulation_selections(omni_nanotube, nanotube_selection, make_solvent_hiding_selection(nanotube_selection))\n\u001b[0;32m     11\u001b[0m omni_runner\u001b[38;5;241m.\u001b[39madd_simulation(omni_alanine)\n\u001b[0;32m     12\u001b[0m omni_runner\u001b[38;5;241m.\u001b[39mset_simulation_selections(omni_alanine, alanine_selection)\n",
      "Cell \u001b[1;32mIn[8], line 2\u001b[0m, in \u001b[0;36mmake_solvent_hiding_selection\u001b[1;34m(omni_omm_simulation)\u001b[0m\n\u001b[0;32m      1\u001b[0m \u001b[38;5;28;01mdef\u001b[39;00m \u001b[38;5;21mmake_solvent_hiding_selection\u001b[39m(omni_omm_simulation):\n\u001b[1;32m----> 2\u001b[0m     omni_omm_simulation\u001b[38;5;241m.\u001b[39mload()\n\u001b[0;32m      3\u001b[0m     frame \u001b[38;5;241m=\u001b[39m omni_omm_simulation\u001b[38;5;241m.\u001b[39mdump_frame()\n\u001b[0;32m      4\u001b[0m     solvent_indices \u001b[38;5;241m=\u001b[39m get_selection_indices(frame, \u001b[38;5;124m\"\u001b[39m\u001b[38;5;124mresname HOH\u001b[39m\u001b[38;5;124m\"\u001b[39m)\n",
      "\u001b[1;31mAttributeError\u001b[0m: 'RenderingSelection' object has no attribute 'load'"
     ]
    }
   ],
   "source": [
    "# This will just automatically close previous instances of the runner if you re-run this cell multiple times\n",
    "try:\n",
    "    omni_runner.close()\n",
    "except NameError:\n",
    "    pass\n",
    "omni_runner = OmniRunner.with_basic_server(port=0)\n",
    "\n",
    "omni_runner.add_simulation(omni_nanotube)\n",
    "omni_runner.set_simulation_selections(omni_nanotube, nanotube_selection, make_solvent_hiding_selection(nanotube_selection))\n",
    "\n",
    "omni_runner.add_simulation(omni_alanine)\n",
    "omni_runner.set_simulation_selections(omni_alanine, alanine_selection)\n",
    "\n",
    "omni_runner.next()\n",
    "\n",
    "print(f'{omni_runner.app_server.name}: serving at {omni_runner.app_server.address}:{omni_runner.app_server.port}')"
   ]
  },
  {
   "cell_type": "markdown",
   "metadata": {},
   "source": [
    "# Close the Server"
   ]
  },
  {
   "cell_type": "code",
   "execution_count": 4,
   "metadata": {},
   "outputs": [],
   "source": [
    "omni_runner.close()"
   ]
  }
 ],
 "metadata": {
  "extensions": {
   "jupyter_dashboards": {
    "activeView": "grid_default",
    "version": 1,
    "views": {
     "grid_default": {
      "cellMargin": 10,
      "defaultCellHeight": 20,
      "maxColumns": 12,
      "name": "grid",
      "type": "grid"
     },
     "report_default": {
      "name": "report",
      "type": "report"
     }
    }
   }
  },
  "hide_input": false,
  "kernelspec": {
   "display_name": "Python 3 (ipykernel)",
   "language": "python",
   "name": "python3"
  },
  "language_info": {
   "codemirror_mode": {
    "name": "ipython",
    "version": 3
   },
   "file_extension": ".py",
   "mimetype": "text/x-python",
   "name": "python",
   "nbconvert_exporter": "python",
   "pygments_lexer": "ipython3",
   "version": "3.12.0"
  },
  "pycharm": {
   "stem_cell": {
    "cell_type": "raw",
    "metadata": {
     "collapsed": false
    },
    "source": []
   }
  },
  "toc": {
   "nav_menu": {},
   "number_sections": true,
   "sideBar": true,
   "skip_h1_title": false,
   "toc_cell": false,
   "toc_position": {},
   "toc_section_display": "block",
   "toc_window_display": false
  }
 },
 "nbformat": 4,
 "nbformat_minor": 4
}
