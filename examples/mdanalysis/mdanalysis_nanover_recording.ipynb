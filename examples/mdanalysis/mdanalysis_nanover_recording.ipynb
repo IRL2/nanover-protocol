{
 "cells": [
  {
   "cell_type": "markdown",
   "metadata": {},
   "source": [
    "# Analysing NanoVer recordings using MDAnalysis"
   ]
  },
  {
   "cell_type": "markdown",
   "metadata": {},
   "source": [
    "The aim of this notebook is to demonstrate how recordings of simulations created using the recording feature in NanoVer can be analysed using MDAnalysis. We will use a pre-prepared recording of an OpenMM simulation of the methane + nanotube system examined in the [OpenMM nanotube tutorial](../openmm/openmm_nanotube.ipynb). If you're looking for a challenge, check out our [OpenMM polyalanine simulation notebook](../openmm/openmm_polyalanine.ipynb) first to learn how to record your own iMD-VR simulation to analyse!\n",
    "\n",
    "We will specifically examine a pre-prepared trajectory produced during a simulation of the methane + nanotube system, in which a user interacts with the carbon atom of the methane to pull the methane around in space, through the nanotube in one direction, and then back through the nanotube in the other direction. "
   ]
  },
  {
   "cell_type": "markdown",
   "metadata": {},
   "source": [
    "## Visualise the recording (Optional)"
   ]
  },
  {
   "cell_type": "markdown",
   "metadata": {},
   "source": [
    "If you don't want to visualise the recording, skip straight to the next section!\n",
    "\n",
    "You can visualise this trajectory in VR by passing the recorded simulation as a `PlaybackSimulation` to an `OmniRunner` and connecting to the server. Full instructions on how to do this can be found in the [OpenMM polyalanine simulation notebook](../openmm/openmm_polyalanine.ipynb). To serve the recorded simulation, run the cell below: "
   ]
  },
  {
   "cell_type": "code",
   "execution_count": null,
   "metadata": {},
   "outputs": [],
   "source": [
    "from nanover.omni import OmniRunner\n",
    "from nanover.omni.playback import PlaybackSimulation\n",
    "\n",
    "nanover_recording = PlaybackSimulation(name='nanover_recording',\n",
    "                                       traj='files/nanover_recording.traj',\n",
    "                                       state='files/nanover_recording.state')\n",
    "recording_runner = OmniRunner.with_basic_server(nanover_recording, name='nanotube-recording-server')\n",
    "recording_runner.next()"
   ]
  },
  {
   "cell_type": "markdown",
   "metadata": {},
   "source": [
    "Now you can connect to the recorded simulation in VR to visualise it. Note that as it is a recording of a simulation, you will not be able to interact with the system yourself.\n",
    "\n",
    "When you have finished watching the recording, run the following cell to close the server:"
   ]
  },
  {
   "cell_type": "code",
   "execution_count": null,
   "metadata": {},
   "outputs": [],
   "source": [
    "recording_runner.close()"
   ]
  },
  {
   "cell_type": "markdown",
   "metadata": {},
   "source": [
    "## Loading the recorded trajectory"
   ]
  },
  {
   "cell_type": "markdown",
   "metadata": {},
   "source": [
    "To analyse the trajectory using MDAnalysis, we first need to load it as an MDAnalysis universe. This can be achieved using functionality from the `nanover.mdanalysis` module. Let's import the relevant modules—while we're at it we'll import `numpy` and `matplotlib.pyplot`, as they'll come in handy for analysis."
   ]
  },
  {
   "cell_type": "code",
   "execution_count": null,
   "metadata": {},
   "outputs": [],
   "source": [
    "import MDAnalysis as mda\n",
    "\n",
    "from nanover.mdanalysis import NanoverParser, NanoverReader\n",
    "from nanover.mdanalysis.converter import mdanalysis_to_frame_data\n",
    "\n",
    "import matplotlib.pyplot as plt\n",
    "import numpy as np"
   ]
  },
  {
   "cell_type": "markdown",
   "metadata": {},
   "source": [
    "Now we need to convert our recorded trajectory to an MDAnalysis universe. This is achieved using the `NanoverReader` and `NanoverParser` classes."
   ]
  },
  {
   "cell_type": "code",
   "execution_count": null,
   "metadata": {},
   "outputs": [],
   "source": [
    "# Define the path to the recorded trajectory\n",
    "nanotube_trajectory = 'files/nanotube-recording.traj'\n",
    "\n",
    "# Create the MDAnalysis universe from the NanoVer recorded trajectory\n",
    "u = mda.Universe(\n",
    "    nanotube_trajectory,\n",
    "    format=NanoverReader,\n",
    "    topology_format=NanoverParser,\n",
    ")"
   ]
  },
  {
   "cell_type": "markdown",
   "metadata": {},
   "source": [
    "Great, we have our methane + nanotube universe! Now we can use the functionality of MDAnalysis to retrieve the data from the recording."
   ]
  },
  {
   "cell_type": "code",
   "execution_count": null,
   "metadata": {},
   "outputs": [],
   "source": [
    "# Create empty lists to append simulation data to\n",
    "\n",
    "frames = []                        # Frame indices\n",
    "simulation_times = []              # Time elapsed in simulation time\n",
    "times = []                         # Time elapsed in simulation time\n",
    "timestamps = []                    # Timestamps for synchronising trajectory and state data\n",
    "\n",
    "potential_energy = []              # Potential energy of the system\n",
    "kinetic_energy = []                # Kinetic energy of the system\n",
    "\n",
    "particle_positions = []            # Positions of the particles\n",
    "particle_velocities = []           # Velocities of the particles\n",
    "particle_forces_system = []        # Forces acting on the particles (excluding user forces)\n",
    "\n",
    "user_energy = []                   # Potential energy of the user interaction\n",
    "user_forces = []                   # iMD forces acting on the particles \n",
    "\n",
    "# Iterate through simulation frames and retrieve simulation data\n",
    "for timestep in u.trajectory:\n",
    "    #if timestep.frame != 0:\n",
    "        frames.append(timestep.frame)\n",
    "        times.append(timestep.time)\n",
    "        simulation_times.append(timestep.data['system.simulation.time'])\n",
    "        timestamps.append(timestep.data[\"elapsed\"])\n",
    "        \n",
    "        potential_energy.append(timestep.data[\"energy.potential\"])\n",
    "        kinetic_energy.append(timestep.data[\"energy.kinetic\"])\n",
    "        \n",
    "        particle_positions.append(u.atoms.positions)\n",
    "        particle_velocities.append(u.atoms.velocities)\n",
    "        particle_forces_system.append(u.atoms.forces)\n",
    "        \n",
    "        user_energy.append(timestep.data[\"energy.user.total\"])\n",
    "        user_forces.append(timestep.data[\"user_forces\"])"
   ]
  },
  {
   "cell_type": "markdown",
   "metadata": {},
   "source": [
    "# Next Steps\n",
    "\n",
    "* Build your own [VR trajectory viewer](./mdanalysis_trajectory.ipynb) with MDAnalysis and NanoVer\n",
    "* Dig into how [frames](../fundamentals/frame.ipynb) are constructed under the hood"
   ]
  },
  {
   "cell_type": "code",
   "execution_count": null,
   "metadata": {},
   "outputs": [],
   "source": []
  }
 ],
 "metadata": {
  "kernelspec": {
   "display_name": "Python 3 (ipykernel)",
   "language": "python",
   "name": "python3"
  },
  "language_info": {
   "codemirror_mode": {
    "name": "ipython",
    "version": 3
   },
   "file_extension": ".py",
   "mimetype": "text/x-python",
   "name": "python",
   "nbconvert_exporter": "python",
   "pygments_lexer": "ipython3",
   "version": "3.12.0"
  },
  "pycharm": {
   "stem_cell": {
    "cell_type": "raw",
    "metadata": {
     "collapsed": false
    },
    "source": []
   }
  }
 },
 "nbformat": 4,
 "nbformat_minor": 4
}
