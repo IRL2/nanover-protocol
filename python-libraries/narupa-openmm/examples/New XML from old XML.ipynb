{
 "cells": [
  {
   "cell_type": "markdown",
   "metadata": {},
   "source": [
    "# Convert the Neurominidase input file from Narupa 1 to narupa-openmm\n",
    "\n",
    "The current version of Narupa comes with a XML format to describe simulations. We want to be able to run the Tamiflu-Neuraminidase demo with the new `narupa.openmm` server, but the XML format is not supported. Here, we read the XML file distributed with Narupa-server and generate an XML file for narupa-openmm."
   ]
  },
  {
   "cell_type": "markdown",
   "metadata": {},
   "source": [
    "We read the file `old/Tamiflu_Neuraminidase.xml` and `old/AO_no_water.pdb`, and writes `neuraminidase.xml`."
   ]
  },
  {
   "cell_type": "code",
   "execution_count": 1,
   "metadata": {
    "ExecuteTime": {
     "end_time": "2019-04-08T17:20:44.966207Z",
     "start_time": "2019-04-08T17:20:44.962287Z"
    }
   },
   "outputs": [],
   "source": [
    "INPUT_PATH = 'old/Tamiflu_Neuraminidase.xml'\n",
    "PDB_PATH = 'old/AO_no_water.pdb'\n",
    "OUTPUT_PATH = 'neuraminidase.xml'"
   ]
  },
  {
   "cell_type": "code",
   "execution_count": 2,
   "metadata": {
    "ExecuteTime": {
     "end_time": "2019-04-08T17:20:45.230235Z",
     "start_time": "2019-04-08T17:20:44.968751Z"
    }
   },
   "outputs": [],
   "source": [
    "import simtk.openmm as mm\n",
    "from simtk.openmm import app\n",
    "from simtk.unit import picosecond, kelvin\n",
    "\n",
    "from narupa.openmm.serializer import serialize_simulation"
   ]
  },
  {
   "cell_type": "code",
   "execution_count": 3,
   "metadata": {
    "ExecuteTime": {
     "end_time": "2019-04-08T17:20:45.235880Z",
     "start_time": "2019-04-08T17:20:45.232533Z"
    }
   },
   "outputs": [],
   "source": [
    "import numpy as np"
   ]
  },
  {
   "cell_type": "code",
   "execution_count": 4,
   "metadata": {
    "ExecuteTime": {
     "end_time": "2019-04-08T17:20:45.245080Z",
     "start_time": "2019-04-08T17:20:45.238540Z"
    }
   },
   "outputs": [],
   "source": [
    "from xml.dom.minidom import parse"
   ]
  },
  {
   "cell_type": "code",
   "execution_count": 5,
   "metadata": {
    "ExecuteTime": {
     "end_time": "2019-04-08T17:20:47.811526Z",
     "start_time": "2019-04-08T17:20:45.246318Z"
    }
   },
   "outputs": [],
   "source": [
    "document = parse(INPUT_PATH)"
   ]
  },
  {
   "cell_type": "code",
   "execution_count": 6,
   "metadata": {
    "ExecuteTime": {
     "end_time": "2019-04-08T17:20:47.872364Z",
     "start_time": "2019-04-08T17:20:47.813138Z"
    }
   },
   "outputs": [],
   "source": [
    "box_node = document.getElementsByTagName('SimulationBoundary')[0]\n",
    "box_string = box_node.getAttribute('SimulationBox')\n",
    "box_diagonal = box_string.split(',')"
   ]
  },
  {
   "cell_type": "code",
   "execution_count": 7,
   "metadata": {
    "ExecuteTime": {
     "end_time": "2019-04-08T17:20:47.880303Z",
     "start_time": "2019-04-08T17:20:47.874130Z"
    }
   },
   "outputs": [],
   "source": [
    "new_box_node = document.createElement('PeriodicBoxVectors')\n",
    "for length, tag_name, attribute_name in zip(box_diagonal, 'ABC', 'xyz'):\n",
    "    node = document.createElement(tag_name)\n",
    "    for axis in 'xyz':\n",
    "        node.setAttribute(axis, '0')\n",
    "    node.setAttribute(attribute_name, length)\n",
    "    new_box_node.appendChild(node)"
   ]
  },
  {
   "cell_type": "code",
   "execution_count": 8,
   "metadata": {
    "ExecuteTime": {
     "end_time": "2019-04-08T17:20:47.888982Z",
     "start_time": "2019-04-08T17:20:47.883674Z"
    }
   },
   "outputs": [
    {
     "name": "stdout",
     "output_type": "stream",
     "text": [
      "<PeriodicBoxVectors>\n",
      "\t<A x=\"20\" y=\"0\" z=\"0\"/>\n",
      "\t<B x=\"0\" y=\"20\" z=\"0\"/>\n",
      "\t<C x=\"0\" y=\"0\" z=\"20\"/>\n",
      "</PeriodicBoxVectors>\n",
      "\n"
     ]
    }
   ],
   "source": [
    "print(new_box_node.toprettyxml())"
   ]
  },
  {
   "cell_type": "code",
   "execution_count": 9,
   "metadata": {
    "ExecuteTime": {
     "end_time": "2019-04-08T17:20:47.965951Z",
     "start_time": "2019-04-08T17:20:47.891291Z"
    }
   },
   "outputs": [],
   "source": [
    "system_node = document.getElementsByTagName('OpenMMForceField')[0]"
   ]
  },
  {
   "cell_type": "code",
   "execution_count": 10,
   "metadata": {
    "ExecuteTime": {
     "end_time": "2019-04-08T17:20:47.973275Z",
     "start_time": "2019-04-08T17:20:47.967820Z"
    }
   },
   "outputs": [],
   "source": [
    "system_node.tagName = 'System'"
   ]
  },
  {
   "cell_type": "code",
   "execution_count": 11,
   "metadata": {
    "ExecuteTime": {
     "end_time": "2019-04-08T17:20:47.989734Z",
     "start_time": "2019-04-08T17:20:47.975042Z"
    }
   },
   "outputs": [
    {
     "data": {
      "text/plain": [
       "<DOM Element: PeriodicBoxVectors at 0x7fd3081ed508>"
      ]
     },
     "execution_count": 11,
     "metadata": {},
     "output_type": "execute_result"
    }
   ],
   "source": [
    "system_node.setAttribute('openmmVersion', '7.2.2')\n",
    "system_node.setAttribute('type', 'System')\n",
    "system_node.setAttribute('version', '1')\n",
    "system_node.appendChild(new_box_node)"
   ]
  },
  {
   "cell_type": "code",
   "execution_count": 12,
   "metadata": {
    "ExecuteTime": {
     "end_time": "2019-04-08T17:20:48.724533Z",
     "start_time": "2019-04-08T17:20:47.991074Z"
    }
   },
   "outputs": [],
   "source": [
    "system_xml_string = system_node.toprettyxml()"
   ]
  },
  {
   "cell_type": "code",
   "execution_count": 13,
   "metadata": {
    "ExecuteTime": {
     "end_time": "2019-04-08T17:20:49.313939Z",
     "start_time": "2019-04-08T17:20:48.725728Z"
    }
   },
   "outputs": [],
   "source": [
    "system = mm.XmlSerializer.deserialize(system_xml_string)"
   ]
  },
  {
   "cell_type": "code",
   "execution_count": 14,
   "metadata": {
    "ExecuteTime": {
     "end_time": "2019-04-08T17:20:49.323819Z",
     "start_time": "2019-04-08T17:20:49.316552Z"
    }
   },
   "outputs": [],
   "source": [
    "thermostat = mm.AndersenThermostat(300 * kelvin, 0.01)"
   ]
  },
  {
   "cell_type": "code",
   "execution_count": 15,
   "metadata": {
    "ExecuteTime": {
     "end_time": "2019-04-08T17:20:49.335784Z",
     "start_time": "2019-04-08T17:20:49.326508Z"
    }
   },
   "outputs": [
    {
     "data": {
      "text/plain": [
       "6"
      ]
     },
     "execution_count": 15,
     "metadata": {},
     "output_type": "execute_result"
    }
   ],
   "source": [
    "system.addForce(thermostat)"
   ]
  },
  {
   "cell_type": "code",
   "execution_count": 16,
   "metadata": {
    "ExecuteTime": {
     "end_time": "2019-04-08T17:20:49.431672Z",
     "start_time": "2019-04-08T17:20:49.338944Z"
    }
   },
   "outputs": [
    {
     "name": "stdout",
     "output_type": "stream",
     "text": [
      "<Integrator TimeStep=\"0.0005\" Type=\"Verlet\"/>\n",
      "\n"
     ]
    }
   ],
   "source": [
    "integrator_node = document.getElementsByTagName('Integrator')[0]\n",
    "integrator_string = integrator_node.toprettyxml()\n",
    "print(integrator_string)"
   ]
  },
  {
   "cell_type": "code",
   "execution_count": 17,
   "metadata": {
    "ExecuteTime": {
     "end_time": "2019-04-08T17:20:49.436648Z",
     "start_time": "2019-04-08T17:20:49.433525Z"
    }
   },
   "outputs": [],
   "source": [
    "integrator = mm.VerletIntegrator(0.0005 * picosecond)"
   ]
  },
  {
   "cell_type": "code",
   "execution_count": 18,
   "metadata": {
    "ExecuteTime": {
     "end_time": "2019-04-08T17:20:49.703896Z",
     "start_time": "2019-04-08T17:20:49.438486Z"
    }
   },
   "outputs": [],
   "source": [
    "pdb = app.PDBFile(PDB_PATH)"
   ]
  },
  {
   "cell_type": "code",
   "execution_count": 19,
   "metadata": {
    "ExecuteTime": {
     "end_time": "2019-04-08T17:20:49.759279Z",
     "start_time": "2019-04-08T17:20:49.705080Z"
    }
   },
   "outputs": [],
   "source": [
    "simulation = app.Simulation(pdb.topology, system, integrator)"
   ]
  },
  {
   "cell_type": "code",
   "execution_count": 20,
   "metadata": {
    "ExecuteTime": {
     "end_time": "2019-04-08T17:20:49.784251Z",
     "start_time": "2019-04-08T17:20:49.761086Z"
    }
   },
   "outputs": [],
   "source": [
    "simulation.context.setPositions(pdb.positions)"
   ]
  },
  {
   "cell_type": "code",
   "execution_count": 21,
   "metadata": {
    "ExecuteTime": {
     "end_time": "2019-04-08T17:20:50.627236Z",
     "start_time": "2019-04-08T17:20:49.786106Z"
    }
   },
   "outputs": [],
   "source": [
    "simulation.step(10)"
   ]
  },
  {
   "cell_type": "code",
   "execution_count": 22,
   "metadata": {
    "ExecuteTime": {
     "end_time": "2019-04-08T17:20:54.294466Z",
     "start_time": "2019-04-08T17:20:50.628330Z"
    }
   },
   "outputs": [],
   "source": [
    "with open(OUTPUT_PATH, 'w') as outfile:\n",
    "    outfile.write(serialize_simulation(simulation))"
   ]
  },
  {
   "cell_type": "code",
   "execution_count": null,
   "metadata": {},
   "outputs": [],
   "source": []
  }
 ],
 "metadata": {
  "hide_input": false,
  "kernelspec": {
   "display_name": "Python 3 (omm)",
   "language": "python",
   "name": "omm"
  },
  "language_info": {
   "codemirror_mode": {
    "name": "ipython",
    "version": 3
   },
   "file_extension": ".py",
   "mimetype": "text/x-python",
   "name": "python",
   "nbconvert_exporter": "python",
   "pygments_lexer": "ipython3",
   "version": "3.7.2"
  },
  "toc": {
   "nav_menu": {},
   "number_sections": true,
   "sideBar": true,
   "skip_h1_title": false,
   "toc_cell": false,
   "toc_position": {},
   "toc_section_display": "block",
   "toc_window_display": false
  }
 },
 "nbformat": 4,
 "nbformat_minor": 2
}
