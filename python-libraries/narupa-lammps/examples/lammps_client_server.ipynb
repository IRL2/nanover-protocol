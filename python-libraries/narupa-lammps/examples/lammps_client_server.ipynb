{
 "cells": [
  {
   "cell_type": "code",
   "execution_count": 2,
   "metadata": {
    "pycharm": {
     "is_executing": false
    }
   },
   "outputs": [],
   "source": [
    "from narupa.app.client import NarupaClient\n",
    "#from openmm_calculator import OpenMMCalculator\n",
    "#from imd_openmm import openmm_ase_frame_server, start_imd\n",
    "from narupa.ase.converter import frame_data_to_ase\n",
    "\n",
    "import numpy as np\n",
    "import subprocess\n",
    "import nglview\n",
    "import shlex\n"
   ]
  },
  {
   "cell_type": "markdown",
   "metadata": {},
   "source": [
    "## Run the server"
   ]
  },
  {
   "cell_type": "markdown",
   "metadata": {},
   "source": [
    "Run the server. Here, we're using ASE, but it could be LAMMPS or OpenMM or anything else. "
   ]
  },
  {
   "cell_type": "code",
   "execution_count": 3,
   "metadata": {
    "pycharm": {
     "is_executing": false
    }
   },
   "outputs": [],
   "source": [
    "#imd = start_imd(input_xml)\n",
    "#process = subprocess.Popen(['./lmp < data.peptide'], shell=True, cwd='/home/simon/narupa-protocol/python-libraries/narupa-lammps/examples',stdout=subprocess.PIPE)\n",
    "#stdout = process.communicate()[0]\n",
    "#print('STDOUT:{}'.format(stdout))\n",
    "\n",
    "process = subprocess.Popen(['./lmp < data.peptide'], shell=True, cwd='/home/simon/narupa-protocol/python-libraries/narupa-lammps/examples',stdout=subprocess.PIPE)\n",
    "i=1\n",
    "while True:\n",
    "    output = process.stdout.readline()\n",
    "    #print(\"doing sothing\", output)\n",
    "    #print(output, len(output))\n",
    "    #print(process.poll())\n",
    "    if len(output) == 0 and process.poll() is not None:\n",
    "        break\n",
    "    if output:\n",
    "        print(output.strip())\n",
    "    i +=1\n",
    "    if i >10:\n",
    "        break\n",
    "rc = process.poll()\n"
   ]
  },
  {
   "cell_type": "markdown",
   "metadata": {},
   "source": [
    "Run dynamics in background thread"
   ]
  },
  {
   "cell_type": "markdown",
   "metadata": {},
   "source": [
    "## Start an IMD client"
   ]
  },
  {
   "cell_type": "code",
   "execution_count": 4,
   "metadata": {
    "pycharm": {
     "is_executing": false
    }
   },
   "outputs": [],
   "source": [
    "class CustomClient(NarupaClient):\n",
    "    def __init__(self, *args, **kwargs):\n",
    "        super().__init__(*args, **kwargs)\n",
    "        self._view = None\n",
    "    \n",
    "    @property\n",
    "    def view(self):\n",
    "        if self._view is None:\n",
    "            atoms = frame_data_to_ase(self.first_frame, topology=True, positions=False)\n",
    "            atoms.set_positions(np.array(self.latest_frame.particle_positions) * 10)\n",
    "            self._view = nglview.show_ase(atoms)\n",
    "        return self._view\n",
    "    \n",
    "    def _on_frame_received(self, frame_index, frame):\n",
    "        super()._on_frame_received(frame_index, frame)\n",
    "        self.view.set_coordinates({0: np.array(self.latest_frame.particle_positions) * 10})"
   ]
  },
  {
   "cell_type": "code",
   "execution_count": 62,
   "metadata": {
    "pycharm": {
     "is_executing": false
    }
   },
   "outputs": [],
   "source": [
    "client = CustomClient(address='localhost',trajectory_port=8080, imd_port=8081)\n"
   ]
  },
  {
   "cell_type": "code",
   "execution_count": 63,
   "metadata": {
    "pycharm": {
     "is_executing": false
    }
   },
   "outputs": [],
   "source": [
    "atoms = frame_data_to_ase(client.first_frame, topology=True, positions=False)\n",
    "atoms.set_positions(np.array(client.latest_frame.particle_positions) * 10)"
   ]
  },
  {
   "cell_type": "code",
   "execution_count": 64,
   "metadata": {
    "pycharm": {
     "is_executing": false
    }
   },
   "outputs": [
    {
     "data": {
      "application/vnd.jupyter.widget-view+json": {
       "model_id": "8d9d4ea3745c4963930ce49629939829",
       "version_major": 2,
       "version_minor": 0
      },
      "text/plain": [
       "NGLWidget()"
      ]
     },
     "metadata": {},
     "output_type": "display_data"
    }
   ],
   "source": [
    "client.view"
   ]
  },
  {
   "cell_type": "code",
   "execution_count": 65,
   "metadata": {
    "pycharm": {
     "is_executing": false
    }
   },
   "outputs": [],
   "source": [
    "from narupa.imd.particle_interaction import ParticleInteraction\n",
    "interaction = ParticleInteraction(\"5\", \"0\", position=(0,0,0), particles=(68), scale=0.015, interaction_type=\"spring\")\n",
    "interaction_id = client.start_interaction()\n",
    "client.update_interaction(interaction_id, interaction)"
   ]
  },
  {
   "cell_type": "code",
   "execution_count": 66,
   "metadata": {},
   "outputs": [
    {
     "data": {
      "text/plain": []
     },
     "execution_count": 66,
     "metadata": {},
     "output_type": "execute_result"
    }
   ],
   "source": [
    "client.stop_interaction(interaction_id)"
   ]
  },
  {
   "cell_type": "code",
   "execution_count": null,
   "metadata": {},
   "outputs": [],
   "source": []
  }
 ],
 "metadata": {
  "kernelspec": {
   "display_name": "Python 3",
   "language": "python",
   "name": "python3"
  },
  "language_info": {
   "codemirror_mode": {
    "name": "ipython",
    "version": 3
   },
   "file_extension": ".py",
   "mimetype": "text/x-python",
   "name": "python",
   "nbconvert_exporter": "python",
   "pygments_lexer": "ipython3",
   "version": "3.6.8"
  },
  "pycharm": {
   "stem_cell": {
    "cell_type": "raw",
    "metadata": {
     "collapsed": false
    },
    "source": []
   }
  }
 },
 "nbformat": 4,
 "nbformat_minor": 2
}
