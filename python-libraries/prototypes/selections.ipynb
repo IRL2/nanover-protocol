{
 "cells": [
  {
   "cell_type": "markdown",
   "metadata": {},
   "source": [
    "# Narupa Multiplayer Selections Test"
   ]
  },
  {
   "cell_type": "markdown",
   "metadata": {},
   "source": [
    "This notebook demonstrates how to create a selection via the multiplayer key value store."
   ]
  },
  {
   "cell_type": "code",
   "execution_count": 32,
   "metadata": {},
   "outputs": [],
   "source": [
    "from narupa.app.client import NarupaClient\n",
    "from narupa.mdanalysis import frame_data_to_mdanalysis\n",
    "from google.protobuf.struct_pb2 import Value, Struct\n",
    "from google.protobuf.json_format import MessageToDict"
   ]
  },
  {
   "cell_type": "markdown",
   "metadata": {},
   "source": [
    "## Start a Narupa IMD client"
   ]
  },
  {
   "cell_type": "code",
   "execution_count": 33,
   "metadata": {},
   "outputs": [
    {
     "name": "stdout",
     "output_type": "stream",
     "text": [
      "5988\n"
     ]
    }
   ],
   "source": [
    "client = NarupaClient()\n",
    "first_frame = client.wait_until_first_frame(check_interval=0.5, timeout=10)\n",
    "print(first_frame.particle_count)"
   ]
  },
  {
   "cell_type": "code",
   "execution_count": 34,
   "metadata": {},
   "outputs": [
    {
     "name": "stdout",
     "output_type": "stream",
     "text": [
      "1\n"
     ]
    }
   ],
   "source": [
    "client.join_multiplayer(\"selections test\")\n",
    "multiplayer_client = client._multiplayer_client\n",
    "player_id = multiplayer_client.player_id\n",
    "print(player_id)"
   ]
  },
  {
   "cell_type": "markdown",
   "metadata": {},
   "source": [
    "## Create and Modify Selection"
   ]
  },
  {
   "cell_type": "code",
   "execution_count": 35,
   "metadata": {},
   "outputs": [],
   "source": [
    "selection = client.create_selection(\"Selection\", [0, 1, 2, 3, 4])"
   ]
  },
  {
   "cell_type": "markdown",
   "metadata": {},
   "source": [
    "### Print the current selection(s)"
   ]
  },
  {
   "cell_type": "code",
   "execution_count": 10,
   "metadata": {},
   "outputs": [
    {
     "name": "stdout",
     "output_type": "stream",
     "text": [
      "Selection 1 {0.0, 1.0, 2.0, 3.0, 4.0}\n"
     ]
    }
   ],
   "source": [
    "for selection in client.selections:\n",
    "    print(selection.selection_name, selection.selected_particle_ids)"
   ]
  },
  {
   "cell_type": "markdown",
   "metadata": {},
   "source": [
    "### Add more indices to the selection"
   ]
  },
  {
   "cell_type": "code",
   "execution_count": null,
   "metadata": {},
   "outputs": [],
   "source": [
    "selection.add_particles([5, 4, 3])\n",
    "client.update_selection(selection)"
   ]
  },
  {
   "cell_type": "markdown",
   "metadata": {},
   "source": [
    "### Print the current selection(s)"
   ]
  },
  {
   "cell_type": "code",
   "execution_count": null,
   "metadata": {},
   "outputs": [],
   "source": [
    "for selection in client.selections:\n",
    "    print(selection.selection_name, selection.selected_particle_ids)"
   ]
  },
  {
   "cell_type": "markdown",
   "metadata": {},
   "source": [
    "### Replace the selection indices"
   ]
  },
  {
   "cell_type": "code",
   "execution_count": null,
   "metadata": {},
   "outputs": [],
   "source": [
    "selection.set_particles([5, 4, 3])\n",
    "client.update_selection(selection)"
   ]
  },
  {
   "cell_type": "markdown",
   "metadata": {},
   "source": [
    "### Print the current selection(s)"
   ]
  },
  {
   "cell_type": "code",
   "execution_count": null,
   "metadata": {
    "scrolled": true
   },
   "outputs": [],
   "source": [
    "for selection in client.selections:\n",
    "    print(selection.selection_name, selection.selected_particle_ids)"
   ]
  },
  {
   "cell_type": "markdown",
   "metadata": {},
   "source": [
    "### Clear the selection"
   ]
  },
  {
   "cell_type": "code",
   "execution_count": 29,
   "metadata": {},
   "outputs": [],
   "source": [
    "selection.clear_particles()\n",
    "client.update_selection(selection)"
   ]
  },
  {
   "cell_type": "markdown",
   "metadata": {},
   "source": [
    "### Print the current selection(s)"
   ]
  },
  {
   "cell_type": "code",
   "execution_count": null,
   "metadata": {
    "scrolled": true
   },
   "outputs": [],
   "source": [
    "for selection in client.selections:\n",
    "    print(selection.selection_name, selection.selected_particle_ids)"
   ]
  },
  {
   "cell_type": "markdown",
   "metadata": {},
   "source": [
    "### Set a selection from MDAnalysis"
   ]
  },
  {
   "cell_type": "code",
   "execution_count": 79,
   "metadata": {},
   "outputs": [],
   "source": [
    "def generate_mdanalysis_selection(selection: str):\n",
    "    universe = frame_data_to_mdanalysis(client.first_frame)\n",
    "    idx_array = universe.select_atoms(selection).indices\n",
    "    return map(int, idx_array)\n",
    "\n",
    "selection.set_particles(generate_mdanalysis_selection(\"bonded name O\"))\n",
    "client.update_selection(selection)"
   ]
  },
  {
   "cell_type": "markdown",
   "metadata": {},
   "source": [
    "### Set the rendering of a selection"
   ]
  },
  {
   "cell_type": "code",
   "execution_count": 77,
   "metadata": {},
   "outputs": [],
   "source": [
    "selection.rendering_renderer = {\n",
    "    'color': 'pink',\n",
    "    'render': 'ball and stick'\n",
    "}\n",
    "client.update_selection(selection)"
   ]
  },
  {
   "cell_type": "markdown",
   "metadata": {},
   "source": [
    "### Print the current selection(s)"
   ]
  },
  {
   "cell_type": "code",
   "execution_count": 59,
   "metadata": {
    "scrolled": false
   },
   "outputs": [
    {
     "name": "stdout",
     "output_type": "stream",
     "text": [
      "Selection 1 {1536.0, 1537.0, 1538.0, 1539.0, 1067.0, 1068.0, 1069.0, 1070.0, 1071.0, 1072.0, 1073.0, 1074.0, 1075.0, 1076.0, 1077.0, 569.0, 1082.0, 1081.0, 1084.0, 1085.0, 1086.0, 1087.0, 1088.0, 1089.0, 1090.0, 579.0, 1091.0, 581.0, 582.0, 1092.0, 584.0, 1093.0, 1094.0, 1095.0, 1096.0, 1097.0, 1098.0, 591.0, 592.0, 593.0, 594.0, 595.0, 596.0, 597.0, 598.0, 599.0, 2171.0, 2179.0, 2180.0, 2181.0, 2182.0, 2183.0, 2184.0, 2185.0, 2186.0, 2187.0, 2188.0, 1165.0, 1166.0, 1167.0, 1168.0, 2189.0, 2190.0, 1171.0, 2191.0, 3725.0, 3726.0, 3223.0, 3225.0, 3226.0, 3227.0, 3229.0, 3230.0, 3231.0, 3232.0, 3233.0, 3234.0, 3235.0, 2212.0, 3236.0, 3237.0, 2215.0, 2216.0, 2217.0, 2218.0, 2219.0, 2220.0, 2221.0, 3238.0, 2223.0, 2224.0, 2225.0, 2226.0, 2227.0, 2228.0, 2229.0, 2230.0, 2231.0, 2232.0, 2233.0, 2234.0, 3250.0, 3251.0, 3252.0, 2238.0, 3254.0, 3257.0, 3259.0, 3260.0, 3261.0, 3262.0, 3263.0, 3264.0, 3265.0, 3266.0, 3269.0, 3270.0, 3291.0, 3292.0, 3293.0, 3294.0, 3295.0, 3296.0, 2275.0, 2276.0, 2277.0, 2278.0, 2279.0, 3308.0, 3309.0, 3310.0, 3311.0, 3312.0, 3315.0, 3316.0, 3317.0, 3318.0, 3319.0, 3320.0, 3321.0, 3323.0, 3324.0, 3325.0, 3721.0, 3722.0, 4391.0, 4392.0, 4393.0, 4394.0, 3723.0, 4395.0, 4396.0, 4397.0, 4398.0, 3724.0, 4399.0, 4910.0, 4911.0, 4912.0, 4913.0, 4914.0, 4915.0, 4916.0, 4917.0, 4918.0, 3249.0, 3019.0, 4039.0, 3983.0, 3986.0, 3745.0, 4001.0, 4002.0, 3747.0, 3239.0, 3748.0, 3240.0, 3005.0, 3006.0, 3007.0, 3008.0, 3009.0, 3010.0, 3011.0, 3012.0, 3013.0, 3014.0, 3015.0, 3016.0, 4032.0, 3018.0, 4043.0, 4044.0, 4045.0, 4046.0, 4047.0, 4048.0, 3247.0, 3756.0, 4049.0, 4051.0, 3755.0, 3022.0, 4055.0, 3023.0, 3024.0, 3025.0, 3026.0, 3027.0, 3028.0, 3029.0, 3030.0, 2519.0, 2520.0, 2521.0, 2522.0, 2523.0, 2524.0, 2525.0, 2526.0, 2527.0, 2528.0, 1509.0, 3760.0, 1511.0, 1512.0, 4073.0, 1514.0, 1522.0, 1523.0, 1524.0, 1525.0, 1526.0, 1527.0, 1528.0, 1529.0, 1530.0, 1531.0, 1533.0, 1534.0, 1535.0}\n"
     ]
    }
   ],
   "source": [
    "for selection in client.selections:\n",
    "    print(selection.selection_name, selection.selected_particle_ids)"
   ]
  },
  {
   "cell_type": "markdown",
   "metadata": {},
   "source": [
    "# Selection Properties"
   ]
  },
  {
   "cell_type": "code",
   "execution_count": 70,
   "metadata": {},
   "outputs": [],
   "source": [
    "ligand.set_particles(generate_mdanalysis_selection(\"resname OSE\"))\n",
    "client.update_selection(ligand)"
   ]
  },
  {
   "cell_type": "code",
   "execution_count": null,
   "metadata": {},
   "outputs": [],
   "source": [
    "ligand = client.create_selection(\"Ligand\", [])\n"
   ]
  }
 ],
 "metadata": {
  "kernelspec": {
   "display_name": "Python 3",
   "language": "python",
   "name": "python3"
  },
  "language_info": {
   "codemirror_mode": {
    "name": "ipython",
    "version": 3
   },
   "file_extension": ".py",
   "mimetype": "text/x-python",
   "name": "python",
   "nbconvert_exporter": "python",
   "pygments_lexer": "ipython3",
   "version": "3.7.4"
  }
 },
 "nbformat": 4,
 "nbformat_minor": 2
}
