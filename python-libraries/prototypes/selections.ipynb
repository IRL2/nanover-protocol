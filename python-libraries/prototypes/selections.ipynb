{
 "cells": [
  {
   "cell_type": "markdown",
   "metadata": {},
   "source": [
    "# Narupa Multiplayer Selections Test"
   ]
  },
  {
   "cell_type": "markdown",
   "metadata": {},
   "source": [
    "This notebook demonstrates how to create a selection via the multiplayer key value store."
   ]
  },
  {
   "cell_type": "code",
   "execution_count": 1,
   "metadata": {},
   "outputs": [],
   "source": [
    "from narupa.app.client import NarupaClient\n",
    "from google.protobuf.struct_pb2 import Value, Struct"
   ]
  },
  {
   "cell_type": "markdown",
   "metadata": {},
   "source": [
    "## Start a Narupa IMD client"
   ]
  },
  {
   "cell_type": "code",
   "execution_count": 2,
   "metadata": {},
   "outputs": [
    {
     "name": "stdout",
     "output_type": "stream",
     "text": [
      "403\n"
     ]
    }
   ],
   "source": [
    "client = NarupaClient()\n",
    "first_frame = client.wait_until_first_frame()\n",
    "print(first_frame.particle_count)"
   ]
  },
  {
   "cell_type": "code",
   "execution_count": 3,
   "metadata": {},
   "outputs": [
    {
     "name": "stdout",
     "output_type": "stream",
     "text": [
      "1\n"
     ]
    }
   ],
   "source": [
    "client.join_multiplayer(\"selections test\")\n",
    "player_id = client._multiplayer_client.player_id\n",
    "print(player_id)"
   ]
  },
  {
   "cell_type": "code",
   "execution_count": 4,
   "metadata": {},
   "outputs": [],
   "source": [
    "selection_id = 0\n",
    "multiplayer_client = client._multiplayer_client"
   ]
  },
  {
   "cell_type": "code",
   "execution_count": 5,
   "metadata": {},
   "outputs": [],
   "source": [
    "struct = Struct()\n",
    "struct['id'] = selection_id\n",
    "struct['name'] = 'test selection'\n",
    "struct['selected'] = { 'particle_ids': [0, 1, 2, 3, 4] }\n",
    "struct['properties'] = { \n",
    "    'NARUPA.INTERACTION': { 'METHOD': 'GROUP', 'VELOCITY.REINIT': True },\n",
    "    'NARUPA.RENDERING': { 'RENDERER': 'NARUPA.RENDERER.LIQUORICE' },\n",
    "}\n",
    "selection = Value(struct_value=struct)"
   ]
  },
  {
   "cell_type": "code",
   "execution_count": 6,
   "metadata": {
    "scrolled": true
   },
   "outputs": [
    {
     "data": {
      "text/plain": [
       "True"
      ]
     },
     "execution_count": 6,
     "metadata": {},
     "output_type": "execute_result"
    }
   ],
   "source": [
    "multiplayer_client.try_set_resource_value(f'SELECTION.{player_id}.{selection_id}', selection)"
   ]
  },
  {
   "cell_type": "code",
   "execution_count": 7,
   "metadata": {},
   "outputs": [
    {
     "name": "stdout",
     "output_type": "stream",
     "text": [
      "SELECTION.1.0 struct_value {\n",
      "  fields {\n",
      "    key: \"id\"\n",
      "    value {\n",
      "      number_value: 0.0\n",
      "    }\n",
      "  }\n",
      "  fields {\n",
      "    key: \"name\"\n",
      "    value {\n",
      "      string_value: \"test selection\"\n",
      "    }\n",
      "  }\n",
      "  fields {\n",
      "    key: \"properties\"\n",
      "    value {\n",
      "      struct_value {\n",
      "        fields {\n",
      "          key: \"NARUPA.INTERACTION\"\n",
      "          value {\n",
      "            struct_value {\n",
      "              fields {\n",
      "                key: \"METHOD\"\n",
      "                value {\n",
      "                  string_value: \"GROUP\"\n",
      "                }\n",
      "              }\n",
      "              fields {\n",
      "                key: \"VELOCITY.REINIT\"\n",
      "                value {\n",
      "                  bool_value: true\n",
      "                }\n",
      "              }\n",
      "            }\n",
      "          }\n",
      "        }\n",
      "        fields {\n",
      "          key: \"NARUPA.RENDERING\"\n",
      "          value {\n",
      "            struct_value {\n",
      "              fields {\n",
      "                key: \"RENDERER\"\n",
      "                value {\n",
      "                  string_value: \"NARUPA.RENDERER.LIQUORICE\"\n",
      "                }\n",
      "              }\n",
      "            }\n",
      "          }\n",
      "        }\n",
      "      }\n",
      "    }\n",
      "  }\n",
      "  fields {\n",
      "    key: \"selected\"\n",
      "    value {\n",
      "      struct_value {\n",
      "        fields {\n",
      "          key: \"particle_ids\"\n",
      "          value {\n",
      "            list_value {\n",
      "              values {\n",
      "                number_value: 0.0\n",
      "              }\n",
      "              values {\n",
      "                number_value: 1.0\n",
      "              }\n",
      "              values {\n",
      "                number_value: 2.0\n",
      "              }\n",
      "              values {\n",
      "                number_value: 3.0\n",
      "              }\n",
      "              values {\n",
      "                number_value: 4.0\n",
      "              }\n",
      "            }\n",
      "          }\n",
      "        }\n",
      "      }\n",
      "    }\n",
      "  }\n",
      "}\n",
      "\n"
     ]
    }
   ],
   "source": [
    "for key, value in multiplayer_client.resources.items():\n",
    "    if key.startswith('SELECTION.'):\n",
    "        print(key, value)"
   ]
  }
 ],
 "metadata": {
  "kernelspec": {
   "display_name": "Python 3",
   "language": "python",
   "name": "python3"
  },
  "language_info": {
   "codemirror_mode": {
    "name": "ipython",
    "version": 3
   },
   "file_extension": ".py",
   "mimetype": "text/x-python",
   "name": "python",
   "nbconvert_exporter": "python",
   "pygments_lexer": "ipython3",
   "version": "3.7.3"
  }
 },
 "nbformat": 4,
 "nbformat_minor": 2
}
