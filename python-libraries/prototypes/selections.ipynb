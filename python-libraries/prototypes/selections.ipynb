{
 "cells": [
  {
   "cell_type": "markdown",
   "metadata": {},
   "source": [
    "# Narupa Multiplayer Selections Test"
   ]
  },
  {
   "cell_type": "markdown",
   "metadata": {},
   "source": [
    "This notebook demonstrates how to create a selection via the multiplayer key value store."
   ]
  },
  {
   "cell_type": "code",
   "execution_count": 21,
   "metadata": {},
   "outputs": [],
   "source": [
    "from narupa.app.client import NarupaClient\n",
    "from narupa.mdanalysis import frame_data_to_mdanalysis\n",
    "from google.protobuf.struct_pb2 import Value, Struct\n",
    "from google.protobuf.json_format import MessageToDict"
   ]
  },
  {
   "cell_type": "markdown",
   "metadata": {},
   "source": [
    "## Start a Narupa IMD client"
   ]
  },
  {
   "cell_type": "code",
   "execution_count": 22,
   "metadata": {},
   "outputs": [
    {
     "name": "stdout",
     "output_type": "stream",
     "text": [
      "5988\n"
     ]
    }
   ],
   "source": [
    "client = NarupaClient()\n",
    "first_frame = client.wait_until_first_frame(check_interval=0.5, timeout=10)\n",
    "print(first_frame.particle_count)"
   ]
  },
  {
   "cell_type": "code",
   "execution_count": 23,
   "metadata": {},
   "outputs": [
    {
     "name": "stdout",
     "output_type": "stream",
     "text": [
      "3\n"
     ]
    }
   ],
   "source": [
    "client.join_multiplayer(\"selections test\")\n",
    "multiplayer_client = client._multiplayer_client\n",
    "player_id = multiplayer_client.player_id\n",
    "print(player_id)"
   ]
  },
  {
   "cell_type": "markdown",
   "metadata": {},
   "source": [
    "## Create and Modify Selection"
   ]
  },
  {
   "cell_type": "code",
   "execution_count": 33,
   "metadata": {},
   "outputs": [],
   "source": [
    "selection = client.create_selection(\"Selection\", [0, 1, 2, 3, 4])"
   ]
  },
  {
   "cell_type": "markdown",
   "metadata": {},
   "source": [
    "### Delete all selections"
   ]
  },
  {
   "cell_type": "code",
   "execution_count": 34,
   "metadata": {},
   "outputs": [],
   "source": [
    "client.clear_selections()"
   ]
  },
  {
   "cell_type": "markdown",
   "metadata": {},
   "source": [
    "### Add more indices to the selection"
   ]
  },
  {
   "cell_type": "code",
   "execution_count": 10,
   "metadata": {},
   "outputs": [],
   "source": [
    "with selection.modify():\n",
    "    selection.add_particles([5, 4, 3])"
   ]
  },
  {
   "cell_type": "markdown",
   "metadata": {},
   "source": [
    "### Print the current selection(s)"
   ]
  },
  {
   "cell_type": "code",
   "execution_count": 27,
   "metadata": {},
   "outputs": [],
   "source": [
    "for selection in client.selections:\n",
    "    print(selection.selection_name, selection.selected_particle_ids)"
   ]
  },
  {
   "cell_type": "markdown",
   "metadata": {},
   "source": [
    "### Replace the selection indices"
   ]
  },
  {
   "cell_type": "code",
   "execution_count": 12,
   "metadata": {},
   "outputs": [],
   "source": [
    "with selection.modify():\n",
    "    selection.set_particles([1,2,3])"
   ]
  },
  {
   "cell_type": "markdown",
   "metadata": {},
   "source": [
    "### Clear the selection"
   ]
  },
  {
   "cell_type": "code",
   "execution_count": 13,
   "metadata": {},
   "outputs": [],
   "source": [
    "with selection.modify():\n",
    "    selection.clear_particles()"
   ]
  },
  {
   "cell_type": "markdown",
   "metadata": {},
   "source": [
    "### Set a selection from MDAnalysis"
   ]
  },
  {
   "cell_type": "code",
   "execution_count": 15,
   "metadata": {},
   "outputs": [],
   "source": [
    "def generate_mdanalysis_selection(selection: str):\n",
    "    universe = frame_data_to_mdanalysis(client.first_frame)\n",
    "    idx_array = universe.select_atoms(selection).indices\n",
    "    return map(int, idx_array)\n",
    "\n",
    "with selection.modify():\n",
    "    selection.set_particles(generate_mdanalysis_selection(\"protein\"))"
   ]
  },
  {
   "cell_type": "markdown",
   "metadata": {},
   "source": [
    "### Set the rendering of a selection"
   ]
  },
  {
   "cell_type": "code",
   "execution_count": 17,
   "metadata": {},
   "outputs": [],
   "source": [
    "with selection.modify():\n",
    "    selection.renderer = {\n",
    "        'color': 'CornflowerBlue',\n",
    "        'render': 'goodsell'\n",
    "    }"
   ]
  },
  {
   "cell_type": "markdown",
   "metadata": {},
   "source": [
    "# Selection Properties"
   ]
  },
  {
   "cell_type": "code",
   "execution_count": null,
   "metadata": {},
   "outputs": [],
   "source": [
    "ligand.set_particles(generate_mdanalysis_selection(\"resname OSE\"))\n",
    "client.update_selection(ligand)"
   ]
  },
  {
   "cell_type": "code",
   "execution_count": null,
   "metadata": {},
   "outputs": [],
   "source": [
    "ligand = client.create_selection(\"Ligand\", [])"
   ]
  },
  {
   "cell_type": "code",
   "execution_count": 117,
   "metadata": {},
   "outputs": [],
   "source": [
    "protein = client.create_selection(\"Protein\", [])\n",
    "with protein.modify():\n",
    "    protein.set_particles(generate_mdanalysis_selection(\"protein\"))\n",
    "    protein.renderer = {\n",
    "        'color': 'CornflowerBlue',\n",
    "        'render': 'goodsell'\n",
    "    }\n",
    "    \n",
    "active_site = client.create_selection(\"Active Site\", [])\n",
    "with active_site.modify():\n",
    "    active_site.set_particles(generate_mdanalysis_selection(\"around 6.5 resname OSE\"))\n",
    "    active_site.renderer = {\n",
    "        'color': 'Aqua',\n",
    "        'render': 'ball and stick'\n",
    "    }\n",
    "    \n",
    "ligand = client.create_selection(\"Ligand\", [])\n",
    "with ligand.modify():\n",
    "    ligand.set_particles(generate_mdanalysis_selection(\"resname OSE\"))\n",
    "    ligand.renderer = {\n",
    "        'color': 'IndianRed',\n",
    "        'render': 'cycles'\n",
    "    }"
   ]
  },
  {
   "cell_type": "code",
   "execution_count": 116,
   "metadata": {},
   "outputs": [],
   "source": [
    "client.clear_selections()"
   ]
  },
  {
   "cell_type": "code",
   "execution_count": 105,
   "metadata": {},
   "outputs": [],
   "source": [
    "ligand.remove()"
   ]
  },
  {
   "cell_type": "code",
   "execution_count": null,
   "metadata": {},
   "outputs": [],
   "source": []
  }
 ],
 "metadata": {
  "kernelspec": {
   "display_name": "Python 3",
   "language": "python",
   "name": "python3"
  },
  "language_info": {
   "codemirror_mode": {
    "name": "ipython",
    "version": 3
   },
   "file_extension": ".py",
   "mimetype": "text/x-python",
   "name": "python",
   "nbconvert_exporter": "python",
   "pygments_lexer": "ipython3",
   "version": "3.7.4"
  }
 },
 "nbformat": 4,
 "nbformat_minor": 2
}
