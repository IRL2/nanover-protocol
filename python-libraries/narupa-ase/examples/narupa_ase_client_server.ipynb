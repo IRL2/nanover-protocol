{
 "cells": [
  {
   "cell_type": "markdown",
   "metadata": {},
   "source": [
    "# Narupa ASE Client / Server Example"
   ]
  },
  {
   "cell_type": "markdown",
   "metadata": {},
   "source": [
    "This notebook demonstrates an example of running a Narupa server, connecting to it from a client, looking at the data being produced and visualising it."
   ]
  },
  {
   "cell_type": "code",
   "execution_count": 13,
   "metadata": {},
   "outputs": [],
   "source": [
    "from narupa.app.client import NarupaImdClient\n",
    "from narupa.ase.openmm import OpenMMIMDRunner\n",
    "from narupa.ase.converter import frame_data_to_ase\n",
    "import numpy as np\n",
    "from ase.visualize import view"
   ]
  },
  {
   "cell_type": "markdown",
   "metadata": {},
   "source": [
    "## Run the server"
   ]
  },
  {
   "cell_type": "markdown",
   "metadata": {},
   "source": [
    "Run the server. Here, we're using ASE, but it could be LAMMPS or OpenMM or anything else. "
   ]
  },
  {
   "cell_type": "code",
   "execution_count": 14,
   "metadata": {},
   "outputs": [],
   "source": [
    "# set up an openmm simulation, or read from file. \n",
    "input_xml = \"helicene.xml\""
   ]
  },
  {
   "cell_type": "code",
   "execution_count": 15,
   "metadata": {},
   "outputs": [],
   "source": [
    "imd = OpenMMIMDRunner.from_xml(input_xml)"
   ]
  },
  {
   "cell_type": "markdown",
   "metadata": {},
   "source": [
    "Run dynamics in background thread"
   ]
  },
  {
   "cell_type": "code",
   "execution_count": 16,
   "metadata": {},
   "outputs": [],
   "source": [
    "imd.run()"
   ]
  },
  {
   "cell_type": "code",
   "execution_count": 17,
   "metadata": {},
   "outputs": [
    {
     "data": {
      "text/plain": [
       "29.762765209046112"
      ]
     },
     "execution_count": 17,
     "metadata": {},
     "output_type": "execute_result"
    }
   ],
   "source": [
    "# print the time to check dynamics is running\n",
    "imd.dynamics.get_time()"
   ]
  },
  {
   "cell_type": "markdown",
   "metadata": {},
   "source": [
    "## Start an IMD client"
   ]
  },
  {
   "cell_type": "code",
   "execution_count": 18,
   "metadata": {},
   "outputs": [],
   "source": [
    "client = NarupaImdClient()"
   ]
  },
  {
   "cell_type": "markdown",
   "metadata": {},
   "source": [
    "Now we look at some of the frames being produced by Narupa, convert from back to ASE atoms, and visualise them. See the interactive_client notebook for more advanced visualisation."
   ]
  },
  {
   "cell_type": "code",
   "execution_count": 19,
   "metadata": {
    "scrolled": true
   },
   "outputs": [
    {
     "data": {
      "text/plain": [
       "values {\n",
       "  key: \"energy.kinetic\"\n",
       "  value {\n",
       "    number_value: 295.46206274072574\n",
       "  }\n",
       "}\n",
       "arrays {\n",
       "  key: \"particle.positions\"\n",
       "  value {\n",
       "    float_values {\n",
       "      values: 0.06482110917568207\n",
       "      values: 2.7379848957061768\n",
       "      values: 0.7458844184875488\n",
       "      values: 0.17984303832054138\n",
       "      values: 2.785292148590088\n",
       "      values: 0.5128671526908875\n",
       "      values: 0.00803289096802473\n",
       "      values: 2.8172216415405273\n",
       "      values: 0.6572420597076416\n",
       "      values: 0.19430656731128693\n",
       "      values: 2.7223877906799316\n",
       "      values: 0.7382306456565857\n",
       "      values: 0.2401447296142578\n",
       "      values: 2.7140395641326904\n",
       "      values: 0.6087948679924011\n",
       "      values: 0.06834657490253448\n",
       "      values: 2.856907606124878\n",
       "      values: 0.5434561967849731\n",
       "      values: -0.013559852726757526\n",
       "      values: 2.677135705947876\n",
       "      values: 0.8331139087677002\n",
       "      values: -0.1151302233338356\n",
       "      values: 2.6164214611053467\n",
       "      values: 1.0653126239776611\n",
       "      values: 0.020958971232175827\n",
       "      values: 2.5622012615203857\n",
       "      values: 0.891443133354187\n",
       "      values: -0.1155221238732338\n",
       "      values: 2.74849271774292\n",
       "      values: 0.8824440240859985\n",
       "      values: -0.17302262783050537\n",
       "      values: 2.710451126098633\n",
       "      values: 0.9956310391426086\n",
       "      values: -0.016547393053770065\n",
       "      values: 2.5368576049804688\n",
       "      values: 1.0189241170883179\n",
       "      values: -0.18445506691932678\n",
       "      values: 2.8069651126861572\n",
       "      values: 0.7813650965690613\n",
       "      values: -0.12121657282114029\n",
       "      values: 2.833465576171875\n",
       "      values: 0.6666399240493774\n",
       "      values: 0.008453025482594967\n",
       "      values: 2.4543797969818115\n",
       "      values: 0.8150326013565063\n",
       "      values: 0.09378240257501602\n",
       "      values: 2.269583225250244\n",
       "      values: 0.6533927321434021\n",
       "      values: -0.015053541399538517\n",
       "      values: 2.4674487113952637\n",
       "      values: 0.6834951639175415\n",
       "      values: 0.048804037272930145\n",
       "      values: 2.3370919227600098\n",
       "      values: 0.8642531633377075\n",
       "      values: 0.09932969510555267\n",
       "      values: 2.245236873626709\n",
       "      values: 0.7829741835594177\n",
       "      values: 0.0409090593457222\n",
       "      values: 2.374297857284546\n",
       "      values: 0.6020445227622986\n",
       "      values: 0.06102411448955536\n",
       "      values: 2.3211143016815186\n",
       "      values: 0.9948235154151917\n",
       "      values: 0.00794166512787342\n",
       "      values: 2.415405511856079\n",
       "      values: 1.072538137435913\n",
       "      values: 0.250251829624176\n",
       "      values: 2.6546478271484375\n",
       "      values: 0.8386383652687073\n",
       "      values: 0.3318840563297272\n",
       "      values: 2.4772651195526123\n",
       "      values: 1.0141513347625732\n",
       "      values: 0.3305043578147888\n",
       "      values: 2.5550901889801025\n",
       "      values: 0.8042104840278625\n",
       "      values: 0.21743559837341309\n",
       "      values: 2.6714253425598145\n",
       "      values: 0.9654582142829895\n",
       "      values: 0.2693786919116974\n",
       "      values: 2.585806369781494\n",
       "      values: 1.0584028959274292\n",
       "      values: 0.32613515853881836\n",
       "      values: 2.444336175918579\n",
       "      values: 0.8825469613075256\n",
       "      values: -0.13664467632770538\n",
       "      values: 2.5077786445617676\n",
       "      values: 0.6464253067970276\n",
       "      values: -0.29432687163352966\n",
       "      values: 2.7057554721832275\n",
       "      values: 0.5701466202735901\n",
       "      values: -0.2433578372001648\n",
       "      values: 2.5437204837799072\n",
       "      values: 0.7226281762123108\n",
       "      values: -0.14657139778137207\n",
       "      values: 2.5348846912384033\n",
       "      values: 0.5171613693237305\n",
       "      values: -0.19416192173957825\n",
       "      values: 2.6582250595092773\n",
       "      values: 0.49519652128219604\n",
       "      values: -0.3143353760242462\n",
       "      values: 2.649341583251953\n",
       "      values: 0.6900069117546082\n",
       "      values: 0.37611085176467896\n",
       "      values: 2.54412579536438\n",
       "      values: 0.6781225800514221\n",
       "      values: 0.32035312056541443\n",
       "      values: 2.611915111541748\n",
       "      values: 0.5788916945457458\n",
       "      values: 0.019736208021640778\n",
       "      values: 2.3903064727783203\n",
       "      values: 0.47163113951683044\n",
       "      values: -0.07430834323167801\n",
       "      values: 2.4674949645996094\n",
       "      values: 0.4222866892814636\n",
       "      values: 0.22336940467357635\n",
       "      values: 2.595513343811035\n",
       "      values: 1.1828898191452026\n",
       "      values: 0.13492023944854736\n",
       "      values: 2.687798023223877\n",
       "      values: 1.2185231447219849\n",
       "      values: 0.1392594426870346\n",
       "      values: 2.77375864982605\n",
       "      values: 1.0012778043746948\n",
       "      values: 0.08458233624696732\n",
       "      values: 2.7628843784332275\n",
       "      values: 1.121975064277649\n",
       "      values: -0.01815021224319935\n",
       "      values: 2.8342299461364746\n",
       "      values: 1.1481051445007324\n",
       "      values: -0.05942712724208832\n",
       "      values: 2.9267895221710205\n",
       "      values: 1.0628160238265991\n",
       "      values: 0.009279646910727024\n",
       "      values: 2.9540977478027344\n",
       "      values: 0.9521182179450989\n",
       "      values: 0.12134703248739243\n",
       "      values: 2.887817859649658\n",
       "      values: 0.9387611150741577\n",
       "      values: -0.0012165199732407928\n",
       "      values: 3.0791945457458496\n",
       "      values: 0.9038519859313965\n",
       "      values: 0.10301850736141205\n",
       "      values: 3.1416232585906982\n",
       "      values: 0.853920578956604\n",
       "      values: 0.21144835650920868\n",
       "      values: 2.944342851638794\n",
       "      values: 0.8660364747047424\n",
       "      values: 0.21085065603256226\n",
       "      values: 3.0728254318237305\n",
       "      values: 0.8346918821334839\n",
       "      values: -0.00021103369363117963\n",
       "      values: 2.881037473678589\n",
       "      values: 0.45507141947746277\n",
       "      values: 0.22215022146701813\n",
       "      values: 2.791060209274292\n",
       "      values: 0.41117843985557556\n",
       "      values: -0.22043448686599731\n",
       "      values: 2.7876226902008057\n",
       "      values: 1.0508105754852295\n",
       "      values: -0.16786682605743408\n",
       "      values: 2.5722901821136475\n",
       "      values: 1.15567946434021\n",
       "      values: -0.2924190163612366\n",
       "      values: 2.8330790996551514\n",
       "      values: 0.7983595728874207\n",
       "      values: -0.17454774677753448\n",
       "      values: 2.8766543865203857\n",
       "      values: 0.5817394852638245\n",
       "      values: 0.13296936452388763\n",
       "      values: 2.150197744369507\n",
       "      values: 0.8221560716629028\n",
       "      values: 0.10996470600366592\n",
       "      values: 2.19118332862854\n",
       "      values: 0.5788204073905945\n",
       "      values: 0.1098974421620369\n",
       "      values: 2.2300398349761963\n",
       "      values: 1.0308934450149536\n",
       "      values: -0.02968597039580345\n",
       "      values: 2.404900550842285\n",
       "      values: 1.1723531484603882\n",
       "      values: 0.3567388951778412\n",
       "      values: 2.345885753631592\n",
       "      values: 0.8412834405899048\n",
       "      values: 0.36480727791786194\n",
       "      values: 2.4047746658325195\n",
       "      values: 1.0912045240402222\n",
       "      values: -0.2606712877750397\n",
       "      values: 2.491013765335083\n",
       "      values: 0.8144056797027588\n",
       "      values: -0.11584039777517319\n",
       "      values: 2.7305634021759033\n",
       "      values: 0.45776650309562683\n",
       "      values: -0.3454711139202118\n",
       "      values: 2.7176363468170166\n",
       "      values: 0.7713236808776855\n",
       "      values: -0.31954407691955566\n",
       "      values: 2.8161909580230713\n",
       "      values: 0.559822678565979\n",
       "      values: 0.43696892261505127\n",
       "      values: 2.4563796520233154\n",
       "      values: 0.6558567881584167\n",
       "      values: 0.31727856397628784\n",
       "      values: 2.5670011043548584\n",
       "      values: 0.4778458774089813\n",
       "      values: 0.06817071884870529\n",
       "      values: 2.3287947177886963\n",
       "      values: 0.4006694555282593\n",
       "      values: -0.07768083363771439\n",
       "      values: 2.485502004623413\n",
       "      values: 0.313975065946579\n",
       "      values: 0.2856801152229309\n",
       "      values: 2.5502402782440186\n",
       "      values: 1.26708984375\n",
       "      values: -0.08391278237104416\n",
       "      values: 2.7992310523986816\n",
       "      values: 1.2283563613891602\n",
       "      values: -0.16660282015800476\n",
       "      values: 2.9530670642852783\n",
       "      values: 1.0653482675552368\n",
       "      values: 0.11785479635000229\n",
       "      values: 2.7223870754241943\n",
       "      values: 1.3194040060043335\n",
       "      values: -0.10520539432764053\n",
       "      values: 3.105695962905884\n",
       "      values: 0.8758933544158936\n",
       "      values: 0.07554882019758224\n",
       "      values: 3.2286312580108643\n",
       "      values: 0.7874520421028137\n",
       "      values: 0.29016244411468506\n",
       "      values: 2.884605646133423\n",
       "      values: 0.8199424147605896\n",
       "      values: 0.2896118760108948\n",
       "      values: 3.112759828567505\n",
       "      values: 0.7680360674858093\n",
       "    }\n",
       "  }\n",
       "}\n",
       "arrays {\n",
       "  key: \"system.box.vectors\"\n",
       "  value {\n",
       "    float_values {\n",
       "      values: 2.0\n",
       "      values: 0.0\n",
       "      values: 0.0\n",
       "      values: 0.0\n",
       "      values: 2.0\n",
       "      values: 0.0\n",
       "      values: 0.0\n",
       "      values: 0.0\n",
       "      values: 2.0\n",
       "    }\n",
       "  }\n",
       "}"
      ]
     },
     "execution_count": 19,
     "metadata": {},
     "output_type": "execute_result"
    }
   ],
   "source": [
    "# view the latest frame (may take a while!)\n",
    "client.latest_frame.raw"
   ]
  },
  {
   "cell_type": "code",
   "execution_count": 20,
   "metadata": {},
   "outputs": [],
   "source": [
    "# convert the frame data to ASE\n",
    "atoms = frame_data_to_ase(client.first_frame, topology=True, positions=False)"
   ]
  },
  {
   "cell_type": "code",
   "execution_count": 21,
   "metadata": {},
   "outputs": [],
   "source": [
    "# set the positions to match the frame data\n",
    "atoms.set_positions(np.array(client.latest_frame.particle_positions) * 10)"
   ]
  },
  {
   "cell_type": "code",
   "execution_count": 22,
   "metadata": {},
   "outputs": [],
   "source": [
    "\n",
    "view(atoms)"
   ]
  },
  {
   "cell_type": "code",
   "execution_count": 23,
   "metadata": {},
   "outputs": [],
   "source": [
    "imd.close()"
   ]
  },
  {
   "cell_type": "code",
   "execution_count": null,
   "metadata": {},
   "outputs": [],
   "source": []
  }
 ],
 "metadata": {
  "kernelspec": {
   "display_name": "Python 3",
   "language": "python",
   "name": "python3"
  },
  "language_info": {
   "codemirror_mode": {
    "name": "ipython",
    "version": 3
   },
   "file_extension": ".py",
   "mimetype": "text/x-python",
   "name": "python",
   "nbconvert_exporter": "python",
   "pygments_lexer": "ipython3",
   "version": "3.7.5"
  }
 },
 "nbformat": 4,
 "nbformat_minor": 2
}
