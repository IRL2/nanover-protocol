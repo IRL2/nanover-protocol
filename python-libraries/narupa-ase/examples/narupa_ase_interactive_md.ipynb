{
 "cells": [
  {
   "cell_type": "markdown",
   "metadata": {},
   "source": [
    "# Narupa ASE with Interactive Molecular Dynamics"
   ]
  },
  {
   "cell_type": "markdown",
   "metadata": {},
   "source": [
    "This notebook runs an OpenMM simulation of a nanotube with ASE, then uses the client to apply a force to it and NGLViewer to visualise it"
   ]
  },
  {
   "cell_type": "code",
   "execution_count": 1,
   "metadata": {
    "ExecuteTime": {
     "end_time": "2019-06-06T16:04:25.392952Z",
     "start_time": "2019-06-06T16:04:24.453212Z"
    },
    "extensions": {
     "jupyter_dashboards": {
      "version": 1,
      "views": {
       "grid_default": {
        "hidden": true
       },
       "report_default": {
        "hidden": true
       }
      }
     }
    }
   },
   "outputs": [
    {
     "data": {
      "application/vnd.jupyter.widget-view+json": {
       "model_id": "6231caa4f3024833812e387d81f124fc",
       "version_major": 2,
       "version_minor": 0
      },
      "text/plain": [
       "_ColormakerRegistry()"
      ]
     },
     "metadata": {},
     "output_type": "display_data"
    }
   ],
   "source": [
    "from narupa.app.client import NarupaImdClient\n",
    "from narupa.ase.openmm import OpenMMIMDRunner\n",
    "from narupa.ase.converter import frame_data_to_ase\n",
    "from narupa.imd.particle_interaction import ParticleInteraction\n",
    "import numpy as np\n",
    "import nglview\n",
    "import MDAnalysis as mda\n",
    "import matplotlib.pyplot as plt\n",
    "from queue import Queue"
   ]
  },
  {
   "cell_type": "markdown",
   "metadata": {
    "extensions": {
     "jupyter_dashboards": {
      "version": 1,
      "views": {
       "grid_default": {
        "col": 0,
        "height": 4,
        "hidden": true,
        "row": 0,
        "width": 4
       },
       "report_default": {
        "hidden": false
       }
      }
     }
    }
   },
   "source": [
    "## Run the server"
   ]
  },
  {
   "cell_type": "markdown",
   "metadata": {
    "extensions": {
     "jupyter_dashboards": {
      "version": 1,
      "views": {
       "grid_default": {
        "col": 4,
        "height": 4,
        "hidden": true,
        "row": 0,
        "width": 4
       },
       "report_default": {
        "hidden": false
       }
      }
     }
    }
   },
   "source": [
    "Run the server. Here, we're using ASE, but it could be LAMMPS or OpenMM or anything else. "
   ]
  },
  {
   "cell_type": "code",
   "execution_count": 2,
   "metadata": {
    "ExecuteTime": {
     "end_time": "2019-06-06T16:04:25.397984Z",
     "start_time": "2019-06-06T16:04:25.395015Z"
    },
    "extensions": {
     "jupyter_dashboards": {
      "version": 1,
      "views": {
       "grid_default": {
        "hidden": true
       },
       "report_default": {
        "hidden": true
       }
      }
     }
    }
   },
   "outputs": [],
   "source": [
    "# set up an openmm simulation, or read from file. \n",
    "input_xml = \"nanotube.xml\"\n"
   ]
  },
  {
   "cell_type": "code",
   "execution_count": 3,
   "metadata": {
    "ExecuteTime": {
     "end_time": "2019-06-06T16:04:25.493146Z",
     "start_time": "2019-06-06T16:04:25.400442Z"
    },
    "extensions": {
     "jupyter_dashboards": {
      "version": 1,
      "views": {
       "grid_default": {
        "col": 8,
        "height": 12,
        "hidden": true,
        "row": 0,
        "width": 4
       },
       "report_default": {
        "hidden": false
       }
      }
     }
    },
    "scrolled": true
   },
   "outputs": [
    {
     "name": "stderr",
     "output_type": "stream",
     "text": [
      "C:\\Users\\Mark\\Anaconda3\\envs\\narupa-dev\\lib\\site-packages\\simtk\\openmm\\app\\internal\\pdbstructure.py:536: UserWarning: WARNING: duplicate atom (HETATM    2 mm3_ mm3 A   1      30.047  35.164  32.988  1.00  0.00           C  , HETATM    1 mm3_ mm3 A   1      29.729  34.950  34.124  1.00  0.00           C  )\n",
      "  warnings.warn(\"WARNING: duplicate atom (%s, %s)\" % (atom, old_atom._pdb_string(old_atom.serial_number, atom.alternate_location_indicator)))\n",
      "C:\\Users\\Mark\\Anaconda3\\envs\\narupa-dev\\lib\\site-packages\\simtk\\openmm\\app\\internal\\pdbstructure.py:536: UserWarning: WARNING: duplicate atom (HETATM    3 mm3_ mm3 A   1      31.361  35.154  32.407  1.00  0.00           C  , HETATM    2 mm3_ mm3 A   1      30.047  35.164  32.988  1.00  0.00           C  )\n",
      "  warnings.warn(\"WARNING: duplicate atom (%s, %s)\" % (atom, old_atom._pdb_string(old_atom.serial_number, atom.alternate_location_indicator)))\n",
      "C:\\Users\\Mark\\Anaconda3\\envs\\narupa-dev\\lib\\site-packages\\simtk\\openmm\\app\\internal\\pdbstructure.py:536: UserWarning: WARNING: duplicate atom (HETATM    4 mm3_ mm3 A   1      31.990  36.464  32.037  1.00  0.00           C  , HETATM    3 mm3_ mm3 A   1      31.361  35.154  32.407  1.00  0.00           C  )\n",
      "  warnings.warn(\"WARNING: duplicate atom (%s, %s)\" % (atom, old_atom._pdb_string(old_atom.serial_number, atom.alternate_location_indicator)))\n",
      "C:\\Users\\Mark\\Anaconda3\\envs\\narupa-dev\\lib\\site-packages\\simtk\\openmm\\app\\internal\\pdbstructure.py:536: UserWarning: WARNING: duplicate atom (HETATM    5 mm3_ mm3 A   1      31.251  37.673  32.280  1.00  0.00           C  , HETATM    4 mm3_ mm3 A   1      31.990  36.464  32.037  1.00  0.00           C  )\n",
      "  warnings.warn(\"WARNING: duplicate atom (%s, %s)\" % (atom, old_atom._pdb_string(old_atom.serial_number, atom.alternate_location_indicator)))\n",
      "C:\\Users\\Mark\\Anaconda3\\envs\\narupa-dev\\lib\\site-packages\\simtk\\openmm\\app\\internal\\pdbstructure.py:536: UserWarning: WARNING: duplicate atom (HETATM    6 mm3_ mm3 A   1      31.438  38.508  33.119  1.00  0.00           C  , HETATM    5 mm3_ mm3 A   1      31.251  37.673  32.280  1.00  0.00           C  )\n",
      "  warnings.warn(\"WARNING: duplicate atom (%s, %s)\" % (atom, old_atom._pdb_string(old_atom.serial_number, atom.alternate_location_indicator)))\n",
      "C:\\Users\\Mark\\Anaconda3\\envs\\narupa-dev\\lib\\site-packages\\simtk\\openmm\\app\\internal\\pdbstructure.py:536: UserWarning: WARNING: duplicate atom (HETATM    7 mm3_ mm3 A   1      32.460  38.555  34.126  1.00  0.00           C  , HETATM    6 mm3_ mm3 A   1      31.438  38.508  33.119  1.00  0.00           C  )\n",
      "  warnings.warn(\"WARNING: duplicate atom (%s, %s)\" % (atom, old_atom._pdb_string(old_atom.serial_number, atom.alternate_location_indicator)))\n",
      "C:\\Users\\Mark\\Anaconda3\\envs\\narupa-dev\\lib\\site-packages\\simtk\\openmm\\app\\internal\\pdbstructure.py:536: UserWarning: WARNING: duplicate atom (HETATM    8 mm3_ mm3 A   1      32.081  38.316  35.554  1.00  0.00           C  , HETATM    7 mm3_ mm3 A   1      32.460  38.555  34.126  1.00  0.00           C  )\n",
      "  warnings.warn(\"WARNING: duplicate atom (%s, %s)\" % (atom, old_atom._pdb_string(old_atom.serial_number, atom.alternate_location_indicator)))\n",
      "C:\\Users\\Mark\\Anaconda3\\envs\\narupa-dev\\lib\\site-packages\\simtk\\openmm\\app\\internal\\pdbstructure.py:536: UserWarning: WARNING: duplicate atom (HETATM    9 mm3_ mm3 A   1      30.700  38.168  35.890  1.00  0.00           C  , HETATM    8 mm3_ mm3 A   1      32.081  38.316  35.554  1.00  0.00           C  )\n",
      "  warnings.warn(\"WARNING: duplicate atom (%s, %s)\" % (atom, old_atom._pdb_string(old_atom.serial_number, atom.alternate_location_indicator)))\n",
      "C:\\Users\\Mark\\Anaconda3\\envs\\narupa-dev\\lib\\site-packages\\simtk\\openmm\\app\\internal\\pdbstructure.py:536: UserWarning: WARNING: duplicate atom (HETATM   10 mm3_ mm3 A   1      30.053  36.855  36.271  1.00  0.00           C  , HETATM    9 mm3_ mm3 A   1      30.700  38.168  35.890  1.00  0.00           C  )\n",
      "  warnings.warn(\"WARNING: duplicate atom (%s, %s)\" % (atom, old_atom._pdb_string(old_atom.serial_number, atom.alternate_location_indicator)))\n",
      "C:\\Users\\Mark\\Anaconda3\\envs\\narupa-dev\\lib\\site-packages\\simtk\\openmm\\app\\internal\\pdbstructure.py:536: UserWarning: WARNING: duplicate atom (HETATM   11 mm3_ mm3 A   1      30.789  35.629  36.314  1.00  0.00           C  , HETATM   10 mm3_ mm3 A   1      30.053  36.855  36.271  1.00  0.00           C  )\n",
      "  warnings.warn(\"WARNING: duplicate atom (%s, %s)\" % (atom, old_atom._pdb_string(old_atom.serial_number, atom.alternate_location_indicator)))\n",
      "C:\\Users\\Mark\\Anaconda3\\envs\\narupa-dev\\lib\\site-packages\\simtk\\openmm\\app\\internal\\pdbstructure.py:536: UserWarning: WARNING: duplicate atom (HETATM   12 mm3_ mm3 A   1      30.565  34.610  35.241  1.00  0.00           C  , HETATM   11 mm3_ mm3 A   1      30.789  35.629  36.314  1.00  0.00           C  )\n",
      "  warnings.warn(\"WARNING: duplicate atom (%s, %s)\" % (atom, old_atom._pdb_string(old_atom.serial_number, atom.alternate_location_indicator)))\n",
      "C:\\Users\\Mark\\Anaconda3\\envs\\narupa-dev\\lib\\site-packages\\simtk\\openmm\\app\\internal\\pdbstructure.py:536: UserWarning: WARNING: duplicate atom (HETATM   13 mm3_ mm3 A   1      31.823  33.918  34.703  1.00  0.00           C  , HETATM   12 mm3_ mm3 A   1      30.565  34.610  35.241  1.00  0.00           C  )\n",
      "  warnings.warn(\"WARNING: duplicate atom (%s, %s)\" % (atom, old_atom._pdb_string(old_atom.serial_number, atom.alternate_location_indicator)))\n",
      "C:\\Users\\Mark\\Anaconda3\\envs\\narupa-dev\\lib\\site-packages\\simtk\\openmm\\app\\internal\\pdbstructure.py:536: UserWarning: WARNING: duplicate atom (HETATM   14 mm3_ mm3 A   1      32.238  34.199  33.228  1.00  0.00           C  , HETATM   13 mm3_ mm3 A   1      31.823  33.918  34.703  1.00  0.00           C  )\n",
      "  warnings.warn(\"WARNING: duplicate atom (%s, %s)\" % (atom, old_atom._pdb_string(old_atom.serial_number, atom.alternate_location_indicator)))\n",
      "C:\\Users\\Mark\\Anaconda3\\envs\\narupa-dev\\lib\\site-packages\\simtk\\openmm\\app\\internal\\pdbstructure.py:536: UserWarning: WARNING: duplicate atom (HETATM   15 mm3_ mm3 A   1      33.710  34.171  32.947  1.00  0.00           C  , HETATM   14 mm3_ mm3 A   1      32.238  34.199  33.228  1.00  0.00           C  )\n",
      "  warnings.warn(\"WARNING: duplicate atom (%s, %s)\" % (atom, old_atom._pdb_string(old_atom.serial_number, atom.alternate_location_indicator)))\n",
      "C:\\Users\\Mark\\Anaconda3\\envs\\narupa-dev\\lib\\site-packages\\simtk\\openmm\\app\\internal\\pdbstructure.py:536: UserWarning: WARNING: duplicate atom (HETATM   16 mm3_ mm3 A   1      34.345  35.492  32.573  1.00  0.00           C  , HETATM   15 mm3_ mm3 A   1      33.710  34.171  32.947  1.00  0.00           C  )\n",
      "  warnings.warn(\"WARNING: duplicate atom (%s, %s)\" % (atom, old_atom._pdb_string(old_atom.serial_number, atom.alternate_location_indicator)))\n",
      "C:\\Users\\Mark\\Anaconda3\\envs\\narupa-dev\\lib\\site-packages\\simtk\\openmm\\app\\internal\\pdbstructure.py:536: UserWarning: WARNING: duplicate atom (HETATM   17 mm3_ mm3 A   1      33.429  36.677  32.527  1.00  0.00           C  , HETATM   16 mm3_ mm3 A   1      34.345  35.492  32.573  1.00  0.00           C  )\n",
      "  warnings.warn(\"WARNING: duplicate atom (%s, %s)\" % (atom, old_atom._pdb_string(old_atom.serial_number, atom.alternate_location_indicator)))\n",
      "C:\\Users\\Mark\\Anaconda3\\envs\\narupa-dev\\lib\\site-packages\\simtk\\openmm\\app\\internal\\pdbstructure.py:536: UserWarning: WARNING: duplicate atom (HETATM   18 mm3_ mm3 A   1      33.672  37.765  33.615  1.00  0.00           C  , HETATM   17 mm3_ mm3 A   1      33.429  36.677  32.527  1.00  0.00           C  )\n",
      "  warnings.warn(\"WARNING: duplicate atom (%s, %s)\" % (atom, old_atom._pdb_string(old_atom.serial_number, atom.alternate_location_indicator)))\n",
      "C:\\Users\\Mark\\Anaconda3\\envs\\narupa-dev\\lib\\site-packages\\simtk\\openmm\\app\\internal\\pdbstructure.py:536: UserWarning: WARNING: duplicate atom (HETATM   19 mm3_ mm3 A   1      34.784  37.487  34.578  1.00  0.00           C  , HETATM   18 mm3_ mm3 A   1      33.672  37.765  33.615  1.00  0.00           C  )\n",
      "  warnings.warn(\"WARNING: duplicate atom (%s, %s)\" % (atom, old_atom._pdb_string(old_atom.serial_number, atom.alternate_location_indicator)))\n",
      "C:\\Users\\Mark\\Anaconda3\\envs\\narupa-dev\\lib\\site-packages\\simtk\\openmm\\app\\internal\\pdbstructure.py:536: UserWarning: WARNING: duplicate atom (HETATM   20 mm3_ mm3 A   1      34.374  37.216  36.009  1.00  0.00           C  , HETATM   19 mm3_ mm3 A   1      34.784  37.487  34.578  1.00  0.00           C  )\n",
      "  warnings.warn(\"WARNING: duplicate atom (%s, %s)\" % (atom, old_atom._pdb_string(old_atom.serial_number, atom.alternate_location_indicator)))\n",
      "C:\\Users\\Mark\\Anaconda3\\envs\\narupa-dev\\lib\\site-packages\\simtk\\openmm\\app\\internal\\pdbstructure.py:536: UserWarning: WARNING: duplicate atom (HETATM   21 mm3_ mm3 A   1      32.900  37.261  36.294  1.00  0.00           C  , HETATM   20 mm3_ mm3 A   1      34.374  37.216  36.009  1.00  0.00           C  )\n",
      "  warnings.warn(\"WARNING: duplicate atom (%s, %s)\" % (atom, old_atom._pdb_string(old_atom.serial_number, atom.alternate_location_indicator)))\n",
      "C:\\Users\\Mark\\Anaconda3\\envs\\narupa-dev\\lib\\site-packages\\simtk\\openmm\\app\\internal\\pdbstructure.py:536: UserWarning: WARNING: duplicate atom (HETATM   22 mm3_ mm3 A   1      32.247  35.904  36.679  1.00  0.00           C  , HETATM   21 mm3_ mm3 A   1      32.900  37.261  36.294  1.00  0.00           C  )\n",
      "  warnings.warn(\"WARNING: duplicate atom (%s, %s)\" % (atom, old_atom._pdb_string(old_atom.serial_number, atom.alternate_location_indicator)))\n",
      "C:\\Users\\Mark\\Anaconda3\\envs\\narupa-dev\\lib\\site-packages\\simtk\\openmm\\app\\internal\\pdbstructure.py:536: UserWarning: WARNING: duplicate atom (HETATM   23 mm3_ mm3 A   1      33.176  34.723  36.714  1.00  0.00           C  , HETATM   22 mm3_ mm3 A   1      32.247  35.904  36.679  1.00  0.00           C  )\n",
      "  warnings.warn(\"WARNING: duplicate atom (%s, %s)\" % (atom, old_atom._pdb_string(old_atom.serial_number, atom.alternate_location_indicator)))\n",
      "C:\\Users\\Mark\\Anaconda3\\envs\\narupa-dev\\lib\\site-packages\\simtk\\openmm\\app\\internal\\pdbstructure.py:536: UserWarning: WARNING: duplicate atom (HETATM   24 mm3_ mm3 A   1      32.947  33.664  35.659  1.00  0.00           C  , HETATM   23 mm3_ mm3 A   1      33.176  34.723  36.714  1.00  0.00           C  )\n",
      "  warnings.warn(\"WARNING: duplicate atom (%s, %s)\" % (atom, old_atom._pdb_string(old_atom.serial_number, atom.alternate_location_indicator)))\n",
      "C:\\Users\\Mark\\Anaconda3\\envs\\narupa-dev\\lib\\site-packages\\simtk\\openmm\\app\\internal\\pdbstructure.py:536: UserWarning: WARNING: duplicate atom (HETATM   25 mm3_ mm3 A   1      34.162  32.946  35.158  1.00  0.00           C  , HETATM   24 mm3_ mm3 A   1      32.947  33.664  35.659  1.00  0.00           C  )\n",
      "  warnings.warn(\"WARNING: duplicate atom (%s, %s)\" % (atom, old_atom._pdb_string(old_atom.serial_number, atom.alternate_location_indicator)))\n",
      "C:\\Users\\Mark\\Anaconda3\\envs\\narupa-dev\\lib\\site-packages\\simtk\\openmm\\app\\internal\\pdbstructure.py:536: UserWarning: WARNING: duplicate atom (HETATM   26 mm3_ mm3 A   1      34.567  33.213  33.721  1.00  0.00           C  , HETATM   25 mm3_ mm3 A   1      34.162  32.946  35.158  1.00  0.00           C  )\n",
      "  warnings.warn(\"WARNING: duplicate atom (%s, %s)\" % (atom, old_atom._pdb_string(old_atom.serial_number, atom.alternate_location_indicator)))\n",
      "C:\\Users\\Mark\\Anaconda3\\envs\\narupa-dev\\lib\\site-packages\\simtk\\openmm\\app\\internal\\pdbstructure.py:536: UserWarning: WARNING: duplicate atom (HETATM   27 mm3_ mm3 A   1      36.040  33.186  33.429  1.00  0.00           C  , HETATM   26 mm3_ mm3 A   1      34.567  33.213  33.721  1.00  0.00           C  )\n",
      "  warnings.warn(\"WARNING: duplicate atom (%s, %s)\" % (atom, old_atom._pdb_string(old_atom.serial_number, atom.alternate_location_indicator)))\n",
      "C:\\Users\\Mark\\Anaconda3\\envs\\narupa-dev\\lib\\site-packages\\simtk\\openmm\\app\\internal\\pdbstructure.py:536: UserWarning: WARNING: duplicate atom (HETATM   28 mm3_ mm3 A   1      36.676  34.508  33.055  1.00  0.00           C  , HETATM   27 mm3_ mm3 A   1      36.040  33.186  33.429  1.00  0.00           C  )\n",
      "  warnings.warn(\"WARNING: duplicate atom (%s, %s)\" % (atom, old_atom._pdb_string(old_atom.serial_number, atom.alternate_location_indicator)))\n",
      "C:\\Users\\Mark\\Anaconda3\\envs\\narupa-dev\\lib\\site-packages\\simtk\\openmm\\app\\internal\\pdbstructure.py:536: UserWarning: WARNING: duplicate atom (HETATM   29 mm3_ mm3 A   1      35.763  35.700  33.018  1.00  0.00           C  , HETATM   28 mm3_ mm3 A   1      36.676  34.508  33.055  1.00  0.00           C  )\n",
      "  warnings.warn(\"WARNING: duplicate atom (%s, %s)\" % (atom, old_atom._pdb_string(old_atom.serial_number, atom.alternate_location_indicator)))\n",
      "C:\\Users\\Mark\\Anaconda3\\envs\\narupa-dev\\lib\\site-packages\\simtk\\openmm\\app\\internal\\pdbstructure.py:536: UserWarning: WARNING: duplicate atom (HETATM   30 mm3_ mm3 A   1      35.994  36.757  34.080  1.00  0.00           C  , HETATM   29 mm3_ mm3 A   1      35.763  35.700  33.018  1.00  0.00           C  )\n",
      "  warnings.warn(\"WARNING: duplicate atom (%s, %s)\" % (atom, old_atom._pdb_string(old_atom.serial_number, atom.alternate_location_indicator)))\n",
      "C:\\Users\\Mark\\Anaconda3\\envs\\narupa-dev\\lib\\site-packages\\simtk\\openmm\\app\\internal\\pdbstructure.py:536: UserWarning: WARNING: duplicate atom (HETATM   31 mm3_ mm3 A   1      37.108  36.496  35.050  1.00  0.00           C  , HETATM   30 mm3_ mm3 A   1      35.994  36.757  34.080  1.00  0.00           C  )\n",
      "  warnings.warn(\"WARNING: duplicate atom (%s, %s)\" % (atom, old_atom._pdb_string(old_atom.serial_number, atom.alternate_location_indicator)))\n",
      "C:\\Users\\Mark\\Anaconda3\\envs\\narupa-dev\\lib\\site-packages\\simtk\\openmm\\app\\internal\\pdbstructure.py:536: UserWarning: WARNING: duplicate atom (HETATM   32 mm3_ mm3 A   1      36.702  36.228  36.486  1.00  0.00           C  , HETATM   31 mm3_ mm3 A   1      37.108  36.496  35.050  1.00  0.00           C  )\n",
      "  warnings.warn(\"WARNING: duplicate atom (%s, %s)\" % (atom, old_atom._pdb_string(old_atom.serial_number, atom.alternate_location_indicator)))\n",
      "C:\\Users\\Mark\\Anaconda3\\envs\\narupa-dev\\lib\\site-packages\\simtk\\openmm\\app\\internal\\pdbstructure.py:536: UserWarning: WARNING: duplicate atom (HETATM   33 mm3_ mm3 A   1      35.229  36.255  36.778  1.00  0.00           C  , HETATM   32 mm3_ mm3 A   1      36.702  36.228  36.486  1.00  0.00           C  )\n",
      "  warnings.warn(\"WARNING: duplicate atom (%s, %s)\" % (atom, old_atom._pdb_string(old_atom.serial_number, atom.alternate_location_indicator)))\n",
      "C:\\Users\\Mark\\Anaconda3\\envs\\narupa-dev\\lib\\site-packages\\simtk\\openmm\\app\\internal\\pdbstructure.py:536: UserWarning: WARNING: duplicate atom (HETATM   34 mm3_ mm3 A   1      34.593  34.933  37.153  1.00  0.00           C  , HETATM   33 mm3_ mm3 A   1      35.229  36.255  36.778  1.00  0.00           C  )\n",
      "  warnings.warn(\"WARNING: duplicate atom (%s, %s)\" % (atom, old_atom._pdb_string(old_atom.serial_number, atom.alternate_location_indicator)))\n",
      "C:\\Users\\Mark\\Anaconda3\\envs\\narupa-dev\\lib\\site-packages\\simtk\\openmm\\app\\internal\\pdbstructure.py:536: UserWarning: WARNING: duplicate atom (HETATM   35 mm3_ mm3 A   1      35.506  33.741  37.190  1.00  0.00           C  , HETATM   34 mm3_ mm3 A   1      34.593  34.933  37.153  1.00  0.00           C  )\n",
      "  warnings.warn(\"WARNING: duplicate atom (%s, %s)\" % (atom, old_atom._pdb_string(old_atom.serial_number, atom.alternate_location_indicator)))\n",
      "C:\\Users\\Mark\\Anaconda3\\envs\\narupa-dev\\lib\\site-packages\\simtk\\openmm\\app\\internal\\pdbstructure.py:536: UserWarning: WARNING: duplicate atom (HETATM   36 mm3_ mm3 A   1      35.275  32.684  36.128  1.00  0.00           C  , HETATM   35 mm3_ mm3 A   1      35.506  33.741  37.190  1.00  0.00           C  )\n",
      "  warnings.warn(\"WARNING: duplicate atom (%s, %s)\" % (atom, old_atom._pdb_string(old_atom.serial_number, atom.alternate_location_indicator)))\n",
      "C:\\Users\\Mark\\Anaconda3\\envs\\narupa-dev\\lib\\site-packages\\simtk\\openmm\\app\\internal\\pdbstructure.py:536: UserWarning: WARNING: duplicate atom (HETATM   37 mm3_ mm3 A   1      36.485  31.955  35.629  1.00  0.00           C  , HETATM   36 mm3_ mm3 A   1      35.275  32.684  36.128  1.00  0.00           C  )\n",
      "  warnings.warn(\"WARNING: duplicate atom (%s, %s)\" % (atom, old_atom._pdb_string(old_atom.serial_number, atom.alternate_location_indicator)))\n",
      "C:\\Users\\Mark\\Anaconda3\\envs\\narupa-dev\\lib\\site-packages\\simtk\\openmm\\app\\internal\\pdbstructure.py:536: UserWarning: WARNING: duplicate atom (HETATM   38 mm3_ mm3 A   1      36.895  32.226  34.199  1.00  0.00           C  , HETATM   37 mm3_ mm3 A   1      36.485  31.955  35.629  1.00  0.00           C  )\n",
      "  warnings.warn(\"WARNING: duplicate atom (%s, %s)\" % (atom, old_atom._pdb_string(old_atom.serial_number, atom.alternate_location_indicator)))\n",
      "C:\\Users\\Mark\\Anaconda3\\envs\\narupa-dev\\lib\\site-packages\\simtk\\openmm\\app\\internal\\pdbstructure.py:536: UserWarning: WARNING: duplicate atom (HETATM   39 mm3_ mm3 A   1      38.369  32.180  33.914  1.00  0.00           C  , HETATM   38 mm3_ mm3 A   1      36.895  32.226  34.199  1.00  0.00           C  )\n",
      "  warnings.warn(\"WARNING: duplicate atom (%s, %s)\" % (atom, old_atom._pdb_string(old_atom.serial_number, atom.alternate_location_indicator)))\n",
      "C:\\Users\\Mark\\Anaconda3\\envs\\narupa-dev\\lib\\site-packages\\simtk\\openmm\\app\\internal\\pdbstructure.py:536: UserWarning: WARNING: duplicate atom (HETATM   40 mm3_ mm3 A   1      39.023  33.538  33.529  1.00  0.00           C  , HETATM   39 mm3_ mm3 A   1      38.369  32.180  33.914  1.00  0.00           C  )\n",
      "  warnings.warn(\"WARNING: duplicate atom (%s, %s)\" % (atom, old_atom._pdb_string(old_atom.serial_number, atom.alternate_location_indicator)))\n",
      "C:\\Users\\Mark\\Anaconda3\\envs\\narupa-dev\\lib\\site-packages\\simtk\\openmm\\app\\internal\\pdbstructure.py:536: UserWarning: WARNING: duplicate atom (HETATM   41 mm3_ mm3 A   1      38.094  34.718  33.493  1.00  0.00           C  , HETATM   40 mm3_ mm3 A   1      39.023  33.538  33.529  1.00  0.00           C  )\n",
      "  warnings.warn(\"WARNING: duplicate atom (%s, %s)\" % (atom, old_atom._pdb_string(old_atom.serial_number, atom.alternate_location_indicator)))\n",
      "C:\\Users\\Mark\\Anaconda3\\envs\\narupa-dev\\lib\\site-packages\\simtk\\openmm\\app\\internal\\pdbstructure.py:536: UserWarning: WARNING: duplicate atom (HETATM   42 mm3_ mm3 A   1      38.323  35.778  34.548  1.00  0.00           C  , HETATM   41 mm3_ mm3 A   1      38.094  34.718  33.493  1.00  0.00           C  )\n",
      "  warnings.warn(\"WARNING: duplicate atom (%s, %s)\" % (atom, old_atom._pdb_string(old_atom.serial_number, atom.alternate_location_indicator)))\n",
      "C:\\Users\\Mark\\Anaconda3\\envs\\narupa-dev\\lib\\site-packages\\simtk\\openmm\\app\\internal\\pdbstructure.py:536: UserWarning: WARNING: duplicate atom (HETATM   43 mm3_ mm3 A   1      39.446  35.524  35.505  1.00  0.00           C  , HETATM   42 mm3_ mm3 A   1      38.323  35.778  34.548  1.00  0.00           C  )\n",
      "  warnings.warn(\"WARNING: duplicate atom (%s, %s)\" % (atom, old_atom._pdb_string(old_atom.serial_number, atom.alternate_location_indicator)))\n",
      "C:\\Users\\Mark\\Anaconda3\\envs\\narupa-dev\\lib\\site-packages\\simtk\\openmm\\app\\internal\\pdbstructure.py:536: UserWarning: WARNING: duplicate atom (HETATM   44 mm3_ mm3 A   1      39.031  35.243  36.980  1.00  0.00           C  , HETATM   43 mm3_ mm3 A   1      39.446  35.524  35.505  1.00  0.00           C  )\n",
      "  warnings.warn(\"WARNING: duplicate atom (%s, %s)\" % (atom, old_atom._pdb_string(old_atom.serial_number, atom.alternate_location_indicator)))\n",
      "C:\\Users\\Mark\\Anaconda3\\envs\\narupa-dev\\lib\\site-packages\\simtk\\openmm\\app\\internal\\pdbstructure.py:536: UserWarning: WARNING: duplicate atom (HETATM   45 mm3_ mm3 A   1      37.559  35.271  37.260  1.00  0.00           C  , HETATM   44 mm3_ mm3 A   1      39.031  35.243  36.980  1.00  0.00           C  )\n",
      "  warnings.warn(\"WARNING: duplicate atom (%s, %s)\" % (atom, old_atom._pdb_string(old_atom.serial_number, atom.alternate_location_indicator)))\n",
      "C:\\Users\\Mark\\Anaconda3\\envs\\narupa-dev\\lib\\site-packages\\simtk\\openmm\\app\\internal\\pdbstructure.py:536: UserWarning: WARNING: duplicate atom (HETATM   46 mm3_ mm3 A   1      36.924  33.950  37.634  1.00  0.00           C  , HETATM   45 mm3_ mm3 A   1      37.559  35.271  37.260  1.00  0.00           C  )\n",
      "  warnings.warn(\"WARNING: duplicate atom (%s, %s)\" % (atom, old_atom._pdb_string(old_atom.serial_number, atom.alternate_location_indicator)))\n",
      "C:\\Users\\Mark\\Anaconda3\\envs\\narupa-dev\\lib\\site-packages\\simtk\\openmm\\app\\internal\\pdbstructure.py:536: UserWarning: WARNING: duplicate atom (HETATM   47 mm3_ mm3 A   1      37.840  32.764  37.681  1.00  0.00           C  , HETATM   46 mm3_ mm3 A   1      36.924  33.950  37.634  1.00  0.00           C  )\n",
      "  warnings.warn(\"WARNING: duplicate atom (%s, %s)\" % (atom, old_atom._pdb_string(old_atom.serial_number, atom.alternate_location_indicator)))\n",
      "C:\\Users\\Mark\\Anaconda3\\envs\\narupa-dev\\lib\\site-packages\\simtk\\openmm\\app\\internal\\pdbstructure.py:536: UserWarning: WARNING: duplicate atom (HETATM   48 mm3_ mm3 A   1      37.597  31.676  36.593  1.00  0.00           C  , HETATM   47 mm3_ mm3 A   1      37.840  32.764  37.681  1.00  0.00           C  )\n",
      "  warnings.warn(\"WARNING: duplicate atom (%s, %s)\" % (atom, old_atom._pdb_string(old_atom.serial_number, atom.alternate_location_indicator)))\n",
      "C:\\Users\\Mark\\Anaconda3\\envs\\narupa-dev\\lib\\site-packages\\simtk\\openmm\\app\\internal\\pdbstructure.py:536: UserWarning: WARNING: duplicate atom (HETATM   49 mm3_ mm3 A   1      38.809  30.886  36.082  1.00  0.00           C  , HETATM   48 mm3_ mm3 A   1      37.597  31.676  36.593  1.00  0.00           C  )\n",
      "  warnings.warn(\"WARNING: duplicate atom (%s, %s)\" % (atom, old_atom._pdb_string(old_atom.serial_number, atom.alternate_location_indicator)))\n",
      "C:\\Users\\Mark\\Anaconda3\\envs\\narupa-dev\\lib\\site-packages\\simtk\\openmm\\app\\internal\\pdbstructure.py:536: UserWarning: WARNING: duplicate atom (HETATM   50 mm3_ mm3 A   1      39.188  31.126  34.654  1.00  0.00           C  , HETATM   49 mm3_ mm3 A   1      38.809  30.886  36.082  1.00  0.00           C  )\n",
      "  warnings.warn(\"WARNING: duplicate atom (%s, %s)\" % (atom, old_atom._pdb_string(old_atom.serial_number, atom.alternate_location_indicator)))\n",
      "C:\\Users\\Mark\\Anaconda3\\envs\\narupa-dev\\lib\\site-packages\\simtk\\openmm\\app\\internal\\pdbstructure.py:536: UserWarning: WARNING: duplicate atom (HETATM   51 mm3_ mm3 A   1      40.570  31.274  34.320  1.00  0.00           C  , HETATM   50 mm3_ mm3 A   1      39.188  31.126  34.654  1.00  0.00           C  )\n",
      "  warnings.warn(\"WARNING: duplicate atom (%s, %s)\" % (atom, old_atom._pdb_string(old_atom.serial_number, atom.alternate_location_indicator)))\n",
      "C:\\Users\\Mark\\Anaconda3\\envs\\narupa-dev\\lib\\site-packages\\simtk\\openmm\\app\\internal\\pdbstructure.py:536: UserWarning: WARNING: duplicate atom (HETATM   52 mm3_ mm3 A   1      41.217  32.586  33.939  1.00  0.00           C  , HETATM   51 mm3_ mm3 A   1      40.570  31.274  34.320  1.00  0.00           C  )\n",
      "  warnings.warn(\"WARNING: duplicate atom (%s, %s)\" % (atom, old_atom._pdb_string(old_atom.serial_number, atom.alternate_location_indicator)))\n",
      "C:\\Users\\Mark\\Anaconda3\\envs\\narupa-dev\\lib\\site-packages\\simtk\\openmm\\app\\internal\\pdbstructure.py:536: UserWarning: WARNING: duplicate atom (HETATM   53 mm3_ mm3 A   1      40.481  33.812  33.894  1.00  0.00           C  , HETATM   52 mm3_ mm3 A   1      41.217  32.586  33.939  1.00  0.00           C  )\n",
      "  warnings.warn(\"WARNING: duplicate atom (%s, %s)\" % (atom, old_atom._pdb_string(old_atom.serial_number, atom.alternate_location_indicator)))\n",
      "C:\\Users\\Mark\\Anaconda3\\envs\\narupa-dev\\lib\\site-packages\\simtk\\openmm\\app\\internal\\pdbstructure.py:536: UserWarning: WARNING: duplicate atom (HETATM   54 mm3_ mm3 A   1      40.705  34.831  34.967  1.00  0.00           C  , HETATM   53 mm3_ mm3 A   1      40.481  33.812  33.894  1.00  0.00           C  )\n",
      "  warnings.warn(\"WARNING: duplicate atom (%s, %s)\" % (atom, old_atom._pdb_string(old_atom.serial_number, atom.alternate_location_indicator)))\n",
      "C:\\Users\\Mark\\Anaconda3\\envs\\narupa-dev\\lib\\site-packages\\simtk\\openmm\\app\\internal\\pdbstructure.py:536: UserWarning: WARNING: duplicate atom (HETATM   55 mm3_ mm3 A   1      41.541  34.490  36.084  1.00  0.00           C  , HETATM   54 mm3_ mm3 A   1      40.705  34.831  34.967  1.00  0.00           C  )\n",
      "  warnings.warn(\"WARNING: duplicate atom (%s, %s)\" % (atom, old_atom._pdb_string(old_atom.serial_number, atom.alternate_location_indicator)))\n",
      "C:\\Users\\Mark\\Anaconda3\\envs\\narupa-dev\\lib\\site-packages\\simtk\\openmm\\app\\internal\\pdbstructure.py:536: UserWarning: WARNING: duplicate atom (HETATM   56 mm3_ mm3 A   1      41.222  34.277  37.220  1.00  0.00           C  , HETATM   55 mm3_ mm3 A   1      41.541  34.490  36.084  1.00  0.00           C  )\n",
      "  warnings.warn(\"WARNING: duplicate atom (%s, %s)\" % (atom, old_atom._pdb_string(old_atom.serial_number, atom.alternate_location_indicator)))\n",
      "C:\\Users\\Mark\\Anaconda3\\envs\\narupa-dev\\lib\\site-packages\\simtk\\openmm\\app\\internal\\pdbstructure.py:536: UserWarning: WARNING: duplicate atom (HETATM   57 mm3_ mm3 A   1      39.908  34.287  37.801  1.00  0.00           C  , HETATM   56 mm3_ mm3 A   1      41.222  34.277  37.220  1.00  0.00           C  )\n",
      "  warnings.warn(\"WARNING: duplicate atom (%s, %s)\" % (atom, old_atom._pdb_string(old_atom.serial_number, atom.alternate_location_indicator)))\n",
      "C:\\Users\\Mark\\Anaconda3\\envs\\narupa-dev\\lib\\site-packages\\simtk\\openmm\\app\\internal\\pdbstructure.py:536: UserWarning: WARNING: duplicate atom (HETATM   58 mm3_ mm3 A   1      39.279  32.978  38.172  1.00  0.00           C  , HETATM   57 mm3_ mm3 A   1      39.908  34.287  37.801  1.00  0.00           C  )\n",
      "  warnings.warn(\"WARNING: duplicate atom (%s, %s)\" % (atom, old_atom._pdb_string(old_atom.serial_number, atom.alternate_location_indicator)))\n",
      "C:\\Users\\Mark\\Anaconda3\\envs\\narupa-dev\\lib\\site-packages\\simtk\\openmm\\app\\internal\\pdbstructure.py:536: UserWarning: WARNING: duplicate atom (HETATM   59 mm3_ mm3 A   1      40.017  31.769  37.928  1.00  0.00           C  , HETATM   58 mm3_ mm3 A   1      39.279  32.978  38.172  1.00  0.00           C  )\n",
      "  warnings.warn(\"WARNING: duplicate atom (%s, %s)\" % (atom, old_atom._pdb_string(old_atom.serial_number, atom.alternate_location_indicator)))\n",
      "C:\\Users\\Mark\\Anaconda3\\envs\\narupa-dev\\lib\\site-packages\\simtk\\openmm\\app\\internal\\pdbstructure.py:536: UserWarning: WARNING: duplicate atom (HETATM   60 mm3_ mm3 A   1      39.831  30.934  37.089  1.00  0.00           C  , HETATM   59 mm3_ mm3 A   1      40.017  31.769  37.928  1.00  0.00           C  )\n",
      "  warnings.warn(\"WARNING: duplicate atom (%s, %s)\" % (atom, old_atom._pdb_string(old_atom.serial_number, atom.alternate_location_indicator)))\n",
      "C:\\Users\\Mark\\Anaconda3\\envs\\narupa-dev\\lib\\site-packages\\simtk\\openmm\\app\\internal\\pdbstructure.py:536: UserWarning: WARNING: duplicate atom (HETATM   61 mm3_ mm3 A   1      27.387  38.353  33.755  1.00  0.00           C  , HETATM   60 mm3_ mm3 A   1      39.831  30.934  37.089  1.00  0.00           C  )\n",
      "  warnings.warn(\"WARNING: duplicate atom (%s, %s)\" % (atom, old_atom._pdb_string(old_atom.serial_number, atom.alternate_location_indicator)))\n",
      "C:\\Users\\Mark\\Anaconda3\\envs\\narupa-dev\\lib\\site-packages\\simtk\\openmm\\app\\internal\\pdbstructure.py:536: UserWarning: WARNING: duplicate atom (HETATM   62 mm3_ mm3 A   1      26.655  38.791  34.437  1.00  0.00           H  , HETATM   61 mm3_ mm3 A   1      27.387  38.353  33.755  1.00  0.00           C  )\n",
      "  warnings.warn(\"WARNING: duplicate atom (%s, %s)\" % (atom, old_atom._pdb_string(old_atom.serial_number, atom.alternate_location_indicator)))\n",
      "C:\\Users\\Mark\\Anaconda3\\envs\\narupa-dev\\lib\\site-packages\\simtk\\openmm\\app\\internal\\pdbstructure.py:536: UserWarning: WARNING: duplicate atom (HETATM   63 mm3_ mm3 A   1      28.292  38.964  33.754  1.00  0.00           H  , HETATM   62 mm3_ mm3 A   1      26.655  38.791  34.437  1.00  0.00           H  )\n",
      "  warnings.warn(\"WARNING: duplicate atom (%s, %s)\" % (atom, old_atom._pdb_string(old_atom.serial_number, atom.alternate_location_indicator)))\n",
      "C:\\Users\\Mark\\Anaconda3\\envs\\narupa-dev\\lib\\site-packages\\simtk\\openmm\\app\\internal\\pdbstructure.py:536: UserWarning: WARNING: duplicate atom (HETATM   64 mm3_ mm3 A   1      27.629  37.341  34.085  1.00  0.00           H  , HETATM   63 mm3_ mm3 A   1      28.292  38.964  33.754  1.00  0.00           H  )\n",
      "  warnings.warn(\"WARNING: duplicate atom (%s, %s)\" % (atom, old_atom._pdb_string(old_atom.serial_number, atom.alternate_location_indicator)))\n",
      "C:\\Users\\Mark\\Anaconda3\\envs\\narupa-dev\\lib\\site-packages\\simtk\\openmm\\app\\internal\\pdbstructure.py:536: UserWarning: WARNING: duplicate atom (HETATM   65 mm3_ mm3 A   1      26.971  38.317  32.746  1.00  0.00           H  , HETATM   64 mm3_ mm3 A   1      27.629  37.341  34.085  1.00  0.00           H  )\n",
      "  warnings.warn(\"WARNING: duplicate atom (%s, %s)\" % (atom, old_atom._pdb_string(old_atom.serial_number, atom.alternate_location_indicator)))\n"
     ]
    }
   ],
   "source": [
    "runner = OpenMMIMDRunner.from_xml(input_xml)"
   ]
  },
  {
   "cell_type": "markdown",
   "metadata": {
    "extensions": {
     "jupyter_dashboards": {
      "version": 1,
      "views": {
       "grid_default": {
        "col": 0,
        "height": 4,
        "hidden": true,
        "row": 4,
        "width": 4
       },
       "report_default": {
        "hidden": false
       }
      }
     }
    }
   },
   "source": [
    "Run dynamics in background thread"
   ]
  },
  {
   "cell_type": "code",
   "execution_count": 4,
   "metadata": {
    "ExecuteTime": {
     "end_time": "2019-06-06T16:04:25.725110Z",
     "start_time": "2019-06-06T16:04:25.701637Z"
    },
    "extensions": {
     "jupyter_dashboards": {
      "version": 1,
      "views": {
       "grid_default": {
        "hidden": true
       },
       "report_default": {
        "hidden": true
       }
      }
     }
    }
   },
   "outputs": [],
   "source": [
    "runner.run()"
   ]
  },
  {
   "cell_type": "code",
   "execution_count": 5,
   "metadata": {
    "ExecuteTime": {
     "end_time": "2019-06-06T16:04:25.876184Z",
     "start_time": "2019-06-06T16:04:25.800104Z"
    },
    "extensions": {
     "jupyter_dashboards": {
      "version": 1,
      "views": {
       "grid_default": {
        "col": 4,
        "height": 4,
        "hidden": true,
        "row": 0,
        "width": 4
       },
       "report_default": {
        "hidden": false
       }
      }
     }
    }
   },
   "outputs": [
    {
     "data": {
      "text/plain": [
       "0.9822694788464064"
      ]
     },
     "execution_count": 5,
     "metadata": {},
     "output_type": "execute_result"
    }
   ],
   "source": [
    "# print the time to check dynamics is running\n",
    "runner.dynamics.get_time()"
   ]
  },
  {
   "cell_type": "markdown",
   "metadata": {
    "extensions": {
     "jupyter_dashboards": {
      "version": 1,
      "views": {
       "grid_default": {
        "col": 0,
        "height": 4,
        "hidden": true,
        "row": 4,
        "width": 4
       },
       "report_default": {
        "hidden": false
       }
      }
     }
    }
   },
   "source": [
    "## Start an IMD client"
   ]
  },
  {
   "cell_type": "code",
   "execution_count": 6,
   "metadata": {
    "ExecuteTime": {
     "end_time": "2019-06-06T16:04:26.428800Z",
     "start_time": "2019-06-06T16:04:26.348751Z"
    },
    "extensions": {
     "jupyter_dashboards": {
      "version": 1,
      "views": {
       "grid_default": {
        "hidden": true
       },
       "report_default": {
        "hidden": true
       }
      }
     }
    }
   },
   "outputs": [],
   "source": [
    "class NGLClient(NarupaImdClient):\n",
    "    def __init__(self, *args, update_callback=None, **kwargs):\n",
    "        super().__init__(*args, **kwargs)\n",
    "        self._view = None\n",
    "        self.update_callback = update_callback\n",
    "    \n",
    "    @property\n",
    "    def view(self):\n",
    "        if self._view is None:\n",
    "            atoms = frame_data_to_ase(\n",
    "                client.first_frame,\n",
    "                topology=True,\n",
    "                positions=False,\n",
    "            )\n",
    "            atoms.set_positions(\n",
    "                np.array(client.latest_frame.particle_positions) * 10\n",
    "            )\n",
    "            self._view = nglview.show_ase(atoms)\n",
    "        return self._view\n",
    "\n",
    "    def _on_frame_received(self, frame_index:int, frame):\n",
    "        super()._on_frame_received(frame_index, frame)\n",
    "        self.view.set_coordinates(\n",
    "            {0: np.array(self.latest_frame.particle_positions) * 10}\n",
    "        )\n",
    "        if self.update_callback is not None:\n",
    "            self.update_callback(self.universe)\n",
    "\n",
    "def _get_structure_string(write_method, suffix='.pdb'):\n",
    "    fname = 'tmp.pdb'\n",
    "    write_method(fname)\n",
    "    with open(fname) as fh:\n",
    "        return fh.read()\n",
    "\n",
    "nglview.adaptor._get_structure_string = _get_structure_string"
   ]
  },
  {
   "cell_type": "code",
   "execution_count": 7,
   "metadata": {
    "ExecuteTime": {
     "end_time": "2019-06-06T16:04:26.572274Z",
     "start_time": "2019-06-06T16:04:26.482553Z"
    },
    "extensions": {
     "jupyter_dashboards": {
      "version": 1,
      "views": {
       "grid_default": {
        "col": 0,
        "height": 19,
        "hidden": false,
        "row": 11,
        "width": 7
       },
       "report_default": {
        "hidden": false
       }
      }
     }
    }
   },
   "outputs": [],
   "source": [
    "client = NGLClient()"
   ]
  },
  {
   "cell_type": "code",
   "execution_count": 8,
   "metadata": {
    "ExecuteTime": {
     "end_time": "2019-06-06T16:04:26.674930Z",
     "start_time": "2019-06-06T16:04:26.619824Z"
    }
   },
   "outputs": [],
   "source": [
    "positions = np.array(client.latest_frame.particle_positions) * 10\n",
    "start_point = positions[60, :]\n",
    "first_nanotube_anchor = positions[0, :]\n",
    "last_nanotube_anchor = positions[59, :]"
   ]
  },
  {
   "cell_type": "code",
   "execution_count": 9,
   "metadata": {
    "ExecuteTime": {
     "end_time": "2019-06-06T16:04:26.778540Z",
     "start_time": "2019-06-06T16:04:26.721845Z"
    }
   },
   "outputs": [],
   "source": [
    "anchor1 = ParticleInteraction(position=first_nanotube_anchor, scale=5000, particles=(0,), interaction_type='gaussian')\n",
    "anchor2 = ParticleInteraction(position=last_nanotube_anchor, scale=5000, particles=(59,), interaction_type='gaussian')\n",
    "\n",
    "anchor1_id = client.start_interaction()\n",
    "client.update_interaction(anchor1_id, anchor1)\n",
    "anchor2_id = client.start_interaction()\n",
    "client.update_interaction(anchor2_id, anchor2)"
   ]
  },
  {
   "cell_type": "code",
   "execution_count": 10,
   "metadata": {
    "ExecuteTime": {
     "end_time": "2019-06-06T16:04:26.884708Z",
     "start_time": "2019-06-06T16:04:26.827325Z"
    }
   },
   "outputs": [],
   "source": [
    "interaction = ParticleInteraction(position=start_point, scale=10000, particles=(60,), interaction_type='spring')\n",
    "interaction_id = client.start_interaction()\n",
    "client.update_interaction(interaction_id, interaction)"
   ]
  },
  {
   "cell_type": "code",
   "execution_count": 11,
   "metadata": {
    "ExecuteTime": {
     "end_time": "2019-06-06T16:04:27.291228Z",
     "start_time": "2019-06-06T16:04:26.945620Z"
    },
    "extensions": {
     "jupyter_dashboards": {
      "version": 1,
      "views": {
       "grid_default": {
        "col": 0,
        "height": 11,
        "hidden": false,
        "row": 0,
        "width": 12
       },
       "report_default": {
        "hidden": false
       }
      }
     }
    }
   },
   "outputs": [
    {
     "data": {
      "application/vnd.jupyter.widget-view+json": {
       "model_id": "58a7d4fb56c54553a43f991064c513ff",
       "version_major": 2,
       "version_minor": 0
      },
      "text/plain": [
       "NGLWidget()"
      ]
     },
     "metadata": {},
     "output_type": "display_data"
    }
   ],
   "source": [
    "client.view"
   ]
  },
  {
   "cell_type": "code",
   "execution_count": 12,
   "metadata": {
    "ExecuteTime": {
     "end_time": "2019-06-06T16:04:27.384256Z",
     "start_time": "2019-06-06T16:04:27.347583Z"
    }
   },
   "outputs": [],
   "source": [
    "client.view.shape.add_sphere(list(start_point), [1, 0, 0], 0.5)\n",
    "client.view.shape.add_sphere(list(first_nanotube_anchor), [1, 0, 1], 0.5)\n",
    "client.view.shape.add_sphere(list(last_nanotube_anchor), [1, 1, 0], 0.5)"
   ]
  },
  {
   "cell_type": "code",
   "execution_count": 13,
   "metadata": {},
   "outputs": [
    {
     "data": {
      "text/plain": [
       "values {\n",
       "  key: \"chain.count\"\n",
       "  value {\n",
       "    number_value: 1.0\n",
       "  }\n",
       "}\n",
       "values {\n",
       "  key: \"energy.kinetic\"\n",
       "  value {\n",
       "    number_value: 3071.980612307835\n",
       "  }\n",
       "}\n",
       "values {\n",
       "  key: \"energy.potential\"\n",
       "  value {\n",
       "    number_value: 1256.2694091796875\n",
       "  }\n",
       "}\n",
       "values {\n",
       "  key: \"particle.count\"\n",
       "  value {\n",
       "    number_value: 65.0\n",
       "  }\n",
       "}\n",
       "values {\n",
       "  key: \"residue.count\"\n",
       "  value {\n",
       "    number_value: 1.0\n",
       "  }\n",
       "}\n",
       "arrays {\n",
       "  key: \"bond.pairs\"\n",
       "  value {\n",
       "    index_values {\n",
       "      values: 0\n",
       "      values: 1\n",
       "      values: 0\n",
       "      values: 11\n",
       "      values: 1\n",
       "      values: 2\n",
       "      values: 2\n",
       "      values: 3\n",
       "      values: 2\n",
       "      values: 13\n",
       "      values: 3\n",
       "      values: 4\n",
       "      values: 3\n",
       "      values: 16\n",
       "      values: 4\n",
       "      values: 5\n",
       "      values: 5\n",
       "      values: 6\n",
       "      values: 6\n",
       "      values: 7\n",
       "      values: 6\n",
       "      values: 17\n",
       "      values: 7\n",
       "      values: 8\n",
       "      values: 7\n",
       "      values: 20\n",
       "      values: 8\n",
       "      values: 9\n",
       "      values: 9\n",
       "      values: 10\n",
       "      values: 10\n",
       "      values: 11\n",
       "      values: 10\n",
       "      values: 21\n",
       "      values: 11\n",
       "      values: 12\n",
       "      values: 12\n",
       "      values: 13\n",
       "      values: 12\n",
       "      values: 23\n",
       "      values: 13\n",
       "      values: 14\n",
       "      values: 14\n",
       "      values: 15\n",
       "      values: 14\n",
       "      values: 25\n",
       "      values: 15\n",
       "      values: 16\n",
       "      values: 15\n",
       "      values: 28\n",
       "      values: 16\n",
       "      values: 17\n",
       "      values: 17\n",
       "      values: 18\n",
       "      values: 18\n",
       "      values: 19\n",
       "      values: 18\n",
       "      values: 29\n",
       "      values: 19\n",
       "      values: 20\n",
       "      values: 19\n",
       "      values: 32\n",
       "      values: 20\n",
       "      values: 21\n",
       "      values: 21\n",
       "      values: 22\n",
       "      values: 22\n",
       "      values: 23\n",
       "      values: 22\n",
       "      values: 33\n",
       "      values: 23\n",
       "      values: 24\n",
       "      values: 24\n",
       "      values: 25\n",
       "      values: 24\n",
       "      values: 35\n",
       "      values: 25\n",
       "      values: 26\n",
       "      values: 26\n",
       "      values: 27\n",
       "      values: 26\n",
       "      values: 37\n",
       "      values: 27\n",
       "      values: 28\n",
       "      values: 27\n",
       "      values: 40\n",
       "      values: 28\n",
       "      values: 29\n",
       "      values: 29\n",
       "      values: 30\n",
       "      values: 30\n",
       "      values: 31\n",
       "      values: 30\n",
       "      values: 41\n",
       "      values: 31\n",
       "      values: 32\n",
       "      values: 31\n",
       "      values: 44\n",
       "      values: 32\n",
       "      values: 33\n",
       "      values: 33\n",
       "      values: 34\n",
       "      values: 34\n",
       "      values: 35\n",
       "      values: 34\n",
       "      values: 45\n",
       "      values: 35\n",
       "      values: 36\n",
       "      values: 36\n",
       "      values: 37\n",
       "      values: 36\n",
       "      values: 47\n",
       "      values: 37\n",
       "      values: 38\n",
       "      values: 38\n",
       "      values: 39\n",
       "      values: 38\n",
       "      values: 49\n",
       "      values: 39\n",
       "      values: 40\n",
       "      values: 39\n",
       "      values: 52\n",
       "      values: 40\n",
       "      values: 41\n",
       "      values: 41\n",
       "      values: 42\n",
       "      values: 42\n",
       "      values: 43\n",
       "      values: 42\n",
       "      values: 53\n",
       "      values: 43\n",
       "      values: 44\n",
       "      values: 43\n",
       "      values: 56\n",
       "      values: 44\n",
       "      values: 45\n",
       "      values: 45\n",
       "      values: 46\n",
       "      values: 46\n",
       "      values: 47\n",
       "      values: 46\n",
       "      values: 57\n",
       "      values: 47\n",
       "      values: 48\n",
       "      values: 48\n",
       "      values: 49\n",
       "      values: 48\n",
       "      values: 59\n",
       "      values: 49\n",
       "      values: 50\n",
       "      values: 50\n",
       "      values: 51\n",
       "      values: 51\n",
       "      values: 52\n",
       "      values: 52\n",
       "      values: 53\n",
       "      values: 53\n",
       "      values: 54\n",
       "      values: 54\n",
       "      values: 55\n",
       "      values: 55\n",
       "      values: 56\n",
       "      values: 56\n",
       "      values: 57\n",
       "      values: 57\n",
       "      values: 58\n",
       "      values: 58\n",
       "      values: 59\n",
       "      values: 60\n",
       "      values: 61\n",
       "      values: 60\n",
       "      values: 62\n",
       "      values: 60\n",
       "      values: 63\n",
       "      values: 60\n",
       "      values: 64\n",
       "    }\n",
       "  }\n",
       "}\n",
       "arrays {\n",
       "  key: \"chain.names\"\n",
       "  value {\n",
       "    string_values {\n",
       "      values: \"A\"\n",
       "    }\n",
       "  }\n",
       "}\n",
       "arrays {\n",
       "  key: \"particle.elements\"\n",
       "  value {\n",
       "    index_values {\n",
       "      values: 6\n",
       "      values: 6\n",
       "      values: 6\n",
       "      values: 6\n",
       "      values: 6\n",
       "      values: 6\n",
       "      values: 6\n",
       "      values: 6\n",
       "      values: 6\n",
       "      values: 6\n",
       "      values: 6\n",
       "      values: 6\n",
       "      values: 6\n",
       "      values: 6\n",
       "      values: 6\n",
       "      values: 6\n",
       "      values: 6\n",
       "      values: 6\n",
       "      values: 6\n",
       "      values: 6\n",
       "      values: 6\n",
       "      values: 6\n",
       "      values: 6\n",
       "      values: 6\n",
       "      values: 6\n",
       "      values: 6\n",
       "      values: 6\n",
       "      values: 6\n",
       "      values: 6\n",
       "      values: 6\n",
       "      values: 6\n",
       "      values: 6\n",
       "      values: 6\n",
       "      values: 6\n",
       "      values: 6\n",
       "      values: 6\n",
       "      values: 6\n",
       "      values: 6\n",
       "      values: 6\n",
       "      values: 6\n",
       "      values: 6\n",
       "      values: 6\n",
       "      values: 6\n",
       "      values: 6\n",
       "      values: 6\n",
       "      values: 6\n",
       "      values: 6\n",
       "      values: 6\n",
       "      values: 6\n",
       "      values: 6\n",
       "      values: 6\n",
       "      values: 6\n",
       "      values: 6\n",
       "      values: 6\n",
       "      values: 6\n",
       "      values: 6\n",
       "      values: 6\n",
       "      values: 6\n",
       "      values: 6\n",
       "      values: 6\n",
       "      values: 6\n",
       "      values: 1\n",
       "      values: 1\n",
       "      values: 1\n",
       "      values: 1\n",
       "    }\n",
       "  }\n",
       "}\n",
       "arrays {\n",
       "  key: \"particle.names\"\n",
       "  value {\n",
       "    string_values {\n",
       "      values: \"mm3_\"\n",
       "      values: \"mm3_\"\n",
       "      values: \"mm3_\"\n",
       "      values: \"mm3_\"\n",
       "      values: \"mm3_\"\n",
       "      values: \"mm3_\"\n",
       "      values: \"mm3_\"\n",
       "      values: \"mm3_\"\n",
       "      values: \"mm3_\"\n",
       "      values: \"mm3_\"\n",
       "      values: \"mm3_\"\n",
       "      values: \"mm3_\"\n",
       "      values: \"mm3_\"\n",
       "      values: \"mm3_\"\n",
       "      values: \"mm3_\"\n",
       "      values: \"mm3_\"\n",
       "      values: \"mm3_\"\n",
       "      values: \"mm3_\"\n",
       "      values: \"mm3_\"\n",
       "      values: \"mm3_\"\n",
       "      values: \"mm3_\"\n",
       "      values: \"mm3_\"\n",
       "      values: \"mm3_\"\n",
       "      values: \"mm3_\"\n",
       "      values: \"mm3_\"\n",
       "      values: \"mm3_\"\n",
       "      values: \"mm3_\"\n",
       "      values: \"mm3_\"\n",
       "      values: \"mm3_\"\n",
       "      values: \"mm3_\"\n",
       "      values: \"mm3_\"\n",
       "      values: \"mm3_\"\n",
       "      values: \"mm3_\"\n",
       "      values: \"mm3_\"\n",
       "      values: \"mm3_\"\n",
       "      values: \"mm3_\"\n",
       "      values: \"mm3_\"\n",
       "      values: \"mm3_\"\n",
       "      values: \"mm3_\"\n",
       "      values: \"mm3_\"\n",
       "      values: \"mm3_\"\n",
       "      values: \"mm3_\"\n",
       "      values: \"mm3_\"\n",
       "      values: \"mm3_\"\n",
       "      values: \"mm3_\"\n",
       "      values: \"mm3_\"\n",
       "      values: \"mm3_\"\n",
       "      values: \"mm3_\"\n",
       "      values: \"mm3_\"\n",
       "      values: \"mm3_\"\n",
       "      values: \"mm3_\"\n",
       "      values: \"mm3_\"\n",
       "      values: \"mm3_\"\n",
       "      values: \"mm3_\"\n",
       "      values: \"mm3_\"\n",
       "      values: \"mm3_\"\n",
       "      values: \"mm3_\"\n",
       "      values: \"mm3_\"\n",
       "      values: \"mm3_\"\n",
       "      values: \"mm3_\"\n",
       "      values: \"mm3_\"\n",
       "      values: \"mm3_\"\n",
       "      values: \"mm3_\"\n",
       "      values: \"mm3_\"\n",
       "      values: \"mm3_\"\n",
       "    }\n",
       "  }\n",
       "}\n",
       "arrays {\n",
       "  key: \"particle.positions\"\n",
       "  value {\n",
       "    float_values {\n",
       "      values: 3.0395588874816895\n",
       "      values: 3.4653520584106445\n",
       "      values: 3.433654308319092\n",
       "      values: 3.066682815551758\n",
       "      values: 3.509533405303955\n",
       "      values: 3.3144454956054688\n",
       "      values: 3.1960055828094482\n",
       "      values: 3.5187671184539795\n",
       "      values: 3.301323175430298\n",
       "      values: 3.2534844875335693\n",
       "      values: 3.6281352043151855\n",
       "      values: 3.2505459785461426\n",
       "      values: 3.178591251373291\n",
       "      values: 3.7356832027435303\n",
       "      values: 3.246934175491333\n",
       "      values: 3.1892242431640625\n",
       "      values: 3.8189139366149902\n",
       "      values: 3.3505988121032715\n",
       "      values: 3.287447929382324\n",
       "      values: 3.7958767414093018\n",
       "      values: 3.4347431659698486\n",
       "      values: 3.2495152950286865\n",
       "      values: 3.7488739490509033\n",
       "      values: 3.552400588989258\n",
       "      values: 3.121621608734131\n",
       "      values: 3.7598071098327637\n",
       "      values: 3.6011459827423096\n",
       "      values: 3.0729382038116455\n",
       "      values: 3.64369797706604\n",
       "      values: 3.626415729522705\n",
       "      values: 3.159846544265747\n",
       "      values: 3.5438268184661865\n",
       "      values: 3.6003403663635254\n",
       "      values: 3.1280884742736816\n",
       "      values: 3.4334659576416016\n",
       "      values: 3.5268454551696777\n",
       "      values: 3.2284412384033203\n",
       "      values: 3.3638880252838135\n",
       "      values: 3.483168363571167\n",
       "      values: 3.274440288543701\n",
       "      values: 3.4235081672668457\n",
       "      values: 3.366980791091919\n",
       "      values: 3.4045462608337402\n",
       "      values: 3.437066078186035\n",
       "      values: 3.3334808349609375\n",
       "      values: 3.462358236312866\n",
       "      values: 3.548354148864746\n",
       "      values: 3.2856287956237793\n",
       "      values: 3.3836870193481445\n",
       "      values: 3.6575076580047607\n",
       "      values: 3.2790987491607666\n",
       "      values: 3.40592622756958\n",
       "      values: 3.7541086673736572\n",
       "      values: 3.3770534992218018\n",
       "      values: 3.496676445007324\n",
       "      values: 3.7259111404418945\n",
       "      values: 3.4754903316497803\n",
       "      values: 3.4604485034942627\n",
       "      values: 3.7016704082489014\n",
       "      values: 3.604029417037964\n",
       "      values: 3.3359386920928955\n",
       "      values: 3.6793394088745117\n",
       "      values: 3.6373822689056396\n",
       "      values: 3.2837164402008057\n",
       "      values: 3.5575320720672607\n",
       "      values: 3.661759853363037\n",
       "      values: 3.34903883934021\n",
       "      values: 3.444263219833374\n",
       "      values: 3.6580491065979004\n",
       "      values: 3.327569007873535\n",
       "      values: 3.3381781578063965\n",
       "      values: 3.5802745819091797\n",
       "      values: 3.4239776134490967\n",
       "      values: 3.2750084400177\n",
       "      values: 3.5111782550811768\n",
       "      values: 3.475069761276245\n",
       "      values: 3.354659080505371\n",
       "      values: 3.4057068824768066\n",
       "      values: 3.5901923179626465\n",
       "      values: 3.3402085304260254\n",
       "      values: 3.3451640605926514\n",
       "      values: 3.651141881942749\n",
       "      values: 3.4692177772521973\n",
       "      values: 3.3213748931884766\n",
       "      values: 3.5859034061431885\n",
       "      values: 3.58583402633667\n",
       "      values: 3.302811861038208\n",
       "      values: 3.602823257446289\n",
       "      values: 3.671029567718506\n",
       "      values: 3.41742205619812\n",
       "      values: 3.699228286743164\n",
       "      values: 3.6428301334381104\n",
       "      values: 3.5106966495513916\n",
       "      values: 3.667651891708374\n",
       "      values: 3.6216068267822266\n",
       "      values: 3.642752170562744\n",
       "      values: 3.5335452556610107\n",
       "      values: 3.6008782386779785\n",
       "      values: 3.656087636947632\n",
       "      values: 3.471496820449829\n",
       "      values: 3.474120855331421\n",
       "      values: 3.706468105316162\n",
       "      values: 3.5457777976989746\n",
       "      values: 3.364557981491089\n",
       "      values: 3.693070650100708\n",
       "      values: 3.519967555999756\n",
       "      values: 3.2560577392578125\n",
       "      values: 3.6051409244537354\n",
       "      values: 3.6283769607543945\n",
       "      values: 3.2081689834594727\n",
       "      values: 3.5395560264587402\n",
       "      values: 3.6634416580200195\n",
       "      values: 3.267904043197632\n",
       "      values: 3.426342010498047\n",
       "      values: 3.7905380725860596\n",
       "      values: 3.264357805252075\n",
       "      values: 3.383080005645752\n",
       "      values: 3.8471577167510986\n",
       "      values: 3.376991033554077\n",
       "      values: 3.351379871368408\n",
       "      values: 3.7787725925445557\n",
       "      values: 3.48728084564209\n",
       "      values: 3.355139970779419\n",
       "      values: 3.8028604984283447\n",
       "      values: 3.580343723297119\n",
       "      values: 3.4506285190582275\n",
       "      values: 3.8868181705474854\n",
       "      values: 3.55844783782959\n",
       "      values: 3.553957223892212\n",
       "      values: 3.8529841899871826\n",
       "      values: 3.5281786918640137\n",
       "      values: 3.684650421142578\n",
       "      values: 3.7208409309387207\n",
       "      values: 3.525120973587036\n",
       "      values: 3.70894455909729\n",
       "      values: 3.662975311279297\n",
       "      values: 3.4036078453063965\n",
       "      values: 3.7406883239746094\n",
       "      values: 3.7420125007629395\n",
       "      values: 3.294055938720703\n",
       "      values: 3.73901104927063\n",
       "      values: 3.7269604206085205\n",
       "      values: 3.2055866718292236\n",
       "      values: 3.630922555923462\n",
       "      values: 3.845792531967163\n",
       "      values: 3.1661791801452637\n",
       "      values: 3.5877716541290283\n",
       "      values: 3.8710923194885254\n",
       "      values: 3.1786696910858154\n",
       "      values: 3.45837664604187\n",
       "      values: 4.00647497177124\n",
       "      values: 3.1727287769317627\n",
       "      values: 3.4200093746185303\n",
       "      values: 4.058009147644043\n",
       "      values: 3.2871601581573486\n",
       "      values: 3.399953603744507\n",
       "      values: 3.970057964324951\n",
       "      values: 3.3912153244018555\n",
       "      values: 3.4112331867218018\n",
       "      values: 3.9851233959198\n",
       "      values: 3.4766111373901367\n",
       "      values: 3.5107526779174805\n",
       "      values: 4.089689254760742\n",
       "      values: 3.463512897491455\n",
       "      values: 3.586380958557129\n",
       "      values: 4.0569658279418945\n",
       "      values: 3.443986654281616\n",
       "      values: 3.718357563018799\n",
       "      values: 3.9266223907470703\n",
       "      values: 3.43611216545105\n",
       "      values: 3.748339891433716\n",
       "      values: 3.8711140155792236\n",
       "      values: 3.3112952709198\n",
       "      values: 3.775601625442505\n",
       "      values: 3.9495699405670166\n",
       "      values: 3.203134536743164\n",
       "      values: 3.778104782104492\n",
       "      values: 3.940207004547119\n",
       "      values: 3.124521017074585\n",
       "      values: 3.6729588508605957\n",
       "      values: 2.717318058013916\n",
       "      values: 3.8315820693969727\n",
       "      values: 3.368760585784912\n",
       "      values: 2.6235742568969727\n",
       "      values: 3.844898223876953\n",
       "      values: 3.4301066398620605\n",
       "      values: 2.7974467277526855\n",
       "      values: 3.906017541885376\n",
       "      values: 3.395461082458496\n",
       "      values: 2.7674648761749268\n",
       "      values: 3.735153913497925\n",
       "      values: 3.3899123668670654\n",
       "      values: 2.694537401199341\n",
       "      values: 3.8406412601470947\n",
       "      values: 3.2582743167877197\n",
       "    }\n",
       "  }\n",
       "}\n",
       "arrays {\n",
       "  key: \"particle.residues\"\n",
       "  value {\n",
       "    index_values {\n",
       "      values: 0\n",
       "      values: 0\n",
       "      values: 0\n",
       "      values: 0\n",
       "      values: 0\n",
       "      values: 0\n",
       "      values: 0\n",
       "      values: 0\n",
       "      values: 0\n",
       "      values: 0\n",
       "      values: 0\n",
       "      values: 0\n",
       "      values: 0\n",
       "      values: 0\n",
       "      values: 0\n",
       "      values: 0\n",
       "      values: 0\n",
       "      values: 0\n",
       "      values: 0\n",
       "      values: 0\n",
       "      values: 0\n",
       "      values: 0\n",
       "      values: 0\n",
       "      values: 0\n",
       "      values: 0\n",
       "      values: 0\n",
       "      values: 0\n",
       "      values: 0\n",
       "      values: 0\n",
       "      values: 0\n",
       "      values: 0\n",
       "      values: 0\n",
       "      values: 0\n",
       "      values: 0\n",
       "      values: 0\n",
       "      values: 0\n",
       "      values: 0\n",
       "      values: 0\n",
       "      values: 0\n",
       "      values: 0\n",
       "      values: 0\n",
       "      values: 0\n",
       "      values: 0\n",
       "      values: 0\n",
       "      values: 0\n",
       "      values: 0\n",
       "      values: 0\n",
       "      values: 0\n",
       "      values: 0\n",
       "      values: 0\n",
       "      values: 0\n",
       "      values: 0\n",
       "      values: 0\n",
       "      values: 0\n",
       "      values: 0\n",
       "      values: 0\n",
       "      values: 0\n",
       "      values: 0\n",
       "      values: 0\n",
       "      values: 0\n",
       "      values: 0\n",
       "      values: 0\n",
       "      values: 0\n",
       "      values: 0\n",
       "      values: 0\n",
       "    }\n",
       "  }\n",
       "}\n",
       "arrays {\n",
       "  key: \"residue.chains\"\n",
       "  value {\n",
       "    index_values {\n",
       "      values: 0\n",
       "    }\n",
       "  }\n",
       "}\n",
       "arrays {\n",
       "  key: \"residue.ids\"\n",
       "  value {\n",
       "    string_values {\n",
       "      values: \"1\"\n",
       "    }\n",
       "  }\n",
       "}\n",
       "arrays {\n",
       "  key: \"residue.names\"\n",
       "  value {\n",
       "    string_values {\n",
       "      values: \"mm3\"\n",
       "    }\n",
       "  }\n",
       "}\n",
       "arrays {\n",
       "  key: \"system.box.vectors\"\n",
       "  value {\n",
       "    float_values {\n",
       "      values: 7.0\n",
       "      values: 0.0\n",
       "      values: 0.0\n",
       "      values: 0.0\n",
       "      values: 7.0\n",
       "      values: 0.0\n",
       "      values: 0.0\n",
       "      values: 0.0\n",
       "      values: 7.0\n",
       "    }\n",
       "  }\n",
       "}"
      ]
     },
     "execution_count": 13,
     "metadata": {},
     "output_type": "execute_result"
    }
   ],
   "source": [
    "client.first_frame.raw"
   ]
  },
  {
   "cell_type": "code",
   "execution_count": null,
   "metadata": {},
   "outputs": [],
   "source": []
  }
 ],
 "metadata": {
  "extensions": {
   "jupyter_dashboards": {
    "activeView": "grid_default",
    "version": 1,
    "views": {
     "grid_default": {
      "cellMargin": 10,
      "defaultCellHeight": 20,
      "maxColumns": 12,
      "name": "grid",
      "type": "grid"
     },
     "report_default": {
      "name": "report",
      "type": "report"
     }
    }
   }
  },
  "hide_input": false,
  "kernelspec": {
   "display_name": "Python 3",
   "language": "python",
   "name": "python3"
  },
  "language_info": {
   "codemirror_mode": {
    "name": "ipython",
    "version": 3
   },
   "file_extension": ".py",
   "mimetype": "text/x-python",
   "name": "python",
   "nbconvert_exporter": "python",
   "pygments_lexer": "ipython3",
   "version": "3.7.3"
  },
  "toc": {
   "nav_menu": {},
   "number_sections": true,
   "sideBar": true,
   "skip_h1_title": false,
   "toc_cell": false,
   "toc_position": {},
   "toc_section_display": "block",
   "toc_window_display": false
  }
 },
 "nbformat": 4,
 "nbformat_minor": 2
}
