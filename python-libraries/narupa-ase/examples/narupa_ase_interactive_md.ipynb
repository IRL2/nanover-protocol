{
 "cells": [
  {
   "cell_type": "markdown",
   "metadata": {},
   "source": [
    "# Narupa ASE with Interactive Molecular Dynamics"
   ]
  },
  {
   "cell_type": "markdown",
   "metadata": {},
   "source": [
    "This notebook runs an OpenMM simulation of a nanotube with ASE, then uses the client to apply a force to it and NGLViewer to visualise it"
   ]
  },
  {
   "cell_type": "code",
   "execution_count": 1,
   "metadata": {
    "ExecuteTime": {
     "end_time": "2019-06-06T16:04:25.392952Z",
     "start_time": "2019-06-06T16:04:24.453212Z"
    },
    "extensions": {
     "jupyter_dashboards": {
      "version": 1,
      "views": {
       "grid_default": {
        "hidden": true
       },
       "report_default": {
        "hidden": true
       }
      }
     }
    }
   },
   "outputs": [
    {
     "data": {
      "application/vnd.jupyter.widget-view+json": {
       "model_id": "1724d80ffa8a4eeda238e165e95ebe0d",
       "version_major": 2,
       "version_minor": 0
      },
      "text/plain": [
       "_ColormakerRegistry()"
      ]
     },
     "metadata": {},
     "output_type": "display_data"
    }
   ],
   "source": [
    "from narupa.app.client import NarupaImdClient\n",
    "from narupa.ase.openmm import OpenMMIMDRunner\n",
    "from narupa.ase.converter import frame_data_to_ase\n",
    "from narupa.ase.nglclient import NGLClient\n",
    "from narupa.imd.particle_interaction import ParticleInteraction\n",
    "import numpy as np\n",
    "import nglview\n",
    "import MDAnalysis as mda\n",
    "import matplotlib.pyplot as plt\n",
    "from queue import Queue"
   ]
  },
  {
   "cell_type": "markdown",
   "metadata": {
    "extensions": {
     "jupyter_dashboards": {
      "version": 1,
      "views": {
       "grid_default": {
        "col": 0,
        "height": 4,
        "hidden": true,
        "row": 0,
        "width": 4
       },
       "report_default": {
        "hidden": false
       }
      }
     }
    }
   },
   "source": [
    "## Run the server"
   ]
  },
  {
   "cell_type": "markdown",
   "metadata": {
    "extensions": {
     "jupyter_dashboards": {
      "version": 1,
      "views": {
       "grid_default": {
        "col": 4,
        "height": 4,
        "hidden": true,
        "row": 0,
        "width": 4
       },
       "report_default": {
        "hidden": false
       }
      }
     }
    }
   },
   "source": [
    "Run the server. Here, we're using ASE, but it could be LAMMPS or OpenMM or anything else. "
   ]
  },
  {
   "cell_type": "code",
   "execution_count": 2,
   "metadata": {
    "ExecuteTime": {
     "end_time": "2019-06-06T16:04:25.397984Z",
     "start_time": "2019-06-06T16:04:25.395015Z"
    },
    "extensions": {
     "jupyter_dashboards": {
      "version": 1,
      "views": {
       "grid_default": {
        "hidden": true
       },
       "report_default": {
        "hidden": true
       }
      }
     }
    }
   },
   "outputs": [],
   "source": [
    "# set up an openmm simulation, or read from file. \n",
    "input_xml = \"nanotube.xml\"\n"
   ]
  },
  {
   "cell_type": "code",
   "execution_count": 3,
   "metadata": {
    "ExecuteTime": {
     "end_time": "2019-06-06T16:04:25.493146Z",
     "start_time": "2019-06-06T16:04:25.400442Z"
    },
    "extensions": {
     "jupyter_dashboards": {
      "version": 1,
      "views": {
       "grid_default": {
        "col": 8,
        "height": 12,
        "hidden": true,
        "row": 0,
        "width": 4
       },
       "report_default": {
        "hidden": false
       }
      }
     }
    },
    "scrolled": true
   },
   "outputs": [
    {
     "name": "stderr",
     "output_type": "stream",
     "text": [
      "C:\\Users\\Mark\\Anaconda3\\envs\\narupa-dev\\lib\\site-packages\\simtk\\openmm\\app\\internal\\pdbstructure.py:536: UserWarning: WARNING: duplicate atom (HETATM    2 mm3_ mm3 A   1      30.047  35.164  32.988  1.00  0.00           C  , HETATM    1 mm3_ mm3 A   1      29.729  34.950  34.124  1.00  0.00           C  )\n",
      "  warnings.warn(\"WARNING: duplicate atom (%s, %s)\" % (atom, old_atom._pdb_string(old_atom.serial_number, atom.alternate_location_indicator)))\n",
      "C:\\Users\\Mark\\Anaconda3\\envs\\narupa-dev\\lib\\site-packages\\simtk\\openmm\\app\\internal\\pdbstructure.py:536: UserWarning: WARNING: duplicate atom (HETATM    3 mm3_ mm3 A   1      31.361  35.154  32.407  1.00  0.00           C  , HETATM    2 mm3_ mm3 A   1      30.047  35.164  32.988  1.00  0.00           C  )\n",
      "  warnings.warn(\"WARNING: duplicate atom (%s, %s)\" % (atom, old_atom._pdb_string(old_atom.serial_number, atom.alternate_location_indicator)))\n",
      "C:\\Users\\Mark\\Anaconda3\\envs\\narupa-dev\\lib\\site-packages\\simtk\\openmm\\app\\internal\\pdbstructure.py:536: UserWarning: WARNING: duplicate atom (HETATM    4 mm3_ mm3 A   1      31.990  36.464  32.037  1.00  0.00           C  , HETATM    3 mm3_ mm3 A   1      31.361  35.154  32.407  1.00  0.00           C  )\n",
      "  warnings.warn(\"WARNING: duplicate atom (%s, %s)\" % (atom, old_atom._pdb_string(old_atom.serial_number, atom.alternate_location_indicator)))\n",
      "C:\\Users\\Mark\\Anaconda3\\envs\\narupa-dev\\lib\\site-packages\\simtk\\openmm\\app\\internal\\pdbstructure.py:536: UserWarning: WARNING: duplicate atom (HETATM    5 mm3_ mm3 A   1      31.251  37.673  32.280  1.00  0.00           C  , HETATM    4 mm3_ mm3 A   1      31.990  36.464  32.037  1.00  0.00           C  )\n",
      "  warnings.warn(\"WARNING: duplicate atom (%s, %s)\" % (atom, old_atom._pdb_string(old_atom.serial_number, atom.alternate_location_indicator)))\n",
      "C:\\Users\\Mark\\Anaconda3\\envs\\narupa-dev\\lib\\site-packages\\simtk\\openmm\\app\\internal\\pdbstructure.py:536: UserWarning: WARNING: duplicate atom (HETATM    6 mm3_ mm3 A   1      31.438  38.508  33.119  1.00  0.00           C  , HETATM    5 mm3_ mm3 A   1      31.251  37.673  32.280  1.00  0.00           C  )\n",
      "  warnings.warn(\"WARNING: duplicate atom (%s, %s)\" % (atom, old_atom._pdb_string(old_atom.serial_number, atom.alternate_location_indicator)))\n",
      "C:\\Users\\Mark\\Anaconda3\\envs\\narupa-dev\\lib\\site-packages\\simtk\\openmm\\app\\internal\\pdbstructure.py:536: UserWarning: WARNING: duplicate atom (HETATM    7 mm3_ mm3 A   1      32.460  38.555  34.126  1.00  0.00           C  , HETATM    6 mm3_ mm3 A   1      31.438  38.508  33.119  1.00  0.00           C  )\n",
      "  warnings.warn(\"WARNING: duplicate atom (%s, %s)\" % (atom, old_atom._pdb_string(old_atom.serial_number, atom.alternate_location_indicator)))\n",
      "C:\\Users\\Mark\\Anaconda3\\envs\\narupa-dev\\lib\\site-packages\\simtk\\openmm\\app\\internal\\pdbstructure.py:536: UserWarning: WARNING: duplicate atom (HETATM    8 mm3_ mm3 A   1      32.081  38.316  35.554  1.00  0.00           C  , HETATM    7 mm3_ mm3 A   1      32.460  38.555  34.126  1.00  0.00           C  )\n",
      "  warnings.warn(\"WARNING: duplicate atom (%s, %s)\" % (atom, old_atom._pdb_string(old_atom.serial_number, atom.alternate_location_indicator)))\n",
      "C:\\Users\\Mark\\Anaconda3\\envs\\narupa-dev\\lib\\site-packages\\simtk\\openmm\\app\\internal\\pdbstructure.py:536: UserWarning: WARNING: duplicate atom (HETATM    9 mm3_ mm3 A   1      30.700  38.168  35.890  1.00  0.00           C  , HETATM    8 mm3_ mm3 A   1      32.081  38.316  35.554  1.00  0.00           C  )\n",
      "  warnings.warn(\"WARNING: duplicate atom (%s, %s)\" % (atom, old_atom._pdb_string(old_atom.serial_number, atom.alternate_location_indicator)))\n",
      "C:\\Users\\Mark\\Anaconda3\\envs\\narupa-dev\\lib\\site-packages\\simtk\\openmm\\app\\internal\\pdbstructure.py:536: UserWarning: WARNING: duplicate atom (HETATM   10 mm3_ mm3 A   1      30.053  36.855  36.271  1.00  0.00           C  , HETATM    9 mm3_ mm3 A   1      30.700  38.168  35.890  1.00  0.00           C  )\n",
      "  warnings.warn(\"WARNING: duplicate atom (%s, %s)\" % (atom, old_atom._pdb_string(old_atom.serial_number, atom.alternate_location_indicator)))\n",
      "C:\\Users\\Mark\\Anaconda3\\envs\\narupa-dev\\lib\\site-packages\\simtk\\openmm\\app\\internal\\pdbstructure.py:536: UserWarning: WARNING: duplicate atom (HETATM   11 mm3_ mm3 A   1      30.789  35.629  36.314  1.00  0.00           C  , HETATM   10 mm3_ mm3 A   1      30.053  36.855  36.271  1.00  0.00           C  )\n",
      "  warnings.warn(\"WARNING: duplicate atom (%s, %s)\" % (atom, old_atom._pdb_string(old_atom.serial_number, atom.alternate_location_indicator)))\n",
      "C:\\Users\\Mark\\Anaconda3\\envs\\narupa-dev\\lib\\site-packages\\simtk\\openmm\\app\\internal\\pdbstructure.py:536: UserWarning: WARNING: duplicate atom (HETATM   12 mm3_ mm3 A   1      30.565  34.610  35.241  1.00  0.00           C  , HETATM   11 mm3_ mm3 A   1      30.789  35.629  36.314  1.00  0.00           C  )\n",
      "  warnings.warn(\"WARNING: duplicate atom (%s, %s)\" % (atom, old_atom._pdb_string(old_atom.serial_number, atom.alternate_location_indicator)))\n",
      "C:\\Users\\Mark\\Anaconda3\\envs\\narupa-dev\\lib\\site-packages\\simtk\\openmm\\app\\internal\\pdbstructure.py:536: UserWarning: WARNING: duplicate atom (HETATM   13 mm3_ mm3 A   1      31.823  33.918  34.703  1.00  0.00           C  , HETATM   12 mm3_ mm3 A   1      30.565  34.610  35.241  1.00  0.00           C  )\n",
      "  warnings.warn(\"WARNING: duplicate atom (%s, %s)\" % (atom, old_atom._pdb_string(old_atom.serial_number, atom.alternate_location_indicator)))\n",
      "C:\\Users\\Mark\\Anaconda3\\envs\\narupa-dev\\lib\\site-packages\\simtk\\openmm\\app\\internal\\pdbstructure.py:536: UserWarning: WARNING: duplicate atom (HETATM   14 mm3_ mm3 A   1      32.238  34.199  33.228  1.00  0.00           C  , HETATM   13 mm3_ mm3 A   1      31.823  33.918  34.703  1.00  0.00           C  )\n",
      "  warnings.warn(\"WARNING: duplicate atom (%s, %s)\" % (atom, old_atom._pdb_string(old_atom.serial_number, atom.alternate_location_indicator)))\n",
      "C:\\Users\\Mark\\Anaconda3\\envs\\narupa-dev\\lib\\site-packages\\simtk\\openmm\\app\\internal\\pdbstructure.py:536: UserWarning: WARNING: duplicate atom (HETATM   15 mm3_ mm3 A   1      33.710  34.171  32.947  1.00  0.00           C  , HETATM   14 mm3_ mm3 A   1      32.238  34.199  33.228  1.00  0.00           C  )\n",
      "  warnings.warn(\"WARNING: duplicate atom (%s, %s)\" % (atom, old_atom._pdb_string(old_atom.serial_number, atom.alternate_location_indicator)))\n",
      "C:\\Users\\Mark\\Anaconda3\\envs\\narupa-dev\\lib\\site-packages\\simtk\\openmm\\app\\internal\\pdbstructure.py:536: UserWarning: WARNING: duplicate atom (HETATM   16 mm3_ mm3 A   1      34.345  35.492  32.573  1.00  0.00           C  , HETATM   15 mm3_ mm3 A   1      33.710  34.171  32.947  1.00  0.00           C  )\n",
      "  warnings.warn(\"WARNING: duplicate atom (%s, %s)\" % (atom, old_atom._pdb_string(old_atom.serial_number, atom.alternate_location_indicator)))\n",
      "C:\\Users\\Mark\\Anaconda3\\envs\\narupa-dev\\lib\\site-packages\\simtk\\openmm\\app\\internal\\pdbstructure.py:536: UserWarning: WARNING: duplicate atom (HETATM   17 mm3_ mm3 A   1      33.429  36.677  32.527  1.00  0.00           C  , HETATM   16 mm3_ mm3 A   1      34.345  35.492  32.573  1.00  0.00           C  )\n",
      "  warnings.warn(\"WARNING: duplicate atom (%s, %s)\" % (atom, old_atom._pdb_string(old_atom.serial_number, atom.alternate_location_indicator)))\n",
      "C:\\Users\\Mark\\Anaconda3\\envs\\narupa-dev\\lib\\site-packages\\simtk\\openmm\\app\\internal\\pdbstructure.py:536: UserWarning: WARNING: duplicate atom (HETATM   18 mm3_ mm3 A   1      33.672  37.765  33.615  1.00  0.00           C  , HETATM   17 mm3_ mm3 A   1      33.429  36.677  32.527  1.00  0.00           C  )\n",
      "  warnings.warn(\"WARNING: duplicate atom (%s, %s)\" % (atom, old_atom._pdb_string(old_atom.serial_number, atom.alternate_location_indicator)))\n",
      "C:\\Users\\Mark\\Anaconda3\\envs\\narupa-dev\\lib\\site-packages\\simtk\\openmm\\app\\internal\\pdbstructure.py:536: UserWarning: WARNING: duplicate atom (HETATM   19 mm3_ mm3 A   1      34.784  37.487  34.578  1.00  0.00           C  , HETATM   18 mm3_ mm3 A   1      33.672  37.765  33.615  1.00  0.00           C  )\n",
      "  warnings.warn(\"WARNING: duplicate atom (%s, %s)\" % (atom, old_atom._pdb_string(old_atom.serial_number, atom.alternate_location_indicator)))\n",
      "C:\\Users\\Mark\\Anaconda3\\envs\\narupa-dev\\lib\\site-packages\\simtk\\openmm\\app\\internal\\pdbstructure.py:536: UserWarning: WARNING: duplicate atom (HETATM   20 mm3_ mm3 A   1      34.374  37.216  36.009  1.00  0.00           C  , HETATM   19 mm3_ mm3 A   1      34.784  37.487  34.578  1.00  0.00           C  )\n",
      "  warnings.warn(\"WARNING: duplicate atom (%s, %s)\" % (atom, old_atom._pdb_string(old_atom.serial_number, atom.alternate_location_indicator)))\n",
      "C:\\Users\\Mark\\Anaconda3\\envs\\narupa-dev\\lib\\site-packages\\simtk\\openmm\\app\\internal\\pdbstructure.py:536: UserWarning: WARNING: duplicate atom (HETATM   21 mm3_ mm3 A   1      32.900  37.261  36.294  1.00  0.00           C  , HETATM   20 mm3_ mm3 A   1      34.374  37.216  36.009  1.00  0.00           C  )\n",
      "  warnings.warn(\"WARNING: duplicate atom (%s, %s)\" % (atom, old_atom._pdb_string(old_atom.serial_number, atom.alternate_location_indicator)))\n",
      "C:\\Users\\Mark\\Anaconda3\\envs\\narupa-dev\\lib\\site-packages\\simtk\\openmm\\app\\internal\\pdbstructure.py:536: UserWarning: WARNING: duplicate atom (HETATM   22 mm3_ mm3 A   1      32.247  35.904  36.679  1.00  0.00           C  , HETATM   21 mm3_ mm3 A   1      32.900  37.261  36.294  1.00  0.00           C  )\n",
      "  warnings.warn(\"WARNING: duplicate atom (%s, %s)\" % (atom, old_atom._pdb_string(old_atom.serial_number, atom.alternate_location_indicator)))\n",
      "C:\\Users\\Mark\\Anaconda3\\envs\\narupa-dev\\lib\\site-packages\\simtk\\openmm\\app\\internal\\pdbstructure.py:536: UserWarning: WARNING: duplicate atom (HETATM   23 mm3_ mm3 A   1      33.176  34.723  36.714  1.00  0.00           C  , HETATM   22 mm3_ mm3 A   1      32.247  35.904  36.679  1.00  0.00           C  )\n",
      "  warnings.warn(\"WARNING: duplicate atom (%s, %s)\" % (atom, old_atom._pdb_string(old_atom.serial_number, atom.alternate_location_indicator)))\n",
      "C:\\Users\\Mark\\Anaconda3\\envs\\narupa-dev\\lib\\site-packages\\simtk\\openmm\\app\\internal\\pdbstructure.py:536: UserWarning: WARNING: duplicate atom (HETATM   24 mm3_ mm3 A   1      32.947  33.664  35.659  1.00  0.00           C  , HETATM   23 mm3_ mm3 A   1      33.176  34.723  36.714  1.00  0.00           C  )\n",
      "  warnings.warn(\"WARNING: duplicate atom (%s, %s)\" % (atom, old_atom._pdb_string(old_atom.serial_number, atom.alternate_location_indicator)))\n",
      "C:\\Users\\Mark\\Anaconda3\\envs\\narupa-dev\\lib\\site-packages\\simtk\\openmm\\app\\internal\\pdbstructure.py:536: UserWarning: WARNING: duplicate atom (HETATM   25 mm3_ mm3 A   1      34.162  32.946  35.158  1.00  0.00           C  , HETATM   24 mm3_ mm3 A   1      32.947  33.664  35.659  1.00  0.00           C  )\n",
      "  warnings.warn(\"WARNING: duplicate atom (%s, %s)\" % (atom, old_atom._pdb_string(old_atom.serial_number, atom.alternate_location_indicator)))\n",
      "C:\\Users\\Mark\\Anaconda3\\envs\\narupa-dev\\lib\\site-packages\\simtk\\openmm\\app\\internal\\pdbstructure.py:536: UserWarning: WARNING: duplicate atom (HETATM   26 mm3_ mm3 A   1      34.567  33.213  33.721  1.00  0.00           C  , HETATM   25 mm3_ mm3 A   1      34.162  32.946  35.158  1.00  0.00           C  )\n",
      "  warnings.warn(\"WARNING: duplicate atom (%s, %s)\" % (atom, old_atom._pdb_string(old_atom.serial_number, atom.alternate_location_indicator)))\n",
      "C:\\Users\\Mark\\Anaconda3\\envs\\narupa-dev\\lib\\site-packages\\simtk\\openmm\\app\\internal\\pdbstructure.py:536: UserWarning: WARNING: duplicate atom (HETATM   27 mm3_ mm3 A   1      36.040  33.186  33.429  1.00  0.00           C  , HETATM   26 mm3_ mm3 A   1      34.567  33.213  33.721  1.00  0.00           C  )\n",
      "  warnings.warn(\"WARNING: duplicate atom (%s, %s)\" % (atom, old_atom._pdb_string(old_atom.serial_number, atom.alternate_location_indicator)))\n",
      "C:\\Users\\Mark\\Anaconda3\\envs\\narupa-dev\\lib\\site-packages\\simtk\\openmm\\app\\internal\\pdbstructure.py:536: UserWarning: WARNING: duplicate atom (HETATM   28 mm3_ mm3 A   1      36.676  34.508  33.055  1.00  0.00           C  , HETATM   27 mm3_ mm3 A   1      36.040  33.186  33.429  1.00  0.00           C  )\n",
      "  warnings.warn(\"WARNING: duplicate atom (%s, %s)\" % (atom, old_atom._pdb_string(old_atom.serial_number, atom.alternate_location_indicator)))\n",
      "C:\\Users\\Mark\\Anaconda3\\envs\\narupa-dev\\lib\\site-packages\\simtk\\openmm\\app\\internal\\pdbstructure.py:536: UserWarning: WARNING: duplicate atom (HETATM   29 mm3_ mm3 A   1      35.763  35.700  33.018  1.00  0.00           C  , HETATM   28 mm3_ mm3 A   1      36.676  34.508  33.055  1.00  0.00           C  )\n",
      "  warnings.warn(\"WARNING: duplicate atom (%s, %s)\" % (atom, old_atom._pdb_string(old_atom.serial_number, atom.alternate_location_indicator)))\n",
      "C:\\Users\\Mark\\Anaconda3\\envs\\narupa-dev\\lib\\site-packages\\simtk\\openmm\\app\\internal\\pdbstructure.py:536: UserWarning: WARNING: duplicate atom (HETATM   30 mm3_ mm3 A   1      35.994  36.757  34.080  1.00  0.00           C  , HETATM   29 mm3_ mm3 A   1      35.763  35.700  33.018  1.00  0.00           C  )\n",
      "  warnings.warn(\"WARNING: duplicate atom (%s, %s)\" % (atom, old_atom._pdb_string(old_atom.serial_number, atom.alternate_location_indicator)))\n",
      "C:\\Users\\Mark\\Anaconda3\\envs\\narupa-dev\\lib\\site-packages\\simtk\\openmm\\app\\internal\\pdbstructure.py:536: UserWarning: WARNING: duplicate atom (HETATM   31 mm3_ mm3 A   1      37.108  36.496  35.050  1.00  0.00           C  , HETATM   30 mm3_ mm3 A   1      35.994  36.757  34.080  1.00  0.00           C  )\n",
      "  warnings.warn(\"WARNING: duplicate atom (%s, %s)\" % (atom, old_atom._pdb_string(old_atom.serial_number, atom.alternate_location_indicator)))\n",
      "C:\\Users\\Mark\\Anaconda3\\envs\\narupa-dev\\lib\\site-packages\\simtk\\openmm\\app\\internal\\pdbstructure.py:536: UserWarning: WARNING: duplicate atom (HETATM   32 mm3_ mm3 A   1      36.702  36.228  36.486  1.00  0.00           C  , HETATM   31 mm3_ mm3 A   1      37.108  36.496  35.050  1.00  0.00           C  )\n",
      "  warnings.warn(\"WARNING: duplicate atom (%s, %s)\" % (atom, old_atom._pdb_string(old_atom.serial_number, atom.alternate_location_indicator)))\n",
      "C:\\Users\\Mark\\Anaconda3\\envs\\narupa-dev\\lib\\site-packages\\simtk\\openmm\\app\\internal\\pdbstructure.py:536: UserWarning: WARNING: duplicate atom (HETATM   33 mm3_ mm3 A   1      35.229  36.255  36.778  1.00  0.00           C  , HETATM   32 mm3_ mm3 A   1      36.702  36.228  36.486  1.00  0.00           C  )\n",
      "  warnings.warn(\"WARNING: duplicate atom (%s, %s)\" % (atom, old_atom._pdb_string(old_atom.serial_number, atom.alternate_location_indicator)))\n",
      "C:\\Users\\Mark\\Anaconda3\\envs\\narupa-dev\\lib\\site-packages\\simtk\\openmm\\app\\internal\\pdbstructure.py:536: UserWarning: WARNING: duplicate atom (HETATM   34 mm3_ mm3 A   1      34.593  34.933  37.153  1.00  0.00           C  , HETATM   33 mm3_ mm3 A   1      35.229  36.255  36.778  1.00  0.00           C  )\n",
      "  warnings.warn(\"WARNING: duplicate atom (%s, %s)\" % (atom, old_atom._pdb_string(old_atom.serial_number, atom.alternate_location_indicator)))\n",
      "C:\\Users\\Mark\\Anaconda3\\envs\\narupa-dev\\lib\\site-packages\\simtk\\openmm\\app\\internal\\pdbstructure.py:536: UserWarning: WARNING: duplicate atom (HETATM   35 mm3_ mm3 A   1      35.506  33.741  37.190  1.00  0.00           C  , HETATM   34 mm3_ mm3 A   1      34.593  34.933  37.153  1.00  0.00           C  )\n",
      "  warnings.warn(\"WARNING: duplicate atom (%s, %s)\" % (atom, old_atom._pdb_string(old_atom.serial_number, atom.alternate_location_indicator)))\n",
      "C:\\Users\\Mark\\Anaconda3\\envs\\narupa-dev\\lib\\site-packages\\simtk\\openmm\\app\\internal\\pdbstructure.py:536: UserWarning: WARNING: duplicate atom (HETATM   36 mm3_ mm3 A   1      35.275  32.684  36.128  1.00  0.00           C  , HETATM   35 mm3_ mm3 A   1      35.506  33.741  37.190  1.00  0.00           C  )\n",
      "  warnings.warn(\"WARNING: duplicate atom (%s, %s)\" % (atom, old_atom._pdb_string(old_atom.serial_number, atom.alternate_location_indicator)))\n",
      "C:\\Users\\Mark\\Anaconda3\\envs\\narupa-dev\\lib\\site-packages\\simtk\\openmm\\app\\internal\\pdbstructure.py:536: UserWarning: WARNING: duplicate atom (HETATM   37 mm3_ mm3 A   1      36.485  31.955  35.629  1.00  0.00           C  , HETATM   36 mm3_ mm3 A   1      35.275  32.684  36.128  1.00  0.00           C  )\n",
      "  warnings.warn(\"WARNING: duplicate atom (%s, %s)\" % (atom, old_atom._pdb_string(old_atom.serial_number, atom.alternate_location_indicator)))\n",
      "C:\\Users\\Mark\\Anaconda3\\envs\\narupa-dev\\lib\\site-packages\\simtk\\openmm\\app\\internal\\pdbstructure.py:536: UserWarning: WARNING: duplicate atom (HETATM   38 mm3_ mm3 A   1      36.895  32.226  34.199  1.00  0.00           C  , HETATM   37 mm3_ mm3 A   1      36.485  31.955  35.629  1.00  0.00           C  )\n",
      "  warnings.warn(\"WARNING: duplicate atom (%s, %s)\" % (atom, old_atom._pdb_string(old_atom.serial_number, atom.alternate_location_indicator)))\n",
      "C:\\Users\\Mark\\Anaconda3\\envs\\narupa-dev\\lib\\site-packages\\simtk\\openmm\\app\\internal\\pdbstructure.py:536: UserWarning: WARNING: duplicate atom (HETATM   39 mm3_ mm3 A   1      38.369  32.180  33.914  1.00  0.00           C  , HETATM   38 mm3_ mm3 A   1      36.895  32.226  34.199  1.00  0.00           C  )\n",
      "  warnings.warn(\"WARNING: duplicate atom (%s, %s)\" % (atom, old_atom._pdb_string(old_atom.serial_number, atom.alternate_location_indicator)))\n",
      "C:\\Users\\Mark\\Anaconda3\\envs\\narupa-dev\\lib\\site-packages\\simtk\\openmm\\app\\internal\\pdbstructure.py:536: UserWarning: WARNING: duplicate atom (HETATM   40 mm3_ mm3 A   1      39.023  33.538  33.529  1.00  0.00           C  , HETATM   39 mm3_ mm3 A   1      38.369  32.180  33.914  1.00  0.00           C  )\n",
      "  warnings.warn(\"WARNING: duplicate atom (%s, %s)\" % (atom, old_atom._pdb_string(old_atom.serial_number, atom.alternate_location_indicator)))\n",
      "C:\\Users\\Mark\\Anaconda3\\envs\\narupa-dev\\lib\\site-packages\\simtk\\openmm\\app\\internal\\pdbstructure.py:536: UserWarning: WARNING: duplicate atom (HETATM   41 mm3_ mm3 A   1      38.094  34.718  33.493  1.00  0.00           C  , HETATM   40 mm3_ mm3 A   1      39.023  33.538  33.529  1.00  0.00           C  )\n",
      "  warnings.warn(\"WARNING: duplicate atom (%s, %s)\" % (atom, old_atom._pdb_string(old_atom.serial_number, atom.alternate_location_indicator)))\n",
      "C:\\Users\\Mark\\Anaconda3\\envs\\narupa-dev\\lib\\site-packages\\simtk\\openmm\\app\\internal\\pdbstructure.py:536: UserWarning: WARNING: duplicate atom (HETATM   42 mm3_ mm3 A   1      38.323  35.778  34.548  1.00  0.00           C  , HETATM   41 mm3_ mm3 A   1      38.094  34.718  33.493  1.00  0.00           C  )\n",
      "  warnings.warn(\"WARNING: duplicate atom (%s, %s)\" % (atom, old_atom._pdb_string(old_atom.serial_number, atom.alternate_location_indicator)))\n",
      "C:\\Users\\Mark\\Anaconda3\\envs\\narupa-dev\\lib\\site-packages\\simtk\\openmm\\app\\internal\\pdbstructure.py:536: UserWarning: WARNING: duplicate atom (HETATM   43 mm3_ mm3 A   1      39.446  35.524  35.505  1.00  0.00           C  , HETATM   42 mm3_ mm3 A   1      38.323  35.778  34.548  1.00  0.00           C  )\n",
      "  warnings.warn(\"WARNING: duplicate atom (%s, %s)\" % (atom, old_atom._pdb_string(old_atom.serial_number, atom.alternate_location_indicator)))\n",
      "C:\\Users\\Mark\\Anaconda3\\envs\\narupa-dev\\lib\\site-packages\\simtk\\openmm\\app\\internal\\pdbstructure.py:536: UserWarning: WARNING: duplicate atom (HETATM   44 mm3_ mm3 A   1      39.031  35.243  36.980  1.00  0.00           C  , HETATM   43 mm3_ mm3 A   1      39.446  35.524  35.505  1.00  0.00           C  )\n",
      "  warnings.warn(\"WARNING: duplicate atom (%s, %s)\" % (atom, old_atom._pdb_string(old_atom.serial_number, atom.alternate_location_indicator)))\n",
      "C:\\Users\\Mark\\Anaconda3\\envs\\narupa-dev\\lib\\site-packages\\simtk\\openmm\\app\\internal\\pdbstructure.py:536: UserWarning: WARNING: duplicate atom (HETATM   45 mm3_ mm3 A   1      37.559  35.271  37.260  1.00  0.00           C  , HETATM   44 mm3_ mm3 A   1      39.031  35.243  36.980  1.00  0.00           C  )\n",
      "  warnings.warn(\"WARNING: duplicate atom (%s, %s)\" % (atom, old_atom._pdb_string(old_atom.serial_number, atom.alternate_location_indicator)))\n",
      "C:\\Users\\Mark\\Anaconda3\\envs\\narupa-dev\\lib\\site-packages\\simtk\\openmm\\app\\internal\\pdbstructure.py:536: UserWarning: WARNING: duplicate atom (HETATM   46 mm3_ mm3 A   1      36.924  33.950  37.634  1.00  0.00           C  , HETATM   45 mm3_ mm3 A   1      37.559  35.271  37.260  1.00  0.00           C  )\n",
      "  warnings.warn(\"WARNING: duplicate atom (%s, %s)\" % (atom, old_atom._pdb_string(old_atom.serial_number, atom.alternate_location_indicator)))\n",
      "C:\\Users\\Mark\\Anaconda3\\envs\\narupa-dev\\lib\\site-packages\\simtk\\openmm\\app\\internal\\pdbstructure.py:536: UserWarning: WARNING: duplicate atom (HETATM   47 mm3_ mm3 A   1      37.840  32.764  37.681  1.00  0.00           C  , HETATM   46 mm3_ mm3 A   1      36.924  33.950  37.634  1.00  0.00           C  )\n",
      "  warnings.warn(\"WARNING: duplicate atom (%s, %s)\" % (atom, old_atom._pdb_string(old_atom.serial_number, atom.alternate_location_indicator)))\n",
      "C:\\Users\\Mark\\Anaconda3\\envs\\narupa-dev\\lib\\site-packages\\simtk\\openmm\\app\\internal\\pdbstructure.py:536: UserWarning: WARNING: duplicate atom (HETATM   48 mm3_ mm3 A   1      37.597  31.676  36.593  1.00  0.00           C  , HETATM   47 mm3_ mm3 A   1      37.840  32.764  37.681  1.00  0.00           C  )\n",
      "  warnings.warn(\"WARNING: duplicate atom (%s, %s)\" % (atom, old_atom._pdb_string(old_atom.serial_number, atom.alternate_location_indicator)))\n",
      "C:\\Users\\Mark\\Anaconda3\\envs\\narupa-dev\\lib\\site-packages\\simtk\\openmm\\app\\internal\\pdbstructure.py:536: UserWarning: WARNING: duplicate atom (HETATM   49 mm3_ mm3 A   1      38.809  30.886  36.082  1.00  0.00           C  , HETATM   48 mm3_ mm3 A   1      37.597  31.676  36.593  1.00  0.00           C  )\n",
      "  warnings.warn(\"WARNING: duplicate atom (%s, %s)\" % (atom, old_atom._pdb_string(old_atom.serial_number, atom.alternate_location_indicator)))\n",
      "C:\\Users\\Mark\\Anaconda3\\envs\\narupa-dev\\lib\\site-packages\\simtk\\openmm\\app\\internal\\pdbstructure.py:536: UserWarning: WARNING: duplicate atom (HETATM   50 mm3_ mm3 A   1      39.188  31.126  34.654  1.00  0.00           C  , HETATM   49 mm3_ mm3 A   1      38.809  30.886  36.082  1.00  0.00           C  )\n",
      "  warnings.warn(\"WARNING: duplicate atom (%s, %s)\" % (atom, old_atom._pdb_string(old_atom.serial_number, atom.alternate_location_indicator)))\n",
      "C:\\Users\\Mark\\Anaconda3\\envs\\narupa-dev\\lib\\site-packages\\simtk\\openmm\\app\\internal\\pdbstructure.py:536: UserWarning: WARNING: duplicate atom (HETATM   51 mm3_ mm3 A   1      40.570  31.274  34.320  1.00  0.00           C  , HETATM   50 mm3_ mm3 A   1      39.188  31.126  34.654  1.00  0.00           C  )\n",
      "  warnings.warn(\"WARNING: duplicate atom (%s, %s)\" % (atom, old_atom._pdb_string(old_atom.serial_number, atom.alternate_location_indicator)))\n",
      "C:\\Users\\Mark\\Anaconda3\\envs\\narupa-dev\\lib\\site-packages\\simtk\\openmm\\app\\internal\\pdbstructure.py:536: UserWarning: WARNING: duplicate atom (HETATM   52 mm3_ mm3 A   1      41.217  32.586  33.939  1.00  0.00           C  , HETATM   51 mm3_ mm3 A   1      40.570  31.274  34.320  1.00  0.00           C  )\n",
      "  warnings.warn(\"WARNING: duplicate atom (%s, %s)\" % (atom, old_atom._pdb_string(old_atom.serial_number, atom.alternate_location_indicator)))\n",
      "C:\\Users\\Mark\\Anaconda3\\envs\\narupa-dev\\lib\\site-packages\\simtk\\openmm\\app\\internal\\pdbstructure.py:536: UserWarning: WARNING: duplicate atom (HETATM   53 mm3_ mm3 A   1      40.481  33.812  33.894  1.00  0.00           C  , HETATM   52 mm3_ mm3 A   1      41.217  32.586  33.939  1.00  0.00           C  )\n",
      "  warnings.warn(\"WARNING: duplicate atom (%s, %s)\" % (atom, old_atom._pdb_string(old_atom.serial_number, atom.alternate_location_indicator)))\n",
      "C:\\Users\\Mark\\Anaconda3\\envs\\narupa-dev\\lib\\site-packages\\simtk\\openmm\\app\\internal\\pdbstructure.py:536: UserWarning: WARNING: duplicate atom (HETATM   54 mm3_ mm3 A   1      40.705  34.831  34.967  1.00  0.00           C  , HETATM   53 mm3_ mm3 A   1      40.481  33.812  33.894  1.00  0.00           C  )\n",
      "  warnings.warn(\"WARNING: duplicate atom (%s, %s)\" % (atom, old_atom._pdb_string(old_atom.serial_number, atom.alternate_location_indicator)))\n",
      "C:\\Users\\Mark\\Anaconda3\\envs\\narupa-dev\\lib\\site-packages\\simtk\\openmm\\app\\internal\\pdbstructure.py:536: UserWarning: WARNING: duplicate atom (HETATM   55 mm3_ mm3 A   1      41.541  34.490  36.084  1.00  0.00           C  , HETATM   54 mm3_ mm3 A   1      40.705  34.831  34.967  1.00  0.00           C  )\n",
      "  warnings.warn(\"WARNING: duplicate atom (%s, %s)\" % (atom, old_atom._pdb_string(old_atom.serial_number, atom.alternate_location_indicator)))\n",
      "C:\\Users\\Mark\\Anaconda3\\envs\\narupa-dev\\lib\\site-packages\\simtk\\openmm\\app\\internal\\pdbstructure.py:536: UserWarning: WARNING: duplicate atom (HETATM   56 mm3_ mm3 A   1      41.222  34.277  37.220  1.00  0.00           C  , HETATM   55 mm3_ mm3 A   1      41.541  34.490  36.084  1.00  0.00           C  )\n",
      "  warnings.warn(\"WARNING: duplicate atom (%s, %s)\" % (atom, old_atom._pdb_string(old_atom.serial_number, atom.alternate_location_indicator)))\n",
      "C:\\Users\\Mark\\Anaconda3\\envs\\narupa-dev\\lib\\site-packages\\simtk\\openmm\\app\\internal\\pdbstructure.py:536: UserWarning: WARNING: duplicate atom (HETATM   57 mm3_ mm3 A   1      39.908  34.287  37.801  1.00  0.00           C  , HETATM   56 mm3_ mm3 A   1      41.222  34.277  37.220  1.00  0.00           C  )\n",
      "  warnings.warn(\"WARNING: duplicate atom (%s, %s)\" % (atom, old_atom._pdb_string(old_atom.serial_number, atom.alternate_location_indicator)))\n",
      "C:\\Users\\Mark\\Anaconda3\\envs\\narupa-dev\\lib\\site-packages\\simtk\\openmm\\app\\internal\\pdbstructure.py:536: UserWarning: WARNING: duplicate atom (HETATM   58 mm3_ mm3 A   1      39.279  32.978  38.172  1.00  0.00           C  , HETATM   57 mm3_ mm3 A   1      39.908  34.287  37.801  1.00  0.00           C  )\n",
      "  warnings.warn(\"WARNING: duplicate atom (%s, %s)\" % (atom, old_atom._pdb_string(old_atom.serial_number, atom.alternate_location_indicator)))\n",
      "C:\\Users\\Mark\\Anaconda3\\envs\\narupa-dev\\lib\\site-packages\\simtk\\openmm\\app\\internal\\pdbstructure.py:536: UserWarning: WARNING: duplicate atom (HETATM   59 mm3_ mm3 A   1      40.017  31.769  37.928  1.00  0.00           C  , HETATM   58 mm3_ mm3 A   1      39.279  32.978  38.172  1.00  0.00           C  )\n",
      "  warnings.warn(\"WARNING: duplicate atom (%s, %s)\" % (atom, old_atom._pdb_string(old_atom.serial_number, atom.alternate_location_indicator)))\n",
      "C:\\Users\\Mark\\Anaconda3\\envs\\narupa-dev\\lib\\site-packages\\simtk\\openmm\\app\\internal\\pdbstructure.py:536: UserWarning: WARNING: duplicate atom (HETATM   60 mm3_ mm3 A   1      39.831  30.934  37.089  1.00  0.00           C  , HETATM   59 mm3_ mm3 A   1      40.017  31.769  37.928  1.00  0.00           C  )\n",
      "  warnings.warn(\"WARNING: duplicate atom (%s, %s)\" % (atom, old_atom._pdb_string(old_atom.serial_number, atom.alternate_location_indicator)))\n",
      "C:\\Users\\Mark\\Anaconda3\\envs\\narupa-dev\\lib\\site-packages\\simtk\\openmm\\app\\internal\\pdbstructure.py:536: UserWarning: WARNING: duplicate atom (HETATM   61 mm3_ mm3 A   1      27.387  38.353  33.755  1.00  0.00           C  , HETATM   60 mm3_ mm3 A   1      39.831  30.934  37.089  1.00  0.00           C  )\n",
      "  warnings.warn(\"WARNING: duplicate atom (%s, %s)\" % (atom, old_atom._pdb_string(old_atom.serial_number, atom.alternate_location_indicator)))\n",
      "C:\\Users\\Mark\\Anaconda3\\envs\\narupa-dev\\lib\\site-packages\\simtk\\openmm\\app\\internal\\pdbstructure.py:536: UserWarning: WARNING: duplicate atom (HETATM   62 mm3_ mm3 A   1      26.655  38.791  34.437  1.00  0.00           H  , HETATM   61 mm3_ mm3 A   1      27.387  38.353  33.755  1.00  0.00           C  )\n",
      "  warnings.warn(\"WARNING: duplicate atom (%s, %s)\" % (atom, old_atom._pdb_string(old_atom.serial_number, atom.alternate_location_indicator)))\n",
      "C:\\Users\\Mark\\Anaconda3\\envs\\narupa-dev\\lib\\site-packages\\simtk\\openmm\\app\\internal\\pdbstructure.py:536: UserWarning: WARNING: duplicate atom (HETATM   63 mm3_ mm3 A   1      28.292  38.964  33.754  1.00  0.00           H  , HETATM   62 mm3_ mm3 A   1      26.655  38.791  34.437  1.00  0.00           H  )\n",
      "  warnings.warn(\"WARNING: duplicate atom (%s, %s)\" % (atom, old_atom._pdb_string(old_atom.serial_number, atom.alternate_location_indicator)))\n",
      "C:\\Users\\Mark\\Anaconda3\\envs\\narupa-dev\\lib\\site-packages\\simtk\\openmm\\app\\internal\\pdbstructure.py:536: UserWarning: WARNING: duplicate atom (HETATM   64 mm3_ mm3 A   1      27.629  37.341  34.085  1.00  0.00           H  , HETATM   63 mm3_ mm3 A   1      28.292  38.964  33.754  1.00  0.00           H  )\n",
      "  warnings.warn(\"WARNING: duplicate atom (%s, %s)\" % (atom, old_atom._pdb_string(old_atom.serial_number, atom.alternate_location_indicator)))\n",
      "C:\\Users\\Mark\\Anaconda3\\envs\\narupa-dev\\lib\\site-packages\\simtk\\openmm\\app\\internal\\pdbstructure.py:536: UserWarning: WARNING: duplicate atom (HETATM   65 mm3_ mm3 A   1      26.971  38.317  32.746  1.00  0.00           H  , HETATM   64 mm3_ mm3 A   1      27.629  37.341  34.085  1.00  0.00           H  )\n",
      "  warnings.warn(\"WARNING: duplicate atom (%s, %s)\" % (atom, old_atom._pdb_string(old_atom.serial_number, atom.alternate_location_indicator)))\n"
     ]
    }
   ],
   "source": [
    "runner = OpenMMIMDRunner.from_xml(input_xml)"
   ]
  },
  {
   "cell_type": "markdown",
   "metadata": {
    "extensions": {
     "jupyter_dashboards": {
      "version": 1,
      "views": {
       "grid_default": {
        "col": 0,
        "height": 4,
        "hidden": true,
        "row": 4,
        "width": 4
       },
       "report_default": {
        "hidden": false
       }
      }
     }
    }
   },
   "source": [
    "Run dynamics in background thread"
   ]
  },
  {
   "cell_type": "code",
   "execution_count": 4,
   "metadata": {
    "ExecuteTime": {
     "end_time": "2019-06-06T16:04:25.725110Z",
     "start_time": "2019-06-06T16:04:25.701637Z"
    },
    "extensions": {
     "jupyter_dashboards": {
      "version": 1,
      "views": {
       "grid_default": {
        "hidden": true
       },
       "report_default": {
        "hidden": true
       }
      }
     }
    }
   },
   "outputs": [],
   "source": [
    "runner.run()"
   ]
  },
  {
   "cell_type": "code",
   "execution_count": 5,
   "metadata": {
    "ExecuteTime": {
     "end_time": "2019-06-06T16:04:25.876184Z",
     "start_time": "2019-06-06T16:04:25.800104Z"
    },
    "extensions": {
     "jupyter_dashboards": {
      "version": 1,
      "views": {
       "grid_default": {
        "col": 4,
        "height": 4,
        "hidden": true,
        "row": 0,
        "width": 4
       },
       "report_default": {
        "hidden": false
       }
      }
     }
    }
   },
   "outputs": [
    {
     "data": {
      "text/plain": [
       "1.5716311661542501"
      ]
     },
     "execution_count": 5,
     "metadata": {},
     "output_type": "execute_result"
    }
   ],
   "source": [
    "# print the time to check dynamics is running\n",
    "runner.dynamics.get_time()"
   ]
  },
  {
   "cell_type": "markdown",
   "metadata": {
    "extensions": {
     "jupyter_dashboards": {
      "version": 1,
      "views": {
       "grid_default": {
        "col": 0,
        "height": 4,
        "hidden": true,
        "row": 4,
        "width": 4
       },
       "report_default": {
        "hidden": false
       }
      }
     }
    }
   },
   "source": [
    "## Start an IMD client"
   ]
  },
  {
   "cell_type": "code",
   "execution_count": 6,
   "metadata": {
    "ExecuteTime": {
     "end_time": "2019-06-06T16:04:26.572274Z",
     "start_time": "2019-06-06T16:04:26.482553Z"
    },
    "extensions": {
     "jupyter_dashboards": {
      "version": 1,
      "views": {
       "grid_default": {
        "col": 0,
        "height": 19,
        "hidden": false,
        "row": 11,
        "width": 7
       },
       "report_default": {
        "hidden": false
       }
      }
     }
    }
   },
   "outputs": [],
   "source": [
    "client = NGLClient()"
   ]
  },
  {
   "cell_type": "code",
   "execution_count": 7,
   "metadata": {
    "ExecuteTime": {
     "end_time": "2019-06-06T16:04:26.674930Z",
     "start_time": "2019-06-06T16:04:26.619824Z"
    }
   },
   "outputs": [],
   "source": [
    "positions = np.array(client.latest_frame.particle_positions) * 10\n",
    "start_point = positions[60, :]\n",
    "first_nanotube_anchor = positions[0, :]\n",
    "last_nanotube_anchor = positions[59, :]"
   ]
  },
  {
   "cell_type": "code",
   "execution_count": 8,
   "metadata": {
    "ExecuteTime": {
     "end_time": "2019-06-06T16:04:26.778540Z",
     "start_time": "2019-06-06T16:04:26.721845Z"
    }
   },
   "outputs": [],
   "source": [
    "anchor1 = ParticleInteraction(position=first_nanotube_anchor, scale=5000, particles=(0,), interaction_type='gaussian')\n",
    "anchor2 = ParticleInteraction(position=last_nanotube_anchor, scale=5000, particles=(59,), interaction_type='gaussian')\n",
    "\n",
    "anchor1_id = client.start_interaction()\n",
    "client.update_interaction(anchor1_id, anchor1)\n",
    "anchor2_id = client.start_interaction()\n",
    "client.update_interaction(anchor2_id, anchor2)"
   ]
  },
  {
   "cell_type": "code",
   "execution_count": 9,
   "metadata": {
    "ExecuteTime": {
     "end_time": "2019-06-06T16:04:26.884708Z",
     "start_time": "2019-06-06T16:04:26.827325Z"
    }
   },
   "outputs": [],
   "source": [
    "interaction = ParticleInteraction(position=start_point, scale=10000, particles=(60,), interaction_type='spring')\n",
    "interaction_id = client.start_interaction()\n",
    "client.update_interaction(interaction_id, interaction)"
   ]
  },
  {
   "cell_type": "code",
   "execution_count": 10,
   "metadata": {
    "ExecuteTime": {
     "end_time": "2019-06-06T16:04:27.291228Z",
     "start_time": "2019-06-06T16:04:26.945620Z"
    },
    "extensions": {
     "jupyter_dashboards": {
      "version": 1,
      "views": {
       "grid_default": {
        "col": 0,
        "height": 11,
        "hidden": false,
        "row": 0,
        "width": 12
       },
       "report_default": {
        "hidden": false
       }
      }
     }
    }
   },
   "outputs": [
    {
     "data": {
      "application/vnd.jupyter.widget-view+json": {
       "model_id": "a058e7509db04f3b9bb3896d01108497",
       "version_major": 2,
       "version_minor": 0
      },
      "text/plain": [
       "NGLWidget()"
      ]
     },
     "metadata": {},
     "output_type": "display_data"
    }
   ],
   "source": [
    "client.view"
   ]
  },
  {
   "cell_type": "code",
   "execution_count": 11,
   "metadata": {
    "ExecuteTime": {
     "end_time": "2019-06-06T16:04:27.384256Z",
     "start_time": "2019-06-06T16:04:27.347583Z"
    }
   },
   "outputs": [],
   "source": [
    "client.view.shape.add_sphere(list(start_point), [1, 0, 0], 0.5)\n",
    "client.view.shape.add_sphere(list(first_nanotube_anchor), [1, 0, 1], 0.5)\n",
    "client.view.shape.add_sphere(list(last_nanotube_anchor), [1, 1, 0], 0.5)"
   ]
  },
  {
   "cell_type": "code",
   "execution_count": 12,
   "metadata": {},
   "outputs": [
    {
     "data": {
      "text/plain": [
       "values {\n",
       "  key: \"chain.count\"\n",
       "  value {\n",
       "    number_value: 1.0\n",
       "  }\n",
       "}\n",
       "values {\n",
       "  key: \"energy.kinetic\"\n",
       "  value {\n",
       "    number_value: 2077.1874125813656\n",
       "  }\n",
       "}\n",
       "values {\n",
       "  key: \"energy.potential\"\n",
       "  value {\n",
       "    number_value: 2197.440185546875\n",
       "  }\n",
       "}\n",
       "values {\n",
       "  key: \"particle.count\"\n",
       "  value {\n",
       "    number_value: 65.0\n",
       "  }\n",
       "}\n",
       "values {\n",
       "  key: \"residue.count\"\n",
       "  value {\n",
       "    number_value: 1.0\n",
       "  }\n",
       "}\n",
       "arrays {\n",
       "  key: \"bond.pairs\"\n",
       "  value {\n",
       "    index_values {\n",
       "      values: 0\n",
       "      values: 1\n",
       "      values: 0\n",
       "      values: 11\n",
       "      values: 1\n",
       "      values: 2\n",
       "      values: 2\n",
       "      values: 3\n",
       "      values: 2\n",
       "      values: 13\n",
       "      values: 3\n",
       "      values: 4\n",
       "      values: 3\n",
       "      values: 16\n",
       "      values: 4\n",
       "      values: 5\n",
       "      values: 5\n",
       "      values: 6\n",
       "      values: 6\n",
       "      values: 7\n",
       "      values: 6\n",
       "      values: 17\n",
       "      values: 7\n",
       "      values: 8\n",
       "      values: 7\n",
       "      values: 20\n",
       "      values: 8\n",
       "      values: 9\n",
       "      values: 9\n",
       "      values: 10\n",
       "      values: 10\n",
       "      values: 11\n",
       "      values: 10\n",
       "      values: 21\n",
       "      values: 11\n",
       "      values: 12\n",
       "      values: 12\n",
       "      values: 13\n",
       "      values: 12\n",
       "      values: 23\n",
       "      values: 13\n",
       "      values: 14\n",
       "      values: 14\n",
       "      values: 15\n",
       "      values: 14\n",
       "      values: 25\n",
       "      values: 15\n",
       "      values: 16\n",
       "      values: 15\n",
       "      values: 28\n",
       "      values: 16\n",
       "      values: 17\n",
       "      values: 17\n",
       "      values: 18\n",
       "      values: 18\n",
       "      values: 19\n",
       "      values: 18\n",
       "      values: 29\n",
       "      values: 19\n",
       "      values: 20\n",
       "      values: 19\n",
       "      values: 32\n",
       "      values: 20\n",
       "      values: 21\n",
       "      values: 21\n",
       "      values: 22\n",
       "      values: 22\n",
       "      values: 23\n",
       "      values: 22\n",
       "      values: 33\n",
       "      values: 23\n",
       "      values: 24\n",
       "      values: 24\n",
       "      values: 25\n",
       "      values: 24\n",
       "      values: 35\n",
       "      values: 25\n",
       "      values: 26\n",
       "      values: 26\n",
       "      values: 27\n",
       "      values: 26\n",
       "      values: 37\n",
       "      values: 27\n",
       "      values: 28\n",
       "      values: 27\n",
       "      values: 40\n",
       "      values: 28\n",
       "      values: 29\n",
       "      values: 29\n",
       "      values: 30\n",
       "      values: 30\n",
       "      values: 31\n",
       "      values: 30\n",
       "      values: 41\n",
       "      values: 31\n",
       "      values: 32\n",
       "      values: 31\n",
       "      values: 44\n",
       "      values: 32\n",
       "      values: 33\n",
       "      values: 33\n",
       "      values: 34\n",
       "      values: 34\n",
       "      values: 35\n",
       "      values: 34\n",
       "      values: 45\n",
       "      values: 35\n",
       "      values: 36\n",
       "      values: 36\n",
       "      values: 37\n",
       "      values: 36\n",
       "      values: 47\n",
       "      values: 37\n",
       "      values: 38\n",
       "      values: 38\n",
       "      values: 39\n",
       "      values: 38\n",
       "      values: 49\n",
       "      values: 39\n",
       "      values: 40\n",
       "      values: 39\n",
       "      values: 52\n",
       "      values: 40\n",
       "      values: 41\n",
       "      values: 41\n",
       "      values: 42\n",
       "      values: 42\n",
       "      values: 43\n",
       "      values: 42\n",
       "      values: 53\n",
       "      values: 43\n",
       "      values: 44\n",
       "      values: 43\n",
       "      values: 56\n",
       "      values: 44\n",
       "      values: 45\n",
       "      values: 45\n",
       "      values: 46\n",
       "      values: 46\n",
       "      values: 47\n",
       "      values: 46\n",
       "      values: 57\n",
       "      values: 47\n",
       "      values: 48\n",
       "      values: 48\n",
       "      values: 49\n",
       "      values: 48\n",
       "      values: 59\n",
       "      values: 49\n",
       "      values: 50\n",
       "      values: 50\n",
       "      values: 51\n",
       "      values: 51\n",
       "      values: 52\n",
       "      values: 52\n",
       "      values: 53\n",
       "      values: 53\n",
       "      values: 54\n",
       "      values: 54\n",
       "      values: 55\n",
       "      values: 55\n",
       "      values: 56\n",
       "      values: 56\n",
       "      values: 57\n",
       "      values: 57\n",
       "      values: 58\n",
       "      values: 58\n",
       "      values: 59\n",
       "      values: 60\n",
       "      values: 61\n",
       "      values: 60\n",
       "      values: 62\n",
       "      values: 60\n",
       "      values: 63\n",
       "      values: 60\n",
       "      values: 64\n",
       "    }\n",
       "  }\n",
       "}\n",
       "arrays {\n",
       "  key: \"chain.names\"\n",
       "  value {\n",
       "    string_values {\n",
       "      values: \"A\"\n",
       "    }\n",
       "  }\n",
       "}\n",
       "arrays {\n",
       "  key: \"particle.elements\"\n",
       "  value {\n",
       "    index_values {\n",
       "      values: 6\n",
       "      values: 6\n",
       "      values: 6\n",
       "      values: 6\n",
       "      values: 6\n",
       "      values: 6\n",
       "      values: 6\n",
       "      values: 6\n",
       "      values: 6\n",
       "      values: 6\n",
       "      values: 6\n",
       "      values: 6\n",
       "      values: 6\n",
       "      values: 6\n",
       "      values: 6\n",
       "      values: 6\n",
       "      values: 6\n",
       "      values: 6\n",
       "      values: 6\n",
       "      values: 6\n",
       "      values: 6\n",
       "      values: 6\n",
       "      values: 6\n",
       "      values: 6\n",
       "      values: 6\n",
       "      values: 6\n",
       "      values: 6\n",
       "      values: 6\n",
       "      values: 6\n",
       "      values: 6\n",
       "      values: 6\n",
       "      values: 6\n",
       "      values: 6\n",
       "      values: 6\n",
       "      values: 6\n",
       "      values: 6\n",
       "      values: 6\n",
       "      values: 6\n",
       "      values: 6\n",
       "      values: 6\n",
       "      values: 6\n",
       "      values: 6\n",
       "      values: 6\n",
       "      values: 6\n",
       "      values: 6\n",
       "      values: 6\n",
       "      values: 6\n",
       "      values: 6\n",
       "      values: 6\n",
       "      values: 6\n",
       "      values: 6\n",
       "      values: 6\n",
       "      values: 6\n",
       "      values: 6\n",
       "      values: 6\n",
       "      values: 6\n",
       "      values: 6\n",
       "      values: 6\n",
       "      values: 6\n",
       "      values: 6\n",
       "      values: 6\n",
       "      values: 1\n",
       "      values: 1\n",
       "      values: 1\n",
       "      values: 1\n",
       "    }\n",
       "  }\n",
       "}\n",
       "arrays {\n",
       "  key: \"particle.names\"\n",
       "  value {\n",
       "    string_values {\n",
       "      values: \"mm3_\"\n",
       "      values: \"mm3_\"\n",
       "      values: \"mm3_\"\n",
       "      values: \"mm3_\"\n",
       "      values: \"mm3_\"\n",
       "      values: \"mm3_\"\n",
       "      values: \"mm3_\"\n",
       "      values: \"mm3_\"\n",
       "      values: \"mm3_\"\n",
       "      values: \"mm3_\"\n",
       "      values: \"mm3_\"\n",
       "      values: \"mm3_\"\n",
       "      values: \"mm3_\"\n",
       "      values: \"mm3_\"\n",
       "      values: \"mm3_\"\n",
       "      values: \"mm3_\"\n",
       "      values: \"mm3_\"\n",
       "      values: \"mm3_\"\n",
       "      values: \"mm3_\"\n",
       "      values: \"mm3_\"\n",
       "      values: \"mm3_\"\n",
       "      values: \"mm3_\"\n",
       "      values: \"mm3_\"\n",
       "      values: \"mm3_\"\n",
       "      values: \"mm3_\"\n",
       "      values: \"mm3_\"\n",
       "      values: \"mm3_\"\n",
       "      values: \"mm3_\"\n",
       "      values: \"mm3_\"\n",
       "      values: \"mm3_\"\n",
       "      values: \"mm3_\"\n",
       "      values: \"mm3_\"\n",
       "      values: \"mm3_\"\n",
       "      values: \"mm3_\"\n",
       "      values: \"mm3_\"\n",
       "      values: \"mm3_\"\n",
       "      values: \"mm3_\"\n",
       "      values: \"mm3_\"\n",
       "      values: \"mm3_\"\n",
       "      values: \"mm3_\"\n",
       "      values: \"mm3_\"\n",
       "      values: \"mm3_\"\n",
       "      values: \"mm3_\"\n",
       "      values: \"mm3_\"\n",
       "      values: \"mm3_\"\n",
       "      values: \"mm3_\"\n",
       "      values: \"mm3_\"\n",
       "      values: \"mm3_\"\n",
       "      values: \"mm3_\"\n",
       "      values: \"mm3_\"\n",
       "      values: \"mm3_\"\n",
       "      values: \"mm3_\"\n",
       "      values: \"mm3_\"\n",
       "      values: \"mm3_\"\n",
       "      values: \"mm3_\"\n",
       "      values: \"mm3_\"\n",
       "      values: \"mm3_\"\n",
       "      values: \"mm3_\"\n",
       "      values: \"mm3_\"\n",
       "      values: \"mm3_\"\n",
       "      values: \"mm3_\"\n",
       "      values: \"mm3_\"\n",
       "      values: \"mm3_\"\n",
       "      values: \"mm3_\"\n",
       "      values: \"mm3_\"\n",
       "    }\n",
       "  }\n",
       "}\n",
       "arrays {\n",
       "  key: \"particle.positions\"\n",
       "  value {\n",
       "    float_values {\n",
       "      values: 3.0217843055725098\n",
       "      values: 3.5055811405181885\n",
       "      values: 3.4444143772125244\n",
       "      values: 3.0501320362091064\n",
       "      values: 3.5131499767303467\n",
       "      values: 3.316816806793213\n",
       "      values: 3.185300588607788\n",
       "      values: 3.506762981414795\n",
       "      values: 3.3021743297576904\n",
       "      values: 3.244312286376953\n",
       "      values: 3.6219301223754883\n",
       "      values: 3.2655458450317383\n",
       "      values: 3.1539406776428223\n",
       "      values: 3.725433588027954\n",
       "      values: 3.2406599521636963\n",
       "      values: 3.1672816276550293\n",
       "      values: 3.8152406215667725\n",
       "      values: 3.3397533893585205\n",
       "      values: 3.2769975662231445\n",
       "      values: 3.777723550796509\n",
       "      values: 3.421144485473633\n",
       "      values: 3.244403839111328\n",
       "      values: 3.7505171298980713\n",
       "      values: 3.5450804233551025\n",
       "      values: 3.1296627521514893\n",
       "      values: 3.784611940383911\n",
       "      values: 3.5841033458709717\n",
       "      values: 3.0767438411712646\n",
       "      values: 3.671776533126831\n",
       "      values: 3.6242728233337402\n",
       "      values: 3.167078971862793\n",
       "      values: 3.5846147537231445\n",
       "      values: 3.6009364128112793\n",
       "      values: 3.1425058841705322\n",
       "      values: 3.49080753326416\n",
       "      values: 3.5125515460968018\n",
       "      values: 3.2492847442626953\n",
       "      values: 3.418011426925659\n",
       "      values: 3.4805469512939453\n",
       "      values: 3.270568609237671\n",
       "      values: 3.4320316314697266\n",
       "      values: 3.3604965209960938\n",
       "      values: 3.391615867614746\n",
       "      values: 3.424839735031128\n",
       "      values: 3.3387465476989746\n",
       "      values: 3.4436943531036377\n",
       "      values: 3.537942409515381\n",
       "      values: 3.3201348781585693\n",
       "      values: 3.3675343990325928\n",
       "      values: 3.632840394973755\n",
       "      values: 3.2961008548736572\n",
       "      values: 3.3909060955047607\n",
       "      values: 3.717193603515625\n",
       "      values: 3.38751482963562\n",
       "      values: 3.489272356033325\n",
       "      values: 3.699101448059082\n",
       "      values: 3.4588980674743652\n",
       "      values: 3.462501049041748\n",
       "      values: 3.6813673973083496\n",
       "      values: 3.584848165512085\n",
       "      values: 3.3350205421447754\n",
       "      values: 3.689490795135498\n",
       "      values: 3.6136960983276367\n",
       "      values: 3.286393880844116\n",
       "      values: 3.580005407333374\n",
       "      values: 3.646339178085327\n",
       "      values: 3.3688111305236816\n",
       "      values: 3.4783828258514404\n",
       "      values: 3.6405880451202393\n",
       "      values: 3.348445177078247\n",
       "      values: 3.391599655151367\n",
       "      values: 3.553098440170288\n",
       "      values: 3.4465017318725586\n",
       "      values: 3.331319808959961\n",
       "      values: 3.515641212463379\n",
       "      values: 3.4732956886291504\n",
       "      values: 3.3496198654174805\n",
       "      values: 3.397958993911743\n",
       "      values: 3.5951385498046875\n",
       "      values: 3.350304365158081\n",
       "      values: 3.379756212234497\n",
       "      values: 3.648789644241333\n",
       "      values: 3.4514245986938477\n",
       "      values: 3.3417232036590576\n",
       "      values: 3.5676143169403076\n",
       "      values: 3.546489953994751\n",
       "      values: 3.3452374935150146\n",
       "      values: 3.588286876678467\n",
       "      values: 3.631101369857788\n",
       "      values: 3.428298234939575\n",
       "      values: 3.6846513748168945\n",
       "      values: 3.613774299621582\n",
       "      values: 3.5012006759643555\n",
       "      values: 3.6582579612731934\n",
       "      values: 3.600879430770874\n",
       "      values: 3.6194839477539062\n",
       "      values: 3.5386898517608643\n",
       "      values: 3.598635196685791\n",
       "      values: 3.647697925567627\n",
       "      values: 3.4919188022613525\n",
       "      values: 3.4899661540985107\n",
       "      values: 3.663642644882202\n",
       "      values: 3.5647964477539062\n",
       "      values: 3.391145944595337\n",
       "      values: 3.665761947631836\n",
       "      values: 3.53753924369812\n",
       "      values: 3.299870014190674\n",
       "      values: 3.5882606506347656\n",
       "      values: 3.6346733570098877\n",
       "      values: 3.2300260066986084\n",
       "      values: 3.5560240745544434\n",
       "      values: 3.673630714416504\n",
       "      values: 3.2645325660705566\n",
       "      values: 3.434953451156616\n",
       "      values: 3.8031599521636963\n",
       "      values: 3.258542776107788\n",
       "      values: 3.419390916824341\n",
       "      values: 3.852538585662842\n",
       "      values: 3.368259906768799\n",
       "      values: 3.3828229904174805\n",
       "      values: 3.766563653945923\n",
       "      values: 3.459576368331909\n",
       "      values: 3.396730422973633\n",
       "      values: 3.7927663326263428\n",
       "      values: 3.559443235397339\n",
       "      values: 3.471301555633545\n",
       "      values: 3.8833518028259277\n",
       "      values: 3.531508207321167\n",
       "      values: 3.551185131072998\n",
       "      values: 3.8587822914123535\n",
       "      values: 3.513566255569458\n",
       "      values: 3.6701653003692627\n",
       "      values: 3.7328951358795166\n",
       "      values: 3.516606569290161\n",
       "      values: 3.6816415786743164\n",
       "      values: 3.6844496726989746\n",
       "      values: 3.4021120071411133\n",
       "      values: 3.6972784996032715\n",
       "      values: 3.765824794769287\n",
       "      values: 3.308525323867798\n",
       "      values: 3.7049219608306885\n",
       "      values: 3.7313332557678223\n",
       "      values: 3.213719367980957\n",
       "      values: 3.6333365440368652\n",
       "      values: 3.8445920944213867\n",
       "      values: 3.1544249057769775\n",
       "      values: 3.5998573303222656\n",
       "      values: 3.8918888568878174\n",
       "      values: 3.2018165588378906\n",
       "      values: 3.4916558265686035\n",
       "      values: 4.008950710296631\n",
       "      values: 3.167154550552368\n",
       "      values: 3.4559597969055176\n",
       "      values: 4.062723159790039\n",
       "      values: 3.2822535037994385\n",
       "      values: 3.4155869483947754\n",
       "      values: 3.970684051513672\n",
       "      values: 3.3689987659454346\n",
       "      values: 3.430079221725464\n",
       "      values: 3.9939560890197754\n",
       "      values: 3.462655544281006\n",
       "      values: 3.5180134773254395\n",
       "      values: 4.109352111816406\n",
       "      values: 3.453037738800049\n",
       "      values: 3.5920896530151367\n",
       "      values: 4.072368144989014\n",
       "      values: 3.441769599914551\n",
       "      values: 3.7177205085754395\n",
       "      values: 3.9397547245025635\n",
       "      values: 3.432725429534912\n",
       "      values: 3.7270853519439697\n",
       "      values: 3.889108657836914\n",
       "      values: 3.3083372116088867\n",
       "      values: 3.738046646118164\n",
       "      values: 3.9660165309906006\n",
       "      values: 3.199430227279663\n",
       "      values: 3.776397228240967\n",
       "      values: 3.937997341156006\n",
       "      values: 3.101902484893799\n",
       "      values: 3.689213991165161\n",
       "      values: 2.7479398250579834\n",
       "      values: 3.819917678833008\n",
       "      values: 3.3859517574310303\n",
       "      values: 2.710408926010132\n",
       "      values: 3.8618359565734863\n",
       "      values: 3.4815001487731934\n",
       "      values: 2.848234176635742\n",
       "      values: 3.868474006652832\n",
       "      values: 3.360790491104126\n",
       "      values: 2.7649199962615967\n",
       "      values: 3.709465980529785\n",
       "      values: 3.3846874237060547\n",
       "      values: 2.667907238006592\n",
       "      values: 3.8363397121429443\n",
       "      values: 3.3095176219940186\n",
       "    }\n",
       "  }\n",
       "}\n",
       "arrays {\n",
       "  key: \"particle.residues\"\n",
       "  value {\n",
       "    index_values {\n",
       "      values: 0\n",
       "      values: 0\n",
       "      values: 0\n",
       "      values: 0\n",
       "      values: 0\n",
       "      values: 0\n",
       "      values: 0\n",
       "      values: 0\n",
       "      values: 0\n",
       "      values: 0\n",
       "      values: 0\n",
       "      values: 0\n",
       "      values: 0\n",
       "      values: 0\n",
       "      values: 0\n",
       "      values: 0\n",
       "      values: 0\n",
       "      values: 0\n",
       "      values: 0\n",
       "      values: 0\n",
       "      values: 0\n",
       "      values: 0\n",
       "      values: 0\n",
       "      values: 0\n",
       "      values: 0\n",
       "      values: 0\n",
       "      values: 0\n",
       "      values: 0\n",
       "      values: 0\n",
       "      values: 0\n",
       "      values: 0\n",
       "      values: 0\n",
       "      values: 0\n",
       "      values: 0\n",
       "      values: 0\n",
       "      values: 0\n",
       "      values: 0\n",
       "      values: 0\n",
       "      values: 0\n",
       "      values: 0\n",
       "      values: 0\n",
       "      values: 0\n",
       "      values: 0\n",
       "      values: 0\n",
       "      values: 0\n",
       "      values: 0\n",
       "      values: 0\n",
       "      values: 0\n",
       "      values: 0\n",
       "      values: 0\n",
       "      values: 0\n",
       "      values: 0\n",
       "      values: 0\n",
       "      values: 0\n",
       "      values: 0\n",
       "      values: 0\n",
       "      values: 0\n",
       "      values: 0\n",
       "      values: 0\n",
       "      values: 0\n",
       "      values: 0\n",
       "      values: 0\n",
       "      values: 0\n",
       "      values: 0\n",
       "      values: 0\n",
       "    }\n",
       "  }\n",
       "}\n",
       "arrays {\n",
       "  key: \"residue.chains\"\n",
       "  value {\n",
       "    index_values {\n",
       "      values: 0\n",
       "    }\n",
       "  }\n",
       "}\n",
       "arrays {\n",
       "  key: \"residue.ids\"\n",
       "  value {\n",
       "    string_values {\n",
       "      values: \"1\"\n",
       "    }\n",
       "  }\n",
       "}\n",
       "arrays {\n",
       "  key: \"residue.names\"\n",
       "  value {\n",
       "    string_values {\n",
       "      values: \"mm3\"\n",
       "    }\n",
       "  }\n",
       "}\n",
       "arrays {\n",
       "  key: \"system.box.vectors\"\n",
       "  value {\n",
       "    float_values {\n",
       "      values: 7.0\n",
       "      values: 0.0\n",
       "      values: 0.0\n",
       "      values: 0.0\n",
       "      values: 7.0\n",
       "      values: 0.0\n",
       "      values: 0.0\n",
       "      values: 0.0\n",
       "      values: 7.0\n",
       "    }\n",
       "  }\n",
       "}"
      ]
     },
     "execution_count": 12,
     "metadata": {},
     "output_type": "execute_result"
    }
   ],
   "source": [
    "client.first_frame.raw"
   ]
  },
  {
   "cell_type": "code",
   "execution_count": null,
   "metadata": {},
   "outputs": [],
   "source": []
  }
 ],
 "metadata": {
  "extensions": {
   "jupyter_dashboards": {
    "activeView": "grid_default",
    "version": 1,
    "views": {
     "grid_default": {
      "cellMargin": 10,
      "defaultCellHeight": 20,
      "maxColumns": 12,
      "name": "grid",
      "type": "grid"
     },
     "report_default": {
      "name": "report",
      "type": "report"
     }
    }
   }
  },
  "hide_input": false,
  "kernelspec": {
   "display_name": "Python 3",
   "language": "python",
   "name": "python3"
  },
  "language_info": {
   "codemirror_mode": {
    "name": "ipython",
    "version": 3
   },
   "file_extension": ".py",
   "mimetype": "text/x-python",
   "name": "python",
   "nbconvert_exporter": "python",
   "pygments_lexer": "ipython3",
   "version": "3.7.3"
  },
  "toc": {
   "nav_menu": {},
   "number_sections": true,
   "sideBar": true,
   "skip_h1_title": false,
   "toc_cell": false,
   "toc_position": {},
   "toc_section_display": "block",
   "toc_window_display": false
  }
 },
 "nbformat": 4,
 "nbformat_minor": 2
}
