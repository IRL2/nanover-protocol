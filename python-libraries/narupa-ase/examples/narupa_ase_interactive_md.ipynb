{
 "cells": [
  {
   "cell_type": "markdown",
   "metadata": {},
   "source": [
    "# Narupa ASE with Interactive Molecular Dynamics"
   ]
  },
  {
   "cell_type": "markdown",
   "metadata": {},
   "source": [
    "This notebook runs an OpenMM simulation of a nanotube with ASE, then uses the client to apply a force to it and NGLViewer to visualise it"
   ]
  },
  {
   "cell_type": "code",
   "execution_count": 1,
   "metadata": {
    "ExecuteTime": {
     "end_time": "2019-06-06T16:04:25.392952Z",
     "start_time": "2019-06-06T16:04:24.453212Z"
    },
    "extensions": {
     "jupyter_dashboards": {
      "version": 1,
      "views": {
       "grid_default": {
        "hidden": true
       },
       "report_default": {
        "hidden": true
       }
      }
     }
    }
   },
   "outputs": [
    {
     "data": {
      "application/vnd.jupyter.widget-view+json": {
       "model_id": "506c4bc3ef4f407ea1f8d7a9d1727d3b",
       "version_major": 2,
       "version_minor": 0
      },
      "text/plain": [
       "_ColormakerRegistry()"
      ]
     },
     "metadata": {},
     "output_type": "display_data"
    }
   ],
   "source": [
    "from narupa.app.client import NarupaImdClient\n",
    "from narupa.ase.openmm import OpenMMIMDRunner\n",
    "from narupa.ase.converter import frame_data_to_ase\n",
    "from narupa.imd.particle_interaction import ParticleInteraction\n",
    "import numpy as np\n",
    "import nglview\n",
    "import MDAnalysis as mda\n",
    "import matplotlib.pyplot as plt\n",
    "from queue import Queue"
   ]
  },
  {
   "cell_type": "markdown",
   "metadata": {
    "extensions": {
     "jupyter_dashboards": {
      "version": 1,
      "views": {
       "grid_default": {
        "col": 0,
        "height": 4,
        "hidden": true,
        "row": 0,
        "width": 4
       },
       "report_default": {
        "hidden": false
       }
      }
     }
    }
   },
   "source": [
    "## Run the server"
   ]
  },
  {
   "cell_type": "markdown",
   "metadata": {
    "extensions": {
     "jupyter_dashboards": {
      "version": 1,
      "views": {
       "grid_default": {
        "col": 4,
        "height": 4,
        "hidden": true,
        "row": 0,
        "width": 4
       },
       "report_default": {
        "hidden": false
       }
      }
     }
    }
   },
   "source": [
    "Run the server. Here, we're using ASE, but it could be LAMMPS or OpenMM or anything else. "
   ]
  },
  {
   "cell_type": "code",
   "execution_count": 2,
   "metadata": {
    "ExecuteTime": {
     "end_time": "2019-06-06T16:04:25.397984Z",
     "start_time": "2019-06-06T16:04:25.395015Z"
    },
    "extensions": {
     "jupyter_dashboards": {
      "version": 1,
      "views": {
       "grid_default": {
        "hidden": true
       },
       "report_default": {
        "hidden": true
       }
      }
     }
    }
   },
   "outputs": [],
   "source": [
    "# set up an openmm simulation, or read from file. \n",
    "input_xml = \"nanotube.xml\"\n"
   ]
  },
  {
   "cell_type": "code",
   "execution_count": 3,
   "metadata": {
    "ExecuteTime": {
     "end_time": "2019-06-06T16:04:25.493146Z",
     "start_time": "2019-06-06T16:04:25.400442Z"
    },
    "extensions": {
     "jupyter_dashboards": {
      "version": 1,
      "views": {
       "grid_default": {
        "col": 8,
        "height": 12,
        "hidden": true,
        "row": 0,
        "width": 4
       },
       "report_default": {
        "hidden": false
       }
      }
     }
    },
    "scrolled": true
   },
   "outputs": [
    {
     "name": "stderr",
     "output_type": "stream",
     "text": [
      "C:\\Users\\Mark\\Anaconda3\\envs\\narupa-dev\\lib\\site-packages\\simtk\\openmm\\app\\internal\\pdbstructure.py:536: UserWarning: WARNING: duplicate atom (HETATM    2 mm3_ mm3 A   1      30.047  35.164  32.988  1.00  0.00           C  , HETATM    1 mm3_ mm3 A   1      29.729  34.950  34.124  1.00  0.00           C  )\n",
      "  warnings.warn(\"WARNING: duplicate atom (%s, %s)\" % (atom, old_atom._pdb_string(old_atom.serial_number, atom.alternate_location_indicator)))\n",
      "C:\\Users\\Mark\\Anaconda3\\envs\\narupa-dev\\lib\\site-packages\\simtk\\openmm\\app\\internal\\pdbstructure.py:536: UserWarning: WARNING: duplicate atom (HETATM    3 mm3_ mm3 A   1      31.361  35.154  32.407  1.00  0.00           C  , HETATM    2 mm3_ mm3 A   1      30.047  35.164  32.988  1.00  0.00           C  )\n",
      "  warnings.warn(\"WARNING: duplicate atom (%s, %s)\" % (atom, old_atom._pdb_string(old_atom.serial_number, atom.alternate_location_indicator)))\n",
      "C:\\Users\\Mark\\Anaconda3\\envs\\narupa-dev\\lib\\site-packages\\simtk\\openmm\\app\\internal\\pdbstructure.py:536: UserWarning: WARNING: duplicate atom (HETATM    4 mm3_ mm3 A   1      31.990  36.464  32.037  1.00  0.00           C  , HETATM    3 mm3_ mm3 A   1      31.361  35.154  32.407  1.00  0.00           C  )\n",
      "  warnings.warn(\"WARNING: duplicate atom (%s, %s)\" % (atom, old_atom._pdb_string(old_atom.serial_number, atom.alternate_location_indicator)))\n",
      "C:\\Users\\Mark\\Anaconda3\\envs\\narupa-dev\\lib\\site-packages\\simtk\\openmm\\app\\internal\\pdbstructure.py:536: UserWarning: WARNING: duplicate atom (HETATM    5 mm3_ mm3 A   1      31.251  37.673  32.280  1.00  0.00           C  , HETATM    4 mm3_ mm3 A   1      31.990  36.464  32.037  1.00  0.00           C  )\n",
      "  warnings.warn(\"WARNING: duplicate atom (%s, %s)\" % (atom, old_atom._pdb_string(old_atom.serial_number, atom.alternate_location_indicator)))\n",
      "C:\\Users\\Mark\\Anaconda3\\envs\\narupa-dev\\lib\\site-packages\\simtk\\openmm\\app\\internal\\pdbstructure.py:536: UserWarning: WARNING: duplicate atom (HETATM    6 mm3_ mm3 A   1      31.438  38.508  33.119  1.00  0.00           C  , HETATM    5 mm3_ mm3 A   1      31.251  37.673  32.280  1.00  0.00           C  )\n",
      "  warnings.warn(\"WARNING: duplicate atom (%s, %s)\" % (atom, old_atom._pdb_string(old_atom.serial_number, atom.alternate_location_indicator)))\n",
      "C:\\Users\\Mark\\Anaconda3\\envs\\narupa-dev\\lib\\site-packages\\simtk\\openmm\\app\\internal\\pdbstructure.py:536: UserWarning: WARNING: duplicate atom (HETATM    7 mm3_ mm3 A   1      32.460  38.555  34.126  1.00  0.00           C  , HETATM    6 mm3_ mm3 A   1      31.438  38.508  33.119  1.00  0.00           C  )\n",
      "  warnings.warn(\"WARNING: duplicate atom (%s, %s)\" % (atom, old_atom._pdb_string(old_atom.serial_number, atom.alternate_location_indicator)))\n",
      "C:\\Users\\Mark\\Anaconda3\\envs\\narupa-dev\\lib\\site-packages\\simtk\\openmm\\app\\internal\\pdbstructure.py:536: UserWarning: WARNING: duplicate atom (HETATM    8 mm3_ mm3 A   1      32.081  38.316  35.554  1.00  0.00           C  , HETATM    7 mm3_ mm3 A   1      32.460  38.555  34.126  1.00  0.00           C  )\n",
      "  warnings.warn(\"WARNING: duplicate atom (%s, %s)\" % (atom, old_atom._pdb_string(old_atom.serial_number, atom.alternate_location_indicator)))\n",
      "C:\\Users\\Mark\\Anaconda3\\envs\\narupa-dev\\lib\\site-packages\\simtk\\openmm\\app\\internal\\pdbstructure.py:536: UserWarning: WARNING: duplicate atom (HETATM    9 mm3_ mm3 A   1      30.700  38.168  35.890  1.00  0.00           C  , HETATM    8 mm3_ mm3 A   1      32.081  38.316  35.554  1.00  0.00           C  )\n",
      "  warnings.warn(\"WARNING: duplicate atom (%s, %s)\" % (atom, old_atom._pdb_string(old_atom.serial_number, atom.alternate_location_indicator)))\n",
      "C:\\Users\\Mark\\Anaconda3\\envs\\narupa-dev\\lib\\site-packages\\simtk\\openmm\\app\\internal\\pdbstructure.py:536: UserWarning: WARNING: duplicate atom (HETATM   10 mm3_ mm3 A   1      30.053  36.855  36.271  1.00  0.00           C  , HETATM    9 mm3_ mm3 A   1      30.700  38.168  35.890  1.00  0.00           C  )\n",
      "  warnings.warn(\"WARNING: duplicate atom (%s, %s)\" % (atom, old_atom._pdb_string(old_atom.serial_number, atom.alternate_location_indicator)))\n",
      "C:\\Users\\Mark\\Anaconda3\\envs\\narupa-dev\\lib\\site-packages\\simtk\\openmm\\app\\internal\\pdbstructure.py:536: UserWarning: WARNING: duplicate atom (HETATM   11 mm3_ mm3 A   1      30.789  35.629  36.314  1.00  0.00           C  , HETATM   10 mm3_ mm3 A   1      30.053  36.855  36.271  1.00  0.00           C  )\n",
      "  warnings.warn(\"WARNING: duplicate atom (%s, %s)\" % (atom, old_atom._pdb_string(old_atom.serial_number, atom.alternate_location_indicator)))\n",
      "C:\\Users\\Mark\\Anaconda3\\envs\\narupa-dev\\lib\\site-packages\\simtk\\openmm\\app\\internal\\pdbstructure.py:536: UserWarning: WARNING: duplicate atom (HETATM   12 mm3_ mm3 A   1      30.565  34.610  35.241  1.00  0.00           C  , HETATM   11 mm3_ mm3 A   1      30.789  35.629  36.314  1.00  0.00           C  )\n",
      "  warnings.warn(\"WARNING: duplicate atom (%s, %s)\" % (atom, old_atom._pdb_string(old_atom.serial_number, atom.alternate_location_indicator)))\n",
      "C:\\Users\\Mark\\Anaconda3\\envs\\narupa-dev\\lib\\site-packages\\simtk\\openmm\\app\\internal\\pdbstructure.py:536: UserWarning: WARNING: duplicate atom (HETATM   13 mm3_ mm3 A   1      31.823  33.918  34.703  1.00  0.00           C  , HETATM   12 mm3_ mm3 A   1      30.565  34.610  35.241  1.00  0.00           C  )\n",
      "  warnings.warn(\"WARNING: duplicate atom (%s, %s)\" % (atom, old_atom._pdb_string(old_atom.serial_number, atom.alternate_location_indicator)))\n",
      "C:\\Users\\Mark\\Anaconda3\\envs\\narupa-dev\\lib\\site-packages\\simtk\\openmm\\app\\internal\\pdbstructure.py:536: UserWarning: WARNING: duplicate atom (HETATM   14 mm3_ mm3 A   1      32.238  34.199  33.228  1.00  0.00           C  , HETATM   13 mm3_ mm3 A   1      31.823  33.918  34.703  1.00  0.00           C  )\n",
      "  warnings.warn(\"WARNING: duplicate atom (%s, %s)\" % (atom, old_atom._pdb_string(old_atom.serial_number, atom.alternate_location_indicator)))\n",
      "C:\\Users\\Mark\\Anaconda3\\envs\\narupa-dev\\lib\\site-packages\\simtk\\openmm\\app\\internal\\pdbstructure.py:536: UserWarning: WARNING: duplicate atom (HETATM   15 mm3_ mm3 A   1      33.710  34.171  32.947  1.00  0.00           C  , HETATM   14 mm3_ mm3 A   1      32.238  34.199  33.228  1.00  0.00           C  )\n",
      "  warnings.warn(\"WARNING: duplicate atom (%s, %s)\" % (atom, old_atom._pdb_string(old_atom.serial_number, atom.alternate_location_indicator)))\n",
      "C:\\Users\\Mark\\Anaconda3\\envs\\narupa-dev\\lib\\site-packages\\simtk\\openmm\\app\\internal\\pdbstructure.py:536: UserWarning: WARNING: duplicate atom (HETATM   16 mm3_ mm3 A   1      34.345  35.492  32.573  1.00  0.00           C  , HETATM   15 mm3_ mm3 A   1      33.710  34.171  32.947  1.00  0.00           C  )\n",
      "  warnings.warn(\"WARNING: duplicate atom (%s, %s)\" % (atom, old_atom._pdb_string(old_atom.serial_number, atom.alternate_location_indicator)))\n",
      "C:\\Users\\Mark\\Anaconda3\\envs\\narupa-dev\\lib\\site-packages\\simtk\\openmm\\app\\internal\\pdbstructure.py:536: UserWarning: WARNING: duplicate atom (HETATM   17 mm3_ mm3 A   1      33.429  36.677  32.527  1.00  0.00           C  , HETATM   16 mm3_ mm3 A   1      34.345  35.492  32.573  1.00  0.00           C  )\n",
      "  warnings.warn(\"WARNING: duplicate atom (%s, %s)\" % (atom, old_atom._pdb_string(old_atom.serial_number, atom.alternate_location_indicator)))\n",
      "C:\\Users\\Mark\\Anaconda3\\envs\\narupa-dev\\lib\\site-packages\\simtk\\openmm\\app\\internal\\pdbstructure.py:536: UserWarning: WARNING: duplicate atom (HETATM   18 mm3_ mm3 A   1      33.672  37.765  33.615  1.00  0.00           C  , HETATM   17 mm3_ mm3 A   1      33.429  36.677  32.527  1.00  0.00           C  )\n",
      "  warnings.warn(\"WARNING: duplicate atom (%s, %s)\" % (atom, old_atom._pdb_string(old_atom.serial_number, atom.alternate_location_indicator)))\n",
      "C:\\Users\\Mark\\Anaconda3\\envs\\narupa-dev\\lib\\site-packages\\simtk\\openmm\\app\\internal\\pdbstructure.py:536: UserWarning: WARNING: duplicate atom (HETATM   19 mm3_ mm3 A   1      34.784  37.487  34.578  1.00  0.00           C  , HETATM   18 mm3_ mm3 A   1      33.672  37.765  33.615  1.00  0.00           C  )\n",
      "  warnings.warn(\"WARNING: duplicate atom (%s, %s)\" % (atom, old_atom._pdb_string(old_atom.serial_number, atom.alternate_location_indicator)))\n",
      "C:\\Users\\Mark\\Anaconda3\\envs\\narupa-dev\\lib\\site-packages\\simtk\\openmm\\app\\internal\\pdbstructure.py:536: UserWarning: WARNING: duplicate atom (HETATM   20 mm3_ mm3 A   1      34.374  37.216  36.009  1.00  0.00           C  , HETATM   19 mm3_ mm3 A   1      34.784  37.487  34.578  1.00  0.00           C  )\n",
      "  warnings.warn(\"WARNING: duplicate atom (%s, %s)\" % (atom, old_atom._pdb_string(old_atom.serial_number, atom.alternate_location_indicator)))\n",
      "C:\\Users\\Mark\\Anaconda3\\envs\\narupa-dev\\lib\\site-packages\\simtk\\openmm\\app\\internal\\pdbstructure.py:536: UserWarning: WARNING: duplicate atom (HETATM   21 mm3_ mm3 A   1      32.900  37.261  36.294  1.00  0.00           C  , HETATM   20 mm3_ mm3 A   1      34.374  37.216  36.009  1.00  0.00           C  )\n",
      "  warnings.warn(\"WARNING: duplicate atom (%s, %s)\" % (atom, old_atom._pdb_string(old_atom.serial_number, atom.alternate_location_indicator)))\n",
      "C:\\Users\\Mark\\Anaconda3\\envs\\narupa-dev\\lib\\site-packages\\simtk\\openmm\\app\\internal\\pdbstructure.py:536: UserWarning: WARNING: duplicate atom (HETATM   22 mm3_ mm3 A   1      32.247  35.904  36.679  1.00  0.00           C  , HETATM   21 mm3_ mm3 A   1      32.900  37.261  36.294  1.00  0.00           C  )\n",
      "  warnings.warn(\"WARNING: duplicate atom (%s, %s)\" % (atom, old_atom._pdb_string(old_atom.serial_number, atom.alternate_location_indicator)))\n",
      "C:\\Users\\Mark\\Anaconda3\\envs\\narupa-dev\\lib\\site-packages\\simtk\\openmm\\app\\internal\\pdbstructure.py:536: UserWarning: WARNING: duplicate atom (HETATM   23 mm3_ mm3 A   1      33.176  34.723  36.714  1.00  0.00           C  , HETATM   22 mm3_ mm3 A   1      32.247  35.904  36.679  1.00  0.00           C  )\n",
      "  warnings.warn(\"WARNING: duplicate atom (%s, %s)\" % (atom, old_atom._pdb_string(old_atom.serial_number, atom.alternate_location_indicator)))\n",
      "C:\\Users\\Mark\\Anaconda3\\envs\\narupa-dev\\lib\\site-packages\\simtk\\openmm\\app\\internal\\pdbstructure.py:536: UserWarning: WARNING: duplicate atom (HETATM   24 mm3_ mm3 A   1      32.947  33.664  35.659  1.00  0.00           C  , HETATM   23 mm3_ mm3 A   1      33.176  34.723  36.714  1.00  0.00           C  )\n",
      "  warnings.warn(\"WARNING: duplicate atom (%s, %s)\" % (atom, old_atom._pdb_string(old_atom.serial_number, atom.alternate_location_indicator)))\n",
      "C:\\Users\\Mark\\Anaconda3\\envs\\narupa-dev\\lib\\site-packages\\simtk\\openmm\\app\\internal\\pdbstructure.py:536: UserWarning: WARNING: duplicate atom (HETATM   25 mm3_ mm3 A   1      34.162  32.946  35.158  1.00  0.00           C  , HETATM   24 mm3_ mm3 A   1      32.947  33.664  35.659  1.00  0.00           C  )\n",
      "  warnings.warn(\"WARNING: duplicate atom (%s, %s)\" % (atom, old_atom._pdb_string(old_atom.serial_number, atom.alternate_location_indicator)))\n",
      "C:\\Users\\Mark\\Anaconda3\\envs\\narupa-dev\\lib\\site-packages\\simtk\\openmm\\app\\internal\\pdbstructure.py:536: UserWarning: WARNING: duplicate atom (HETATM   26 mm3_ mm3 A   1      34.567  33.213  33.721  1.00  0.00           C  , HETATM   25 mm3_ mm3 A   1      34.162  32.946  35.158  1.00  0.00           C  )\n",
      "  warnings.warn(\"WARNING: duplicate atom (%s, %s)\" % (atom, old_atom._pdb_string(old_atom.serial_number, atom.alternate_location_indicator)))\n",
      "C:\\Users\\Mark\\Anaconda3\\envs\\narupa-dev\\lib\\site-packages\\simtk\\openmm\\app\\internal\\pdbstructure.py:536: UserWarning: WARNING: duplicate atom (HETATM   27 mm3_ mm3 A   1      36.040  33.186  33.429  1.00  0.00           C  , HETATM   26 mm3_ mm3 A   1      34.567  33.213  33.721  1.00  0.00           C  )\n",
      "  warnings.warn(\"WARNING: duplicate atom (%s, %s)\" % (atom, old_atom._pdb_string(old_atom.serial_number, atom.alternate_location_indicator)))\n",
      "C:\\Users\\Mark\\Anaconda3\\envs\\narupa-dev\\lib\\site-packages\\simtk\\openmm\\app\\internal\\pdbstructure.py:536: UserWarning: WARNING: duplicate atom (HETATM   28 mm3_ mm3 A   1      36.676  34.508  33.055  1.00  0.00           C  , HETATM   27 mm3_ mm3 A   1      36.040  33.186  33.429  1.00  0.00           C  )\n",
      "  warnings.warn(\"WARNING: duplicate atom (%s, %s)\" % (atom, old_atom._pdb_string(old_atom.serial_number, atom.alternate_location_indicator)))\n",
      "C:\\Users\\Mark\\Anaconda3\\envs\\narupa-dev\\lib\\site-packages\\simtk\\openmm\\app\\internal\\pdbstructure.py:536: UserWarning: WARNING: duplicate atom (HETATM   29 mm3_ mm3 A   1      35.763  35.700  33.018  1.00  0.00           C  , HETATM   28 mm3_ mm3 A   1      36.676  34.508  33.055  1.00  0.00           C  )\n",
      "  warnings.warn(\"WARNING: duplicate atom (%s, %s)\" % (atom, old_atom._pdb_string(old_atom.serial_number, atom.alternate_location_indicator)))\n",
      "C:\\Users\\Mark\\Anaconda3\\envs\\narupa-dev\\lib\\site-packages\\simtk\\openmm\\app\\internal\\pdbstructure.py:536: UserWarning: WARNING: duplicate atom (HETATM   30 mm3_ mm3 A   1      35.994  36.757  34.080  1.00  0.00           C  , HETATM   29 mm3_ mm3 A   1      35.763  35.700  33.018  1.00  0.00           C  )\n",
      "  warnings.warn(\"WARNING: duplicate atom (%s, %s)\" % (atom, old_atom._pdb_string(old_atom.serial_number, atom.alternate_location_indicator)))\n",
      "C:\\Users\\Mark\\Anaconda3\\envs\\narupa-dev\\lib\\site-packages\\simtk\\openmm\\app\\internal\\pdbstructure.py:536: UserWarning: WARNING: duplicate atom (HETATM   31 mm3_ mm3 A   1      37.108  36.496  35.050  1.00  0.00           C  , HETATM   30 mm3_ mm3 A   1      35.994  36.757  34.080  1.00  0.00           C  )\n",
      "  warnings.warn(\"WARNING: duplicate atom (%s, %s)\" % (atom, old_atom._pdb_string(old_atom.serial_number, atom.alternate_location_indicator)))\n",
      "C:\\Users\\Mark\\Anaconda3\\envs\\narupa-dev\\lib\\site-packages\\simtk\\openmm\\app\\internal\\pdbstructure.py:536: UserWarning: WARNING: duplicate atom (HETATM   32 mm3_ mm3 A   1      36.702  36.228  36.486  1.00  0.00           C  , HETATM   31 mm3_ mm3 A   1      37.108  36.496  35.050  1.00  0.00           C  )\n",
      "  warnings.warn(\"WARNING: duplicate atom (%s, %s)\" % (atom, old_atom._pdb_string(old_atom.serial_number, atom.alternate_location_indicator)))\n",
      "C:\\Users\\Mark\\Anaconda3\\envs\\narupa-dev\\lib\\site-packages\\simtk\\openmm\\app\\internal\\pdbstructure.py:536: UserWarning: WARNING: duplicate atom (HETATM   33 mm3_ mm3 A   1      35.229  36.255  36.778  1.00  0.00           C  , HETATM   32 mm3_ mm3 A   1      36.702  36.228  36.486  1.00  0.00           C  )\n",
      "  warnings.warn(\"WARNING: duplicate atom (%s, %s)\" % (atom, old_atom._pdb_string(old_atom.serial_number, atom.alternate_location_indicator)))\n",
      "C:\\Users\\Mark\\Anaconda3\\envs\\narupa-dev\\lib\\site-packages\\simtk\\openmm\\app\\internal\\pdbstructure.py:536: UserWarning: WARNING: duplicate atom (HETATM   34 mm3_ mm3 A   1      34.593  34.933  37.153  1.00  0.00           C  , HETATM   33 mm3_ mm3 A   1      35.229  36.255  36.778  1.00  0.00           C  )\n",
      "  warnings.warn(\"WARNING: duplicate atom (%s, %s)\" % (atom, old_atom._pdb_string(old_atom.serial_number, atom.alternate_location_indicator)))\n",
      "C:\\Users\\Mark\\Anaconda3\\envs\\narupa-dev\\lib\\site-packages\\simtk\\openmm\\app\\internal\\pdbstructure.py:536: UserWarning: WARNING: duplicate atom (HETATM   35 mm3_ mm3 A   1      35.506  33.741  37.190  1.00  0.00           C  , HETATM   34 mm3_ mm3 A   1      34.593  34.933  37.153  1.00  0.00           C  )\n",
      "  warnings.warn(\"WARNING: duplicate atom (%s, %s)\" % (atom, old_atom._pdb_string(old_atom.serial_number, atom.alternate_location_indicator)))\n",
      "C:\\Users\\Mark\\Anaconda3\\envs\\narupa-dev\\lib\\site-packages\\simtk\\openmm\\app\\internal\\pdbstructure.py:536: UserWarning: WARNING: duplicate atom (HETATM   36 mm3_ mm3 A   1      35.275  32.684  36.128  1.00  0.00           C  , HETATM   35 mm3_ mm3 A   1      35.506  33.741  37.190  1.00  0.00           C  )\n",
      "  warnings.warn(\"WARNING: duplicate atom (%s, %s)\" % (atom, old_atom._pdb_string(old_atom.serial_number, atom.alternate_location_indicator)))\n",
      "C:\\Users\\Mark\\Anaconda3\\envs\\narupa-dev\\lib\\site-packages\\simtk\\openmm\\app\\internal\\pdbstructure.py:536: UserWarning: WARNING: duplicate atom (HETATM   37 mm3_ mm3 A   1      36.485  31.955  35.629  1.00  0.00           C  , HETATM   36 mm3_ mm3 A   1      35.275  32.684  36.128  1.00  0.00           C  )\n",
      "  warnings.warn(\"WARNING: duplicate atom (%s, %s)\" % (atom, old_atom._pdb_string(old_atom.serial_number, atom.alternate_location_indicator)))\n",
      "C:\\Users\\Mark\\Anaconda3\\envs\\narupa-dev\\lib\\site-packages\\simtk\\openmm\\app\\internal\\pdbstructure.py:536: UserWarning: WARNING: duplicate atom (HETATM   38 mm3_ mm3 A   1      36.895  32.226  34.199  1.00  0.00           C  , HETATM   37 mm3_ mm3 A   1      36.485  31.955  35.629  1.00  0.00           C  )\n",
      "  warnings.warn(\"WARNING: duplicate atom (%s, %s)\" % (atom, old_atom._pdb_string(old_atom.serial_number, atom.alternate_location_indicator)))\n",
      "C:\\Users\\Mark\\Anaconda3\\envs\\narupa-dev\\lib\\site-packages\\simtk\\openmm\\app\\internal\\pdbstructure.py:536: UserWarning: WARNING: duplicate atom (HETATM   39 mm3_ mm3 A   1      38.369  32.180  33.914  1.00  0.00           C  , HETATM   38 mm3_ mm3 A   1      36.895  32.226  34.199  1.00  0.00           C  )\n",
      "  warnings.warn(\"WARNING: duplicate atom (%s, %s)\" % (atom, old_atom._pdb_string(old_atom.serial_number, atom.alternate_location_indicator)))\n",
      "C:\\Users\\Mark\\Anaconda3\\envs\\narupa-dev\\lib\\site-packages\\simtk\\openmm\\app\\internal\\pdbstructure.py:536: UserWarning: WARNING: duplicate atom (HETATM   40 mm3_ mm3 A   1      39.023  33.538  33.529  1.00  0.00           C  , HETATM   39 mm3_ mm3 A   1      38.369  32.180  33.914  1.00  0.00           C  )\n",
      "  warnings.warn(\"WARNING: duplicate atom (%s, %s)\" % (atom, old_atom._pdb_string(old_atom.serial_number, atom.alternate_location_indicator)))\n",
      "C:\\Users\\Mark\\Anaconda3\\envs\\narupa-dev\\lib\\site-packages\\simtk\\openmm\\app\\internal\\pdbstructure.py:536: UserWarning: WARNING: duplicate atom (HETATM   41 mm3_ mm3 A   1      38.094  34.718  33.493  1.00  0.00           C  , HETATM   40 mm3_ mm3 A   1      39.023  33.538  33.529  1.00  0.00           C  )\n",
      "  warnings.warn(\"WARNING: duplicate atom (%s, %s)\" % (atom, old_atom._pdb_string(old_atom.serial_number, atom.alternate_location_indicator)))\n",
      "C:\\Users\\Mark\\Anaconda3\\envs\\narupa-dev\\lib\\site-packages\\simtk\\openmm\\app\\internal\\pdbstructure.py:536: UserWarning: WARNING: duplicate atom (HETATM   42 mm3_ mm3 A   1      38.323  35.778  34.548  1.00  0.00           C  , HETATM   41 mm3_ mm3 A   1      38.094  34.718  33.493  1.00  0.00           C  )\n",
      "  warnings.warn(\"WARNING: duplicate atom (%s, %s)\" % (atom, old_atom._pdb_string(old_atom.serial_number, atom.alternate_location_indicator)))\n",
      "C:\\Users\\Mark\\Anaconda3\\envs\\narupa-dev\\lib\\site-packages\\simtk\\openmm\\app\\internal\\pdbstructure.py:536: UserWarning: WARNING: duplicate atom (HETATM   43 mm3_ mm3 A   1      39.446  35.524  35.505  1.00  0.00           C  , HETATM   42 mm3_ mm3 A   1      38.323  35.778  34.548  1.00  0.00           C  )\n",
      "  warnings.warn(\"WARNING: duplicate atom (%s, %s)\" % (atom, old_atom._pdb_string(old_atom.serial_number, atom.alternate_location_indicator)))\n",
      "C:\\Users\\Mark\\Anaconda3\\envs\\narupa-dev\\lib\\site-packages\\simtk\\openmm\\app\\internal\\pdbstructure.py:536: UserWarning: WARNING: duplicate atom (HETATM   44 mm3_ mm3 A   1      39.031  35.243  36.980  1.00  0.00           C  , HETATM   43 mm3_ mm3 A   1      39.446  35.524  35.505  1.00  0.00           C  )\n",
      "  warnings.warn(\"WARNING: duplicate atom (%s, %s)\" % (atom, old_atom._pdb_string(old_atom.serial_number, atom.alternate_location_indicator)))\n",
      "C:\\Users\\Mark\\Anaconda3\\envs\\narupa-dev\\lib\\site-packages\\simtk\\openmm\\app\\internal\\pdbstructure.py:536: UserWarning: WARNING: duplicate atom (HETATM   45 mm3_ mm3 A   1      37.559  35.271  37.260  1.00  0.00           C  , HETATM   44 mm3_ mm3 A   1      39.031  35.243  36.980  1.00  0.00           C  )\n",
      "  warnings.warn(\"WARNING: duplicate atom (%s, %s)\" % (atom, old_atom._pdb_string(old_atom.serial_number, atom.alternate_location_indicator)))\n",
      "C:\\Users\\Mark\\Anaconda3\\envs\\narupa-dev\\lib\\site-packages\\simtk\\openmm\\app\\internal\\pdbstructure.py:536: UserWarning: WARNING: duplicate atom (HETATM   46 mm3_ mm3 A   1      36.924  33.950  37.634  1.00  0.00           C  , HETATM   45 mm3_ mm3 A   1      37.559  35.271  37.260  1.00  0.00           C  )\n",
      "  warnings.warn(\"WARNING: duplicate atom (%s, %s)\" % (atom, old_atom._pdb_string(old_atom.serial_number, atom.alternate_location_indicator)))\n",
      "C:\\Users\\Mark\\Anaconda3\\envs\\narupa-dev\\lib\\site-packages\\simtk\\openmm\\app\\internal\\pdbstructure.py:536: UserWarning: WARNING: duplicate atom (HETATM   47 mm3_ mm3 A   1      37.840  32.764  37.681  1.00  0.00           C  , HETATM   46 mm3_ mm3 A   1      36.924  33.950  37.634  1.00  0.00           C  )\n",
      "  warnings.warn(\"WARNING: duplicate atom (%s, %s)\" % (atom, old_atom._pdb_string(old_atom.serial_number, atom.alternate_location_indicator)))\n",
      "C:\\Users\\Mark\\Anaconda3\\envs\\narupa-dev\\lib\\site-packages\\simtk\\openmm\\app\\internal\\pdbstructure.py:536: UserWarning: WARNING: duplicate atom (HETATM   48 mm3_ mm3 A   1      37.597  31.676  36.593  1.00  0.00           C  , HETATM   47 mm3_ mm3 A   1      37.840  32.764  37.681  1.00  0.00           C  )\n",
      "  warnings.warn(\"WARNING: duplicate atom (%s, %s)\" % (atom, old_atom._pdb_string(old_atom.serial_number, atom.alternate_location_indicator)))\n",
      "C:\\Users\\Mark\\Anaconda3\\envs\\narupa-dev\\lib\\site-packages\\simtk\\openmm\\app\\internal\\pdbstructure.py:536: UserWarning: WARNING: duplicate atom (HETATM   49 mm3_ mm3 A   1      38.809  30.886  36.082  1.00  0.00           C  , HETATM   48 mm3_ mm3 A   1      37.597  31.676  36.593  1.00  0.00           C  )\n",
      "  warnings.warn(\"WARNING: duplicate atom (%s, %s)\" % (atom, old_atom._pdb_string(old_atom.serial_number, atom.alternate_location_indicator)))\n",
      "C:\\Users\\Mark\\Anaconda3\\envs\\narupa-dev\\lib\\site-packages\\simtk\\openmm\\app\\internal\\pdbstructure.py:536: UserWarning: WARNING: duplicate atom (HETATM   50 mm3_ mm3 A   1      39.188  31.126  34.654  1.00  0.00           C  , HETATM   49 mm3_ mm3 A   1      38.809  30.886  36.082  1.00  0.00           C  )\n",
      "  warnings.warn(\"WARNING: duplicate atom (%s, %s)\" % (atom, old_atom._pdb_string(old_atom.serial_number, atom.alternate_location_indicator)))\n",
      "C:\\Users\\Mark\\Anaconda3\\envs\\narupa-dev\\lib\\site-packages\\simtk\\openmm\\app\\internal\\pdbstructure.py:536: UserWarning: WARNING: duplicate atom (HETATM   51 mm3_ mm3 A   1      40.570  31.274  34.320  1.00  0.00           C  , HETATM   50 mm3_ mm3 A   1      39.188  31.126  34.654  1.00  0.00           C  )\n",
      "  warnings.warn(\"WARNING: duplicate atom (%s, %s)\" % (atom, old_atom._pdb_string(old_atom.serial_number, atom.alternate_location_indicator)))\n",
      "C:\\Users\\Mark\\Anaconda3\\envs\\narupa-dev\\lib\\site-packages\\simtk\\openmm\\app\\internal\\pdbstructure.py:536: UserWarning: WARNING: duplicate atom (HETATM   52 mm3_ mm3 A   1      41.217  32.586  33.939  1.00  0.00           C  , HETATM   51 mm3_ mm3 A   1      40.570  31.274  34.320  1.00  0.00           C  )\n",
      "  warnings.warn(\"WARNING: duplicate atom (%s, %s)\" % (atom, old_atom._pdb_string(old_atom.serial_number, atom.alternate_location_indicator)))\n",
      "C:\\Users\\Mark\\Anaconda3\\envs\\narupa-dev\\lib\\site-packages\\simtk\\openmm\\app\\internal\\pdbstructure.py:536: UserWarning: WARNING: duplicate atom (HETATM   53 mm3_ mm3 A   1      40.481  33.812  33.894  1.00  0.00           C  , HETATM   52 mm3_ mm3 A   1      41.217  32.586  33.939  1.00  0.00           C  )\n",
      "  warnings.warn(\"WARNING: duplicate atom (%s, %s)\" % (atom, old_atom._pdb_string(old_atom.serial_number, atom.alternate_location_indicator)))\n",
      "C:\\Users\\Mark\\Anaconda3\\envs\\narupa-dev\\lib\\site-packages\\simtk\\openmm\\app\\internal\\pdbstructure.py:536: UserWarning: WARNING: duplicate atom (HETATM   54 mm3_ mm3 A   1      40.705  34.831  34.967  1.00  0.00           C  , HETATM   53 mm3_ mm3 A   1      40.481  33.812  33.894  1.00  0.00           C  )\n",
      "  warnings.warn(\"WARNING: duplicate atom (%s, %s)\" % (atom, old_atom._pdb_string(old_atom.serial_number, atom.alternate_location_indicator)))\n",
      "C:\\Users\\Mark\\Anaconda3\\envs\\narupa-dev\\lib\\site-packages\\simtk\\openmm\\app\\internal\\pdbstructure.py:536: UserWarning: WARNING: duplicate atom (HETATM   55 mm3_ mm3 A   1      41.541  34.490  36.084  1.00  0.00           C  , HETATM   54 mm3_ mm3 A   1      40.705  34.831  34.967  1.00  0.00           C  )\n",
      "  warnings.warn(\"WARNING: duplicate atom (%s, %s)\" % (atom, old_atom._pdb_string(old_atom.serial_number, atom.alternate_location_indicator)))\n",
      "C:\\Users\\Mark\\Anaconda3\\envs\\narupa-dev\\lib\\site-packages\\simtk\\openmm\\app\\internal\\pdbstructure.py:536: UserWarning: WARNING: duplicate atom (HETATM   56 mm3_ mm3 A   1      41.222  34.277  37.220  1.00  0.00           C  , HETATM   55 mm3_ mm3 A   1      41.541  34.490  36.084  1.00  0.00           C  )\n",
      "  warnings.warn(\"WARNING: duplicate atom (%s, %s)\" % (atom, old_atom._pdb_string(old_atom.serial_number, atom.alternate_location_indicator)))\n",
      "C:\\Users\\Mark\\Anaconda3\\envs\\narupa-dev\\lib\\site-packages\\simtk\\openmm\\app\\internal\\pdbstructure.py:536: UserWarning: WARNING: duplicate atom (HETATM   57 mm3_ mm3 A   1      39.908  34.287  37.801  1.00  0.00           C  , HETATM   56 mm3_ mm3 A   1      41.222  34.277  37.220  1.00  0.00           C  )\n",
      "  warnings.warn(\"WARNING: duplicate atom (%s, %s)\" % (atom, old_atom._pdb_string(old_atom.serial_number, atom.alternate_location_indicator)))\n",
      "C:\\Users\\Mark\\Anaconda3\\envs\\narupa-dev\\lib\\site-packages\\simtk\\openmm\\app\\internal\\pdbstructure.py:536: UserWarning: WARNING: duplicate atom (HETATM   58 mm3_ mm3 A   1      39.279  32.978  38.172  1.00  0.00           C  , HETATM   57 mm3_ mm3 A   1      39.908  34.287  37.801  1.00  0.00           C  )\n",
      "  warnings.warn(\"WARNING: duplicate atom (%s, %s)\" % (atom, old_atom._pdb_string(old_atom.serial_number, atom.alternate_location_indicator)))\n",
      "C:\\Users\\Mark\\Anaconda3\\envs\\narupa-dev\\lib\\site-packages\\simtk\\openmm\\app\\internal\\pdbstructure.py:536: UserWarning: WARNING: duplicate atom (HETATM   59 mm3_ mm3 A   1      40.017  31.769  37.928  1.00  0.00           C  , HETATM   58 mm3_ mm3 A   1      39.279  32.978  38.172  1.00  0.00           C  )\n",
      "  warnings.warn(\"WARNING: duplicate atom (%s, %s)\" % (atom, old_atom._pdb_string(old_atom.serial_number, atom.alternate_location_indicator)))\n",
      "C:\\Users\\Mark\\Anaconda3\\envs\\narupa-dev\\lib\\site-packages\\simtk\\openmm\\app\\internal\\pdbstructure.py:536: UserWarning: WARNING: duplicate atom (HETATM   60 mm3_ mm3 A   1      39.831  30.934  37.089  1.00  0.00           C  , HETATM   59 mm3_ mm3 A   1      40.017  31.769  37.928  1.00  0.00           C  )\n",
      "  warnings.warn(\"WARNING: duplicate atom (%s, %s)\" % (atom, old_atom._pdb_string(old_atom.serial_number, atom.alternate_location_indicator)))\n",
      "C:\\Users\\Mark\\Anaconda3\\envs\\narupa-dev\\lib\\site-packages\\simtk\\openmm\\app\\internal\\pdbstructure.py:536: UserWarning: WARNING: duplicate atom (HETATM   61 mm3_ mm3 A   1      27.387  38.353  33.755  1.00  0.00           C  , HETATM   60 mm3_ mm3 A   1      39.831  30.934  37.089  1.00  0.00           C  )\n",
      "  warnings.warn(\"WARNING: duplicate atom (%s, %s)\" % (atom, old_atom._pdb_string(old_atom.serial_number, atom.alternate_location_indicator)))\n",
      "C:\\Users\\Mark\\Anaconda3\\envs\\narupa-dev\\lib\\site-packages\\simtk\\openmm\\app\\internal\\pdbstructure.py:536: UserWarning: WARNING: duplicate atom (HETATM   62 mm3_ mm3 A   1      26.655  38.791  34.437  1.00  0.00           H  , HETATM   61 mm3_ mm3 A   1      27.387  38.353  33.755  1.00  0.00           C  )\n",
      "  warnings.warn(\"WARNING: duplicate atom (%s, %s)\" % (atom, old_atom._pdb_string(old_atom.serial_number, atom.alternate_location_indicator)))\n",
      "C:\\Users\\Mark\\Anaconda3\\envs\\narupa-dev\\lib\\site-packages\\simtk\\openmm\\app\\internal\\pdbstructure.py:536: UserWarning: WARNING: duplicate atom (HETATM   63 mm3_ mm3 A   1      28.292  38.964  33.754  1.00  0.00           H  , HETATM   62 mm3_ mm3 A   1      26.655  38.791  34.437  1.00  0.00           H  )\n",
      "  warnings.warn(\"WARNING: duplicate atom (%s, %s)\" % (atom, old_atom._pdb_string(old_atom.serial_number, atom.alternate_location_indicator)))\n",
      "C:\\Users\\Mark\\Anaconda3\\envs\\narupa-dev\\lib\\site-packages\\simtk\\openmm\\app\\internal\\pdbstructure.py:536: UserWarning: WARNING: duplicate atom (HETATM   64 mm3_ mm3 A   1      27.629  37.341  34.085  1.00  0.00           H  , HETATM   63 mm3_ mm3 A   1      28.292  38.964  33.754  1.00  0.00           H  )\n",
      "  warnings.warn(\"WARNING: duplicate atom (%s, %s)\" % (atom, old_atom._pdb_string(old_atom.serial_number, atom.alternate_location_indicator)))\n",
      "C:\\Users\\Mark\\Anaconda3\\envs\\narupa-dev\\lib\\site-packages\\simtk\\openmm\\app\\internal\\pdbstructure.py:536: UserWarning: WARNING: duplicate atom (HETATM   65 mm3_ mm3 A   1      26.971  38.317  32.746  1.00  0.00           H  , HETATM   64 mm3_ mm3 A   1      27.629  37.341  34.085  1.00  0.00           H  )\n",
      "  warnings.warn(\"WARNING: duplicate atom (%s, %s)\" % (atom, old_atom._pdb_string(old_atom.serial_number, atom.alternate_location_indicator)))\n"
     ]
    }
   ],
   "source": [
    "runner = OpenMMIMDRunner.from_xml(input_xml)"
   ]
  },
  {
   "cell_type": "markdown",
   "metadata": {
    "extensions": {
     "jupyter_dashboards": {
      "version": 1,
      "views": {
       "grid_default": {
        "col": 0,
        "height": 4,
        "hidden": true,
        "row": 4,
        "width": 4
       },
       "report_default": {
        "hidden": false
       }
      }
     }
    }
   },
   "source": [
    "Run dynamics in background thread"
   ]
  },
  {
   "cell_type": "code",
   "execution_count": 4,
   "metadata": {
    "ExecuteTime": {
     "end_time": "2019-06-06T16:04:25.725110Z",
     "start_time": "2019-06-06T16:04:25.701637Z"
    },
    "extensions": {
     "jupyter_dashboards": {
      "version": 1,
      "views": {
       "grid_default": {
        "hidden": true
       },
       "report_default": {
        "hidden": true
       }
      }
     }
    }
   },
   "outputs": [],
   "source": [
    "runner.run()"
   ]
  },
  {
   "cell_type": "code",
   "execution_count": 5,
   "metadata": {
    "ExecuteTime": {
     "end_time": "2019-06-06T16:04:25.876184Z",
     "start_time": "2019-06-06T16:04:25.800104Z"
    },
    "extensions": {
     "jupyter_dashboards": {
      "version": 1,
      "views": {
       "grid_default": {
        "col": 4,
        "height": 4,
        "hidden": true,
        "row": 0,
        "width": 4
       },
       "report_default": {
        "hidden": false
       }
      }
     }
    }
   },
   "outputs": [
    {
     "data": {
      "text/plain": [
       "0.7858155830771251"
      ]
     },
     "execution_count": 5,
     "metadata": {},
     "output_type": "execute_result"
    }
   ],
   "source": [
    "# print the time to check dynamics is running\n",
    "runner.dynamics.get_time()"
   ]
  },
  {
   "cell_type": "markdown",
   "metadata": {
    "extensions": {
     "jupyter_dashboards": {
      "version": 1,
      "views": {
       "grid_default": {
        "col": 0,
        "height": 4,
        "hidden": true,
        "row": 4,
        "width": 4
       },
       "report_default": {
        "hidden": false
       }
      }
     }
    }
   },
   "source": [
    "## Start an IMD client"
   ]
  },
  {
   "cell_type": "code",
   "execution_count": 6,
   "metadata": {
    "ExecuteTime": {
     "end_time": "2019-06-06T16:04:26.428800Z",
     "start_time": "2019-06-06T16:04:26.348751Z"
    },
    "extensions": {
     "jupyter_dashboards": {
      "version": 1,
      "views": {
       "grid_default": {
        "hidden": true
       },
       "report_default": {
        "hidden": true
       }
      }
     }
    }
   },
   "outputs": [],
   "source": [
    "class NGLClient(NarupaImdClient):\n",
    "    def __init__(self, *args, update_callback=None, **kwargs):\n",
    "        super().__init__(*args, **kwargs)\n",
    "        self._view = None\n",
    "        self.update_callback = update_callback\n",
    "    \n",
    "    @property\n",
    "    def view(self):\n",
    "        if self._view is None:\n",
    "            atoms = frame_data_to_ase(\n",
    "                client.first_frame,\n",
    "                topology=True,\n",
    "                positions=False,\n",
    "            )\n",
    "            atoms.set_positions(\n",
    "                np.array(client.latest_frame.particle_positions) * 10\n",
    "            )\n",
    "            self._view = nglview.show_ase(atoms)\n",
    "        return self._view\n",
    "\n",
    "    def _on_frame_received(self, frame_index:int, frame):\n",
    "        super()._on_frame_received(frame_index, frame)\n",
    "        self.view.set_coordinates(\n",
    "            {0: np.array(self.latest_frame.particle_positions) * 10}\n",
    "        )\n",
    "        if self.update_callback is not None:\n",
    "            self.update_callback(self.universe)\n",
    "\n",
    "            \n",
    "def _get_structure_string(write_method, suffix='.pdb'):\n",
    "    fname = 'tmp.pdb'\n",
    "    write_method(fname)\n",
    "    with open(fname) as fh:\n",
    "        return fh.read()\n",
    "\n",
    "nglview.adaptor._get_structure_string = _get_structure_string"
   ]
  },
  {
   "cell_type": "code",
   "execution_count": 7,
   "metadata": {
    "ExecuteTime": {
     "end_time": "2019-06-06T16:04:26.572274Z",
     "start_time": "2019-06-06T16:04:26.482553Z"
    },
    "extensions": {
     "jupyter_dashboards": {
      "version": 1,
      "views": {
       "grid_default": {
        "col": 0,
        "height": 19,
        "hidden": false,
        "row": 11,
        "width": 7
       },
       "report_default": {
        "hidden": false
       }
      }
     }
    }
   },
   "outputs": [],
   "source": [
    "client = NGLClient()"
   ]
  },
  {
   "cell_type": "code",
   "execution_count": 8,
   "metadata": {
    "ExecuteTime": {
     "end_time": "2019-06-06T16:04:26.674930Z",
     "start_time": "2019-06-06T16:04:26.619824Z"
    }
   },
   "outputs": [],
   "source": [
    "positions = np.array(client.latest_frame.particle_positions) * 10\n",
    "start_point = positions[60, :]\n",
    "first_nanotube_anchor = positions[0, :]\n",
    "last_nanotube_anchor = positions[59, :]"
   ]
  },
  {
   "cell_type": "code",
   "execution_count": 9,
   "metadata": {
    "ExecuteTime": {
     "end_time": "2019-06-06T16:04:26.778540Z",
     "start_time": "2019-06-06T16:04:26.721845Z"
    }
   },
   "outputs": [],
   "source": [
    "anchor1 = ParticleInteraction(position=first_nanotube_anchor, scale=5000, particles=(0,), interaction_type='gaussian')\n",
    "anchor2 = ParticleInteraction(position=last_nanotube_anchor, scale=5000, particles=(59,), interaction_type='gaussian')\n",
    "\n",
    "anchor1_id = client.start_interaction()\n",
    "client.update_interaction(anchor1_id, anchor1)\n",
    "anchor2_id = client.start_interaction()\n",
    "client.update_interaction(anchor2_id, anchor2)"
   ]
  },
  {
   "cell_type": "code",
   "execution_count": 10,
   "metadata": {
    "ExecuteTime": {
     "end_time": "2019-06-06T16:04:26.884708Z",
     "start_time": "2019-06-06T16:04:26.827325Z"
    }
   },
   "outputs": [],
   "source": [
    "interaction = ParticleInteraction(position=start_point, scale=10000, particles=(60,), interaction_type='spring')\n",
    "interaction_id = client.start_interaction()\n",
    "client.update_interaction(interaction_id, interaction)"
   ]
  },
  {
   "cell_type": "code",
   "execution_count": 11,
   "metadata": {
    "ExecuteTime": {
     "end_time": "2019-06-06T16:04:27.291228Z",
     "start_time": "2019-06-06T16:04:26.945620Z"
    },
    "extensions": {
     "jupyter_dashboards": {
      "version": 1,
      "views": {
       "grid_default": {
        "col": 0,
        "height": 11,
        "hidden": false,
        "row": 0,
        "width": 12
       },
       "report_default": {
        "hidden": false
       }
      }
     }
    }
   },
   "outputs": [
    {
     "data": {
      "application/vnd.jupyter.widget-view+json": {
       "model_id": "8109a6f7400c4d4ab22ce9d0aae0ae7a",
       "version_major": 2,
       "version_minor": 0
      },
      "text/plain": [
       "NGLWidget()"
      ]
     },
     "metadata": {},
     "output_type": "display_data"
    }
   ],
   "source": [
    "client.view"
   ]
  },
  {
   "cell_type": "code",
   "execution_count": 12,
   "metadata": {
    "ExecuteTime": {
     "end_time": "2019-06-06T16:04:27.384256Z",
     "start_time": "2019-06-06T16:04:27.347583Z"
    }
   },
   "outputs": [],
   "source": [
    "client.view.shape.add_sphere(list(start_point), [1, 0, 0], 0.5)\n",
    "client.view.shape.add_sphere(list(first_nanotube_anchor), [1, 0, 1], 0.5)\n",
    "client.view.shape.add_sphere(list(last_nanotube_anchor), [1, 1, 0], 0.5)"
   ]
  },
  {
   "cell_type": "code",
   "execution_count": 13,
   "metadata": {},
   "outputs": [
    {
     "data": {
      "text/plain": [
       "values {\n",
       "  key: \"chain.count\"\n",
       "  value {\n",
       "    number_value: 1.0\n",
       "  }\n",
       "}\n",
       "values {\n",
       "  key: \"energy.kinetic\"\n",
       "  value {\n",
       "    number_value: 2051.4897728419737\n",
       "  }\n",
       "}\n",
       "values {\n",
       "  key: \"energy.potential\"\n",
       "  value {\n",
       "    number_value: 2300.906494140625\n",
       "  }\n",
       "}\n",
       "values {\n",
       "  key: \"particle.count\"\n",
       "  value {\n",
       "    number_value: 65.0\n",
       "  }\n",
       "}\n",
       "values {\n",
       "  key: \"residue.count\"\n",
       "  value {\n",
       "    number_value: 1.0\n",
       "  }\n",
       "}\n",
       "arrays {\n",
       "  key: \"bond.pairs\"\n",
       "  value {\n",
       "    index_values {\n",
       "      values: 0\n",
       "      values: 1\n",
       "      values: 0\n",
       "      values: 11\n",
       "      values: 1\n",
       "      values: 2\n",
       "      values: 2\n",
       "      values: 3\n",
       "      values: 2\n",
       "      values: 13\n",
       "      values: 3\n",
       "      values: 4\n",
       "      values: 3\n",
       "      values: 16\n",
       "      values: 4\n",
       "      values: 5\n",
       "      values: 5\n",
       "      values: 6\n",
       "      values: 6\n",
       "      values: 7\n",
       "      values: 6\n",
       "      values: 17\n",
       "      values: 7\n",
       "      values: 8\n",
       "      values: 7\n",
       "      values: 20\n",
       "      values: 8\n",
       "      values: 9\n",
       "      values: 9\n",
       "      values: 10\n",
       "      values: 10\n",
       "      values: 11\n",
       "      values: 10\n",
       "      values: 21\n",
       "      values: 11\n",
       "      values: 12\n",
       "      values: 12\n",
       "      values: 13\n",
       "      values: 12\n",
       "      values: 23\n",
       "      values: 13\n",
       "      values: 14\n",
       "      values: 14\n",
       "      values: 15\n",
       "      values: 14\n",
       "      values: 25\n",
       "      values: 15\n",
       "      values: 16\n",
       "      values: 15\n",
       "      values: 28\n",
       "      values: 16\n",
       "      values: 17\n",
       "      values: 17\n",
       "      values: 18\n",
       "      values: 18\n",
       "      values: 19\n",
       "      values: 18\n",
       "      values: 29\n",
       "      values: 19\n",
       "      values: 20\n",
       "      values: 19\n",
       "      values: 32\n",
       "      values: 20\n",
       "      values: 21\n",
       "      values: 21\n",
       "      values: 22\n",
       "      values: 22\n",
       "      values: 23\n",
       "      values: 22\n",
       "      values: 33\n",
       "      values: 23\n",
       "      values: 24\n",
       "      values: 24\n",
       "      values: 25\n",
       "      values: 24\n",
       "      values: 35\n",
       "      values: 25\n",
       "      values: 26\n",
       "      values: 26\n",
       "      values: 27\n",
       "      values: 26\n",
       "      values: 37\n",
       "      values: 27\n",
       "      values: 28\n",
       "      values: 27\n",
       "      values: 40\n",
       "      values: 28\n",
       "      values: 29\n",
       "      values: 29\n",
       "      values: 30\n",
       "      values: 30\n",
       "      values: 31\n",
       "      values: 30\n",
       "      values: 41\n",
       "      values: 31\n",
       "      values: 32\n",
       "      values: 31\n",
       "      values: 44\n",
       "      values: 32\n",
       "      values: 33\n",
       "      values: 33\n",
       "      values: 34\n",
       "      values: 34\n",
       "      values: 35\n",
       "      values: 34\n",
       "      values: 45\n",
       "      values: 35\n",
       "      values: 36\n",
       "      values: 36\n",
       "      values: 37\n",
       "      values: 36\n",
       "      values: 47\n",
       "      values: 37\n",
       "      values: 38\n",
       "      values: 38\n",
       "      values: 39\n",
       "      values: 38\n",
       "      values: 49\n",
       "      values: 39\n",
       "      values: 40\n",
       "      values: 39\n",
       "      values: 52\n",
       "      values: 40\n",
       "      values: 41\n",
       "      values: 41\n",
       "      values: 42\n",
       "      values: 42\n",
       "      values: 43\n",
       "      values: 42\n",
       "      values: 53\n",
       "      values: 43\n",
       "      values: 44\n",
       "      values: 43\n",
       "      values: 56\n",
       "      values: 44\n",
       "      values: 45\n",
       "      values: 45\n",
       "      values: 46\n",
       "      values: 46\n",
       "      values: 47\n",
       "      values: 46\n",
       "      values: 57\n",
       "      values: 47\n",
       "      values: 48\n",
       "      values: 48\n",
       "      values: 49\n",
       "      values: 48\n",
       "      values: 59\n",
       "      values: 49\n",
       "      values: 50\n",
       "      values: 50\n",
       "      values: 51\n",
       "      values: 51\n",
       "      values: 52\n",
       "      values: 52\n",
       "      values: 53\n",
       "      values: 53\n",
       "      values: 54\n",
       "      values: 54\n",
       "      values: 55\n",
       "      values: 55\n",
       "      values: 56\n",
       "      values: 56\n",
       "      values: 57\n",
       "      values: 57\n",
       "      values: 58\n",
       "      values: 58\n",
       "      values: 59\n",
       "      values: 60\n",
       "      values: 61\n",
       "      values: 60\n",
       "      values: 62\n",
       "      values: 60\n",
       "      values: 63\n",
       "      values: 60\n",
       "      values: 64\n",
       "    }\n",
       "  }\n",
       "}\n",
       "arrays {\n",
       "  key: \"chain.names\"\n",
       "  value {\n",
       "    string_values {\n",
       "      values: \"A\"\n",
       "    }\n",
       "  }\n",
       "}\n",
       "arrays {\n",
       "  key: \"particle.elements\"\n",
       "  value {\n",
       "    index_values {\n",
       "      values: 6\n",
       "      values: 6\n",
       "      values: 6\n",
       "      values: 6\n",
       "      values: 6\n",
       "      values: 6\n",
       "      values: 6\n",
       "      values: 6\n",
       "      values: 6\n",
       "      values: 6\n",
       "      values: 6\n",
       "      values: 6\n",
       "      values: 6\n",
       "      values: 6\n",
       "      values: 6\n",
       "      values: 6\n",
       "      values: 6\n",
       "      values: 6\n",
       "      values: 6\n",
       "      values: 6\n",
       "      values: 6\n",
       "      values: 6\n",
       "      values: 6\n",
       "      values: 6\n",
       "      values: 6\n",
       "      values: 6\n",
       "      values: 6\n",
       "      values: 6\n",
       "      values: 6\n",
       "      values: 6\n",
       "      values: 6\n",
       "      values: 6\n",
       "      values: 6\n",
       "      values: 6\n",
       "      values: 6\n",
       "      values: 6\n",
       "      values: 6\n",
       "      values: 6\n",
       "      values: 6\n",
       "      values: 6\n",
       "      values: 6\n",
       "      values: 6\n",
       "      values: 6\n",
       "      values: 6\n",
       "      values: 6\n",
       "      values: 6\n",
       "      values: 6\n",
       "      values: 6\n",
       "      values: 6\n",
       "      values: 6\n",
       "      values: 6\n",
       "      values: 6\n",
       "      values: 6\n",
       "      values: 6\n",
       "      values: 6\n",
       "      values: 6\n",
       "      values: 6\n",
       "      values: 6\n",
       "      values: 6\n",
       "      values: 6\n",
       "      values: 6\n",
       "      values: 1\n",
       "      values: 1\n",
       "      values: 1\n",
       "      values: 1\n",
       "    }\n",
       "  }\n",
       "}\n",
       "arrays {\n",
       "  key: \"particle.names\"\n",
       "  value {\n",
       "    string_values {\n",
       "      values: \"mm3_\"\n",
       "      values: \"mm3_\"\n",
       "      values: \"mm3_\"\n",
       "      values: \"mm3_\"\n",
       "      values: \"mm3_\"\n",
       "      values: \"mm3_\"\n",
       "      values: \"mm3_\"\n",
       "      values: \"mm3_\"\n",
       "      values: \"mm3_\"\n",
       "      values: \"mm3_\"\n",
       "      values: \"mm3_\"\n",
       "      values: \"mm3_\"\n",
       "      values: \"mm3_\"\n",
       "      values: \"mm3_\"\n",
       "      values: \"mm3_\"\n",
       "      values: \"mm3_\"\n",
       "      values: \"mm3_\"\n",
       "      values: \"mm3_\"\n",
       "      values: \"mm3_\"\n",
       "      values: \"mm3_\"\n",
       "      values: \"mm3_\"\n",
       "      values: \"mm3_\"\n",
       "      values: \"mm3_\"\n",
       "      values: \"mm3_\"\n",
       "      values: \"mm3_\"\n",
       "      values: \"mm3_\"\n",
       "      values: \"mm3_\"\n",
       "      values: \"mm3_\"\n",
       "      values: \"mm3_\"\n",
       "      values: \"mm3_\"\n",
       "      values: \"mm3_\"\n",
       "      values: \"mm3_\"\n",
       "      values: \"mm3_\"\n",
       "      values: \"mm3_\"\n",
       "      values: \"mm3_\"\n",
       "      values: \"mm3_\"\n",
       "      values: \"mm3_\"\n",
       "      values: \"mm3_\"\n",
       "      values: \"mm3_\"\n",
       "      values: \"mm3_\"\n",
       "      values: \"mm3_\"\n",
       "      values: \"mm3_\"\n",
       "      values: \"mm3_\"\n",
       "      values: \"mm3_\"\n",
       "      values: \"mm3_\"\n",
       "      values: \"mm3_\"\n",
       "      values: \"mm3_\"\n",
       "      values: \"mm3_\"\n",
       "      values: \"mm3_\"\n",
       "      values: \"mm3_\"\n",
       "      values: \"mm3_\"\n",
       "      values: \"mm3_\"\n",
       "      values: \"mm3_\"\n",
       "      values: \"mm3_\"\n",
       "      values: \"mm3_\"\n",
       "      values: \"mm3_\"\n",
       "      values: \"mm3_\"\n",
       "      values: \"mm3_\"\n",
       "      values: \"mm3_\"\n",
       "      values: \"mm3_\"\n",
       "      values: \"mm3_\"\n",
       "      values: \"mm3_\"\n",
       "      values: \"mm3_\"\n",
       "      values: \"mm3_\"\n",
       "      values: \"mm3_\"\n",
       "    }\n",
       "  }\n",
       "}\n",
       "arrays {\n",
       "  key: \"particle.positions\"\n",
       "  value {\n",
       "    float_values {\n",
       "      values: 3.0220894813537598\n",
       "      values: 3.48679518699646\n",
       "      values: 3.4269349575042725\n",
       "      values: 3.064225196838379\n",
       "      values: 3.50644850730896\n",
       "      values: 3.3041303157806396\n",
       "      values: 3.2008421421051025\n",
       "      values: 3.5107128620147705\n",
       "      values: 3.3000078201293945\n",
       "      values: 3.2452638149261475\n",
       "      values: 3.6366031169891357\n",
       "      values: 3.2705399990081787\n",
       "      values: 3.157177448272705\n",
       "      values: 3.737163782119751\n",
       "      values: 3.2482151985168457\n",
       "      values: 3.178075075149536\n",
       "      values: 3.823259115219116\n",
       "      values: 3.3438003063201904\n",
       "      values: 3.2789814472198486\n",
       "      values: 3.7855474948883057\n",
       "      values: 3.4244418144226074\n",
       "      values: 3.2430880069732666\n",
       "      values: 3.7520053386688232\n",
       "      values: 3.549107789993286\n",
       "      values: 3.1223158836364746\n",
       "      values: 3.777282476425171\n",
       "      values: 3.579667568206787\n",
       "      values: 3.0672097206115723\n",
       "      values: 3.663813829421997\n",
       "      values: 3.610617160797119\n",
       "      values: 3.1580097675323486\n",
       "      values: 3.577816963195801\n",
       "      values: 3.59737491607666\n",
       "      values: 3.1402628421783447\n",
       "      values: 3.491854190826416\n",
       "      values: 3.4989171028137207\n",
       "      values: 3.252406120300293\n",
       "      values: 3.4218404293060303\n",
       "      values: 3.476978063583374\n",
       "      values: 3.287036418914795\n",
       "      values: 3.4406468868255615\n",
       "      values: 3.360077142715454\n",
       "      values: 3.4054369926452637\n",
       "      values: 3.4353528022766113\n",
       "      values: 3.3397977352142334\n",
       "      values: 3.4509568214416504\n",
       "      values: 3.550009250640869\n",
       "      values: 3.3178679943084717\n",
       "      values: 3.369262218475342\n",
       "      values: 3.641997814178467\n",
       "      values: 3.3030166625976562\n",
       "      values: 3.3966991901397705\n",
       "      values: 3.730189561843872\n",
       "      values: 3.3874599933624268\n",
       "      values: 3.4881231784820557\n",
       "      values: 3.6969058513641357\n",
       "      values: 3.4637138843536377\n",
       "      values: 3.460714101791382\n",
       "      values: 3.6753647327423096\n",
       "      values: 3.5874109268188477\n",
       "      values: 3.336230754852295\n",
       "      values: 3.688875913619995\n",
       "      values: 3.6150450706481934\n",
       "      values: 3.2794272899627686\n",
       "      values: 3.576195478439331\n",
       "      values: 3.643059253692627\n",
       "      values: 3.3620338439941406\n",
       "      values: 3.4799153804779053\n",
       "      values: 3.64510440826416\n",
       "      values: 3.338381767272949\n",
       "      values: 3.3864622116088867\n",
       "      values: 3.5623929500579834\n",
       "      values: 3.4524922370910645\n",
       "      values: 3.3455095291137695\n",
       "      values: 3.5307421684265137\n",
       "      values: 3.481149673461914\n",
       "      values: 3.3618431091308594\n",
       "      values: 3.4127018451690674\n",
       "      values: 3.602959156036377\n",
       "      values: 3.3539204597473145\n",
       "      values: 3.386652946472168\n",
       "      values: 3.6425817012786865\n",
       "      values: 3.460810661315918\n",
       "      values: 3.3547141551971436\n",
       "      values: 3.5745856761932373\n",
       "      values: 3.562077283859253\n",
       "      values: 3.335955858230591\n",
       "      values: 3.595487117767334\n",
       "      values: 3.644653797149658\n",
       "      values: 3.4231221675872803\n",
       "      values: 3.6873347759246826\n",
       "      values: 3.614623546600342\n",
       "      values: 3.496424674987793\n",
       "      values: 3.657606601715088\n",
       "      values: 3.587498664855957\n",
       "      values: 3.610718250274658\n",
       "      values: 3.5396852493286133\n",
       "      values: 3.5957462787628174\n",
       "      values: 3.6431150436401367\n",
       "      values: 3.4872233867645264\n",
       "      values: 3.4912972450256348\n",
       "      values: 3.6744437217712402\n",
       "      values: 3.5636820793151855\n",
       "      values: 3.3919498920440674\n",
       "      values: 3.690105676651001\n",
       "      values: 3.5394132137298584\n",
       "      values: 3.307589292526245\n",
       "      values: 3.609510898590088\n",
       "      values: 3.6426572799682617\n",
       "      values: 3.2491092681884766\n",
       "      values: 3.5652809143066406\n",
       "      values: 3.6795318126678467\n",
       "      values: 3.280332326889038\n",
       "      values: 3.446244955062866\n",
       "      values: 3.802288055419922\n",
       "      values: 3.2632570266723633\n",
       "      values: 3.4105429649353027\n",
       "      values: 3.851762533187866\n",
       "      values: 3.3725736141204834\n",
       "      values: 3.372850179672241\n",
       "      values: 3.767122507095337\n",
       "      values: 3.4771618843078613\n",
       "      values: 3.363748788833618\n",
       "      values: 3.789186954498291\n",
       "      values: 3.5515902042388916\n",
       "      values: 3.467211961746216\n",
       "      values: 3.8824212551116943\n",
       "      values: 3.518939733505249\n",
       "      values: 3.5422046184539795\n",
       "      values: 3.8554139137268066\n",
       "      values: 3.512202262878418\n",
       "      values: 3.6645517349243164\n",
       "      values: 3.7327136993408203\n",
       "      values: 3.514904260635376\n",
       "      values: 3.679370403289795\n",
       "      values: 3.6852893829345703\n",
       "      values: 3.4029879570007324\n",
       "      values: 3.713806390762329\n",
       "      values: 3.764352321624756\n",
       "      values: 3.311211347579956\n",
       "      values: 3.726106882095337\n",
       "      values: 3.7457900047302246\n",
       "      values: 3.230689287185669\n",
       "      values: 3.6336958408355713\n",
       "      values: 3.8633501529693604\n",
       "      values: 3.186344861984253\n",
       "      values: 3.600013494491577\n",
       "      values: 3.8907876014709473\n",
       "      values: 3.204500675201416\n",
       "      values: 3.4776368141174316\n",
       "      values: 4.002296447753906\n",
       "      values: 3.1625499725341797\n",
       "      values: 3.429102659225464\n",
       "      values: 4.060364246368408\n",
       "      values: 3.280794620513916\n",
       "      values: 3.392957925796509\n",
       "      values: 3.9765703678131104\n",
       "      values: 3.375664234161377\n",
       "      values: 3.410022258758545\n",
       "      values: 3.9863455295562744\n",
       "      values: 3.439826726913452\n",
       "      values: 3.5208630561828613\n",
       "      values: 4.107306003570557\n",
       "      values: 3.440762519836426\n",
       "      values: 3.5855658054351807\n",
       "      values: 4.07261848449707\n",
       "      values: 3.4543371200561523\n",
       "      values: 3.7119851112365723\n",
       "      values: 3.9389688968658447\n",
       "      values: 3.439183473587036\n",
       "      values: 3.721883773803711\n",
       "      values: 3.8879241943359375\n",
       "      values: 3.3209035396575928\n",
       "      values: 3.7626595497131348\n",
       "      values: 3.987762451171875\n",
       "      values: 3.2204744815826416\n",
       "      values: 3.765092372894287\n",
       "      values: 3.962523937225342\n",
       "      values: 3.130131244659424\n",
       "      values: 3.674875259399414\n",
       "      values: 2.7393548488616943\n",
       "      values: 3.8222475051879883\n",
       "      values: 3.3682188987731934\n",
       "      values: 2.6703524589538574\n",
       "      values: 3.8923933506011963\n",
       "      values: 3.424147844314575\n",
       "      values: 2.8354718685150146\n",
       "      values: 3.87227201461792\n",
       "      values: 3.343623161315918\n",
       "      values: 2.7736470699310303\n",
       "      values: 3.7313435077667236\n",
       "      values: 3.4338884353637695\n",
       "      values: 2.6873342990875244\n",
       "      values: 3.7898287773132324\n",
       "      values: 3.2743794918060303\n",
       "    }\n",
       "  }\n",
       "}\n",
       "arrays {\n",
       "  key: \"particle.residues\"\n",
       "  value {\n",
       "    index_values {\n",
       "      values: 0\n",
       "      values: 0\n",
       "      values: 0\n",
       "      values: 0\n",
       "      values: 0\n",
       "      values: 0\n",
       "      values: 0\n",
       "      values: 0\n",
       "      values: 0\n",
       "      values: 0\n",
       "      values: 0\n",
       "      values: 0\n",
       "      values: 0\n",
       "      values: 0\n",
       "      values: 0\n",
       "      values: 0\n",
       "      values: 0\n",
       "      values: 0\n",
       "      values: 0\n",
       "      values: 0\n",
       "      values: 0\n",
       "      values: 0\n",
       "      values: 0\n",
       "      values: 0\n",
       "      values: 0\n",
       "      values: 0\n",
       "      values: 0\n",
       "      values: 0\n",
       "      values: 0\n",
       "      values: 0\n",
       "      values: 0\n",
       "      values: 0\n",
       "      values: 0\n",
       "      values: 0\n",
       "      values: 0\n",
       "      values: 0\n",
       "      values: 0\n",
       "      values: 0\n",
       "      values: 0\n",
       "      values: 0\n",
       "      values: 0\n",
       "      values: 0\n",
       "      values: 0\n",
       "      values: 0\n",
       "      values: 0\n",
       "      values: 0\n",
       "      values: 0\n",
       "      values: 0\n",
       "      values: 0\n",
       "      values: 0\n",
       "      values: 0\n",
       "      values: 0\n",
       "      values: 0\n",
       "      values: 0\n",
       "      values: 0\n",
       "      values: 0\n",
       "      values: 0\n",
       "      values: 0\n",
       "      values: 0\n",
       "      values: 0\n",
       "      values: 0\n",
       "      values: 0\n",
       "      values: 0\n",
       "      values: 0\n",
       "      values: 0\n",
       "    }\n",
       "  }\n",
       "}\n",
       "arrays {\n",
       "  key: \"residue.chains\"\n",
       "  value {\n",
       "    index_values {\n",
       "      values: 0\n",
       "    }\n",
       "  }\n",
       "}\n",
       "arrays {\n",
       "  key: \"residue.ids\"\n",
       "  value {\n",
       "    string_values {\n",
       "      values: \"1\"\n",
       "    }\n",
       "  }\n",
       "}\n",
       "arrays {\n",
       "  key: \"residue.names\"\n",
       "  value {\n",
       "    string_values {\n",
       "      values: \"mm3\"\n",
       "    }\n",
       "  }\n",
       "}\n",
       "arrays {\n",
       "  key: \"system.box.vectors\"\n",
       "  value {\n",
       "    float_values {\n",
       "      values: 7.0\n",
       "      values: 0.0\n",
       "      values: 0.0\n",
       "      values: 0.0\n",
       "      values: 7.0\n",
       "      values: 0.0\n",
       "      values: 0.0\n",
       "      values: 0.0\n",
       "      values: 7.0\n",
       "    }\n",
       "  }\n",
       "}"
      ]
     },
     "execution_count": 13,
     "metadata": {},
     "output_type": "execute_result"
    }
   ],
   "source": [
    "client.first_frame.raw"
   ]
  },
  {
   "cell_type": "code",
   "execution_count": null,
   "metadata": {},
   "outputs": [],
   "source": []
  }
 ],
 "metadata": {
  "extensions": {
   "jupyter_dashboards": {
    "activeView": "grid_default",
    "version": 1,
    "views": {
     "grid_default": {
      "cellMargin": 10,
      "defaultCellHeight": 20,
      "maxColumns": 12,
      "name": "grid",
      "type": "grid"
     },
     "report_default": {
      "name": "report",
      "type": "report"
     }
    }
   }
  },
  "hide_input": false,
  "kernelspec": {
   "display_name": "Python 3",
   "language": "python",
   "name": "python3"
  },
  "language_info": {
   "codemirror_mode": {
    "name": "ipython",
    "version": 3
   },
   "file_extension": ".py",
   "mimetype": "text/x-python",
   "name": "python",
   "nbconvert_exporter": "python",
   "pygments_lexer": "ipython3",
   "version": "3.7.3"
  },
  "toc": {
   "nav_menu": {},
   "number_sections": true,
   "sideBar": true,
   "skip_h1_title": false,
   "toc_cell": false,
   "toc_position": {},
   "toc_section_display": "block",
   "toc_window_display": false
  }
 },
 "nbformat": 4,
 "nbformat_minor": 2
}
