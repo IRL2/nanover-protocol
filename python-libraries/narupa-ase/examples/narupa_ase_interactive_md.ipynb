{
 "cells": [
  {
   "cell_type": "markdown",
   "metadata": {},
   "source": [
    "# Narupa ASE with Interactive Molecular Dynamics"
   ]
  },
  {
   "cell_type": "markdown",
   "metadata": {},
   "source": [
    "This notebook runs an OpenMM simulation of a nanotube with ASE, then uses the client to apply a force to it and NGLViewer to visualise it"
   ]
  },
  {
   "cell_type": "code",
   "execution_count": 1,
   "metadata": {
    "ExecuteTime": {
     "end_time": "2019-06-06T16:04:25.392952Z",
     "start_time": "2019-06-06T16:04:24.453212Z"
    },
    "extensions": {
     "jupyter_dashboards": {
      "version": 1,
      "views": {
       "grid_default": {
        "hidden": true
       },
       "report_default": {
        "hidden": true
       }
      }
     }
    }
   },
   "outputs": [
    {
     "ename": "ModuleNotFoundError",
     "evalue": "No module named 'nglview'",
     "output_type": "error",
     "traceback": [
      "\u001b[1;31m---------------------------------------------------------------------------\u001b[0m",
      "\u001b[1;31mModuleNotFoundError\u001b[0m                       Traceback (most recent call last)",
      "\u001b[1;32m<ipython-input-1-bfee2ad664b3>\u001b[0m in \u001b[0;36m<module>\u001b[1;34m\u001b[0m\n\u001b[0;32m      4\u001b[0m \u001b[1;32mfrom\u001b[0m \u001b[0mnarupa\u001b[0m\u001b[1;33m.\u001b[0m\u001b[0mimd\u001b[0m\u001b[1;33m.\u001b[0m\u001b[0mparticle_interaction\u001b[0m \u001b[1;32mimport\u001b[0m \u001b[0mParticleInteraction\u001b[0m\u001b[1;33m\u001b[0m\u001b[1;33m\u001b[0m\u001b[0m\n\u001b[0;32m      5\u001b[0m \u001b[1;32mimport\u001b[0m \u001b[0mnumpy\u001b[0m \u001b[1;32mas\u001b[0m \u001b[0mnp\u001b[0m\u001b[1;33m\u001b[0m\u001b[1;33m\u001b[0m\u001b[0m\n\u001b[1;32m----> 6\u001b[1;33m \u001b[1;32mimport\u001b[0m \u001b[0mnglview\u001b[0m\u001b[1;33m\u001b[0m\u001b[1;33m\u001b[0m\u001b[0m\n\u001b[0m\u001b[0;32m      7\u001b[0m \u001b[1;32mimport\u001b[0m \u001b[0mMDAnalysis\u001b[0m \u001b[1;32mas\u001b[0m \u001b[0mmda\u001b[0m\u001b[1;33m\u001b[0m\u001b[1;33m\u001b[0m\u001b[0m\n\u001b[0;32m      8\u001b[0m \u001b[1;32mimport\u001b[0m \u001b[0mmatplotlib\u001b[0m\u001b[1;33m.\u001b[0m\u001b[0mpyplot\u001b[0m \u001b[1;32mas\u001b[0m \u001b[0mplt\u001b[0m\u001b[1;33m\u001b[0m\u001b[1;33m\u001b[0m\u001b[0m\n",
      "\u001b[1;31mModuleNotFoundError\u001b[0m: No module named 'nglview'"
     ]
    }
   ],
   "source": [
    "from narupa.app.client import NarupaImdClient\n",
    "from narupa.ase.openmm import OpenMMIMDRunner\n",
    "from narupa.ase.converter import frame_data_to_ase\n",
    "from narupa.imd.particle_interaction import ParticleInteraction\n",
    "import numpy as np\n",
    "import nglview\n",
    "import MDAnalysis as mda\n",
    "import matplotlib.pyplot as plt\n",
    "from queue import Queue"
   ]
  },
  {
   "cell_type": "markdown",
   "metadata": {
    "extensions": {
     "jupyter_dashboards": {
      "version": 1,
      "views": {
       "grid_default": {
        "col": 0,
        "height": 4,
        "hidden": true,
        "row": 0,
        "width": 4
       },
       "report_default": {
        "hidden": false
       }
      }
     }
    }
   },
   "source": [
    "## Run the server"
   ]
  },
  {
   "cell_type": "markdown",
   "metadata": {
    "extensions": {
     "jupyter_dashboards": {
      "version": 1,
      "views": {
       "grid_default": {
        "col": 4,
        "height": 4,
        "hidden": true,
        "row": 0,
        "width": 4
       },
       "report_default": {
        "hidden": false
       }
      }
     }
    }
   },
   "source": [
    "Run the server. Here, we're using ASE, but it could be LAMMPS or OpenMM or anything else. "
   ]
  },
  {
   "cell_type": "code",
   "execution_count": 2,
   "metadata": {
    "ExecuteTime": {
     "end_time": "2019-06-06T16:04:25.397984Z",
     "start_time": "2019-06-06T16:04:25.395015Z"
    },
    "extensions": {
     "jupyter_dashboards": {
      "version": 1,
      "views": {
       "grid_default": {
        "hidden": true
       },
       "report_default": {
        "hidden": true
       }
      }
     }
    }
   },
   "outputs": [],
   "source": [
    "# set up an openmm simulation, or read from file. \n",
    "input_xml = \"nanotube.xml\"\n"
   ]
  },
  {
   "cell_type": "code",
   "execution_count": 3,
   "metadata": {
    "ExecuteTime": {
     "end_time": "2019-06-06T16:04:25.493146Z",
     "start_time": "2019-06-06T16:04:25.400442Z"
    },
    "extensions": {
     "jupyter_dashboards": {
      "version": 1,
      "views": {
       "grid_default": {
        "col": 8,
        "height": 12,
        "hidden": true,
        "row": 0,
        "width": 4
       },
       "report_default": {
        "hidden": false
       }
      }
     }
    },
    "scrolled": true
   },
   "outputs": [
    {
     "name": "stderr",
     "output_type": "stream",
     "text": [
      "C:\\Users\\mike\\Anaconda3\\envs\\grpc\\lib\\site-packages\\simtk\\openmm\\app\\internal\\pdbstructure.py:537: UserWarning: WARNING: duplicate atom (HETATM    2 mm3_ mm3 A   1      30.047  35.164  32.988  1.00  0.00           C  , HETATM    1 mm3_ mm3 A   1      29.729  34.950  34.124  1.00  0.00           C  )\n",
      "  warnings.warn(\"WARNING: duplicate atom (%s, %s)\" % (atom, old_atom._pdb_string(old_atom.serial_number, atom.alternate_location_indicator)))\n",
      "C:\\Users\\mike\\Anaconda3\\envs\\grpc\\lib\\site-packages\\simtk\\openmm\\app\\internal\\pdbstructure.py:537: UserWarning: WARNING: duplicate atom (HETATM    3 mm3_ mm3 A   1      31.361  35.154  32.407  1.00  0.00           C  , HETATM    2 mm3_ mm3 A   1      30.047  35.164  32.988  1.00  0.00           C  )\n",
      "  warnings.warn(\"WARNING: duplicate atom (%s, %s)\" % (atom, old_atom._pdb_string(old_atom.serial_number, atom.alternate_location_indicator)))\n",
      "C:\\Users\\mike\\Anaconda3\\envs\\grpc\\lib\\site-packages\\simtk\\openmm\\app\\internal\\pdbstructure.py:537: UserWarning: WARNING: duplicate atom (HETATM    4 mm3_ mm3 A   1      31.990  36.464  32.037  1.00  0.00           C  , HETATM    3 mm3_ mm3 A   1      31.361  35.154  32.407  1.00  0.00           C  )\n",
      "  warnings.warn(\"WARNING: duplicate atom (%s, %s)\" % (atom, old_atom._pdb_string(old_atom.serial_number, atom.alternate_location_indicator)))\n",
      "C:\\Users\\mike\\Anaconda3\\envs\\grpc\\lib\\site-packages\\simtk\\openmm\\app\\internal\\pdbstructure.py:537: UserWarning: WARNING: duplicate atom (HETATM    5 mm3_ mm3 A   1      31.251  37.673  32.280  1.00  0.00           C  , HETATM    4 mm3_ mm3 A   1      31.990  36.464  32.037  1.00  0.00           C  )\n",
      "  warnings.warn(\"WARNING: duplicate atom (%s, %s)\" % (atom, old_atom._pdb_string(old_atom.serial_number, atom.alternate_location_indicator)))\n",
      "C:\\Users\\mike\\Anaconda3\\envs\\grpc\\lib\\site-packages\\simtk\\openmm\\app\\internal\\pdbstructure.py:537: UserWarning: WARNING: duplicate atom (HETATM    6 mm3_ mm3 A   1      31.438  38.508  33.119  1.00  0.00           C  , HETATM    5 mm3_ mm3 A   1      31.251  37.673  32.280  1.00  0.00           C  )\n",
      "  warnings.warn(\"WARNING: duplicate atom (%s, %s)\" % (atom, old_atom._pdb_string(old_atom.serial_number, atom.alternate_location_indicator)))\n",
      "C:\\Users\\mike\\Anaconda3\\envs\\grpc\\lib\\site-packages\\simtk\\openmm\\app\\internal\\pdbstructure.py:537: UserWarning: WARNING: duplicate atom (HETATM    7 mm3_ mm3 A   1      32.460  38.555  34.126  1.00  0.00           C  , HETATM    6 mm3_ mm3 A   1      31.438  38.508  33.119  1.00  0.00           C  )\n",
      "  warnings.warn(\"WARNING: duplicate atom (%s, %s)\" % (atom, old_atom._pdb_string(old_atom.serial_number, atom.alternate_location_indicator)))\n",
      "C:\\Users\\mike\\Anaconda3\\envs\\grpc\\lib\\site-packages\\simtk\\openmm\\app\\internal\\pdbstructure.py:537: UserWarning: WARNING: duplicate atom (HETATM    8 mm3_ mm3 A   1      32.081  38.316  35.554  1.00  0.00           C  , HETATM    7 mm3_ mm3 A   1      32.460  38.555  34.126  1.00  0.00           C  )\n",
      "  warnings.warn(\"WARNING: duplicate atom (%s, %s)\" % (atom, old_atom._pdb_string(old_atom.serial_number, atom.alternate_location_indicator)))\n",
      "C:\\Users\\mike\\Anaconda3\\envs\\grpc\\lib\\site-packages\\simtk\\openmm\\app\\internal\\pdbstructure.py:537: UserWarning: WARNING: duplicate atom (HETATM    9 mm3_ mm3 A   1      30.700  38.168  35.890  1.00  0.00           C  , HETATM    8 mm3_ mm3 A   1      32.081  38.316  35.554  1.00  0.00           C  )\n",
      "  warnings.warn(\"WARNING: duplicate atom (%s, %s)\" % (atom, old_atom._pdb_string(old_atom.serial_number, atom.alternate_location_indicator)))\n",
      "C:\\Users\\mike\\Anaconda3\\envs\\grpc\\lib\\site-packages\\simtk\\openmm\\app\\internal\\pdbstructure.py:537: UserWarning: WARNING: duplicate atom (HETATM   10 mm3_ mm3 A   1      30.053  36.855  36.271  1.00  0.00           C  , HETATM    9 mm3_ mm3 A   1      30.700  38.168  35.890  1.00  0.00           C  )\n",
      "  warnings.warn(\"WARNING: duplicate atom (%s, %s)\" % (atom, old_atom._pdb_string(old_atom.serial_number, atom.alternate_location_indicator)))\n",
      "C:\\Users\\mike\\Anaconda3\\envs\\grpc\\lib\\site-packages\\simtk\\openmm\\app\\internal\\pdbstructure.py:537: UserWarning: WARNING: duplicate atom (HETATM   11 mm3_ mm3 A   1      30.789  35.629  36.314  1.00  0.00           C  , HETATM   10 mm3_ mm3 A   1      30.053  36.855  36.271  1.00  0.00           C  )\n",
      "  warnings.warn(\"WARNING: duplicate atom (%s, %s)\" % (atom, old_atom._pdb_string(old_atom.serial_number, atom.alternate_location_indicator)))\n",
      "C:\\Users\\mike\\Anaconda3\\envs\\grpc\\lib\\site-packages\\simtk\\openmm\\app\\internal\\pdbstructure.py:537: UserWarning: WARNING: duplicate atom (HETATM   12 mm3_ mm3 A   1      30.565  34.610  35.241  1.00  0.00           C  , HETATM   11 mm3_ mm3 A   1      30.789  35.629  36.314  1.00  0.00           C  )\n",
      "  warnings.warn(\"WARNING: duplicate atom (%s, %s)\" % (atom, old_atom._pdb_string(old_atom.serial_number, atom.alternate_location_indicator)))\n",
      "C:\\Users\\mike\\Anaconda3\\envs\\grpc\\lib\\site-packages\\simtk\\openmm\\app\\internal\\pdbstructure.py:537: UserWarning: WARNING: duplicate atom (HETATM   13 mm3_ mm3 A   1      31.823  33.918  34.703  1.00  0.00           C  , HETATM   12 mm3_ mm3 A   1      30.565  34.610  35.241  1.00  0.00           C  )\n",
      "  warnings.warn(\"WARNING: duplicate atom (%s, %s)\" % (atom, old_atom._pdb_string(old_atom.serial_number, atom.alternate_location_indicator)))\n",
      "C:\\Users\\mike\\Anaconda3\\envs\\grpc\\lib\\site-packages\\simtk\\openmm\\app\\internal\\pdbstructure.py:537: UserWarning: WARNING: duplicate atom (HETATM   14 mm3_ mm3 A   1      32.238  34.199  33.228  1.00  0.00           C  , HETATM   13 mm3_ mm3 A   1      31.823  33.918  34.703  1.00  0.00           C  )\n",
      "  warnings.warn(\"WARNING: duplicate atom (%s, %s)\" % (atom, old_atom._pdb_string(old_atom.serial_number, atom.alternate_location_indicator)))\n",
      "C:\\Users\\mike\\Anaconda3\\envs\\grpc\\lib\\site-packages\\simtk\\openmm\\app\\internal\\pdbstructure.py:537: UserWarning: WARNING: duplicate atom (HETATM   15 mm3_ mm3 A   1      33.710  34.171  32.947  1.00  0.00           C  , HETATM   14 mm3_ mm3 A   1      32.238  34.199  33.228  1.00  0.00           C  )\n",
      "  warnings.warn(\"WARNING: duplicate atom (%s, %s)\" % (atom, old_atom._pdb_string(old_atom.serial_number, atom.alternate_location_indicator)))\n",
      "C:\\Users\\mike\\Anaconda3\\envs\\grpc\\lib\\site-packages\\simtk\\openmm\\app\\internal\\pdbstructure.py:537: UserWarning: WARNING: duplicate atom (HETATM   16 mm3_ mm3 A   1      34.345  35.492  32.573  1.00  0.00           C  , HETATM   15 mm3_ mm3 A   1      33.710  34.171  32.947  1.00  0.00           C  )\n",
      "  warnings.warn(\"WARNING: duplicate atom (%s, %s)\" % (atom, old_atom._pdb_string(old_atom.serial_number, atom.alternate_location_indicator)))\n",
      "C:\\Users\\mike\\Anaconda3\\envs\\grpc\\lib\\site-packages\\simtk\\openmm\\app\\internal\\pdbstructure.py:537: UserWarning: WARNING: duplicate atom (HETATM   17 mm3_ mm3 A   1      33.429  36.677  32.527  1.00  0.00           C  , HETATM   16 mm3_ mm3 A   1      34.345  35.492  32.573  1.00  0.00           C  )\n",
      "  warnings.warn(\"WARNING: duplicate atom (%s, %s)\" % (atom, old_atom._pdb_string(old_atom.serial_number, atom.alternate_location_indicator)))\n",
      "C:\\Users\\mike\\Anaconda3\\envs\\grpc\\lib\\site-packages\\simtk\\openmm\\app\\internal\\pdbstructure.py:537: UserWarning: WARNING: duplicate atom (HETATM   18 mm3_ mm3 A   1      33.672  37.765  33.615  1.00  0.00           C  , HETATM   17 mm3_ mm3 A   1      33.429  36.677  32.527  1.00  0.00           C  )\n",
      "  warnings.warn(\"WARNING: duplicate atom (%s, %s)\" % (atom, old_atom._pdb_string(old_atom.serial_number, atom.alternate_location_indicator)))\n",
      "C:\\Users\\mike\\Anaconda3\\envs\\grpc\\lib\\site-packages\\simtk\\openmm\\app\\internal\\pdbstructure.py:537: UserWarning: WARNING: duplicate atom (HETATM   19 mm3_ mm3 A   1      34.784  37.487  34.578  1.00  0.00           C  , HETATM   18 mm3_ mm3 A   1      33.672  37.765  33.615  1.00  0.00           C  )\n",
      "  warnings.warn(\"WARNING: duplicate atom (%s, %s)\" % (atom, old_atom._pdb_string(old_atom.serial_number, atom.alternate_location_indicator)))\n",
      "C:\\Users\\mike\\Anaconda3\\envs\\grpc\\lib\\site-packages\\simtk\\openmm\\app\\internal\\pdbstructure.py:537: UserWarning: WARNING: duplicate atom (HETATM   20 mm3_ mm3 A   1      34.374  37.216  36.009  1.00  0.00           C  , HETATM   19 mm3_ mm3 A   1      34.784  37.487  34.578  1.00  0.00           C  )\n",
      "  warnings.warn(\"WARNING: duplicate atom (%s, %s)\" % (atom, old_atom._pdb_string(old_atom.serial_number, atom.alternate_location_indicator)))\n",
      "C:\\Users\\mike\\Anaconda3\\envs\\grpc\\lib\\site-packages\\simtk\\openmm\\app\\internal\\pdbstructure.py:537: UserWarning: WARNING: duplicate atom (HETATM   21 mm3_ mm3 A   1      32.900  37.261  36.294  1.00  0.00           C  , HETATM   20 mm3_ mm3 A   1      34.374  37.216  36.009  1.00  0.00           C  )\n",
      "  warnings.warn(\"WARNING: duplicate atom (%s, %s)\" % (atom, old_atom._pdb_string(old_atom.serial_number, atom.alternate_location_indicator)))\n",
      "C:\\Users\\mike\\Anaconda3\\envs\\grpc\\lib\\site-packages\\simtk\\openmm\\app\\internal\\pdbstructure.py:537: UserWarning: WARNING: duplicate atom (HETATM   22 mm3_ mm3 A   1      32.247  35.904  36.679  1.00  0.00           C  , HETATM   21 mm3_ mm3 A   1      32.900  37.261  36.294  1.00  0.00           C  )\n",
      "  warnings.warn(\"WARNING: duplicate atom (%s, %s)\" % (atom, old_atom._pdb_string(old_atom.serial_number, atom.alternate_location_indicator)))\n",
      "C:\\Users\\mike\\Anaconda3\\envs\\grpc\\lib\\site-packages\\simtk\\openmm\\app\\internal\\pdbstructure.py:537: UserWarning: WARNING: duplicate atom (HETATM   23 mm3_ mm3 A   1      33.176  34.723  36.714  1.00  0.00           C  , HETATM   22 mm3_ mm3 A   1      32.247  35.904  36.679  1.00  0.00           C  )\n",
      "  warnings.warn(\"WARNING: duplicate atom (%s, %s)\" % (atom, old_atom._pdb_string(old_atom.serial_number, atom.alternate_location_indicator)))\n",
      "C:\\Users\\mike\\Anaconda3\\envs\\grpc\\lib\\site-packages\\simtk\\openmm\\app\\internal\\pdbstructure.py:537: UserWarning: WARNING: duplicate atom (HETATM   24 mm3_ mm3 A   1      32.947  33.664  35.659  1.00  0.00           C  , HETATM   23 mm3_ mm3 A   1      33.176  34.723  36.714  1.00  0.00           C  )\n",
      "  warnings.warn(\"WARNING: duplicate atom (%s, %s)\" % (atom, old_atom._pdb_string(old_atom.serial_number, atom.alternate_location_indicator)))\n",
      "C:\\Users\\mike\\Anaconda3\\envs\\grpc\\lib\\site-packages\\simtk\\openmm\\app\\internal\\pdbstructure.py:537: UserWarning: WARNING: duplicate atom (HETATM   25 mm3_ mm3 A   1      34.162  32.946  35.158  1.00  0.00           C  , HETATM   24 mm3_ mm3 A   1      32.947  33.664  35.659  1.00  0.00           C  )\n",
      "  warnings.warn(\"WARNING: duplicate atom (%s, %s)\" % (atom, old_atom._pdb_string(old_atom.serial_number, atom.alternate_location_indicator)))\n",
      "C:\\Users\\mike\\Anaconda3\\envs\\grpc\\lib\\site-packages\\simtk\\openmm\\app\\internal\\pdbstructure.py:537: UserWarning: WARNING: duplicate atom (HETATM   26 mm3_ mm3 A   1      34.567  33.213  33.721  1.00  0.00           C  , HETATM   25 mm3_ mm3 A   1      34.162  32.946  35.158  1.00  0.00           C  )\n",
      "  warnings.warn(\"WARNING: duplicate atom (%s, %s)\" % (atom, old_atom._pdb_string(old_atom.serial_number, atom.alternate_location_indicator)))\n",
      "C:\\Users\\mike\\Anaconda3\\envs\\grpc\\lib\\site-packages\\simtk\\openmm\\app\\internal\\pdbstructure.py:537: UserWarning: WARNING: duplicate atom (HETATM   27 mm3_ mm3 A   1      36.040  33.186  33.429  1.00  0.00           C  , HETATM   26 mm3_ mm3 A   1      34.567  33.213  33.721  1.00  0.00           C  )\n",
      "  warnings.warn(\"WARNING: duplicate atom (%s, %s)\" % (atom, old_atom._pdb_string(old_atom.serial_number, atom.alternate_location_indicator)))\n",
      "C:\\Users\\mike\\Anaconda3\\envs\\grpc\\lib\\site-packages\\simtk\\openmm\\app\\internal\\pdbstructure.py:537: UserWarning: WARNING: duplicate atom (HETATM   28 mm3_ mm3 A   1      36.676  34.508  33.055  1.00  0.00           C  , HETATM   27 mm3_ mm3 A   1      36.040  33.186  33.429  1.00  0.00           C  )\n",
      "  warnings.warn(\"WARNING: duplicate atom (%s, %s)\" % (atom, old_atom._pdb_string(old_atom.serial_number, atom.alternate_location_indicator)))\n",
      "C:\\Users\\mike\\Anaconda3\\envs\\grpc\\lib\\site-packages\\simtk\\openmm\\app\\internal\\pdbstructure.py:537: UserWarning: WARNING: duplicate atom (HETATM   29 mm3_ mm3 A   1      35.763  35.700  33.018  1.00  0.00           C  , HETATM   28 mm3_ mm3 A   1      36.676  34.508  33.055  1.00  0.00           C  )\n",
      "  warnings.warn(\"WARNING: duplicate atom (%s, %s)\" % (atom, old_atom._pdb_string(old_atom.serial_number, atom.alternate_location_indicator)))\n",
      "C:\\Users\\mike\\Anaconda3\\envs\\grpc\\lib\\site-packages\\simtk\\openmm\\app\\internal\\pdbstructure.py:537: UserWarning: WARNING: duplicate atom (HETATM   30 mm3_ mm3 A   1      35.994  36.757  34.080  1.00  0.00           C  , HETATM   29 mm3_ mm3 A   1      35.763  35.700  33.018  1.00  0.00           C  )\n",
      "  warnings.warn(\"WARNING: duplicate atom (%s, %s)\" % (atom, old_atom._pdb_string(old_atom.serial_number, atom.alternate_location_indicator)))\n",
      "C:\\Users\\mike\\Anaconda3\\envs\\grpc\\lib\\site-packages\\simtk\\openmm\\app\\internal\\pdbstructure.py:537: UserWarning: WARNING: duplicate atom (HETATM   31 mm3_ mm3 A   1      37.108  36.496  35.050  1.00  0.00           C  , HETATM   30 mm3_ mm3 A   1      35.994  36.757  34.080  1.00  0.00           C  )\n",
      "  warnings.warn(\"WARNING: duplicate atom (%s, %s)\" % (atom, old_atom._pdb_string(old_atom.serial_number, atom.alternate_location_indicator)))\n",
      "C:\\Users\\mike\\Anaconda3\\envs\\grpc\\lib\\site-packages\\simtk\\openmm\\app\\internal\\pdbstructure.py:537: UserWarning: WARNING: duplicate atom (HETATM   32 mm3_ mm3 A   1      36.702  36.228  36.486  1.00  0.00           C  , HETATM   31 mm3_ mm3 A   1      37.108  36.496  35.050  1.00  0.00           C  )\n",
      "  warnings.warn(\"WARNING: duplicate atom (%s, %s)\" % (atom, old_atom._pdb_string(old_atom.serial_number, atom.alternate_location_indicator)))\n",
      "C:\\Users\\mike\\Anaconda3\\envs\\grpc\\lib\\site-packages\\simtk\\openmm\\app\\internal\\pdbstructure.py:537: UserWarning: WARNING: duplicate atom (HETATM   33 mm3_ mm3 A   1      35.229  36.255  36.778  1.00  0.00           C  , HETATM   32 mm3_ mm3 A   1      36.702  36.228  36.486  1.00  0.00           C  )\n",
      "  warnings.warn(\"WARNING: duplicate atom (%s, %s)\" % (atom, old_atom._pdb_string(old_atom.serial_number, atom.alternate_location_indicator)))\n",
      "C:\\Users\\mike\\Anaconda3\\envs\\grpc\\lib\\site-packages\\simtk\\openmm\\app\\internal\\pdbstructure.py:537: UserWarning: WARNING: duplicate atom (HETATM   34 mm3_ mm3 A   1      34.593  34.933  37.153  1.00  0.00           C  , HETATM   33 mm3_ mm3 A   1      35.229  36.255  36.778  1.00  0.00           C  )\n",
      "  warnings.warn(\"WARNING: duplicate atom (%s, %s)\" % (atom, old_atom._pdb_string(old_atom.serial_number, atom.alternate_location_indicator)))\n",
      "C:\\Users\\mike\\Anaconda3\\envs\\grpc\\lib\\site-packages\\simtk\\openmm\\app\\internal\\pdbstructure.py:537: UserWarning: WARNING: duplicate atom (HETATM   35 mm3_ mm3 A   1      35.506  33.741  37.190  1.00  0.00           C  , HETATM   34 mm3_ mm3 A   1      34.593  34.933  37.153  1.00  0.00           C  )\n",
      "  warnings.warn(\"WARNING: duplicate atom (%s, %s)\" % (atom, old_atom._pdb_string(old_atom.serial_number, atom.alternate_location_indicator)))\n",
      "C:\\Users\\mike\\Anaconda3\\envs\\grpc\\lib\\site-packages\\simtk\\openmm\\app\\internal\\pdbstructure.py:537: UserWarning: WARNING: duplicate atom (HETATM   36 mm3_ mm3 A   1      35.275  32.684  36.128  1.00  0.00           C  , HETATM   35 mm3_ mm3 A   1      35.506  33.741  37.190  1.00  0.00           C  )\n",
      "  warnings.warn(\"WARNING: duplicate atom (%s, %s)\" % (atom, old_atom._pdb_string(old_atom.serial_number, atom.alternate_location_indicator)))\n",
      "C:\\Users\\mike\\Anaconda3\\envs\\grpc\\lib\\site-packages\\simtk\\openmm\\app\\internal\\pdbstructure.py:537: UserWarning: WARNING: duplicate atom (HETATM   37 mm3_ mm3 A   1      36.485  31.955  35.629  1.00  0.00           C  , HETATM   36 mm3_ mm3 A   1      35.275  32.684  36.128  1.00  0.00           C  )\n",
      "  warnings.warn(\"WARNING: duplicate atom (%s, %s)\" % (atom, old_atom._pdb_string(old_atom.serial_number, atom.alternate_location_indicator)))\n",
      "C:\\Users\\mike\\Anaconda3\\envs\\grpc\\lib\\site-packages\\simtk\\openmm\\app\\internal\\pdbstructure.py:537: UserWarning: WARNING: duplicate atom (HETATM   38 mm3_ mm3 A   1      36.895  32.226  34.199  1.00  0.00           C  , HETATM   37 mm3_ mm3 A   1      36.485  31.955  35.629  1.00  0.00           C  )\n",
      "  warnings.warn(\"WARNING: duplicate atom (%s, %s)\" % (atom, old_atom._pdb_string(old_atom.serial_number, atom.alternate_location_indicator)))\n",
      "C:\\Users\\mike\\Anaconda3\\envs\\grpc\\lib\\site-packages\\simtk\\openmm\\app\\internal\\pdbstructure.py:537: UserWarning: WARNING: duplicate atom (HETATM   39 mm3_ mm3 A   1      38.369  32.180  33.914  1.00  0.00           C  , HETATM   38 mm3_ mm3 A   1      36.895  32.226  34.199  1.00  0.00           C  )\n",
      "  warnings.warn(\"WARNING: duplicate atom (%s, %s)\" % (atom, old_atom._pdb_string(old_atom.serial_number, atom.alternate_location_indicator)))\n",
      "C:\\Users\\mike\\Anaconda3\\envs\\grpc\\lib\\site-packages\\simtk\\openmm\\app\\internal\\pdbstructure.py:537: UserWarning: WARNING: duplicate atom (HETATM   40 mm3_ mm3 A   1      39.023  33.538  33.529  1.00  0.00           C  , HETATM   39 mm3_ mm3 A   1      38.369  32.180  33.914  1.00  0.00           C  )\n",
      "  warnings.warn(\"WARNING: duplicate atom (%s, %s)\" % (atom, old_atom._pdb_string(old_atom.serial_number, atom.alternate_location_indicator)))\n",
      "C:\\Users\\mike\\Anaconda3\\envs\\grpc\\lib\\site-packages\\simtk\\openmm\\app\\internal\\pdbstructure.py:537: UserWarning: WARNING: duplicate atom (HETATM   41 mm3_ mm3 A   1      38.094  34.718  33.493  1.00  0.00           C  , HETATM   40 mm3_ mm3 A   1      39.023  33.538  33.529  1.00  0.00           C  )\n",
      "  warnings.warn(\"WARNING: duplicate atom (%s, %s)\" % (atom, old_atom._pdb_string(old_atom.serial_number, atom.alternate_location_indicator)))\n",
      "C:\\Users\\mike\\Anaconda3\\envs\\grpc\\lib\\site-packages\\simtk\\openmm\\app\\internal\\pdbstructure.py:537: UserWarning: WARNING: duplicate atom (HETATM   42 mm3_ mm3 A   1      38.323  35.778  34.548  1.00  0.00           C  , HETATM   41 mm3_ mm3 A   1      38.094  34.718  33.493  1.00  0.00           C  )\n",
      "  warnings.warn(\"WARNING: duplicate atom (%s, %s)\" % (atom, old_atom._pdb_string(old_atom.serial_number, atom.alternate_location_indicator)))\n",
      "C:\\Users\\mike\\Anaconda3\\envs\\grpc\\lib\\site-packages\\simtk\\openmm\\app\\internal\\pdbstructure.py:537: UserWarning: WARNING: duplicate atom (HETATM   43 mm3_ mm3 A   1      39.446  35.524  35.505  1.00  0.00           C  , HETATM   42 mm3_ mm3 A   1      38.323  35.778  34.548  1.00  0.00           C  )\n",
      "  warnings.warn(\"WARNING: duplicate atom (%s, %s)\" % (atom, old_atom._pdb_string(old_atom.serial_number, atom.alternate_location_indicator)))\n",
      "C:\\Users\\mike\\Anaconda3\\envs\\grpc\\lib\\site-packages\\simtk\\openmm\\app\\internal\\pdbstructure.py:537: UserWarning: WARNING: duplicate atom (HETATM   44 mm3_ mm3 A   1      39.031  35.243  36.980  1.00  0.00           C  , HETATM   43 mm3_ mm3 A   1      39.446  35.524  35.505  1.00  0.00           C  )\n",
      "  warnings.warn(\"WARNING: duplicate atom (%s, %s)\" % (atom, old_atom._pdb_string(old_atom.serial_number, atom.alternate_location_indicator)))\n",
      "C:\\Users\\mike\\Anaconda3\\envs\\grpc\\lib\\site-packages\\simtk\\openmm\\app\\internal\\pdbstructure.py:537: UserWarning: WARNING: duplicate atom (HETATM   45 mm3_ mm3 A   1      37.559  35.271  37.260  1.00  0.00           C  , HETATM   44 mm3_ mm3 A   1      39.031  35.243  36.980  1.00  0.00           C  )\n",
      "  warnings.warn(\"WARNING: duplicate atom (%s, %s)\" % (atom, old_atom._pdb_string(old_atom.serial_number, atom.alternate_location_indicator)))\n",
      "C:\\Users\\mike\\Anaconda3\\envs\\grpc\\lib\\site-packages\\simtk\\openmm\\app\\internal\\pdbstructure.py:537: UserWarning: WARNING: duplicate atom (HETATM   46 mm3_ mm3 A   1      36.924  33.950  37.634  1.00  0.00           C  , HETATM   45 mm3_ mm3 A   1      37.559  35.271  37.260  1.00  0.00           C  )\n",
      "  warnings.warn(\"WARNING: duplicate atom (%s, %s)\" % (atom, old_atom._pdb_string(old_atom.serial_number, atom.alternate_location_indicator)))\n",
      "C:\\Users\\mike\\Anaconda3\\envs\\grpc\\lib\\site-packages\\simtk\\openmm\\app\\internal\\pdbstructure.py:537: UserWarning: WARNING: duplicate atom (HETATM   47 mm3_ mm3 A   1      37.840  32.764  37.681  1.00  0.00           C  , HETATM   46 mm3_ mm3 A   1      36.924  33.950  37.634  1.00  0.00           C  )\n",
      "  warnings.warn(\"WARNING: duplicate atom (%s, %s)\" % (atom, old_atom._pdb_string(old_atom.serial_number, atom.alternate_location_indicator)))\n",
      "C:\\Users\\mike\\Anaconda3\\envs\\grpc\\lib\\site-packages\\simtk\\openmm\\app\\internal\\pdbstructure.py:537: UserWarning: WARNING: duplicate atom (HETATM   48 mm3_ mm3 A   1      37.597  31.676  36.593  1.00  0.00           C  , HETATM   47 mm3_ mm3 A   1      37.840  32.764  37.681  1.00  0.00           C  )\n",
      "  warnings.warn(\"WARNING: duplicate atom (%s, %s)\" % (atom, old_atom._pdb_string(old_atom.serial_number, atom.alternate_location_indicator)))\n",
      "C:\\Users\\mike\\Anaconda3\\envs\\grpc\\lib\\site-packages\\simtk\\openmm\\app\\internal\\pdbstructure.py:537: UserWarning: WARNING: duplicate atom (HETATM   49 mm3_ mm3 A   1      38.809  30.886  36.082  1.00  0.00           C  , HETATM   48 mm3_ mm3 A   1      37.597  31.676  36.593  1.00  0.00           C  )\n",
      "  warnings.warn(\"WARNING: duplicate atom (%s, %s)\" % (atom, old_atom._pdb_string(old_atom.serial_number, atom.alternate_location_indicator)))\n",
      "C:\\Users\\mike\\Anaconda3\\envs\\grpc\\lib\\site-packages\\simtk\\openmm\\app\\internal\\pdbstructure.py:537: UserWarning: WARNING: duplicate atom (HETATM   50 mm3_ mm3 A   1      39.188  31.126  34.654  1.00  0.00           C  , HETATM   49 mm3_ mm3 A   1      38.809  30.886  36.082  1.00  0.00           C  )\n",
      "  warnings.warn(\"WARNING: duplicate atom (%s, %s)\" % (atom, old_atom._pdb_string(old_atom.serial_number, atom.alternate_location_indicator)))\n",
      "C:\\Users\\mike\\Anaconda3\\envs\\grpc\\lib\\site-packages\\simtk\\openmm\\app\\internal\\pdbstructure.py:537: UserWarning: WARNING: duplicate atom (HETATM   51 mm3_ mm3 A   1      40.570  31.274  34.320  1.00  0.00           C  , HETATM   50 mm3_ mm3 A   1      39.188  31.126  34.654  1.00  0.00           C  )\n",
      "  warnings.warn(\"WARNING: duplicate atom (%s, %s)\" % (atom, old_atom._pdb_string(old_atom.serial_number, atom.alternate_location_indicator)))\n",
      "C:\\Users\\mike\\Anaconda3\\envs\\grpc\\lib\\site-packages\\simtk\\openmm\\app\\internal\\pdbstructure.py:537: UserWarning: WARNING: duplicate atom (HETATM   52 mm3_ mm3 A   1      41.217  32.586  33.939  1.00  0.00           C  , HETATM   51 mm3_ mm3 A   1      40.570  31.274  34.320  1.00  0.00           C  )\n",
      "  warnings.warn(\"WARNING: duplicate atom (%s, %s)\" % (atom, old_atom._pdb_string(old_atom.serial_number, atom.alternate_location_indicator)))\n",
      "C:\\Users\\mike\\Anaconda3\\envs\\grpc\\lib\\site-packages\\simtk\\openmm\\app\\internal\\pdbstructure.py:537: UserWarning: WARNING: duplicate atom (HETATM   53 mm3_ mm3 A   1      40.481  33.812  33.894  1.00  0.00           C  , HETATM   52 mm3_ mm3 A   1      41.217  32.586  33.939  1.00  0.00           C  )\n",
      "  warnings.warn(\"WARNING: duplicate atom (%s, %s)\" % (atom, old_atom._pdb_string(old_atom.serial_number, atom.alternate_location_indicator)))\n",
      "C:\\Users\\mike\\Anaconda3\\envs\\grpc\\lib\\site-packages\\simtk\\openmm\\app\\internal\\pdbstructure.py:537: UserWarning: WARNING: duplicate atom (HETATM   54 mm3_ mm3 A   1      40.705  34.831  34.967  1.00  0.00           C  , HETATM   53 mm3_ mm3 A   1      40.481  33.812  33.894  1.00  0.00           C  )\n",
      "  warnings.warn(\"WARNING: duplicate atom (%s, %s)\" % (atom, old_atom._pdb_string(old_atom.serial_number, atom.alternate_location_indicator)))\n",
      "C:\\Users\\mike\\Anaconda3\\envs\\grpc\\lib\\site-packages\\simtk\\openmm\\app\\internal\\pdbstructure.py:537: UserWarning: WARNING: duplicate atom (HETATM   55 mm3_ mm3 A   1      41.541  34.490  36.084  1.00  0.00           C  , HETATM   54 mm3_ mm3 A   1      40.705  34.831  34.967  1.00  0.00           C  )\n",
      "  warnings.warn(\"WARNING: duplicate atom (%s, %s)\" % (atom, old_atom._pdb_string(old_atom.serial_number, atom.alternate_location_indicator)))\n",
      "C:\\Users\\mike\\Anaconda3\\envs\\grpc\\lib\\site-packages\\simtk\\openmm\\app\\internal\\pdbstructure.py:537: UserWarning: WARNING: duplicate atom (HETATM   56 mm3_ mm3 A   1      41.222  34.277  37.220  1.00  0.00           C  , HETATM   55 mm3_ mm3 A   1      41.541  34.490  36.084  1.00  0.00           C  )\n",
      "  warnings.warn(\"WARNING: duplicate atom (%s, %s)\" % (atom, old_atom._pdb_string(old_atom.serial_number, atom.alternate_location_indicator)))\n",
      "C:\\Users\\mike\\Anaconda3\\envs\\grpc\\lib\\site-packages\\simtk\\openmm\\app\\internal\\pdbstructure.py:537: UserWarning: WARNING: duplicate atom (HETATM   57 mm3_ mm3 A   1      39.908  34.287  37.801  1.00  0.00           C  , HETATM   56 mm3_ mm3 A   1      41.222  34.277  37.220  1.00  0.00           C  )\n",
      "  warnings.warn(\"WARNING: duplicate atom (%s, %s)\" % (atom, old_atom._pdb_string(old_atom.serial_number, atom.alternate_location_indicator)))\n",
      "C:\\Users\\mike\\Anaconda3\\envs\\grpc\\lib\\site-packages\\simtk\\openmm\\app\\internal\\pdbstructure.py:537: UserWarning: WARNING: duplicate atom (HETATM   58 mm3_ mm3 A   1      39.279  32.978  38.172  1.00  0.00           C  , HETATM   57 mm3_ mm3 A   1      39.908  34.287  37.801  1.00  0.00           C  )\n",
      "  warnings.warn(\"WARNING: duplicate atom (%s, %s)\" % (atom, old_atom._pdb_string(old_atom.serial_number, atom.alternate_location_indicator)))\n",
      "C:\\Users\\mike\\Anaconda3\\envs\\grpc\\lib\\site-packages\\simtk\\openmm\\app\\internal\\pdbstructure.py:537: UserWarning: WARNING: duplicate atom (HETATM   59 mm3_ mm3 A   1      40.017  31.769  37.928  1.00  0.00           C  , HETATM   58 mm3_ mm3 A   1      39.279  32.978  38.172  1.00  0.00           C  )\n",
      "  warnings.warn(\"WARNING: duplicate atom (%s, %s)\" % (atom, old_atom._pdb_string(old_atom.serial_number, atom.alternate_location_indicator)))\n",
      "C:\\Users\\mike\\Anaconda3\\envs\\grpc\\lib\\site-packages\\simtk\\openmm\\app\\internal\\pdbstructure.py:537: UserWarning: WARNING: duplicate atom (HETATM   60 mm3_ mm3 A   1      39.831  30.934  37.089  1.00  0.00           C  , HETATM   59 mm3_ mm3 A   1      40.017  31.769  37.928  1.00  0.00           C  )\n",
      "  warnings.warn(\"WARNING: duplicate atom (%s, %s)\" % (atom, old_atom._pdb_string(old_atom.serial_number, atom.alternate_location_indicator)))\n",
      "C:\\Users\\mike\\Anaconda3\\envs\\grpc\\lib\\site-packages\\simtk\\openmm\\app\\internal\\pdbstructure.py:537: UserWarning: WARNING: duplicate atom (HETATM   61 mm3_ mm3 A   1      27.387  38.353  33.755  1.00  0.00           C  , HETATM   60 mm3_ mm3 A   1      39.831  30.934  37.089  1.00  0.00           C  )\n",
      "  warnings.warn(\"WARNING: duplicate atom (%s, %s)\" % (atom, old_atom._pdb_string(old_atom.serial_number, atom.alternate_location_indicator)))\n",
      "C:\\Users\\mike\\Anaconda3\\envs\\grpc\\lib\\site-packages\\simtk\\openmm\\app\\internal\\pdbstructure.py:537: UserWarning: WARNING: duplicate atom (HETATM   62 mm3_ mm3 A   1      26.655  38.791  34.437  1.00  0.00           H  , HETATM   61 mm3_ mm3 A   1      27.387  38.353  33.755  1.00  0.00           C  )\n",
      "  warnings.warn(\"WARNING: duplicate atom (%s, %s)\" % (atom, old_atom._pdb_string(old_atom.serial_number, atom.alternate_location_indicator)))\n",
      "C:\\Users\\mike\\Anaconda3\\envs\\grpc\\lib\\site-packages\\simtk\\openmm\\app\\internal\\pdbstructure.py:537: UserWarning: WARNING: duplicate atom (HETATM   63 mm3_ mm3 A   1      28.292  38.964  33.754  1.00  0.00           H  , HETATM   62 mm3_ mm3 A   1      26.655  38.791  34.437  1.00  0.00           H  )\n",
      "  warnings.warn(\"WARNING: duplicate atom (%s, %s)\" % (atom, old_atom._pdb_string(old_atom.serial_number, atom.alternate_location_indicator)))\n",
      "C:\\Users\\mike\\Anaconda3\\envs\\grpc\\lib\\site-packages\\simtk\\openmm\\app\\internal\\pdbstructure.py:537: UserWarning: WARNING: duplicate atom (HETATM   64 mm3_ mm3 A   1      27.629  37.341  34.085  1.00  0.00           H  , HETATM   63 mm3_ mm3 A   1      28.292  38.964  33.754  1.00  0.00           H  )\n",
      "  warnings.warn(\"WARNING: duplicate atom (%s, %s)\" % (atom, old_atom._pdb_string(old_atom.serial_number, atom.alternate_location_indicator)))\n",
      "C:\\Users\\mike\\Anaconda3\\envs\\grpc\\lib\\site-packages\\simtk\\openmm\\app\\internal\\pdbstructure.py:537: UserWarning: WARNING: duplicate atom (HETATM   65 mm3_ mm3 A   1      26.971  38.317  32.746  1.00  0.00           H  , HETATM   64 mm3_ mm3 A   1      27.629  37.341  34.085  1.00  0.00           H  )\n",
      "  warnings.warn(\"WARNING: duplicate atom (%s, %s)\" % (atom, old_atom._pdb_string(old_atom.serial_number, atom.alternate_location_indicator)))\n"
     ]
    }
   ],
   "source": [
    "runner = OpenMMIMDRunner.from_xml(input_xml)"
   ]
  },
  {
   "cell_type": "markdown",
   "metadata": {
    "extensions": {
     "jupyter_dashboards": {
      "version": 1,
      "views": {
       "grid_default": {
        "col": 0,
        "height": 4,
        "hidden": true,
        "row": 4,
        "width": 4
       },
       "report_default": {
        "hidden": false
       }
      }
     }
    }
   },
   "source": [
    "Run dynamics in background thread"
   ]
  },
  {
   "cell_type": "code",
   "execution_count": 4,
   "metadata": {
    "ExecuteTime": {
     "end_time": "2019-06-06T16:04:25.725110Z",
     "start_time": "2019-06-06T16:04:25.701637Z"
    },
    "extensions": {
     "jupyter_dashboards": {
      "version": 1,
      "views": {
       "grid_default": {
        "hidden": true
       },
       "report_default": {
        "hidden": true
       }
      }
     }
    }
   },
   "outputs": [],
   "source": [
    "runner.run()"
   ]
  },
  {
   "cell_type": "code",
   "execution_count": 5,
   "metadata": {
    "ExecuteTime": {
     "end_time": "2019-06-06T16:04:25.876184Z",
     "start_time": "2019-06-06T16:04:25.800104Z"
    },
    "extensions": {
     "jupyter_dashboards": {
      "version": 1,
      "views": {
       "grid_default": {
        "col": 4,
        "height": 4,
        "hidden": true,
        "row": 0,
        "width": 4
       },
       "report_default": {
        "hidden": false
       }
      }
     }
    }
   },
   "outputs": [
    {
     "data": {
      "text/plain": [
       "43.809218756549726"
      ]
     },
     "execution_count": 5,
     "metadata": {},
     "output_type": "execute_result"
    }
   ],
   "source": [
    "# print the time to check dynamics is running\n",
    "runner.dynamics.get_time()"
   ]
  },
  {
   "cell_type": "markdown",
   "metadata": {
    "extensions": {
     "jupyter_dashboards": {
      "version": 1,
      "views": {
       "grid_default": {
        "col": 0,
        "height": 4,
        "hidden": true,
        "row": 4,
        "width": 4
       },
       "report_default": {
        "hidden": false
       }
      }
     }
    }
   },
   "source": [
    "## Start an IMD client"
   ]
  },
  {
   "cell_type": "code",
   "execution_count": 6,
   "metadata": {
    "ExecuteTime": {
     "end_time": "2019-06-06T16:04:26.428800Z",
     "start_time": "2019-06-06T16:04:26.348751Z"
    },
    "extensions": {
     "jupyter_dashboards": {
      "version": 1,
      "views": {
       "grid_default": {
        "hidden": true
       },
       "report_default": {
        "hidden": true
       }
      }
     }
    }
   },
   "outputs": [],
   "source": [
    "class NGLClient(NarupaImdClient):\n",
    "    def __init__(self, *args, update_callback=None, **kwargs):\n",
    "        super().__init__(*args, **kwargs)\n",
    "        self._view = None\n",
    "        self.update_callback = update_callback\n",
    "    \n",
    "    @property\n",
    "    def view(self):\n",
    "        if self._view is None:\n",
    "            atoms = frame_data_to_ase(\n",
    "                client.first_frame,\n",
    "                topology=True,\n",
    "                positions=False,\n",
    "            )\n",
    "            atoms.set_positions(\n",
    "                np.array(client.latest_frame.particle_positions) * 10\n",
    "            )\n",
    "            self._view = nglview.show_ase(atoms)\n",
    "        return self._view\n",
    "\n",
    "    def _on_frame_received(self, frame_index:int, frame):\n",
    "        super()._on_frame_received(frame_index, frame)\n",
    "        self.view.set_coordinates(\n",
    "            {0: np.array(self.latest_frame.particle_positions) * 10}\n",
    "        )\n",
    "        if self.update_callback is not None:\n",
    "            self.update_callback(self.universe)"
   ]
  },
  {
   "cell_type": "code",
   "execution_count": 7,
   "metadata": {
    "ExecuteTime": {
     "end_time": "2019-06-06T16:04:26.572274Z",
     "start_time": "2019-06-06T16:04:26.482553Z"
    },
    "extensions": {
     "jupyter_dashboards": {
      "version": 1,
      "views": {
       "grid_default": {
        "col": 0,
        "height": 19,
        "hidden": false,
        "row": 11,
        "width": 7
       },
       "report_default": {
        "hidden": false
       }
      }
     }
    }
   },
   "outputs": [],
   "source": [
    "client = NGLClient()"
   ]
  },
  {
   "cell_type": "code",
   "execution_count": 8,
   "metadata": {
    "ExecuteTime": {
     "end_time": "2019-06-06T16:04:26.674930Z",
     "start_time": "2019-06-06T16:04:26.619824Z"
    }
   },
   "outputs": [],
   "source": [
    "positions = np.array(client.latest_frame.particle_positions) * 10\n",
    "start_point = positions[60, :]\n",
    "first_nanotube_anchor = positions[0, :]\n",
    "last_nanotube_anchor = positions[59, :]"
   ]
  },
  {
   "cell_type": "code",
   "execution_count": 9,
   "metadata": {
    "ExecuteTime": {
     "end_time": "2019-06-06T16:04:26.778540Z",
     "start_time": "2019-06-06T16:04:26.721845Z"
    }
   },
   "outputs": [],
   "source": [
    "anchor1 = ParticleInteraction(position=first_nanotube_anchor, scale=5000, particles=(0,), interaction_type='gaussian')\n",
    "anchor2 = ParticleInteraction(position=last_nanotube_anchor, scale=5000, particles=(59,), interaction_type='gaussian')\n",
    "\n",
    "anchor1_id = client.start_interaction()\n",
    "client.update_interaction(anchor1_id, anchor1)\n",
    "anchor2_id = client.start_interaction()\n",
    "client.update_interaction(anchor2_id, anchor2)"
   ]
  },
  {
   "cell_type": "code",
   "execution_count": 10,
   "metadata": {
    "ExecuteTime": {
     "end_time": "2019-06-06T16:04:26.884708Z",
     "start_time": "2019-06-06T16:04:26.827325Z"
    }
   },
   "outputs": [],
   "source": [
    "interaction = ParticleInteraction(position=start_point, scale=10000, particles=(60,), interaction_type='spring')\n",
    "interaction_id = client.start_interaction()\n",
    "client.update_interaction(interaction_id, interaction)"
   ]
  },
  {
   "cell_type": "code",
   "execution_count": 11,
   "metadata": {
    "ExecuteTime": {
     "end_time": "2019-06-06T16:04:27.291228Z",
     "start_time": "2019-06-06T16:04:26.945620Z"
    },
    "extensions": {
     "jupyter_dashboards": {
      "version": 1,
      "views": {
       "grid_default": {
        "col": 0,
        "height": 11,
        "hidden": false,
        "row": 0,
        "width": 12
       },
       "report_default": {
        "hidden": false
       }
      }
     }
    }
   },
   "outputs": [
    {
     "ename": "NameError",
     "evalue": "name 'nglview' is not defined",
     "output_type": "error",
     "traceback": [
      "\u001b[1;31m---------------------------------------------------------------------------\u001b[0m",
      "\u001b[1;31mNameError\u001b[0m                                 Traceback (most recent call last)",
      "\u001b[1;32m<ipython-input-11-f99afbc060a5>\u001b[0m in \u001b[0;36m<module>\u001b[1;34m\u001b[0m\n\u001b[1;32m----> 1\u001b[1;33m \u001b[0mclient\u001b[0m\u001b[1;33m.\u001b[0m\u001b[0mview\u001b[0m\u001b[1;33m\u001b[0m\u001b[1;33m\u001b[0m\u001b[0m\n\u001b[0m",
      "\u001b[1;32m<ipython-input-6-177d007c3170>\u001b[0m in \u001b[0;36mview\u001b[1;34m(self)\u001b[0m\n\u001b[0;32m     16\u001b[0m                 \u001b[0mnp\u001b[0m\u001b[1;33m.\u001b[0m\u001b[0marray\u001b[0m\u001b[1;33m(\u001b[0m\u001b[0mclient\u001b[0m\u001b[1;33m.\u001b[0m\u001b[0mlatest_frame\u001b[0m\u001b[1;33m.\u001b[0m\u001b[0mparticle_positions\u001b[0m\u001b[1;33m)\u001b[0m \u001b[1;33m*\u001b[0m \u001b[1;36m10\u001b[0m\u001b[1;33m\u001b[0m\u001b[1;33m\u001b[0m\u001b[0m\n\u001b[0;32m     17\u001b[0m             )\n\u001b[1;32m---> 18\u001b[1;33m             \u001b[0mself\u001b[0m\u001b[1;33m.\u001b[0m\u001b[0m_view\u001b[0m \u001b[1;33m=\u001b[0m \u001b[0mnglview\u001b[0m\u001b[1;33m.\u001b[0m\u001b[0mshow_ase\u001b[0m\u001b[1;33m(\u001b[0m\u001b[0matoms\u001b[0m\u001b[1;33m)\u001b[0m\u001b[1;33m\u001b[0m\u001b[1;33m\u001b[0m\u001b[0m\n\u001b[0m\u001b[0;32m     19\u001b[0m         \u001b[1;32mreturn\u001b[0m \u001b[0mself\u001b[0m\u001b[1;33m.\u001b[0m\u001b[0m_view\u001b[0m\u001b[1;33m\u001b[0m\u001b[1;33m\u001b[0m\u001b[0m\n\u001b[0;32m     20\u001b[0m \u001b[1;33m\u001b[0m\u001b[0m\n",
      "\u001b[1;31mNameError\u001b[0m: name 'nglview' is not defined"
     ]
    }
   ],
   "source": [
    "client.view"
   ]
  },
  {
   "cell_type": "code",
   "execution_count": 12,
   "metadata": {
    "ExecuteTime": {
     "end_time": "2019-06-06T16:04:27.384256Z",
     "start_time": "2019-06-06T16:04:27.347583Z"
    }
   },
   "outputs": [
    {
     "ename": "NameError",
     "evalue": "name 'nglview' is not defined",
     "output_type": "error",
     "traceback": [
      "\u001b[1;31m---------------------------------------------------------------------------\u001b[0m",
      "\u001b[1;31mNameError\u001b[0m                                 Traceback (most recent call last)",
      "\u001b[1;32m<ipython-input-12-c1350cb870a1>\u001b[0m in \u001b[0;36m<module>\u001b[1;34m\u001b[0m\n\u001b[1;32m----> 1\u001b[1;33m \u001b[0mclient\u001b[0m\u001b[1;33m.\u001b[0m\u001b[0mview\u001b[0m\u001b[1;33m.\u001b[0m\u001b[0mshape\u001b[0m\u001b[1;33m.\u001b[0m\u001b[0madd_sphere\u001b[0m\u001b[1;33m(\u001b[0m\u001b[0mlist\u001b[0m\u001b[1;33m(\u001b[0m\u001b[0mstart_point\u001b[0m\u001b[1;33m)\u001b[0m\u001b[1;33m,\u001b[0m \u001b[1;33m[\u001b[0m\u001b[1;36m1\u001b[0m\u001b[1;33m,\u001b[0m \u001b[1;36m0\u001b[0m\u001b[1;33m,\u001b[0m \u001b[1;36m0\u001b[0m\u001b[1;33m]\u001b[0m\u001b[1;33m,\u001b[0m \u001b[1;36m0.5\u001b[0m\u001b[1;33m)\u001b[0m\u001b[1;33m\u001b[0m\u001b[1;33m\u001b[0m\u001b[0m\n\u001b[0m\u001b[0;32m      2\u001b[0m \u001b[0mclient\u001b[0m\u001b[1;33m.\u001b[0m\u001b[0mview\u001b[0m\u001b[1;33m.\u001b[0m\u001b[0mshape\u001b[0m\u001b[1;33m.\u001b[0m\u001b[0madd_sphere\u001b[0m\u001b[1;33m(\u001b[0m\u001b[0mlist\u001b[0m\u001b[1;33m(\u001b[0m\u001b[0mfirst_nanotube_anchor\u001b[0m\u001b[1;33m)\u001b[0m\u001b[1;33m,\u001b[0m \u001b[1;33m[\u001b[0m\u001b[1;36m1\u001b[0m\u001b[1;33m,\u001b[0m \u001b[1;36m0\u001b[0m\u001b[1;33m,\u001b[0m \u001b[1;36m1\u001b[0m\u001b[1;33m]\u001b[0m\u001b[1;33m,\u001b[0m \u001b[1;36m0.5\u001b[0m\u001b[1;33m)\u001b[0m\u001b[1;33m\u001b[0m\u001b[1;33m\u001b[0m\u001b[0m\n\u001b[0;32m      3\u001b[0m \u001b[0mclient\u001b[0m\u001b[1;33m.\u001b[0m\u001b[0mview\u001b[0m\u001b[1;33m.\u001b[0m\u001b[0mshape\u001b[0m\u001b[1;33m.\u001b[0m\u001b[0madd_sphere\u001b[0m\u001b[1;33m(\u001b[0m\u001b[0mlist\u001b[0m\u001b[1;33m(\u001b[0m\u001b[0mlast_nanotube_anchor\u001b[0m\u001b[1;33m)\u001b[0m\u001b[1;33m,\u001b[0m \u001b[1;33m[\u001b[0m\u001b[1;36m1\u001b[0m\u001b[1;33m,\u001b[0m \u001b[1;36m1\u001b[0m\u001b[1;33m,\u001b[0m \u001b[1;36m0\u001b[0m\u001b[1;33m]\u001b[0m\u001b[1;33m,\u001b[0m \u001b[1;36m0.5\u001b[0m\u001b[1;33m)\u001b[0m\u001b[1;33m\u001b[0m\u001b[1;33m\u001b[0m\u001b[0m\n",
      "\u001b[1;32m<ipython-input-6-177d007c3170>\u001b[0m in \u001b[0;36mview\u001b[1;34m(self)\u001b[0m\n\u001b[0;32m     16\u001b[0m                 \u001b[0mnp\u001b[0m\u001b[1;33m.\u001b[0m\u001b[0marray\u001b[0m\u001b[1;33m(\u001b[0m\u001b[0mclient\u001b[0m\u001b[1;33m.\u001b[0m\u001b[0mlatest_frame\u001b[0m\u001b[1;33m.\u001b[0m\u001b[0mparticle_positions\u001b[0m\u001b[1;33m)\u001b[0m \u001b[1;33m*\u001b[0m \u001b[1;36m10\u001b[0m\u001b[1;33m\u001b[0m\u001b[1;33m\u001b[0m\u001b[0m\n\u001b[0;32m     17\u001b[0m             )\n\u001b[1;32m---> 18\u001b[1;33m             \u001b[0mself\u001b[0m\u001b[1;33m.\u001b[0m\u001b[0m_view\u001b[0m \u001b[1;33m=\u001b[0m \u001b[0mnglview\u001b[0m\u001b[1;33m.\u001b[0m\u001b[0mshow_ase\u001b[0m\u001b[1;33m(\u001b[0m\u001b[0matoms\u001b[0m\u001b[1;33m)\u001b[0m\u001b[1;33m\u001b[0m\u001b[1;33m\u001b[0m\u001b[0m\n\u001b[0m\u001b[0;32m     19\u001b[0m         \u001b[1;32mreturn\u001b[0m \u001b[0mself\u001b[0m\u001b[1;33m.\u001b[0m\u001b[0m_view\u001b[0m\u001b[1;33m\u001b[0m\u001b[1;33m\u001b[0m\u001b[0m\n\u001b[0;32m     20\u001b[0m \u001b[1;33m\u001b[0m\u001b[0m\n",
      "\u001b[1;31mNameError\u001b[0m: name 'nglview' is not defined"
     ]
    }
   ],
   "source": [
    "client.view.shape.add_sphere(list(start_point), [1, 0, 0], 0.5)\n",
    "client.view.shape.add_sphere(list(first_nanotube_anchor), [1, 0, 1], 0.5)\n",
    "client.view.shape.add_sphere(list(last_nanotube_anchor), [1, 1, 0], 0.5)"
   ]
  },
  {
   "cell_type": "code",
   "execution_count": 13,
   "metadata": {},
   "outputs": [
    {
     "data": {
      "text/plain": [
       "values {\n",
       "  key: \"chain.count\"\n",
       "  value {\n",
       "    number_value: 1.0\n",
       "  }\n",
       "}\n",
       "values {\n",
       "  key: \"energy.kinetic\"\n",
       "  value {\n",
       "    number_value: 246.39670569971932\n",
       "  }\n",
       "}\n",
       "values {\n",
       "  key: \"particle.count\"\n",
       "  value {\n",
       "    number_value: 65.0\n",
       "  }\n",
       "}\n",
       "values {\n",
       "  key: \"residue.count\"\n",
       "  value {\n",
       "    number_value: 1.0\n",
       "  }\n",
       "}\n",
       "arrays {\n",
       "  key: \"bond.pairs\"\n",
       "  value {\n",
       "    index_values {\n",
       "      values: 0\n",
       "      values: 1\n",
       "      values: 0\n",
       "      values: 11\n",
       "      values: 1\n",
       "      values: 2\n",
       "      values: 2\n",
       "      values: 3\n",
       "      values: 2\n",
       "      values: 13\n",
       "      values: 3\n",
       "      values: 4\n",
       "      values: 3\n",
       "      values: 16\n",
       "      values: 4\n",
       "      values: 5\n",
       "      values: 5\n",
       "      values: 6\n",
       "      values: 6\n",
       "      values: 7\n",
       "      values: 6\n",
       "      values: 17\n",
       "      values: 7\n",
       "      values: 8\n",
       "      values: 7\n",
       "      values: 20\n",
       "      values: 8\n",
       "      values: 9\n",
       "      values: 9\n",
       "      values: 10\n",
       "      values: 10\n",
       "      values: 11\n",
       "      values: 10\n",
       "      values: 21\n",
       "      values: 11\n",
       "      values: 12\n",
       "      values: 12\n",
       "      values: 13\n",
       "      values: 12\n",
       "      values: 23\n",
       "      values: 13\n",
       "      values: 14\n",
       "      values: 14\n",
       "      values: 15\n",
       "      values: 14\n",
       "      values: 25\n",
       "      values: 15\n",
       "      values: 16\n",
       "      values: 15\n",
       "      values: 28\n",
       "      values: 16\n",
       "      values: 17\n",
       "      values: 17\n",
       "      values: 18\n",
       "      values: 18\n",
       "      values: 19\n",
       "      values: 18\n",
       "      values: 29\n",
       "      values: 19\n",
       "      values: 20\n",
       "      values: 19\n",
       "      values: 32\n",
       "      values: 20\n",
       "      values: 21\n",
       "      values: 21\n",
       "      values: 22\n",
       "      values: 22\n",
       "      values: 23\n",
       "      values: 22\n",
       "      values: 33\n",
       "      values: 23\n",
       "      values: 24\n",
       "      values: 24\n",
       "      values: 25\n",
       "      values: 24\n",
       "      values: 35\n",
       "      values: 25\n",
       "      values: 26\n",
       "      values: 26\n",
       "      values: 27\n",
       "      values: 26\n",
       "      values: 37\n",
       "      values: 27\n",
       "      values: 28\n",
       "      values: 27\n",
       "      values: 40\n",
       "      values: 28\n",
       "      values: 29\n",
       "      values: 29\n",
       "      values: 30\n",
       "      values: 30\n",
       "      values: 31\n",
       "      values: 30\n",
       "      values: 41\n",
       "      values: 31\n",
       "      values: 32\n",
       "      values: 31\n",
       "      values: 44\n",
       "      values: 32\n",
       "      values: 33\n",
       "      values: 33\n",
       "      values: 34\n",
       "      values: 34\n",
       "      values: 35\n",
       "      values: 34\n",
       "      values: 45\n",
       "      values: 35\n",
       "      values: 36\n",
       "      values: 36\n",
       "      values: 37\n",
       "      values: 36\n",
       "      values: 47\n",
       "      values: 37\n",
       "      values: 38\n",
       "      values: 38\n",
       "      values: 39\n",
       "      values: 38\n",
       "      values: 49\n",
       "      values: 39\n",
       "      values: 40\n",
       "      values: 39\n",
       "      values: 52\n",
       "      values: 40\n",
       "      values: 41\n",
       "      values: 41\n",
       "      values: 42\n",
       "      values: 42\n",
       "      values: 43\n",
       "      values: 42\n",
       "      values: 53\n",
       "      values: 43\n",
       "      values: 44\n",
       "      values: 43\n",
       "      values: 56\n",
       "      values: 44\n",
       "      values: 45\n",
       "      values: 45\n",
       "      values: 46\n",
       "      values: 46\n",
       "      values: 47\n",
       "      values: 46\n",
       "      values: 57\n",
       "      values: 47\n",
       "      values: 48\n",
       "      values: 48\n",
       "      values: 49\n",
       "      values: 48\n",
       "      values: 59\n",
       "      values: 49\n",
       "      values: 50\n",
       "      values: 50\n",
       "      values: 51\n",
       "      values: 51\n",
       "      values: 52\n",
       "      values: 52\n",
       "      values: 53\n",
       "      values: 53\n",
       "      values: 54\n",
       "      values: 54\n",
       "      values: 55\n",
       "      values: 55\n",
       "      values: 56\n",
       "      values: 56\n",
       "      values: 57\n",
       "      values: 57\n",
       "      values: 58\n",
       "      values: 58\n",
       "      values: 59\n",
       "      values: 60\n",
       "      values: 61\n",
       "      values: 60\n",
       "      values: 62\n",
       "      values: 60\n",
       "      values: 63\n",
       "      values: 60\n",
       "      values: 64\n",
       "    }\n",
       "  }\n",
       "}\n",
       "arrays {\n",
       "  key: \"chain.names\"\n",
       "  value {\n",
       "    string_values {\n",
       "      values: \"A\"\n",
       "    }\n",
       "  }\n",
       "}\n",
       "arrays {\n",
       "  key: \"particle.elements\"\n",
       "  value {\n",
       "    index_values {\n",
       "      values: 6\n",
       "      values: 6\n",
       "      values: 6\n",
       "      values: 6\n",
       "      values: 6\n",
       "      values: 6\n",
       "      values: 6\n",
       "      values: 6\n",
       "      values: 6\n",
       "      values: 6\n",
       "      values: 6\n",
       "      values: 6\n",
       "      values: 6\n",
       "      values: 6\n",
       "      values: 6\n",
       "      values: 6\n",
       "      values: 6\n",
       "      values: 6\n",
       "      values: 6\n",
       "      values: 6\n",
       "      values: 6\n",
       "      values: 6\n",
       "      values: 6\n",
       "      values: 6\n",
       "      values: 6\n",
       "      values: 6\n",
       "      values: 6\n",
       "      values: 6\n",
       "      values: 6\n",
       "      values: 6\n",
       "      values: 6\n",
       "      values: 6\n",
       "      values: 6\n",
       "      values: 6\n",
       "      values: 6\n",
       "      values: 6\n",
       "      values: 6\n",
       "      values: 6\n",
       "      values: 6\n",
       "      values: 6\n",
       "      values: 6\n",
       "      values: 6\n",
       "      values: 6\n",
       "      values: 6\n",
       "      values: 6\n",
       "      values: 6\n",
       "      values: 6\n",
       "      values: 6\n",
       "      values: 6\n",
       "      values: 6\n",
       "      values: 6\n",
       "      values: 6\n",
       "      values: 6\n",
       "      values: 6\n",
       "      values: 6\n",
       "      values: 6\n",
       "      values: 6\n",
       "      values: 6\n",
       "      values: 6\n",
       "      values: 6\n",
       "      values: 6\n",
       "      values: 1\n",
       "      values: 1\n",
       "      values: 1\n",
       "      values: 1\n",
       "    }\n",
       "  }\n",
       "}\n",
       "arrays {\n",
       "  key: \"particle.names\"\n",
       "  value {\n",
       "    string_values {\n",
       "      values: \"mm3_\"\n",
       "      values: \"mm3_\"\n",
       "      values: \"mm3_\"\n",
       "      values: \"mm3_\"\n",
       "      values: \"mm3_\"\n",
       "      values: \"mm3_\"\n",
       "      values: \"mm3_\"\n",
       "      values: \"mm3_\"\n",
       "      values: \"mm3_\"\n",
       "      values: \"mm3_\"\n",
       "      values: \"mm3_\"\n",
       "      values: \"mm3_\"\n",
       "      values: \"mm3_\"\n",
       "      values: \"mm3_\"\n",
       "      values: \"mm3_\"\n",
       "      values: \"mm3_\"\n",
       "      values: \"mm3_\"\n",
       "      values: \"mm3_\"\n",
       "      values: \"mm3_\"\n",
       "      values: \"mm3_\"\n",
       "      values: \"mm3_\"\n",
       "      values: \"mm3_\"\n",
       "      values: \"mm3_\"\n",
       "      values: \"mm3_\"\n",
       "      values: \"mm3_\"\n",
       "      values: \"mm3_\"\n",
       "      values: \"mm3_\"\n",
       "      values: \"mm3_\"\n",
       "      values: \"mm3_\"\n",
       "      values: \"mm3_\"\n",
       "      values: \"mm3_\"\n",
       "      values: \"mm3_\"\n",
       "      values: \"mm3_\"\n",
       "      values: \"mm3_\"\n",
       "      values: \"mm3_\"\n",
       "      values: \"mm3_\"\n",
       "      values: \"mm3_\"\n",
       "      values: \"mm3_\"\n",
       "      values: \"mm3_\"\n",
       "      values: \"mm3_\"\n",
       "      values: \"mm3_\"\n",
       "      values: \"mm3_\"\n",
       "      values: \"mm3_\"\n",
       "      values: \"mm3_\"\n",
       "      values: \"mm3_\"\n",
       "      values: \"mm3_\"\n",
       "      values: \"mm3_\"\n",
       "      values: \"mm3_\"\n",
       "      values: \"mm3_\"\n",
       "      values: \"mm3_\"\n",
       "      values: \"mm3_\"\n",
       "      values: \"mm3_\"\n",
       "      values: \"mm3_\"\n",
       "      values: \"mm3_\"\n",
       "      values: \"mm3_\"\n",
       "      values: \"mm3_\"\n",
       "      values: \"mm3_\"\n",
       "      values: \"mm3_\"\n",
       "      values: \"mm3_\"\n",
       "      values: \"mm3_\"\n",
       "      values: \"mm3_\"\n",
       "      values: \"mm3_\"\n",
       "      values: \"mm3_\"\n",
       "      values: \"mm3_\"\n",
       "      values: \"mm3_\"\n",
       "    }\n",
       "  }\n",
       "}\n",
       "arrays {\n",
       "  key: \"particle.positions\"\n",
       "  value {\n",
       "    float_values {\n",
       "      values: 3.0479629039764404\n",
       "      values: 3.5129997730255127\n",
       "      values: 3.397569179534912\n",
       "      values: 3.0843520164489746\n",
       "      values: 3.5354316234588623\n",
       "      values: 3.270249843597412\n",
       "      values: 3.2180728912353516\n",
       "      values: 3.540656328201294\n",
       "      values: 3.257357358932495\n",
       "      values: 3.2780628204345703\n",
       "      values: 3.659560441970825\n",
       "      values: 3.253999710083008\n",
       "      values: 3.1997601985931396\n",
       "      values: 3.763127326965332\n",
       "      values: 3.2632062435150146\n",
       "      values: 3.2225661277770996\n",
       "      values: 3.854600429534912\n",
       "      values: 3.357156276702881\n",
       "      values: 3.315741777420044\n",
       "      values: 3.8142507076263428\n",
       "      values: 3.440364360809326\n",
       "      values: 3.2729856967926025\n",
       "      values: 3.7828147411346436\n",
       "      values: 3.5612242221832275\n",
       "      values: 3.1361570358276367\n",
       "      values: 3.770517110824585\n",
       "      values: 3.569010019302368\n",
       "      values: 3.0807454586029053\n",
       "      values: 3.6554148197174072\n",
       "      values: 3.586252450942993\n",
       "      values: 3.1531527042388916\n",
       "      values: 3.5471558570861816\n",
       "      values: 3.5875110626220703\n",
       "      values: 3.141122817993164\n",
       "      values: 3.4694674015045166\n",
       "      values: 3.4821183681488037\n",
       "      values: 3.2476260662078857\n",
       "      values: 3.405897617340088\n",
       "      values: 3.4306838512420654\n",
       "      values: 3.292971611022949\n",
       "      values: 3.447896957397461\n",
       "      values: 3.3159382343292236\n",
       "      values: 3.422916889190674\n",
       "      values: 3.4390783309936523\n",
       "      values: 3.303074836730957\n",
       "      values: 3.4837639331817627\n",
       "      values: 3.557453155517578\n",
       "      values: 3.2852160930633545\n",
       "      values: 3.4072585105895996\n",
       "      values: 3.6706650257110596\n",
       "      values: 3.285797357559204\n",
       "      values: 3.422591209411621\n",
       "      values: 3.7481954097747803\n",
       "      values: 3.3947224617004395\n",
       "      values: 3.5125441551208496\n",
       "      values: 3.715435028076172\n",
       "      values: 3.4833059310913086\n",
       "      values: 3.470048427581787\n",
       "      values: 3.67429256439209\n",
       "      values: 3.602050542831421\n",
       "      values: 3.3373656272888184\n",
       "      values: 3.683955192565918\n",
       "      values: 3.623309373855591\n",
       "      values: 3.276170492172241\n",
       "      values: 3.561221122741699\n",
       "      values: 3.637557029724121\n",
       "      values: 3.353921890258789\n",
       "      values: 3.4539427757263184\n",
       "      values: 3.626406669616699\n",
       "      values: 3.33443284034729\n",
       "      values: 3.365718364715576\n",
       "      values: 3.5245566368103027\n",
       "      values: 3.4525399208068848\n",
       "      values: 3.3095316886901855\n",
       "      values: 3.488675355911255\n",
       "      values: 3.4937644004821777\n",
       "      values: 3.3406224250793457\n",
       "      values: 3.364823818206787\n",
       "      values: 3.6253554821014404\n",
       "      values: 3.3401925563812256\n",
       "      values: 3.349990129470825\n",
       "      values: 3.6801342964172363\n",
       "      values: 3.4616098403930664\n",
       "      values: 3.335922956466675\n",
       "      values: 3.607555866241455\n",
       "      values: 3.57114577293396\n",
       "      values: 3.3356645107269287\n",
       "      values: 3.6194708347320557\n",
       "      values: 3.6505253314971924\n",
       "      values: 3.4417779445648193\n",
       "      values: 3.710414409637451\n",
       "      values: 3.6155269145965576\n",
       "      values: 3.5308027267456055\n",
       "      values: 3.6701672077178955\n",
       "      values: 3.5838143825531006\n",
       "      values: 3.6517703533172607\n",
       "      values: 3.537843942642212\n",
       "      values: 3.5847268104553223\n",
       "      values: 3.6725337505340576\n",
       "      values: 3.4783904552459717\n",
       "      values: 3.464383363723755\n",
       "      values: 3.670506477355957\n",
       "      values: 3.5623867511749268\n",
       "      values: 3.3570353984832764\n",
       "      values: 3.6820900440216064\n",
       "      values: 3.5395829677581787\n",
       "      values: 3.2689123153686523\n",
       "      values: 3.5813868045806885\n",
       "      values: 3.651435375213623\n",
       "      values: 3.210454225540161\n",
       "      values: 3.5361623764038086\n",
       "      values: 3.69416880607605\n",
       "      values: 3.252074718475342\n",
       "      values: 3.4148318767547607\n",
       "      values: 3.825263261795044\n",
       "      values: 3.2476437091827393\n",
       "      values: 3.401296615600586\n",
       "      values: 3.8820695877075195\n",
       "      values: 3.3665740489959717\n",
       "      values: 3.3759753704071045\n",
       "      values: 3.8039004802703857\n",
       "      values: 3.4728739261627197\n",
       "      values: 3.3770039081573486\n",
       "      values: 3.8176705837249756\n",
       "      values: 3.5498077869415283\n",
       "      values: 3.485027551651001\n",
       "      values: 3.913208484649658\n",
       "      values: 3.526925563812256\n",
       "      values: 3.5734498500823975\n",
       "      values: 3.874894380569458\n",
       "      values: 3.497110605239868\n",
       "      values: 3.698411464691162\n",
       "      values: 3.742828130722046\n",
       "      values: 3.4983725547790527\n",
       "      values: 3.7196922302246094\n",
       "      values: 3.68550443649292\n",
       "      values: 3.3784475326538086\n",
       "      values: 3.7362277507781982\n",
       "      values: 3.7646842002868652\n",
       "      values: 3.2700231075286865\n",
       "      values: 3.7397797107696533\n",
       "      values: 3.749959707260132\n",
       "      values: 3.195836305618286\n",
       "      values: 3.631171464920044\n",
       "      values: 3.8627686500549316\n",
       "      values: 3.1311850547790527\n",
       "      values: 3.5835702419281006\n",
       "      values: 3.898813486099243\n",
       "      values: 3.152968406677246\n",
       "      values: 3.4592034816741943\n",
       "      values: 4.034648895263672\n",
       "      values: 3.1643972396850586\n",
       "      values: 3.4483253955841064\n",
       "      values: 4.084121227264404\n",
       "      values: 3.289358377456665\n",
       "      values: 3.4322221279144287\n",
       "      values: 4.003117084503174\n",
       "      values: 3.388160228729248\n",
       "      values: 3.429333209991455\n",
       "      values: 4.023009300231934\n",
       "      values: 3.4685022830963135\n",
       "      values: 3.5283257961273193\n",
       "      values: 4.116311073303223\n",
       "      values: 3.4418039321899414\n",
       "      values: 3.6172664165496826\n",
       "      values: 4.077825546264648\n",
       "      values: 3.3975141048431396\n",
       "      values: 3.738448143005371\n",
       "      values: 3.9466066360473633\n",
       "      values: 3.401317834854126\n",
       "      values: 3.7630274295806885\n",
       "      values: 3.8900508880615234\n",
       "      values: 3.286881923675537\n",
       "      values: 3.7776129245758057\n",
       "      values: 3.9716286659240723\n",
       "      values: 3.185152530670166\n",
       "      values: 3.7734885215759277\n",
       "      values: 3.956493616104126\n",
       "      values: 3.0992703437805176\n",
       "      values: 3.6728906631469727\n",
       "      values: 2.6328866481781006\n",
       "      values: 3.780489444732666\n",
       "      values: 3.236081838607788\n",
       "      values: 2.637488842010498\n",
       "      values: 3.7711098194122314\n",
       "      values: 3.1252503395080566\n",
       "      values: 2.6534719467163086\n",
       "      values: 3.8850598335266113\n",
       "      values: 3.266599655151367\n",
       "      values: 2.5326590538024902\n",
       "      values: 3.751251459121704\n",
       "      values: 3.272759199142456\n",
       "      values: 2.7096331119537354\n",
       "      values: 3.713552713394165\n",
       "      values: 3.280799150466919\n",
       "    }\n",
       "  }\n",
       "}\n",
       "arrays {\n",
       "  key: \"particle.residues\"\n",
       "  value {\n",
       "    index_values {\n",
       "      values: 0\n",
       "      values: 0\n",
       "      values: 0\n",
       "      values: 0\n",
       "      values: 0\n",
       "      values: 0\n",
       "      values: 0\n",
       "      values: 0\n",
       "      values: 0\n",
       "      values: 0\n",
       "      values: 0\n",
       "      values: 0\n",
       "      values: 0\n",
       "      values: 0\n",
       "      values: 0\n",
       "      values: 0\n",
       "      values: 0\n",
       "      values: 0\n",
       "      values: 0\n",
       "      values: 0\n",
       "      values: 0\n",
       "      values: 0\n",
       "      values: 0\n",
       "      values: 0\n",
       "      values: 0\n",
       "      values: 0\n",
       "      values: 0\n",
       "      values: 0\n",
       "      values: 0\n",
       "      values: 0\n",
       "      values: 0\n",
       "      values: 0\n",
       "      values: 0\n",
       "      values: 0\n",
       "      values: 0\n",
       "      values: 0\n",
       "      values: 0\n",
       "      values: 0\n",
       "      values: 0\n",
       "      values: 0\n",
       "      values: 0\n",
       "      values: 0\n",
       "      values: 0\n",
       "      values: 0\n",
       "      values: 0\n",
       "      values: 0\n",
       "      values: 0\n",
       "      values: 0\n",
       "      values: 0\n",
       "      values: 0\n",
       "      values: 0\n",
       "      values: 0\n",
       "      values: 0\n",
       "      values: 0\n",
       "      values: 0\n",
       "      values: 0\n",
       "      values: 0\n",
       "      values: 0\n",
       "      values: 0\n",
       "      values: 0\n",
       "      values: 0\n",
       "      values: 0\n",
       "      values: 0\n",
       "      values: 0\n",
       "      values: 0\n",
       "    }\n",
       "  }\n",
       "}\n",
       "arrays {\n",
       "  key: \"residue.chains\"\n",
       "  value {\n",
       "    index_values {\n",
       "      values: 0\n",
       "    }\n",
       "  }\n",
       "}\n",
       "arrays {\n",
       "  key: \"residue.ids\"\n",
       "  value {\n",
       "    string_values {\n",
       "      values: \"1\"\n",
       "    }\n",
       "  }\n",
       "}\n",
       "arrays {\n",
       "  key: \"residue.names\"\n",
       "  value {\n",
       "    string_values {\n",
       "      values: \"mm3\"\n",
       "    }\n",
       "  }\n",
       "}\n",
       "arrays {\n",
       "  key: \"system.box.vectors\"\n",
       "  value {\n",
       "    float_values {\n",
       "      values: 7.0\n",
       "      values: 0.0\n",
       "      values: 0.0\n",
       "      values: 0.0\n",
       "      values: 7.0\n",
       "      values: 0.0\n",
       "      values: 0.0\n",
       "      values: 0.0\n",
       "      values: 7.0\n",
       "    }\n",
       "  }\n",
       "}"
      ]
     },
     "execution_count": 13,
     "metadata": {},
     "output_type": "execute_result"
    }
   ],
   "source": [
    "client.first_frame.raw"
   ]
  },
  {
   "cell_type": "code",
   "execution_count": null,
   "metadata": {},
   "outputs": [],
   "source": []
  }
 ],
 "metadata": {
  "extensions": {
   "jupyter_dashboards": {
    "activeView": "grid_default",
    "version": 1,
    "views": {
     "grid_default": {
      "cellMargin": 10,
      "defaultCellHeight": 20,
      "maxColumns": 12,
      "name": "grid",
      "type": "grid"
     },
     "report_default": {
      "name": "report",
      "type": "report"
     }
    }
   }
  },
  "hide_input": false,
  "kernelspec": {
   "display_name": "Python 3",
   "language": "python",
   "name": "python3"
  },
  "language_info": {
   "codemirror_mode": {
    "name": "ipython",
    "version": 3
   },
   "file_extension": ".py",
   "mimetype": "text/x-python",
   "name": "python",
   "nbconvert_exporter": "python",
   "pygments_lexer": "ipython3",
   "version": "3.7.5"
  },
  "toc": {
   "nav_menu": {},
   "number_sections": true,
   "sideBar": true,
   "skip_h1_title": false,
   "toc_cell": false,
   "toc_position": {},
   "toc_section_display": "block",
   "toc_window_display": false
  }
 },
 "nbformat": 4,
 "nbformat_minor": 2
}
