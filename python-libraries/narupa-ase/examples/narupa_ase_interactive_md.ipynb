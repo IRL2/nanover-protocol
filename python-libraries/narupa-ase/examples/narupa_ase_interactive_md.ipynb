{
 "cells": [
  {
   "cell_type": "markdown",
   "metadata": {},
   "source": [
    "# Narupa ASE with Interactive Molecular Dynamics"
   ]
  },
  {
   "cell_type": "markdown",
   "metadata": {},
   "source": [
    "This notebook runs an OpenMM simulation of a nanotube with ASE, then uses the client to apply a force to it and NGLViewer to visualise it"
   ]
  },
  {
   "cell_type": "code",
   "execution_count": 2,
   "metadata": {
    "ExecuteTime": {
     "end_time": "2019-06-06T16:04:25.392952Z",
     "start_time": "2019-06-06T16:04:24.453212Z"
    },
    "extensions": {
     "jupyter_dashboards": {
      "version": 1,
      "views": {
       "grid_default": {
        "hidden": true
       },
       "report_default": {
        "hidden": true
       }
      }
     }
    }
   },
   "outputs": [],
   "source": [
    "from narupa.app.client import NarupaClient\n",
    "from narupa.ase.openmm import OpenMMIMDRunner\n",
    "from narupa.ase.converter import frame_data_to_ase\n",
    "from narupa.imd.particle_interaction import ParticleInteraction\n",
    "import numpy as np\n",
    "import nglview\n",
    "import MDAnalysis as mda\n",
    "import matplotlib.pyplot as plt\n",
    "from queue import Queue"
   ]
  },
  {
   "cell_type": "markdown",
   "metadata": {
    "extensions": {
     "jupyter_dashboards": {
      "version": 1,
      "views": {
       "grid_default": {
        "col": 0,
        "height": 4,
        "hidden": true,
        "row": 0,
        "width": 4
       },
       "report_default": {
        "hidden": false
       }
      }
     }
    }
   },
   "source": [
    "## Run the server"
   ]
  },
  {
   "cell_type": "markdown",
   "metadata": {
    "extensions": {
     "jupyter_dashboards": {
      "version": 1,
      "views": {
       "grid_default": {
        "col": 4,
        "height": 4,
        "hidden": true,
        "row": 0,
        "width": 4
       },
       "report_default": {
        "hidden": false
       }
      }
     }
    }
   },
   "source": [
    "Run the server. Here, we're using ASE, but it could be LAMMPS or OpenMM or anything else. "
   ]
  },
  {
   "cell_type": "code",
   "execution_count": 3,
   "metadata": {
    "ExecuteTime": {
     "end_time": "2019-06-06T16:04:25.397984Z",
     "start_time": "2019-06-06T16:04:25.395015Z"
    },
    "extensions": {
     "jupyter_dashboards": {
      "version": 1,
      "views": {
       "grid_default": {
        "hidden": true
       },
       "report_default": {
        "hidden": true
       }
      }
     }
    }
   },
   "outputs": [],
   "source": [
    "# set up an openmm simulation, or read from file. \n",
    "input_xml = \"nanotube.xml\"\n"
   ]
  },
  {
   "cell_type": "code",
   "execution_count": 6,
   "metadata": {
    "ExecuteTime": {
     "end_time": "2019-06-06T16:04:25.493146Z",
     "start_time": "2019-06-06T16:04:25.400442Z"
    },
    "extensions": {
     "jupyter_dashboards": {
      "version": 1,
      "views": {
       "grid_default": {
        "col": 8,
        "height": 12,
        "hidden": true,
        "row": 0,
        "width": 4
       },
       "report_default": {
        "hidden": false
       }
      }
     }
    },
    "scrolled": true
   },
   "outputs": [],
   "source": [
    "runner = OpenMMIMDRunner.from_xml(input_xml)"
   ]
  },
  {
   "cell_type": "markdown",
   "metadata": {
    "extensions": {
     "jupyter_dashboards": {
      "version": 1,
      "views": {
       "grid_default": {
        "col": 0,
        "height": 4,
        "hidden": true,
        "row": 4,
        "width": 4
       },
       "report_default": {
        "hidden": false
       }
      }
     }
    }
   },
   "source": [
    "Run dynamics in background thread"
   ]
  },
  {
   "cell_type": "code",
   "execution_count": 7,
   "metadata": {
    "ExecuteTime": {
     "end_time": "2019-06-06T16:04:25.725110Z",
     "start_time": "2019-06-06T16:04:25.701637Z"
    },
    "extensions": {
     "jupyter_dashboards": {
      "version": 1,
      "views": {
       "grid_default": {
        "hidden": true
       },
       "report_default": {
        "hidden": true
       }
      }
     }
    }
   },
   "outputs": [],
   "source": [
    "runner.run()"
   ]
  },
  {
   "cell_type": "code",
   "execution_count": 9,
   "metadata": {
    "ExecuteTime": {
     "end_time": "2019-06-06T16:04:25.876184Z",
     "start_time": "2019-06-06T16:04:25.800104Z"
    },
    "extensions": {
     "jupyter_dashboards": {
      "version": 1,
      "views": {
       "grid_default": {
        "col": 4,
        "height": 4,
        "hidden": true,
        "row": 0,
        "width": 4
       },
       "report_default": {
        "hidden": false
       }
      }
     }
    }
   },
   "outputs": [
    {
     "data": {
      "text/plain": [
       "86.04680634694519"
      ]
     },
     "execution_count": 9,
     "metadata": {},
     "output_type": "execute_result"
    }
   ],
   "source": [
    "# print the time to check dynamics is running\n",
    "runner.dynamics.get_time()"
   ]
  },
  {
   "cell_type": "markdown",
   "metadata": {
    "extensions": {
     "jupyter_dashboards": {
      "version": 1,
      "views": {
       "grid_default": {
        "col": 0,
        "height": 4,
        "hidden": true,
        "row": 4,
        "width": 4
       },
       "report_default": {
        "hidden": false
       }
      }
     }
    }
   },
   "source": [
    "## Start an IMD client"
   ]
  },
  {
   "cell_type": "code",
   "execution_count": 10,
   "metadata": {
    "ExecuteTime": {
     "end_time": "2019-06-06T16:04:26.428800Z",
     "start_time": "2019-06-06T16:04:26.348751Z"
    },
    "extensions": {
     "jupyter_dashboards": {
      "version": 1,
      "views": {
       "grid_default": {
        "hidden": true
       },
       "report_default": {
        "hidden": true
       }
      }
     }
    }
   },
   "outputs": [],
   "source": [
    "class NGLClient(NarupaClient):\n",
    "    def __init__(self, *args, update_callback=None, **kwargs):\n",
    "        super().__init__(*args, **kwargs)\n",
    "        self._view = None\n",
    "        self.update_callback = update_callback\n",
    "    \n",
    "    @property\n",
    "    def view(self):\n",
    "        if self._view is None:\n",
    "            atoms = frame_data_to_ase(\n",
    "                client.first_frame,\n",
    "                topology=True,\n",
    "                positions=False,\n",
    "            )\n",
    "            atoms.set_positions(\n",
    "                np.array(client.latest_frame.particle_positions) * 10\n",
    "            )\n",
    "            self._view = nglview.show_ase(atoms)\n",
    "        return self._view\n",
    "\n",
    "    def _on_frame_received(self, frame_index:int, frame):\n",
    "        super()._on_frame_received(frame_index, frame)\n",
    "        self.view.set_coordinates(\n",
    "            {0: np.array(self.latest_frame.particle_positions) * 10}\n",
    "        )\n",
    "        if self.update_callback is not None:\n",
    "            self.update_callback(self.universe)"
   ]
  },
  {
   "cell_type": "code",
   "execution_count": 11,
   "metadata": {
    "ExecuteTime": {
     "end_time": "2019-06-06T16:04:26.572274Z",
     "start_time": "2019-06-06T16:04:26.482553Z"
    },
    "extensions": {
     "jupyter_dashboards": {
      "version": 1,
      "views": {
       "grid_default": {
        "col": 0,
        "height": 19,
        "hidden": false,
        "row": 11,
        "width": 7
       },
       "report_default": {
        "hidden": false
       }
      }
     }
    }
   },
   "outputs": [],
   "source": [
    "client = NGLClient()"
   ]
  },
  {
   "cell_type": "code",
   "execution_count": 12,
   "metadata": {
    "ExecuteTime": {
     "end_time": "2019-06-06T16:04:26.674930Z",
     "start_time": "2019-06-06T16:04:26.619824Z"
    }
   },
   "outputs": [],
   "source": [
    "positions = np.array(client.latest_frame.particle_positions) * 10\n",
    "start_point = positions[60, :]\n",
    "first_nanotube_anchor = positions[0, :]\n",
    "last_nanotube_anchor = positions[59, :]"
   ]
  },
  {
   "cell_type": "code",
   "execution_count": 13,
   "metadata": {
    "ExecuteTime": {
     "end_time": "2019-06-06T16:04:26.778540Z",
     "start_time": "2019-06-06T16:04:26.721845Z"
    }
   },
   "outputs": [],
   "source": [
    "anchor1 = ParticleInteraction(position=first_nanotube_anchor, scale=5000, particles=(0,), interaction_type='gaussian')\n",
    "anchor2 = ParticleInteraction(position=last_nanotube_anchor, scale=5000, particles=(59,), interaction_type='gaussian')\n",
    "\n",
    "anchor1_id = client.start_interaction()\n",
    "client.update_interaction(anchor1_id, anchor1)\n",
    "anchor2_id = client.start_interaction()\n",
    "client.update_interaction(anchor2_id, anchor2)"
   ]
  },
  {
   "cell_type": "code",
   "execution_count": 14,
   "metadata": {
    "ExecuteTime": {
     "end_time": "2019-06-06T16:04:26.884708Z",
     "start_time": "2019-06-06T16:04:26.827325Z"
    }
   },
   "outputs": [],
   "source": [
    "interaction = ParticleInteraction(position=start_point, scale=10000, particles=(60,), interaction_type='spring')\n",
    "interaction_id = client.start_interaction()\n",
    "client.update_interaction(interaction_id, interaction)"
   ]
  },
  {
   "cell_type": "code",
   "execution_count": 16,
   "metadata": {
    "ExecuteTime": {
     "end_time": "2019-06-06T16:04:27.291228Z",
     "start_time": "2019-06-06T16:04:26.945620Z"
    },
    "extensions": {
     "jupyter_dashboards": {
      "version": 1,
      "views": {
       "grid_default": {
        "col": 0,
        "height": 11,
        "hidden": false,
        "row": 0,
        "width": 12
       },
       "report_default": {
        "hidden": false
       }
      }
     }
    }
   },
   "outputs": [
    {
     "ename": "PermissionError",
     "evalue": "[Errno 13] Permission denied: 'C:\\\\Users\\\\Mark\\\\AppData\\\\Local\\\\Temp\\\\tmpl84v52nm.pdb'",
     "output_type": "error",
     "traceback": [
      "\u001b[1;31m---------------------------------------------------------------------------\u001b[0m",
      "\u001b[1;31mPermissionError\u001b[0m                           Traceback (most recent call last)",
      "\u001b[1;32m<ipython-input-16-f99afbc060a5>\u001b[0m in \u001b[0;36m<module>\u001b[1;34m\u001b[0m\n\u001b[1;32m----> 1\u001b[1;33m \u001b[0mclient\u001b[0m\u001b[1;33m.\u001b[0m\u001b[0mview\u001b[0m\u001b[1;33m\u001b[0m\u001b[1;33m\u001b[0m\u001b[0m\n\u001b[0m",
      "\u001b[1;32m<ipython-input-10-5eeff137a346>\u001b[0m in \u001b[0;36mview\u001b[1;34m(self)\u001b[0m\n\u001b[0;32m     16\u001b[0m                 \u001b[0mnp\u001b[0m\u001b[1;33m.\u001b[0m\u001b[0marray\u001b[0m\u001b[1;33m(\u001b[0m\u001b[0mclient\u001b[0m\u001b[1;33m.\u001b[0m\u001b[0mlatest_frame\u001b[0m\u001b[1;33m.\u001b[0m\u001b[0mparticle_positions\u001b[0m\u001b[1;33m)\u001b[0m \u001b[1;33m*\u001b[0m \u001b[1;36m10\u001b[0m\u001b[1;33m\u001b[0m\u001b[1;33m\u001b[0m\u001b[0m\n\u001b[0;32m     17\u001b[0m             )\n\u001b[1;32m---> 18\u001b[1;33m             \u001b[0mself\u001b[0m\u001b[1;33m.\u001b[0m\u001b[0m_view\u001b[0m \u001b[1;33m=\u001b[0m \u001b[0mnglview\u001b[0m\u001b[1;33m.\u001b[0m\u001b[0mshow_ase\u001b[0m\u001b[1;33m(\u001b[0m\u001b[0matoms\u001b[0m\u001b[1;33m)\u001b[0m\u001b[1;33m\u001b[0m\u001b[1;33m\u001b[0m\u001b[0m\n\u001b[0m\u001b[0;32m     19\u001b[0m         \u001b[1;32mreturn\u001b[0m \u001b[0mself\u001b[0m\u001b[1;33m.\u001b[0m\u001b[0m_view\u001b[0m\u001b[1;33m\u001b[0m\u001b[1;33m\u001b[0m\u001b[0m\n\u001b[0;32m     20\u001b[0m \u001b[1;33m\u001b[0m\u001b[0m\n",
      "\u001b[1;32m~\\Anaconda3\\envs\\narupa-dev\\lib\\site-packages\\nglview\\show.py\u001b[0m in \u001b[0;36mshow_ase\u001b[1;34m(ase_atoms, **kwargs)\u001b[0m\n\u001b[0;32m     84\u001b[0m     \"\"\"\n\u001b[0;32m     85\u001b[0m     \u001b[0mstructure\u001b[0m \u001b[1;33m=\u001b[0m \u001b[0mASEStructure\u001b[0m\u001b[1;33m(\u001b[0m\u001b[0mase_atoms\u001b[0m\u001b[1;33m)\u001b[0m\u001b[1;33m\u001b[0m\u001b[1;33m\u001b[0m\u001b[0m\n\u001b[1;32m---> 86\u001b[1;33m     \u001b[1;32mreturn\u001b[0m \u001b[0mNGLWidget\u001b[0m\u001b[1;33m(\u001b[0m\u001b[0mstructure\u001b[0m\u001b[1;33m,\u001b[0m \u001b[1;33m**\u001b[0m\u001b[0mkwargs\u001b[0m\u001b[1;33m)\u001b[0m\u001b[1;33m\u001b[0m\u001b[1;33m\u001b[0m\u001b[0m\n\u001b[0m\u001b[0;32m     87\u001b[0m \u001b[1;33m\u001b[0m\u001b[0m\n\u001b[0;32m     88\u001b[0m \u001b[1;33m\u001b[0m\u001b[0m\n",
      "\u001b[1;32m~\\Anaconda3\\envs\\narupa-dev\\lib\\site-packages\\nglview\\widget.py\u001b[0m in \u001b[0;36m__init__\u001b[1;34m(self, structure, representations, parameters, **kwargs)\u001b[0m\n\u001b[0;32m    201\u001b[0m         \u001b[1;32melse\u001b[0m\u001b[1;33m:\u001b[0m\u001b[1;33m\u001b[0m\u001b[1;33m\u001b[0m\u001b[0m\n\u001b[0;32m    202\u001b[0m             \u001b[1;32mif\u001b[0m \u001b[0mstructure\u001b[0m \u001b[1;32mis\u001b[0m \u001b[1;32mnot\u001b[0m \u001b[1;32mNone\u001b[0m\u001b[1;33m:\u001b[0m\u001b[1;33m\u001b[0m\u001b[1;33m\u001b[0m\u001b[0m\n\u001b[1;32m--> 203\u001b[1;33m                 \u001b[0mself\u001b[0m\u001b[1;33m.\u001b[0m\u001b[0madd_structure\u001b[0m\u001b[1;33m(\u001b[0m\u001b[0mstructure\u001b[0m\u001b[1;33m,\u001b[0m \u001b[1;33m**\u001b[0m\u001b[0mkwargs\u001b[0m\u001b[1;33m)\u001b[0m\u001b[1;33m\u001b[0m\u001b[1;33m\u001b[0m\u001b[0m\n\u001b[0m\u001b[0;32m    204\u001b[0m \u001b[1;33m\u001b[0m\u001b[0m\n\u001b[0;32m    205\u001b[0m         \u001b[1;32mif\u001b[0m \u001b[0mrepresentations\u001b[0m\u001b[1;33m:\u001b[0m\u001b[1;33m\u001b[0m\u001b[1;33m\u001b[0m\u001b[0m\n",
      "\u001b[1;32m~\\Anaconda3\\envs\\narupa-dev\\lib\\site-packages\\nglview\\widget.py\u001b[0m in \u001b[0;36madd_structure\u001b[1;34m(self, structure, **kwargs)\u001b[0m\n\u001b[0;32m   1089\u001b[0m             raise ValueError(\n\u001b[0;32m   1090\u001b[0m                 f'{structure} is not an instance of Structure')\n\u001b[1;32m-> 1091\u001b[1;33m         \u001b[0mself\u001b[0m\u001b[1;33m.\u001b[0m\u001b[0m_load_data\u001b[0m\u001b[1;33m(\u001b[0m\u001b[0mstructure\u001b[0m\u001b[1;33m,\u001b[0m \u001b[1;33m**\u001b[0m\u001b[0mkwargs\u001b[0m\u001b[1;33m)\u001b[0m\u001b[1;33m\u001b[0m\u001b[1;33m\u001b[0m\u001b[0m\n\u001b[0m\u001b[0;32m   1092\u001b[0m         \u001b[0mself\u001b[0m\u001b[1;33m.\u001b[0m\u001b[0m_ngl_component_ids\u001b[0m\u001b[1;33m.\u001b[0m\u001b[0mappend\u001b[0m\u001b[1;33m(\u001b[0m\u001b[0mstructure\u001b[0m\u001b[1;33m.\u001b[0m\u001b[0mid\u001b[0m\u001b[1;33m)\u001b[0m\u001b[1;33m\u001b[0m\u001b[1;33m\u001b[0m\u001b[0m\n\u001b[0;32m   1093\u001b[0m         \u001b[1;32mif\u001b[0m \u001b[0mself\u001b[0m\u001b[1;33m.\u001b[0m\u001b[0mn_components\u001b[0m \u001b[1;33m>\u001b[0m \u001b[1;36m1\u001b[0m\u001b[1;33m:\u001b[0m\u001b[1;33m\u001b[0m\u001b[1;33m\u001b[0m\u001b[0m\n",
      "\u001b[1;32m~\\Anaconda3\\envs\\narupa-dev\\lib\\site-packages\\nglview\\widget.py\u001b[0m in \u001b[0;36m_load_data\u001b[1;34m(self, obj, **kwargs)\u001b[0m\n\u001b[0;32m   1196\u001b[0m         \u001b[1;32mif\u001b[0m \u001b[1;32mnot\u001b[0m \u001b[0mis_url\u001b[0m\u001b[1;33m:\u001b[0m\u001b[1;33m\u001b[0m\u001b[1;33m\u001b[0m\u001b[0m\n\u001b[0;32m   1197\u001b[0m             \u001b[1;32mif\u001b[0m \u001b[0mhasattr\u001b[0m\u001b[1;33m(\u001b[0m\u001b[0mobj\u001b[0m\u001b[1;33m,\u001b[0m \u001b[1;34m'get_structure_string'\u001b[0m\u001b[1;33m)\u001b[0m\u001b[1;33m:\u001b[0m\u001b[1;33m\u001b[0m\u001b[1;33m\u001b[0m\u001b[0m\n\u001b[1;32m-> 1198\u001b[1;33m                 \u001b[0mblob\u001b[0m \u001b[1;33m=\u001b[0m \u001b[0mobj\u001b[0m\u001b[1;33m.\u001b[0m\u001b[0mget_structure_string\u001b[0m\u001b[1;33m(\u001b[0m\u001b[1;33m)\u001b[0m\u001b[1;33m\u001b[0m\u001b[1;33m\u001b[0m\u001b[0m\n\u001b[0m\u001b[0;32m   1199\u001b[0m                 \u001b[0mkwargs2\u001b[0m\u001b[1;33m[\u001b[0m\u001b[1;34m'ext'\u001b[0m\u001b[1;33m]\u001b[0m \u001b[1;33m=\u001b[0m \u001b[0mobj\u001b[0m\u001b[1;33m.\u001b[0m\u001b[0mext\u001b[0m\u001b[1;33m\u001b[0m\u001b[1;33m\u001b[0m\u001b[0m\n\u001b[0;32m   1200\u001b[0m                 \u001b[0mpassing_buffer\u001b[0m \u001b[1;33m=\u001b[0m \u001b[1;32mTrue\u001b[0m\u001b[1;33m\u001b[0m\u001b[1;33m\u001b[0m\u001b[0m\n",
      "\u001b[1;32m~\\Anaconda3\\envs\\narupa-dev\\lib\\site-packages\\nglview\\adaptor.py\u001b[0m in \u001b[0;36mget_structure_string\u001b[1;34m(self)\u001b[0m\n\u001b[0;32m    102\u001b[0m \u001b[1;33m\u001b[0m\u001b[0m\n\u001b[0;32m    103\u001b[0m     \u001b[1;32mdef\u001b[0m \u001b[0mget_structure_string\u001b[0m\u001b[1;33m(\u001b[0m\u001b[0mself\u001b[0m\u001b[1;33m)\u001b[0m\u001b[1;33m:\u001b[0m\u001b[1;33m\u001b[0m\u001b[1;33m\u001b[0m\u001b[0m\n\u001b[1;32m--> 104\u001b[1;33m         \u001b[1;32mreturn\u001b[0m \u001b[0m_get_structure_string\u001b[0m\u001b[1;33m(\u001b[0m\u001b[0mself\u001b[0m\u001b[1;33m.\u001b[0m\u001b[0m_ase_atoms\u001b[0m\u001b[1;33m.\u001b[0m\u001b[0mwrite\u001b[0m\u001b[1;33m)\u001b[0m\u001b[1;33m\u001b[0m\u001b[1;33m\u001b[0m\u001b[0m\n\u001b[0m\u001b[0;32m    105\u001b[0m \u001b[1;33m\u001b[0m\u001b[0m\n\u001b[0;32m    106\u001b[0m \u001b[1;33m\u001b[0m\u001b[0m\n",
      "\u001b[1;32m~\\Anaconda3\\envs\\narupa-dev\\lib\\site-packages\\nglview\\adaptor.py\u001b[0m in \u001b[0;36m_get_structure_string\u001b[1;34m(write_method, suffix)\u001b[0m\n\u001b[0;32m     29\u001b[0m \u001b[1;32mdef\u001b[0m \u001b[0m_get_structure_string\u001b[0m\u001b[1;33m(\u001b[0m\u001b[0mwrite_method\u001b[0m\u001b[1;33m,\u001b[0m \u001b[0msuffix\u001b[0m\u001b[1;33m=\u001b[0m\u001b[1;34m'.pdb'\u001b[0m\u001b[1;33m)\u001b[0m\u001b[1;33m:\u001b[0m\u001b[1;33m\u001b[0m\u001b[1;33m\u001b[0m\u001b[0m\n\u001b[0;32m     30\u001b[0m     \u001b[1;32mwith\u001b[0m \u001b[0mNamedTemporaryFile\u001b[0m\u001b[1;33m(\u001b[0m\u001b[0msuffix\u001b[0m\u001b[1;33m=\u001b[0m\u001b[0msuffix\u001b[0m\u001b[1;33m)\u001b[0m \u001b[1;32mas\u001b[0m \u001b[0mfh\u001b[0m\u001b[1;33m:\u001b[0m\u001b[1;33m\u001b[0m\u001b[1;33m\u001b[0m\u001b[0m\n\u001b[1;32m---> 31\u001b[1;33m         \u001b[0mwrite_method\u001b[0m\u001b[1;33m(\u001b[0m\u001b[0mfh\u001b[0m\u001b[1;33m.\u001b[0m\u001b[0mname\u001b[0m\u001b[1;33m)\u001b[0m\u001b[1;33m\u001b[0m\u001b[1;33m\u001b[0m\u001b[0m\n\u001b[0m\u001b[0;32m     32\u001b[0m         \u001b[1;32mreturn\u001b[0m \u001b[0mfh\u001b[0m\u001b[1;33m.\u001b[0m\u001b[0mread\u001b[0m\u001b[1;33m(\u001b[0m\u001b[1;33m)\u001b[0m\u001b[1;33m.\u001b[0m\u001b[0mdecode\u001b[0m\u001b[1;33m(\u001b[0m\u001b[1;33m)\u001b[0m\u001b[1;33m\u001b[0m\u001b[1;33m\u001b[0m\u001b[0m\n\u001b[0;32m     33\u001b[0m \u001b[1;33m\u001b[0m\u001b[0m\n",
      "\u001b[1;32m~\\Anaconda3\\envs\\narupa-dev\\lib\\site-packages\\ase\\atoms.py\u001b[0m in \u001b[0;36mwrite\u001b[1;34m(self, filename, format, **kwargs)\u001b[0m\n\u001b[0;32m   1898\u001b[0m         \"\"\"\n\u001b[0;32m   1899\u001b[0m         \u001b[1;32mfrom\u001b[0m \u001b[0mase\u001b[0m\u001b[1;33m.\u001b[0m\u001b[0mio\u001b[0m \u001b[1;32mimport\u001b[0m \u001b[0mwrite\u001b[0m\u001b[1;33m\u001b[0m\u001b[1;33m\u001b[0m\u001b[0m\n\u001b[1;32m-> 1900\u001b[1;33m         \u001b[0mwrite\u001b[0m\u001b[1;33m(\u001b[0m\u001b[0mfilename\u001b[0m\u001b[1;33m,\u001b[0m \u001b[0mself\u001b[0m\u001b[1;33m,\u001b[0m \u001b[0mformat\u001b[0m\u001b[1;33m,\u001b[0m \u001b[1;33m**\u001b[0m\u001b[0mkwargs\u001b[0m\u001b[1;33m)\u001b[0m\u001b[1;33m\u001b[0m\u001b[1;33m\u001b[0m\u001b[0m\n\u001b[0m\u001b[0;32m   1901\u001b[0m \u001b[1;33m\u001b[0m\u001b[0m\n\u001b[0;32m   1902\u001b[0m     \u001b[1;32mdef\u001b[0m \u001b[0miterimages\u001b[0m\u001b[1;33m(\u001b[0m\u001b[0mself\u001b[0m\u001b[1;33m)\u001b[0m\u001b[1;33m:\u001b[0m\u001b[1;33m\u001b[0m\u001b[1;33m\u001b[0m\u001b[0m\n",
      "\u001b[1;32m~\\Anaconda3\\envs\\narupa-dev\\lib\\site-packages\\ase\\io\\formats.py\u001b[0m in \u001b[0;36mwrite\u001b[1;34m(filename, images, format, parallel, append, **kwargs)\u001b[0m\n\u001b[0;32m    403\u001b[0m \u001b[1;33m\u001b[0m\u001b[0m\n\u001b[0;32m    404\u001b[0m     _write(filename, fd, format, io, images, parallel=parallel, append=append,\n\u001b[1;32m--> 405\u001b[1;33m            **kwargs)\n\u001b[0m\u001b[0;32m    406\u001b[0m \u001b[1;33m\u001b[0m\u001b[0m\n\u001b[0;32m    407\u001b[0m \u001b[1;33m\u001b[0m\u001b[0m\n",
      "\u001b[1;32m~\\Anaconda3\\envs\\narupa-dev\\lib\\site-packages\\ase\\io\\formats.py\u001b[0m in \u001b[0;36m_write\u001b[1;34m(filename, fd, format, io, images, parallel, append, **kwargs)\u001b[0m\n\u001b[0;32m    435\u001b[0m             \u001b[1;32mif\u001b[0m \u001b[0mappend\u001b[0m\u001b[1;33m:\u001b[0m\u001b[1;33m\u001b[0m\u001b[1;33m\u001b[0m\u001b[0m\n\u001b[0;32m    436\u001b[0m                 \u001b[0mmode\u001b[0m \u001b[1;33m=\u001b[0m \u001b[0mmode\u001b[0m\u001b[1;33m.\u001b[0m\u001b[0mreplace\u001b[0m\u001b[1;33m(\u001b[0m\u001b[1;34m'w'\u001b[0m\u001b[1;33m,\u001b[0m \u001b[1;34m'a'\u001b[0m\u001b[1;33m)\u001b[0m\u001b[1;33m\u001b[0m\u001b[1;33m\u001b[0m\u001b[0m\n\u001b[1;32m--> 437\u001b[1;33m             \u001b[0mfd\u001b[0m \u001b[1;33m=\u001b[0m \u001b[0mopen_with_compression\u001b[0m\u001b[1;33m(\u001b[0m\u001b[0mfilename\u001b[0m\u001b[1;33m,\u001b[0m \u001b[0mmode\u001b[0m\u001b[1;33m)\u001b[0m\u001b[1;33m\u001b[0m\u001b[1;33m\u001b[0m\u001b[0m\n\u001b[0m\u001b[0;32m    438\u001b[0m         \u001b[0mio\u001b[0m\u001b[1;33m.\u001b[0m\u001b[0mwrite\u001b[0m\u001b[1;33m(\u001b[0m\u001b[0mfd\u001b[0m\u001b[1;33m,\u001b[0m \u001b[0mimages\u001b[0m\u001b[1;33m,\u001b[0m \u001b[1;33m**\u001b[0m\u001b[0mkwargs\u001b[0m\u001b[1;33m)\u001b[0m\u001b[1;33m\u001b[0m\u001b[1;33m\u001b[0m\u001b[0m\n\u001b[0;32m    439\u001b[0m         \u001b[1;32mif\u001b[0m \u001b[0mopen_new\u001b[0m\u001b[1;33m:\u001b[0m\u001b[1;33m\u001b[0m\u001b[1;33m\u001b[0m\u001b[0m\n",
      "\u001b[1;32m~\\Anaconda3\\envs\\narupa-dev\\lib\\site-packages\\ase\\io\\formats.py\u001b[0m in \u001b[0;36mopen_with_compression\u001b[1;34m(filename, mode)\u001b[0m\n\u001b[0;32m    323\u001b[0m \u001b[1;33m\u001b[0m\u001b[0m\n\u001b[0;32m    324\u001b[0m     \u001b[1;32mif\u001b[0m \u001b[0mcompression\u001b[0m \u001b[1;32mis\u001b[0m \u001b[1;32mNone\u001b[0m\u001b[1;33m:\u001b[0m\u001b[1;33m\u001b[0m\u001b[1;33m\u001b[0m\u001b[0m\n\u001b[1;32m--> 325\u001b[1;33m         \u001b[1;32mreturn\u001b[0m \u001b[0mopen\u001b[0m\u001b[1;33m(\u001b[0m\u001b[0mfilename\u001b[0m\u001b[1;33m,\u001b[0m \u001b[0mmode\u001b[0m\u001b[1;33m)\u001b[0m\u001b[1;33m\u001b[0m\u001b[1;33m\u001b[0m\u001b[0m\n\u001b[0m\u001b[0;32m    326\u001b[0m     \u001b[1;32melif\u001b[0m \u001b[0mcompression\u001b[0m \u001b[1;33m==\u001b[0m \u001b[1;34m'gz'\u001b[0m\u001b[1;33m:\u001b[0m\u001b[1;33m\u001b[0m\u001b[1;33m\u001b[0m\u001b[0m\n\u001b[0;32m    327\u001b[0m         \u001b[1;32mimport\u001b[0m \u001b[0mgzip\u001b[0m\u001b[1;33m\u001b[0m\u001b[1;33m\u001b[0m\u001b[0m\n",
      "\u001b[1;31mPermissionError\u001b[0m: [Errno 13] Permission denied: 'C:\\\\Users\\\\Mark\\\\AppData\\\\Local\\\\Temp\\\\tmpl84v52nm.pdb'"
     ]
    }
   ],
   "source": [
    "client.view"
   ]
  },
  {
   "cell_type": "code",
   "execution_count": 15,
   "metadata": {
    "ExecuteTime": {
     "end_time": "2019-06-06T16:04:27.384256Z",
     "start_time": "2019-06-06T16:04:27.347583Z"
    }
   },
   "outputs": [
    {
     "ename": "PermissionError",
     "evalue": "[Errno 13] Permission denied: 'C:\\\\Users\\\\Mark\\\\AppData\\\\Local\\\\Temp\\\\tmp35e3ejjc.pdb'",
     "output_type": "error",
     "traceback": [
      "\u001b[1;31m---------------------------------------------------------------------------\u001b[0m",
      "\u001b[1;31mPermissionError\u001b[0m                           Traceback (most recent call last)",
      "\u001b[1;32m<ipython-input-15-c1350cb870a1>\u001b[0m in \u001b[0;36m<module>\u001b[1;34m\u001b[0m\n\u001b[1;32m----> 1\u001b[1;33m \u001b[0mclient\u001b[0m\u001b[1;33m.\u001b[0m\u001b[0mview\u001b[0m\u001b[1;33m.\u001b[0m\u001b[0mshape\u001b[0m\u001b[1;33m.\u001b[0m\u001b[0madd_sphere\u001b[0m\u001b[1;33m(\u001b[0m\u001b[0mlist\u001b[0m\u001b[1;33m(\u001b[0m\u001b[0mstart_point\u001b[0m\u001b[1;33m)\u001b[0m\u001b[1;33m,\u001b[0m \u001b[1;33m[\u001b[0m\u001b[1;36m1\u001b[0m\u001b[1;33m,\u001b[0m \u001b[1;36m0\u001b[0m\u001b[1;33m,\u001b[0m \u001b[1;36m0\u001b[0m\u001b[1;33m]\u001b[0m\u001b[1;33m,\u001b[0m \u001b[1;36m0.5\u001b[0m\u001b[1;33m)\u001b[0m\u001b[1;33m\u001b[0m\u001b[1;33m\u001b[0m\u001b[0m\n\u001b[0m\u001b[0;32m      2\u001b[0m \u001b[0mclient\u001b[0m\u001b[1;33m.\u001b[0m\u001b[0mview\u001b[0m\u001b[1;33m.\u001b[0m\u001b[0mshape\u001b[0m\u001b[1;33m.\u001b[0m\u001b[0madd_sphere\u001b[0m\u001b[1;33m(\u001b[0m\u001b[0mlist\u001b[0m\u001b[1;33m(\u001b[0m\u001b[0mfirst_nanotube_anchor\u001b[0m\u001b[1;33m)\u001b[0m\u001b[1;33m,\u001b[0m \u001b[1;33m[\u001b[0m\u001b[1;36m1\u001b[0m\u001b[1;33m,\u001b[0m \u001b[1;36m0\u001b[0m\u001b[1;33m,\u001b[0m \u001b[1;36m1\u001b[0m\u001b[1;33m]\u001b[0m\u001b[1;33m,\u001b[0m \u001b[1;36m0.5\u001b[0m\u001b[1;33m)\u001b[0m\u001b[1;33m\u001b[0m\u001b[1;33m\u001b[0m\u001b[0m\n\u001b[0;32m      3\u001b[0m \u001b[0mclient\u001b[0m\u001b[1;33m.\u001b[0m\u001b[0mview\u001b[0m\u001b[1;33m.\u001b[0m\u001b[0mshape\u001b[0m\u001b[1;33m.\u001b[0m\u001b[0madd_sphere\u001b[0m\u001b[1;33m(\u001b[0m\u001b[0mlist\u001b[0m\u001b[1;33m(\u001b[0m\u001b[0mlast_nanotube_anchor\u001b[0m\u001b[1;33m)\u001b[0m\u001b[1;33m,\u001b[0m \u001b[1;33m[\u001b[0m\u001b[1;36m1\u001b[0m\u001b[1;33m,\u001b[0m \u001b[1;36m1\u001b[0m\u001b[1;33m,\u001b[0m \u001b[1;36m0\u001b[0m\u001b[1;33m]\u001b[0m\u001b[1;33m,\u001b[0m \u001b[1;36m0.5\u001b[0m\u001b[1;33m)\u001b[0m\u001b[1;33m\u001b[0m\u001b[1;33m\u001b[0m\u001b[0m\n",
      "\u001b[1;32m<ipython-input-10-5eeff137a346>\u001b[0m in \u001b[0;36mview\u001b[1;34m(self)\u001b[0m\n\u001b[0;32m     16\u001b[0m                 \u001b[0mnp\u001b[0m\u001b[1;33m.\u001b[0m\u001b[0marray\u001b[0m\u001b[1;33m(\u001b[0m\u001b[0mclient\u001b[0m\u001b[1;33m.\u001b[0m\u001b[0mlatest_frame\u001b[0m\u001b[1;33m.\u001b[0m\u001b[0mparticle_positions\u001b[0m\u001b[1;33m)\u001b[0m \u001b[1;33m*\u001b[0m \u001b[1;36m10\u001b[0m\u001b[1;33m\u001b[0m\u001b[1;33m\u001b[0m\u001b[0m\n\u001b[0;32m     17\u001b[0m             )\n\u001b[1;32m---> 18\u001b[1;33m             \u001b[0mself\u001b[0m\u001b[1;33m.\u001b[0m\u001b[0m_view\u001b[0m \u001b[1;33m=\u001b[0m \u001b[0mnglview\u001b[0m\u001b[1;33m.\u001b[0m\u001b[0mshow_ase\u001b[0m\u001b[1;33m(\u001b[0m\u001b[0matoms\u001b[0m\u001b[1;33m)\u001b[0m\u001b[1;33m\u001b[0m\u001b[1;33m\u001b[0m\u001b[0m\n\u001b[0m\u001b[0;32m     19\u001b[0m         \u001b[1;32mreturn\u001b[0m \u001b[0mself\u001b[0m\u001b[1;33m.\u001b[0m\u001b[0m_view\u001b[0m\u001b[1;33m\u001b[0m\u001b[1;33m\u001b[0m\u001b[0m\n\u001b[0;32m     20\u001b[0m \u001b[1;33m\u001b[0m\u001b[0m\n",
      "\u001b[1;32m~\\Anaconda3\\envs\\narupa-dev\\lib\\site-packages\\nglview\\show.py\u001b[0m in \u001b[0;36mshow_ase\u001b[1;34m(ase_atoms, **kwargs)\u001b[0m\n\u001b[0;32m     84\u001b[0m     \"\"\"\n\u001b[0;32m     85\u001b[0m     \u001b[0mstructure\u001b[0m \u001b[1;33m=\u001b[0m \u001b[0mASEStructure\u001b[0m\u001b[1;33m(\u001b[0m\u001b[0mase_atoms\u001b[0m\u001b[1;33m)\u001b[0m\u001b[1;33m\u001b[0m\u001b[1;33m\u001b[0m\u001b[0m\n\u001b[1;32m---> 86\u001b[1;33m     \u001b[1;32mreturn\u001b[0m \u001b[0mNGLWidget\u001b[0m\u001b[1;33m(\u001b[0m\u001b[0mstructure\u001b[0m\u001b[1;33m,\u001b[0m \u001b[1;33m**\u001b[0m\u001b[0mkwargs\u001b[0m\u001b[1;33m)\u001b[0m\u001b[1;33m\u001b[0m\u001b[1;33m\u001b[0m\u001b[0m\n\u001b[0m\u001b[0;32m     87\u001b[0m \u001b[1;33m\u001b[0m\u001b[0m\n\u001b[0;32m     88\u001b[0m \u001b[1;33m\u001b[0m\u001b[0m\n",
      "\u001b[1;32m~\\Anaconda3\\envs\\narupa-dev\\lib\\site-packages\\nglview\\widget.py\u001b[0m in \u001b[0;36m__init__\u001b[1;34m(self, structure, representations, parameters, **kwargs)\u001b[0m\n\u001b[0;32m    201\u001b[0m         \u001b[1;32melse\u001b[0m\u001b[1;33m:\u001b[0m\u001b[1;33m\u001b[0m\u001b[1;33m\u001b[0m\u001b[0m\n\u001b[0;32m    202\u001b[0m             \u001b[1;32mif\u001b[0m \u001b[0mstructure\u001b[0m \u001b[1;32mis\u001b[0m \u001b[1;32mnot\u001b[0m \u001b[1;32mNone\u001b[0m\u001b[1;33m:\u001b[0m\u001b[1;33m\u001b[0m\u001b[1;33m\u001b[0m\u001b[0m\n\u001b[1;32m--> 203\u001b[1;33m                 \u001b[0mself\u001b[0m\u001b[1;33m.\u001b[0m\u001b[0madd_structure\u001b[0m\u001b[1;33m(\u001b[0m\u001b[0mstructure\u001b[0m\u001b[1;33m,\u001b[0m \u001b[1;33m**\u001b[0m\u001b[0mkwargs\u001b[0m\u001b[1;33m)\u001b[0m\u001b[1;33m\u001b[0m\u001b[1;33m\u001b[0m\u001b[0m\n\u001b[0m\u001b[0;32m    204\u001b[0m \u001b[1;33m\u001b[0m\u001b[0m\n\u001b[0;32m    205\u001b[0m         \u001b[1;32mif\u001b[0m \u001b[0mrepresentations\u001b[0m\u001b[1;33m:\u001b[0m\u001b[1;33m\u001b[0m\u001b[1;33m\u001b[0m\u001b[0m\n",
      "\u001b[1;32m~\\Anaconda3\\envs\\narupa-dev\\lib\\site-packages\\nglview\\widget.py\u001b[0m in \u001b[0;36madd_structure\u001b[1;34m(self, structure, **kwargs)\u001b[0m\n\u001b[0;32m   1089\u001b[0m             raise ValueError(\n\u001b[0;32m   1090\u001b[0m                 f'{structure} is not an instance of Structure')\n\u001b[1;32m-> 1091\u001b[1;33m         \u001b[0mself\u001b[0m\u001b[1;33m.\u001b[0m\u001b[0m_load_data\u001b[0m\u001b[1;33m(\u001b[0m\u001b[0mstructure\u001b[0m\u001b[1;33m,\u001b[0m \u001b[1;33m**\u001b[0m\u001b[0mkwargs\u001b[0m\u001b[1;33m)\u001b[0m\u001b[1;33m\u001b[0m\u001b[1;33m\u001b[0m\u001b[0m\n\u001b[0m\u001b[0;32m   1092\u001b[0m         \u001b[0mself\u001b[0m\u001b[1;33m.\u001b[0m\u001b[0m_ngl_component_ids\u001b[0m\u001b[1;33m.\u001b[0m\u001b[0mappend\u001b[0m\u001b[1;33m(\u001b[0m\u001b[0mstructure\u001b[0m\u001b[1;33m.\u001b[0m\u001b[0mid\u001b[0m\u001b[1;33m)\u001b[0m\u001b[1;33m\u001b[0m\u001b[1;33m\u001b[0m\u001b[0m\n\u001b[0;32m   1093\u001b[0m         \u001b[1;32mif\u001b[0m \u001b[0mself\u001b[0m\u001b[1;33m.\u001b[0m\u001b[0mn_components\u001b[0m \u001b[1;33m>\u001b[0m \u001b[1;36m1\u001b[0m\u001b[1;33m:\u001b[0m\u001b[1;33m\u001b[0m\u001b[1;33m\u001b[0m\u001b[0m\n",
      "\u001b[1;32m~\\Anaconda3\\envs\\narupa-dev\\lib\\site-packages\\nglview\\widget.py\u001b[0m in \u001b[0;36m_load_data\u001b[1;34m(self, obj, **kwargs)\u001b[0m\n\u001b[0;32m   1196\u001b[0m         \u001b[1;32mif\u001b[0m \u001b[1;32mnot\u001b[0m \u001b[0mis_url\u001b[0m\u001b[1;33m:\u001b[0m\u001b[1;33m\u001b[0m\u001b[1;33m\u001b[0m\u001b[0m\n\u001b[0;32m   1197\u001b[0m             \u001b[1;32mif\u001b[0m \u001b[0mhasattr\u001b[0m\u001b[1;33m(\u001b[0m\u001b[0mobj\u001b[0m\u001b[1;33m,\u001b[0m \u001b[1;34m'get_structure_string'\u001b[0m\u001b[1;33m)\u001b[0m\u001b[1;33m:\u001b[0m\u001b[1;33m\u001b[0m\u001b[1;33m\u001b[0m\u001b[0m\n\u001b[1;32m-> 1198\u001b[1;33m                 \u001b[0mblob\u001b[0m \u001b[1;33m=\u001b[0m \u001b[0mobj\u001b[0m\u001b[1;33m.\u001b[0m\u001b[0mget_structure_string\u001b[0m\u001b[1;33m(\u001b[0m\u001b[1;33m)\u001b[0m\u001b[1;33m\u001b[0m\u001b[1;33m\u001b[0m\u001b[0m\n\u001b[0m\u001b[0;32m   1199\u001b[0m                 \u001b[0mkwargs2\u001b[0m\u001b[1;33m[\u001b[0m\u001b[1;34m'ext'\u001b[0m\u001b[1;33m]\u001b[0m \u001b[1;33m=\u001b[0m \u001b[0mobj\u001b[0m\u001b[1;33m.\u001b[0m\u001b[0mext\u001b[0m\u001b[1;33m\u001b[0m\u001b[1;33m\u001b[0m\u001b[0m\n\u001b[0;32m   1200\u001b[0m                 \u001b[0mpassing_buffer\u001b[0m \u001b[1;33m=\u001b[0m \u001b[1;32mTrue\u001b[0m\u001b[1;33m\u001b[0m\u001b[1;33m\u001b[0m\u001b[0m\n",
      "\u001b[1;32m~\\Anaconda3\\envs\\narupa-dev\\lib\\site-packages\\nglview\\adaptor.py\u001b[0m in \u001b[0;36mget_structure_string\u001b[1;34m(self)\u001b[0m\n\u001b[0;32m    102\u001b[0m \u001b[1;33m\u001b[0m\u001b[0m\n\u001b[0;32m    103\u001b[0m     \u001b[1;32mdef\u001b[0m \u001b[0mget_structure_string\u001b[0m\u001b[1;33m(\u001b[0m\u001b[0mself\u001b[0m\u001b[1;33m)\u001b[0m\u001b[1;33m:\u001b[0m\u001b[1;33m\u001b[0m\u001b[1;33m\u001b[0m\u001b[0m\n\u001b[1;32m--> 104\u001b[1;33m         \u001b[1;32mreturn\u001b[0m \u001b[0m_get_structure_string\u001b[0m\u001b[1;33m(\u001b[0m\u001b[0mself\u001b[0m\u001b[1;33m.\u001b[0m\u001b[0m_ase_atoms\u001b[0m\u001b[1;33m.\u001b[0m\u001b[0mwrite\u001b[0m\u001b[1;33m)\u001b[0m\u001b[1;33m\u001b[0m\u001b[1;33m\u001b[0m\u001b[0m\n\u001b[0m\u001b[0;32m    105\u001b[0m \u001b[1;33m\u001b[0m\u001b[0m\n\u001b[0;32m    106\u001b[0m \u001b[1;33m\u001b[0m\u001b[0m\n",
      "\u001b[1;32m~\\Anaconda3\\envs\\narupa-dev\\lib\\site-packages\\nglview\\adaptor.py\u001b[0m in \u001b[0;36m_get_structure_string\u001b[1;34m(write_method, suffix)\u001b[0m\n\u001b[0;32m     29\u001b[0m \u001b[1;32mdef\u001b[0m \u001b[0m_get_structure_string\u001b[0m\u001b[1;33m(\u001b[0m\u001b[0mwrite_method\u001b[0m\u001b[1;33m,\u001b[0m \u001b[0msuffix\u001b[0m\u001b[1;33m=\u001b[0m\u001b[1;34m'.pdb'\u001b[0m\u001b[1;33m)\u001b[0m\u001b[1;33m:\u001b[0m\u001b[1;33m\u001b[0m\u001b[1;33m\u001b[0m\u001b[0m\n\u001b[0;32m     30\u001b[0m     \u001b[1;32mwith\u001b[0m \u001b[0mNamedTemporaryFile\u001b[0m\u001b[1;33m(\u001b[0m\u001b[0msuffix\u001b[0m\u001b[1;33m=\u001b[0m\u001b[0msuffix\u001b[0m\u001b[1;33m)\u001b[0m \u001b[1;32mas\u001b[0m \u001b[0mfh\u001b[0m\u001b[1;33m:\u001b[0m\u001b[1;33m\u001b[0m\u001b[1;33m\u001b[0m\u001b[0m\n\u001b[1;32m---> 31\u001b[1;33m         \u001b[0mwrite_method\u001b[0m\u001b[1;33m(\u001b[0m\u001b[0mfh\u001b[0m\u001b[1;33m.\u001b[0m\u001b[0mname\u001b[0m\u001b[1;33m)\u001b[0m\u001b[1;33m\u001b[0m\u001b[1;33m\u001b[0m\u001b[0m\n\u001b[0m\u001b[0;32m     32\u001b[0m         \u001b[1;32mreturn\u001b[0m \u001b[0mfh\u001b[0m\u001b[1;33m.\u001b[0m\u001b[0mread\u001b[0m\u001b[1;33m(\u001b[0m\u001b[1;33m)\u001b[0m\u001b[1;33m.\u001b[0m\u001b[0mdecode\u001b[0m\u001b[1;33m(\u001b[0m\u001b[1;33m)\u001b[0m\u001b[1;33m\u001b[0m\u001b[1;33m\u001b[0m\u001b[0m\n\u001b[0;32m     33\u001b[0m \u001b[1;33m\u001b[0m\u001b[0m\n",
      "\u001b[1;32m~\\Anaconda3\\envs\\narupa-dev\\lib\\site-packages\\ase\\atoms.py\u001b[0m in \u001b[0;36mwrite\u001b[1;34m(self, filename, format, **kwargs)\u001b[0m\n\u001b[0;32m   1898\u001b[0m         \"\"\"\n\u001b[0;32m   1899\u001b[0m         \u001b[1;32mfrom\u001b[0m \u001b[0mase\u001b[0m\u001b[1;33m.\u001b[0m\u001b[0mio\u001b[0m \u001b[1;32mimport\u001b[0m \u001b[0mwrite\u001b[0m\u001b[1;33m\u001b[0m\u001b[1;33m\u001b[0m\u001b[0m\n\u001b[1;32m-> 1900\u001b[1;33m         \u001b[0mwrite\u001b[0m\u001b[1;33m(\u001b[0m\u001b[0mfilename\u001b[0m\u001b[1;33m,\u001b[0m \u001b[0mself\u001b[0m\u001b[1;33m,\u001b[0m \u001b[0mformat\u001b[0m\u001b[1;33m,\u001b[0m \u001b[1;33m**\u001b[0m\u001b[0mkwargs\u001b[0m\u001b[1;33m)\u001b[0m\u001b[1;33m\u001b[0m\u001b[1;33m\u001b[0m\u001b[0m\n\u001b[0m\u001b[0;32m   1901\u001b[0m \u001b[1;33m\u001b[0m\u001b[0m\n\u001b[0;32m   1902\u001b[0m     \u001b[1;32mdef\u001b[0m \u001b[0miterimages\u001b[0m\u001b[1;33m(\u001b[0m\u001b[0mself\u001b[0m\u001b[1;33m)\u001b[0m\u001b[1;33m:\u001b[0m\u001b[1;33m\u001b[0m\u001b[1;33m\u001b[0m\u001b[0m\n",
      "\u001b[1;32m~\\Anaconda3\\envs\\narupa-dev\\lib\\site-packages\\ase\\io\\formats.py\u001b[0m in \u001b[0;36mwrite\u001b[1;34m(filename, images, format, parallel, append, **kwargs)\u001b[0m\n\u001b[0;32m    403\u001b[0m \u001b[1;33m\u001b[0m\u001b[0m\n\u001b[0;32m    404\u001b[0m     _write(filename, fd, format, io, images, parallel=parallel, append=append,\n\u001b[1;32m--> 405\u001b[1;33m            **kwargs)\n\u001b[0m\u001b[0;32m    406\u001b[0m \u001b[1;33m\u001b[0m\u001b[0m\n\u001b[0;32m    407\u001b[0m \u001b[1;33m\u001b[0m\u001b[0m\n",
      "\u001b[1;32m~\\Anaconda3\\envs\\narupa-dev\\lib\\site-packages\\ase\\io\\formats.py\u001b[0m in \u001b[0;36m_write\u001b[1;34m(filename, fd, format, io, images, parallel, append, **kwargs)\u001b[0m\n\u001b[0;32m    435\u001b[0m             \u001b[1;32mif\u001b[0m \u001b[0mappend\u001b[0m\u001b[1;33m:\u001b[0m\u001b[1;33m\u001b[0m\u001b[1;33m\u001b[0m\u001b[0m\n\u001b[0;32m    436\u001b[0m                 \u001b[0mmode\u001b[0m \u001b[1;33m=\u001b[0m \u001b[0mmode\u001b[0m\u001b[1;33m.\u001b[0m\u001b[0mreplace\u001b[0m\u001b[1;33m(\u001b[0m\u001b[1;34m'w'\u001b[0m\u001b[1;33m,\u001b[0m \u001b[1;34m'a'\u001b[0m\u001b[1;33m)\u001b[0m\u001b[1;33m\u001b[0m\u001b[1;33m\u001b[0m\u001b[0m\n\u001b[1;32m--> 437\u001b[1;33m             \u001b[0mfd\u001b[0m \u001b[1;33m=\u001b[0m \u001b[0mopen_with_compression\u001b[0m\u001b[1;33m(\u001b[0m\u001b[0mfilename\u001b[0m\u001b[1;33m,\u001b[0m \u001b[0mmode\u001b[0m\u001b[1;33m)\u001b[0m\u001b[1;33m\u001b[0m\u001b[1;33m\u001b[0m\u001b[0m\n\u001b[0m\u001b[0;32m    438\u001b[0m         \u001b[0mio\u001b[0m\u001b[1;33m.\u001b[0m\u001b[0mwrite\u001b[0m\u001b[1;33m(\u001b[0m\u001b[0mfd\u001b[0m\u001b[1;33m,\u001b[0m \u001b[0mimages\u001b[0m\u001b[1;33m,\u001b[0m \u001b[1;33m**\u001b[0m\u001b[0mkwargs\u001b[0m\u001b[1;33m)\u001b[0m\u001b[1;33m\u001b[0m\u001b[1;33m\u001b[0m\u001b[0m\n\u001b[0;32m    439\u001b[0m         \u001b[1;32mif\u001b[0m \u001b[0mopen_new\u001b[0m\u001b[1;33m:\u001b[0m\u001b[1;33m\u001b[0m\u001b[1;33m\u001b[0m\u001b[0m\n",
      "\u001b[1;32m~\\Anaconda3\\envs\\narupa-dev\\lib\\site-packages\\ase\\io\\formats.py\u001b[0m in \u001b[0;36mopen_with_compression\u001b[1;34m(filename, mode)\u001b[0m\n\u001b[0;32m    323\u001b[0m \u001b[1;33m\u001b[0m\u001b[0m\n\u001b[0;32m    324\u001b[0m     \u001b[1;32mif\u001b[0m \u001b[0mcompression\u001b[0m \u001b[1;32mis\u001b[0m \u001b[1;32mNone\u001b[0m\u001b[1;33m:\u001b[0m\u001b[1;33m\u001b[0m\u001b[1;33m\u001b[0m\u001b[0m\n\u001b[1;32m--> 325\u001b[1;33m         \u001b[1;32mreturn\u001b[0m \u001b[0mopen\u001b[0m\u001b[1;33m(\u001b[0m\u001b[0mfilename\u001b[0m\u001b[1;33m,\u001b[0m \u001b[0mmode\u001b[0m\u001b[1;33m)\u001b[0m\u001b[1;33m\u001b[0m\u001b[1;33m\u001b[0m\u001b[0m\n\u001b[0m\u001b[0;32m    326\u001b[0m     \u001b[1;32melif\u001b[0m \u001b[0mcompression\u001b[0m \u001b[1;33m==\u001b[0m \u001b[1;34m'gz'\u001b[0m\u001b[1;33m:\u001b[0m\u001b[1;33m\u001b[0m\u001b[1;33m\u001b[0m\u001b[0m\n\u001b[0;32m    327\u001b[0m         \u001b[1;32mimport\u001b[0m \u001b[0mgzip\u001b[0m\u001b[1;33m\u001b[0m\u001b[1;33m\u001b[0m\u001b[0m\n",
      "\u001b[1;31mPermissionError\u001b[0m: [Errno 13] Permission denied: 'C:\\\\Users\\\\Mark\\\\AppData\\\\Local\\\\Temp\\\\tmp35e3ejjc.pdb'"
     ]
    }
   ],
   "source": [
    "client.view.shape.add_sphere(list(start_point), [1, 0, 0], 0.5)\n",
    "client.view.shape.add_sphere(list(first_nanotube_anchor), [1, 0, 1], 0.5)\n",
    "client.view.shape.add_sphere(list(last_nanotube_anchor), [1, 1, 0], 0.5)"
   ]
  },
  {
   "cell_type": "code",
   "execution_count": 13,
   "metadata": {},
   "outputs": [
    {
     "data": {
      "text/plain": [
       "values {\n",
       "  key: \"energy.kinetic\"\n",
       "  value {\n",
       "    number_value: 2.5590665278596534\n",
       "  }\n",
       "}\n",
       "arrays {\n",
       "  key: \"atom.id\"\n",
       "  value {\n",
       "    string_values {\n",
       "      values: \"mm3_\"\n",
       "      values: \"mm3_\"\n",
       "      values: \"mm3_\"\n",
       "      values: \"mm3_\"\n",
       "      values: \"mm3_\"\n",
       "      values: \"mm3_\"\n",
       "      values: \"mm3_\"\n",
       "      values: \"mm3_\"\n",
       "      values: \"mm3_\"\n",
       "      values: \"mm3_\"\n",
       "      values: \"mm3_\"\n",
       "      values: \"mm3_\"\n",
       "      values: \"mm3_\"\n",
       "      values: \"mm3_\"\n",
       "      values: \"mm3_\"\n",
       "      values: \"mm3_\"\n",
       "      values: \"mm3_\"\n",
       "      values: \"mm3_\"\n",
       "      values: \"mm3_\"\n",
       "      values: \"mm3_\"\n",
       "      values: \"mm3_\"\n",
       "      values: \"mm3_\"\n",
       "      values: \"mm3_\"\n",
       "      values: \"mm3_\"\n",
       "      values: \"mm3_\"\n",
       "      values: \"mm3_\"\n",
       "      values: \"mm3_\"\n",
       "      values: \"mm3_\"\n",
       "      values: \"mm3_\"\n",
       "      values: \"mm3_\"\n",
       "      values: \"mm3_\"\n",
       "      values: \"mm3_\"\n",
       "      values: \"mm3_\"\n",
       "      values: \"mm3_\"\n",
       "      values: \"mm3_\"\n",
       "      values: \"mm3_\"\n",
       "      values: \"mm3_\"\n",
       "      values: \"mm3_\"\n",
       "      values: \"mm3_\"\n",
       "      values: \"mm3_\"\n",
       "      values: \"mm3_\"\n",
       "      values: \"mm3_\"\n",
       "      values: \"mm3_\"\n",
       "      values: \"mm3_\"\n",
       "      values: \"mm3_\"\n",
       "      values: \"mm3_\"\n",
       "      values: \"mm3_\"\n",
       "      values: \"mm3_\"\n",
       "      values: \"mm3_\"\n",
       "      values: \"mm3_\"\n",
       "      values: \"mm3_\"\n",
       "      values: \"mm3_\"\n",
       "      values: \"mm3_\"\n",
       "      values: \"mm3_\"\n",
       "      values: \"mm3_\"\n",
       "      values: \"mm3_\"\n",
       "      values: \"mm3_\"\n",
       "      values: \"mm3_\"\n",
       "      values: \"mm3_\"\n",
       "      values: \"mm3_\"\n",
       "      values: \"mm3_\"\n",
       "      values: \"mm3_\"\n",
       "      values: \"mm3_\"\n",
       "      values: \"mm3_\"\n",
       "      values: \"mm3_\"\n",
       "    }\n",
       "  }\n",
       "}\n",
       "arrays {\n",
       "  key: \"atom.residue\"\n",
       "  value {\n",
       "    index_values {\n",
       "      values: 0\n",
       "      values: 0\n",
       "      values: 0\n",
       "      values: 0\n",
       "      values: 0\n",
       "      values: 0\n",
       "      values: 0\n",
       "      values: 0\n",
       "      values: 0\n",
       "      values: 0\n",
       "      values: 0\n",
       "      values: 0\n",
       "      values: 0\n",
       "      values: 0\n",
       "      values: 0\n",
       "      values: 0\n",
       "      values: 0\n",
       "      values: 0\n",
       "      values: 0\n",
       "      values: 0\n",
       "      values: 0\n",
       "      values: 0\n",
       "      values: 0\n",
       "      values: 0\n",
       "      values: 0\n",
       "      values: 0\n",
       "      values: 0\n",
       "      values: 0\n",
       "      values: 0\n",
       "      values: 0\n",
       "      values: 0\n",
       "      values: 0\n",
       "      values: 0\n",
       "      values: 0\n",
       "      values: 0\n",
       "      values: 0\n",
       "      values: 0\n",
       "      values: 0\n",
       "      values: 0\n",
       "      values: 0\n",
       "      values: 0\n",
       "      values: 0\n",
       "      values: 0\n",
       "      values: 0\n",
       "      values: 0\n",
       "      values: 0\n",
       "      values: 0\n",
       "      values: 0\n",
       "      values: 0\n",
       "      values: 0\n",
       "      values: 0\n",
       "      values: 0\n",
       "      values: 0\n",
       "      values: 0\n",
       "      values: 0\n",
       "      values: 0\n",
       "      values: 0\n",
       "      values: 0\n",
       "      values: 0\n",
       "      values: 0\n",
       "      values: 0\n",
       "      values: 0\n",
       "      values: 0\n",
       "      values: 0\n",
       "      values: 0\n",
       "    }\n",
       "  }\n",
       "}\n",
       "arrays {\n",
       "  key: \"bond\"\n",
       "  value {\n",
       "    index_values {\n",
       "      values: 0\n",
       "      values: 1\n",
       "      values: 0\n",
       "      values: 11\n",
       "      values: 1\n",
       "      values: 2\n",
       "      values: 2\n",
       "      values: 3\n",
       "      values: 2\n",
       "      values: 13\n",
       "      values: 3\n",
       "      values: 4\n",
       "      values: 3\n",
       "      values: 16\n",
       "      values: 4\n",
       "      values: 5\n",
       "      values: 5\n",
       "      values: 6\n",
       "      values: 6\n",
       "      values: 7\n",
       "      values: 6\n",
       "      values: 17\n",
       "      values: 7\n",
       "      values: 8\n",
       "      values: 7\n",
       "      values: 20\n",
       "      values: 8\n",
       "      values: 9\n",
       "      values: 9\n",
       "      values: 10\n",
       "      values: 10\n",
       "      values: 11\n",
       "      values: 10\n",
       "      values: 21\n",
       "      values: 11\n",
       "      values: 12\n",
       "      values: 12\n",
       "      values: 13\n",
       "      values: 12\n",
       "      values: 23\n",
       "      values: 13\n",
       "      values: 14\n",
       "      values: 14\n",
       "      values: 15\n",
       "      values: 14\n",
       "      values: 25\n",
       "      values: 15\n",
       "      values: 16\n",
       "      values: 15\n",
       "      values: 28\n",
       "      values: 16\n",
       "      values: 17\n",
       "      values: 17\n",
       "      values: 18\n",
       "      values: 18\n",
       "      values: 19\n",
       "      values: 18\n",
       "      values: 29\n",
       "      values: 19\n",
       "      values: 20\n",
       "      values: 19\n",
       "      values: 32\n",
       "      values: 20\n",
       "      values: 21\n",
       "      values: 21\n",
       "      values: 22\n",
       "      values: 22\n",
       "      values: 23\n",
       "      values: 22\n",
       "      values: 33\n",
       "      values: 23\n",
       "      values: 24\n",
       "      values: 24\n",
       "      values: 25\n",
       "      values: 24\n",
       "      values: 35\n",
       "      values: 25\n",
       "      values: 26\n",
       "      values: 26\n",
       "      values: 27\n",
       "      values: 26\n",
       "      values: 37\n",
       "      values: 27\n",
       "      values: 28\n",
       "      values: 27\n",
       "      values: 40\n",
       "      values: 28\n",
       "      values: 29\n",
       "      values: 29\n",
       "      values: 30\n",
       "      values: 30\n",
       "      values: 31\n",
       "      values: 30\n",
       "      values: 41\n",
       "      values: 31\n",
       "      values: 32\n",
       "      values: 31\n",
       "      values: 44\n",
       "      values: 32\n",
       "      values: 33\n",
       "      values: 33\n",
       "      values: 34\n",
       "      values: 34\n",
       "      values: 35\n",
       "      values: 34\n",
       "      values: 45\n",
       "      values: 35\n",
       "      values: 36\n",
       "      values: 36\n",
       "      values: 37\n",
       "      values: 36\n",
       "      values: 47\n",
       "      values: 37\n",
       "      values: 38\n",
       "      values: 38\n",
       "      values: 39\n",
       "      values: 38\n",
       "      values: 49\n",
       "      values: 39\n",
       "      values: 40\n",
       "      values: 39\n",
       "      values: 52\n",
       "      values: 40\n",
       "      values: 41\n",
       "      values: 41\n",
       "      values: 42\n",
       "      values: 42\n",
       "      values: 43\n",
       "      values: 42\n",
       "      values: 53\n",
       "      values: 43\n",
       "      values: 44\n",
       "      values: 43\n",
       "      values: 56\n",
       "      values: 44\n",
       "      values: 45\n",
       "      values: 45\n",
       "      values: 46\n",
       "      values: 46\n",
       "      values: 47\n",
       "      values: 46\n",
       "      values: 57\n",
       "      values: 47\n",
       "      values: 48\n",
       "      values: 48\n",
       "      values: 49\n",
       "      values: 48\n",
       "      values: 59\n",
       "      values: 49\n",
       "      values: 50\n",
       "      values: 50\n",
       "      values: 51\n",
       "      values: 51\n",
       "      values: 52\n",
       "      values: 52\n",
       "      values: 53\n",
       "      values: 53\n",
       "      values: 54\n",
       "      values: 54\n",
       "      values: 55\n",
       "      values: 55\n",
       "      values: 56\n",
       "      values: 56\n",
       "      values: 57\n",
       "      values: 57\n",
       "      values: 58\n",
       "      values: 58\n",
       "      values: 59\n",
       "      values: 60\n",
       "      values: 61\n",
       "      values: 60\n",
       "      values: 62\n",
       "      values: 60\n",
       "      values: 63\n",
       "      values: 60\n",
       "      values: 64\n",
       "    }\n",
       "  }\n",
       "}\n",
       "arrays {\n",
       "  key: \"particle.element\"\n",
       "  value {\n",
       "    index_values {\n",
       "      values: 6\n",
       "      values: 6\n",
       "      values: 6\n",
       "      values: 6\n",
       "      values: 6\n",
       "      values: 6\n",
       "      values: 6\n",
       "      values: 6\n",
       "      values: 6\n",
       "      values: 6\n",
       "      values: 6\n",
       "      values: 6\n",
       "      values: 6\n",
       "      values: 6\n",
       "      values: 6\n",
       "      values: 6\n",
       "      values: 6\n",
       "      values: 6\n",
       "      values: 6\n",
       "      values: 6\n",
       "      values: 6\n",
       "      values: 6\n",
       "      values: 6\n",
       "      values: 6\n",
       "      values: 6\n",
       "      values: 6\n",
       "      values: 6\n",
       "      values: 6\n",
       "      values: 6\n",
       "      values: 6\n",
       "      values: 6\n",
       "      values: 6\n",
       "      values: 6\n",
       "      values: 6\n",
       "      values: 6\n",
       "      values: 6\n",
       "      values: 6\n",
       "      values: 6\n",
       "      values: 6\n",
       "      values: 6\n",
       "      values: 6\n",
       "      values: 6\n",
       "      values: 6\n",
       "      values: 6\n",
       "      values: 6\n",
       "      values: 6\n",
       "      values: 6\n",
       "      values: 6\n",
       "      values: 6\n",
       "      values: 6\n",
       "      values: 6\n",
       "      values: 6\n",
       "      values: 6\n",
       "      values: 6\n",
       "      values: 6\n",
       "      values: 6\n",
       "      values: 6\n",
       "      values: 6\n",
       "      values: 6\n",
       "      values: 6\n",
       "      values: 6\n",
       "      values: 1\n",
       "      values: 1\n",
       "      values: 1\n",
       "      values: 1\n",
       "    }\n",
       "  }\n",
       "}\n",
       "arrays {\n",
       "  key: \"particle.position\"\n",
       "  value {\n",
       "    float_values {\n",
       "      values: -0.3708217740058899\n",
       "      values: 0.3853780925273895\n",
       "      values: 0.29168587923049927\n",
       "      values: -0.34010106325149536\n",
       "      values: 0.3760190010070801\n",
       "      values: 0.16256242990493774\n",
       "      values: -0.2105884850025177\n",
       "      values: 0.35576900839805603\n",
       "      values: 0.13721707463264465\n",
       "      values: -0.16107209026813507\n",
       "      values: 0.4760850965976715\n",
       "      values: 0.11580044031143188\n",
       "      values: -0.2624370753765106\n",
       "      values: 0.5610932111740112\n",
       "      values: 0.13369183242321014\n",
       "      values: -0.23410415649414062\n",
       "      values: 0.6671698093414307\n",
       "      values: 0.2088717520236969\n",
       "      values: -0.12176991999149323\n",
       "      values: 0.6572498679161072\n",
       "      values: 0.2827709913253784\n",
       "      values: -0.1615561842918396\n",
       "      values: 0.6261519193649292\n",
       "      values: 0.40275171399116516\n",
       "      values: -0.2944217324256897\n",
       "      values: 0.62066650390625\n",
       "      values: 0.39978036284446716\n",
       "      values: -0.3488274812698364\n",
       "      values: 0.5146176218986511\n",
       "      values: 0.45110559463500977\n",
       "      values: -0.2654843330383301\n",
       "      values: 0.4125564694404602\n",
       "      values: 0.4718989133834839\n",
       "      values: -0.28167688846588135\n",
       "      values: 0.3290758728981018\n",
       "      values: 0.3743312358856201\n",
       "      values: -0.17300425469875336\n",
       "      values: 0.25625497102737427\n",
       "      values: 0.3387543559074402\n",
       "      values: -0.13391488790512085\n",
       "      values: 0.27246230840682983\n",
       "      values: 0.21175816655158997\n",
       "      values: -0.0009664804674685001\n",
       "      values: 0.26857906579971313\n",
       "      values: 0.1891120821237564\n",
       "      values: 0.054693665355443954\n",
       "      values: 0.39019182324409485\n",
       "      values: 0.15893185138702393\n",
       "      values: -0.03231889754533768\n",
       "      values: 0.4969620406627655\n",
       "      values: 0.15472467243671417\n",
       "      values: -0.009090573526918888\n",
       "      values: 0.5966936945915222\n",
       "      values: 0.2411244511604309\n",
       "      values: 0.095035620033741\n",
       "      values: 0.5782857537269592\n",
       "      values: 0.33115217089653015\n",
       "      values: 0.05317031219601631\n",
       "      values: 0.5413074493408203\n",
       "      values: 0.4564574658870697\n",
       "      values: -0.08179350942373276\n",
       "      values: 0.5442522764205933\n",
       "      values: 0.4780105948448181\n",
       "      values: -0.13807204365730286\n",
       "      values: 0.4276944100856781\n",
       "      values: 0.5180414915084839\n",
       "      values: -0.05598912760615349\n",
       "      values: 0.31805139780044556\n",
       "      values: 0.5274738669395447\n",
       "      values: -0.07585427910089493\n",
       "      values: 0.22523294389247894\n",
       "      values: 0.43146592378616333\n",
       "      values: 0.033243246376514435\n",
       "      values: 0.15056055784225464\n",
       "      values: 0.38872507214546204\n",
       "      values: 0.07514846324920654\n",
       "      values: 0.17919275164604187\n",
       "      values: 0.2603791058063507\n",
       "      values: 0.21206343173980713\n",
       "      values: 0.18138568103313446\n",
       "      values: 0.2350984364748001\n",
       "      values: 0.26980718970298767\n",
       "      values: 0.3017582893371582\n",
       "      values: 0.20199453830718994\n",
       "      values: 0.18508997559547424\n",
       "      values: 0.41319209337234497\n",
       "      values: 0.19479168951511383\n",
       "      values: 0.20882411301136017\n",
       "      values: 0.5131227970123291\n",
       "      values: 0.2872319221496582\n",
       "      values: 0.3141360580921173\n",
       "      values: 0.4872639775276184\n",
       "      values: 0.37738776206970215\n",
       "      values: 0.2712133824825287\n",
       "      values: 0.45093318819999695\n",
       "      values: 0.5028745532035828\n",
       "      values: 0.1324608325958252\n",
       "      values: 0.45203065872192383\n",
       "      values: 0.5278732180595398\n",
       "      values: 0.07638141512870789\n",
       "      values: 0.3336367905139923\n",
       "      values: 0.5643110275268555\n",
       "      values: 0.16097430884838104\n",
       "      values: 0.22040437161922455\n",
       "      values: 0.5700723528862\n",
       "      values: 0.13665127754211426\n",
       "      values: 0.12029238045215607\n",
       "      values: 0.47820988297462463\n",
       "      values: 0.2544723153114319\n",
       "      values: 0.05870567634701729\n",
       "      values: 0.42913055419921875\n",
       "      values: 0.2910720109939575\n",
       "      values: 0.09111233800649643\n",
       "      values: 0.30163729190826416\n",
       "      values: 0.42418402433395386\n",
       "      values: 0.09412197023630142\n",
       "      values: 0.275863379240036\n",
       "      values: 0.4816778600215912\n",
       "      values: 0.21293897926807404\n",
       "      values: 0.2461722493171692\n",
       "      values: 0.4012555778026581\n",
       "      values: 0.3217179477214813\n",
       "      values: 0.24127382040023804\n",
       "      values: 0.42662107944488525\n",
       "      values: 0.4219908118247986\n",
       "      values: 0.3295711278915405\n",
       "      values: 0.5274113416671753\n",
       "      values: 0.39113739132881165\n",
       "      values: 0.41789355874061584\n",
       "      values: 0.4851073920726776\n",
       "      values: 0.35907620191574097\n",
       "      values: 0.5404446125030518\n",
       "      values: 0.34927821159362793\n",
       "      values: 0.3589458167552948\n",
       "      values: 0.5643802285194397\n",
       "      values: 0.29214414954185486\n",
       "      values: 0.24017824232578278\n",
       "      values: 0.6035618185997009\n",
       "      values: 0.37801799178123474\n",
       "      values: 0.13377782702445984\n",
       "      values: 0.6081883907318115\n",
       "      values: 0.36242642998695374\n",
       "      values: 0.04249612241983414\n",
       "      values: 0.5125457048416138\n",
       "      values: 0.47890329360961914\n",
       "      values: -0.01268733013421297\n",
       "      values: 0.4656335115432739\n",
       "      values: 0.5055136680603027\n",
       "      values: 0.005640614777803421\n",
       "      values: 0.3393835425376892\n",
       "      values: 0.6380529403686523\n",
       "      values: 0.007207279559224844\n",
       "      values: 0.3258521854877472\n",
       "      values: 0.6939144134521484\n",
       "      values: 0.12275875359773636\n",
       "      values: 0.3055358827114105\n",
       "      values: 0.6110994219779968\n",
       "      values: 0.2262730449438095\n",
       "      values: 0.28564780950546265\n",
       "      values: 0.6341568827629089\n",
       "      values: 0.3184463679790497\n",
       "      values: 0.374424010515213\n",
       "      values: 0.7299675941467285\n",
       "      values: 0.2679493725299835\n",
       "      values: 0.4529341459274292\n",
       "      values: 0.6910780668258667\n",
       "      values: 0.2400047928094864\n",
       "      values: 0.5777014493942261\n",
       "      values: 0.5637744665145874\n",
       "      values: 0.27041977643966675\n",
       "      values: 0.607511579990387\n",
       "      values: 0.5083615183830261\n",
       "      values: 0.15669570863246918\n",
       "      values: 0.6433035135269165\n",
       "      values: 0.6076955199241638\n",
       "      values: 0.06943096220493317\n",
       "      values: 0.6301743388175964\n",
       "      values: 0.5978298187255859\n",
       "      values: -0.012484047561883926\n",
       "      values: 0.5271022319793701\n",
       "      values: -0.6486291885375977\n",
       "      values: 0.6834449768066406\n",
       "      values: 0.24088753759860992\n",
       "      values: -0.7113808989524841\n",
       "      values: 0.7381009459495544\n",
       "      values: 0.3144897520542145\n",
       "      values: -0.5553731918334961\n",
       "      values: 0.7409120798110962\n",
       "      values: 0.21808288991451263\n",
       "      values: -0.6202758550643921\n",
       "      values: 0.586555004119873\n",
       "      values: 0.28608331084251404\n",
       "      values: -0.7029326558113098\n",
       "      values: 0.6699776649475098\n",
       "      values: 0.14584197103977203\n",
       "    }\n",
       "  }\n",
       "}\n",
       "arrays {\n",
       "  key: \"residue.chain\"\n",
       "  value {\n",
       "    index_values {\n",
       "      values: 0\n",
       "    }\n",
       "  }\n",
       "}\n",
       "arrays {\n",
       "  key: \"residue.id\"\n",
       "  value {\n",
       "    string_values {\n",
       "      values: \"mm3\"\n",
       "    }\n",
       "  }\n",
       "}"
      ]
     },
     "execution_count": 13,
     "metadata": {},
     "output_type": "execute_result"
    }
   ],
   "source": [
    "client.first_frame.raw"
   ]
  },
  {
   "cell_type": "code",
   "execution_count": null,
   "metadata": {},
   "outputs": [],
   "source": []
  }
 ],
 "metadata": {
  "extensions": {
   "jupyter_dashboards": {
    "activeView": "grid_default",
    "version": 1,
    "views": {
     "grid_default": {
      "cellMargin": 10,
      "defaultCellHeight": 20,
      "maxColumns": 12,
      "name": "grid",
      "type": "grid"
     },
     "report_default": {
      "name": "report",
      "type": "report"
     }
    }
   }
  },
  "hide_input": false,
  "kernelspec": {
   "display_name": "Python 3",
   "language": "python",
   "name": "python3"
  },
  "language_info": {
   "codemirror_mode": {
    "name": "ipython",
    "version": 3
   },
   "file_extension": ".py",
   "mimetype": "text/x-python",
   "name": "python",
   "nbconvert_exporter": "python",
   "pygments_lexer": "ipython3",
   "version": "3.7.3"
  },
  "toc": {
   "nav_menu": {},
   "number_sections": true,
   "sideBar": true,
   "skip_h1_title": false,
   "toc_cell": false,
   "toc_position": {},
   "toc_section_display": "block",
   "toc_window_display": false
  }
 },
 "nbformat": 4,
 "nbformat_minor": 2
}
