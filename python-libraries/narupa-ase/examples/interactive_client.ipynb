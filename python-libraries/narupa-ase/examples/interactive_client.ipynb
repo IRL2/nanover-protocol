{
 "cells": [
  {
   "cell_type": "code",
   "execution_count": 1,
   "metadata": {
    "ExecuteTime": {
     "end_time": "2019-06-06T16:04:25.392952Z",
     "start_time": "2019-06-06T16:04:24.453212Z"
    },
    "extensions": {
     "jupyter_dashboards": {
      "version": 1,
      "views": {
       "grid_default": {
        "hidden": true
       },
       "report_default": {
        "hidden": true
       }
      }
     }
    }
   },
   "outputs": [],
   "source": [
    "from narupa.app.client import NarupaClient\n",
    "from imd_openmm import openmm_ase_frame_server, start_imd\n",
    "from narupa.ase.converter import frame_data_to_ase\n",
    "from narupa.trajectory.frame_data import (\n",
    "    FrameData, POSITIONS, ELEMENTS, TYPES, MissingDataError,\n",
    ")\n",
    "from narupa.imd.interaction import Interaction\n",
    "import numpy as np\n",
    "import nglview\n",
    "import MDAnalysis as mda\n",
    "import matplotlib.pyplot as plt\n",
    "from queue import Queue"
   ]
  },
  {
   "cell_type": "markdown",
   "metadata": {
    "extensions": {
     "jupyter_dashboards": {
      "version": 1,
      "views": {
       "grid_default": {
        "col": 0,
        "height": 4,
        "hidden": true,
        "row": 4,
        "width": 4
       },
       "report_default": {
        "hidden": false
       }
      }
     }
    }
   },
   "source": [
    "## Start an IMD client"
   ]
  },
  {
   "cell_type": "code",
   "execution_count": 2,
   "metadata": {
    "ExecuteTime": {
     "end_time": "2019-06-06T16:04:26.428800Z",
     "start_time": "2019-06-06T16:04:26.348751Z"
    },
    "extensions": {
     "jupyter_dashboards": {
      "version": 1,
      "views": {
       "grid_default": {
        "hidden": true
       },
       "report_default": {
        "hidden": true
       }
      }
     }
    }
   },
   "outputs": [],
   "source": [
    "class NGLClient(NarupaClient):\n",
    "    def __init__(self, *args, update_callback=None, **kwargs):\n",
    "        super().__init__(*args, **kwargs)\n",
    "        self._view = None\n",
    "        self.update_callback = update_callback\n",
    "    \n",
    "    @property\n",
    "    def view(self):\n",
    "        if self._view is None:\n",
    "            atoms = frame_data_to_ase(\n",
    "                client.first_frame,\n",
    "                topology=True,\n",
    "                positions=False,\n",
    "            )\n",
    "            atoms.set_positions(\n",
    "                np.array(client.latest_frame.particle_positions) * 10\n",
    "            )\n",
    "            self._view = nglview.show_ase(atoms)\n",
    "        return self._view\n",
    "\n",
    "    def _on_frame_received(self, frame_index:int, frame):\n",
    "        super()._on_frame_received(frame_index, frame)\n",
    "        self.view.set_coordinates(\n",
    "            {0: np.array(self.latest_frame.particle_positions) * 10}\n",
    "        )\n",
    "        if self.update_callback is not None:\n",
    "            self.update_callback(self.universe)"
   ]
  },
  {
   "cell_type": "code",
   "execution_count": 20,
   "metadata": {
    "ExecuteTime": {
     "end_time": "2019-06-06T16:04:26.572274Z",
     "start_time": "2019-06-06T16:04:26.482553Z"
    },
    "extensions": {
     "jupyter_dashboards": {
      "version": 1,
      "views": {
       "grid_default": {
        "col": 0,
        "height": 19,
        "hidden": false,
        "row": 11,
        "width": 7
       },
       "report_default": {
        "hidden": false
       }
      }
     }
    }
   },
   "outputs": [],
   "source": [
    "client = NGLClient()"
   ]
  },
  {
   "cell_type": "code",
   "execution_count": 22,
   "metadata": {},
   "outputs": [
    {
     "data": {
      "text/plain": [
       "values {\n",
       "  key: \"energy.kinetic\"\n",
       "  value {\n",
       "    number_value: 0.3310391640760655\n",
       "  }\n",
       "}\n",
       "arrays {\n",
       "  key: \"atom.id\"\n",
       "  value {\n",
       "    string_values {\n",
       "      values: \"0\"\n",
       "      values: \"1\"\n",
       "      values: \"2\"\n",
       "      values: \"3\"\n",
       "      values: \"4\"\n",
       "      values: \"5\"\n",
       "      values: \"6\"\n",
       "      values: \"7\"\n",
       "    }\n",
       "  }\n",
       "}\n",
       "arrays {\n",
       "  key: \"atom.residue\"\n",
       "  value {\n",
       "    index_values {\n",
       "      values: 0\n",
       "      values: 0\n",
       "      values: 0\n",
       "      values: 0\n",
       "      values: 0\n",
       "      values: 0\n",
       "      values: 0\n",
       "      values: 0\n",
       "    }\n",
       "  }\n",
       "}\n",
       "arrays {\n",
       "  key: \"bond\"\n",
       "  value {\n",
       "    index_values {\n",
       "      values: 0\n",
       "      values: 1\n",
       "      values: 0\n",
       "      values: 2\n",
       "      values: 0\n",
       "      values: 3\n",
       "      values: 0\n",
       "      values: 4\n",
       "      values: 1\n",
       "      values: 5\n",
       "      values: 1\n",
       "      values: 6\n",
       "      values: 1\n",
       "      values: 7\n",
       "    }\n",
       "  }\n",
       "}\n",
       "arrays {\n",
       "  key: \"particle.element\"\n",
       "  value {\n",
       "    index_values {\n",
       "      values: 6\n",
       "      values: 6\n",
       "      values: 1\n",
       "      values: 1\n",
       "      values: 1\n",
       "      values: 1\n",
       "      values: 1\n",
       "      values: 1\n",
       "    }\n",
       "  }\n",
       "}\n",
       "arrays {\n",
       "  key: \"particle.position\"\n",
       "  value {\n",
       "    float_values {\n",
       "      values: 0.06841471791267395\n",
       "      values: 0.007776499725878239\n",
       "      values: -0.029683725908398628\n",
       "      values: -0.06812647730112076\n",
       "      values: -0.01028356608003378\n",
       "      values: 0.029160989448428154\n",
       "      values: 0.1491308957338333\n",
       "      values: -0.04928593337535858\n",
       "      values: 0.02163846604526043\n",
       "      values: 0.09765523672103882\n",
       "      values: 0.11414207518100739\n",
       "      values: -0.015711646527051926\n",
       "      values: 0.06908120959997177\n",
       "      values: -0.015549011528491974\n",
       "      values: -0.13828586041927338\n",
       "      values: -0.10443099588155746\n",
       "      values: -0.11468151211738586\n",
       "      values: 0.02972225844860077\n",
       "      values: -0.0715034157037735\n",
       "      values: 0.039867013692855835\n",
       "      values: 0.12602892518043518\n",
       "      values: -0.14337745308876038\n",
       "      values: 0.05536075308918953\n",
       "      values: -0.01716339774429798\n",
       "    }\n",
       "  }\n",
       "}\n",
       "arrays {\n",
       "  key: \"residue.chain\"\n",
       "  value {\n",
       "    index_values {\n",
       "      values: 0\n",
       "    }\n",
       "  }\n",
       "}\n",
       "arrays {\n",
       "  key: \"residue.id\"\n",
       "  value {\n",
       "    string_values {\n",
       "      values: \"ASE\"\n",
       "    }\n",
       "  }\n",
       "}"
      ]
     },
     "execution_count": 22,
     "metadata": {},
     "output_type": "execute_result"
    }
   ],
   "source": [
    "client.latest_frame.raw"
   ]
  },
  {
   "cell_type": "code",
   "execution_count": 18,
   "metadata": {
    "ExecuteTime": {
     "end_time": "2019-06-06T16:04:26.674930Z",
     "start_time": "2019-06-06T16:04:26.619824Z"
    }
   },
   "outputs": [],
   "source": [
    "positions = np.array(client.latest_frame.particle_positions) * 10\n",
    "start_point = positions[0, :]\n",
    "first_anchor = positions[0] - np.array([0.1,0,0])"
   ]
  },
  {
   "cell_type": "code",
   "execution_count": 19,
   "metadata": {
    "ExecuteTime": {
     "end_time": "2019-06-06T16:04:26.778540Z",
     "start_time": "2019-06-06T16:04:26.721845Z"
    }
   },
   "outputs": [],
   "source": [
    "anchor1 = Interaction(position=first_anchor, scale=1000, particles=(0,), interaction_type='spring')\n",
    "anchor1_id = client.start_interaction()\n",
    "client.update_interaction(anchor1_id, anchor1)"
   ]
  },
  {
   "cell_type": "code",
   "execution_count": 7,
   "metadata": {
    "ExecuteTime": {
     "end_time": "2019-06-06T16:04:27.291228Z",
     "start_time": "2019-06-06T16:04:26.945620Z"
    },
    "extensions": {
     "jupyter_dashboards": {
      "version": 1,
      "views": {
       "grid_default": {
        "col": 0,
        "height": 11,
        "hidden": false,
        "row": 0,
        "width": 12
       },
       "report_default": {
        "hidden": false
       }
      }
     }
    }
   },
   "outputs": [
    {
     "data": {
      "application/vnd.jupyter.widget-view+json": {
       "model_id": "fae487d622b04903be60985ba0223b68",
       "version_major": 2,
       "version_minor": 0
      },
      "text/plain": [
       "NGLWidget()"
      ]
     },
     "metadata": {},
     "output_type": "display_data"
    }
   ],
   "source": [
    "client.view"
   ]
  },
  {
   "cell_type": "code",
   "execution_count": 8,
   "metadata": {
    "ExecuteTime": {
     "end_time": "2019-06-06T16:04:27.384256Z",
     "start_time": "2019-06-06T16:04:27.347583Z"
    }
   },
   "outputs": [],
   "source": [
    "client.view.shape.add_sphere(list(start_point), [1, 0, 0], 0.5)"
   ]
  },
  {
   "cell_type": "code",
   "execution_count": null,
   "metadata": {},
   "outputs": [],
   "source": []
  }
 ],
 "metadata": {
  "extensions": {
   "jupyter_dashboards": {
    "activeView": "grid_default",
    "version": 1,
    "views": {
     "grid_default": {
      "cellMargin": 10,
      "defaultCellHeight": 20,
      "maxColumns": 12,
      "name": "grid",
      "type": "grid"
     },
     "report_default": {
      "name": "report",
      "type": "report"
     }
    }
   }
  },
  "hide_input": false,
  "kernelspec": {
   "display_name": "Python 3",
   "language": "python",
   "name": "python3"
  },
  "language_info": {
   "codemirror_mode": {
    "name": "ipython",
    "version": 3
   },
   "file_extension": ".py",
   "mimetype": "text/x-python",
   "name": "python",
   "nbconvert_exporter": "python",
   "pygments_lexer": "ipython3",
   "version": "3.7.3"
  },
  "toc": {
   "nav_menu": {},
   "number_sections": true,
   "sideBar": true,
   "skip_h1_title": false,
   "toc_cell": false,
   "toc_position": {},
   "toc_section_display": "block",
   "toc_window_display": false
  }
 },
 "nbformat": 4,
 "nbformat_minor": 2
}
