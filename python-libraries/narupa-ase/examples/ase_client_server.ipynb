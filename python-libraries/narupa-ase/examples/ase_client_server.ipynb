{
 "cells": [
  {
   "cell_type": "code",
   "execution_count": 1,
   "metadata": {},
   "outputs": [],
   "source": [
    "from narupa.app.client import NarupaClient\n",
    "from openmm_calculator import OpenMMCalculator\n",
    "from imd_openmm import openmm_ase_frame_server, start_imd"
   ]
  },
  {
   "cell_type": "code",
   "execution_count": 2,
   "metadata": {},
   "outputs": [],
   "source": [
    "# set up an openmm simulation, or read from file. \n",
    "input_xml = \"neuraminidase.xml\""
   ]
  },
  {
   "cell_type": "code",
   "execution_count": 3,
   "metadata": {},
   "outputs": [
    {
     "name": "stdout",
     "output_type": "stream",
     "text": [
      "Generating OpenMM context from input: neuraminidase.xml\n",
      "Generating ASE representation of the OpenMM system\n",
      "ASE energy: -555.9152671300163\n"
     ]
    }
   ],
   "source": [
    "imd = start_imd(input_xml)"
   ]
  },
  {
   "cell_type": "markdown",
   "metadata": {},
   "source": [
    "Run dynamics in background thread"
   ]
  },
  {
   "cell_type": "code",
   "execution_count": 4,
   "metadata": {},
   "outputs": [],
   "source": [
    "imd.run()"
   ]
  },
  {
   "cell_type": "code",
   "execution_count": 20,
   "metadata": {},
   "outputs": [
    {
     "data": {
      "text/plain": [
       "1071.164866682006"
      ]
     },
     "execution_count": 20,
     "metadata": {},
     "output_type": "execute_result"
    }
   ],
   "source": [
    "# print the time to check dynamics is running\n",
    "imd.dynamics.get_time()"
   ]
  },
  {
   "cell_type": "markdown",
   "metadata": {},
   "source": [
    "Start an IMD client"
   ]
  },
  {
   "cell_type": "code",
   "execution_count": 8,
   "metadata": {},
   "outputs": [],
   "source": [
    "client = NarupaClient()"
   ]
  },
  {
   "cell_type": "code",
   "execution_count": 15,
   "metadata": {},
   "outputs": [
    {
     "data": {
      "text/plain": [
       "deque([<narupa.trajectory.frame_data.FrameData at 0x13a4812e8>,\n",
       "       <narupa.trajectory.frame_data.FrameData at 0x13aa41160>,\n",
       "       <narupa.trajectory.frame_data.FrameData at 0x13aa1c9e8>,\n",
       "       <narupa.trajectory.frame_data.FrameData at 0x13a481048>,\n",
       "       <narupa.trajectory.frame_data.FrameData at 0x13a481cf8>,\n",
       "       <narupa.trajectory.frame_data.FrameData at 0x13a676978>,\n",
       "       <narupa.trajectory.frame_data.FrameData at 0x13a67abe0>,\n",
       "       <narupa.trajectory.frame_data.FrameData at 0x13a6fa9b0>,\n",
       "       <narupa.trajectory.frame_data.FrameData at 0x13a665b70>,\n",
       "       <narupa.trajectory.frame_data.FrameData at 0x13a481d30>,\n",
       "       <narupa.trajectory.frame_data.FrameData at 0x13aa32358>,\n",
       "       <narupa.trajectory.frame_data.FrameData at 0x13a481898>,\n",
       "       <narupa.trajectory.frame_data.FrameData at 0x13a676438>,\n",
       "       <narupa.trajectory.frame_data.FrameData at 0x13a6fae10>,\n",
       "       <narupa.trajectory.frame_data.FrameData at 0x13aa327f0>,\n",
       "       <narupa.trajectory.frame_data.FrameData at 0x110c3cef0>,\n",
       "       <narupa.trajectory.frame_data.FrameData at 0x13aa28978>,\n",
       "       <narupa.trajectory.frame_data.FrameData at 0x13aa32518>,\n",
       "       <narupa.trajectory.frame_data.FrameData at 0x13aa285c0>,\n",
       "       <narupa.trajectory.frame_data.FrameData at 0x13aa2e860>,\n",
       "       <narupa.trajectory.frame_data.FrameData at 0x13aa2ee10>,\n",
       "       <narupa.trajectory.frame_data.FrameData at 0x13aa2e978>,\n",
       "       <narupa.trajectory.frame_data.FrameData at 0x13aa2e8d0>,\n",
       "       <narupa.trajectory.frame_data.FrameData at 0x13aa32320>,\n",
       "       <narupa.trajectory.frame_data.FrameData at 0x13aa2e0f0>,\n",
       "       <narupa.trajectory.frame_data.FrameData at 0x13aa2e4a8>,\n",
       "       <narupa.trajectory.frame_data.FrameData at 0x13aa2e2e8>,\n",
       "       <narupa.trajectory.frame_data.FrameData at 0x13aa2e198>,\n",
       "       <narupa.trajectory.frame_data.FrameData at 0x13aa2e2b0>,\n",
       "       <narupa.trajectory.frame_data.FrameData at 0x13aa2ecf8>,\n",
       "       <narupa.trajectory.frame_data.FrameData at 0x13aa28c18>,\n",
       "       <narupa.trajectory.frame_data.FrameData at 0x13aa28da0>,\n",
       "       <narupa.trajectory.frame_data.FrameData at 0x13aa28898>,\n",
       "       <narupa.trajectory.frame_data.FrameData at 0x13aa2eb38>,\n",
       "       <narupa.trajectory.frame_data.FrameData at 0x13aa2e550>,\n",
       "       <narupa.trajectory.frame_data.FrameData at 0x13a481e48>,\n",
       "       <narupa.trajectory.frame_data.FrameData at 0x13aa28320>,\n",
       "       <narupa.trajectory.frame_data.FrameData at 0x13aa288d0>,\n",
       "       <narupa.trajectory.frame_data.FrameData at 0x13aa28d30>,\n",
       "       <narupa.trajectory.frame_data.FrameData at 0x13aa28588>,\n",
       "       <narupa.trajectory.frame_data.FrameData at 0x13a4816d8>,\n",
       "       <narupa.trajectory.frame_data.FrameData at 0x13aa28b38>,\n",
       "       <narupa.trajectory.frame_data.FrameData at 0x13a4815c0>,\n",
       "       <narupa.trajectory.frame_data.FrameData at 0x13aa28be0>,\n",
       "       <narupa.trajectory.frame_data.FrameData at 0x13aa28198>,\n",
       "       <narupa.trajectory.frame_data.FrameData at 0x13aa410b8>,\n",
       "       <narupa.trajectory.frame_data.FrameData at 0x13aa1c5c0>,\n",
       "       <narupa.trajectory.frame_data.FrameData at 0x13aa411d0>,\n",
       "       <narupa.trajectory.frame_data.FrameData at 0x13a4819e8>,\n",
       "       <narupa.trajectory.frame_data.FrameData at 0x13aa1ceb8>])"
      ]
     },
     "execution_count": 15,
     "metadata": {},
     "output_type": "execute_result"
    }
   ],
   "source": [
    "client.frames"
   ]
  },
  {
   "cell_type": "code",
   "execution_count": 21,
   "metadata": {},
   "outputs": [],
   "source": [
    "imd.cancel_run()"
   ]
  },
  {
   "cell_type": "code",
   "execution_count": null,
   "metadata": {},
   "outputs": [],
   "source": [
    "imd.close()"
   ]
  }
 ],
 "metadata": {
  "kernelspec": {
   "display_name": "Python 3",
   "language": "python",
   "name": "python3"
  },
  "language_info": {
   "codemirror_mode": {
    "name": "ipython",
    "version": 3
   },
   "file_extension": ".py",
   "mimetype": "text/x-python",
   "name": "python",
   "nbconvert_exporter": "python",
   "pygments_lexer": "ipython3",
   "version": "3.6.8"
  }
 },
 "nbformat": 4,
 "nbformat_minor": 2
}
