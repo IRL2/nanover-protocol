{
 "cells": [
  {
   "cell_type": "code",
   "execution_count": 1,
   "metadata": {},
   "outputs": [],
   "source": [
    "from narupa.app.client import NarupaClient\n",
    "from openmm_calculator import OpenMMCalculator\n",
    "from imd_openmm import openmm_ase_frame_server, start_imd"
   ]
  },
  {
   "cell_type": "code",
   "execution_count": 2,
   "metadata": {},
   "outputs": [],
   "source": [
    "# set up an openmm simulation, or read from file. \n",
    "input_xml = \"neuraminidase.xml\""
   ]
  },
  {
   "cell_type": "code",
   "execution_count": 3,
   "metadata": {},
   "outputs": [
    {
     "name": "stdout",
     "output_type": "stream",
     "text": [
      "Generating OpenMM context from input: neuraminidase.xml\n",
      "Generating ASE representation of the OpenMM system\n",
      "ASE energy: -555.9152671300163\n"
     ]
    }
   ],
   "source": [
    "imd = start_imd(input_xml)"
   ]
  },
  {
   "cell_type": "markdown",
   "metadata": {},
   "source": [
    "Run dynamics in background thread"
   ]
  },
  {
   "cell_type": "code",
   "execution_count": 4,
   "metadata": {},
   "outputs": [],
   "source": [
    "imd.run()"
   ]
  },
  {
   "cell_type": "code",
   "execution_count": 7,
   "metadata": {},
   "outputs": [
    {
     "data": {
      "text/plain": [
       "24.163829179621597"
      ]
     },
     "execution_count": 7,
     "metadata": {},
     "output_type": "execute_result"
    }
   ],
   "source": [
    "# print the time to check dynamics is running\n",
    "imd.dynamics.get_time()"
   ]
  },
  {
   "cell_type": "markdown",
   "metadata": {},
   "source": [
    "Start an IMD client"
   ]
  },
  {
   "cell_type": "code",
   "execution_count": 8,
   "metadata": {},
   "outputs": [],
   "source": [
    "client = NarupaClient()"
   ]
  },
  {
   "cell_type": "code",
   "execution_count": 13,
   "metadata": {},
   "outputs": [
    {
     "data": {
      "text/plain": [
       "deque([<narupa.trajectory.frame_data.FrameData at 0x13aa1ce10>,\n",
       "       <narupa.trajectory.frame_data.FrameData at 0x13aa1cb38>,\n",
       "       <narupa.trajectory.frame_data.FrameData at 0x13aa1c898>,\n",
       "       <narupa.trajectory.frame_data.FrameData at 0x13aa1c9e8>,\n",
       "       <narupa.trajectory.frame_data.FrameData at 0x13aa410f0>,\n",
       "       <narupa.trajectory.frame_data.FrameData at 0x13aa1c3c8>,\n",
       "       <narupa.trajectory.frame_data.FrameData at 0x13aa3df60>,\n",
       "       <narupa.trajectory.frame_data.FrameData at 0x13aa28518>,\n",
       "       <narupa.trajectory.frame_data.FrameData at 0x13aa3d940>,\n",
       "       <narupa.trajectory.frame_data.FrameData at 0x13aa3da90>,\n",
       "       <narupa.trajectory.frame_data.FrameData at 0x13aa3d978>,\n",
       "       <narupa.trajectory.frame_data.FrameData at 0x13aa3d5c0>,\n",
       "       <narupa.trajectory.frame_data.FrameData at 0x13aa3d588>,\n",
       "       <narupa.trajectory.frame_data.FrameData at 0x13aa3d550>,\n",
       "       <narupa.trajectory.frame_data.FrameData at 0x13aa3d748>,\n",
       "       <narupa.trajectory.frame_data.FrameData at 0x13aa3d1d0>,\n",
       "       <narupa.trajectory.frame_data.FrameData at 0x13aa3d3c8>,\n",
       "       <narupa.trajectory.frame_data.FrameData at 0x13aa3d198>,\n",
       "       <narupa.trajectory.frame_data.FrameData at 0x13aa327b8>,\n",
       "       <narupa.trajectory.frame_data.FrameData at 0x110c45438>,\n",
       "       <narupa.trajectory.frame_data.FrameData at 0x13aa32b38>,\n",
       "       <narupa.trajectory.frame_data.FrameData at 0x13aa32860>,\n",
       "       <narupa.trajectory.frame_data.FrameData at 0x13aa324a8>,\n",
       "       <narupa.trajectory.frame_data.FrameData at 0x13aa32518>,\n",
       "       <narupa.trajectory.frame_data.FrameData at 0x13aa3dd30>,\n",
       "       <narupa.trajectory.frame_data.FrameData at 0x13aa32550>,\n",
       "       <narupa.trajectory.frame_data.FrameData at 0x13aa2eeb8>,\n",
       "       <narupa.trajectory.frame_data.FrameData at 0x13aa32240>,\n",
       "       <narupa.trajectory.frame_data.FrameData at 0x13aa2ef28>,\n",
       "       <narupa.trajectory.frame_data.FrameData at 0x13aa2ea20>,\n",
       "       <narupa.trajectory.frame_data.FrameData at 0x13aa2e860>,\n",
       "       <narupa.trajectory.frame_data.FrameData at 0x13aa2e978>,\n",
       "       <narupa.trajectory.frame_data.FrameData at 0x13aa2e6d8>,\n",
       "       <narupa.trajectory.frame_data.FrameData at 0x13aa2e438>,\n",
       "       <narupa.trajectory.frame_data.FrameData at 0x13aa2e4e0>,\n",
       "       <narupa.trajectory.frame_data.FrameData at 0x13aa2e080>,\n",
       "       <narupa.trajectory.frame_data.FrameData at 0x13aa2e358>,\n",
       "       <narupa.trajectory.frame_data.FrameData at 0x13aa2e390>,\n",
       "       <narupa.trajectory.frame_data.FrameData at 0x13aa28c88>,\n",
       "       <narupa.trajectory.frame_data.FrameData at 0x13aa28ef0>,\n",
       "       <narupa.trajectory.frame_data.FrameData at 0x13aa28c50>,\n",
       "       <narupa.trajectory.frame_data.FrameData at 0x13aa28908>,\n",
       "       <narupa.trajectory.frame_data.FrameData at 0x13aa287b8>,\n",
       "       <narupa.trajectory.frame_data.FrameData at 0x13aa285c0>,\n",
       "       <narupa.trajectory.frame_data.FrameData at 0x13aa28588>,\n",
       "       <narupa.trajectory.frame_data.FrameData at 0x13aa282e8>,\n",
       "       <narupa.trajectory.frame_data.FrameData at 0x13aa284e0>,\n",
       "       <narupa.trajectory.frame_data.FrameData at 0x13aa282b0>,\n",
       "       <narupa.trajectory.frame_data.FrameData at 0x13aa28390>,\n",
       "       <narupa.trajectory.frame_data.FrameData at 0x13aa1cfd0>])"
      ]
     },
     "execution_count": 13,
     "metadata": {},
     "output_type": "execute_result"
    }
   ],
   "source": [
    "client.frames"
   ]
  },
  {
   "cell_type": "code",
   "execution_count": 14,
   "metadata": {},
   "outputs": [],
   "source": [
    "client."
   ]
  },
  {
   "cell_type": "code",
   "execution_count": null,
   "metadata": {},
   "outputs": [],
   "source": [
    "client.update_interaction(interaction_id)"
   ]
  }
 ],
 "metadata": {
  "kernelspec": {
   "display_name": "Python 3",
   "language": "python",
   "name": "python3"
  },
  "language_info": {
   "codemirror_mode": {
    "name": "ipython",
    "version": 3
   },
   "file_extension": ".py",
   "mimetype": "text/x-python",
   "name": "python",
   "nbconvert_exporter": "python",
   "pygments_lexer": "ipython3",
   "version": "3.6.8"
  }
 },
 "nbformat": 4,
 "nbformat_minor": 2
}
